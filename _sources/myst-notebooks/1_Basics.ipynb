{
 "cells": [
  {
   "cell_type": "markdown",
   "id": "a947e0a7",
   "metadata": {
    "id": "X8NI2UYxmAxm"
   },
   "source": [
    "# Python basics 1\n",
    "\n",
    "This notebook contains the basics of Python. Use it as a reference whenever needed."
   ]
  },
  {
   "cell_type": "markdown",
   "id": "d93fcb1c",
   "metadata": {
    "id": "ptTHd2UqmAxo"
   },
   "source": [
    "### The Zen of Python\n",
    "\n",
    "The 20 principles that influences the design of Python. \n",
    "\n",
    "Written in the 1999, they have been included as the 20th entry of the Python Enhancement Proposals (a.k.a. [PEP 20](https://www.python.org/dev/peps/pep-0020/))."
   ]
  },
  {
   "cell_type": "code",
   "execution_count": 1,
   "id": "6be1f53f",
   "metadata": {
    "id": "EgKhcsNImAxq"
   },
   "outputs": [
    {
     "name": "stdout",
     "output_type": "stream",
     "text": [
      "The Zen of Python, by Tim Peters\n",
      "\n",
      "Beautiful is better than ugly.\n",
      "Explicit is better than implicit.\n",
      "Simple is better than complex.\n",
      "Complex is better than complicated.\n",
      "Flat is better than nested.\n",
      "Sparse is better than dense.\n",
      "Readability counts.\n",
      "Special cases aren't special enough to break the rules.\n",
      "Although practicality beats purity.\n",
      "Errors should never pass silently.\n",
      "Unless explicitly silenced.\n",
      "In the face of ambiguity, refuse the temptation to guess.\n",
      "There should be one-- and preferably only one --obvious way to do it.\n",
      "Although that way may not be obvious at first unless you're Dutch.\n",
      "Now is better than never.\n",
      "Although never is often better than *right* now.\n",
      "If the implementation is hard to explain, it's a bad idea.\n",
      "If the implementation is easy to explain, it may be a good idea.\n",
      "Namespaces are one honking great idea -- let's do more of those!\n"
     ]
    }
   ],
   "source": [
    "# easter egg\n",
    "import this"
   ]
  },
  {
   "cell_type": "markdown",
   "id": "5e7a1442",
   "metadata": {
    "id": "K7yP9VRcmAxr"
   },
   "source": [
    "> *In December 1989, Van Rossum had been looking for a 'hobby' programming project that would keep him occupied during the week around Christmas\" as his office was closed when he decided to write an interpreter for a \"new scripting language he had been thinking about lately: a descendant of ABC that would appeal to Unix/C hackers\". He attributes choosing the name \"Python\" to \"being in a slightly irreverent mood (and a big fan of Monty Python's Flying Circus)\".* \n",
    "\n",
    "Taken from: https://en.wikipedia.org/wiki/Guido_van_Rossum"
   ]
  },
  {
   "cell_type": "markdown",
   "id": "0e141aee",
   "metadata": {
    "id": "JxsAcPsGmAxs"
   },
   "source": [
    "## Getting Started\n",
    "_See the previous [0. Hello World notebook](0_HelloWorld.ipynb) to check if your Python installation is up and running_\n",
    "\n",
    "The simplest way is to type commands directly in the **Interactive** IPython shell:"
   ]
  },
  {
   "cell_type": "code",
   "execution_count": 2,
   "id": "9fdd43d8",
   "metadata": {
    "id": "YdFO7KTxmAxt"
   },
   "outputs": [
    {
     "name": "stdout",
     "output_type": "stream",
     "text": [
      "Are we having fun yet?\n"
     ]
    }
   ],
   "source": [
    "print(\"Are we having fun yet?\")"
   ]
  },
  {
   "cell_type": "markdown",
   "id": "64a7f341",
   "metadata": {
    "id": "ZuIak2fwmQSP"
   },
   "source": [
    "If you are using **Google Colab**, you can bring up an interactive shell by using !bash and then asking it to run Python 3 (type python3 into the input field once bash loads, and then execute commands):"
   ]
  },
  {
   "cell_type": "code",
   "execution_count": 3,
   "id": "c0f52603",
   "metadata": {
    "id": "0VVoKA3YmRda"
   },
   "outputs": [],
   "source": [
    "# !bash"
   ]
  },
  {
   "cell_type": "markdown",
   "id": "a7757e47",
   "metadata": {
    "id": "CIMcx-QHmans"
   },
   "source": [
    "This is great for testing purposes, or for exploratory analysis, but it is very inefficient if you want to reuse the same program multiple times. Instead, what you will do in this course is to write your instructions in a Jupyter Notebook, in which you can also explain your code to the reader using text blocks, and which can be loaded by Google Colab or Jupyter Notebook in Anaconda."
   ]
  },
  {
   "cell_type": "markdown",
   "id": "2ea4bc7e",
   "metadata": {
    "id": "BZxSNCNtmAxt"
   },
   "source": [
    "The basic interface of Jupyter notebooks:"
   ]
  },
  {
   "cell_type": "markdown",
   "id": "c5228d24",
   "metadata": {
    "id": "wY7z_gBUmAxu"
   },
   "source": [
    "```{image} images/notebook-ui.png\n",
    ":alt: notebookexplained\n",
    "```"
   ]
  },
  {
   "cell_type": "markdown",
   "id": "e7ad3c2b",
   "metadata": {
    "id": "dnEQeu_9mAxu"
   },
   "source": [
    "```{admonition} Tip\n",
    ":class: tip\n",
    "Save your work periodically! All your unsaved code is lost when your browser with Google Colab or your Python interpretor crashes/stalls!\n",
    "```"
   ]
  },
  {
   "cell_type": "markdown",
   "id": "2b8de6f3",
   "metadata": {
    "id": "IVFjzAAimAxw"
   },
   "source": [
    "## Variables\n",
    "\n",
    "Variables are reserved **memory locations** used by a computer program.\n",
    "\n",
    "Each variable is associated with an **identifier** (i.e. a name). Python restricts the naming possibilities of a variable:\n",
    "\n",
    "- identifier characters may be letters, digits or underscores...\n",
    "\n",
    "- ... but the first character cannot be a number\n",
    "\n",
    "- Python keywords (= words that have a special function/meaning in the Python language) cannot be used as identifiers"
   ]
  },
  {
   "cell_type": "markdown",
   "id": "3648f54f",
   "metadata": {
    "id": "qcOmr7rvmAxx"
   },
   "source": [
    "A list of these special keywords can be retrieved by importing the `keywords` module and by printing the `kwlist` attribute."
   ]
  },
  {
   "cell_type": "code",
   "execution_count": 4,
   "id": "a1e2d31d",
   "metadata": {
    "id": "7zlxy3mHmAxy"
   },
   "outputs": [
    {
     "name": "stdout",
     "output_type": "stream",
     "text": [
      "['False', 'None', 'True', 'and', 'as', 'assert', 'async', 'await', 'break', 'class', 'continue', 'def', 'del', 'elif', 'else', 'except', 'finally', 'for', 'from', 'global', 'if', 'import', 'in', 'is', 'lambda', 'nonlocal', 'not', 'or', 'pass', 'raise', 'return', 'try', 'while', 'with', 'yield']\n"
     ]
    }
   ],
   "source": [
    "# list of Python keywords\n",
    "import keyword\n",
    "print(keyword.kwlist)"
   ]
  },
  {
   "cell_type": "markdown",
   "id": "4c2d2e95",
   "metadata": {
    "id": "KDRLgtr7mAxz"
   },
   "source": [
    "We're not going to use all these keywords in the code we're writing for this course. You'll get to know the most imortant ones soon enough. Luckily, Jupyter provides some syntax highlighting to let you know that you're typing a Python keyword, and to make you code easier to grasp.\n",
    "\n",
    "If you use one of these keywords as the name for a variable, the Python interpreter, which checks and compiles your code so that the computer can run it, will raise an error."
   ]
  },
  {
   "cell_type": "code",
   "execution_count": 5,
   "id": "f21cc8d2",
   "metadata": {
    "id": "OOy_sqxKmAxz"
   },
   "outputs": [
    {
     "ename": "SyntaxError",
     "evalue": "cannot assign to None (2683696864.py, line 2)",
     "output_type": "error",
     "traceback": [
      "\u001b[0;36m  Input \u001b[0;32mIn [5]\u001b[0;36m\u001b[0m\n\u001b[0;31m    None = 10\u001b[0m\n\u001b[0m    ^\u001b[0m\n\u001b[0;31mSyntaxError\u001b[0m\u001b[0;31m:\u001b[0m cannot assign to None\n"
     ]
    }
   ],
   "source": [
    "# Nope.\n",
    "None = 10"
   ]
  },
  {
   "cell_type": "code",
   "execution_count": 6,
   "id": "33f2d916",
   "metadata": {
    "id": "CeYIyT5vmAx0"
   },
   "outputs": [
    {
     "ename": "SyntaxError",
     "evalue": "invalid syntax (2708274226.py, line 2)",
     "output_type": "error",
     "traceback": [
      "\u001b[0;36m  Input \u001b[0;32mIn [6]\u001b[0;36m\u001b[0m\n\u001b[0;31m    pass = True\u001b[0m\n\u001b[0m         ^\u001b[0m\n\u001b[0;31mSyntaxError\u001b[0m\u001b[0;31m:\u001b[0m invalid syntax\n"
     ]
    }
   ],
   "source": [
    "# This syntax is NOT valid\n",
    "pass = True"
   ]
  },
  {
   "cell_type": "markdown",
   "id": "c402647c",
   "metadata": {
    "id": "QiRXsrhQmAx0"
   },
   "source": [
    " \n",
    "```{warning}\n",
    "The Python interpreter does not always return such an error. It is possible to declare variables with names such as `list` or `id`, even though these are built-in functions of Python. This probably gives unwanted results in the rest of your code. Avoid _hijacking_ them!\n",
    "```"
   ]
  },
  {
   "cell_type": "code",
   "execution_count": 7,
   "id": "78e6fbc8",
   "metadata": {
    "id": "vUHU0-d9mAx1"
   },
   "outputs": [],
   "source": [
    "# Valid!\n",
    "oceans11 = \"https://www.imdb.com/title/tt0240772/\""
   ]
  },
  {
   "cell_type": "code",
   "execution_count": 8,
   "id": "5d77d75e",
   "metadata": {
    "id": "5NG9MpHymAx1"
   },
   "outputs": [
    {
     "ename": "SyntaxError",
     "evalue": "invalid syntax (2209490399.py, line 2)",
     "output_type": "error",
     "traceback": [
      "\u001b[0;36m  Input \u001b[0;32mIn [8]\u001b[0;36m\u001b[0m\n\u001b[0;31m    101dalmatians = \"https://www.imdb.com/title/tt0115433/\"\u001b[0m\n\u001b[0m       ^\u001b[0m\n\u001b[0;31mSyntaxError\u001b[0m\u001b[0;31m:\u001b[0m invalid syntax\n"
     ]
    }
   ],
   "source": [
    "# Not valid\n",
    "101dalmatians = \"https://www.imdb.com/title/tt0115433/\""
   ]
  },
  {
   "cell_type": "code",
   "execution_count": 9,
   "id": "5c2ce25a",
   "metadata": {
    "id": "KwEkFbSCmAx2"
   },
   "outputs": [],
   "source": [
    "# Valid\n",
    "hundred_and_one_dalmatians = \"https://www.imdb.com/title/tt0115433/\""
   ]
  },
  {
   "cell_type": "markdown",
   "id": "6ed0f3ec",
   "metadata": {
    "id": "2zXmXJjJmAx2"
   },
   "source": [
    "Keep in mind that all code you write is case sensitive. Although the following is allowed,\n",
    "\n",
    "```\n",
    "# Very bad coding example\n",
    "true = False  # the keyword True has a capital letter\n",
    "```\n",
    "\n",
    "it is better to stay away from naming your variables this way! What counts is that you give the variable a name that makes sense. But, make sure that they start with a lowercase letter! (= naming convention)"
   ]
  },
  {
   "cell_type": "markdown",
   "id": "a4083477",
   "metadata": {
    "id": "Pbuw6-3fmAx2"
   },
   "source": [
    "### Declaring variables\n",
    "\n",
    "Python does not require variables to be declared explicitly, unlike what is common in some other programming languages. In Python, variables are created when you first assign a value to them and you can declare them on the go and where needed.\n",
    "\n",
    "The symbol `=` is used to assign values to variables."
   ]
  },
  {
   "cell_type": "code",
   "execution_count": 10,
   "id": "586750d0",
   "metadata": {
    "id": "HstJJsPamAx3"
   },
   "outputs": [],
   "source": [
    "# Let's associate the value 55 to the variable named \"lucky_number\"\n",
    "lucky_number = 55"
   ]
  },
  {
   "cell_type": "code",
   "execution_count": 11,
   "id": "6d5477b3",
   "metadata": {
    "id": "_eYFc0G3mAx3"
   },
   "outputs": [
    {
     "data": {
      "text/plain": [
       "55"
      ]
     },
     "execution_count": 11,
     "metadata": {},
     "output_type": "execute_result"
    }
   ],
   "source": [
    "lucky_number"
   ]
  },
  {
   "cell_type": "markdown",
   "id": "02d65e83",
   "metadata": {
    "id": "vriubYbimAx4"
   },
   "source": [
    "This variable is now declared and has been assigned the number 55. When you run the cell in this notebook, the variable is kept in the notebook's memory. This means that we can call it in other cells we run _after_ the cell in which we declared the variable."
   ]
  },
  {
   "cell_type": "markdown",
   "id": "7af4ab16",
   "metadata": {
    "id": "NcX--6p6mAx4"
   },
   "source": [
    "One of the built-in functions of Python is the `type()` function, by which you can inspect the type of value that is assigned to the variable. You can use this function on any Python 'object'."
   ]
  },
  {
   "cell_type": "code",
   "execution_count": 12,
   "id": "b13f4c27",
   "metadata": {
    "id": "Pd3xBsXzmAx4"
   },
   "outputs": [
    {
     "data": {
      "text/plain": [
       "int"
      ]
     },
     "execution_count": 12,
     "metadata": {},
     "output_type": "execute_result"
    }
   ],
   "source": [
    "# The type of value of the variable can be inspected with the function type()\n",
    "type(lucky_number)"
   ]
  },
  {
   "cell_type": "markdown",
   "id": "4098f293",
   "metadata": {
    "id": "eo7LK8rimAx4"
   },
   "source": [
    "### Changing variables\n",
    "You can change the value that is assigned to a variable. In Python, this is NOT restricted to a change within the same datatype."
   ]
  },
  {
   "cell_type": "code",
   "execution_count": 13,
   "id": "987d21d0",
   "metadata": {
    "id": "Xekp7V9GmAx4"
   },
   "outputs": [
    {
     "name": "stdout",
     "output_type": "stream",
     "text": [
      "55 <class 'int'>\n",
      "55 <class 'str'>\n"
     ]
    }
   ],
   "source": [
    "# Let's print the initial value of the variable and its type\n",
    "print(lucky_number, type(lucky_number))\n",
    "\n",
    "# Now convert our numerical variable into a digit (i.e. into text)\n",
    "lucky_number = str(lucky_number)\n",
    "\n",
    "# Do the same printing\n",
    "print(lucky_number, type(lucky_number))"
   ]
  },
  {
   "cell_type": "code",
   "execution_count": 14,
   "id": "371b3ab8",
   "metadata": {
    "id": "vm4AOh_FmAx5"
   },
   "outputs": [
    {
     "data": {
      "text/plain": [
       "'55'"
      ]
     },
     "execution_count": 14,
     "metadata": {},
     "output_type": "execute_result"
    }
   ],
   "source": [
    "lucky_number"
   ]
  },
  {
   "cell_type": "markdown",
   "id": "07a8fdca",
   "metadata": {
    "id": "Yp9ZHJXamAx5"
   },
   "source": [
    "As you saw above, converting any datatype to a text (=string) can be done using the `str()` function. This is for instance usefull if you want to dynamically format the messages that are printed."
   ]
  },
  {
   "cell_type": "code",
   "execution_count": 15,
   "id": "a15eedad",
   "metadata": {
    "id": "0nBI5XG6mAx5"
   },
   "outputs": [
    {
     "name": "stdout",
     "output_type": "stream",
     "text": [
      "My lucky number is 55\n"
     ]
    }
   ],
   "source": [
    "message = \"My lucky number is \" + lucky_number  # this only works if lucky_number is of type str()\n",
    "print(message)"
   ]
  },
  {
   "cell_type": "code",
   "execution_count": 16,
   "id": "f24a81ad",
   "metadata": {
    "id": "827G0uZmmAx5"
   },
   "outputs": [
    {
     "ename": "TypeError",
     "evalue": "can only concatenate str (not \"int\") to str",
     "output_type": "error",
     "traceback": [
      "\u001b[0;31m---------------------------------------------------------------------------\u001b[0m",
      "\u001b[0;31mTypeError\u001b[0m                                 Traceback (most recent call last)",
      "Input \u001b[0;32mIn [16]\u001b[0m, in \u001b[0;36m<cell line: 2>\u001b[0;34m()\u001b[0m\n\u001b[1;32m      1\u001b[0m unlucky_number \u001b[38;5;241m=\u001b[39m \u001b[38;5;241m13\u001b[39m\n\u001b[0;32m----> 2\u001b[0m message \u001b[38;5;241m=\u001b[39m \u001b[38;5;124;43m\"\u001b[39;49m\u001b[38;5;124;43mMy unlucky number is \u001b[39;49m\u001b[38;5;124;43m\"\u001b[39;49m\u001b[43m \u001b[49m\u001b[38;5;241;43m+\u001b[39;49m\u001b[43m \u001b[49m\u001b[43munlucky_number\u001b[49m  \u001b[38;5;66;03m# what is the datatype of unlucky_number?\u001b[39;00m\n\u001b[1;32m      3\u001b[0m \u001b[38;5;28mprint\u001b[39m(message)\n",
      "\u001b[0;31mTypeError\u001b[0m: can only concatenate str (not \"int\") to str"
     ]
    }
   ],
   "source": [
    "unlucky_number = 13\n",
    "message = \"My unlucky number is \" + unlucky_number  # what is the datatype of unlucky_number?\n",
    "print(message)"
   ]
  },
  {
   "cell_type": "markdown",
   "id": "875c9f8c",
   "metadata": {
    "id": "KtfFGIadmAx7"
   },
   "source": [
    "How can the error above be fixed?"
   ]
  },
  {
   "cell_type": "markdown",
   "id": "0b14f58e",
   "metadata": {
    "id": "E3AhPD8amAx7"
   },
   "source": [
    "---"
   ]
  },
  {
   "cell_type": "markdown",
   "id": "b90fa8a9",
   "metadata": {
    "id": "k7nyhryYmAx7"
   },
   "source": [
    "## Built-in data types\n",
    "\n",
    "Python natively supports the following basic types:\n",
    "\n",
    "- **Boolean**: *bool*\n",
    "\n",
    "- **None**: *NoneType*\n",
    "\n",
    "- **Numerical**: *int*, *float*, *long*, *complex*\n",
    "\n",
    "- **Sequence**: *string*, *list*, *tuple*\n",
    "\n",
    "- **Set**: *set*, *frozenset*\n",
    "\n",
    "- **Dictionaries**"
   ]
  },
  {
   "cell_type": "markdown",
   "id": "27234e8c",
   "metadata": {
    "id": "HkkC6WNsmAx7"
   },
   "source": [
    "#### Mutable vs. Immutable objects\n",
    "\n",
    "Python data types can be organized by distinguishing those types whose objects can change after their creation (**Mutable**) and those that do not admit such possibility (**Immutable**). If a variable is of a mutable datatype, you can _overwrite_ its value, instead of creating a new object. Assigning a new value to an existing variable is always possible. \n",
    "\n",
    "| Immutables|   Mutables|\n",
    "|:---------:|:---------:|\n",
    "|  Numerical|          -|\n",
    "|     String|          -|\n",
    "|      Tuple|       List|\n",
    "|  Frozenset|        Set|\n",
    "|          -| Dictionary|"
   ]
  },
  {
   "cell_type": "markdown",
   "id": "afe9fc84",
   "metadata": {
    "id": "MInY1pyomAx7"
   },
   "source": [
    "### NoneType\n",
    "\n",
    "It has one sole value: `None`. It is used to represent the absence of a value."
   ]
  },
  {
   "cell_type": "markdown",
   "id": "365740f1",
   "metadata": {
    "id": "ZhQswr1NmAx8"
   },
   "source": [
    "### bool\n",
    "\n",
    "Boolean logical values, can be `True` or `False`.\n",
    "\n",
    "To be used to represent the truth or falsity of some condition."
   ]
  },
  {
   "cell_type": "markdown",
   "id": "ea16623c",
   "metadata": {
    "id": "KrvKab04mAx8"
   },
   "source": [
    "#### Boolean Operators\n",
    "\n",
    "- **and**: conjunction\n",
    "- **or**: inclusive disjunction\n",
    "- **not**: negation"
   ]
  },
  {
   "cell_type": "code",
   "execution_count": 17,
   "id": "fc7bd2c3",
   "metadata": {
    "id": "RgvO2P5DmAx8"
   },
   "outputs": [
    {
     "data": {
      "text/plain": [
       "True"
      ]
     },
     "execution_count": 17,
     "metadata": {},
     "output_type": "execute_result"
    }
   ],
   "source": [
    "True and False or True"
   ]
  },
  {
   "cell_type": "code",
   "execution_count": 18,
   "id": "8179cb22",
   "metadata": {
    "id": "L4HP6n01mAx8"
   },
   "outputs": [
    {
     "data": {
      "text/plain": [
       "True"
      ]
     },
     "execution_count": 18,
     "metadata": {},
     "output_type": "execute_result"
    }
   ],
   "source": [
    "not True == False"
   ]
  },
  {
   "cell_type": "code",
   "execution_count": 19,
   "id": "d04765bd",
   "metadata": {
    "id": "v3rxqdH4mAx9"
   },
   "outputs": [
    {
     "ename": "SyntaxError",
     "evalue": "invalid syntax (3887445052.py, line 2)",
     "output_type": "error",
     "traceback": [
      "\u001b[0;36m  Input \u001b[0;32mIn [19]\u001b[0;36m\u001b[0m\n\u001b[0;31m    True == not False\u001b[0m\n\u001b[0m            ^\u001b[0m\n\u001b[0;31mSyntaxError\u001b[0m\u001b[0;31m:\u001b[0m invalid syntax\n"
     ]
    }
   ],
   "source": [
    "# Why does this give an error?\n",
    "True == not False"
   ]
  },
  {
   "cell_type": "code",
   "execution_count": 20,
   "id": "b3c81736",
   "metadata": {
    "id": "dQEQea5VmAx9"
   },
   "outputs": [
    {
     "data": {
      "text/plain": [
       "True"
      ]
     },
     "execution_count": 20,
     "metadata": {},
     "output_type": "execute_result"
    }
   ],
   "source": [
    "True == (not False)"
   ]
  },
  {
   "cell_type": "markdown",
   "id": "0f5e1b55",
   "metadata": {
    "id": "QJfCmr0imAx9"
   },
   "source": [
    "### Numerical Types\n",
    "\n",
    "- **int**: integers, e.g. `42`\n",
    "- **long**: long integers of non-limited length, e.g. `15L`\n",
    "- **float**: floating-point numbers, e.g. `8.75638`\n",
    "- **complex**: complex numbers, e.g. `1.23+4.56j`\n",
    "\n",
    "Most likely, the only two datatypes you'll be using are integer (`int()`) and float (`float()`)."
   ]
  },
  {
   "cell_type": "markdown",
   "id": "a38622dd",
   "metadata": {
    "id": "j7SHu6NNmAx9"
   },
   "source": [
    "#### Using Python as a Calculator\n",
    "\n",
    "The simplest way to perform calculations with Python is by using the interactive shell as a fancy calculator. \n",
    "\n",
    "Some of the operations supported by all the numeric types are:"
   ]
  },
  {
   "cell_type": "code",
   "execution_count": 21,
   "id": "a4487e77",
   "metadata": {
    "id": "gMMNfzMhmAx-"
   },
   "outputs": [
    {
     "data": {
      "text/plain": [
       "8"
      ]
     },
     "execution_count": 21,
     "metadata": {},
     "output_type": "execute_result"
    }
   ],
   "source": [
    "# addition\n",
    "3 + 5"
   ]
  },
  {
   "cell_type": "code",
   "execution_count": 22,
   "id": "ab232565",
   "metadata": {
    "id": "bYJcbGoomAx-"
   },
   "outputs": [
    {
     "data": {
      "text/plain": [
       "4"
      ]
     },
     "execution_count": 22,
     "metadata": {},
     "output_type": "execute_result"
    }
   ],
   "source": [
    "# difference\n",
    "9 - 5"
   ]
  },
  {
   "cell_type": "code",
   "execution_count": 23,
   "id": "53a88ef7",
   "metadata": {
    "id": "6I7SRNHHmAx-"
   },
   "outputs": [
    {
     "data": {
      "text/plain": [
       "450"
      ]
     },
     "execution_count": 23,
     "metadata": {},
     "output_type": "execute_result"
    }
   ],
   "source": [
    "# product\n",
    "9 * 50"
   ]
  },
  {
   "cell_type": "code",
   "execution_count": 24,
   "id": "08b263f2",
   "metadata": {
    "id": "8BATUPmTmAx-"
   },
   "outputs": [
    {
     "data": {
      "text/plain": [
       "4.5"
      ]
     },
     "execution_count": 24,
     "metadata": {},
     "output_type": "execute_result"
    }
   ],
   "source": [
    "# quotient\n",
    "9 / 2"
   ]
  },
  {
   "cell_type": "code",
   "execution_count": 25,
   "id": "64beca96",
   "metadata": {
    "id": "vxUBiLgvmAx_"
   },
   "outputs": [
    {
     "data": {
      "text/plain": [
       "4"
      ]
     },
     "execution_count": 25,
     "metadata": {},
     "output_type": "execute_result"
    }
   ],
   "source": [
    "# Floor division\n",
    "9 // 2"
   ]
  },
  {
   "cell_type": "code",
   "execution_count": 26,
   "id": "6ec6151a",
   "metadata": {
    "id": "k1FBwTUrmAyA"
   },
   "outputs": [
    {
     "data": {
      "text/plain": [
       "1"
      ]
     },
     "execution_count": 26,
     "metadata": {},
     "output_type": "execute_result"
    }
   ],
   "source": [
    "# The remainder of the floored quotient\n",
    "9 % 2"
   ]
  },
  {
   "cell_type": "markdown",
   "id": "b8e8c10d",
   "metadata": {
    "id": "lrfvNMITmAyA"
   },
   "source": [
    "You can combine the floor division and the remainder by using the built-in function `divmod()` ([manual](https://docs.python.org/3.8/library/functions.html#divmod))"
   ]
  },
  {
   "cell_type": "code",
   "execution_count": 27,
   "id": "a109a7ee",
   "metadata": {
    "id": "1OEsdXnSmAyA"
   },
   "outputs": [
    {
     "data": {
      "text/plain": [
       "(4, 1)"
      ]
     },
     "execution_count": 27,
     "metadata": {},
     "output_type": "execute_result"
    }
   ],
   "source": [
    "divmod(9,2)"
   ]
  },
  {
   "cell_type": "code",
   "execution_count": 28,
   "id": "d397695d",
   "metadata": {
    "id": "tO9O0Xa4mAyB"
   },
   "outputs": [
    {
     "data": {
      "text/plain": [
       "9"
      ]
     },
     "execution_count": 28,
     "metadata": {},
     "output_type": "execute_result"
    }
   ],
   "source": [
    "# x to the power of y\n",
    "3 ** 2"
   ]
  },
  {
   "cell_type": "markdown",
   "id": "9a5a9c41",
   "metadata": {
    "id": "Wd9KcfeamAyB"
   },
   "source": [
    "Alternatively, use the built-in function `pow()` ([manual](https://docs.python.org/3.8/library/functions.html#pow))"
   ]
  },
  {
   "cell_type": "code",
   "execution_count": 29,
   "id": "ddcfcb84",
   "metadata": {
    "id": "9zMIXug6mAyC"
   },
   "outputs": [
    {
     "data": {
      "text/plain": [
       "9"
      ]
     },
     "execution_count": 29,
     "metadata": {},
     "output_type": "execute_result"
    }
   ],
   "source": [
    "pow(3, 2)"
   ]
  },
  {
   "cell_type": "code",
   "execution_count": 30,
   "id": "3f873f44",
   "metadata": {
    "id": "HHYV_MUomAyC"
   },
   "outputs": [
    {
     "data": {
      "text/plain": [
       "1.77"
      ]
     },
     "execution_count": 30,
     "metadata": {},
     "output_type": "execute_result"
    }
   ],
   "source": [
    "# Round a number to a given precision in decimal digits (default 0 digits)\n",
    "round(1.765432, 2)"
   ]
  },
  {
   "cell_type": "markdown",
   "id": "0f887f7b",
   "metadata": {
    "id": "DhTlM6CUmAyD"
   },
   "source": [
    "---"
   ]
  },
  {
   "cell_type": "markdown",
   "id": "1b104be8",
   "metadata": {
    "id": "GUCH2yFpmAyD"
   },
   "source": [
    "### Quiz\n",
    "\n",
    "Calculate the number of seconds we're going to spend in this classroom together."
   ]
  },
  {
   "cell_type": "code",
   "execution_count": 31,
   "id": "6298ae24",
   "metadata": {
    "id": "YznnllDzmAyD"
   },
   "outputs": [],
   "source": [
    "# your code here"
   ]
  },
  {
   "cell_type": "markdown",
   "id": "64854942",
   "metadata": {
    "id": "2SxlzhghmAyD"
   },
   "source": [
    "---"
   ]
  },
  {
   "cell_type": "markdown",
   "id": "3f8ca2b4",
   "metadata": {
    "id": "OdGDe0KbmAyE"
   },
   "source": [
    "## Changing variables\n",
    "While the previous operators produce new variables, the following perform the operation **in-place**. \n",
    "\n",
    "That is, the variable itself is changed in the result of the process."
   ]
  },
  {
   "cell_type": "code",
   "execution_count": 32,
   "id": "9ca312ee",
   "metadata": {
    "id": "cMPYHxWlmAyE"
   },
   "outputs": [
    {
     "data": {
      "text/plain": [
       "8"
      ]
     },
     "execution_count": 32,
     "metadata": {},
     "output_type": "execute_result"
    }
   ],
   "source": [
    "# Our variable\n",
    "magic_number = 8\n",
    "magic_number"
   ]
  },
  {
   "cell_type": "code",
   "execution_count": 33,
   "id": "b6b834de",
   "metadata": {
    "id": "h94rfMISmAyE"
   },
   "outputs": [
    {
     "data": {
      "text/plain": [
       "11"
      ]
     },
     "execution_count": 33,
     "metadata": {},
     "output_type": "execute_result"
    }
   ],
   "source": [
    "# In place addition\n",
    "magic_number += 3\n",
    "magic_number"
   ]
  },
  {
   "cell_type": "code",
   "execution_count": 34,
   "id": "157caad3",
   "metadata": {
    "id": "SdRh9HVPmAyF"
   },
   "outputs": [
    {
     "data": {
      "text/plain": [
       "14"
      ]
     },
     "execution_count": 34,
     "metadata": {},
     "output_type": "execute_result"
    }
   ],
   "source": [
    "# Is the same as\n",
    "# In place addition\n",
    "magic_number = magic_number + 3\n",
    "magic_number"
   ]
  },
  {
   "cell_type": "code",
   "execution_count": 35,
   "id": "94c0db76",
   "metadata": {
    "id": "m_tcBfN-mAyF"
   },
   "outputs": [
    {
     "data": {
      "text/plain": [
       "11"
      ]
     },
     "execution_count": 35,
     "metadata": {},
     "output_type": "execute_result"
    }
   ],
   "source": [
    "# In place subtraction\n",
    "magic_number -= 3\n",
    "magic_number"
   ]
  },
  {
   "cell_type": "code",
   "execution_count": 36,
   "id": "ecdda125",
   "metadata": {
    "id": "xDjozll6mAyF"
   },
   "outputs": [
    {
     "data": {
      "text/plain": [
       "33"
      ]
     },
     "execution_count": 36,
     "metadata": {},
     "output_type": "execute_result"
    }
   ],
   "source": [
    "# In place multiplication\n",
    "magic_number *= 3\n",
    "magic_number"
   ]
  },
  {
   "cell_type": "code",
   "execution_count": 37,
   "id": "1febf0e7",
   "metadata": {
    "id": "xoG69qPImAyG"
   },
   "outputs": [
    {
     "data": {
      "text/plain": [
       "11.0"
      ]
     },
     "execution_count": 37,
     "metadata": {},
     "output_type": "execute_result"
    }
   ],
   "source": [
    "# In place division. What's the datatype after this operation?\n",
    "magic_number /= 3\n",
    "magic_number"
   ]
  },
  {
   "cell_type": "code",
   "execution_count": 38,
   "id": "f9645179",
   "metadata": {
    "id": "qGhhbpoTmAyG"
   },
   "outputs": [
    {
     "data": {
      "text/plain": [
       "2.0"
      ]
     },
     "execution_count": 38,
     "metadata": {},
     "output_type": "execute_result"
    }
   ],
   "source": [
    "# In place modulus\n",
    "magic_number %= 3\n",
    "magic_number"
   ]
  },
  {
   "cell_type": "markdown",
   "id": "739c7188",
   "metadata": {
    "id": "eY8vfIm-mAyG"
   },
   "source": [
    "### Relational Operators\n",
    "\n",
    "Comparisons are supported by all objects. The main comparison operators are:\n",
    "\n",
    "|   Operator|                Semantics|\n",
    "|:---------:|:-----------------------:|\n",
    "|         ==|                    equal|\n",
    "|         !=|                not equal|\n",
    "|          <|                less-than|\n",
    "|         <=|    less-than or equal to|\n",
    "|          >|             greater-then|\n",
    "|         >=| greater-then or equal to|\n",
    "|         is| object identity|\n",
    "|         is not| negated object identity|\n",
    "\n",
    "Relational operators are used to **test conditions**, and the output is a boolean value"
   ]
  },
  {
   "cell_type": "code",
   "execution_count": 39,
   "id": "c4a904f2",
   "metadata": {
    "id": "NRWeAtvRmAyG"
   },
   "outputs": [
    {
     "data": {
      "text/plain": [
       "False"
      ]
     },
     "execution_count": 39,
     "metadata": {},
     "output_type": "execute_result"
    }
   ],
   "source": [
    "# Is 7 bigger than 9?\n",
    "7 > 9"
   ]
  },
  {
   "cell_type": "code",
   "execution_count": 40,
   "id": "efafd59e",
   "metadata": {
    "id": "P55BfwjOmAyH"
   },
   "outputs": [
    {
     "data": {
      "text/plain": [
       "True"
      ]
     },
     "execution_count": 40,
     "metadata": {},
     "output_type": "execute_result"
    }
   ],
   "source": [
    "# Is 10 smaller than or equal to 10?\n",
    "10 <= 10"
   ]
  },
  {
   "cell_type": "code",
   "execution_count": 41,
   "id": "175babae",
   "metadata": {
    "id": "9STDLb1LmAyH"
   },
   "outputs": [
    {
     "data": {
      "text/plain": [
       "True"
      ]
     },
     "execution_count": 41,
     "metadata": {},
     "output_type": "execute_result"
    }
   ],
   "source": [
    "10 != \"10\""
   ]
  },
  {
   "cell_type": "markdown",
   "id": "9f4d1e95",
   "metadata": {
    "id": "y264OyLomAyH"
   },
   "source": [
    "```{note}\n",
    "`is` checks if two things **are the same object, and have the same identity in memory**, not just if they are equal\n",
    "```"
   ]
  },
  {
   "cell_type": "code",
   "execution_count": 42,
   "id": "1b54c669",
   "metadata": {
    "id": "l-Dj5xBRmAyH"
   },
   "outputs": [
    {
     "name": "stdout",
     "output_type": "stream",
     "text": [
      "True\n",
      "False\n"
     ]
    },
    {
     "name": "stderr",
     "output_type": "stream",
     "text": [
      "<>:3: SyntaxWarning: \"is\" with a literal. Did you mean \"==\"?\n",
      "<>:3: SyntaxWarning: \"is\" with a literal. Did you mean \"==\"?\n",
      "/tmp/ipykernel_25093/1224863327.py:3: SyntaxWarning: \"is\" with a literal. Did you mean \"==\"?\n",
      "  print(False is 0)\n"
     ]
    }
   ],
   "source": [
    "# The value 0 (of any numerical type) is considered to be False, but 0 is not False\n",
    "print(False == 0)\n",
    "print(False is 0)"
   ]
  },
  {
   "cell_type": "code",
   "execution_count": 43,
   "id": "c3e31370",
   "metadata": {
    "id": "0M0LckUPmAyI"
   },
   "outputs": [
    {
     "name": "stdout",
     "output_type": "stream",
     "text": [
      "True\n",
      "False\n"
     ]
    },
    {
     "name": "stderr",
     "output_type": "stream",
     "text": [
      "<>:2: SyntaxWarning: \"is\" with a literal. Did you mean \"==\"?\n",
      "<>:2: SyntaxWarning: \"is\" with a literal. Did you mean \"==\"?\n",
      "/tmp/ipykernel_25093/4245534013.py:2: SyntaxWarning: \"is\" with a literal. Did you mean \"==\"?\n",
      "  print(True is 1)\n"
     ]
    }
   ],
   "source": [
    "print(True == 1)\n",
    "print(True is 1)"
   ]
  },
  {
   "cell_type": "code",
   "execution_count": 44,
   "id": "9d5f368f",
   "metadata": {
    "id": "PblcQSVjmAyI"
   },
   "outputs": [
    {
     "name": "stdout",
     "output_type": "stream",
     "text": [
      "True\n"
     ]
    }
   ],
   "source": [
    "unassigned = None\n",
    "print(unassigned is None)"
   ]
  },
  {
   "cell_type": "code",
   "execution_count": 45,
   "id": "dd1e08e4",
   "metadata": {
    "id": "zQRbeEDCmAyI"
   },
   "outputs": [
    {
     "name": "stdout",
     "output_type": "stream",
     "text": [
      "True\n",
      "False\n"
     ]
    }
   ],
   "source": [
    "assigned = 0\n",
    "print(assigned == False)\n",
    "print(assigned is False)"
   ]
  },
  {
   "cell_type": "markdown",
   "id": "b952b8cb",
   "metadata": {
    "id": "wIFEfhP9mAyJ"
   },
   "source": [
    "### Quiz\n",
    "\n",
    "When to use the `is` statement? And how does it differ from `==`? Can you illustrate this with an example? How is this related to Python's memory management?\n",
    "\n",
    "```{admonition} Tip\n",
    ":class: tip\n",
    "More info on the `id()` function in this ([thread](https://stackoverflow.com/questions/132988/is-there-a-difference-between-and-is))\n",
    "```"
   ]
  },
  {
   "cell_type": "code",
   "execution_count": 46,
   "id": "b5ce9e1d",
   "metadata": {
    "id": "8CSR-W6zmAyJ"
   },
   "outputs": [],
   "source": [
    "# Test this out. When is the identity of an object changed?\n",
    "# "
   ]
  },
  {
   "cell_type": "markdown",
   "id": "f28aa550",
   "metadata": {
    "id": "E6osLX-MmAyJ"
   },
   "source": [
    "---"
   ]
  },
  {
   "cell_type": "markdown",
   "id": "a175248b",
   "metadata": {
    "id": "bbse84_WmAyJ"
   },
   "source": [
    "## Iterables / sequences\n",
    "\n",
    "We will focus on three types of sequences: **strings**, **lists** and **tuples** (see the [documentation](https://docs.python.org/3.8/library/stdtypes.html#sequence-types-list-tuple-range) for the full list). \n",
    "\n",
    "Most sequence types support the following operations (where `s` and `t` are sequences, `n`, `i` and `j` integers):\n",
    "\n",
    "|   Operation|                Result|\n",
    "|:----------:|:-----------------------:|\n",
    "|      x in s|  True if an item of s is equal to x|\n",
    "|  x not in s|  False if an item of s is equal to x|\n",
    "|       s + t| Concatenation of s and t|\n",
    "|       s * n|   add s to itself n times (negative n are treated as 0)|\n",
    "|        s\\[i\\]|\tith item of s, origin 0|\n",
    "|      s\\[i:j\\]|   slice of s from i to j|\n",
    "|    s\\[i:j:k\\]| slice of s from i to j with step k|\n",
    "|      len(s)| length of s|\t \n",
    "|      min(s)| smallest item of s|\n",
    "|      max(s)| largest item of s|\n",
    "|  s.index(x)| index of the first occurrence of x in s |\n",
    "|  s.count(x)| total number of occurrences of x in s|"
   ]
  },
  {
   "cell_type": "markdown",
   "id": "e5506ee8",
   "metadata": {
    "id": "WzTk_X4rmAyK"
   },
   "source": [
    "### Lists\n",
    "\n",
    "\n",
    "Lists are **ordered** **mutable** sequences of **heterogeneous** elements.\n",
    "\n",
    "In the Python language, lists are defined by square brackets `[]` and their elements are separated by commas."
   ]
  },
  {
   "cell_type": "code",
   "execution_count": 47,
   "id": "eb3ae92d",
   "metadata": {
    "id": "OPHL6EKnmAyK"
   },
   "outputs": [
    {
     "name": "stdout",
     "output_type": "stream",
     "text": [
      "['text', 'text', 'text', 23, '42', 92, 'another text', [1, 2, 3]]\n"
     ]
    }
   ],
   "source": [
    "# Lists can contain different types of objects,\n",
    "# even another list like [1,2,3]\n",
    "\n",
    "demo_list = [\"text\", \"text\", \"text\", 23, \"42\", 92, 'another text', [1,2,3]]\n",
    "\n",
    "print(demo_list)"
   ]
  },
  {
   "cell_type": "code",
   "execution_count": 48,
   "id": "03590d02",
   "metadata": {
    "id": "hl692GQRmAyK"
   },
   "outputs": [
    {
     "data": {
      "text/plain": [
       "8"
      ]
     },
     "execution_count": 48,
     "metadata": {},
     "output_type": "execute_result"
    }
   ],
   "source": [
    "# The len() function returns the length of the list\n",
    "len(demo_list)"
   ]
  },
  {
   "cell_type": "code",
   "execution_count": 49,
   "id": "c0c546fa",
   "metadata": {
    "id": "Vy9eKYEvmAyK"
   },
   "outputs": [
    {
     "data": {
      "text/plain": [
       "True"
      ]
     },
     "execution_count": 49,
     "metadata": {},
     "output_type": "execute_result"
    }
   ],
   "source": [
    "# Membership verification (return a boolean value)\n",
    "\"text\" in demo_list"
   ]
  },
  {
   "cell_type": "code",
   "execution_count": 50,
   "id": "a0fc0090",
   "metadata": {
    "id": "6uHL_NC0mAyL"
   },
   "outputs": [
    {
     "data": {
      "text/plain": [
       "3"
      ]
     },
     "execution_count": 50,
     "metadata": {},
     "output_type": "execute_result"
    }
   ],
   "source": [
    "# Count the number of occurences of an element in the list\n",
    "demo_list.count(\"text\")"
   ]
  },
  {
   "cell_type": "code",
   "execution_count": 51,
   "id": "b5838a64",
   "metadata": {
    "id": "Jh8SxO7FmAyL"
   },
   "outputs": [
    {
     "data": {
      "text/plain": [
       "False"
      ]
     },
     "execution_count": 51,
     "metadata": {},
     "output_type": "execute_result"
    }
   ],
   "source": [
    "42 in demo_list  # Why?"
   ]
  },
  {
   "cell_type": "code",
   "execution_count": null,
   "id": "e382c0aa",
   "metadata": {
    "id": "61GQp85AmAyL"
   },
   "outputs": [],
   "source": []
  },
  {
   "cell_type": "markdown",
   "id": "761d3bd9",
   "metadata": {
    "id": "ZyCfKFIFmAyM"
   },
   "source": [
    "#### Strings"
   ]
  },
  {
   "cell_type": "markdown",
   "id": "48e932df",
   "metadata": {
    "id": "2FlXMgW_mAyM"
   },
   "source": [
    "In some ways, string behave the same as lists. For instance, you can check the length of a string, or check if a character sequence is part of a string:"
   ]
  },
  {
   "cell_type": "code",
   "execution_count": 52,
   "id": "69b545b0",
   "metadata": {
    "id": "4nqfjwbvmAyM"
   },
   "outputs": [
    {
     "name": "stdout",
     "output_type": "stream",
     "text": [
      "The length of the text is: 21\n"
     ]
    }
   ],
   "source": [
    "demo_text = \"Coding the Humanities\"\n",
    "\n",
    "print(\"The length of the text is:\", len(demo_text))"
   ]
  },
  {
   "cell_type": "code",
   "execution_count": 53,
   "id": "3c8da984",
   "metadata": {
    "id": "__LMq0LTmAyM"
   },
   "outputs": [
    {
     "name": "stdout",
     "output_type": "stream",
     "text": [
      "The word 'the' is in the string: True\n"
     ]
    }
   ],
   "source": [
    "print(\"The word 'the' is in the string:\", \"the\" in demo_text)"
   ]
  },
  {
   "cell_type": "markdown",
   "id": "a45f42b8",
   "metadata": {
    "id": "IhgK3tGHmAyM"
   },
   "source": [
    "#### List concatenation"
   ]
  },
  {
   "cell_type": "code",
   "execution_count": 54,
   "id": "ee70681b",
   "metadata": {
    "id": "coeup2rxmAyM"
   },
   "outputs": [
    {
     "data": {
      "text/plain": [
       "['Example',\n",
       " 'concatenation',\n",
       " 'text',\n",
       " 'text',\n",
       " 'text',\n",
       " 23,\n",
       " '42',\n",
       " 92,\n",
       " 'another text',\n",
       " [1, 2, 3]]"
      ]
     },
     "execution_count": 54,
     "metadata": {},
     "output_type": "execute_result"
    }
   ],
   "source": [
    "# Concatenation\n",
    "new_demo_list = [\"Example\", \"concatenation\"]\n",
    "\n",
    "new_demo_list += demo_list\n",
    "new_demo_list"
   ]
  },
  {
   "cell_type": "code",
   "execution_count": 55,
   "id": "c045d67b",
   "metadata": {
    "id": "JHIqHmhAmAyN"
   },
   "outputs": [
    {
     "data": {
      "text/plain": [
       "['text',\n",
       " 'text',\n",
       " 'text',\n",
       " 23,\n",
       " '42',\n",
       " 92,\n",
       " 'another text',\n",
       " [1, 2, 3],\n",
       " 'text',\n",
       " 'text',\n",
       " 'text',\n",
       " 23,\n",
       " '42',\n",
       " 92,\n",
       " 'another text',\n",
       " [1, 2, 3],\n",
       " 'text',\n",
       " 'text',\n",
       " 'text',\n",
       " 23,\n",
       " '42',\n",
       " 92,\n",
       " 'another text',\n",
       " [1, 2, 3]]"
      ]
     },
     "execution_count": 55,
     "metadata": {},
     "output_type": "execute_result"
    }
   ],
   "source": [
    "# Repetition\n",
    "new_demo_list = demo_list * 3\n",
    "new_demo_list"
   ]
  },
  {
   "cell_type": "markdown",
   "id": "ea0038db",
   "metadata": {
    "id": "Jz9IMwYXmAyN"
   },
   "source": [
    "#### Lists are ordered"
   ]
  },
  {
   "cell_type": "code",
   "execution_count": 56,
   "id": "b1500fa2",
   "metadata": {
    "id": "-7xaQAElmAyO"
   },
   "outputs": [
    {
     "data": {
      "text/plain": [
       "'text'"
      ]
     },
     "execution_count": 56,
     "metadata": {},
     "output_type": "execute_result"
    }
   ],
   "source": [
    "# Lists are ordered, elements can be recalled by using their index\n",
    "# Remember that the index of the first element is 0\n",
    "\n",
    "demo_list[0]"
   ]
  },
  {
   "cell_type": "code",
   "execution_count": 57,
   "id": "21d9f7ca",
   "metadata": {
    "id": "BanYs00ZmAyP"
   },
   "outputs": [
    {
     "data": {
      "text/plain": [
       "[1, 2, 3]"
      ]
     },
     "execution_count": 57,
     "metadata": {},
     "output_type": "execute_result"
    }
   ],
   "source": [
    "# The index \"-1\" is associated with the last element\n",
    "\n",
    "demo_list[-1]  # As you can see when inspecting the original demo_list, there is a list in a list"
   ]
  },
  {
   "cell_type": "code",
   "execution_count": 58,
   "id": "4393d627",
   "metadata": {
    "id": "NcD0AMSRmAyP"
   },
   "outputs": [
    {
     "data": {
      "text/plain": [
       "3"
      ]
     },
     "execution_count": 58,
     "metadata": {},
     "output_type": "execute_result"
    }
   ],
   "source": [
    "# Check the position of the element \"23\"\n",
    "\n",
    "demo_list.index(23)  # Is this the third or the fourth element?"
   ]
  },
  {
   "cell_type": "markdown",
   "id": "62814264",
   "metadata": {
    "id": "0r9LpggwmAyQ"
   },
   "source": [
    "### Quiz"
   ]
  },
  {
   "cell_type": "code",
   "execution_count": 59,
   "id": "421bf4fe",
   "metadata": {
    "id": "YeKmFSfemAyR"
   },
   "outputs": [],
   "source": [
    "# Make one list out of these two lists:\n",
    "\n",
    "first_list = [1, 2, 3, 4, 5]\n",
    "second_list = [\"One\", \"Two\", \"Three\", \"Four\", \"Five\"]\n",
    "\n",
    "# Your code here\n",
    "# all_elements =\n",
    "\n",
    "# What is the position of element \"Four\" in the new list?\n",
    "#\n",
    "\n",
    "# How many elements does this new list contain? Hint: use len(all_elements). "
   ]
  },
  {
   "cell_type": "code",
   "execution_count": 60,
   "id": "1d609708",
   "metadata": {
    "id": "GvIANk4WmAyR"
   },
   "outputs": [],
   "source": [
    "# This also works for strings (e.g. emojis). Print 200 ants in one paragraph:\n",
    "\n",
    "text = \"🐜\"\n",
    "# paragraph = \n",
    "# print(paragraph)  # TODO: Make it print 200 instead of one\n",
    "\n",
    "# Fill in (and uncomment) by using the .count() method on a string\n",
    "# antcount = \n",
    "# print(\"There are\" + str(antcount) + \"printed here\")"
   ]
  },
  {
   "cell_type": "markdown",
   "id": "272eadc3",
   "metadata": {
    "id": "WTTCR9IBmAyR"
   },
   "source": [
    "---"
   ]
  },
  {
   "cell_type": "markdown",
   "id": "532c4426",
   "metadata": {
    "id": "b3jv3Jp5mAyS"
   },
   "source": [
    "#### Slicing\n",
    "\n",
    "\n",
    "Slicing is a **computationally fast** way to extract a portion of a sequence in order to create a new sequence. \n",
    "\n",
    "Slicing Notation works in the following way:\n",
    "\n",
    "\n",
    "```\n",
    "sequence[start:stop:step]\n",
    "```"
   ]
  },
  {
   "cell_type": "markdown",
   "id": "af308c83",
   "metadata": {
    "id": "M7h--pdemAyS"
   },
   "source": [
    "##### Slicing rules\n",
    "\n",
    "- The slice of the sequence `s` from `start` to `stop` is defined as the sequence of items with index `k` such that `start` <= `k` < `stop`. \n",
    "\n",
    "\n",
    "- If `start` or `stop` is greater than len(`s`), use len(`s`). \n",
    "\n",
    "\n",
    "- If `start` is omitted or `None`, use 0. \n",
    "\n",
    "\n",
    "- If `stop` is omitted or `None`, use len(`s`). \n",
    "\n",
    "\n",
    "- If `start` or `stop` is negative, the index is relative to the end of sequence."
   ]
  },
  {
   "cell_type": "markdown",
   "id": "5c6ecfcf",
   "metadata": {
    "id": "ELFBXE9BmAyS"
   },
   "source": [
    "```{image} images/list-slicing.png\n",
    ":alt: listslicing\n",
    "```"
   ]
  },
  {
   "cell_type": "code",
   "execution_count": 61,
   "id": "26855ee5",
   "metadata": {
    "id": "04u2-bChmAyT"
   },
   "outputs": [
    {
     "name": "stdout",
     "output_type": "stream",
     "text": [
      "['text', 'text', 'text', 23, '42', 92, 'another text', [1, 2, 3]]\n"
     ]
    }
   ],
   "source": [
    "print(demo_list)"
   ]
  },
  {
   "cell_type": "code",
   "execution_count": 62,
   "id": "6507cd9f",
   "metadata": {
    "id": "EGqXF1smmAyT"
   },
   "outputs": [
    {
     "data": {
      "text/plain": [
       "[23, '42']"
      ]
     },
     "execution_count": 62,
     "metadata": {},
     "output_type": "execute_result"
    }
   ],
   "source": [
    "# Slicing with positive indices \n",
    "demo_list[3:5]"
   ]
  },
  {
   "cell_type": "code",
   "execution_count": 63,
   "id": "962d8925",
   "metadata": {
    "id": "u35EMz_tmAyT"
   },
   "outputs": [
    {
     "data": {
      "text/plain": [
       "[92, 'another text']"
      ]
     },
     "execution_count": 63,
     "metadata": {},
     "output_type": "execute_result"
    }
   ],
   "source": [
    "# Slicing works with negative indices as well \n",
    "demo_list[-3:-1]"
   ]
  },
  {
   "cell_type": "code",
   "execution_count": 64,
   "id": "e1a6fd70",
   "metadata": {
    "id": "CxGDcU82mAyU"
   },
   "outputs": [
    {
     "data": {
      "text/plain": [
       "['text', 'text', 23, '42', 92]"
      ]
     },
     "execution_count": 64,
     "metadata": {},
     "output_type": "execute_result"
    }
   ],
   "source": [
    "# Slicing works with a mixture of positive and negative indices\n",
    "demo_list[1:-2]"
   ]
  },
  {
   "cell_type": "code",
   "execution_count": 65,
   "id": "3408eadf",
   "metadata": {
    "id": "0-1j3oUymAyU"
   },
   "outputs": [
    {
     "data": {
      "text/plain": [
       "['text', 23, '42', 92, 'another text', [1, 2, 3]]"
      ]
     },
     "execution_count": 65,
     "metadata": {},
     "output_type": "execute_result"
    }
   ],
   "source": [
    "# If an index is omitted, Python reaches the first or the last element of the list\n",
    "demo_list[2:]"
   ]
  },
  {
   "cell_type": "code",
   "execution_count": 66,
   "id": "6c03e4b8",
   "metadata": {
    "id": "mAUWpnIDmAyU"
   },
   "outputs": [
    {
     "data": {
      "text/plain": [
       "['text', 'text', 'text']"
      ]
     },
     "execution_count": 66,
     "metadata": {},
     "output_type": "execute_result"
    }
   ],
   "source": [
    "# The same as above, with the first index omitted\n",
    "demo_list[:3]"
   ]
  },
  {
   "cell_type": "code",
   "execution_count": 67,
   "id": "2cc5ca31",
   "metadata": {
    "id": "VFNFjCRGmAyV"
   },
   "outputs": [
    {
     "data": {
      "text/plain": [
       "['text', 23, 92, [1, 2, 3]]"
      ]
     },
     "execution_count": 67,
     "metadata": {},
     "output_type": "execute_result"
    }
   ],
   "source": [
    "# Slicing with steps\n",
    "demo_list[1::2]"
   ]
  },
  {
   "cell_type": "markdown",
   "id": "1550f280",
   "metadata": {
    "id": "_sC6jmgFmAyV"
   },
   "source": [
    "---"
   ]
  },
  {
   "cell_type": "markdown",
   "id": "1c281099",
   "metadata": {
    "id": "ur-eM7jbmAyV"
   },
   "source": [
    "### Quiz\n",
    "\n",
    "The following code creates a list whose length is a-priori unknown. Extract:\n",
    "\n",
    "    1. the last element of the list by using a positive index\n",
    "    2. the first element of the list by using a negative index\n",
    "    3. a new list of every element on an even index\n",
    "    4. this list reversed"
   ]
  },
  {
   "cell_type": "code",
   "execution_count": 68,
   "id": "8825c867",
   "metadata": {
    "id": "278eQ4xamAyV"
   },
   "outputs": [
    {
     "data": {
      "text/plain": [
       "[47, 46, 23, 29, 6, 81, 9, 32, 14, 22]"
      ]
     },
     "execution_count": 68,
     "metadata": {},
     "output_type": "execute_result"
    }
   ],
   "source": [
    "import random  # built-in package\n",
    "\n",
    "random_number_list = []\n",
    "for i in range(10):\n",
    "    random_number = random.randint(1, 99)\n",
    "    random_number_list.append(random_number)\n",
    "\n",
    "random_number_list"
   ]
  },
  {
   "cell_type": "code",
   "execution_count": 69,
   "id": "39c7112c",
   "metadata": {
    "id": "EaL9dMz7mAyW"
   },
   "outputs": [],
   "source": [
    "# Your code here for 1."
   ]
  },
  {
   "cell_type": "code",
   "execution_count": 70,
   "id": "192eaf82",
   "metadata": {
    "id": "nxw_YyPNmAyW"
   },
   "outputs": [],
   "source": [
    "# Your code here for 2."
   ]
  },
  {
   "cell_type": "code",
   "execution_count": 71,
   "id": "48176c57",
   "metadata": {
    "id": "R2GFp-n6mAyX"
   },
   "outputs": [],
   "source": [
    "# Your code here for 3."
   ]
  },
  {
   "cell_type": "code",
   "execution_count": 72,
   "id": "4ac19cb8",
   "metadata": {
    "id": "2fmnB5JlmAyX"
   },
   "outputs": [],
   "source": [
    "# Your code here for 4."
   ]
  },
  {
   "cell_type": "markdown",
   "id": "039f6edd",
   "metadata": {
    "id": "ekwyqy5YmAyX"
   },
   "source": [
    "---"
   ]
  },
  {
   "cell_type": "markdown",
   "id": "637e2c5f",
   "metadata": {
    "id": "40fTej_mmAyX"
   },
   "source": [
    "#### Lists are mutable\n",
    "\n",
    "Lists methods allows you to manipulate the elements stored in the list quickly and effectively. The method `.append()` on the list allows you to add an element at the end of that list. This is a method that you'll be using often!"
   ]
  },
  {
   "cell_type": "code",
   "execution_count": 73,
   "id": "c6b990d9",
   "metadata": {
    "id": "RdCV6F-RmAyY"
   },
   "outputs": [
    {
     "name": "stdout",
     "output_type": "stream",
     "text": [
      "['appended']\n",
      "['appended', 'second addition']\n"
     ]
    }
   ],
   "source": [
    "empty_list = []\n",
    "empty_list.append(\"appended\")\n",
    "\n",
    "print(empty_list)\n",
    "\n",
    "# Another element\n",
    "empty_list.append(\"second addition\")\n",
    "print(empty_list)"
   ]
  },
  {
   "cell_type": "markdown",
   "id": "3c53a5c8",
   "metadata": {
    "id": "LsgOruXgmAyY"
   },
   "source": [
    "The `.extend()` method allows you to add all the elements of a second list. It works the same as the `+=` operator we saw before."
   ]
  },
  {
   "cell_type": "code",
   "execution_count": 74,
   "id": "7b798a65",
   "metadata": {
    "id": "TXR82VeamAyY"
   },
   "outputs": [
    {
     "name": "stdout",
     "output_type": "stream",
     "text": [
      "['Apple', 'Crisps', 'Soda', 'Stroopwafels', 'Apple', 'Banana', 'Orange']\n"
     ]
    }
   ],
   "source": [
    "groceries = [\"Apple\", \"Crisps\", \"Soda\", \"Stroopwafels\"]\n",
    "fruit = [\"Apple\", \"Banana\", \"Orange\"]\n",
    "\n",
    "groceries.extend(fruit)  # similar to +=\n",
    "print(groceries)"
   ]
  },
  {
   "cell_type": "markdown",
   "id": "7ac454f4",
   "metadata": {
    "id": "TQoDTzkgmAyZ"
   },
   "source": [
    "The `.remove()` method allows you to remove a given elements from a list. \n",
    "\n",
    "What happens if there are duplicate elements that you want to have removed in a list?"
   ]
  },
  {
   "cell_type": "code",
   "execution_count": 75,
   "id": "064f02f0",
   "metadata": {
    "id": "_UUQs6fSmAyZ"
   },
   "outputs": [
    {
     "name": "stdout",
     "output_type": "stream",
     "text": [
      "['Crisps', 'Soda', 'Stroopwafels', 'Apple', 'Banana', 'Orange']\n"
     ]
    }
   ],
   "source": [
    "groceries.remove(\"Apple\")\n",
    "print(groceries)"
   ]
  },
  {
   "cell_type": "markdown",
   "id": "8ca84d30",
   "metadata": {
    "id": "EgOxZU0HmAyZ"
   },
   "source": [
    "The method `.reverse()` reverses a list IN PLACE (i.e. the original list is modified)"
   ]
  },
  {
   "cell_type": "code",
   "execution_count": 76,
   "id": "4b2b13c7",
   "metadata": {
    "id": "DA6I1wqgmAyZ"
   },
   "outputs": [
    {
     "name": "stdout",
     "output_type": "stream",
     "text": [
      "[1, 2, 3, 4, 5, 6, 7, 8, 9]\n",
      "[9, 8, 7, 6, 5, 4, 3, 2, 1]\n"
     ]
    }
   ],
   "source": [
    "numbers = [1, 2, 3, 4, 5, 6, 7, 8, 9]\n",
    "print(numbers)\n",
    "\n",
    "numbers.reverse()\n",
    "print(numbers)"
   ]
  },
  {
   "cell_type": "markdown",
   "id": "c45ef474",
   "metadata": {
    "id": "Nq_6AEYRmAyZ"
   },
   "source": [
    "You can replace or delete parts of a list by slicing:"
   ]
  },
  {
   "cell_type": "code",
   "execution_count": 77,
   "id": "dd4799b3",
   "metadata": {
    "id": "p_HecsA0mAyZ"
   },
   "outputs": [
    {
     "name": "stdout",
     "output_type": "stream",
     "text": [
      "[9, 8, 7, 6, 5, 4, 10, 11, 12]\n"
     ]
    }
   ],
   "source": [
    "# Replace elements\n",
    "\n",
    "numbers[-3:] = [10, 11, 12]\n",
    "print(numbers)"
   ]
  },
  {
   "cell_type": "code",
   "execution_count": 78,
   "id": "0b570c99",
   "metadata": {
    "id": "NXZb-M-XmAya"
   },
   "outputs": [
    {
     "name": "stdout",
     "output_type": "stream",
     "text": [
      "[9, 8, 7, 6, 10, 11, 12]\n"
     ]
    }
   ],
   "source": [
    "# Delete elements\n",
    "\n",
    "numbers[4:6] = []\n",
    "print(numbers)"
   ]
  },
  {
   "cell_type": "markdown",
   "id": "601281ff",
   "metadata": {
    "id": "bFwtA9DomAya"
   },
   "source": [
    "Sorting a list is as easy as calling `.sort()` on it. This changes the list in place. However, the list elements must be of the same type!"
   ]
  },
  {
   "cell_type": "code",
   "execution_count": 79,
   "id": "9c94633b",
   "metadata": {
    "id": "lRu7GpAhmAya"
   },
   "outputs": [
    {
     "ename": "TypeError",
     "evalue": "'<' not supported between instances of 'int' and 'str'",
     "output_type": "error",
     "traceback": [
      "\u001b[0;31m---------------------------------------------------------------------------\u001b[0m",
      "\u001b[0;31mTypeError\u001b[0m                                 Traceback (most recent call last)",
      "Input \u001b[0;32mIn [79]\u001b[0m, in \u001b[0;36m<cell line: 2>\u001b[0;34m()\u001b[0m\n\u001b[1;32m      1\u001b[0m \u001b[38;5;66;03m# This renders a TypeError\u001b[39;00m\n\u001b[0;32m----> 2\u001b[0m \u001b[43m[\u001b[49m\u001b[38;5;124;43m\"\u001b[39;49m\u001b[38;5;124;43mtext\u001b[39;49m\u001b[38;5;124;43m\"\u001b[39;49m\u001b[43m,\u001b[49m\u001b[43m \u001b[49m\u001b[38;5;241;43m1\u001b[39;49m\u001b[43m,\u001b[49m\u001b[43m \u001b[49m\u001b[38;5;241;43m2\u001b[39;49m\u001b[43m,\u001b[49m\u001b[43m \u001b[49m\u001b[38;5;241;43m3\u001b[39;49m\u001b[43m]\u001b[49m\u001b[38;5;241;43m.\u001b[39;49m\u001b[43msort\u001b[49m\u001b[43m(\u001b[49m\u001b[43m)\u001b[49m\n",
      "\u001b[0;31mTypeError\u001b[0m: '<' not supported between instances of 'int' and 'str'"
     ]
    }
   ],
   "source": [
    "# This renders a TypeError\n",
    "[\"text\", 1, 2, 3].sort()"
   ]
  },
  {
   "cell_type": "code",
   "execution_count": 80,
   "id": "92377e65",
   "metadata": {
    "id": "crrO66-8mAya"
   },
   "outputs": [
    {
     "data": {
      "text/plain": [
       "[1, 8, 9, 33, 56, 220]"
      ]
     },
     "execution_count": 80,
     "metadata": {},
     "output_type": "execute_result"
    }
   ],
   "source": [
    "homogeneous_list = [1, 56, 33, 8, 220, 9]\n",
    "homogeneous_list.sort()\n",
    "\n",
    "homogeneous_list"
   ]
  },
  {
   "cell_type": "markdown",
   "id": "a2198cc3",
   "metadata": {
    "id": "eo0V8ekxmAya"
   },
   "source": [
    "Lists of strings can be sorted as well. Useful if you want to sort from A-Z. \n",
    "\n",
    "Is the sort operation giving the expected result?"
   ]
  },
  {
   "cell_type": "code",
   "execution_count": 81,
   "id": "7aacc215",
   "metadata": {
    "id": "MrgBYr0bmAyb"
   },
   "outputs": [
    {
     "data": {
      "text/plain": [
       "['Elephant', 'ant', 'canary', 'hippo', 'kangaroo', 'narwhal', 'raccoon', 'yak']"
      ]
     },
     "execution_count": 81,
     "metadata": {},
     "output_type": "execute_result"
    }
   ],
   "source": [
    "homogeneous_list = [\"canary\", \"hippo\", \"kangaroo\", \"narwhal\", \"Elephant\", \"raccoon\", \"yak\", \"ant\"]\n",
    "homogeneous_list.sort()\n",
    "homogeneous_list"
   ]
  },
  {
   "cell_type": "markdown",
   "id": "20baa858",
   "metadata": {
    "id": "U1AT9-XnmAyb"
   },
   "source": [
    "---"
   ]
  },
  {
   "cell_type": "markdown",
   "id": "97edee35",
   "metadata": {
    "id": "tLSqYWKrmAyb"
   },
   "source": [
    "---"
   ]
  },
  {
   "cell_type": "markdown",
   "id": "b52f5120",
   "metadata": {
    "id": "Ec2GKpW_mAyb"
   },
   "source": [
    "#### Lists of numbers\n",
    "\n",
    "Lists of numbers can be manipulated by additional functions, among which `max()`, `min()` and `sum()`"
   ]
  },
  {
   "cell_type": "code",
   "execution_count": 82,
   "id": "02e37dc3",
   "metadata": {
    "id": "M8yPjikimAyb"
   },
   "outputs": [
    {
     "name": "stdout",
     "output_type": "stream",
     "text": [
      "9\n",
      "2\n",
      "31\n"
     ]
    }
   ],
   "source": [
    "some_numbers = [4, 8, 2, 6, 2, 9]\n",
    "\n",
    "print(max(some_numbers))\n",
    "print(min(some_numbers))\n",
    "print(sum(some_numbers))"
   ]
  },
  {
   "cell_type": "markdown",
   "id": "8f9b5b1f",
   "metadata": {
    "id": "p2coAh49mAyb"
   },
   "source": [
    "### Quiz\n",
    "\n",
    "Get the minimum and maximum number of the list below _without_ using the `max()` and `min()` functions (e.g. by sorting and slicing)."
   ]
  },
  {
   "cell_type": "code",
   "execution_count": 83,
   "id": "b7f0f3d6",
   "metadata": {
    "id": "uwmA95uZmAyc"
   },
   "outputs": [],
   "source": [
    "numbers = [21, 1, 56, 33, 8, 220, 9]\n",
    "\n",
    "# Your code here"
   ]
  },
  {
   "cell_type": "markdown",
   "id": "de3d0aed",
   "metadata": {
    "id": "0dQqbtoimAyc"
   },
   "source": [
    "Compute the average of `some_numbers`:"
   ]
  },
  {
   "cell_type": "code",
   "execution_count": 84,
   "id": "e88d7f90",
   "metadata": {
    "id": "BqSV9TG5mAyc"
   },
   "outputs": [],
   "source": [
    "some_numbers = [4, 8, 2, 6, 2, 9]\n",
    "\n",
    "# Your code here"
   ]
  },
  {
   "cell_type": "markdown",
   "id": "1c6d0be9",
   "metadata": {
    "id": "JkLOTBNjmAyc"
   },
   "source": [
    "Explain the sorting of the following list:"
   ]
  },
  {
   "cell_type": "code",
   "execution_count": 85,
   "id": "c6a9cbe6",
   "metadata": {
    "id": "a_NF8eSOmAyc"
   },
   "outputs": [
    {
     "data": {
      "text/plain": [
       "['1', '21', '220', '33', '56', '8', '9']"
      ]
     },
     "execution_count": 85,
     "metadata": {},
     "output_type": "execute_result"
    }
   ],
   "source": [
    "homogeneous_list = [\"21\", \"1\", \"56\", \"33\", \"8\", \"220\", \"9\"]\n",
    "homogeneous_list.sort()\n",
    "homogeneous_list"
   ]
  },
  {
   "cell_type": "markdown",
   "id": "c59d8f7e",
   "metadata": {
    "id": "rsPMBTatmAyc"
   },
   "source": [
    "---"
   ]
  },
  {
   "cell_type": "markdown",
   "id": "1a48b6fe",
   "metadata": {
    "id": "RgAWy8FemAyc"
   },
   "source": [
    "### Tuples\n",
    "\n",
    "Tuples are the **immutable** counterpart of the lists. \n",
    "\n",
    "They are defined by round brackets `()` and they mainly differ from the list in that they do not accept those methods that tries to manipulate its elements."
   ]
  },
  {
   "cell_type": "code",
   "execution_count": 86,
   "id": "6319df8a",
   "metadata": {
    "id": "cWZ2BjyWmAyc"
   },
   "outputs": [
    {
     "name": "stdout",
     "output_type": "stream",
     "text": [
      "('text', 23, 92, 'another_text', [1, 2, 3])\n"
     ]
    }
   ],
   "source": [
    "# Tuples can contain different types of objects (even another list like [1,2,3])\n",
    "\n",
    "demo_tuple = (\"text\", 23, 92, \"another_text\", [1,2,3])\n",
    "\n",
    "print(demo_tuple)"
   ]
  },
  {
   "cell_type": "code",
   "execution_count": 87,
   "id": "6832e152",
   "metadata": {
    "id": "7mc_49sSmAyd"
   },
   "outputs": [
    {
     "data": {
      "text/plain": [
       "(23, 92)"
      ]
     },
     "execution_count": 87,
     "metadata": {},
     "output_type": "execute_result"
    }
   ],
   "source": [
    "# Elements can be accessed on the basis of their index...\n",
    "\n",
    "demo_tuple[1:3]"
   ]
  },
  {
   "cell_type": "code",
   "execution_count": 88,
   "id": "b841d997",
   "metadata": {
    "id": "RezsQC2vmAyd"
   },
   "outputs": [
    {
     "ename": "TypeError",
     "evalue": "'tuple' object does not support item assignment",
     "output_type": "error",
     "traceback": [
      "\u001b[0;31m---------------------------------------------------------------------------\u001b[0m",
      "\u001b[0;31mTypeError\u001b[0m                                 Traceback (most recent call last)",
      "Input \u001b[0;32mIn [88]\u001b[0m, in \u001b[0;36m<cell line: 3>\u001b[0;34m()\u001b[0m\n\u001b[1;32m      1\u001b[0m \u001b[38;5;66;03m# But, they cannot be replaced. This raises a TypeError error!\u001b[39;00m\n\u001b[0;32m----> 3\u001b[0m demo_tuple[\u001b[38;5;241m1\u001b[39m] \u001b[38;5;241m=\u001b[39m \u001b[38;5;241m2\u001b[39m\n",
      "\u001b[0;31mTypeError\u001b[0m: 'tuple' object does not support item assignment"
     ]
    }
   ],
   "source": [
    "# But, they cannot be replaced. This raises a TypeError error!\n",
    "\n",
    "demo_tuple[1] = 2"
   ]
  },
  {
   "cell_type": "markdown",
   "id": "50aeaf88",
   "metadata": {
    "id": "TqeRPC2hmAyd"
   },
   "source": [
    "For now, just know that tuples are a datatype in Python. You'll know when you need them further on in this course!"
   ]
  },
  {
   "cell_type": "markdown",
   "id": "920910c8",
   "metadata": {
    "id": "aBD18s9ZmAye"
   },
   "source": [
    "### Strings\n",
    "\n",
    "Strings are **immutable**, sequences of characters (so, they are **homogeneous**)\n",
    "\n",
    "In the Python language, strings are defined by single `'` or double quotes `\"`,  and their elements are contiguous."
   ]
  },
  {
   "cell_type": "code",
   "execution_count": 89,
   "id": "5ea99ea8",
   "metadata": {
    "id": "6OnqjW8KmAye"
   },
   "outputs": [
    {
     "name": "stdout",
     "output_type": "stream",
     "text": [
      "Does Cersei have any friends?\n"
     ]
    }
   ],
   "source": [
    "demo_string = \"Does Cersei have any friends?\"\n",
    "print(demo_string)"
   ]
  },
  {
   "cell_type": "code",
   "execution_count": 90,
   "id": "9d96799c",
   "metadata": {
    "id": "qbbbfVKamAye"
   },
   "outputs": [
    {
     "data": {
      "text/plain": [
       "True"
      ]
     },
     "execution_count": 90,
     "metadata": {},
     "output_type": "execute_result"
    }
   ],
   "source": [
    "# Using single or double quotes is indifferent\n",
    "demo_string_single = 'Does Cersei have any friends?'\n",
    "demo_string == demo_string_single"
   ]
  },
  {
   "cell_type": "code",
   "execution_count": 91,
   "id": "b3c3106a",
   "metadata": {
    "id": "VSGs9ZMfmAyf"
   },
   "outputs": [
    {
     "name": "stdout",
     "output_type": "stream",
     "text": [
      "False\n"
     ]
    }
   ],
   "source": [
    "# Remember: Digits are not numbers! (frequent source of debugging frustration)\n",
    "\n",
    "print(type(\"1979\") == type(1979))"
   ]
  },
  {
   "cell_type": "code",
   "execution_count": 92,
   "id": "b1245563",
   "metadata": {
    "id": "1UgPCLTYmAyf"
   },
   "outputs": [
    {
     "name": "stdout",
     "output_type": "stream",
     "text": [
      "\"1979\" type is: <class 'str'>\n"
     ]
    }
   ],
   "source": [
    "print('\"1979\" type is: ' + str(type(\"1979\")))"
   ]
  },
  {
   "cell_type": "code",
   "execution_count": 93,
   "id": "c4902dc0",
   "metadata": {
    "id": "LmLCmwQTmAyf"
   },
   "outputs": [
    {
     "name": "stdout",
     "output_type": "stream",
     "text": [
      "1979 type is: <class 'int'>\n"
     ]
    }
   ],
   "source": [
    "print('1979 type is: ' + str(type(1979)))"
   ]
  },
  {
   "cell_type": "markdown",
   "id": "def40a2c",
   "metadata": {
    "id": "Dx3AMRYBmAyf"
   },
   "source": [
    "By being immutable sequences, strings accept all the sequences methods, but they not support item assignment:"
   ]
  },
  {
   "cell_type": "code",
   "execution_count": 94,
   "id": "2f220f3e",
   "metadata": {
    "id": "ECO7gPhqmAyf"
   },
   "outputs": [
    {
     "data": {
      "text/plain": [
       "29"
      ]
     },
     "execution_count": 94,
     "metadata": {},
     "output_type": "execute_result"
    }
   ],
   "source": [
    "# You can check the length (in characters, whitespaces count!) of a string\n",
    "len(demo_string)"
   ]
  },
  {
   "cell_type": "code",
   "execution_count": 95,
   "id": "341e921a",
   "metadata": {
    "id": "FS-6kKHHmAyg"
   },
   "outputs": [
    {
     "data": {
      "text/plain": [
       "True"
      ]
     },
     "execution_count": 95,
     "metadata": {},
     "output_type": "execute_result"
    }
   ],
   "source": [
    "# Strings can be looked for in other strings\n",
    "\"Cersei\" in demo_string"
   ]
  },
  {
   "cell_type": "code",
   "execution_count": 96,
   "id": "f0234227",
   "metadata": {
    "id": "Yeoqca6FmAyg"
   },
   "outputs": [
    {
     "data": {
      "text/plain": [
       "2"
      ]
     },
     "execution_count": 96,
     "metadata": {},
     "output_type": "execute_result"
    }
   ],
   "source": [
    "# How many 'a's do we have in our string?\n",
    "demo_string.count(\"a\")"
   ]
  },
  {
   "cell_type": "code",
   "execution_count": 97,
   "id": "799af824",
   "metadata": {
    "id": "J-CqwSOdmAyh"
   },
   "outputs": [
    {
     "data": {
      "text/plain": [
       "'Does Cersei have any friends?\\nNoway!'"
      ]
     },
     "execution_count": 97,
     "metadata": {},
     "output_type": "execute_result"
    }
   ],
   "source": [
    "# Concatenation is possible\n",
    "demo_string += \"\\nNoway!\"\n",
    "demo_string"
   ]
  },
  {
   "cell_type": "code",
   "execution_count": 98,
   "id": "df726ef4",
   "metadata": {
    "id": "l3jC4e6LmAyh"
   },
   "outputs": [
    {
     "name": "stdout",
     "output_type": "stream",
     "text": [
      "Does Cersei have any friends?\n",
      "Noway!\n"
     ]
    }
   ],
   "source": [
    "print(demo_string)"
   ]
  },
  {
   "cell_type": "markdown",
   "id": "c53997ab",
   "metadata": {
    "id": "aijPKDOPmAyh"
   },
   "source": [
    "The escape sequence `\\n` indicates the end of the line. \n",
    "\n",
    "Python escape sequences are introduced by the escape character `\\`, whose goal is to signal the interpreter that the following character has an \"unusual\" interpretation. Here is a partial list:\n",
    "\n",
    "| Escape Sequence|         Meaning|\n",
    "|:--------------:|:---------------:|\n",
    "|              \\\\\\\\|  backslash|\n",
    "|              \\\\'|  single quote|\n",
    "|              \\\\b|  backspace|\n",
    "|              \\\\n|  new line|\n",
    "|              \\\\t|  horizontal tab|"
   ]
  },
  {
   "cell_type": "code",
   "execution_count": 99,
   "id": "5f8dfc58",
   "metadata": {
    "id": "AZIW3j81mAyi"
   },
   "outputs": [
    {
     "name": "stdout",
     "output_type": "stream",
     "text": [
      "Does Cersei have any friends?\n",
      "Noway!\n"
     ]
    }
   ],
   "source": [
    "# Nicely print our string!\n",
    "print(demo_string)"
   ]
  },
  {
   "cell_type": "code",
   "execution_count": 100,
   "id": "8aec3767",
   "metadata": {
    "id": "Gf5Fpn9fmAyi"
   },
   "outputs": [
    {
     "name": "stdout",
     "output_type": "stream",
     "text": [
      "Does Cersei have any friends?\n",
      "Noway!\b\n"
     ]
    }
   ],
   "source": [
    "# What does a backspace do?\n",
    "print(demo_string  +\"\\b\")"
   ]
  },
  {
   "cell_type": "code",
   "execution_count": 101,
   "id": "368e1746",
   "metadata": {
    "id": "-9EFZSEWmAyj"
   },
   "outputs": [
    {
     "data": {
      "text/plain": [
       "\"Can any of you pronounce 's-Hertogenbosch?\""
      ]
     },
     "execution_count": 101,
     "metadata": {},
     "output_type": "execute_result"
    }
   ],
   "source": [
    "# The escape character may be useful when you need single quotes inside a single quote-marked string...\n",
    "'Can any of you pronounce \\'s-Hertogenbosch?'"
   ]
  },
  {
   "cell_type": "code",
   "execution_count": 102,
   "id": "431f0df5",
   "metadata": {
    "id": "a-vwBersmAyk"
   },
   "outputs": [
    {
     "data": {
      "text/plain": [
       "\"Can any of you pronounce 's-Hertogenbosch?\""
      ]
     },
     "execution_count": 102,
     "metadata": {},
     "output_type": "execute_result"
    }
   ],
   "source": [
    "# but this solution is preferred (when possible)\n",
    "\"Can any of you pronounce 's-Hertogenbosch?\""
   ]
  },
  {
   "cell_type": "markdown",
   "id": "9d917353",
   "metadata": {
    "id": "QDWZTabamAyk"
   },
   "source": [
    "Strings that span multiple lines can be written in a readable form by using the sequence `\"\"\"` as a delimiter"
   ]
  },
  {
   "cell_type": "code",
   "execution_count": 103,
   "id": "65dd498c",
   "metadata": {
    "id": "Kem3RR91mAyk"
   },
   "outputs": [
    {
     "name": "stdout",
     "output_type": "stream",
     "text": [
      "Unsealed, on a porch a letter sat\n",
      "Then you said, \"I wanna leave it again\"\n",
      "Once I saw her on a beach of weathered sand\n",
      "And on the sand I wanna leave her again\n"
     ]
    }
   ],
   "source": [
    "print(\"\"\"Unsealed, on a porch a letter sat\n",
    "Then you said, \"I wanna leave it again\"\n",
    "Once I saw her on a beach of weathered sand\n",
    "And on the sand I wanna leave her again\"\"\")"
   ]
  },
  {
   "cell_type": "markdown",
   "id": "f17b9309",
   "metadata": {
    "id": "9U8FswPhmAyl"
   },
   "source": [
    "### Quiz"
   ]
  },
  {
   "cell_type": "markdown",
   "id": "7fd3ed04",
   "metadata": {
    "id": "i82TbsndmAyl"
   },
   "source": [
    "Run the cell below. Where do all the '\\n's come from?"
   ]
  },
  {
   "cell_type": "code",
   "execution_count": 104,
   "id": "7092dc8c",
   "metadata": {
    "id": "OOj9TxtFmAyl"
   },
   "outputs": [
    {
     "data": {
      "text/plain": [
       "'\"On a weekend I wanna wish it all away, yeah\\nAnd they called and I said that I\\'ll go\\nAnd I said that I\\'ll call out again\\nAnd the reason I ought ta leave her calm, I know\\nI said, \"I don\\'t know whether I\\'m the boxer or the bag'"
      ]
     },
     "execution_count": 104,
     "metadata": {},
     "output_type": "execute_result"
    }
   ],
   "source": [
    "\"\"\"\"On a weekend I wanna wish it all away, yeah\n",
    "And they called and I said that I'll go\n",
    "And I said that I'll call out again\n",
    "And the reason I ought ta leave her calm, I know\n",
    "I said, \"I don't know whether I'm the boxer or the bag\"\"\"\"\""
   ]
  },
  {
   "cell_type": "code",
   "execution_count": 105,
   "id": "fd0bbbae",
   "metadata": {
    "id": "RdC7o9_fmAyl"
   },
   "outputs": [
    {
     "data": {
      "text/plain": [
       "'Monty'"
      ]
     },
     "execution_count": 105,
     "metadata": {},
     "output_type": "execute_result"
    }
   ],
   "source": [
    "# String slicing\n",
    "\"Monty Python\"[-12:-7]"
   ]
  },
  {
   "cell_type": "code",
   "execution_count": 106,
   "id": "0a2ac31c",
   "metadata": {
    "id": "j0IXxGmamAyl"
   },
   "outputs": [
    {
     "ename": "TypeError",
     "evalue": "'str' object does not support item assignment",
     "output_type": "error",
     "traceback": [
      "\u001b[0;31m---------------------------------------------------------------------------\u001b[0m",
      "\u001b[0;31mTypeError\u001b[0m                                 Traceback (most recent call last)",
      "Input \u001b[0;32mIn [106]\u001b[0m, in \u001b[0;36m<cell line: 2>\u001b[0;34m()\u001b[0m\n\u001b[1;32m      1\u001b[0m \u001b[38;5;66;03m# But single characters cannot be replaced. This raises a TypeError. \u001b[39;00m\n\u001b[0;32m----> 2\u001b[0m demo_string[\u001b[38;5;241m5\u001b[39m:\u001b[38;5;241m11\u001b[39m] \u001b[38;5;241m=\u001b[39m \u001b[38;5;124m\"\u001b[39m\u001b[38;5;124mMelisandre\u001b[39m\u001b[38;5;124m\"\u001b[39m\n",
      "\u001b[0;31mTypeError\u001b[0m: 'str' object does not support item assignment"
     ]
    }
   ],
   "source": [
    "# But single characters cannot be replaced. This raises a TypeError. \n",
    "demo_string[5:11] = \"Melisandre\""
   ]
  },
  {
   "cell_type": "markdown",
   "id": "2ececdb8",
   "metadata": {
    "id": "xhimsX8-mAym"
   },
   "source": [
    "#### String Methods\n",
    "\n",
    "Strings have a buch of dedicated methods (see the [documentation](https://docs.python.org/3.8/library/stdtypes.html) for a complete list), that allows them to be both inspected or manipulated (they are not modified, rather a **new object** is returned). \n",
    "\n",
    "The following are commonly used the most:"
   ]
  },
  {
   "cell_type": "code",
   "execution_count": 107,
   "id": "0a62bed7",
   "metadata": {
    "id": "TWF4n7lbmAym"
   },
   "outputs": [
    {
     "name": "stdout",
     "output_type": "stream",
     "text": [
      "True\n",
      "True\n",
      "False\n"
     ]
    }
   ],
   "source": [
    "# Is the string composed solely of 1. digits 2. alphabetic characters 3. both?\n",
    "print('100'.isdigit())\n",
    "print('cat'.isalpha())\n",
    "print('my cat is 100'.isalnum())  # Why False?"
   ]
  },
  {
   "cell_type": "code",
   "execution_count": 108,
   "id": "9b1326f0",
   "metadata": {
    "id": "SreTtIeYmAym"
   },
   "outputs": [
    {
     "name": "stdout",
     "output_type": "stream",
     "text": [
      "Does Cersei have any friends?\n",
      "Noway!\n"
     ]
    }
   ],
   "source": [
    "print(demo_string)"
   ]
  },
  {
   "cell_type": "markdown",
   "id": "4e98f702",
   "metadata": {
    "id": "2RmcIDdcmAym"
   },
   "source": [
    "The `.startswith()` and `.endswith()` methods are useful:"
   ]
  },
  {
   "cell_type": "code",
   "execution_count": 109,
   "id": "ee259fde",
   "metadata": {
    "id": "DcphuqOtmAym"
   },
   "outputs": [
    {
     "name": "stdout",
     "output_type": "stream",
     "text": [
      "False\n",
      "True\n"
     ]
    }
   ],
   "source": [
    "# Does the string starts or ends with a given sequence of characters?\n",
    "print(demo_string.startswith(\"d\"))  # it is case sensitive !!!\n",
    "print(demo_string.endswith(\"Noway!\"))"
   ]
  },
  {
   "cell_type": "markdown",
   "id": "f10c81d9",
   "metadata": {
    "id": "0431Dh5tmAyn"
   },
   "source": [
    "If you want to compare strings, or want to have them stored in a normalized way, you can use the `.upper()` and `.lower()` methods:"
   ]
  },
  {
   "cell_type": "code",
   "execution_count": 110,
   "id": "4f4d3c51",
   "metadata": {
    "id": "mBGyjgofmAyn"
   },
   "outputs": [
    {
     "name": "stdout",
     "output_type": "stream",
     "text": [
      "DOES CERSEI HAVE ANY FRIENDS?\n",
      "does cersei have any friends?\n"
     ]
    }
   ],
   "source": [
    "# Change case to all the characters of a string\n",
    "print(demo_string_single.upper())\n",
    "print(demo_string_single.lower())"
   ]
  },
  {
   "cell_type": "markdown",
   "id": "2b2f4d70",
   "metadata": {
    "id": "6OcrVbU8mAyn"
   },
   "source": [
    "If you want to get rid of unwanted characters at the beginning or at the end of a string, you can use `.strip()`. This is commonly used to remove all whitespace (i.e. spaces, linebreaks, tabs) from the string."
   ]
  },
  {
   "cell_type": "code",
   "execution_count": 111,
   "id": "9b3f0cb1",
   "metadata": {
    "id": "pXt1IRAtmAyo"
   },
   "outputs": [
    {
     "name": "stdout",
     "output_type": "stream",
     "text": [
      "Before:\n",
      "Twice minus: - before and after -\n",
      "  \t  Too much space?\n",
      "\n",
      "After:\n",
      "Twice minus: - before and after \n",
      "Too much space?\n",
      "\n"
     ]
    }
   ],
   "source": [
    "# Remove a given character (default is any whitespace) from the beginning and the end of a string\n",
    "\n",
    "text1 = \"Twice minus: - before and after -\"\n",
    "text2 = \"  \\t  Too much space?\"\n",
    "\n",
    "print(\"Before:\")\n",
    "print(text1)\n",
    "print(text2)\n",
    "print()\n",
    "\n",
    "print(\"After:\")\n",
    "print(text1.strip(\"-\"))\n",
    "print(text2.strip())\n",
    "print()"
   ]
  },
  {
   "cell_type": "markdown",
   "id": "4e88091a",
   "metadata": {
    "id": "hmvBna4zmAyo"
   },
   "source": [
    "You can remove one or multiple elements from a list by using `.replace()`:"
   ]
  },
  {
   "cell_type": "code",
   "execution_count": 112,
   "id": "038ab792",
   "metadata": {
    "id": "CEOid6T3mAyo"
   },
   "outputs": [
    {
     "name": "stdout",
     "output_type": "stream",
     "text": [
      "Does Melisandre have any friends?\n",
      "Noway!\n"
     ]
    }
   ],
   "source": [
    "# Replace a given sequence of characters with another \n",
    "print(demo_string.replace(\"Cersei\", \"Melisandre\"))"
   ]
  },
  {
   "cell_type": "code",
   "execution_count": 113,
   "id": "f7636094",
   "metadata": {
    "id": "M0RZKf25mAyo"
   },
   "outputs": [
    {
     "name": "stdout",
     "output_type": "stream",
     "text": [
      "Does Cersei have any friends\n",
      "Noway\n"
     ]
    }
   ],
   "source": [
    "# Or if you want to completely remove a character or series of characters,\n",
    "# simply replace it by an empty string! You can also chain these. \n",
    "print(demo_string.replace(\"?\", \"\").replace(\"!\", \"\"))"
   ]
  },
  {
   "cell_type": "markdown",
   "id": "df95defd",
   "metadata": {
    "id": "sC2DXTe-mAyp"
   },
   "source": [
    "#### From strings to lists"
   ]
  },
  {
   "cell_type": "markdown",
   "id": "4a8c5179",
   "metadata": {
    "id": "WA3OU9Q9mAyp"
   },
   "source": [
    "A string can be transformed into a list of string by splitting it on a given character. This is done through the `.split()` method."
   ]
  },
  {
   "cell_type": "code",
   "execution_count": 114,
   "id": "c97c7580",
   "metadata": {
    "id": "6uE3td6imAyp"
   },
   "outputs": [
    {
     "data": {
      "text/plain": [
       "['Does', 'Cersei', 'have', 'any', 'friends?\\nNoway!']"
      ]
     },
     "execution_count": 114,
     "metadata": {},
     "output_type": "execute_result"
    }
   ],
   "source": [
    "# By whitespace\n",
    "demo_string.split(\" \")"
   ]
  },
  {
   "cell_type": "code",
   "execution_count": 115,
   "id": "54eac73c",
   "metadata": {
    "id": "krUm1CBimAyp"
   },
   "outputs": [
    {
     "data": {
      "text/plain": [
       "['Does', 'Cersei', 'have', 'any', 'friends?', 'Noway!']"
      ]
     },
     "execution_count": 115,
     "metadata": {},
     "output_type": "execute_result"
    }
   ],
   "source": [
    "# However, the default character is any white line (that's convenient!)\n",
    "demo_string.split()"
   ]
  },
  {
   "cell_type": "code",
   "execution_count": 116,
   "id": "9886c7f4",
   "metadata": {
    "id": "za1Lkg0HmAyq"
   },
   "outputs": [
    {
     "data": {
      "text/plain": [
       "['Does', 'Cersei', 'have any friends?\\nNoway!']"
      ]
     },
     "execution_count": 116,
     "metadata": {},
     "output_type": "execute_result"
    }
   ],
   "source": [
    "# the maximun number of splits can be specified\n",
    "demo_string.split(\" \", 2)"
   ]
  },
  {
   "cell_type": "markdown",
   "id": "b8ab340d",
   "metadata": {
    "id": "IXtJoYcAmAyq"
   },
   "source": [
    "#### From lists to strings"
   ]
  },
  {
   "cell_type": "markdown",
   "id": "5101afc2",
   "metadata": {
    "id": "rkT8Rn8jmAyq"
   },
   "source": [
    "The inverse operation is possible, a list of strings can be joined by a single character using `join()` on another string. It's argument is the list."
   ]
  },
  {
   "cell_type": "code",
   "execution_count": 117,
   "id": "6367e877",
   "metadata": {
    "id": "jGoHyN0CmAyq"
   },
   "outputs": [
    {
     "data": {
      "text/plain": [
       "'One Two Three'"
      ]
     },
     "execution_count": 117,
     "metadata": {},
     "output_type": "execute_result"
    }
   ],
   "source": [
    "# A whitespace\n",
    "\" \".join([\"One\",\"Two\",\"Three\"])"
   ]
  },
  {
   "cell_type": "code",
   "execution_count": 118,
   "id": "c8c0cfa2",
   "metadata": {
    "id": "74BhY6eUmAyq"
   },
   "outputs": [
    {
     "data": {
      "text/plain": [
       "'One-Two-Three'"
      ]
     },
     "execution_count": 118,
     "metadata": {},
     "output_type": "execute_result"
    }
   ],
   "source": [
    "# An hyphen\n",
    "\"-\".join([\"One\",\"Two\",\"Three\"])"
   ]
  },
  {
   "cell_type": "code",
   "execution_count": 119,
   "id": "e0a0c87d",
   "metadata": {
    "id": "TxLEf1TYmAyq"
   },
   "outputs": [
    {
     "data": {
      "text/plain": [
       "'Eins🌞Zwei🌞Drei'"
      ]
     },
     "execution_count": 119,
     "metadata": {},
     "output_type": "execute_result"
    }
   ],
   "source": [
    "# Any string basically\n",
    "predifined_joinchar = \"🌞\"\n",
    "predifined_joinchar.join([\"Eins\",\"Zwei\",\"Drei\"])"
   ]
  },
  {
   "cell_type": "code",
   "execution_count": 120,
   "id": "d0039b6d",
   "metadata": {
    "id": "ysKaOB6amAyr"
   },
   "outputs": [
    {
     "data": {
      "text/plain": [
       "'Supercalifragilisticexpialidocious'"
      ]
     },
     "execution_count": 120,
     "metadata": {},
     "output_type": "execute_result"
    }
   ],
   "source": [
    "# Or no characters at all\n",
    "\"\".join([\"Super\", \"cali\", \"fragilistic\", \"expiali\", \"docious\"] )"
   ]
  },
  {
   "cell_type": "markdown",
   "id": "3dcce2a5",
   "metadata": {
    "id": "7CR5wvyimAyr"
   },
   "source": [
    "Keep in mind that you can only join elements of type string."
   ]
  },
  {
   "cell_type": "code",
   "execution_count": 121,
   "id": "95b5704c",
   "metadata": {
    "id": "prXkMsUjmAyr"
   },
   "outputs": [
    {
     "ename": "TypeError",
     "evalue": "sequence item 4: expected str instance, int found",
     "output_type": "error",
     "traceback": [
      "\u001b[0;31m---------------------------------------------------------------------------\u001b[0m",
      "\u001b[0;31mTypeError\u001b[0m                                 Traceback (most recent call last)",
      "Input \u001b[0;32mIn [121]\u001b[0m, in \u001b[0;36m<cell line: 2>\u001b[0;34m()\u001b[0m\n\u001b[1;32m      1\u001b[0m \u001b[38;5;66;03m# Raises a TypeError\u001b[39;00m\n\u001b[0;32m----> 2\u001b[0m \u001b[38;5;124;43m\"\u001b[39;49m\u001b[38;5;124;43m \u001b[39;49m\u001b[38;5;124;43m\"\u001b[39;49m\u001b[38;5;241;43m.\u001b[39;49m\u001b[43mjoin\u001b[49m\u001b[43m(\u001b[49m\u001b[43m[\u001b[49m\u001b[38;5;124;43m\"\u001b[39;49m\u001b[38;5;124;43mThis\u001b[39;49m\u001b[38;5;124;43m\"\u001b[39;49m\u001b[43m,\u001b[49m\u001b[43m \u001b[49m\u001b[38;5;124;43m\"\u001b[39;49m\u001b[38;5;124;43mis\u001b[39;49m\u001b[38;5;124;43m\"\u001b[39;49m\u001b[43m,\u001b[49m\u001b[43m \u001b[49m\u001b[38;5;124;43m\"\u001b[39;49m\u001b[38;5;124;43mnotebook\u001b[39;49m\u001b[38;5;124;43m\"\u001b[39;49m\u001b[43m,\u001b[49m\u001b[43m \u001b[49m\u001b[38;5;124;43m\"\u001b[39;49m\u001b[38;5;124;43mnumber\u001b[39;49m\u001b[38;5;124;43m\"\u001b[39;49m\u001b[43m,\u001b[49m\u001b[43m \u001b[49m\u001b[38;5;241;43m1\u001b[39;49m\u001b[43m]\u001b[49m\u001b[43m)\u001b[49m\n",
      "\u001b[0;31mTypeError\u001b[0m: sequence item 4: expected str instance, int found"
     ]
    }
   ],
   "source": [
    "# Raises a TypeError\n",
    "\" \".join([\"This\", \"is\", \"notebook\", \"number\", 1])"
   ]
  },
  {
   "cell_type": "markdown",
   "id": "6e499645",
   "metadata": {
    "id": "hG0TQMzOmAyr"
   },
   "source": [
    "---"
   ]
  },
  {
   "cell_type": "code",
   "execution_count": null,
   "id": "b997699b",
   "metadata": {
    "id": "pCEdB6H7mAys"
   },
   "outputs": [],
   "source": []
  },
  {
   "cell_type": "markdown",
   "id": "abb0e86a",
   "metadata": {
    "id": "JZs8oKTMmAys"
   },
   "source": [
    "### Sets\n",
    "\n",
    "Sets are collections of **unordered** and **distinct/unique** objects.\n",
    "\n",
    "They are commonly used to test membership, to remove duplicates or to compute mathematical operations such as intersection, union, difference, and symmetric difference. Being unordered collections, they do not support indexing, slicing and any other sequence-like behavior. But, this  makes them extremely efficient.\n",
    "\n",
    "In Python, sets can be create beither by using the syntax  `set([])` or by using curly braces `{}`."
   ]
  },
  {
   "cell_type": "markdown",
   "id": "4bd00c33",
   "metadata": {
    "id": "95RR_DssmAys"
   },
   "source": [
    "Sets come in handy if you want to count the unique occurences in a list:"
   ]
  },
  {
   "cell_type": "code",
   "execution_count": 122,
   "id": "ae5a25d9",
   "metadata": {
    "id": "6YtsxauLmAys"
   },
   "outputs": [
    {
     "name": "stdout",
     "output_type": "stream",
     "text": [
      "['the', 'quick', 'brown', 'fox', 'jumps', 'over', 'the', 'lazy', 'dog']\n"
     ]
    },
    {
     "data": {
      "text/plain": [
       "{'brown', 'dog', 'fox', 'jumps', 'lazy', 'over', 'quick', 'the'}"
      ]
     },
     "execution_count": 122,
     "metadata": {},
     "output_type": "execute_result"
    }
   ],
   "source": [
    "text = \"\"\"the quick brown fox jumps over the lazy dog\"\"\"\n",
    "words = text.split()  # 'the' is in there twice\n",
    "print(words)\n",
    "\n",
    "unique_words = set(words)\n",
    "unique_words"
   ]
  },
  {
   "cell_type": "markdown",
   "id": "931fe6ea",
   "metadata": {
    "id": "Y6k8yc-TmAys"
   },
   "source": [
    "You can add elements by calling `.add()` on the set. \n",
    "\n",
    "```{note}\n",
    "The `.append()` is for lists only! Trying to add an element that's already in a set does not change anything.\n",
    "```"
   ]
  },
  {
   "cell_type": "code",
   "execution_count": 123,
   "id": "ec7b4178",
   "metadata": {
    "id": "T8vP7NCamAys"
   },
   "outputs": [
    {
     "data": {
      "text/plain": [
       "{'brown', 'dog', 'fox', 'jumps', 'lazy', 'over', 'quick', 'sheep', 'the'}"
      ]
     },
     "execution_count": 123,
     "metadata": {},
     "output_type": "execute_result"
    }
   ],
   "source": [
    "# Elements are added with the function add()\n",
    "unique_words.add(\"sheep\")\n",
    "unique_words"
   ]
  },
  {
   "cell_type": "code",
   "execution_count": 124,
   "id": "ca414d9d",
   "metadata": {
    "id": "Vjsiqc03mAys"
   },
   "outputs": [
    {
     "data": {
      "text/plain": [
       "{'brown', 'dog', 'jumps', 'lazy', 'over', 'quick', 'sheep', 'the'}"
      ]
     },
     "execution_count": 124,
     "metadata": {},
     "output_type": "execute_result"
    }
   ],
   "source": [
    "# elements are removed with the function remove()\n",
    "unique_words.remove(\"fox\")\n",
    "unique_words"
   ]
  },
  {
   "cell_type": "code",
   "execution_count": 125,
   "id": "d198416e",
   "metadata": {
    "id": "eBy0YgnSmAyt"
   },
   "outputs": [
    {
     "data": {
      "text/plain": [
       "8"
      ]
     },
     "execution_count": 125,
     "metadata": {},
     "output_type": "execute_result"
    }
   ],
   "source": [
    "# length of a set\n",
    "len(unique_words)"
   ]
  },
  {
   "cell_type": "code",
   "execution_count": 126,
   "id": "08c6612d",
   "metadata": {
    "id": "2fRbYGu8mAyt"
   },
   "outputs": [
    {
     "data": {
      "text/plain": [
       "True"
      ]
     },
     "execution_count": 126,
     "metadata": {},
     "output_type": "execute_result"
    }
   ],
   "source": [
    "# membership test\n",
    "\"sheep\" in unique_words"
   ]
  },
  {
   "cell_type": "markdown",
   "id": "50e9d1a8",
   "metadata": {
    "id": "w0DYyLEdmAyt"
   },
   "source": [
    "You can use `.union()` to get all the elements from both sets."
   ]
  },
  {
   "cell_type": "code",
   "execution_count": 127,
   "id": "791aeecf",
   "metadata": {
    "id": "Ii8aw5WPmAyt"
   },
   "outputs": [
    {
     "data": {
      "text/plain": [
       "{'box',\n",
       " 'brown',\n",
       " 'dog',\n",
       " 'dozen',\n",
       " 'five',\n",
       " 'jugs',\n",
       " 'jumps',\n",
       " 'lazy',\n",
       " 'liquor',\n",
       " 'my',\n",
       " 'over',\n",
       " 'pack',\n",
       " 'quick',\n",
       " 'sheep',\n",
       " 'the',\n",
       " 'with'}"
      ]
     },
     "execution_count": 127,
     "metadata": {},
     "output_type": "execute_result"
    }
   ],
   "source": [
    "# the union of the two sets\n",
    "all_words = unique_words.union(set([\"pack\", \"my\", \"box\", \"with\", \"five\", \"dozen\", \"liquor\", \"jugs\"]))\n",
    "all_words"
   ]
  },
  {
   "cell_type": "code",
   "execution_count": 128,
   "id": "b884c447",
   "metadata": {
    "id": "xbLPSXQjmAyt"
   },
   "outputs": [
    {
     "data": {
      "text/plain": [
       "{'brown', 'dog'}"
      ]
     },
     "execution_count": 128,
     "metadata": {},
     "output_type": "execute_result"
    }
   ],
   "source": [
    "# Intersection of the two sets\n",
    "other_set = {\"brown\", \"dog\", \"purple\", \"fox\"}\n",
    "\n",
    "intersection = unique_words.intersection(other_set)\n",
    "intersection"
   ]
  },
  {
   "cell_type": "code",
   "execution_count": 129,
   "id": "fa63ce2e",
   "metadata": {
    "id": "kLniT592mAyt"
   },
   "outputs": [
    {
     "data": {
      "text/plain": [
       "{'jumps', 'lazy', 'over', 'quick', 'sheep', 'the'}"
      ]
     },
     "execution_count": 129,
     "metadata": {},
     "output_type": "execute_result"
    }
   ],
   "source": [
    "# Elements that are in the first but not in the second set\n",
    "unique_words.difference(other_set)"
   ]
  },
  {
   "cell_type": "code",
   "execution_count": 130,
   "id": "5b0578f4",
   "metadata": {
    "id": "WmmZOVVrmAyt"
   },
   "outputs": [
    {
     "data": {
      "text/plain": [
       "{'fox', 'purple'}"
      ]
     },
     "execution_count": 130,
     "metadata": {},
     "output_type": "execute_result"
    }
   ],
   "source": [
    "# Variables flipped\n",
    "other_set.difference(unique_words)"
   ]
  },
  {
   "cell_type": "code",
   "execution_count": 131,
   "id": "d20ae7f2",
   "metadata": {
    "id": "9jLMMSl2mAyu"
   },
   "outputs": [
    {
     "name": "stdout",
     "output_type": "stream",
     "text": [
      "True\n",
      "True\n"
     ]
    }
   ],
   "source": [
    "# Every elements of smaller_set are in all_elements?\n",
    "\n",
    "all_elements = {1, 2, 3, 4, 5, 6, 7, 8, 9}\n",
    "smaller_set = {2, 4, 6, 8}\n",
    "\n",
    "print(all_elements.issuperset(smaller_set))\n",
    "print(smaller_set.issubset(all_elements))"
   ]
  },
  {
   "cell_type": "markdown",
   "id": "e2883202",
   "metadata": {
    "id": "t-h6XDdXmAyu"
   },
   "source": [
    "Go over the other methods that can be used on a set. You can find them including examples here: https://www.w3schools.com/python/python_ref_set.asp. For sure, check out the `.update()` and `.isdisjoint()`."
   ]
  },
  {
   "cell_type": "markdown",
   "id": "dbed05fe",
   "metadata": {
    "id": "76r_UM2omAyu"
   },
   "source": [
    "### Quiz"
   ]
  },
  {
   "cell_type": "code",
   "execution_count": null,
   "id": "72ea8b7f",
   "metadata": {
    "id": "drW9OQ7smAyu"
   },
   "outputs": [],
   "source": []
  },
  {
   "cell_type": "markdown",
   "id": "02414013",
   "metadata": {
    "id": "-eGcr4ERmAyu"
   },
   "source": [
    "---"
   ]
  },
  {
   "cell_type": "markdown",
   "id": "15306eab",
   "metadata": {
    "id": "hBr4KQzpmAyu"
   },
   "source": [
    "### Dictionaries\n",
    "\n",
    "Dictionaries are **associative arrays** mapping **immutable** types (string, numbers, tuples...) to arbitrary objects of any kind (all datatypes you earlier saw, variables, functions, modules...). Intuitively, they can be thought as collections of objects that we can recall by means of a unique key. \n",
    "\n",
    "To visualize a Python dictionary you can think of a telephone book, in which people names are the unique keys that you use to retrieve difference kinds of information (phone numbers, street address, mail address...). The same telephone number, street address or other information can be present in the entries of more people, but a label cannot be associated with more than one entry. \n",
    "\n",
    "In Python, dictionaries are defined by curly brackets `{}`, in which key-value pairs are separated by commas and joint by colons."
   ]
  },
  {
   "cell_type": "code",
   "execution_count": 132,
   "id": "62e7edf1",
   "metadata": {
    "id": "lDM2PLycmAyv"
   },
   "outputs": [
    {
     "name": "stdout",
     "output_type": "stream",
     "text": [
      "{'black': 'zwart', 'white': 'wit', 'red': 'rood', 'yellow': 'geel'}\n"
     ]
    }
   ],
   "source": [
    "# An English-Dutch dictionary of colors\n",
    "\n",
    "color2kleur = {\n",
    "    \"black\": \"zwart\",\n",
    "    \"white\": \"wit\",\n",
    "    \"red\": \"rood\",\n",
    "    \"yellow\": \"geel\"\n",
    "}\n",
    "\n",
    "print(color2kleur)"
   ]
  },
  {
   "cell_type": "code",
   "execution_count": 133,
   "id": "5d005687",
   "metadata": {
    "id": "GrrV1A-gmAyv"
   },
   "outputs": [
    {
     "data": {
      "text/plain": [
       "'wit'"
      ]
     },
     "execution_count": 133,
     "metadata": {},
     "output_type": "execute_result"
    }
   ],
   "source": [
    "# Values can be recalled by their keys\n",
    "color2kleur[\"white\"]"
   ]
  },
  {
   "cell_type": "code",
   "execution_count": 134,
   "id": "4c1b71c2",
   "metadata": {
    "id": "NvGQFsrdmAyv"
   },
   "outputs": [
    {
     "name": "stdout",
     "output_type": "stream",
     "text": [
      "{'black': 'zwart', 'white': 'sneeuwwit', 'red': 'rood', 'yellow': 'geel'}\n"
     ]
    }
   ],
   "source": [
    "# We can change a value associated with a key\n",
    "color2kleur[\"white\"] = \"sneeuwwit\"\n",
    "\n",
    "print(color2kleur)"
   ]
  },
  {
   "cell_type": "code",
   "execution_count": 135,
   "id": "00c46589",
   "metadata": {
    "id": "AdxpH3yImAyv"
   },
   "outputs": [
    {
     "name": "stdout",
     "output_type": "stream",
     "text": [
      "{'black': 'zwart', 'white': 'sneeuwwit', 'red': 'rood', 'yellow': 'geel', 'blue': 'blauw'}\n"
     ]
    }
   ],
   "source": [
    "# If the key is missing a new key: value pair is added\n",
    "color2kleur[\"blue\"] = \"blauw\"\n",
    "\n",
    "print(color2kleur)"
   ]
  },
  {
   "cell_type": "code",
   "execution_count": 136,
   "id": "9d8cd10f",
   "metadata": {
    "id": "F9eB0loGmAyv"
   },
   "outputs": [
    {
     "name": "stdout",
     "output_type": "stream",
     "text": [
      "{'black': 'zwart', 'white': 'sneeuwwit', 'red': 'rood', 'yellow': 'geel'}\n"
     ]
    }
   ],
   "source": [
    "# {Key: value} can be deleted with the command \"del()\"\n",
    "del(color2kleur[\"blue\"])\n",
    "print(color2kleur)"
   ]
  },
  {
   "cell_type": "code",
   "execution_count": 137,
   "id": "eb433d12",
   "metadata": {
    "id": "hXyIkdUSmAyw"
   },
   "outputs": [
    {
     "data": {
      "text/plain": [
       "False"
      ]
     },
     "execution_count": 137,
     "metadata": {},
     "output_type": "execute_result"
    }
   ],
   "source": [
    "# Check if a dictionary has a given key\n",
    "\"blue\" in color2kleur"
   ]
  },
  {
   "cell_type": "code",
   "execution_count": 138,
   "id": "fe3e42bd",
   "metadata": {
    "id": "bWVydw5VmAyw"
   },
   "outputs": [
    {
     "data": {
      "text/plain": [
       "4"
      ]
     },
     "execution_count": 138,
     "metadata": {},
     "output_type": "execute_result"
    }
   ],
   "source": [
    "# Count the number of entries in a dictionary\n",
    "len(color2kleur)"
   ]
  },
  {
   "cell_type": "markdown",
   "id": "7888466f",
   "metadata": {
    "id": "YRKzzvjQmAyw"
   },
   "source": [
    "### Quiz\n",
    "\n",
    "What you're actually doing by calling the dict that way, is calling the `.keys()` method. Try using the following methods below on the `color2kleur` dictionary:\n",
    "\n",
    "1. `.keys()` vs. just calling the dictionary by `color2kleur`\n",
    "2. `.values()`\n",
    "3. `.items()`\n",
    "    \n",
    "What is the datatype that is returned for each of these methods? And what is de datatype inside these 'iterables'?"
   ]
  },
  {
   "cell_type": "code",
   "execution_count": 139,
   "id": "eca29bcb",
   "metadata": {
    "id": "icDTmUP-mAyw"
   },
   "outputs": [],
   "source": [
    "# You code here"
   ]
  },
  {
   "cell_type": "markdown",
   "id": "2b1aa52a",
   "metadata": {
    "id": "FXY9PzofmAyw"
   },
   "source": [
    "#### Iterating over a Dictionary"
   ]
  },
  {
   "cell_type": "code",
   "execution_count": 140,
   "id": "9fd54f50",
   "metadata": {
    "id": "5rL_YIXgmAyw"
   },
   "outputs": [
    {
     "name": "stdout",
     "output_type": "stream",
     "text": [
      "['black', 'white', 'red', 'yellow']\n",
      "['black', 'white', 'red', 'yellow']\n"
     ]
    }
   ],
   "source": [
    "# iterate over dictionary keys:\n",
    "print(list(color2kleur))\n",
    "print(list(color2kleur.keys()))"
   ]
  },
  {
   "cell_type": "code",
   "execution_count": 141,
   "id": "a1e4e41e",
   "metadata": {
    "id": "qQGYGuRvmAyx"
   },
   "outputs": [
    {
     "name": "stdout",
     "output_type": "stream",
     "text": [
      "['zwart', 'sneeuwwit', 'rood', 'geel']\n"
     ]
    }
   ],
   "source": [
    "# iterate over dictionary values:\n",
    "print(list(color2kleur.values()))"
   ]
  },
  {
   "cell_type": "code",
   "execution_count": 142,
   "id": "577a49ce",
   "metadata": {
    "id": "-Vn_EOnnmAyx"
   },
   "outputs": [
    {
     "name": "stdout",
     "output_type": "stream",
     "text": [
      "[('black', 'zwart'), ('white', 'sneeuwwit'), ('red', 'rood'), ('yellow', 'geel')]\n"
     ]
    }
   ],
   "source": [
    "# iterate over dictionary key-value pairs:\n",
    "print(list(color2kleur.items()))"
   ]
  },
  {
   "cell_type": "markdown",
   "id": "3ba07aa4",
   "metadata": {
    "id": "B-zxqXotmAyx"
   },
   "source": [
    "---"
   ]
  },
  {
   "cell_type": "markdown",
   "id": "93b769f2",
   "metadata": {
    "id": "5suk_BdYmAyx"
   },
   "source": [
    "###  Type casting\n",
    "\n",
    "Sometimes, we may need to change the type of a variable. \n",
    "\n",
    "For instance, we may want to change a list into a set in order to delete all its repeated elements. A quick way to do so is to transform the list in a set.\n",
    "\n",
    "Other example may involve the `.join()` method that does not accept numbers. Conversion functions can be used to quickly switch numbers to strings. Sometimes, these conversion functions are built-in into a function, which is the case in the `print()` function. It is basically applying the `str()` function on every object that you give as argument.\n",
    "\n",
    "```{note}\n",
    "Not all types of variables can be switched to other types. In what follows we report some common conversion.\n",
    "```"
   ]
  },
  {
   "cell_type": "code",
   "execution_count": 143,
   "id": "a09e2a3e",
   "metadata": {
    "id": "edqdGgg4mAyx"
   },
   "outputs": [
    {
     "data": {
      "text/plain": [
       "'3.123424235454'"
      ]
     },
     "execution_count": 143,
     "metadata": {},
     "output_type": "execute_result"
    }
   ],
   "source": [
    "# From number to string\n",
    "str(3.123424235454)"
   ]
  },
  {
   "cell_type": "code",
   "execution_count": 144,
   "id": "e6b43559",
   "metadata": {
    "id": "mwUDKmWkmAyx"
   },
   "outputs": [
    {
     "data": {
      "text/plain": [
       "'3.12'"
      ]
     },
     "execution_count": 144,
     "metadata": {},
     "output_type": "execute_result"
    }
   ],
   "source": [
    "# Sometimes you want to round the number\n",
    "str(round(3.123424235454, 2))"
   ]
  },
  {
   "cell_type": "code",
   "execution_count": 145,
   "id": "5ad63b22",
   "metadata": {
    "id": "5c8LaAY2mAyy"
   },
   "outputs": [
    {
     "data": {
      "text/plain": [
       "3"
      ]
     },
     "execution_count": 145,
     "metadata": {},
     "output_type": "execute_result"
    }
   ],
   "source": [
    "# From string to integer\n",
    "int(\"3\")"
   ]
  },
  {
   "cell_type": "code",
   "execution_count": 146,
   "id": "0cbde031",
   "metadata": {
    "id": "q9_tgwTmmAyy"
   },
   "outputs": [
    {
     "data": {
      "text/plain": [
       "3.0"
      ]
     },
     "execution_count": 146,
     "metadata": {},
     "output_type": "execute_result"
    }
   ],
   "source": [
    "# From string to floating numer\n",
    "float(\"3\")"
   ]
  },
  {
   "cell_type": "code",
   "execution_count": 147,
   "id": "a337948d",
   "metadata": {
    "id": "ClFTmeO_mAyz"
   },
   "outputs": [
    {
     "data": {
      "text/plain": [
       "(['text', 'text', 'text', 23, '42', 92, 'another text', [1, 2, 3]],)"
      ]
     },
     "execution_count": 147,
     "metadata": {},
     "output_type": "execute_result"
    }
   ],
   "source": [
    "# From list to tuple (list cannot be used as dictionary keys, tuples can)\n",
    "tuple([demo_list])"
   ]
  },
  {
   "cell_type": "code",
   "execution_count": 148,
   "id": "19c64b9c",
   "metadata": {
    "id": "VQv6E-53mAy0"
   },
   "outputs": [
    {
     "data": {
      "text/plain": [
       "{1, 2, 3}"
      ]
     },
     "execution_count": 148,
     "metadata": {},
     "output_type": "execute_result"
    }
   ],
   "source": [
    "# From list to set\n",
    "set([1,2,3,1,2,3,3])"
   ]
  },
  {
   "cell_type": "code",
   "execution_count": 149,
   "id": "1eed9444",
   "metadata": {
    "id": "kocD8ybAmAy1"
   },
   "outputs": [
    {
     "name": "stdout",
     "output_type": "stream",
     "text": [
      "['t', 'h', 'i', 's', ' ', 'i', 's', ' ', 'a', ' ', 's', 'e', 'n', 't', 'e', 'n', 'c', 'e']\n"
     ]
    }
   ],
   "source": [
    "# From string to list\n",
    "print(list(\"this is a sentence\"))"
   ]
  },
  {
   "cell_type": "markdown",
   "id": "82852c92",
   "metadata": {
    "id": "kvsp2sqqmAy1"
   },
   "source": [
    "### Quiz\n",
    "\n",
    "The list `numbers` contains 21 integers, ranging from -10 to 10, unsorted. \n",
    "\n",
    "Create a new list containing only the positive numbers from the list. Use `.sort()`, `len()` and `round()`"
   ]
  },
  {
   "cell_type": "code",
   "execution_count": 150,
   "id": "89dd0ff7",
   "metadata": {
    "id": "d4TvUuy2mAy1"
   },
   "outputs": [],
   "source": [
    "numbers = [-7, 1, 3, 8, 7, -2, 5, 4, -10, -4, -3, -6, 2, 9, 0, -5, -8, 10, -9, 6, -1]"
   ]
  },
  {
   "cell_type": "code",
   "execution_count": 151,
   "id": "345a762c",
   "metadata": {
    "id": "WiGveyLpmAy2"
   },
   "outputs": [],
   "source": [
    "# Your code here"
   ]
  },
  {
   "cell_type": "markdown",
   "id": "aeb33ce1",
   "metadata": {
    "id": "J89IuYlymAy2"
   },
   "source": [
    "---"
   ]
  },
  {
   "cell_type": "markdown",
   "id": "94c16426",
   "metadata": {
    "id": "yXuBnZe-mAy2"
   },
   "source": [
    "# Exercises\n",
    "\n",
    "## Reading\n",
    "* Check out number 8 of the Python Enhancement Proposals (PEP): https://www.python.org/dev/peps/pep-0008/. Try writing your code with PEP8 in mind. \n",
    "* [Python Cheat Sheet](https://www.cheatography.com/davechild/cheat-sheets/python/), which collects much of the syntax we used today.\n",
    "* Have a look at Python's built-in types: https://docs.python.org/3.8/library/stdtypes.html. Be sure to check out the part on [string methods](https://docs.python.org/3.8/library/stdtypes.html#string-methods). You can skip the other sections. \n",
    "\n",
    "## Tasks"
   ]
  },
  {
   "cell_type": "markdown",
   "id": "9c5724b6",
   "metadata": {
    "id": "E5tEL618mAy3"
   },
   "source": [
    "### Excercise 1\n",
    "\n",
    "Italian nobles tends to have an awful lot of names. For instance, \"Vittorio Emanuele di Savoia\" (or \"Vittorio\" for close friends) has the 12 names listed in `full_name`. \n",
    "\n",
    "Can you find a pythonic way to eliminate the less used names from this string?"
   ]
  },
  {
   "cell_type": "code",
   "execution_count": 152,
   "id": "d41b9765",
   "metadata": {
    "id": "nwffyJv2mAy3"
   },
   "outputs": [],
   "source": [
    "full_name = \"Vittorio Emanuele Alberto Carlo Teodoro Umberto Bonifacio Amedeo Damiano Bernardino Gennaro Maria di Savoia\""
   ]
  },
  {
   "cell_type": "code",
   "execution_count": 153,
   "id": "8c50b834",
   "metadata": {
    "id": "TyqHvGIcmAy3"
   },
   "outputs": [],
   "source": [
    "# Your code here"
   ]
  },
  {
   "cell_type": "markdown",
   "id": "5e425543",
   "metadata": {
    "id": "9DLqwF1NmAy4"
   },
   "source": [
    "### Exercise 2.\n",
    "\n",
    "The code in the next cell creates a variable called `zen_text`, and assigns it a nicely formatted version of the textual elements of the Zen of Python.\n",
    "\n",
    "* Count the number of in this manifesto of:\n",
    "    1. Characters\n",
    "    2. Words\n",
    "    3. Unique words\n",
    "    3. Non-empty lines"
   ]
  },
  {
   "cell_type": "code",
   "execution_count": 154,
   "id": "aa3583f5",
   "metadata": {
    "id": "b1x3rx_LmAy4"
   },
   "outputs": [],
   "source": [
    "import this\n",
    "zen_text = ''.join(this.d.get(el, el) for el in this.s)  # forget this complicated pattern for now"
   ]
  },
  {
   "cell_type": "code",
   "execution_count": 155,
   "id": "30a7c1ea",
   "metadata": {
    "id": "ZaykSfG_mAy4"
   },
   "outputs": [],
   "source": [
    "# Your code here"
   ]
  },
  {
   "cell_type": "markdown",
   "id": "0abd488c",
   "metadata": {
    "id": "pX5hC93-mAy4"
   },
   "source": [
    "### Exercise 3.\n",
    "\n",
    "The dictionary in the following cell reports, for each Scrubs character, a dictionary mapping is given with the name of the actor, the age of the character and its credentials.\n",
    "\n",
    "Write code to answer the following questions:\n",
    "\n",
    "- What are the **names of the actors** of the cast?\n",
    "\n",
    "- What is the **average age** of the characters?\n",
    "\n",
    "- How **many M.D.s** are there in the main cast?\n",
    "\n",
    "- Which character is not listed in the credentials dictionary?\n",
    "\n",
    "```{admonition} Tip\n",
    ":class: tip\n",
    "Check the dictionary and set methods.\n",
    "```"
   ]
  },
  {
   "cell_type": "code",
   "execution_count": 156,
   "id": "0a7c7f84",
   "metadata": {
    "id": "ePZx4vLXmAy5"
   },
   "outputs": [],
   "source": [
    "scrubs2age = {\n",
    "     'Bob Kelso': 70,\n",
    "     'Carla Espinosa-Turk': 36,\n",
    "     'Christopher Turk': 31,\n",
    "     'Elliot Reid': 29,\n",
    "     'J.D.': 31,\n",
    "     'Janitor': 40,\n",
    "     'Perry Cox': 45\n",
    "  }\n",
    "\n",
    "scrubs2cred = {\n",
    "     'Bob Kelso': 'M.D.',\n",
    "     'Carla Espinosa-Turk': 'RN',\n",
    "     'Christopher Turk': 'M.D.',\n",
    "     'Elliot Reid': 'M.D.',\n",
    "     'J.D.': 'M.D.',\n",
    "     'Perry Cox': 'M.D.'\n",
    "  }"
   ]
  },
  {
   "cell_type": "code",
   "execution_count": 157,
   "id": "1620210c",
   "metadata": {
    "id": "XHHCJsVXmAy5"
   },
   "outputs": [],
   "source": [
    "# Your code here"
   ]
  },
  {
   "cell_type": "code",
   "execution_count": null,
   "id": "38eed5d3",
   "metadata": {
    "id": "l6hmP2HxmAy5"
   },
   "outputs": [],
   "source": []
  },
  {
   "cell_type": "markdown",
   "id": "9916f47b",
   "metadata": {
    "id": "aYXVFYyPmAy5"
   },
   "source": [
    "### Exercise 4 Assignment Week1!\n",
    "\n",
    "A string is stored in the `coe_books` variable. \n",
    "\n",
    "* How many different books of Jonathan Coe are listed?\n",
    "* Check if the string starts with 'the accidental woman'\n",
    "* Print this text titlecased (every word starts with a capital letter, ignore the prepositions for now). And uppercased. And capitalized.\n",
    "* Convert the string to a list of words. Two of the book titles contain digits: 58 and 11. Find the index in the list and replace the string object for the number as integer. Print the list."
   ]
  },
  {
   "cell_type": "code",
   "execution_count": 158,
   "id": "afa34d95",
   "metadata": {
    "id": "S5b1g7tjmAy5"
   },
   "outputs": [],
   "source": [
    "coe_books = \"\"\"the accidental woman\n",
    "a touch of love\n",
    "the dwarves of death\n",
    "what a carve up! or the winshaw legacy viking\n",
    "the house of sleep\n",
    "the rotters' club\n",
    "the closed circle\n",
    "the rain before it falls\n",
    "the terrible privacy of maxwell sim\n",
    "expo 58\n",
    "number 11\n",
    "\"\"\""
   ]
  },
  {
   "cell_type": "code",
   "execution_count": 159,
   "id": "14d46134",
   "metadata": {
    "id": "dey43Pi0mAy6"
   },
   "outputs": [],
   "source": [
    "# Your code here"
   ]
  },
  {
   "cell_type": "markdown",
   "id": "0037a642",
   "metadata": {
    "id": "oJxlYRSOmAy6"
   },
   "source": [
    "---"
   ]
  }
 ],
 "metadata": {
  "jupytext": {
   "text_representation": {
    "extension": ".md",
    "format_name": "myst",
    "format_version": 0.13,
    "jupytext_version": "1.11.5"
   }
  },
  "kernelspec": {
   "display_name": "Python 3 (ipykernel)",
   "language": "python",
   "name": "python3"
  },
  "language_info": {
   "codemirror_mode": {
    "name": "ipython",
    "version": 3
   },
   "file_extension": ".py",
   "mimetype": "text/x-python",
   "name": "python",
   "nbconvert_exporter": "python",
   "pygments_lexer": "ipython3",
   "version": "3.8.10"
  },
  "source_map": [
   14,
   20,
   28,
   35,
   41,
   48,
   54,
   58,
   64,
   68,
   72,
   78,
   86,
   100,
   104,
   112,
   118,
   125,
   132,
   138,
   145,
   152,
   159,
   170,
   178,
   185,
   191,
   195,
   199,
   206,
   211,
   224,
   230,
   234,
   241,
   249,
   253,
   257,
   275,
   289,
   295,
   303,
   311,
   317,
   323,
   330,
   336,
   348,
   356,
   363,
   370,
   377,
   384,
   391,
   398,
   402,
   408,
   415,
   419,
   425,
   432,
   436,
   442,
   448,
   452,
   459,
   467,
   475,
   484,
   492,
   500,
   508,
   516,
   535,
   542,
   549,
   555,
   561,
   569,
   576,
   583,
   591,
   602,
   609,
   613,
   636,
   645,
   656,
   663,
   670,
   677,
   683,
   689,
   693,
   697,
   705,
   711,
   715,
   725,
   733,
   737,
   746,
   754,
   762,
   766,
   783,
   797,
   801,
   815,
   833,
   840,
   846,
   853,
   860,
   867,
   874,
   881,
   888,
   892,
   903,
   916,
   922,
   928,
   934,
   940,
   944,
   950,
   963,
   967,
   977,
   983,
   990,
   994,
   1004,
   1008,
   1017,
   1026,
   1030,
   1037,
   1046,
   1052,
   1060,
   1064,
   1068,
   1074,
   1084,
   1090,
   1098,
   1102,
   1110,
   1114,
   1122,
   1126,
   1134,
   1144,
   1152,
   1160,
   1164,
   1172,
   1179,
   1187,
   1195,
   1201,
   1207,
   1211,
   1218,
   1225,
   1232,
   1240,
   1246,
   1260,
   1267,
   1274,
   1281,
   1288,
   1292,
   1301,
   1305,
   1309,
   1319,
   1326,
   1333,
   1341,
   1350,
   1356,
   1360,
   1368,
   1372,
   1380,
   1384,
   1403,
   1407,
   1414,
   1422,
   1426,
   1430,
   1437,
   1444,
   1451,
   1455,
   1459,
   1466,
   1473,
   1481,
   1488,
   1492,
   1499,
   1503,
   1509,
   1519,
   1523,
   1534,
   1542,
   1550,
   1558,
   1565,
   1572,
   1576,
   1584,
   1594,
   1601,
   1608,
   1620,
   1624,
   1628,
   1634,
   1638,
   1648,
   1663,
   1670,
   1679,
   1688,
   1696,
   1703,
   1710,
   1722,
   1728,
   1732,
   1740,
   1747,
   1754,
   1758,
   1772,
   1779,
   1786,
   1793,
   1800,
   1807,
   1814,
   1821,
   1829,
   1835,
   1841,
   1845,
   1856,
   1864,
   1870,
   1876,
   1889,
   1896,
   1903,
   1924,
   1947,
   1953,
   1959,
   1970,
   1987,
   1994
  ]
 },
 "nbformat": 4,
 "nbformat_minor": 5
}