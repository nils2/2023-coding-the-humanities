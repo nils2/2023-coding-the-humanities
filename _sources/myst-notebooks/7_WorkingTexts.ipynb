{
 "cells": [
  {
   "cell_type": "markdown",
   "id": "d2465132",
   "metadata": {},
   "source": [
    "# Working with texts\n",
    "\n",
    "Text Normalization and Pre-processing Pipelines. \n",
    "\n",
    "Let's go back to our brief introduction to working with texts and expand upon it some more (see NOTEBOOK 5).\n",
    "\n",
    "\n",
    "\n",
    "> **NLTK vs. spaCY**\n",
    ">\n",
    "> The code below gives examples of using **NLTK** (https://www.nltk.org/) modules on text. You may want to check out the relatively new **spaCY** (https://spacy.io/usage) package. Depending on the tasks you need to do and the language data that is available, this module offers a faster and more advanced, and more intuitive method to do Natural Language Processing on texts.\n",
    ">\n",
    "> The spaCY documentation pages (e.g. https://spacy.io/usage/linguistic-features) provide a lot of examples."
   ]
  },
  {
   "cell_type": "markdown",
   "id": "338e86ac",
   "metadata": {},
   "source": [
    "## A Standard Natural Language Processing (NLP) Pipeline\n",
    "\n",
    "```{image} images/pipeline.png\n",
    ":alt: pipeline\n",
    "```"
   ]
  },
  {
   "cell_type": "markdown",
   "id": "ba3f32da",
   "metadata": {},
   "source": [
    "---"
   ]
  },
  {
   "cell_type": "markdown",
   "id": "3dad7785",
   "metadata": {},
   "source": [
    "### What we hope to get as the final result..."
   ]
  },
  {
   "cell_type": "markdown",
   "id": "5f72ebf7",
   "metadata": {},
   "source": [
    "Go on the Stanford CoreNLP [online demo](http://corenlp.run/) and parse the following sentence:\n",
    "\n",
    "> I think there is a world market for maybe five computers.\n",
    "\n",
    "(allegedly said by Thomas J. Watson, CEO of IBM, in 1943)\n",
    "\n",
    "This might be useful: [list of Penn Treebank POS tags.](https://www.ling.upenn.edu/courses/Fall_2003/ling001/penn_treebank_pos.html)"
   ]
  },
  {
   "cell_type": "markdown",
   "id": "f93719ef",
   "metadata": {},
   "source": [
    "---"
   ]
  },
  {
   "cell_type": "markdown",
   "id": "5e8e0ca6",
   "metadata": {},
   "source": [
    "### A Few Recommendations"
   ]
  },
  {
   "cell_type": "markdown",
   "id": "42a5c4d0",
   "metadata": {},
   "source": [
    "#### [NLTK](http://www.nltk.org/) (Python)\n",
    "\n",
    "\n",
    "- has a variety of ready/easy-to-use implementations in several languages (some tools available for Dutch as well)\n",
    "\n",
    "\n",
    "- has a variety of APIs for other packages (e.g. Stanford CoreNLP)\n",
    "\n",
    "\n",
    "- lacks Information Extraction features (e.g. coreference resolution, relation extraction)\n",
    "\n",
    "\n",
    "- several implementations are not state-of-the-art and/or are rather slow"
   ]
  },
  {
   "cell_type": "markdown",
   "id": "184e01fe",
   "metadata": {},
   "source": [
    "#### [Stanford CoreNLP](https://stanfordnlp.github.io/CoreNLP/) (Java)\n",
    "\n",
    "\n",
    "- includes virtually any NLP tool\n",
    "\n",
    "\n",
    "- basic distribution for English, but models for the following languages are available: Arabic, Chinese, French, German, and Spanish\n",
    "\n",
    "\n",
    "- implementations are often State-of-the-Art (though some component may not be the most efficient)\n",
    "\n",
    "\n",
    "- has Python wrappers\n",
    "\n",
    "\n",
    "- needs a bit more technical skills than using NLTK"
   ]
  },
  {
   "cell_type": "markdown",
   "id": "7f5842ac",
   "metadata": {},
   "source": [
    "#### [spaCy](https://spacy.io) (Python)\n",
    "\n",
    "\n",
    "- industry-ready: scale, performance, getting things done, lacks some flexibility\n",
    "\n",
    "\n",
    "- many models for many languages: English German French Spanish Portuguese Italian Dutch Greek\n",
    "\n",
    "\n",
    "- implementations are often State-of-the-Art\n",
    "\n",
    "\n",
    "- has Python wrappers and the very clean \"spaCy pipeline\" programming interface \n",
    "\n",
    "\n",
    "- comes with many machine learning pre-trained models"
   ]
  },
  {
   "cell_type": "markdown",
   "id": "6e646a8a",
   "metadata": {},
   "source": [
    "#### [pattern](https://www.clips.uantwerpen.be/pages/pattern-nl) (NL-EN/Python)\n",
    "\n",
    "\n",
    "- toolbox for Dutch\n",
    "\n",
    "\n",
    "- easy to use\n",
    "\n",
    "\n",
    "- contains modules for PoS tagging, sentiment analysis and a WordNet interface\n",
    "\n",
    "\n",
    "- many interesting datasets available\n",
    "\n",
    "\n",
    "- available for [English](https://www.clips.uantwerpen.be/pages/pattern-en) as well"
   ]
  },
  {
   "cell_type": "markdown",
   "id": "7969e07a",
   "metadata": {},
   "source": [
    "When to use what? Chose by yourself: https://spacy.io/usage/facts-figures"
   ]
  },
  {
   "cell_type": "markdown",
   "id": "94d1ef1d",
   "metadata": {},
   "source": [
    "---"
   ]
  },
  {
   "cell_type": "markdown",
   "id": "f4b49793",
   "metadata": {},
   "source": [
    "### Task-dependent choices"
   ]
  },
  {
   "cell_type": "markdown",
   "id": "435ff4d9",
   "metadata": {},
   "source": [
    "#### A note on terminology:\n",
    "\n",
    "* **Type** = abstract ideal form of a sequence of characters (not necessarily a word in a language!)\n",
    "* **Token** = instantiation of a type in our corpus or document\n",
    "\n",
    "For example: *to be or not to be.*\n",
    "\n",
    "* 6 tokens (to, be, or, not, to, be)\n",
    "* 4 types (to, be, or, not)\n",
    "\n",
    "The types coincide with the vocabulary.\n",
    "\n",
    "Note that not all types might be proper words nor have a related lemma in an external lexicon."
   ]
  },
  {
   "cell_type": "markdown",
   "id": "ac052f86",
   "metadata": {},
   "source": [
    "#### Cleaning\n",
    "\n",
    "- remove lists, tables, figure captions, page headers, etc.\n",
    "\n",
    "\n",
    "\n",
    "- text from XML/HTML: remove unwanted code (e.g. head elements, boilerplates, comments, javascript code).\n",
    "\n",
    "\n",
    "\n",
    "- text from PDF: remove noisy characters\n",
    "\n",
    "\n",
    "- OCR errors are systematic: e.g. an \"`m`\" recognized as a \"`rn`\", an \"`e`\" as a \"`c`\", an \"`l`\" as a \"`1`\", an \"`f`\" recognized as a \"`s`\"."
   ]
  },
  {
   "cell_type": "markdown",
   "id": "2e12a0a3",
   "metadata": {},
   "source": [
    "#### Normalization and filtering\n",
    "\n",
    "Reducing the valid vocabulary space or even the text itself by filtering or standardizing. Standardizing might be considered as the task of creating equivalence classes of types. These decisions are application-dependent, might come from trial and error but should motivated in principle.\n",
    "\n",
    "- lowercasing and abbreviations. If you want \"`Train`\" and \"`train`\" to be counted as token of the same type, you should `.lower()` the text, however case-folding may remove disciminative information, e.g., \"`U.S.`\" \"`US`\" vs. \"`us`\".\n",
    "\n",
    "\n",
    "- Hyphenation, accents, ... (\"`text-minig`\", \"`textmining`\", \"`text mining`\"; \"`cliche`\", \"`cliché`\")\n",
    "\n",
    "\n",
    "- Punctuation, digits, misspells, ...\n",
    "\n",
    "\n",
    "- Very frequent or very rare words.\n",
    "\n",
    "\n",
    "- Stopwords (usually, these are very frequent words!).\n",
    "\n",
    "\n",
    "- Specialized portions of the text (e.g., footnotes).\n",
    "\n",
    "\n",
    "- Normalization can also be done via relations, e.g. considering \"`car`\" and \"`automobile`\" as synonyms. We can use [WordNet](https://wordnet.princeton.edu/) for that."
   ]
  },
  {
   "cell_type": "markdown",
   "id": "d5a2b52f",
   "metadata": {},
   "source": [
    "> The example below assumes nltk is installed and set up. If you get a `LookupError` while running, it is likely nltk needs to download its materials first. Follow the error and run `nltk.download('stopwords')` in a cell once."
   ]
  },
  {
   "cell_type": "code",
   "execution_count": 1,
   "id": "f4a8530d",
   "metadata": {},
   "outputs": [
    {
     "ename": "ModuleNotFoundError",
     "evalue": "No module named 'nltk'",
     "output_type": "error",
     "traceback": [
      "\u001b[0;31m---------------------------------------------------------------------------\u001b[0m",
      "\u001b[0;31mModuleNotFoundError\u001b[0m                       Traceback (most recent call last)",
      "Input \u001b[0;32mIn [1]\u001b[0m, in \u001b[0;36m<module>\u001b[0;34m\u001b[0m\n\u001b[0;32m----> 1\u001b[0m \u001b[38;5;28;01mimport\u001b[39;00m \u001b[38;5;21;01mnltk\u001b[39;00m\n\u001b[1;32m      2\u001b[0m \u001b[38;5;28;01mfrom\u001b[39;00m \u001b[38;5;21;01mnltk\u001b[39;00m\u001b[38;5;21;01m.\u001b[39;00m\u001b[38;5;21;01mcorpus\u001b[39;00m \u001b[38;5;28;01mimport\u001b[39;00m stopwords\n\u001b[1;32m      4\u001b[0m \u001b[38;5;124m\"\u001b[39m\u001b[38;5;124m, \u001b[39m\u001b[38;5;124m\"\u001b[39m\u001b[38;5;241m.\u001b[39mjoin(\u001b[38;5;28mset\u001b[39m(stopwords\u001b[38;5;241m.\u001b[39mwords(\u001b[38;5;124m'\u001b[39m\u001b[38;5;124mfrench\u001b[39m\u001b[38;5;124m'\u001b[39m)))\n",
      "\u001b[0;31mModuleNotFoundError\u001b[0m: No module named 'nltk'"
     ]
    }
   ],
   "source": [
    "import nltk\n",
    "from nltk.corpus import stopwords\n",
    "\n",
    "\", \".join(set(stopwords.words('french')))"
   ]
  },
  {
   "cell_type": "markdown",
   "id": "4dcee3b3",
   "metadata": {},
   "source": [
    "---"
   ]
  },
  {
   "cell_type": "markdown",
   "id": "a355f933",
   "metadata": {},
   "source": [
    "## Sentence Segmentation (NLTK)\n",
    "\n",
    "In its base form, a text is a stream of characters."
   ]
  },
  {
   "cell_type": "code",
   "execution_count": 2,
   "id": "9633aa3a",
   "metadata": {},
   "outputs": [
    {
     "ename": "ModuleNotFoundError",
     "evalue": "No module named 'nltk'",
     "output_type": "error",
     "traceback": [
      "\u001b[0;31m---------------------------------------------------------------------------\u001b[0m",
      "\u001b[0;31mModuleNotFoundError\u001b[0m                       Traceback (most recent call last)",
      "Input \u001b[0;32mIn [2]\u001b[0m, in \u001b[0;36m<module>\u001b[0;34m\u001b[0m\n\u001b[0;32m----> 1\u001b[0m \u001b[38;5;28;01mimport\u001b[39;00m \u001b[38;5;21;01mnltk\u001b[39;00m\n",
      "\u001b[0;31mModuleNotFoundError\u001b[0m: No module named 'nltk'"
     ]
    }
   ],
   "source": [
    "import nltk\n",
    "# nltk.download('gutenberg') # Run if you get an LookupError"
   ]
  },
  {
   "cell_type": "code",
   "execution_count": 3,
   "id": "21902f5d",
   "metadata": {},
   "outputs": [
    {
     "ename": "NameError",
     "evalue": "name 'nltk' is not defined",
     "output_type": "error",
     "traceback": [
      "\u001b[0;31m---------------------------------------------------------------------------\u001b[0m",
      "\u001b[0;31mNameError\u001b[0m                                 Traceback (most recent call last)",
      "Input \u001b[0;32mIn [3]\u001b[0m, in \u001b[0;36m<module>\u001b[0;34m\u001b[0m\n\u001b[0;32m----> 1\u001b[0m text \u001b[38;5;241m=\u001b[39m \u001b[43mnltk\u001b[49m\u001b[38;5;241m.\u001b[39mcorpus\u001b[38;5;241m.\u001b[39mgutenberg\u001b[38;5;241m.\u001b[39mraw(\u001b[38;5;124m'\u001b[39m\u001b[38;5;124mchesterton-thursday.txt\u001b[39m\u001b[38;5;124m'\u001b[39m)\n\u001b[1;32m      2\u001b[0m \u001b[38;5;28mprint\u001b[39m(text[:\u001b[38;5;241m1010\u001b[39m])\n",
      "\u001b[0;31mNameError\u001b[0m: name 'nltk' is not defined"
     ]
    }
   ],
   "source": [
    "text = nltk.corpus.gutenberg.raw('chesterton-thursday.txt')\n",
    "print(text[:1010])"
   ]
  },
  {
   "cell_type": "code",
   "execution_count": 4,
   "id": "08ae0f3a",
   "metadata": {},
   "outputs": [
    {
     "ename": "NameError",
     "evalue": "name 'nltk' is not defined",
     "output_type": "error",
     "traceback": [
      "\u001b[0;31m---------------------------------------------------------------------------\u001b[0m",
      "\u001b[0;31mNameError\u001b[0m                                 Traceback (most recent call last)",
      "Input \u001b[0;32mIn [4]\u001b[0m, in \u001b[0;36m<module>\u001b[0;34m\u001b[0m\n\u001b[0;32m----> 1\u001b[0m \u001b[43mnltk\u001b[49m\u001b[38;5;241m.\u001b[39mcorpus\u001b[38;5;241m.\u001b[39mgutenberg\u001b[38;5;241m.\u001b[39mfileids()\n",
      "\u001b[0;31mNameError\u001b[0m: name 'nltk' is not defined"
     ]
    }
   ],
   "source": [
    "nltk.corpus.gutenberg.fileids()"
   ]
  },
  {
   "cell_type": "markdown",
   "id": "81632070",
   "metadata": {},
   "source": [
    "The first NLP processing step is **the identification of the sentence boundaries**:\n",
    "\n",
    "- some pipelines perform the sentence splitting phase before the tokenization (e.g., NLTK)\n",
    "\n",
    "\n",
    "- while other uses information about the tokens (e.g., CoreNLP) and/or about the parse tree (e.g., spaCy) to identify sentence boundaries"
   ]
  },
  {
   "cell_type": "markdown",
   "id": "9f97b98e",
   "metadata": {},
   "source": [
    "The example below uses the built-in [Gutenberg corpus](https://www.nltk.org/book/ch02.html) of NLTK."
   ]
  },
  {
   "cell_type": "code",
   "execution_count": 5,
   "id": "8e5508bf",
   "metadata": {},
   "outputs": [
    {
     "ename": "NameError",
     "evalue": "name 'nltk' is not defined",
     "output_type": "error",
     "traceback": [
      "\u001b[0;31m---------------------------------------------------------------------------\u001b[0m",
      "\u001b[0;31mNameError\u001b[0m                                 Traceback (most recent call last)",
      "Input \u001b[0;32mIn [5]\u001b[0m, in \u001b[0;36m<module>\u001b[0;34m\u001b[0m\n\u001b[1;32m      1\u001b[0m \u001b[38;5;66;03m# Getting rid of newlines\u001b[39;00m\n\u001b[0;32m----> 2\u001b[0m text \u001b[38;5;241m=\u001b[39m \u001b[43mnltk\u001b[49m\u001b[38;5;241m.\u001b[39mcorpus\u001b[38;5;241m.\u001b[39mgutenberg\u001b[38;5;241m.\u001b[39mraw(\u001b[38;5;124m'\u001b[39m\u001b[38;5;124mchesterton-thursday.txt\u001b[39m\u001b[38;5;124m'\u001b[39m)\n\u001b[1;32m      3\u001b[0m text \u001b[38;5;241m=\u001b[39m text\u001b[38;5;241m.\u001b[39mreplace(\u001b[38;5;124m\"\u001b[39m\u001b[38;5;130;01m\\n\u001b[39;00m\u001b[38;5;124m\"\u001b[39m, \u001b[38;5;124m\"\u001b[39m\u001b[38;5;124m \u001b[39m\u001b[38;5;124m\"\u001b[39m)\n\u001b[1;32m      5\u001b[0m \u001b[38;5;28mprint\u001b[39m(text[:\u001b[38;5;241m800\u001b[39m])\n",
      "\u001b[0;31mNameError\u001b[0m: name 'nltk' is not defined"
     ]
    }
   ],
   "source": [
    "# Getting rid of newlines\n",
    "text = nltk.corpus.gutenberg.raw('chesterton-thursday.txt')\n",
    "text = text.replace(\"\\n\", \" \")\n",
    "\n",
    "print(text[:800])"
   ]
  },
  {
   "cell_type": "code",
   "execution_count": 6,
   "id": "9c74f8e1",
   "metadata": {},
   "outputs": [
    {
     "ename": "NameError",
     "evalue": "name 'nltk' is not defined",
     "output_type": "error",
     "traceback": [
      "\u001b[0;31m---------------------------------------------------------------------------\u001b[0m",
      "\u001b[0;31mNameError\u001b[0m                                 Traceback (most recent call last)",
      "Input \u001b[0;32mIn [6]\u001b[0m, in \u001b[0;36m<module>\u001b[0;34m\u001b[0m\n\u001b[1;32m      1\u001b[0m \u001b[38;5;66;03m# Alternatively, the NLTK corpus sents() returns the tokenized words as well \u001b[39;00m\n\u001b[0;32m----> 2\u001b[0m \u001b[38;5;28;01mfor\u001b[39;00m sentence \u001b[38;5;129;01min\u001b[39;00m \u001b[43mnltk\u001b[49m\u001b[38;5;241m.\u001b[39mcorpus\u001b[38;5;241m.\u001b[39mgutenberg\u001b[38;5;241m.\u001b[39msents(\u001b[38;5;124m'\u001b[39m\u001b[38;5;124mchesterton-thursday.txt\u001b[39m\u001b[38;5;124m'\u001b[39m)[:\u001b[38;5;241m8\u001b[39m]:\n\u001b[1;32m      3\u001b[0m     \u001b[38;5;28mprint\u001b[39m(\u001b[38;5;124m\"\u001b[39m\u001b[38;5;124m \u001b[39m\u001b[38;5;124m\"\u001b[39m\u001b[38;5;241m.\u001b[39mjoin(sentence))\n",
      "\u001b[0;31mNameError\u001b[0m: name 'nltk' is not defined"
     ]
    }
   ],
   "source": [
    "# Alternatively, the NLTK corpus sents() returns the tokenized words as well \n",
    "for sentence in nltk.corpus.gutenberg.sents('chesterton-thursday.txt')[:8]:\n",
    "    print(\" \".join(sentence))"
   ]
  },
  {
   "cell_type": "markdown",
   "id": "14408fb8",
   "metadata": {},
   "source": [
    " ... but **what is a sentence?**\n",
    " \n",
    " - something ending with \"`.`\", \"`!`\" or \"`?`\", maybe?"
   ]
  },
  {
   "cell_type": "code",
   "execution_count": 7,
   "id": "a0caf283",
   "metadata": {},
   "outputs": [
    {
     "ename": "NameError",
     "evalue": "name 'text' is not defined",
     "output_type": "error",
     "traceback": [
      "\u001b[0;31m---------------------------------------------------------------------------\u001b[0m",
      "\u001b[0;31mNameError\u001b[0m                                 Traceback (most recent call last)",
      "Input \u001b[0;32mIn [7]\u001b[0m, in \u001b[0;36m<module>\u001b[0;34m\u001b[0m\n\u001b[1;32m      1\u001b[0m \u001b[38;5;28;01mimport\u001b[39;00m \u001b[38;5;21;01mre\u001b[39;00m\n\u001b[0;32m----> 2\u001b[0m re\u001b[38;5;241m.\u001b[39msplit(\u001b[38;5;124mr\u001b[39m\u001b[38;5;124m\"\u001b[39m\u001b[38;5;124m[.?!]\u001b[39m\u001b[38;5;124m\"\u001b[39m, \u001b[43mtext\u001b[49m[:\u001b[38;5;241m800\u001b[39m])\n",
      "\u001b[0;31mNameError\u001b[0m: name 'text' is not defined"
     ]
    }
   ],
   "source": [
    "import re\n",
    "re.split(r\"[.?!]\", text[:800])"
   ]
  },
  {
   "cell_type": "code",
   "execution_count": 8,
   "id": "3ca6d667",
   "metadata": {},
   "outputs": [
    {
     "ename": "NameError",
     "evalue": "name 'text' is not defined",
     "output_type": "error",
     "traceback": [
      "\u001b[0;31m---------------------------------------------------------------------------\u001b[0m",
      "\u001b[0;31mNameError\u001b[0m                                 Traceback (most recent call last)",
      "Input \u001b[0;32mIn [8]\u001b[0m, in \u001b[0;36m<module>\u001b[0;34m\u001b[0m\n\u001b[0;32m----> 1\u001b[0m \u001b[38;5;28mprint\u001b[39m(\u001b[43mtext\u001b[49m[:\u001b[38;5;241m200\u001b[39m])\n",
      "\u001b[0;31mNameError\u001b[0m: name 'text' is not defined"
     ]
    }
   ],
   "source": [
    "print(text[:200])"
   ]
  },
  {
   "cell_type": "markdown",
   "id": "d8ee47bc",
   "metadata": {},
   "source": [
    "Not really, a period can be used also to denote:\n",
    "\n",
    "- an abbreviation (47% of the periods in the Wall Street Journal denote abbreviations)\n",
    "\n",
    "- decimal point\n",
    "\n",
    "- ellipsis\n",
    "\n",
    "- url or e-mail address..."
   ]
  },
  {
   "cell_type": "markdown",
   "id": "58922b36",
   "metadata": {},
   "source": [
    "Question marks and exclamation marks can be used in:\n",
    "\n",
    "- emoticons and slang\n",
    "\n",
    "- computer code \n",
    "\n",
    "- embedded quotations..."
   ]
  },
  {
   "cell_type": "markdown",
   "id": "aae046ba",
   "metadata": {},
   "source": [
    "Even if heuristic solutions are conceivable (e.g. CoreNLP)...\n",
    "\n",
    "- e.g. *a period is not a sentence boundary if the preceding token is title-cased*"
   ]
  },
  {
   "cell_type": "markdown",
   "id": "6e0dc888",
   "metadata": {},
   "source": [
    "...the best option is to treat the sentence boundary identification as a **binary classification problem** (e.g. NLTK), in which possible features can be:\n",
    "\n",
    "- case of the surrounding tokens\n",
    "\n",
    "\n",
    "- length of the surrounding tokens\n",
    "\n",
    "\n",
    "- lemma/type/form of the surrounding tokens"
   ]
  },
  {
   "cell_type": "markdown",
   "id": "3c2b6fd0",
   "metadata": {},
   "source": [
    "#### Tokenizing sentences\n",
    "NLTK has a built-in module for tokenizing sentences that takes into account these *features*. It returns a sentence-tokenized copy of a text, using NLTK's recommended sentence tokenizer."
   ]
  },
  {
   "cell_type": "code",
   "execution_count": 9,
   "id": "fd0df138",
   "metadata": {},
   "outputs": [
    {
     "ename": "NameError",
     "evalue": "name 'nltk' is not defined",
     "output_type": "error",
     "traceback": [
      "\u001b[0;31m---------------------------------------------------------------------------\u001b[0m",
      "\u001b[0;31mNameError\u001b[0m                                 Traceback (most recent call last)",
      "Input \u001b[0;32mIn [9]\u001b[0m, in \u001b[0;36m<module>\u001b[0;34m\u001b[0m\n\u001b[0;32m----> 1\u001b[0m \u001b[38;5;28;01mfor\u001b[39;00m sent \u001b[38;5;129;01min\u001b[39;00m \u001b[43mnltk\u001b[49m\u001b[38;5;241m.\u001b[39mtokenize\u001b[38;5;241m.\u001b[39msent_tokenize(text[:\u001b[38;5;241m1010\u001b[39m]):\n\u001b[1;32m      2\u001b[0m     \u001b[38;5;28mprint\u001b[39m(sent)\n\u001b[1;32m      3\u001b[0m     \u001b[38;5;28mprint\u001b[39m()\n",
      "\u001b[0;31mNameError\u001b[0m: name 'nltk' is not defined"
     ]
    }
   ],
   "source": [
    "for sent in nltk.tokenize.sent_tokenize(text[:1010]):\n",
    "    print(sent)\n",
    "    print()"
   ]
  },
  {
   "cell_type": "markdown",
   "id": "05bdd1f7",
   "metadata": {},
   "source": [
    "The accuracy of these classifiers can be as high as over 99%"
   ]
  },
  {
   "cell_type": "markdown",
   "id": "ef4e66e9",
   "metadata": {},
   "source": [
    "NLTK come packed with classifiers trained on 17 languages, among which Dutch:\n",
    "\n",
    "- there are methods that allows you to train your own models as well. This can be useful if you want to process special texts like tweets or facebook messages..."
   ]
  },
  {
   "cell_type": "code",
   "execution_count": 10,
   "id": "df5fa5d2",
   "metadata": {},
   "outputs": [],
   "source": [
    "a_dutch_email = \"\"\"Uw abonnement op uw OV-chipkaart activeren.\n",
    "Het is belangrijk dat u het abonnement op uw OV-chipkaart activeert.\n",
    "Dit kunt u doen bij de NS-kaartautomaat of bij één van de overige ophaalpunten voor de OV-chipkaart. Kijk voor een overzicht van de ophaalpunten op www.ov-chipkaart.nl/adresvinder.\n",
    "Hoe activeert u uw abonnement bij de NS-kaartautomaat?\n",
    "Houd uw OV-chipkaart voor de kaartlezer rechts onder het scherm.\n",
    "Kies 'Ophalen bestelling' en volg de aanwijzingen op het scherm.\n",
    "Voordat u aan uw reis begint dient er minimaal €10,- saldo op uw OV-chipkaart te staan.\n",
    "Vergeet niet in en uit te checken tijdens uw reis.\n",
    "Heeft u nog vragen?\n",
    "We helpen u graag verder. Kijk op www.ns.nl of stel uw vraag op het NS Serviceforum (www.ns.nl/forum). U kunt ook contact opnemen met NS Klantenservice via telefoonnummer 030 - 751 51 55 of via Twitter @NS_online. We staan dag en nacht voor u klaar.\n",
    "\"\"\""
   ]
  },
  {
   "cell_type": "code",
   "execution_count": 11,
   "id": "54b8b988",
   "metadata": {},
   "outputs": [],
   "source": [
    "# To make it a bit harder for the tokenizer, present it as one paragraph without line breaks.\n",
    "test_text = a_dutch_email.replace('\\n', ' ')"
   ]
  },
  {
   "cell_type": "code",
   "execution_count": 12,
   "id": "8b418192",
   "metadata": {},
   "outputs": [
    {
     "ename": "NameError",
     "evalue": "name 'nltk' is not defined",
     "output_type": "error",
     "traceback": [
      "\u001b[0;31m---------------------------------------------------------------------------\u001b[0m",
      "\u001b[0;31mNameError\u001b[0m                                 Traceback (most recent call last)",
      "Input \u001b[0;32mIn [12]\u001b[0m, in \u001b[0;36m<module>\u001b[0;34m\u001b[0m\n\u001b[0;32m----> 1\u001b[0m \u001b[43mnltk\u001b[49m\u001b[38;5;241m.\u001b[39mtokenize\u001b[38;5;241m.\u001b[39msent_tokenize(test_text, language\u001b[38;5;241m=\u001b[39m\u001b[38;5;124m'\u001b[39m\u001b[38;5;124mdutch\u001b[39m\u001b[38;5;124m'\u001b[39m)\n",
      "\u001b[0;31mNameError\u001b[0m: name 'nltk' is not defined"
     ]
    }
   ],
   "source": [
    "nltk.tokenize.sent_tokenize(test_text, language='dutch')"
   ]
  },
  {
   "cell_type": "markdown",
   "id": "d97d79c0",
   "metadata": {},
   "source": [
    "---"
   ]
  },
  {
   "cell_type": "markdown",
   "id": "d1aa050e",
   "metadata": {},
   "source": [
    "## Tokenization (NLTK)\n",
    "\n",
    "Tokenization is the task of splitting a string of characters into chunks of characters.\n",
    "\n",
    "It is a task that is usually tackled with rule-based or regex-based algorithms."
   ]
  },
  {
   "cell_type": "code",
   "execution_count": 13,
   "id": "d189082c",
   "metadata": {},
   "outputs": [
    {
     "ename": "NameError",
     "evalue": "name 'nltk' is not defined",
     "output_type": "error",
     "traceback": [
      "\u001b[0;31m---------------------------------------------------------------------------\u001b[0m",
      "\u001b[0;31mNameError\u001b[0m                                 Traceback (most recent call last)",
      "Input \u001b[0;32mIn [13]\u001b[0m, in \u001b[0;36m<module>\u001b[0;34m\u001b[0m\n\u001b[1;32m      1\u001b[0m \u001b[38;5;66;03m# It can be performed BEFORE sentence splitting\u001b[39;00m\n\u001b[1;32m      2\u001b[0m \u001b[38;5;66;03m# Here: one list of words (tokens) in the text\u001b[39;00m\n\u001b[0;32m----> 4\u001b[0m words \u001b[38;5;241m=\u001b[39m \u001b[43mnltk\u001b[49m\u001b[38;5;241m.\u001b[39mcorpus\u001b[38;5;241m.\u001b[39mgutenberg\u001b[38;5;241m.\u001b[39mwords(\u001b[38;5;124m'\u001b[39m\u001b[38;5;124mchesterton-thursday.txt\u001b[39m\u001b[38;5;124m'\u001b[39m)\n\u001b[1;32m      6\u001b[0m \u001b[38;5;28mprint\u001b[39m(words[:\u001b[38;5;241m226\u001b[39m])\n",
      "\u001b[0;31mNameError\u001b[0m: name 'nltk' is not defined"
     ]
    }
   ],
   "source": [
    "# It can be performed BEFORE sentence splitting\n",
    "# Here: one list of words (tokens) in the text\n",
    "\n",
    "words = nltk.corpus.gutenberg.words('chesterton-thursday.txt')\n",
    "\n",
    "print(words[:226])"
   ]
  },
  {
   "cell_type": "code",
   "execution_count": 14,
   "id": "e71386f2",
   "metadata": {},
   "outputs": [
    {
     "ename": "NameError",
     "evalue": "name 'nltk' is not defined",
     "output_type": "error",
     "traceback": [
      "\u001b[0;31m---------------------------------------------------------------------------\u001b[0m",
      "\u001b[0;31mNameError\u001b[0m                                 Traceback (most recent call last)",
      "Input \u001b[0;32mIn [14]\u001b[0m, in \u001b[0;36m<module>\u001b[0;34m\u001b[0m\n\u001b[1;32m      1\u001b[0m \u001b[38;5;66;03m# It can be performed AFTER sentence splitting\u001b[39;00m\n\u001b[1;32m      2\u001b[0m \u001b[38;5;66;03m# Here: one list of lists (sentences) that contains words (tokens)\u001b[39;00m\n\u001b[0;32m----> 4\u001b[0m sents \u001b[38;5;241m=\u001b[39m \u001b[43mnltk\u001b[49m\u001b[38;5;241m.\u001b[39mcorpus\u001b[38;5;241m.\u001b[39mgutenberg\u001b[38;5;241m.\u001b[39msents(\u001b[38;5;124m'\u001b[39m\u001b[38;5;124mchesterton-thursday.txt\u001b[39m\u001b[38;5;124m'\u001b[39m)\n\u001b[1;32m      6\u001b[0m \u001b[38;5;28;01mfor\u001b[39;00m s \u001b[38;5;129;01min\u001b[39;00m sents[:\u001b[38;5;241m8\u001b[39m]:\n\u001b[1;32m      7\u001b[0m     \u001b[38;5;28mprint\u001b[39m(s)\n",
      "\u001b[0;31mNameError\u001b[0m: name 'nltk' is not defined"
     ]
    }
   ],
   "source": [
    "# It can be performed AFTER sentence splitting\n",
    "# Here: one list of lists (sentences) that contains words (tokens)\n",
    "\n",
    "sents = nltk.corpus.gutenberg.sents('chesterton-thursday.txt')\n",
    "\n",
    "for s in sents[:8]:\n",
    "    print(s)"
   ]
  },
  {
   "cell_type": "markdown",
   "id": "377c643d",
   "metadata": {},
   "source": [
    "Some of the most recurrent issues with **Tokenization in English**:\n",
    "\n",
    "- contractions: *I'm*, *isn't*, *Gianluca's*\n",
    "\n",
    "\n",
    "- emoticons: *:)*, *;-)*\n",
    "\n",
    "\n",
    "- proper names: *J.K. Rowling*, *F.B.I.*, *O'Neill*\n",
    "\n",
    "\n",
    "- hyphenation can be used in many ways:\n",
    "\n",
    "    - single word: *e-mail*, *co-operation*\n",
    "    - how many words? *so-called*, *pro-gun*\n",
    "    - grouping of words for non-strictly-linguistic purposes: *take-it-or-leave*\n",
    "\n",
    "\n",
    "\n",
    "- multi word expressions (MWE) and collocations:\n",
    "\n",
    "    - phrasal verbs: *give up*, *work out*, *move in*\n",
    "    - multi-token proper names: *New York*, *Las Vegas*\n",
    "    - compound nominals: *car park*, *attorney general*, *part of speech*\n",
    "    - ..."
   ]
  },
  {
   "cell_type": "markdown",
   "id": "7dd03d25",
   "metadata": {},
   "source": [
    "The complexity of this task is also **language-dependent**:\n",
    "\n",
    "- e.g. compounds in German: *Donaudampfschifffahrtselektrizitätenhauptbetriebswerkbauunterbeamtengesellschaft* (i.e. \"Association for subordinate officials of the head office management of the Danube steamboat electrical services\")\n",
    "\n",
    "\n",
    "- Chinese is written without spaces between words: 天花 (\"small pot\") vs. 天 (\"sky\") and 花 (\"flower\")."
   ]
  },
  {
   "cell_type": "markdown",
   "id": "d3dfe014",
   "metadata": {},
   "source": [
    "Simplest (but suboptimal) solution: **segment around space characters**"
   ]
  },
  {
   "cell_type": "code",
   "execution_count": 15,
   "id": "fc4def26",
   "metadata": {},
   "outputs": [
    {
     "ename": "NameError",
     "evalue": "name 'text' is not defined",
     "output_type": "error",
     "traceback": [
      "\u001b[0;31m---------------------------------------------------------------------------\u001b[0m",
      "\u001b[0;31mNameError\u001b[0m                                 Traceback (most recent call last)",
      "Input \u001b[0;32mIn [15]\u001b[0m, in \u001b[0;36m<module>\u001b[0;34m\u001b[0m\n\u001b[0;32m----> 1\u001b[0m tokens \u001b[38;5;241m=\u001b[39m \u001b[43mtext\u001b[49m\u001b[38;5;241m.\u001b[39msplit()\n\u001b[1;32m      3\u001b[0m \u001b[38;5;28mprint\u001b[39m(tokens[:\u001b[38;5;241m200\u001b[39m])\n",
      "\u001b[0;31mNameError\u001b[0m: name 'text' is not defined"
     ]
    }
   ],
   "source": [
    "tokens = text.split()\n",
    "\n",
    "print(tokens[:200])"
   ]
  },
  {
   "cell_type": "markdown",
   "id": "94be28a9",
   "metadata": {},
   "source": [
    "There are many issues with this solution, among which the production of tokens such as `'plume.'`, `'thus;'` and `'were--our'`"
   ]
  },
  {
   "cell_type": "markdown",
   "id": "319efce8",
   "metadata": {},
   "source": [
    "NLTK's recommended word tokenizer is the Penn `nltk.tokenize.TreebankWordTokenizer().tokenize()`, that can be called in many ways, among which the easier is by using the `nltk.tokenize.word_tokenize()` wrapper:"
   ]
  },
  {
   "cell_type": "code",
   "execution_count": 16,
   "id": "17b9ec7b",
   "metadata": {},
   "outputs": [
    {
     "ename": "NameError",
     "evalue": "name 'nltk' is not defined",
     "output_type": "error",
     "traceback": [
      "\u001b[0;31m---------------------------------------------------------------------------\u001b[0m",
      "\u001b[0;31mNameError\u001b[0m                                 Traceback (most recent call last)",
      "Input \u001b[0;32mIn [16]\u001b[0m, in \u001b[0;36m<module>\u001b[0;34m\u001b[0m\n\u001b[1;32m      1\u001b[0m \u001b[38;5;66;03m# This is the same as nltk.tokenize.TreebankWordTokenizer().tokenize(text[:1010])\u001b[39;00m\n\u001b[0;32m----> 3\u001b[0m tokens \u001b[38;5;241m=\u001b[39m \u001b[43mnltk\u001b[49m\u001b[38;5;241m.\u001b[39mtokenize\u001b[38;5;241m.\u001b[39mword_tokenize(text)\n\u001b[1;32m      5\u001b[0m \u001b[38;5;28mprint\u001b[39m(tokens[:\u001b[38;5;241m200\u001b[39m])\n",
      "\u001b[0;31mNameError\u001b[0m: name 'nltk' is not defined"
     ]
    }
   ],
   "source": [
    "# This is the same as nltk.tokenize.TreebankWordTokenizer().tokenize(text[:1010])\n",
    "\n",
    "tokens = nltk.tokenize.word_tokenize(text)\n",
    "\n",
    "print(tokens[:200])"
   ]
  },
  {
   "cell_type": "markdown",
   "id": "e082470f",
   "metadata": {},
   "source": [
    "NLTK offers alternative word tokenizer, that may be more appropriate according to the applications you are developing"
   ]
  },
  {
   "cell_type": "code",
   "execution_count": 17,
   "id": "83236ccf",
   "metadata": {},
   "outputs": [
    {
     "name": "stdout",
     "output_type": "stream",
     "text": [
      "['That', 'U.S.A.', 'poster-print', \"doesn't\", 'cost', '$12.40...']\n"
     ]
    }
   ],
   "source": [
    "nltk_text = 'That U.S.A. poster-print doesn\\'t cost $12.40...'\n",
    "print(nltk_text.split())"
   ]
  },
  {
   "cell_type": "code",
   "execution_count": 18,
   "id": "dd6db008",
   "metadata": {},
   "outputs": [
    {
     "ename": "NameError",
     "evalue": "name 'nltk' is not defined",
     "output_type": "error",
     "traceback": [
      "\u001b[0;31m---------------------------------------------------------------------------\u001b[0m",
      "\u001b[0;31mNameError\u001b[0m                                 Traceback (most recent call last)",
      "Input \u001b[0;32mIn [18]\u001b[0m, in \u001b[0;36m<module>\u001b[0;34m\u001b[0m\n\u001b[1;32m      1\u001b[0m nltk_text \u001b[38;5;241m=\u001b[39m \u001b[38;5;124m'\u001b[39m\u001b[38;5;124mThat U.S.A. poster-print doesn\u001b[39m\u001b[38;5;130;01m\\'\u001b[39;00m\u001b[38;5;124mt cost $12.40...\u001b[39m\u001b[38;5;124m'\u001b[39m\n\u001b[0;32m----> 2\u001b[0m \u001b[38;5;28mprint\u001b[39m(\u001b[43mnltk\u001b[49m\u001b[38;5;241m.\u001b[39mtokenize\u001b[38;5;241m.\u001b[39mword_tokenize(nltk_text))\n",
      "\u001b[0;31mNameError\u001b[0m: name 'nltk' is not defined"
     ]
    }
   ],
   "source": [
    "nltk_text = 'That U.S.A. poster-print doesn\\'t cost $12.40...'\n",
    "print(nltk.tokenize.word_tokenize(nltk_text))"
   ]
  },
  {
   "cell_type": "code",
   "execution_count": 19,
   "id": "f8fd9ec6",
   "metadata": {},
   "outputs": [
    {
     "ename": "NameError",
     "evalue": "name 'nltk' is not defined",
     "output_type": "error",
     "traceback": [
      "\u001b[0;31m---------------------------------------------------------------------------\u001b[0m",
      "\u001b[0;31mNameError\u001b[0m                                 Traceback (most recent call last)",
      "Input \u001b[0;32mIn [19]\u001b[0m, in \u001b[0;36m<module>\u001b[0;34m\u001b[0m\n\u001b[1;32m      1\u001b[0m \u001b[38;5;66;03m# nltk.tokenize.wordpunct_tokenize splits all punctuations into separate tokens\u001b[39;00m\n\u001b[0;32m----> 2\u001b[0m \u001b[38;5;28mprint\u001b[39m(\u001b[43mnltk\u001b[49m\u001b[38;5;241m.\u001b[39mtokenize\u001b[38;5;241m.\u001b[39mwordpunct_tokenize(nltk_text))\n",
      "\u001b[0;31mNameError\u001b[0m: name 'nltk' is not defined"
     ]
    }
   ],
   "source": [
    "# nltk.tokenize.wordpunct_tokenize splits all punctuations into separate tokens\n",
    "print(nltk.tokenize.wordpunct_tokenize(nltk_text))"
   ]
  },
  {
   "cell_type": "code",
   "execution_count": 20,
   "id": "7441a03b",
   "metadata": {},
   "outputs": [
    {
     "ename": "NameError",
     "evalue": "name 'nltk' is not defined",
     "output_type": "error",
     "traceback": [
      "\u001b[0;31m---------------------------------------------------------------------------\u001b[0m",
      "\u001b[0;31mNameError\u001b[0m                                 Traceback (most recent call last)",
      "Input \u001b[0;32mIn [20]\u001b[0m, in \u001b[0;36m<module>\u001b[0;34m\u001b[0m\n\u001b[1;32m      1\u001b[0m \u001b[38;5;66;03m# nltk.regexp_tokenize() allows you to build a customized tokenizer by specifying a regex pattern\u001b[39;00m\n\u001b[1;32m      2\u001b[0m pattern \u001b[38;5;241m=\u001b[39m \u001b[38;5;124mr\u001b[39m\u001b[38;5;124m'''\u001b[39m\u001b[38;5;124m(?x)    # set flag to allow verbose regexps\u001b[39m\n\u001b[1;32m      3\u001b[0m \u001b[38;5;124m(?:[A-Z]\u001b[39m\u001b[38;5;124m\\\u001b[39m\u001b[38;5;124m.)+          # abbreviations, e.g. U.S.A.\u001b[39m\n\u001b[1;32m      4\u001b[0m \u001b[38;5;124m|\u001b[39m\u001b[38;5;124m\\\u001b[39m\u001b[38;5;124mw+(?:-\u001b[39m\u001b[38;5;124m\\\u001b[39m\u001b[38;5;124mw+)*         # words with optional internal hyphens\u001b[39m\n\u001b[0;32m   (...)\u001b[0m\n\u001b[1;32m      7\u001b[0m \u001b[38;5;124m|[][.,;\u001b[39m\u001b[38;5;124m\"\u001b[39m\u001b[38;5;124m\\\u001b[39m\u001b[38;5;124m'\u001b[39m\u001b[38;5;124m?():-_`]    # these are separate tokens\u001b[39m\n\u001b[1;32m      8\u001b[0m \u001b[38;5;124m'''\u001b[39m\n\u001b[0;32m---> 10\u001b[0m \u001b[43mnltk\u001b[49m\u001b[38;5;241m.\u001b[39mregexp_tokenize(nltk_text, pattern)\n",
      "\u001b[0;31mNameError\u001b[0m: name 'nltk' is not defined"
     ]
    }
   ],
   "source": [
    "# nltk.regexp_tokenize() allows you to build a customized tokenizer by specifying a regex pattern\n",
    "pattern = r'''(?x)    # set flag to allow verbose regexps\n",
    "(?:[A-Z]\\.)+          # abbreviations, e.g. U.S.A.\n",
    "|\\w+(?:-\\w+)*         # words with optional internal hyphens\n",
    "|\\$?\\d+(?:\\.\\d+)?%?   # currency and percentages, e.g. $12.40, 82%\n",
    "|\\.\\.\\.               # ellipsis\n",
    "|[][.,;\"\\'?():-_`]    # these are separate tokens\n",
    "'''\n",
    "\n",
    "nltk.regexp_tokenize(nltk_text, pattern)"
   ]
  },
  {
   "cell_type": "markdown",
   "id": "77936f61",
   "metadata": {},
   "source": [
    "---"
   ]
  },
  {
   "cell_type": "markdown",
   "id": "5942e5e2",
   "metadata": {},
   "source": [
    "## Stemming and Lemmatization\n",
    "\n",
    "\n",
    "The goal of both stemming and lemmatization is to reduce inflectional forms (e.g. *dreaming*, *dreamed*) and sometimes derivationally related forms of a word to a common \"base form\" (e.g. *eat*).\n",
    "\n",
    "**Stemming** *targets the stem, or the part of a word which remains stable to inflectional manipulations. E.g., \"eats\" -> \"eat\".*\n",
    "\n",
    "**Lemmatization** *targets the lemma, or the canonical dictionary key associated with the word. E.g., \"is\" -> \"be\".*"
   ]
  },
  {
   "cell_type": "markdown",
   "id": "0792095a",
   "metadata": {},
   "source": [
    "### Stemming\n",
    "\n",
    "- Stemming in practice usually refers to a **crude heuristic** process that (usually) removes the inflectional **suffixes** of a word\n",
    "\n",
    "\n",
    "- The result of stemming **might not be an actual word**\n",
    "\n",
    "\n",
    "- Stemmers are very fast and do not require PoS information"
   ]
  },
  {
   "cell_type": "markdown",
   "id": "10336a4d",
   "metadata": {},
   "source": [
    "NLTK offers several algorithms, among which the most used are: \n",
    "\n",
    "- the [Porter](https://tartarus.org/martin/PorterStemmer/) Stemmer: the oldest algorithm (1979), it is regex-based, it is still the most used even if more computationally intensive\n",
    "\n",
    "\n",
    "- the algorithm consists of 5 phases of word reductions, applied sequentially as a cascade.\n",
    "\n",
    "\n",
    "- Example of rules in phase 1:\n",
    "\n",
    "    * SSES -> SS (*caresses -> caress*)\n",
    "    * IES -> I (*ponies -> poni*)\n",
    "    * S ->  (*cats -> cat*)\n",
    "\n",
    "\n",
    "- Example of rules in phase 5 (measuring if a token could stand by itself):\n",
    "\n",
    "    * EMENT ->  (would reduce *replacement* to *replac*, but leave *cement* as cement because \"`c`\" alone is too short)"
   ]
  },
  {
   "cell_type": "code",
   "execution_count": 21,
   "id": "e7782684",
   "metadata": {},
   "outputs": [
    {
     "ename": "NameError",
     "evalue": "name 'nltk' is not defined",
     "output_type": "error",
     "traceback": [
      "\u001b[0;31m---------------------------------------------------------------------------\u001b[0m",
      "\u001b[0;31mNameError\u001b[0m                                 Traceback (most recent call last)",
      "Input \u001b[0;32mIn [21]\u001b[0m, in \u001b[0;36m<module>\u001b[0;34m\u001b[0m\n\u001b[0;32m----> 1\u001b[0m \u001b[43mnltk\u001b[49m\u001b[38;5;241m.\u001b[39mPorterStemmer()\u001b[38;5;241m.\u001b[39mstem(\u001b[38;5;124m\"\u001b[39m\u001b[38;5;124munfriendliness\u001b[39m\u001b[38;5;124m\"\u001b[39m)\n",
      "\u001b[0;31mNameError\u001b[0m: name 'nltk' is not defined"
     ]
    }
   ],
   "source": [
    "nltk.PorterStemmer().stem(\"unfriendliness\")"
   ]
  },
  {
   "cell_type": "code",
   "execution_count": 22,
   "id": "c0264c46",
   "metadata": {},
   "outputs": [
    {
     "ename": "NameError",
     "evalue": "name 'nltk' is not defined",
     "output_type": "error",
     "traceback": [
      "\u001b[0;31m---------------------------------------------------------------------------\u001b[0m",
      "\u001b[0;31mNameError\u001b[0m                                 Traceback (most recent call last)",
      "Input \u001b[0;32mIn [22]\u001b[0m, in \u001b[0;36m<module>\u001b[0;34m\u001b[0m\n\u001b[0;32m----> 1\u001b[0m \u001b[43mnltk\u001b[49m\u001b[38;5;241m.\u001b[39mPorterStemmer()\u001b[38;5;241m.\u001b[39mstem(\u001b[38;5;124m\"\u001b[39m\u001b[38;5;124mcements\u001b[39m\u001b[38;5;124m\"\u001b[39m)\n",
      "\u001b[0;31mNameError\u001b[0m: name 'nltk' is not defined"
     ]
    }
   ],
   "source": [
    "nltk.PorterStemmer().stem(\"cements\")"
   ]
  },
  {
   "cell_type": "code",
   "execution_count": 23,
   "id": "de0ff5b1",
   "metadata": {},
   "outputs": [
    {
     "ename": "NameError",
     "evalue": "name 'nltk' is not defined",
     "output_type": "error",
     "traceback": [
      "\u001b[0;31m---------------------------------------------------------------------------\u001b[0m",
      "\u001b[0;31mNameError\u001b[0m                                 Traceback (most recent call last)",
      "Input \u001b[0;32mIn [23]\u001b[0m, in \u001b[0;36m<module>\u001b[0;34m\u001b[0m\n\u001b[0;32m----> 1\u001b[0m \u001b[43mnltk\u001b[49m\u001b[38;5;241m.\u001b[39mPorterStemmer()\u001b[38;5;241m.\u001b[39mstem(\u001b[38;5;124m\"\u001b[39m\u001b[38;5;124mreplace\u001b[39m\u001b[38;5;124m\"\u001b[39m)\n",
      "\u001b[0;31mNameError\u001b[0m: name 'nltk' is not defined"
     ]
    }
   ],
   "source": [
    "nltk.PorterStemmer().stem(\"replace\")"
   ]
  },
  {
   "cell_type": "markdown",
   "id": "a367ae9b",
   "metadata": {},
   "source": [
    "- the [Lancaster](http://www.comp.lancs.ac.uk/computing/research/stemming/) Stemmers: the most aggressive"
   ]
  },
  {
   "cell_type": "code",
   "execution_count": 24,
   "id": "b071a050",
   "metadata": {},
   "outputs": [
    {
     "ename": "NameError",
     "evalue": "name 'nltk' is not defined",
     "output_type": "error",
     "traceback": [
      "\u001b[0;31m---------------------------------------------------------------------------\u001b[0m",
      "\u001b[0;31mNameError\u001b[0m                                 Traceback (most recent call last)",
      "Input \u001b[0;32mIn [24]\u001b[0m, in \u001b[0;36m<module>\u001b[0;34m\u001b[0m\n\u001b[1;32m      1\u001b[0m \u001b[38;5;66;03m# aggressive\u001b[39;00m\n\u001b[0;32m----> 2\u001b[0m \u001b[43mnltk\u001b[49m\u001b[38;5;241m.\u001b[39mLancasterStemmer()\u001b[38;5;241m.\u001b[39mstem(\u001b[38;5;124m\"\u001b[39m\u001b[38;5;124munfriendliness\u001b[39m\u001b[38;5;124m\"\u001b[39m)\n",
      "\u001b[0;31mNameError\u001b[0m: name 'nltk' is not defined"
     ]
    }
   ],
   "source": [
    "# aggressive\n",
    "nltk.LancasterStemmer().stem(\"unfriendliness\")"
   ]
  },
  {
   "cell_type": "code",
   "execution_count": 25,
   "id": "555d7d0a",
   "metadata": {},
   "outputs": [
    {
     "ename": "NameError",
     "evalue": "name 'nltk' is not defined",
     "output_type": "error",
     "traceback": [
      "\u001b[0;31m---------------------------------------------------------------------------\u001b[0m",
      "\u001b[0;31mNameError\u001b[0m                                 Traceback (most recent call last)",
      "Input \u001b[0;32mIn [25]\u001b[0m, in \u001b[0;36m<module>\u001b[0;34m\u001b[0m\n\u001b[0;32m----> 1\u001b[0m \u001b[43mnltk\u001b[49m\u001b[38;5;241m.\u001b[39mLancasterStemmer()\u001b[38;5;241m.\u001b[39mstem(\u001b[38;5;124m\"\u001b[39m\u001b[38;5;124mcements\u001b[39m\u001b[38;5;124m\"\u001b[39m)\n",
      "\u001b[0;31mNameError\u001b[0m: name 'nltk' is not defined"
     ]
    }
   ],
   "source": [
    "nltk.LancasterStemmer().stem(\"cements\")"
   ]
  },
  {
   "cell_type": "code",
   "execution_count": 26,
   "id": "11c0c484",
   "metadata": {},
   "outputs": [
    {
     "ename": "NameError",
     "evalue": "name 'nltk' is not defined",
     "output_type": "error",
     "traceback": [
      "\u001b[0;31m---------------------------------------------------------------------------\u001b[0m",
      "\u001b[0;31mNameError\u001b[0m                                 Traceback (most recent call last)",
      "Input \u001b[0;32mIn [26]\u001b[0m, in \u001b[0;36m<module>\u001b[0;34m\u001b[0m\n\u001b[1;32m      1\u001b[0m \u001b[38;5;66;03m# sometimes works better than the Porter Stemmer\u001b[39;00m\n\u001b[0;32m----> 2\u001b[0m \u001b[38;5;28mprint\u001b[39m(\u001b[43mnltk\u001b[49m\u001b[38;5;241m.\u001b[39mPorterStemmer()\u001b[38;5;241m.\u001b[39mstem(\u001b[38;5;124m\"\u001b[39m\u001b[38;5;124mhappiness\u001b[39m\u001b[38;5;124m\"\u001b[39m))\n\u001b[1;32m      3\u001b[0m \u001b[38;5;28mprint\u001b[39m(nltk\u001b[38;5;241m.\u001b[39mLancasterStemmer()\u001b[38;5;241m.\u001b[39mstem(\u001b[38;5;124m\"\u001b[39m\u001b[38;5;124mhappiness\u001b[39m\u001b[38;5;124m\"\u001b[39m))\n\u001b[1;32m      4\u001b[0m \u001b[38;5;28mprint\u001b[39m(nltk\u001b[38;5;241m.\u001b[39mstem\u001b[38;5;241m.\u001b[39msnowball\u001b[38;5;241m.\u001b[39mSnowballStemmer(\u001b[38;5;124m\"\u001b[39m\u001b[38;5;124menglish\u001b[39m\u001b[38;5;124m\"\u001b[39m)\u001b[38;5;241m.\u001b[39mstem(\u001b[38;5;124m\"\u001b[39m\u001b[38;5;124mhappiness\u001b[39m\u001b[38;5;124m\"\u001b[39m))\n",
      "\u001b[0;31mNameError\u001b[0m: name 'nltk' is not defined"
     ]
    }
   ],
   "source": [
    "# sometimes works better than the Porter Stemmer\n",
    "print(nltk.PorterStemmer().stem(\"happiness\"))\n",
    "print(nltk.LancasterStemmer().stem(\"happiness\"))\n",
    "print(nltk.stem.snowball.SnowballStemmer(\"english\").stem(\"happiness\"))"
   ]
  },
  {
   "cell_type": "markdown",
   "id": "c0d28ffc",
   "metadata": {},
   "source": [
    "- [Snowball](http://snowballstem.org/) is a language for creating stemmers, and is available in many languages among which Dutch:"
   ]
  },
  {
   "cell_type": "code",
   "execution_count": 27,
   "id": "93b52114",
   "metadata": {},
   "outputs": [
    {
     "ename": "NameError",
     "evalue": "name 'nltk' is not defined",
     "output_type": "error",
     "traceback": [
      "\u001b[0;31m---------------------------------------------------------------------------\u001b[0m",
      "\u001b[0;31mNameError\u001b[0m                                 Traceback (most recent call last)",
      "Input \u001b[0;32mIn [27]\u001b[0m, in \u001b[0;36m<module>\u001b[0;34m\u001b[0m\n\u001b[0;32m----> 1\u001b[0m \u001b[38;5;28mprint\u001b[39m(\u001b[43mnltk\u001b[49m\u001b[38;5;241m.\u001b[39mstem\u001b[38;5;241m.\u001b[39msnowball\u001b[38;5;241m.\u001b[39mSnowballStemmer\u001b[38;5;241m.\u001b[39mlanguages)\n",
      "\u001b[0;31mNameError\u001b[0m: name 'nltk' is not defined"
     ]
    }
   ],
   "source": [
    "print(nltk.stem.snowball.SnowballStemmer.languages)"
   ]
  },
  {
   "cell_type": "markdown",
   "id": "12619930",
   "metadata": {},
   "source": [
    "> Wanna see a demo on how it works in dutch? Try `nltk.stem.snowball.demo()`"
   ]
  },
  {
   "cell_type": "markdown",
   "id": "ae70d96f",
   "metadata": {},
   "source": [
    "As a general rule, the SnowballStemmer for English (a.k.a. Porter2), works better than the original Porter stemmer"
   ]
  },
  {
   "cell_type": "code",
   "execution_count": 28,
   "id": "655968fe",
   "metadata": {},
   "outputs": [
    {
     "ename": "NameError",
     "evalue": "name 'nltk' is not defined",
     "output_type": "error",
     "traceback": [
      "\u001b[0;31m---------------------------------------------------------------------------\u001b[0m",
      "\u001b[0;31mNameError\u001b[0m                                 Traceback (most recent call last)",
      "Input \u001b[0;32mIn [28]\u001b[0m, in \u001b[0;36m<module>\u001b[0;34m\u001b[0m\n\u001b[0;32m----> 1\u001b[0m \u001b[38;5;28mprint\u001b[39m(\u001b[43mnltk\u001b[49m\u001b[38;5;241m.\u001b[39mPorterStemmer()\u001b[38;5;241m.\u001b[39mstem(\u001b[38;5;124m\"\u001b[39m\u001b[38;5;124mgenerously\u001b[39m\u001b[38;5;124m\"\u001b[39m))\n\u001b[1;32m      2\u001b[0m \u001b[38;5;28mprint\u001b[39m(nltk\u001b[38;5;241m.\u001b[39mstem\u001b[38;5;241m.\u001b[39msnowball\u001b[38;5;241m.\u001b[39mSnowballStemmer(\u001b[38;5;124m\"\u001b[39m\u001b[38;5;124menglish\u001b[39m\u001b[38;5;124m\"\u001b[39m)\u001b[38;5;241m.\u001b[39mstem(\u001b[38;5;124m\"\u001b[39m\u001b[38;5;124mgenerously\u001b[39m\u001b[38;5;124m\"\u001b[39m))\n",
      "\u001b[0;31mNameError\u001b[0m: name 'nltk' is not defined"
     ]
    }
   ],
   "source": [
    "print(nltk.PorterStemmer().stem(\"generously\"))\n",
    "print(nltk.stem.snowball.SnowballStemmer(\"english\").stem(\"generously\"))"
   ]
  },
  {
   "cell_type": "markdown",
   "id": "6ae70d73",
   "metadata": {},
   "source": [
    "### Lemmatization\n",
    "\n",
    "Lemmatizers use a **vocabulary** and **morphological information** to apply a more articulated set of rules in order to return **actual lemmas** (a.k.a. dictionary entries)"
   ]
  },
  {
   "cell_type": "markdown",
   "id": "63dfe104",
   "metadata": {},
   "source": [
    "> Again, download any missing NLTK modules if you get a `LookupError`."
   ]
  },
  {
   "cell_type": "markdown",
   "id": "90521806",
   "metadata": {},
   "source": [
    "The WordNet lemmatizer removes the affixes of a token only if the resulting lemma is in WordNet\n",
    "\n",
    "- It is based on the WordNet `morphy` function"
   ]
  },
  {
   "cell_type": "code",
   "execution_count": 29,
   "id": "ff9cdaf4",
   "metadata": {},
   "outputs": [
    {
     "ename": "NameError",
     "evalue": "name 'nltk' is not defined",
     "output_type": "error",
     "traceback": [
      "\u001b[0;31m---------------------------------------------------------------------------\u001b[0m",
      "\u001b[0;31mNameError\u001b[0m                                 Traceback (most recent call last)",
      "Input \u001b[0;32mIn [29]\u001b[0m, in \u001b[0;36m<module>\u001b[0;34m\u001b[0m\n\u001b[1;32m      1\u001b[0m \u001b[38;5;66;03m# Irregularities are easier to handle with a lemmatizer (if the word is in the vocabulary)\u001b[39;00m\n\u001b[0;32m----> 2\u001b[0m \u001b[43mnltk\u001b[49m\u001b[38;5;241m.\u001b[39mWordNetLemmatizer()\u001b[38;5;241m.\u001b[39mlemmatize(\u001b[38;5;124m\"\u001b[39m\u001b[38;5;124mwomen\u001b[39m\u001b[38;5;124m\"\u001b[39m)\n",
      "\u001b[0;31mNameError\u001b[0m: name 'nltk' is not defined"
     ]
    }
   ],
   "source": [
    "# Irregularities are easier to handle with a lemmatizer (if the word is in the vocabulary)\n",
    "nltk.WordNetLemmatizer().lemmatize(\"women\")"
   ]
  },
  {
   "cell_type": "code",
   "execution_count": 30,
   "id": "922626a7",
   "metadata": {},
   "outputs": [
    {
     "ename": "NameError",
     "evalue": "name 'nltk' is not defined",
     "output_type": "error",
     "traceback": [
      "\u001b[0;31m---------------------------------------------------------------------------\u001b[0m",
      "\u001b[0;31mNameError\u001b[0m                                 Traceback (most recent call last)",
      "Input \u001b[0;32mIn [30]\u001b[0m, in \u001b[0;36m<module>\u001b[0;34m\u001b[0m\n\u001b[1;32m      1\u001b[0m \u001b[38;5;66;03m# But it doesn't really handle some inflected forms ...\u001b[39;00m\n\u001b[0;32m----> 2\u001b[0m \u001b[43mnltk\u001b[49m\u001b[38;5;241m.\u001b[39mWordNetLemmatizer()\u001b[38;5;241m.\u001b[39mlemmatize(\u001b[38;5;124m\"\u001b[39m\u001b[38;5;124mflying\u001b[39m\u001b[38;5;124m\"\u001b[39m)\n",
      "\u001b[0;31mNameError\u001b[0m: name 'nltk' is not defined"
     ]
    }
   ],
   "source": [
    "# But it doesn't really handle some inflected forms ...\n",
    "nltk.WordNetLemmatizer().lemmatize(\"flying\")"
   ]
  },
  {
   "cell_type": "code",
   "execution_count": 31,
   "id": "cb0ea9c1",
   "metadata": {},
   "outputs": [
    {
     "ename": "NameError",
     "evalue": "name 'nltk' is not defined",
     "output_type": "error",
     "traceback": [
      "\u001b[0;31m---------------------------------------------------------------------------\u001b[0m",
      "\u001b[0;31mNameError\u001b[0m                                 Traceback (most recent call last)",
      "Input \u001b[0;32mIn [31]\u001b[0m, in \u001b[0;36m<module>\u001b[0;34m\u001b[0m\n\u001b[1;32m      1\u001b[0m \u001b[38;5;66;03m# ... but it is a PoS tagging issue, really. Let's tell it that we have the verb\u001b[39;00m\n\u001b[0;32m----> 2\u001b[0m verb \u001b[38;5;241m=\u001b[39m \u001b[43mnltk\u001b[49m\u001b[38;5;241m.\u001b[39mWordNetLemmatizer()\u001b[38;5;241m.\u001b[39mlemmatize(\u001b[38;5;124m\"\u001b[39m\u001b[38;5;124mflying\u001b[39m\u001b[38;5;124m\"\u001b[39m, pos\u001b[38;5;241m=\u001b[39m\u001b[38;5;124m\"\u001b[39m\u001b[38;5;124mv\u001b[39m\u001b[38;5;124m\"\u001b[39m)\n\u001b[1;32m      3\u001b[0m \u001b[38;5;28mprint\u001b[39m(\u001b[38;5;124m\"\u001b[39m\u001b[38;5;124mVerb\u001b[39m\u001b[38;5;124m\"\u001b[39m, verb)\n\u001b[1;32m      5\u001b[0m \u001b[38;5;66;03m# Compare\u001b[39;00m\n",
      "\u001b[0;31mNameError\u001b[0m: name 'nltk' is not defined"
     ]
    }
   ],
   "source": [
    "# ... but it is a PoS tagging issue, really. Let's tell it that we have the verb\n",
    "verb = nltk.WordNetLemmatizer().lemmatize(\"flying\", pos=\"v\")\n",
    "print(\"Verb\", verb)\n",
    "\n",
    "# Compare\n",
    "noun = nltk.WordNetLemmatizer().lemmatize(\"flying\", pos=\"n\")\n",
    "print(\"Noun\", noun)"
   ]
  },
  {
   "cell_type": "markdown",
   "id": "32ed9a2c",
   "metadata": {},
   "source": [
    "### A quick-and-dirty comparison of Stemmers and the WN Lemmatizer"
   ]
  },
  {
   "cell_type": "code",
   "execution_count": 32,
   "id": "9e4c8737",
   "metadata": {},
   "outputs": [
    {
     "ename": "NameError",
     "evalue": "name 'nltk' is not defined",
     "output_type": "error",
     "traceback": [
      "\u001b[0;31m---------------------------------------------------------------------------\u001b[0m",
      "\u001b[0;31mNameError\u001b[0m                                 Traceback (most recent call last)",
      "Input \u001b[0;32mIn [32]\u001b[0m, in \u001b[0;36m<module>\u001b[0;34m\u001b[0m\n\u001b[1;32m      1\u001b[0m stemmers \u001b[38;5;241m=\u001b[39m [\n\u001b[0;32m----> 2\u001b[0m     \u001b[43mnltk\u001b[49m\u001b[38;5;241m.\u001b[39mPorterStemmer()\u001b[38;5;241m.\u001b[39mstem, \n\u001b[1;32m      3\u001b[0m     nltk\u001b[38;5;241m.\u001b[39mstem\u001b[38;5;241m.\u001b[39msnowball\u001b[38;5;241m.\u001b[39mSnowballStemmer(\u001b[38;5;124m\"\u001b[39m\u001b[38;5;124menglish\u001b[39m\u001b[38;5;124m\"\u001b[39m)\u001b[38;5;241m.\u001b[39mstem,\n\u001b[1;32m      4\u001b[0m     nltk\u001b[38;5;241m.\u001b[39mLancasterStemmer()\u001b[38;5;241m.\u001b[39mstem, \n\u001b[1;32m      5\u001b[0m     nltk\u001b[38;5;241m.\u001b[39mWordNetLemmatizer()\u001b[38;5;241m.\u001b[39mlemmatize\n\u001b[1;32m      6\u001b[0m ]\n\u001b[1;32m      8\u001b[0m words \u001b[38;5;241m=\u001b[39m [\u001b[38;5;124m'\u001b[39m\u001b[38;5;124mcaresses\u001b[39m\u001b[38;5;124m'\u001b[39m, \u001b[38;5;124m'\u001b[39m\u001b[38;5;124mflies\u001b[39m\u001b[38;5;124m'\u001b[39m, \u001b[38;5;124m'\u001b[39m\u001b[38;5;124mflying\u001b[39m\u001b[38;5;124m'\u001b[39m, \u001b[38;5;124m'\u001b[39m\u001b[38;5;124mmules\u001b[39m\u001b[38;5;124m'\u001b[39m, \u001b[38;5;124m'\u001b[39m\u001b[38;5;124mdenied\u001b[39m\u001b[38;5;124m'\u001b[39m, \u001b[38;5;124m'\u001b[39m\u001b[38;5;124magreed\u001b[39m\u001b[38;5;124m'\u001b[39m, \u001b[38;5;124m'\u001b[39m\u001b[38;5;124mhumbled\u001b[39m\u001b[38;5;124m'\u001b[39m, \u001b[38;5;124m'\u001b[39m\u001b[38;5;124msized\u001b[39m\u001b[38;5;124m'\u001b[39m,  \u001b[38;5;124m'\u001b[39m\u001b[38;5;124mmeeting\u001b[39m\u001b[38;5;124m'\u001b[39m, \u001b[38;5;124m'\u001b[39m\u001b[38;5;124mstating\u001b[39m\u001b[38;5;124m'\u001b[39m, \n\u001b[1;32m      9\u001b[0m          \u001b[38;5;124m'\u001b[39m\u001b[38;5;124mitemization\u001b[39m\u001b[38;5;124m'\u001b[39m, \u001b[38;5;124m'\u001b[39m\u001b[38;5;124msensational\u001b[39m\u001b[38;5;124m'\u001b[39m, \u001b[38;5;124m'\u001b[39m\u001b[38;5;124mtraditional\u001b[39m\u001b[38;5;124m'\u001b[39m, \u001b[38;5;124m'\u001b[39m\u001b[38;5;124mreference\u001b[39m\u001b[38;5;124m'\u001b[39m, \u001b[38;5;124m'\u001b[39m\u001b[38;5;124mcolonizer\u001b[39m\u001b[38;5;124m'\u001b[39m, \u001b[38;5;124m'\u001b[39m\u001b[38;5;124mprovision\u001b[39m\u001b[38;5;124m'\u001b[39m, \u001b[38;5;124m'\u001b[39m\u001b[38;5;124mcement\u001b[39m\u001b[38;5;124m'\u001b[39m, \u001b[38;5;124m'\u001b[39m\u001b[38;5;124mwomen\u001b[39m\u001b[38;5;124m'\u001b[39m]\n\u001b[1;32m     11\u001b[0m \u001b[38;5;28mprint\u001b[39m(\u001b[38;5;124m\"\u001b[39m\u001b[38;5;124mINPUT\u001b[39m\u001b[38;5;124m\"\u001b[39m, \u001b[38;5;124m\"\u001b[39m\u001b[38;5;130;01m\\t\u001b[39;00m\u001b[38;5;130;01m\\t\u001b[39;00m\u001b[38;5;130;01m\\t\u001b[39;00m\u001b[38;5;124m\"\u001b[39m, \u001b[38;5;124m\"\u001b[39m\u001b[38;5;124mPorter\u001b[39m\u001b[38;5;124m\"\u001b[39m, \u001b[38;5;124m\"\u001b[39m\u001b[38;5;130;01m\\t\u001b[39;00m\u001b[38;5;124m\"\u001b[39m, \u001b[38;5;124m\"\u001b[39m\u001b[38;5;124mSnowball\u001b[39m\u001b[38;5;124m\"\u001b[39m, \u001b[38;5;124m\"\u001b[39m\u001b[38;5;130;01m\\t\u001b[39;00m\u001b[38;5;124m\"\u001b[39m, \u001b[38;5;124m\"\u001b[39m\u001b[38;5;124mLancaster\u001b[39m\u001b[38;5;124m\"\u001b[39m, \u001b[38;5;124m\"\u001b[39m\u001b[38;5;130;01m\\t\u001b[39;00m\u001b[38;5;124m\"\u001b[39m, \u001b[38;5;124m\"\u001b[39m\u001b[38;5;124mWN Lemmatizer\u001b[39m\u001b[38;5;124m\"\u001b[39m)\n",
      "\u001b[0;31mNameError\u001b[0m: name 'nltk' is not defined"
     ]
    }
   ],
   "source": [
    "stemmers = [\n",
    "    nltk.PorterStemmer().stem, \n",
    "    nltk.stem.snowball.SnowballStemmer(\"english\").stem,\n",
    "    nltk.LancasterStemmer().stem, \n",
    "    nltk.WordNetLemmatizer().lemmatize\n",
    "]\n",
    "\n",
    "words = ['caresses', 'flies', 'flying', 'mules', 'denied', 'agreed', 'humbled', 'sized',  'meeting', 'stating', \n",
    "         'itemization', 'sensational', 'traditional', 'reference', 'colonizer', 'provision', 'cement', 'women']\n",
    "\n",
    "print(\"INPUT\", \"\\t\\t\\t\", \"Porter\", \"\\t\", \"Snowball\", \"\\t\", \"Lancaster\", \"\\t\", \"WN Lemmatizer\")\n",
    "print(\"-\" * 89)\n",
    "\n",
    "for word in sorted(words):\n",
    "    print(word, \"  \", end='')\n",
    "    for stemmer_function in stemmers:\n",
    "        print(\"\\t\\t\", stemmer_function(word), end='')\n",
    "    print()"
   ]
  },
  {
   "cell_type": "markdown",
   "id": "f8d197cf",
   "metadata": {},
   "source": [
    "#### How to choose?\n",
    "\n",
    "As a rule of thumb:\n",
    "\n",
    "- if you need to work with **real words**, use a lemmatizer (PoS information helps a lot)\n",
    "\n",
    "\n",
    "- if you need **speed**, choose a stemmer\n",
    "\n",
    "\n",
    "- if want to link morphological derivations (e.g. \"dreamable\") to their bases, a stemmer can be a quick-and-dirty solution"
   ]
  },
  {
   "cell_type": "markdown",
   "id": "37f3a9e0",
   "metadata": {},
   "source": [
    "---"
   ]
  },
  {
   "cell_type": "markdown",
   "id": "e78bd0fe",
   "metadata": {},
   "source": [
    "## PoS Tagging\n",
    "\n",
    "The proccess of automatically classifying words into their **lexical categories** \n",
    "\n",
    "- lexical categories are also called words classes, parts-of-speech, lexical tags..."
   ]
  },
  {
   "cell_type": "markdown",
   "id": "73568788",
   "metadata": {},
   "source": [
    "Lexical categories are divided into two main groups:\n",
    "\n",
    "- **open word classes** which constantly acquire new members:\n",
    "    - nouns, verbs, adjectives and adverbs\n",
    "\n",
    "\n",
    "- **closed class** when their inventory does not change over time (or much less so):\n",
    "    - e.g., pronouns, determiners, prepositions, conjunctions, auxiliary and modal verbs, numerals..."
   ]
  },
  {
   "cell_type": "markdown",
   "id": "eb589be5",
   "metadata": {},
   "source": [
    "The collection of PoS tags used for a particular task is known as a **tagset**\n",
    "\n",
    "- The most common English tagset is the [**Penn Treebank**](https://www.ling.upenn.edu/courses/Fall_2003/ling001/penn_treebank_pos.html) one, containing the following tags:"
   ]
  },
  {
   "cell_type": "code",
   "execution_count": 33,
   "id": "6afcc408",
   "metadata": {},
   "outputs": [],
   "source": [
    "# You might need to do this to download the related resource\n",
    "# nltk.download('tagsets')\n",
    "# nltk.download('universal_tagset')\n",
    "# nltk.download('brown')"
   ]
  },
  {
   "cell_type": "code",
   "execution_count": 34,
   "id": "6bbf723d",
   "metadata": {},
   "outputs": [
    {
     "ename": "NameError",
     "evalue": "name 'nltk' is not defined",
     "output_type": "error",
     "traceback": [
      "\u001b[0;31m---------------------------------------------------------------------------\u001b[0m",
      "\u001b[0;31mNameError\u001b[0m                                 Traceback (most recent call last)",
      "Input \u001b[0;32mIn [34]\u001b[0m, in \u001b[0;36m<module>\u001b[0;34m\u001b[0m\n\u001b[0;32m----> 1\u001b[0m \u001b[43mnltk\u001b[49m\u001b[38;5;241m.\u001b[39mhelp\u001b[38;5;241m.\u001b[39mupenn_tagset()\n",
      "\u001b[0;31mNameError\u001b[0m: name 'nltk' is not defined"
     ]
    }
   ],
   "source": [
    "nltk.help.upenn_tagset()"
   ]
  },
  {
   "cell_type": "markdown",
   "id": "f8c0f70d",
   "metadata": {},
   "source": [
    "Some distinctions are quite **hard for both humans and machines** :\n",
    "\n",
    "- preposition (IN), particle (RP) or adverb (RB)?\n",
    "    - You'll never get *around*/RP to watching all those movies\n",
    "    - Let's go *around*/IN the corner\n",
    "    - It costs *around*/RB 500 bucks\n",
    "\n",
    "\n",
    "- past participle (VBN) or adjective (JJ)?\n",
    "    - What the teacher said, has *interested*/VBN the student\n",
    "    - The student was *interested*/?? in what the teacher was saying\n",
    "    - The *interested*/JJ student was listening to the teacher\n",
    "\n",
    "\n",
    "- sometimes nouns can act like adjectives (i.e. they modify nouns):\n",
    "    - *science* teacher\n",
    "    - *government road accident research* centre"
   ]
  },
  {
   "cell_type": "markdown",
   "id": "83338b81",
   "metadata": {},
   "source": [
    "Insecure about a **specific tag**? Ask NLTK!"
   ]
  },
  {
   "cell_type": "code",
   "execution_count": 35,
   "id": "70efa99f",
   "metadata": {},
   "outputs": [
    {
     "ename": "NameError",
     "evalue": "name 'nltk' is not defined",
     "output_type": "error",
     "traceback": [
      "\u001b[0;31m---------------------------------------------------------------------------\u001b[0m",
      "\u001b[0;31mNameError\u001b[0m                                 Traceback (most recent call last)",
      "Input \u001b[0;32mIn [35]\u001b[0m, in \u001b[0;36m<module>\u001b[0;34m\u001b[0m\n\u001b[0;32m----> 1\u001b[0m \u001b[43mnltk\u001b[49m\u001b[38;5;241m.\u001b[39mhelp\u001b[38;5;241m.\u001b[39mupenn_tagset(\u001b[38;5;124m\"\u001b[39m\u001b[38;5;124mJJ\u001b[39m\u001b[38;5;124m\"\u001b[39m)\n",
      "\u001b[0;31mNameError\u001b[0m: name 'nltk' is not defined"
     ]
    }
   ],
   "source": [
    "nltk.help.upenn_tagset(\"JJ\")"
   ]
  },
  {
   "cell_type": "code",
   "execution_count": 36,
   "id": "b4d02ba2",
   "metadata": {},
   "outputs": [
    {
     "ename": "NameError",
     "evalue": "name 'nltk' is not defined",
     "output_type": "error",
     "traceback": [
      "\u001b[0;31m---------------------------------------------------------------------------\u001b[0m",
      "\u001b[0;31mNameError\u001b[0m                                 Traceback (most recent call last)",
      "Input \u001b[0;32mIn [36]\u001b[0m, in \u001b[0;36m<module>\u001b[0;34m\u001b[0m\n\u001b[1;32m      1\u001b[0m \u001b[38;5;66;03m# a group of tags\u001b[39;00m\n\u001b[0;32m----> 2\u001b[0m \u001b[43mnltk\u001b[49m\u001b[38;5;241m.\u001b[39mhelp\u001b[38;5;241m.\u001b[39mupenn_tagset(\u001b[38;5;124m\"\u001b[39m\u001b[38;5;124mNN*\u001b[39m\u001b[38;5;124m\"\u001b[39m)\n",
      "\u001b[0;31mNameError\u001b[0m: name 'nltk' is not defined"
     ]
    }
   ],
   "source": [
    "# a group of tags\n",
    "nltk.help.upenn_tagset(\"NN*\")"
   ]
  },
  {
   "cell_type": "markdown",
   "id": "09b4be73",
   "metadata": {},
   "source": [
    "**Other tagsets** are available in NLTK and they can be corpus specific. For instance, the tags used in the **Brown Corpus**:\n",
    "\n",
    "> The Brown Corpus was the first million-word electronic corpus of English, created in 1961 at Brown University. This corpus contains text from 500 sources, and the sources have been categorized by genre, such as news, editorial, and so on. 1.1 gives an example of each genre (for a complete list, see http://icame.uib.no/brown/bcm-los.html).\n",
    "\n",
    "From: https://www.nltk.org/book/ch02.html"
   ]
  },
  {
   "cell_type": "code",
   "execution_count": 37,
   "id": "ffee7721",
   "metadata": {},
   "outputs": [
    {
     "ename": "NameError",
     "evalue": "name 'nltk' is not defined",
     "output_type": "error",
     "traceback": [
      "\u001b[0;31m---------------------------------------------------------------------------\u001b[0m",
      "\u001b[0;31mNameError\u001b[0m                                 Traceback (most recent call last)",
      "Input \u001b[0;32mIn [37]\u001b[0m, in \u001b[0;36m<module>\u001b[0;34m\u001b[0m\n\u001b[1;32m      1\u001b[0m \u001b[38;5;66;03m# Brown corpus tagset\u001b[39;00m\n\u001b[0;32m----> 2\u001b[0m \u001b[43mnltk\u001b[49m\u001b[38;5;241m.\u001b[39mhelp\u001b[38;5;241m.\u001b[39mbrown_tagset(\u001b[38;5;124m\"\u001b[39m\u001b[38;5;124mNN*\u001b[39m\u001b[38;5;124m\"\u001b[39m)\n",
      "\u001b[0;31mNameError\u001b[0m: name 'nltk' is not defined"
     ]
    }
   ],
   "source": [
    "# Brown corpus tagset\n",
    "nltk.help.brown_tagset(\"NN*\")"
   ]
  },
  {
   "cell_type": "markdown",
   "id": "62c2009c",
   "metadata": {},
   "source": [
    "### Using a Tagger"
   ]
  },
  {
   "cell_type": "markdown",
   "id": "34f6ea32",
   "metadata": {},
   "source": [
    "The `nltk.pos_tag()` method allows you to launch the default NLTK pos tagger model on a **tokenized text** (i.e. on a list of words):"
   ]
  },
  {
   "cell_type": "code",
   "execution_count": 38,
   "id": "34f2f183",
   "metadata": {},
   "outputs": [
    {
     "ename": "NameError",
     "evalue": "name 'nltk' is not defined",
     "output_type": "error",
     "traceback": [
      "\u001b[0;31m---------------------------------------------------------------------------\u001b[0m",
      "\u001b[0;31mNameError\u001b[0m                                 Traceback (most recent call last)",
      "Input \u001b[0;32mIn [38]\u001b[0m, in \u001b[0;36m<module>\u001b[0;34m\u001b[0m\n\u001b[0;32m----> 1\u001b[0m text \u001b[38;5;241m=\u001b[39m \u001b[43mnltk\u001b[49m\u001b[38;5;241m.\u001b[39mword_tokenize(\u001b[38;5;124m\"\u001b[39m\u001b[38;5;124mAnd now for something completely different\u001b[39m\u001b[38;5;124m\"\u001b[39m)\n\u001b[1;32m      2\u001b[0m \u001b[38;5;66;03m# text = nltk.word_tokenize(\"I'm going to my place.\")\u001b[39;00m\n\u001b[1;32m      3\u001b[0m \n\u001b[1;32m      4\u001b[0m \u001b[38;5;66;03m# Gives back a list of tuples, in which the first element is the token, and the second the PoS-tag\u001b[39;00m\n\u001b[1;32m      5\u001b[0m \u001b[38;5;28mprint\u001b[39m(nltk\u001b[38;5;241m.\u001b[39mpos_tag(text))\n",
      "\u001b[0;31mNameError\u001b[0m: name 'nltk' is not defined"
     ]
    }
   ],
   "source": [
    "text = nltk.word_tokenize(\"And now for something completely different\")\n",
    "# text = nltk.word_tokenize(\"I'm going to my place.\")\n",
    "\n",
    "# Gives back a list of tuples, in which the first element is the token, and the second the PoS-tag\n",
    "print(nltk.pos_tag(text))"
   ]
  },
  {
   "cell_type": "markdown",
   "id": "cd73be18",
   "metadata": {},
   "source": [
    "PoS-tagging requires a certain amount of disambiguation:"
   ]
  },
  {
   "cell_type": "code",
   "execution_count": 39,
   "id": "95885c18",
   "metadata": {},
   "outputs": [
    {
     "ename": "NameError",
     "evalue": "name 'nltk' is not defined",
     "output_type": "error",
     "traceback": [
      "\u001b[0;31m---------------------------------------------------------------------------\u001b[0m",
      "\u001b[0;31mNameError\u001b[0m                                 Traceback (most recent call last)",
      "Input \u001b[0;32mIn [39]\u001b[0m, in \u001b[0;36m<module>\u001b[0;34m\u001b[0m\n\u001b[1;32m      1\u001b[0m \u001b[38;5;66;03m# Compare the two classifications of the type \"refuse\"\u001b[39;00m\n\u001b[0;32m----> 2\u001b[0m text \u001b[38;5;241m=\u001b[39m \u001b[43mnltk\u001b[49m\u001b[38;5;241m.\u001b[39mword_tokenize(\u001b[38;5;124m\"\u001b[39m\u001b[38;5;124mThey refuse to permit us to obtain the refuse permit\u001b[39m\u001b[38;5;124m\"\u001b[39m)\n\u001b[1;32m      3\u001b[0m \u001b[38;5;28mprint\u001b[39m(nltk\u001b[38;5;241m.\u001b[39mpos_tag(text))\n",
      "\u001b[0;31mNameError\u001b[0m: name 'nltk' is not defined"
     ]
    }
   ],
   "source": [
    "# Compare the two classifications of the type \"refuse\"\n",
    "text = nltk.word_tokenize(\"They refuse to permit us to obtain the refuse permit\")\n",
    "print(nltk.pos_tag(text))"
   ]
  },
  {
   "cell_type": "markdown",
   "id": "00dbe9d6",
   "metadata": {},
   "source": [
    "The `nltk.pos_tag_sents()` method is recommened for efficient tagging of more than one sentence."
   ]
  },
  {
   "cell_type": "code",
   "execution_count": 40,
   "id": "dcb6ac8d",
   "metadata": {},
   "outputs": [
    {
     "ename": "NameError",
     "evalue": "name 'nltk' is not defined",
     "output_type": "error",
     "traceback": [
      "\u001b[0;31m---------------------------------------------------------------------------\u001b[0m",
      "\u001b[0;31mNameError\u001b[0m                                 Traceback (most recent call last)",
      "Input \u001b[0;32mIn [40]\u001b[0m, in \u001b[0;36m<module>\u001b[0;34m\u001b[0m\n\u001b[1;32m      1\u001b[0m tok_sents \u001b[38;5;241m=\u001b[39m [\n\u001b[0;32m----> 2\u001b[0m     \u001b[43mnltk\u001b[49m\u001b[38;5;241m.\u001b[39mword_tokenize(\u001b[38;5;124m\"\u001b[39m\u001b[38;5;124mAnd now for something completely different\u001b[39m\u001b[38;5;124m\"\u001b[39m),\n\u001b[1;32m      3\u001b[0m     nltk\u001b[38;5;241m.\u001b[39mword_tokenize(\u001b[38;5;124m\"\u001b[39m\u001b[38;5;124mThey refuse to permit us to obtain the refuse permit\u001b[39m\u001b[38;5;124m\"\u001b[39m)\n\u001b[1;32m      4\u001b[0m ]\n\u001b[1;32m      6\u001b[0m \u001b[38;5;28mprint\u001b[39m(nltk\u001b[38;5;241m.\u001b[39mpos_tag_sents(tok_sents))\n",
      "\u001b[0;31mNameError\u001b[0m: name 'nltk' is not defined"
     ]
    }
   ],
   "source": [
    "tok_sents = [\n",
    "    nltk.word_tokenize(\"And now for something completely different\"),\n",
    "    nltk.word_tokenize(\"They refuse to permit us to obtain the refuse permit\")\n",
    "]\n",
    "\n",
    "print(nltk.pos_tag_sents(tok_sents))"
   ]
  },
  {
   "cell_type": "markdown",
   "id": "63cb805a",
   "metadata": {},
   "source": [
    "Other tagsets can be selected by using the `tagset` parameter. \n",
    "\n",
    "- For instance, to use the following **Universal tagset** proposed by [Petrov et al (2011)](https://arxiv.org/abs/1104.2086):\n",
    "\n",
    "|  tag  | meaning |\n",
    "|:-----:|:---------|\n",
    "| VERB | verbs (all tenses and modes) |\n",
    "| NOUN | nouns (common and proper) |\n",
    "| PRON | pronouns |\n",
    "| ADJ | adjectives |\n",
    "| ADV | adverbs |\n",
    "| ADP | adpositions (prepositions and postpositions) |\n",
    "| CONJ | conjunctions |\n",
    "| DET | determiners |\n",
    "| NUM | cardinal numbers |\n",
    "| PRT | particles or other function words |\n",
    "| X | other: foreign words, typos, abbreviations |\n",
    "| \\. | punctuation |"
   ]
  },
  {
   "cell_type": "code",
   "execution_count": 41,
   "id": "1d21edbc",
   "metadata": {},
   "outputs": [
    {
     "ename": "NameError",
     "evalue": "name 'nltk' is not defined",
     "output_type": "error",
     "traceback": [
      "\u001b[0;31m---------------------------------------------------------------------------\u001b[0m",
      "\u001b[0;31mNameError\u001b[0m                                 Traceback (most recent call last)",
      "Input \u001b[0;32mIn [41]\u001b[0m, in \u001b[0;36m<module>\u001b[0;34m\u001b[0m\n\u001b[0;32m----> 1\u001b[0m text \u001b[38;5;241m=\u001b[39m \u001b[43mnltk\u001b[49m\u001b[38;5;241m.\u001b[39mword_tokenize(\u001b[38;5;124m\"\u001b[39m\u001b[38;5;124mThey refuse to permit us to obtain the refuse permit\u001b[39m\u001b[38;5;124m\"\u001b[39m)\n\u001b[1;32m      2\u001b[0m \u001b[38;5;28mprint\u001b[39m(nltk\u001b[38;5;241m.\u001b[39mpos_tag(text, tagset\u001b[38;5;241m=\u001b[39m\u001b[38;5;124m\"\u001b[39m\u001b[38;5;124muniversal\u001b[39m\u001b[38;5;124m\"\u001b[39m))\n",
      "\u001b[0;31mNameError\u001b[0m: name 'nltk' is not defined"
     ]
    }
   ],
   "source": [
    "text = nltk.word_tokenize(\"They refuse to permit us to obtain the refuse permit\")\n",
    "print(nltk.pos_tag(text, tagset=\"universal\"))"
   ]
  },
  {
   "cell_type": "markdown",
   "id": "3dd4a3a0",
   "metadata": {},
   "source": [
    "#### Available Taggers\n",
    "\n",
    "The default pos tagger model used by NLTK is the [Perceptron](https://github.com/sloria/textblob-aptagger) tagger."
   ]
  },
  {
   "cell_type": "markdown",
   "id": "8805ecce",
   "metadata": {},
   "source": [
    "NLTK provides other pos taggers among which:\n",
    "\n",
    "- the [TnT](http://www.coli.uni-saarland.de/~thorsten/tnt/) tagger: `nltk.tag.tnt.TnT()`\n",
    "\n",
    "\n",
    "- the [CRF](http://www.nltk.org/_modules/nltk/tag/crf.html) tagger: `nltk.tag.CRFTagger()`\n",
    "\n",
    "\n",
    "- various simple [N-gram](http://www.nltk.org/book/ch05.html#general-n-gram-tagging) taggers:  `nltk.tag.UnigramTagger()`, `nltk.tag.BigramTagger()`, `nltk.tag.TrigramTagger()` \n",
    "\n",
    "\n",
    "- a [regex-based](http://www.nltk.org/book/ch05.html#the-regular-expression-tagger) tagger `nltk.tag.sequential.RegexpTagger()`\n",
    "\n",
    "\n",
    "- a tagger that assign always the same tag ot each token: `nltk.tag.DefaultTagger()`, that can be used as a [backoff](http://www.nltk.org/book/ch05.html#combining-taggers) strategy"
   ]
  },
  {
   "cell_type": "markdown",
   "id": "4ddc6998",
   "metadata": {},
   "source": [
    "### Using the Stanford PoS Tagger"
   ]
  },
  {
   "cell_type": "markdown",
   "id": "068b6918",
   "metadata": {},
   "source": [
    "NLTK provides interfaces to three tools of the Stanford CoreNLP suite:\n",
    "\n",
    "- the Stanford Log-linear Part-Of-Speech Tagger\n",
    "\n",
    "\n",
    "- the Stanford Parser \n",
    "\n",
    "\n",
    "- the Stanford Named Entity Recognizer (NER)"
   ]
  },
  {
   "cell_type": "markdown",
   "id": "c2fefa25",
   "metadata": {},
   "source": [
    "The Stanford POS Tagger can be download from the [download section](https://nlp.stanford.edu/software/tagger.html#Download) of the official site. Two versions are available:\n",
    "\n",
    "\n",
    "- the basic English Stanford Tagger [25 MB]\n",
    "\n",
    "\n",
    "- the full Stanford Tagger [129 MB]\n",
    "\n",
    "Both versions contain a lot of pos tagger models, you can find more infos in `models/README-Models.txt`"
   ]
  },
  {
   "cell_type": "markdown",
   "id": "b3ef0666",
   "metadata": {},
   "source": [
    "### Using the Stanford POS Tagger with the nltk.tag.stanford module"
   ]
  },
  {
   "cell_type": "markdown",
   "id": "343b3487",
   "metadata": {},
   "source": [
    "Download one of the two Stanford packages above (the basic 25 MB one will do for now). Extract to your notebook working directory, and create an instance of `StanfordPOSTagger` with path arguments to a language model (here: 'english-bidirectional-distsim.tagger') and the Stanford tagger jar file (here: 'stanford-postagger-3.9.1.jar'). Using the `tag` method, we can now apply POS tags to a (split) string."
   ]
  },
  {
   "cell_type": "markdown",
   "id": "a2058f3f",
   "metadata": {},
   "source": [
    "```Python\n",
    "from nltk.tag import StanfordPOSTagger\n",
    "\n",
    "st = StanfordPOSTagger(\n",
    "    './stanford-postagger-2018-02-27/models/english-bidirectional-distsim.tagger',\n",
    "    path_to_jar='./stanford-postagger-2018-02-27/stanford-postagger-3.9.1.jar'\n",
    ")\n",
    "\n",
    "st.tag('What is the airspeed of an unladen swallow ?'.split())\n",
    "```"
   ]
  },
  {
   "cell_type": "markdown",
   "id": "caaf6124",
   "metadata": {},
   "source": [
    "> **Suggested Readings**\n",
    ">\n",
    ">A nice tutorial on how NLTK taggers can be evaluated is available on [Natemccoy's Blog](https://natemccoy.github.io/2016/10/27/evaluatingnltktaggerstutorial.html)"
   ]
  },
  {
   "cell_type": "markdown",
   "id": "bbf45a57",
   "metadata": {},
   "source": [
    "### Tagged Corpora\n",
    "\n",
    "Several of the corpora included with NLTK have been tagged for their part-of-speech. \n",
    "\n",
    "Whenever a corpus contains tagged text, the NLTK corpus interface will have a `tagged_words()` method that will print `(token, tag)` tuples:"
   ]
  },
  {
   "cell_type": "code",
   "execution_count": 42,
   "id": "67e8d9c3",
   "metadata": {},
   "outputs": [
    {
     "ename": "NameError",
     "evalue": "name 'nltk' is not defined",
     "output_type": "error",
     "traceback": [
      "\u001b[0;31m---------------------------------------------------------------------------\u001b[0m",
      "\u001b[0;31mNameError\u001b[0m                                 Traceback (most recent call last)",
      "Input \u001b[0;32mIn [42]\u001b[0m, in \u001b[0;36m<module>\u001b[0;34m\u001b[0m\n\u001b[0;32m----> 1\u001b[0m \u001b[38;5;28mprint\u001b[39m(\u001b[43mnltk\u001b[49m\u001b[38;5;241m.\u001b[39mcorpus\u001b[38;5;241m.\u001b[39mtreebank\u001b[38;5;241m.\u001b[39mtagged_words()[:\u001b[38;5;241m10\u001b[39m])\n",
      "\u001b[0;31mNameError\u001b[0m: name 'nltk' is not defined"
     ]
    }
   ],
   "source": [
    "print(nltk.corpus.treebank.tagged_words()[:10])"
   ]
  },
  {
   "cell_type": "markdown",
   "id": "5f5e9beb",
   "metadata": {},
   "source": [
    "A related method is `tagged_sents()`, that will retain the sentence structure of the text:"
   ]
  },
  {
   "cell_type": "code",
   "execution_count": 43,
   "id": "69c5f650",
   "metadata": {},
   "outputs": [
    {
     "ename": "NameError",
     "evalue": "name 'nltk' is not defined",
     "output_type": "error",
     "traceback": [
      "\u001b[0;31m---------------------------------------------------------------------------\u001b[0m",
      "\u001b[0;31mNameError\u001b[0m                                 Traceback (most recent call last)",
      "Input \u001b[0;32mIn [43]\u001b[0m, in \u001b[0;36m<module>\u001b[0;34m\u001b[0m\n\u001b[0;32m----> 1\u001b[0m \u001b[38;5;28mprint\u001b[39m(\u001b[43mnltk\u001b[49m\u001b[38;5;241m.\u001b[39mcorpus\u001b[38;5;241m.\u001b[39mtreebank\u001b[38;5;241m.\u001b[39mtagged_sents()[:\u001b[38;5;241m3\u001b[39m])\n",
      "\u001b[0;31mNameError\u001b[0m: name 'nltk' is not defined"
     ]
    }
   ],
   "source": [
    "print(nltk.corpus.treebank.tagged_sents()[:3])"
   ]
  },
  {
   "cell_type": "markdown",
   "id": "1852066f",
   "metadata": {},
   "source": [
    "Not all corpora employ the same tagset:"
   ]
  },
  {
   "cell_type": "code",
   "execution_count": 44,
   "id": "d68a0c2c",
   "metadata": {},
   "outputs": [
    {
     "ename": "NameError",
     "evalue": "name 'nltk' is not defined",
     "output_type": "error",
     "traceback": [
      "\u001b[0;31m---------------------------------------------------------------------------\u001b[0m",
      "\u001b[0;31mNameError\u001b[0m                                 Traceback (most recent call last)",
      "Input \u001b[0;32mIn [44]\u001b[0m, in \u001b[0;36m<module>\u001b[0;34m\u001b[0m\n\u001b[0;32m----> 1\u001b[0m \u001b[38;5;28mprint\u001b[39m(\u001b[43mnltk\u001b[49m\u001b[38;5;241m.\u001b[39mcorpus\u001b[38;5;241m.\u001b[39mbrown\u001b[38;5;241m.\u001b[39mtagged_words()[:\u001b[38;5;241m68\u001b[39m])\n",
      "\u001b[0;31mNameError\u001b[0m: name 'nltk' is not defined"
     ]
    }
   ],
   "source": [
    "print(nltk.corpus.brown.tagged_words()[:68])"
   ]
  },
  {
   "cell_type": "markdown",
   "id": "a08aa80d",
   "metadata": {},
   "source": [
    "Things can be made comparable by using the built-in [mapping](https://github.com/slavpetrov/universal-pos-tags) to the Universal Tagset"
   ]
  },
  {
   "cell_type": "code",
   "execution_count": 45,
   "id": "53debc24",
   "metadata": {},
   "outputs": [
    {
     "ename": "NameError",
     "evalue": "name 'nltk' is not defined",
     "output_type": "error",
     "traceback": [
      "\u001b[0;31m---------------------------------------------------------------------------\u001b[0m",
      "\u001b[0;31mNameError\u001b[0m                                 Traceback (most recent call last)",
      "Input \u001b[0;32mIn [45]\u001b[0m, in \u001b[0;36m<module>\u001b[0;34m\u001b[0m\n\u001b[0;32m----> 1\u001b[0m \u001b[38;5;28mprint\u001b[39m(\u001b[43mnltk\u001b[49m\u001b[38;5;241m.\u001b[39mcorpus\u001b[38;5;241m.\u001b[39mbrown\u001b[38;5;241m.\u001b[39mtagged_words(tagset\u001b[38;5;241m=\u001b[39m\u001b[38;5;124m'\u001b[39m\u001b[38;5;124muniversal\u001b[39m\u001b[38;5;124m'\u001b[39m)[:\u001b[38;5;241m68\u001b[39m])\n",
      "\u001b[0;31mNameError\u001b[0m: name 'nltk' is not defined"
     ]
    }
   ],
   "source": [
    "print(nltk.corpus.brown.tagged_words(tagset='universal')[:68])"
   ]
  },
  {
   "cell_type": "code",
   "execution_count": 46,
   "id": "0f4ffe68",
   "metadata": {},
   "outputs": [
    {
     "ename": "NameError",
     "evalue": "name 'nltk' is not defined",
     "output_type": "error",
     "traceback": [
      "\u001b[0;31m---------------------------------------------------------------------------\u001b[0m",
      "\u001b[0;31mNameError\u001b[0m                                 Traceback (most recent call last)",
      "Input \u001b[0;32mIn [46]\u001b[0m, in \u001b[0;36m<module>\u001b[0;34m\u001b[0m\n\u001b[0;32m----> 1\u001b[0m \u001b[38;5;28mprint\u001b[39m(\u001b[43mnltk\u001b[49m\u001b[38;5;241m.\u001b[39mcorpus\u001b[38;5;241m.\u001b[39mtreebank\u001b[38;5;241m.\u001b[39mtagged_words(tagset\u001b[38;5;241m=\u001b[39m\u001b[38;5;124m'\u001b[39m\u001b[38;5;124muniversal\u001b[39m\u001b[38;5;124m'\u001b[39m)[:\u001b[38;5;241m58\u001b[39m])\n",
      "\u001b[0;31mNameError\u001b[0m: name 'nltk' is not defined"
     ]
    }
   ],
   "source": [
    "print(nltk.corpus.treebank.tagged_words(tagset='universal')[:58])"
   ]
  },
  {
   "cell_type": "markdown",
   "id": "3c220007",
   "metadata": {},
   "source": [
    "### Exploring Tagged  Corpora"
   ]
  },
  {
   "cell_type": "markdown",
   "id": "6f97f0ab",
   "metadata": {},
   "source": [
    "##### 1. Let's find the most frequent nouns of each noun part-of-speech type"
   ]
  },
  {
   "cell_type": "code",
   "execution_count": 47,
   "id": "01c81ae0",
   "metadata": {},
   "outputs": [
    {
     "name": "stdout",
     "output_type": "stream",
     "text": [
      "Object `nltk.ConditionalFreqDist` not found.\n"
     ]
    }
   ],
   "source": [
    "?nltk.ConditionalFreqDist"
   ]
  },
  {
   "cell_type": "code",
   "execution_count": 48,
   "id": "d30167a8",
   "metadata": {},
   "outputs": [
    {
     "ename": "NameError",
     "evalue": "name 'nltk' is not defined",
     "output_type": "error",
     "traceback": [
      "\u001b[0;31m---------------------------------------------------------------------------\u001b[0m",
      "\u001b[0;31mNameError\u001b[0m                                 Traceback (most recent call last)",
      "Input \u001b[0;32mIn [48]\u001b[0m, in \u001b[0;36m<module>\u001b[0;34m\u001b[0m\n\u001b[1;32m      8\u001b[0m     tagdict \u001b[38;5;241m=\u001b[39m \u001b[38;5;28mdict\u001b[39m((tag, cfd[tag]\u001b[38;5;241m.\u001b[39mmost_common(\u001b[38;5;241m5\u001b[39m)) \u001b[38;5;28;01mfor\u001b[39;00m tag \u001b[38;5;129;01min\u001b[39;00m cfd\u001b[38;5;241m.\u001b[39mconditions())\n\u001b[1;32m     10\u001b[0m     \u001b[38;5;28;01mreturn\u001b[39;00m tagdict\n\u001b[0;32m---> 13\u001b[0m tagdict \u001b[38;5;241m=\u001b[39m find_tags(\u001b[38;5;124m'\u001b[39m\u001b[38;5;124mNN\u001b[39m\u001b[38;5;124m'\u001b[39m, \u001b[43mnltk\u001b[49m\u001b[38;5;241m.\u001b[39mcorpus\u001b[38;5;241m.\u001b[39mbrown\u001b[38;5;241m.\u001b[39mtagged_words(categories\u001b[38;5;241m=\u001b[39m\u001b[38;5;124m'\u001b[39m\u001b[38;5;124mnews\u001b[39m\u001b[38;5;124m'\u001b[39m))\n\u001b[1;32m     15\u001b[0m \u001b[38;5;28;01mfor\u001b[39;00m tag \u001b[38;5;129;01min\u001b[39;00m \u001b[38;5;28msorted\u001b[39m(tagdict):\n\u001b[1;32m     16\u001b[0m     \u001b[38;5;28mprint\u001b[39m(tag, tagdict[tag])\n",
      "\u001b[0;31mNameError\u001b[0m: name 'nltk' is not defined"
     ]
    }
   ],
   "source": [
    "def find_tags(tag_prefix, tagged_text):\n",
    "    \n",
    "    # Generator comprehension (cf. list comprehension)\n",
    "    taglist = ((tag, word) for (word, tag) in tagged_text if tag.startswith(tag_prefix))\n",
    "    \n",
    "    cfd = nltk.ConditionalFreqDist(taglist)\n",
    "    \n",
    "    tagdict = dict((tag, cfd[tag].most_common(5)) for tag in cfd.conditions())\n",
    "    \n",
    "    return tagdict\n",
    "\n",
    "\n",
    "tagdict = find_tags('NN', nltk.corpus.brown.tagged_words(categories='news'))\n",
    "\n",
    "for tag in sorted(tagdict):\n",
    "    print(tag, tagdict[tag])"
   ]
  },
  {
   "cell_type": "markdown",
   "id": "b8be5937",
   "metadata": {},
   "source": [
    "##### 2. Suppose we're studying the word \"`often`\" and want to look at the part-of-speech tag of the following words:"
   ]
  },
  {
   "cell_type": "code",
   "execution_count": 49,
   "id": "e06186f3",
   "metadata": {},
   "outputs": [
    {
     "ename": "NameError",
     "evalue": "name 'nltk' is not defined",
     "output_type": "error",
     "traceback": [
      "\u001b[0;31m---------------------------------------------------------------------------\u001b[0m",
      "\u001b[0;31mNameError\u001b[0m                                 Traceback (most recent call last)",
      "Input \u001b[0;32mIn [49]\u001b[0m, in \u001b[0;36m<module>\u001b[0;34m\u001b[0m\n\u001b[0;32m----> 1\u001b[0m brown_lrnd_tagged \u001b[38;5;241m=\u001b[39m \u001b[43mnltk\u001b[49m\u001b[38;5;241m.\u001b[39mcorpus\u001b[38;5;241m.\u001b[39mbrown\u001b[38;5;241m.\u001b[39mtagged_words(categories\u001b[38;5;241m=\u001b[39m\u001b[38;5;124m'\u001b[39m\u001b[38;5;124mlearned\u001b[39m\u001b[38;5;124m'\u001b[39m, tagset\u001b[38;5;241m=\u001b[39m\u001b[38;5;124m'\u001b[39m\u001b[38;5;124muniversal\u001b[39m\u001b[38;5;124m'\u001b[39m)\n\u001b[1;32m      3\u001b[0m tags \u001b[38;5;241m=\u001b[39m [b[\u001b[38;5;241m1\u001b[39m] \u001b[38;5;28;01mfor\u001b[39;00m (a, b) \u001b[38;5;129;01min\u001b[39;00m nltk\u001b[38;5;241m.\u001b[39mbigrams(brown_lrnd_tagged) \u001b[38;5;28;01mif\u001b[39;00m a[\u001b[38;5;241m0\u001b[39m] \u001b[38;5;241m==\u001b[39m \u001b[38;5;124m'\u001b[39m\u001b[38;5;124moften\u001b[39m\u001b[38;5;124m'\u001b[39m]\n\u001b[1;32m      5\u001b[0m nltk\u001b[38;5;241m.\u001b[39mFreqDist(tags)\u001b[38;5;241m.\u001b[39mtabulate()\n",
      "\u001b[0;31mNameError\u001b[0m: name 'nltk' is not defined"
     ]
    }
   ],
   "source": [
    "brown_lrnd_tagged = nltk.corpus.brown.tagged_words(categories='learned', tagset='universal')\n",
    "\n",
    "tags = [b[1] for (a, b) in nltk.bigrams(brown_lrnd_tagged) if a[0] == 'often']\n",
    "\n",
    "nltk.FreqDist(tags).tabulate()"
   ]
  },
  {
   "cell_type": "markdown",
   "id": "3a462926",
   "metadata": {},
   "source": [
    "---"
   ]
  },
  {
   "cell_type": "markdown",
   "id": "2a8f1d74",
   "metadata": {},
   "source": [
    ">### Exercises\n",
    "> \n",
    "> \n",
    "> \n",
    "> \n",
    "> \n",
    ">\n",
    "> - Use the word frequencies in the Brown corpus to:\n",
    ">\n",
    ">   - print the top 50 most frequent unigrams and bigrams (together with their frequencies). A bigram is a group of two subsequent words, e.g., \"this is good\": \"this is\", \"is good\". Check the `nltk.bigrams()` function\n",
    ">   - plot them too\n",
    ">\n",
    ">\n",
    "> - Lemmatize the Brown corpus and use the lemma frequencies to plot the 50 most frequent unigrams and bigrams. So, the same analysis as in the previous exercise, but with lemma frequencies this time."
   ]
  },
  {
   "cell_type": "markdown",
   "id": "dcc220e6",
   "metadata": {},
   "source": [
    "---"
   ]
  }
 ],
 "metadata": {
  "jupytext": {
   "text_representation": {
    "extension": ".md",
    "format_name": "myst",
    "format_version": 0.13,
    "jupytext_version": "1.11.5"
   }
  },
  "kernelspec": {
   "display_name": "Python 3",
   "language": "python",
   "name": "python3"
  },
  "language_info": {
   "codemirror_mode": {
    "name": "ipython",
    "version": 3
   },
   "file_extension": ".py",
   "mimetype": "text/x-python",
   "name": "python",
   "nbconvert_exporter": "python",
   "pygments_lexer": "ipython3",
   "version": "3.8.10"
  },
  "source_map": [
   12,
   28,
   36,
   40,
   44,
   54,
   58,
   62,
   78,
   97,
   116,
   135,
   139,
   143,
   147,
   163,
   180,
   206,
   210,
   215,
   219,
   225,
   230,
   235,
   237,
   246,
   250,
   258,
   262,
   268,
   273,
   275,
   287,
   297,
   303,
   315,
   320,
   324,
   328,
   334,
   348,
   353,
   355,
   359,
   367,
   376,
   384,
   412,
   421,
   425,
   429,
   433,
   437,
   443,
   447,
   452,
   457,
   462,
   473,
   477,
   488,
   500,
   521,
   525,
   529,
   531,
   535,
   540,
   544,
   549,
   553,
   555,
   559,
   563,
   566,
   572,
   576,
   582,
   587,
   592,
   600,
   604,
   623,
   637,
   641,
   649,
   660,
   666,
   673,
   675,
   695,
   699,
   703,
   706,
   714,
   717,
   721,
   725,
   731,
   735,
   739,
   743,
   750,
   771,
   774,
   780,
   798,
   802,
   814,
   826,
   830,
   834,
   847,
   853,
   861,
   863,
   867,
   869,
   873,
   875,
   879,
   883,
   885,
   889,
   893,
   897,
   914,
   918,
   924,
   928,
   945
  ]
 },
 "nbformat": 4,
 "nbformat_minor": 5
}