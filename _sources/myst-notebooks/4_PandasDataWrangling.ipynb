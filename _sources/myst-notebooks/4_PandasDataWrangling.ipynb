{
 "cells": [
  {
   "cell_type": "markdown",
   "id": "896a0ad9",
   "metadata": {
    "id": "13zUoDymWjoj"
   },
   "source": [
    "# Data Wrangling"
   ]
  },
  {
   "cell_type": "markdown",
   "id": "bad13b54",
   "metadata": {
    "id": "P-GOTpNaWjok"
   },
   "source": [
    "## Contents:\n",
    "\n",
    "* String formatting (f-strings)\n",
    "* Regular expressions (regex)\n",
    "* Pandas (Reading/writing CSV)"
   ]
  },
  {
   "cell_type": "markdown",
   "id": "fb442f46",
   "metadata": {
    "id": "r3kPJNMIWjol"
   },
   "source": [
    "## String formatting"
   ]
  },
  {
   "cell_type": "markdown",
   "id": "2ca9cdca",
   "metadata": {
    "id": "IlzCXlG5Wjol"
   },
   "source": [
    "Instead of writing a series of `print()` statements with multiple arguments, or concatenating (by `+`) strings, you can also use a Python string formatting method, called `f-strings`. More information can be read in PEP 498: https://www.python.org/dev/peps/pep-0498/"
   ]
  },
  {
   "cell_type": "markdown",
   "id": "5581425b",
   "metadata": {
    "id": "2WFp8i4pWjom"
   },
   "source": [
    "You can define a string as a template by inserting `{ }` characters with a variable name or expression in between. For this to work, you have to type an `f` in front of the `'`, `\"` or `\"\"\"` start of the string definition. When defined, the string will read with the string value of the variable or the expression filled in. \n",
    "\n",
    "```python\n",
    "name = \"Joe\"\n",
    "text = f\"My name is {name}.\"\n",
    "```\n",
    "\n",
    "Again, if you need a `'` or `\"` in your expression, use the other variant in the Python source code to declare the string. Writing:\n",
    "\n",
    "```python\n",
    "f'This is my {example}.'\n",
    "```\n",
    "\n",
    "is equivalent to:\n",
    "\n",
    "```python\n",
    "f\"This is my {example}.\"\n",
    "```"
   ]
  },
  {
   "cell_type": "code",
   "execution_count": 1,
   "id": "934d5568",
   "metadata": {
    "id": "ZsWlOdzCWjom"
   },
   "outputs": [
    {
     "name": "stdout",
     "output_type": "stream",
     "text": [
      "My name is Joe.\n"
     ]
    }
   ],
   "source": [
    "name = \"Joe\"\n",
    "text = f\"My name is {name}.\"\n",
    "\n",
    "print(text)"
   ]
  },
  {
   "cell_type": "code",
   "execution_count": 2,
   "id": "b6b36de1",
   "metadata": {
    "id": "XtKqnCWRWjoo"
   },
   "outputs": [
    {
     "name": "stdout",
     "output_type": "stream",
     "text": [
      "Test by selecting key: test_value\n"
     ]
    }
   ],
   "source": [
    "day = \"Monday\"\n",
    "weather = \"Sunny\"\n",
    "n_messages = 8\n",
    "\n",
    "test_dict = {'test': 'test_value'}\n",
    "\n",
    "text = f\"\"\"\n",
    "Today is {day}. \n",
    "The weather is {weather.lower()} and you have {n_messages} unread messages. \n",
    "The first three letters of the weekday: {day[:3]}\n",
    "An example expression is: {15 ** 2 = }\n",
    "\n",
    "\n",
    "\n",
    "\"\"\"\n",
    "\n",
    "text = f'Test by selecting key: {test_dict[\"test\"]}'\n",
    "\n",
    "\n",
    "print(text)"
   ]
  },
  {
   "cell_type": "markdown",
   "id": "ac20e66b",
   "metadata": {
    "id": "rcz2ZzX8Wjoo"
   },
   "source": [
    "---"
   ]
  },
  {
   "cell_type": "markdown",
   "id": "f144d033",
   "metadata": {
    "id": "6iczszohWjoo"
   },
   "source": [
    "## Regular expressions"
   ]
  },
  {
   "cell_type": "markdown",
   "id": "c2462c75",
   "metadata": {
    "id": "R0KFKUT9Wjoo"
   },
   "source": [
    "Using regular expressions can be very useful when working with texts. It is a powerful search mechanism by which you can search on patterns, instead of 'exact matches'. But, they can be difficult to grasp, at first sight.\n",
    "\n",
    "A **regular expression**, for instance, allows you to substitute all digits in a text, following another text sequence, or to find all urls, phone numbers, or email addresses. Or any text, that meets a particular condition.\n",
    "\n",
    "See the Python manual for the `re` module for more info: https://docs.python.org/3/library/re.html\n",
    "\n",
    "You can/should use a cheatsheet when writing a regular expression. A nice website to write and test them is: https://regex101.com/. \n",
    "\n",
    "Some examples of commonly used expressions:\n",
    "\n",
    "* `\\d` for all digits 0-9\n",
    "* `\\w` for any word character\n",
    "* `[abc]` for a set of characters (here: a, b, c)\n",
    "* `.` any character\n",
    "* `?` the preceding character/pattern 0 or 1 times\n",
    "* `*` the preceding character/pattern 0 or multiple times\n",
    "* `+` the preceding character/pattern 1 or multiple times\n",
    "* `{1,2}` 1 or 2 times\n",
    "* `^` the start of the string\n",
    "* `$` the end of the string\n",
    "* `|` or\n",
    "* `()` capture group (only return this part)\n",
    "\n",
    "In many text editors (e.g. VSCode) there is also an option to search (and replace) with the help of regular expressions."
   ]
  },
  {
   "cell_type": "markdown",
   "id": "8559530d",
   "metadata": {
    "id": "UHXRd47uWjop"
   },
   "source": [
    "Python has a regex module built in. When working with a regular expression, you have to import it first:"
   ]
  },
  {
   "cell_type": "code",
   "execution_count": 3,
   "id": "9a422ae7",
   "metadata": {
    "id": "FySvVyNZWjop"
   },
   "outputs": [],
   "source": [
    "import re"
   ]
  },
  {
   "cell_type": "markdown",
   "id": "d926f5ca",
   "metadata": {
    "id": "SVPG0dw8Wjop"
   },
   "source": [
    "You can use a regular expression for **finding** occurences in a text. Let's say we want to filter out all web urls in a text:"
   ]
  },
  {
   "cell_type": "code",
   "execution_count": 4,
   "id": "ae427a82",
   "metadata": {
    "id": "E4ETED8GWjoq"
   },
   "outputs": [
    {
     "data": {
      "text/plain": [
       "['https://www.google.com/',\n",
       " 'https://www.bing.com/',\n",
       " 'https://duckduckgo.com/',\n",
       " 'http://www.altavista.com/']"
      ]
     },
     "execution_count": 4,
     "metadata": {},
     "output_type": "execute_result"
    }
   ],
   "source": [
    "text = \"\"\"\n",
    "There are various search engines on the web. \n",
    "There is https://www.google.com/, but also https://www.bing.com/. \n",
    "A more privacy friendly alternative is https://duckduckgo.com/. \n",
    "And who remembers http://www.altavista.com/?\n",
    "\"\"\"\n",
    "\n",
    "re.findall(r'https?://.+?/', text)"
   ]
  },
  {
   "cell_type": "code",
   "execution_count": 5,
   "id": "9958f0db",
   "metadata": {
    "id": "nljkoZR6Wjoq"
   },
   "outputs": [
    {
     "data": {
      "text/plain": [
       "['The Shawshank Redemption (1994)',\n",
       " 'The Godfather (1972)',\n",
       " 'The Dark Knight (2008)']"
      ]
     },
     "execution_count": 5,
     "metadata": {},
     "output_type": "execute_result"
    }
   ],
   "source": [
    "# Copied from https://www.imdb.com/search/title/?groups=top_250&sort=user_rating\n",
    "\n",
    "text = \"\"\"\n",
    "1. The Shawshank Redemption (1994)\n",
    "12 | 142 min | Drama\n",
    "\n",
    " 9,3  Rate this 80 Metascore\n",
    "Two imprisoned men bond over a number of years, finding solace and eventual redemption through acts of common decency.\n",
    "\n",
    "Director: Frank Darabont | Stars: Tim Robbins, Morgan Freeman, Bob Gunton, William Sadler\n",
    "\n",
    "Votes: 2.355.643 | Gross: $28.34M\n",
    "\n",
    "2. The Godfather (1972)\n",
    "16 | 175 min | Crime, Drama\n",
    "\n",
    " 9,2  Rate this 100 Metascore\n",
    "An organized crime dynasty's aging patriarch transfers control of his clandestine empire to his reluctant son.\n",
    "\n",
    "Director: Francis Ford Coppola | Stars: Marlon Brando, Al Pacino, James Caan, Diane Keaton\n",
    "\n",
    "Votes: 1.630.157 | Gross: $134.97M\n",
    "\n",
    "3. The Dark Knight (2008)\n",
    "16 | 152 min | Action, Crime, Drama\n",
    "\n",
    " 9,0  Rate this 84 Metascore\n",
    "When the menace known as the Joker wreaks havoc and chaos on the people of Gotham, Batman must accept one of the greatest psychological and physical tests of his ability to fight injustice.\n",
    "\n",
    "Director: Christopher Nolan | Stars: Christian Bale, Heath Ledger, Aaron Eckhart, Michael Caine\n",
    "\n",
    "Votes: 2.315.134 | Gross: $534.86M\n",
    "\"\"\"\n",
    "\n",
    "titles = re.findall(r'\\d{1,2}\\. (.+)', text)\n",
    "titles"
   ]
  },
  {
   "cell_type": "markdown",
   "id": "dd6f72bb",
   "metadata": {
    "id": "ojLPhJ-0Wjor"
   },
   "source": [
    "### Quiz\n",
    "Try to get a list of all directors. And the gross income."
   ]
  },
  {
   "cell_type": "code",
   "execution_count": 6,
   "id": "14b4d447",
   "metadata": {
    "id": "wvFlrH_BWjor"
   },
   "outputs": [],
   "source": [
    "# All directors"
   ]
  },
  {
   "cell_type": "code",
   "execution_count": 7,
   "id": "82147727",
   "metadata": {
    "id": "0-uZoKO2Wjos"
   },
   "outputs": [],
   "source": [
    "# Gross income"
   ]
  },
  {
   "cell_type": "markdown",
   "id": "61d18a68",
   "metadata": {
    "id": "-x_xCtNQWjos"
   },
   "source": [
    "Or, you can use a regular expression to **replace** a character sequence. This is an equivalent to the `.replace()` function, but allows more variance in the string matching."
   ]
  },
  {
   "cell_type": "code",
   "execution_count": 8,
   "id": "5a97f5f4",
   "metadata": {
    "id": "zsNVQetBWjos"
   },
   "outputs": [
    {
     "name": "stdout",
     "output_type": "stream",
     "text": [
      "\n",
      "T. Robbins\n",
      "M. Freeman\n",
      "B. Gunton\n",
      "W. Sadler\n",
      "M. Brando\n",
      "A. Pacino\n",
      "J. Caan\n",
      "D. Keaton\n",
      "C. Bale\n",
      "H. Ledger\n",
      "A. Eckhart\n",
      "M. Caine\n",
      "\n"
     ]
    }
   ],
   "source": [
    "text = \"\"\"\n",
    "Tim Robbins\n",
    "Morgan Freeman\n",
    "Bob Gunton\n",
    "William Sadler\n",
    "Marlon Brando\n",
    "Al Pacino\n",
    "James Caan\n",
    "Diane Keaton\n",
    "Christian Bale\n",
    "Heath Ledger\n",
    "Aaron Eckhart\n",
    "Michael Caine\n",
    "\"\"\"\n",
    "\n",
    "# Hint: test this with https://regex101.com/\n",
    "new_text = re.sub(r\"(?:(\\w)\\w+) (\\w+)\", r\"\\1. \\2\", text)\n",
    "\n",
    "print(new_text)"
   ]
  },
  {
   "cell_type": "markdown",
   "id": "810ef73e",
   "metadata": {
    "id": "ZdYs70QQWjot"
   },
   "source": [
    "---"
   ]
  },
  {
   "cell_type": "markdown",
   "id": "d84921f8",
   "metadata": {
    "id": "-gWLRatDWjot"
   },
   "source": [
    "# Data wrangling with Pandas"
   ]
  },
  {
   "cell_type": "markdown",
   "id": "c1fa4d41",
   "metadata": {
    "id": "0DIIgvmlWjot"
   },
   "source": [
    "## CSV (in Pandas)\n",
    "\n",
    "The other often used file type is CSV (Comma Separated Values), or variants, such as TSV (Tab Separated Values). Python includes another built-in module to deal with these files: the `csv` module. But, we will be using the `Pandas` module, the go-to package for data analysis, that you already imported and updated in Notebook 0. \n",
    "\n",
    "A CSV file is similar to an Excel or Google Docs spreadsheet, but more limited in markup and functionality (e.g. you cannot store Excel functions). It is just a text file in which individual entries correspond to lines, and columns are separated by a comma. You can always open a CSV file with a text editor, and this also makes it so easy to store and share data with.\n",
    "\n",
    "For the rest of the notebook we will see how to work with the two main data types in `pandas`: the `DataFrame` and a `Series`.\n",
    "\n",
    "Information on functions and modules of Pandas cannot be found in the Python manual online, as it is an external package. Instead, you can refer to https://pandas.pydata.org/pandas-docs/stable/index.html ."
   ]
  },
  {
   "cell_type": "markdown",
   "id": "83eed7fd",
   "metadata": {
    "id": "rfESw9J_Wjou"
   },
   "source": [
    "### `DataFrame`\n",
    "\n",
    "\n",
    "What is a `pandas.DataFrame`? \n",
    "\n",
    "A `DataFrame` is a collection of `Series` having the same length and whose indexes are in sync. A *collection* means that each column of a dataframe is a series. You can also see it as a spreadheet in memory, that also allows for inclusion of Python objects."
   ]
  },
  {
   "cell_type": "markdown",
   "id": "b149309b",
   "metadata": {
    "id": "6OAUHYSaWjou"
   },
   "source": [
    "We first have to import the package. It's a convention to do this like so with Pandas, which makes the elements from this package (classes, functions, methods) available under its abbreviation `pd`:"
   ]
  },
  {
   "cell_type": "code",
   "execution_count": 9,
   "id": "0a9b11d5",
   "metadata": {
    "id": "N8fYArBwWjou"
   },
   "outputs": [],
   "source": [
    "import pandas as pd"
   ]
  },
  {
   "cell_type": "markdown",
   "id": "38f14ee7",
   "metadata": {
    "id": "nkT3_k-KWjov"
   },
   "source": [
    "Next is loading the data. The following data comes from Wikipedia and was [automatically](https://query.wikidata.org/#%0ASELECT%20DISTINCT%20%3FmovieLabel%20%3Fimdb%20%28MIN%28%3FpublicationYear%29%20as%20%3Fyear%29%20%28year%28%3Fdate%29%20as%20%3Faward_year%29%20%28group_concat%28DISTINCT%20%3FdirectorLabel%3Bseparator%3D%22%2C%20%22%29%20as%20%3Fdirectors%20%29%20%28group_concat%28DISTINCT%20%3FcompanyLabel%3Bseparator%3D%22%2C%20%22%29%20as%20%3Fcompanies%29%20%3Fmale_cast%20%3Ffemale_cast%20WHERE%20%7B%0A%20%20%0A%20%20%7B%0A%20%20%3Fmovie%20p%3AP166%20%3Fawardstatement%20%3B%0A%20%20%20%20%20%20%20%20%20wdt%3AP345%20%3Fimdb%20%3B%0A%20%20%20%20%20%20%20%20%20wdt%3AP577%20%3Fpublication%20%3B%0A%20%20%20%20%20%20%20%20%20wdt%3AP57%20%3Fdirector%20%3B%0A%20%20%20%20%20%20%20%20%20wdt%3AP272%20%3Fcompany%20%3B%0A%20%20%20%20%20%20%20%20%20wdt%3AP31%20wd%3AQ11424%20.%0A%20%20%0A%20%20%3Fawardstatement%20ps%3AP166%20wd%3AQ102427%20%3B%20%0A%20%20%20%20%20%20%20%20%20%20%20%20%20%20%20%20%20%20pq%3AP585%20%3Fdate%20.%0A%20%20%7D%0A%20%20%0A%20%20BIND%28year%28%3Fpublication%29%20as%20%3FpublicationYear%29%0A%20%20%0A%20%20%7B%0A%20%20%20%20%20SELECT%20%3Fmovie%20%28COUNT%28%3Fcast_member%29%20AS%20%3Fmale_cast%29%20WHERE%20%7B%0A%20%20%20%20%20%20%3Fmovie%20wdt%3AP161%20%3Fcast_member%20.%0A%20%20%20%20%20%20%3Fcast_member%20wdt%3AP21%20wd%3AQ6581097%20.%0A%20%20%20%20%7D%20GROUP%20BY%20%3Fmovie%0A%7D%20%7B%0A%20%20%20%20SELECT%20%3Fmovie%20%28COUNT%28%3Fcast_member%29%20AS%20%3Ffemale_cast%29%20WHERE%20%7B%0A%20%20%20%20%20%20%3Fmovie%20wdt%3AP161%20%3Fcast_member%20.%0A%20%20%20%20%20%20%3Fcast_member%20wdt%3AP21%20wd%3AQ6581072%20.%0A%20%20%20%20%7D%20GROUP%20BY%20%3Fmovie%0A%20%20%7D%0A%20%20%0A%20%20SERVICE%20wikibase%3Alabel%20%7B%20%0A%20%20%20%20bd%3AserviceParam%20wikibase%3Alanguage%20%22en%22%20.%0A%20%20%20%20%3Fmovie%20rdfs%3Alabel%20%3FmovieLabel%20.%0A%20%20%20%20%3Fdirector%20rdfs%3Alabel%20%3FdirectorLabel%20.%0A%20%20%20%20%3Fcompany%20rdfs%3Alabel%20%3FcompanyLabel%20.%20%0A%20%20%7D%0A%7D%20%0A%0AGROUP%20BY%20%3FmovieLabel%20%3Fimdb%20%3Fdate%20%3Fmale_cast%20%3Ffemale_cast%0AORDER%20BY%20%3Fyear%20) retreived. It is an overview of all movies that have won an Academy Award for Best Picture, including some extra data for the movie: a link to the IMDB, the publication and award year, the director(s), production company and the number of male and female actors in the cast. It can be that this data is incorrect, because this information is not entered in Wikipedia. \n",
    "\n",
    "You can find this file in `data/academyawards.csv`. Download it from the repository and save it in the data folder if you don't have it."
   ]
  },
  {
   "cell_type": "markdown",
   "id": "1e367c47",
   "metadata": {
    "id": "TYq-OoIiWjov"
   },
   "source": [
    "Reading in a csv with pandas is easy. We call the `pd.read_csv()` function with the file path as argument. Pandas takes care of opening and closing the file, so a `with` statement is not needed. The contents of the csv file are then read in a Pandas DataFrame object. We can store this in the variable `df`. \n",
    "\n",
    "Calling this variable in a Jypyter Notebook gives back a nicely formatted table with the first and last 5 rows of the file."
   ]
  },
  {
   "cell_type": "code",
   "execution_count": 10,
   "id": "c674d406",
   "metadata": {
    "id": "UmPotvtEWjov"
   },
   "outputs": [
    {
     "data": {
      "text/html": [
       "<div>\n",
       "<style scoped>\n",
       "    .dataframe tbody tr th:only-of-type {\n",
       "        vertical-align: middle;\n",
       "    }\n",
       "\n",
       "    .dataframe tbody tr th {\n",
       "        vertical-align: top;\n",
       "    }\n",
       "\n",
       "    .dataframe thead th {\n",
       "        text-align: right;\n",
       "    }\n",
       "</style>\n",
       "<table border=\"1\" class=\"dataframe\">\n",
       "  <thead>\n",
       "    <tr style=\"text-align: right;\">\n",
       "      <th></th>\n",
       "      <th>movie</th>\n",
       "      <th>imdb</th>\n",
       "      <th>year</th>\n",
       "      <th>award_year</th>\n",
       "      <th>directors</th>\n",
       "      <th>companies</th>\n",
       "      <th>male_cast</th>\n",
       "      <th>female_cast</th>\n",
       "    </tr>\n",
       "  </thead>\n",
       "  <tbody>\n",
       "    <tr>\n",
       "      <th>0</th>\n",
       "      <td>Wings</td>\n",
       "      <td>tt0018578</td>\n",
       "      <td>1927</td>\n",
       "      <td>1929</td>\n",
       "      <td>William A. Wellman, Harry d’Abbadie d’Arrast</td>\n",
       "      <td>Paramount Pictures</td>\n",
       "      <td>12</td>\n",
       "      <td>5</td>\n",
       "    </tr>\n",
       "    <tr>\n",
       "      <th>1</th>\n",
       "      <td>The Broadway Melody</td>\n",
       "      <td>tt0019729</td>\n",
       "      <td>1929</td>\n",
       "      <td>1930</td>\n",
       "      <td>Harry Beaumont</td>\n",
       "      <td>Metro-Goldwyn-Mayer</td>\n",
       "      <td>4</td>\n",
       "      <td>3</td>\n",
       "    </tr>\n",
       "    <tr>\n",
       "      <th>2</th>\n",
       "      <td>All Quiet on the Western Front</td>\n",
       "      <td>tt0020629</td>\n",
       "      <td>1930</td>\n",
       "      <td>1930</td>\n",
       "      <td>Lewis Milestone, Nate Watt</td>\n",
       "      <td>Universal Pictures</td>\n",
       "      <td>22</td>\n",
       "      <td>6</td>\n",
       "    </tr>\n",
       "    <tr>\n",
       "      <th>3</th>\n",
       "      <td>Cimarron</td>\n",
       "      <td>tt0021746</td>\n",
       "      <td>1931</td>\n",
       "      <td>1931</td>\n",
       "      <td>Wesley Ruggles</td>\n",
       "      <td>RKO Pictures</td>\n",
       "      <td>13</td>\n",
       "      <td>6</td>\n",
       "    </tr>\n",
       "    <tr>\n",
       "      <th>4</th>\n",
       "      <td>Grand Hotel</td>\n",
       "      <td>tt0022958</td>\n",
       "      <td>1932</td>\n",
       "      <td>1932</td>\n",
       "      <td>Edmund Goulding</td>\n",
       "      <td>Metro-Goldwyn-Mayer</td>\n",
       "      <td>19</td>\n",
       "      <td>8</td>\n",
       "    </tr>\n",
       "    <tr>\n",
       "      <th>...</th>\n",
       "      <td>...</td>\n",
       "      <td>...</td>\n",
       "      <td>...</td>\n",
       "      <td>...</td>\n",
       "      <td>...</td>\n",
       "      <td>...</td>\n",
       "      <td>...</td>\n",
       "      <td>...</td>\n",
       "    </tr>\n",
       "    <tr>\n",
       "      <th>80</th>\n",
       "      <td>Spotlight</td>\n",
       "      <td>tt1895587</td>\n",
       "      <td>2015</td>\n",
       "      <td>2016</td>\n",
       "      <td>Tom McCarthy</td>\n",
       "      <td>Anonymous Content, Participant</td>\n",
       "      <td>15</td>\n",
       "      <td>2</td>\n",
       "    </tr>\n",
       "    <tr>\n",
       "      <th>81</th>\n",
       "      <td>Moonlight</td>\n",
       "      <td>tt4975722</td>\n",
       "      <td>2016</td>\n",
       "      <td>2017</td>\n",
       "      <td>Barry Jenkins</td>\n",
       "      <td>Plan B Entertainment, A24</td>\n",
       "      <td>6</td>\n",
       "      <td>2</td>\n",
       "    </tr>\n",
       "    <tr>\n",
       "      <th>82</th>\n",
       "      <td>The Shape of Water</td>\n",
       "      <td>tt5580390</td>\n",
       "      <td>2017</td>\n",
       "      <td>2018</td>\n",
       "      <td>Guillermo del Toro</td>\n",
       "      <td>Searchlight Pictures, TSG Entertainment</td>\n",
       "      <td>8</td>\n",
       "      <td>3</td>\n",
       "    </tr>\n",
       "    <tr>\n",
       "      <th>83</th>\n",
       "      <td>Green Book</td>\n",
       "      <td>tt6966692</td>\n",
       "      <td>2018</td>\n",
       "      <td>2019</td>\n",
       "      <td>Peter Farrelly</td>\n",
       "      <td>Universal Pictures, DreamWorks, Participant, A...</td>\n",
       "      <td>7</td>\n",
       "      <td>1</td>\n",
       "    </tr>\n",
       "    <tr>\n",
       "      <th>84</th>\n",
       "      <td>Parasite</td>\n",
       "      <td>tt6751668</td>\n",
       "      <td>2019</td>\n",
       "      <td>2020</td>\n",
       "      <td>Bong Joon-ho</td>\n",
       "      <td>CJ Entertainment, Barunson E&amp;A</td>\n",
       "      <td>5</td>\n",
       "      <td>5</td>\n",
       "    </tr>\n",
       "  </tbody>\n",
       "</table>\n",
       "<p>85 rows × 8 columns</p>\n",
       "</div>"
      ],
      "text/plain": [
       "                             movie       imdb  year  award_year  \\\n",
       "0                            Wings  tt0018578  1927        1929   \n",
       "1              The Broadway Melody  tt0019729  1929        1930   \n",
       "2   All Quiet on the Western Front  tt0020629  1930        1930   \n",
       "3                         Cimarron  tt0021746  1931        1931   \n",
       "4                      Grand Hotel  tt0022958  1932        1932   \n",
       "..                             ...        ...   ...         ...   \n",
       "80                       Spotlight  tt1895587  2015        2016   \n",
       "81                       Moonlight  tt4975722  2016        2017   \n",
       "82              The Shape of Water  tt5580390  2017        2018   \n",
       "83                      Green Book  tt6966692  2018        2019   \n",
       "84                        Parasite  tt6751668  2019        2020   \n",
       "\n",
       "                                       directors  \\\n",
       "0   William A. Wellman, Harry d’Abbadie d’Arrast   \n",
       "1                                 Harry Beaumont   \n",
       "2                     Lewis Milestone, Nate Watt   \n",
       "3                                 Wesley Ruggles   \n",
       "4                                Edmund Goulding   \n",
       "..                                           ...   \n",
       "80                                  Tom McCarthy   \n",
       "81                                 Barry Jenkins   \n",
       "82                            Guillermo del Toro   \n",
       "83                                Peter Farrelly   \n",
       "84                                  Bong Joon-ho   \n",
       "\n",
       "                                            companies  male_cast  female_cast  \n",
       "0                                  Paramount Pictures         12            5  \n",
       "1                                 Metro-Goldwyn-Mayer          4            3  \n",
       "2                                  Universal Pictures         22            6  \n",
       "3                                        RKO Pictures         13            6  \n",
       "4                                 Metro-Goldwyn-Mayer         19            8  \n",
       "..                                                ...        ...          ...  \n",
       "80                     Anonymous Content, Participant         15            2  \n",
       "81                          Plan B Entertainment, A24          6            2  \n",
       "82            Searchlight Pictures, TSG Entertainment          8            3  \n",
       "83  Universal Pictures, DreamWorks, Participant, A...          7            1  \n",
       "84                     CJ Entertainment, Barunson E&A          5            5  \n",
       "\n",
       "[85 rows x 8 columns]"
      ]
     },
     "execution_count": 10,
     "metadata": {},
     "output_type": "execute_result"
    }
   ],
   "source": [
    "df = pd.read_csv('data/academyawards.csv', encoding='utf-8')\n",
    "df"
   ]
  },
  {
   "cell_type": "markdown",
   "id": "3c0790f8",
   "metadata": {
    "id": "-HYWyDLjWjov"
   },
   "source": [
    "Think of a `DataFrame` as an in-memory spreadsheet that you can analyse and manipulate programmatically. Or, think of it as a table in which every line is a data entry, and every column holds specific information on this data.\n",
    "\n",
    "These columns can also be seen as lists of values. They are ordered and the index of an element corresponds with the index of the data entry. The collection of all such columns is what makes the DataFrame. One column in a table is represented by a Pandas `Series`, which collects observations about a given variable. Multiple columns are a `DataFrame`. A DataFrame therefore is a collection of lists (=columns), or `Series`.\n",
    "\n",
    "If you look for other methods on `pd` you can call, you'll also see that there is an `pd.read_excel()` option to read spreadsheets in `.xls` or `.xlsx`. You can also  use this, if you have these kind of files."
   ]
  },
  {
   "cell_type": "markdown",
   "id": "fc048298",
   "metadata": {
    "id": "VYFYCw1IWjow"
   },
   "source": [
    "### Statistics\n",
    "Now that we loaded our DataFrame, we can make pandas print some statistics on the file."
   ]
  },
  {
   "cell_type": "code",
   "execution_count": 11,
   "id": "8bf495ce",
   "metadata": {
    "id": "3L5rU-RMWjow"
   },
   "outputs": [
    {
     "data": {
      "text/html": [
       "<div>\n",
       "<style scoped>\n",
       "    .dataframe tbody tr th:only-of-type {\n",
       "        vertical-align: middle;\n",
       "    }\n",
       "\n",
       "    .dataframe tbody tr th {\n",
       "        vertical-align: top;\n",
       "    }\n",
       "\n",
       "    .dataframe thead th {\n",
       "        text-align: right;\n",
       "    }\n",
       "</style>\n",
       "<table border=\"1\" class=\"dataframe\">\n",
       "  <thead>\n",
       "    <tr style=\"text-align: right;\">\n",
       "      <th></th>\n",
       "      <th>movie</th>\n",
       "      <th>imdb</th>\n",
       "      <th>year</th>\n",
       "      <th>award_year</th>\n",
       "      <th>directors</th>\n",
       "      <th>companies</th>\n",
       "      <th>male_cast</th>\n",
       "      <th>female_cast</th>\n",
       "    </tr>\n",
       "  </thead>\n",
       "  <tbody>\n",
       "    <tr>\n",
       "      <th>0</th>\n",
       "      <td>Wings</td>\n",
       "      <td>tt0018578</td>\n",
       "      <td>1927</td>\n",
       "      <td>1929</td>\n",
       "      <td>William A. Wellman, Harry d’Abbadie d’Arrast</td>\n",
       "      <td>Paramount Pictures</td>\n",
       "      <td>12</td>\n",
       "      <td>5</td>\n",
       "    </tr>\n",
       "  </tbody>\n",
       "</table>\n",
       "</div>"
      ],
      "text/plain": [
       "   movie       imdb  year  award_year  \\\n",
       "0  Wings  tt0018578  1927        1929   \n",
       "\n",
       "                                      directors           companies  \\\n",
       "0  William A. Wellman, Harry d’Abbadie d’Arrast  Paramount Pictures   \n",
       "\n",
       "   male_cast  female_cast  \n",
       "0         12            5  "
      ]
     },
     "execution_count": 11,
     "metadata": {},
     "output_type": "execute_result"
    }
   ],
   "source": [
    "df.head(1)  # First 5 rows"
   ]
  },
  {
   "cell_type": "code",
   "execution_count": 12,
   "id": "d36dcb58",
   "metadata": {
    "id": "rGg7zsP9Wjow"
   },
   "outputs": [
    {
     "data": {
      "text/html": [
       "<div>\n",
       "<style scoped>\n",
       "    .dataframe tbody tr th:only-of-type {\n",
       "        vertical-align: middle;\n",
       "    }\n",
       "\n",
       "    .dataframe tbody tr th {\n",
       "        vertical-align: top;\n",
       "    }\n",
       "\n",
       "    .dataframe thead th {\n",
       "        text-align: right;\n",
       "    }\n",
       "</style>\n",
       "<table border=\"1\" class=\"dataframe\">\n",
       "  <thead>\n",
       "    <tr style=\"text-align: right;\">\n",
       "      <th></th>\n",
       "      <th>movie</th>\n",
       "      <th>imdb</th>\n",
       "      <th>year</th>\n",
       "      <th>award_year</th>\n",
       "      <th>directors</th>\n",
       "      <th>companies</th>\n",
       "      <th>male_cast</th>\n",
       "      <th>female_cast</th>\n",
       "    </tr>\n",
       "  </thead>\n",
       "  <tbody>\n",
       "    <tr>\n",
       "      <th>80</th>\n",
       "      <td>Spotlight</td>\n",
       "      <td>tt1895587</td>\n",
       "      <td>2015</td>\n",
       "      <td>2016</td>\n",
       "      <td>Tom McCarthy</td>\n",
       "      <td>Anonymous Content, Participant</td>\n",
       "      <td>15</td>\n",
       "      <td>2</td>\n",
       "    </tr>\n",
       "    <tr>\n",
       "      <th>81</th>\n",
       "      <td>Moonlight</td>\n",
       "      <td>tt4975722</td>\n",
       "      <td>2016</td>\n",
       "      <td>2017</td>\n",
       "      <td>Barry Jenkins</td>\n",
       "      <td>Plan B Entertainment, A24</td>\n",
       "      <td>6</td>\n",
       "      <td>2</td>\n",
       "    </tr>\n",
       "    <tr>\n",
       "      <th>82</th>\n",
       "      <td>The Shape of Water</td>\n",
       "      <td>tt5580390</td>\n",
       "      <td>2017</td>\n",
       "      <td>2018</td>\n",
       "      <td>Guillermo del Toro</td>\n",
       "      <td>Searchlight Pictures, TSG Entertainment</td>\n",
       "      <td>8</td>\n",
       "      <td>3</td>\n",
       "    </tr>\n",
       "    <tr>\n",
       "      <th>83</th>\n",
       "      <td>Green Book</td>\n",
       "      <td>tt6966692</td>\n",
       "      <td>2018</td>\n",
       "      <td>2019</td>\n",
       "      <td>Peter Farrelly</td>\n",
       "      <td>Universal Pictures, DreamWorks, Participant, A...</td>\n",
       "      <td>7</td>\n",
       "      <td>1</td>\n",
       "    </tr>\n",
       "    <tr>\n",
       "      <th>84</th>\n",
       "      <td>Parasite</td>\n",
       "      <td>tt6751668</td>\n",
       "      <td>2019</td>\n",
       "      <td>2020</td>\n",
       "      <td>Bong Joon-ho</td>\n",
       "      <td>CJ Entertainment, Barunson E&amp;A</td>\n",
       "      <td>5</td>\n",
       "      <td>5</td>\n",
       "    </tr>\n",
       "  </tbody>\n",
       "</table>\n",
       "</div>"
      ],
      "text/plain": [
       "                 movie       imdb  year  award_year           directors  \\\n",
       "80           Spotlight  tt1895587  2015        2016        Tom McCarthy   \n",
       "81           Moonlight  tt4975722  2016        2017       Barry Jenkins   \n",
       "82  The Shape of Water  tt5580390  2017        2018  Guillermo del Toro   \n",
       "83          Green Book  tt6966692  2018        2019      Peter Farrelly   \n",
       "84            Parasite  tt6751668  2019        2020        Bong Joon-ho   \n",
       "\n",
       "                                            companies  male_cast  female_cast  \n",
       "80                     Anonymous Content, Participant         15            2  \n",
       "81                          Plan B Entertainment, A24          6            2  \n",
       "82            Searchlight Pictures, TSG Entertainment          8            3  \n",
       "83  Universal Pictures, DreamWorks, Participant, A...          7            1  \n",
       "84                     CJ Entertainment, Barunson E&A          5            5  "
      ]
     },
     "execution_count": 12,
     "metadata": {},
     "output_type": "execute_result"
    }
   ],
   "source": [
    "df.tail()  # Last 5 rows"
   ]
  },
  {
   "cell_type": "code",
   "execution_count": 13,
   "id": "045b0113",
   "metadata": {
    "id": "8DuLyUR9Wjow"
   },
   "outputs": [
    {
     "data": {
      "text/html": [
       "<div>\n",
       "<style scoped>\n",
       "    .dataframe tbody tr th:only-of-type {\n",
       "        vertical-align: middle;\n",
       "    }\n",
       "\n",
       "    .dataframe tbody tr th {\n",
       "        vertical-align: top;\n",
       "    }\n",
       "\n",
       "    .dataframe thead th {\n",
       "        text-align: right;\n",
       "    }\n",
       "</style>\n",
       "<table border=\"1\" class=\"dataframe\">\n",
       "  <thead>\n",
       "    <tr style=\"text-align: right;\">\n",
       "      <th></th>\n",
       "      <th>year</th>\n",
       "      <th>award_year</th>\n",
       "      <th>male_cast</th>\n",
       "      <th>female_cast</th>\n",
       "    </tr>\n",
       "  </thead>\n",
       "  <tbody>\n",
       "    <tr>\n",
       "      <th>count</th>\n",
       "      <td>85.000000</td>\n",
       "      <td>85.000000</td>\n",
       "      <td>85.000000</td>\n",
       "      <td>85.000000</td>\n",
       "    </tr>\n",
       "    <tr>\n",
       "      <th>mean</th>\n",
       "      <td>1974.164706</td>\n",
       "      <td>1975.164706</td>\n",
       "      <td>16.858824</td>\n",
       "      <td>5.835294</td>\n",
       "    </tr>\n",
       "    <tr>\n",
       "      <th>std</th>\n",
       "      <td>27.288951</td>\n",
       "      <td>27.350828</td>\n",
       "      <td>12.125488</td>\n",
       "      <td>4.369393</td>\n",
       "    </tr>\n",
       "    <tr>\n",
       "      <th>min</th>\n",
       "      <td>1927.000000</td>\n",
       "      <td>1929.000000</td>\n",
       "      <td>4.000000</td>\n",
       "      <td>1.000000</td>\n",
       "    </tr>\n",
       "    <tr>\n",
       "      <th>25%</th>\n",
       "      <td>1950.000000</td>\n",
       "      <td>1951.000000</td>\n",
       "      <td>9.000000</td>\n",
       "      <td>3.000000</td>\n",
       "    </tr>\n",
       "    <tr>\n",
       "      <th>50%</th>\n",
       "      <td>1975.000000</td>\n",
       "      <td>1976.000000</td>\n",
       "      <td>14.000000</td>\n",
       "      <td>5.000000</td>\n",
       "    </tr>\n",
       "    <tr>\n",
       "      <th>75%</th>\n",
       "      <td>1998.000000</td>\n",
       "      <td>1999.000000</td>\n",
       "      <td>21.000000</td>\n",
       "      <td>7.000000</td>\n",
       "    </tr>\n",
       "    <tr>\n",
       "      <th>max</th>\n",
       "      <td>2019.000000</td>\n",
       "      <td>2020.000000</td>\n",
       "      <td>89.000000</td>\n",
       "      <td>29.000000</td>\n",
       "    </tr>\n",
       "  </tbody>\n",
       "</table>\n",
       "</div>"
      ],
      "text/plain": [
       "              year   award_year  male_cast  female_cast\n",
       "count    85.000000    85.000000  85.000000    85.000000\n",
       "mean   1974.164706  1975.164706  16.858824     5.835294\n",
       "std      27.288951    27.350828  12.125488     4.369393\n",
       "min    1927.000000  1929.000000   4.000000     1.000000\n",
       "25%    1950.000000  1951.000000   9.000000     3.000000\n",
       "50%    1975.000000  1976.000000  14.000000     5.000000\n",
       "75%    1998.000000  1999.000000  21.000000     7.000000\n",
       "max    2019.000000  2020.000000  89.000000    29.000000"
      ]
     },
     "execution_count": 13,
     "metadata": {},
     "output_type": "execute_result"
    }
   ],
   "source": [
    "df.describe()  # Descriptive statistics"
   ]
  },
  {
   "cell_type": "markdown",
   "id": "de113494",
   "metadata": {
    "id": "n-1bGEcMWjox"
   },
   "source": [
    "As you can see by what they return, these methods return another DataFrame with some descriptive statistics on the file, such as the number of entries (count), the mean of the numerical values, the standard deviation, minimum and maximum values, and the 25th, 50th, and 75th percentiles."
   ]
  },
  {
   "cell_type": "markdown",
   "id": "4f474fc0",
   "metadata": {
    "id": "8ZYj1kD7Wjox"
   },
   "source": [
    "The `.info()` method can also be informative. It gives you information about a dataframe:\n",
    "- how much space does it take in memory?\n",
    "- what is the datatype of each column?\n",
    "- how many records are there?\n",
    "- how many `null` values does each column contain (!)?"
   ]
  },
  {
   "cell_type": "code",
   "execution_count": 14,
   "id": "3c438105",
   "metadata": {
    "id": "4uRZBDUSWjox"
   },
   "outputs": [
    {
     "name": "stdout",
     "output_type": "stream",
     "text": [
      "<class 'pandas.core.frame.DataFrame'>\n",
      "RangeIndex: 85 entries, 0 to 84\n",
      "Data columns (total 8 columns):\n",
      " #   Column       Non-Null Count  Dtype \n",
      "---  ------       --------------  ----- \n",
      " 0   movie        85 non-null     object\n",
      " 1   imdb         85 non-null     object\n",
      " 2   year         85 non-null     int64 \n",
      " 3   award_year   85 non-null     int64 \n",
      " 4   directors    85 non-null     object\n",
      " 5   companies    85 non-null     object\n",
      " 6   male_cast    85 non-null     int64 \n",
      " 7   female_cast  85 non-null     int64 \n",
      "dtypes: int64(4), object(4)\n",
      "memory usage: 5.4+ KB\n"
     ]
    }
   ],
   "source": [
    "df.info()"
   ]
  },
  {
   "cell_type": "markdown",
   "id": "a25203c4",
   "metadata": {
    "id": "b4KMJ_iRWjox"
   },
   "source": [
    "Pandas automatically interprets which datatypes are used in the file, but this is not always correct. Especially if you have empty fields in the DataFrame, any other integers get interpreted as float. Every column has one datatype. You can check them separately by requesting the `.dtypes` argument on the `df`. \n",
    "\n",
    "The 'object' type is a string in this file, 'int64' is an integer."
   ]
  },
  {
   "cell_type": "code",
   "execution_count": 15,
   "id": "4a17126c",
   "metadata": {
    "id": "zhqOi1OWWjoy"
   },
   "outputs": [
    {
     "data": {
      "text/plain": [
       "movie          object\n",
       "imdb           object\n",
       "year            int64\n",
       "award_year      int64\n",
       "directors      object\n",
       "companies      object\n",
       "male_cast       int64\n",
       "female_cast     int64\n",
       "dtype: object"
      ]
     },
     "execution_count": 15,
     "metadata": {},
     "output_type": "execute_result"
    }
   ],
   "source": [
    "df.dtypes"
   ]
  },
  {
   "cell_type": "markdown",
   "id": "b08ad05d",
   "metadata": {
    "id": "-efRk_jcWjoy"
   },
   "source": [
    "We expect different datatypes for the description-dataframe:"
   ]
  },
  {
   "cell_type": "code",
   "execution_count": 16,
   "id": "dfd87c79",
   "metadata": {
    "id": "saBMJ_S4Wjoy"
   },
   "outputs": [
    {
     "data": {
      "text/plain": [
       "year           float64\n",
       "award_year     float64\n",
       "male_cast      float64\n",
       "female_cast    float64\n",
       "dtype: object"
      ]
     },
     "execution_count": 16,
     "metadata": {},
     "output_type": "execute_result"
    }
   ],
   "source": [
    "description_df = df.describe()\n",
    "description_df.dtypes"
   ]
  },
  {
   "cell_type": "markdown",
   "id": "fd1cbbfd",
   "metadata": {
    "id": "7Sxekrz5Wjoy"
   },
   "source": [
    "### Slicing and selecting"
   ]
  },
  {
   "cell_type": "markdown",
   "id": "8f92cb9b",
   "metadata": {
    "id": "EdvQxN2rWjoy"
   },
   "source": [
    "#### `df['column1']`\n",
    "You can select a single column by calling this column name as if the DataFrame was a dictionary. A single column from a DataFrame returns a `Series` object."
   ]
  },
  {
   "cell_type": "code",
   "execution_count": 17,
   "id": "2589831e",
   "metadata": {
    "id": "sjl04WKLWjoy"
   },
   "outputs": [
    {
     "data": {
      "text/html": [
       "<div>\n",
       "<style scoped>\n",
       "    .dataframe tbody tr th:only-of-type {\n",
       "        vertical-align: middle;\n",
       "    }\n",
       "\n",
       "    .dataframe tbody tr th {\n",
       "        vertical-align: top;\n",
       "    }\n",
       "\n",
       "    .dataframe thead th {\n",
       "        text-align: right;\n",
       "    }\n",
       "</style>\n",
       "<table border=\"1\" class=\"dataframe\">\n",
       "  <thead>\n",
       "    <tr style=\"text-align: right;\">\n",
       "      <th></th>\n",
       "      <th>movie</th>\n",
       "      <th>imdb</th>\n",
       "      <th>year</th>\n",
       "      <th>award_year</th>\n",
       "      <th>directors</th>\n",
       "      <th>companies</th>\n",
       "      <th>male_cast</th>\n",
       "      <th>female_cast</th>\n",
       "    </tr>\n",
       "  </thead>\n",
       "  <tbody>\n",
       "    <tr>\n",
       "      <th>0</th>\n",
       "      <td>Wings</td>\n",
       "      <td>tt0018578</td>\n",
       "      <td>1927</td>\n",
       "      <td>1929</td>\n",
       "      <td>William A. Wellman, Harry d’Abbadie d’Arrast</td>\n",
       "      <td>Paramount Pictures</td>\n",
       "      <td>12</td>\n",
       "      <td>5</td>\n",
       "    </tr>\n",
       "    <tr>\n",
       "      <th>1</th>\n",
       "      <td>The Broadway Melody</td>\n",
       "      <td>tt0019729</td>\n",
       "      <td>1929</td>\n",
       "      <td>1930</td>\n",
       "      <td>Harry Beaumont</td>\n",
       "      <td>Metro-Goldwyn-Mayer</td>\n",
       "      <td>4</td>\n",
       "      <td>3</td>\n",
       "    </tr>\n",
       "    <tr>\n",
       "      <th>2</th>\n",
       "      <td>All Quiet on the Western Front</td>\n",
       "      <td>tt0020629</td>\n",
       "      <td>1930</td>\n",
       "      <td>1930</td>\n",
       "      <td>Lewis Milestone, Nate Watt</td>\n",
       "      <td>Universal Pictures</td>\n",
       "      <td>22</td>\n",
       "      <td>6</td>\n",
       "    </tr>\n",
       "    <tr>\n",
       "      <th>3</th>\n",
       "      <td>Cimarron</td>\n",
       "      <td>tt0021746</td>\n",
       "      <td>1931</td>\n",
       "      <td>1931</td>\n",
       "      <td>Wesley Ruggles</td>\n",
       "      <td>RKO Pictures</td>\n",
       "      <td>13</td>\n",
       "      <td>6</td>\n",
       "    </tr>\n",
       "    <tr>\n",
       "      <th>4</th>\n",
       "      <td>Grand Hotel</td>\n",
       "      <td>tt0022958</td>\n",
       "      <td>1932</td>\n",
       "      <td>1932</td>\n",
       "      <td>Edmund Goulding</td>\n",
       "      <td>Metro-Goldwyn-Mayer</td>\n",
       "      <td>19</td>\n",
       "      <td>8</td>\n",
       "    </tr>\n",
       "    <tr>\n",
       "      <th>...</th>\n",
       "      <td>...</td>\n",
       "      <td>...</td>\n",
       "      <td>...</td>\n",
       "      <td>...</td>\n",
       "      <td>...</td>\n",
       "      <td>...</td>\n",
       "      <td>...</td>\n",
       "      <td>...</td>\n",
       "    </tr>\n",
       "    <tr>\n",
       "      <th>80</th>\n",
       "      <td>Spotlight</td>\n",
       "      <td>tt1895587</td>\n",
       "      <td>2015</td>\n",
       "      <td>2016</td>\n",
       "      <td>Tom McCarthy</td>\n",
       "      <td>Anonymous Content, Participant</td>\n",
       "      <td>15</td>\n",
       "      <td>2</td>\n",
       "    </tr>\n",
       "    <tr>\n",
       "      <th>81</th>\n",
       "      <td>Moonlight</td>\n",
       "      <td>tt4975722</td>\n",
       "      <td>2016</td>\n",
       "      <td>2017</td>\n",
       "      <td>Barry Jenkins</td>\n",
       "      <td>Plan B Entertainment, A24</td>\n",
       "      <td>6</td>\n",
       "      <td>2</td>\n",
       "    </tr>\n",
       "    <tr>\n",
       "      <th>82</th>\n",
       "      <td>The Shape of Water</td>\n",
       "      <td>tt5580390</td>\n",
       "      <td>2017</td>\n",
       "      <td>2018</td>\n",
       "      <td>Guillermo del Toro</td>\n",
       "      <td>Searchlight Pictures, TSG Entertainment</td>\n",
       "      <td>8</td>\n",
       "      <td>3</td>\n",
       "    </tr>\n",
       "    <tr>\n",
       "      <th>83</th>\n",
       "      <td>Green Book</td>\n",
       "      <td>tt6966692</td>\n",
       "      <td>2018</td>\n",
       "      <td>2019</td>\n",
       "      <td>Peter Farrelly</td>\n",
       "      <td>Universal Pictures, DreamWorks, Participant, A...</td>\n",
       "      <td>7</td>\n",
       "      <td>1</td>\n",
       "    </tr>\n",
       "    <tr>\n",
       "      <th>84</th>\n",
       "      <td>Parasite</td>\n",
       "      <td>tt6751668</td>\n",
       "      <td>2019</td>\n",
       "      <td>2020</td>\n",
       "      <td>Bong Joon-ho</td>\n",
       "      <td>CJ Entertainment, Barunson E&amp;A</td>\n",
       "      <td>5</td>\n",
       "      <td>5</td>\n",
       "    </tr>\n",
       "  </tbody>\n",
       "</table>\n",
       "<p>85 rows × 8 columns</p>\n",
       "</div>"
      ],
      "text/plain": [
       "                             movie       imdb  year  award_year  \\\n",
       "0                            Wings  tt0018578  1927        1929   \n",
       "1              The Broadway Melody  tt0019729  1929        1930   \n",
       "2   All Quiet on the Western Front  tt0020629  1930        1930   \n",
       "3                         Cimarron  tt0021746  1931        1931   \n",
       "4                      Grand Hotel  tt0022958  1932        1932   \n",
       "..                             ...        ...   ...         ...   \n",
       "80                       Spotlight  tt1895587  2015        2016   \n",
       "81                       Moonlight  tt4975722  2016        2017   \n",
       "82              The Shape of Water  tt5580390  2017        2018   \n",
       "83                      Green Book  tt6966692  2018        2019   \n",
       "84                        Parasite  tt6751668  2019        2020   \n",
       "\n",
       "                                       directors  \\\n",
       "0   William A. Wellman, Harry d’Abbadie d’Arrast   \n",
       "1                                 Harry Beaumont   \n",
       "2                     Lewis Milestone, Nate Watt   \n",
       "3                                 Wesley Ruggles   \n",
       "4                                Edmund Goulding   \n",
       "..                                           ...   \n",
       "80                                  Tom McCarthy   \n",
       "81                                 Barry Jenkins   \n",
       "82                            Guillermo del Toro   \n",
       "83                                Peter Farrelly   \n",
       "84                                  Bong Joon-ho   \n",
       "\n",
       "                                            companies  male_cast  female_cast  \n",
       "0                                  Paramount Pictures         12            5  \n",
       "1                                 Metro-Goldwyn-Mayer          4            3  \n",
       "2                                  Universal Pictures         22            6  \n",
       "3                                        RKO Pictures         13            6  \n",
       "4                                 Metro-Goldwyn-Mayer         19            8  \n",
       "..                                                ...        ...          ...  \n",
       "80                     Anonymous Content, Participant         15            2  \n",
       "81                          Plan B Entertainment, A24          6            2  \n",
       "82            Searchlight Pictures, TSG Entertainment          8            3  \n",
       "83  Universal Pictures, DreamWorks, Participant, A...          7            1  \n",
       "84                     CJ Entertainment, Barunson E&A          5            5  \n",
       "\n",
       "[85 rows x 8 columns]"
      ]
     },
     "execution_count": 17,
     "metadata": {},
     "output_type": "execute_result"
    }
   ],
   "source": [
    "df"
   ]
  },
  {
   "cell_type": "code",
   "execution_count": 18,
   "id": "1324ea45",
   "metadata": {
    "id": "gdJ1qooIWjoz"
   },
   "outputs": [
    {
     "name": "stdout",
     "output_type": "stream",
     "text": [
      "<class 'pandas.core.series.Series'>\n"
     ]
    },
    {
     "data": {
      "text/plain": [
       "0                              Wings\n",
       "1                The Broadway Melody\n",
       "2     All Quiet on the Western Front\n",
       "3                           Cimarron\n",
       "4                        Grand Hotel\n",
       "                   ...              \n",
       "80                         Spotlight\n",
       "81                         Moonlight\n",
       "82                The Shape of Water\n",
       "83                        Green Book\n",
       "84                          Parasite\n",
       "Name: movie, Length: 85, dtype: object"
      ]
     },
     "execution_count": 18,
     "metadata": {},
     "output_type": "execute_result"
    }
   ],
   "source": [
    "print(type(df['movie']))\n",
    "\n",
    "df['movie']"
   ]
  },
  {
   "cell_type": "markdown",
   "id": "da7809c8",
   "metadata": {
    "id": "86VDt-g1Wjoz"
   },
   "source": [
    "The `Series` object is very similar to a `list`:"
   ]
  },
  {
   "cell_type": "code",
   "execution_count": 19,
   "id": "8d83fa90",
   "metadata": {
    "id": "PjmysaDdWjoz"
   },
   "outputs": [
    {
     "name": "stdout",
     "output_type": "stream",
     "text": [
      "Length: 85\n",
      "\n",
      "1\tWings\n",
      "2\tThe Broadway Melody\n",
      "3\tAll Quiet on the Western Front\n",
      "4\tCimarron\n",
      "5\tGrand Hotel\n",
      "6\tIt Happened One Night\n",
      "7\tMutiny on the Bounty\n",
      "8\tThe Great Ziegfeld\n",
      "9\tThe Life of Emile Zola\n",
      "10\tYou Can't Take It With You\n"
     ]
    }
   ],
   "source": [
    "movies = df['movie']\n",
    "\n",
    "print(\"Length:\", len(movies))\n",
    "print()\n",
    "\n",
    "for n, movie in enumerate(movies[:10], 1):\n",
    "    print(n, movie, sep='\\t')"
   ]
  },
  {
   "cell_type": "markdown",
   "id": "6f13b38d",
   "metadata": {
    "id": "TSSri8hWWjoz"
   },
   "source": [
    "#### `df[['column1', 'column2']]`\n",
    "We can also slice a DataFrame by calling multiple column names as one list:"
   ]
  },
  {
   "cell_type": "code",
   "execution_count": 20,
   "id": "09418fac",
   "metadata": {
    "id": "eX05cSQ_Wjoz"
   },
   "outputs": [
    {
     "data": {
      "text/html": [
       "<div>\n",
       "<style scoped>\n",
       "    .dataframe tbody tr th:only-of-type {\n",
       "        vertical-align: middle;\n",
       "    }\n",
       "\n",
       "    .dataframe tbody tr th {\n",
       "        vertical-align: top;\n",
       "    }\n",
       "\n",
       "    .dataframe thead th {\n",
       "        text-align: right;\n",
       "    }\n",
       "</style>\n",
       "<table border=\"1\" class=\"dataframe\">\n",
       "  <thead>\n",
       "    <tr style=\"text-align: right;\">\n",
       "      <th></th>\n",
       "      <th>movie</th>\n",
       "      <th>imdb</th>\n",
       "    </tr>\n",
       "  </thead>\n",
       "  <tbody>\n",
       "    <tr>\n",
       "      <th>0</th>\n",
       "      <td>Wings</td>\n",
       "      <td>tt0018578</td>\n",
       "    </tr>\n",
       "    <tr>\n",
       "      <th>1</th>\n",
       "      <td>The Broadway Melody</td>\n",
       "      <td>tt0019729</td>\n",
       "    </tr>\n",
       "    <tr>\n",
       "      <th>2</th>\n",
       "      <td>All Quiet on the Western Front</td>\n",
       "      <td>tt0020629</td>\n",
       "    </tr>\n",
       "    <tr>\n",
       "      <th>3</th>\n",
       "      <td>Cimarron</td>\n",
       "      <td>tt0021746</td>\n",
       "    </tr>\n",
       "    <tr>\n",
       "      <th>4</th>\n",
       "      <td>Grand Hotel</td>\n",
       "      <td>tt0022958</td>\n",
       "    </tr>\n",
       "    <tr>\n",
       "      <th>...</th>\n",
       "      <td>...</td>\n",
       "      <td>...</td>\n",
       "    </tr>\n",
       "    <tr>\n",
       "      <th>80</th>\n",
       "      <td>Spotlight</td>\n",
       "      <td>tt1895587</td>\n",
       "    </tr>\n",
       "    <tr>\n",
       "      <th>81</th>\n",
       "      <td>Moonlight</td>\n",
       "      <td>tt4975722</td>\n",
       "    </tr>\n",
       "    <tr>\n",
       "      <th>82</th>\n",
       "      <td>The Shape of Water</td>\n",
       "      <td>tt5580390</td>\n",
       "    </tr>\n",
       "    <tr>\n",
       "      <th>83</th>\n",
       "      <td>Green Book</td>\n",
       "      <td>tt6966692</td>\n",
       "    </tr>\n",
       "    <tr>\n",
       "      <th>84</th>\n",
       "      <td>Parasite</td>\n",
       "      <td>tt6751668</td>\n",
       "    </tr>\n",
       "  </tbody>\n",
       "</table>\n",
       "<p>85 rows × 2 columns</p>\n",
       "</div>"
      ],
      "text/plain": [
       "                             movie       imdb\n",
       "0                            Wings  tt0018578\n",
       "1              The Broadway Melody  tt0019729\n",
       "2   All Quiet on the Western Front  tt0020629\n",
       "3                         Cimarron  tt0021746\n",
       "4                      Grand Hotel  tt0022958\n",
       "..                             ...        ...\n",
       "80                       Spotlight  tt1895587\n",
       "81                       Moonlight  tt4975722\n",
       "82              The Shape of Water  tt5580390\n",
       "83                      Green Book  tt6966692\n",
       "84                        Parasite  tt6751668\n",
       "\n",
       "[85 rows x 2 columns]"
      ]
     },
     "execution_count": 20,
     "metadata": {},
     "output_type": "execute_result"
    }
   ],
   "source": [
    "df[['movie', 'imdb']]"
   ]
  },
  {
   "cell_type": "markdown",
   "id": "0ee30fd4",
   "metadata": {
    "id": "hT-DeTVZWjo0"
   },
   "source": [
    "### Looping over DataFrames"
   ]
  },
  {
   "cell_type": "markdown",
   "id": "0935eb0d",
   "metadata": {
    "id": "zgq83jp3fE1W"
   },
   "source": [
    "You might expect that if you loop through a DataFrame, you get all the rows. Sadly, it is not that simple, because we now have data in two dimensions. We instead get all the column names (or the first row of the dataframe):"
   ]
  },
  {
   "cell_type": "code",
   "execution_count": 21,
   "id": "f8f0dd33",
   "metadata": {
    "id": "zd_rZaWbekwm"
   },
   "outputs": [
    {
     "name": "stdout",
     "output_type": "stream",
     "text": [
      "movie\n",
      "imdb\n",
      "year\n",
      "award_year\n",
      "directors\n",
      "companies\n",
      "male_cast\n",
      "female_cast\n"
     ]
    }
   ],
   "source": [
    "for r in df:\n",
    "    print(r)"
   ]
  },
  {
   "cell_type": "markdown",
   "id": "3d832d4f",
   "metadata": {
    "id": "fGKJuYDTWjo0"
   },
   "source": [
    "#### `zip(df['column1', df['column2')`\n",
    "Going over these items in a `for` loop needs a different approach. The built-in `zip()` function ([manual](https://docs.python.org/3/library/functions.html#zip)) takes two iterables of even length and creates a new iterable of tuples. The number of arguments/iterables that you give to `zip()` determines the length of the tuples."
   ]
  },
  {
   "cell_type": "code",
   "execution_count": 22,
   "id": "1ec4c507",
   "metadata": {
    "id": "9NdOQEuXWjo0"
   },
   "outputs": [
    {
     "data": {
      "text/plain": [
       "[('a', 1), ('b', 2), ('c', 3)]"
      ]
     },
     "execution_count": 22,
     "metadata": {},
     "output_type": "execute_result"
    }
   ],
   "source": [
    "list1 = ['a', 'b', 'c']\n",
    "list2 = [1, 2, 3]\n",
    "\n",
    "list(zip(list1, list2))"
   ]
  },
  {
   "cell_type": "code",
   "execution_count": 23,
   "id": "51cff716",
   "metadata": {
    "id": "QA3u6-_oWjo0"
   },
   "outputs": [
    {
     "name": "stdout",
     "output_type": "stream",
     "text": [
      "Wings\thttp://www.imdb.com/title/tt0018578\n",
      "The Broadway Melody\thttp://www.imdb.com/title/tt0019729\n",
      "All Quiet on the Western Front\thttp://www.imdb.com/title/tt0020629\n",
      "Cimarron\thttp://www.imdb.com/title/tt0021746\n",
      "Grand Hotel\thttp://www.imdb.com/title/tt0022958\n",
      "It Happened One Night\thttp://www.imdb.com/title/tt0025316\n",
      "Mutiny on the Bounty\thttp://www.imdb.com/title/tt0026752\n",
      "The Great Ziegfeld\thttp://www.imdb.com/title/tt0027698\n",
      "The Life of Emile Zola\thttp://www.imdb.com/title/tt0029146\n",
      "You Can't Take It With You\thttp://www.imdb.com/title/tt0030993\n"
     ]
    }
   ],
   "source": [
    "n = 0\n",
    "for movie, imdb in zip(df['movie'], df['imdb']):\n",
    "    \n",
    "    if n > 9:\n",
    "        break  # stop flooding the Notebook\n",
    "    \n",
    "    print(movie, \"http://www.imdb.com/title/\" + imdb, sep='\\t')\n",
    "    n += 1"
   ]
  },
  {
   "cell_type": "markdown",
   "id": "a06ee9cd",
   "metadata": {
    "id": "25eEafp-Wjo0"
   },
   "source": [
    "#### `.to_dict(orient='record')`\n",
    "Or, accessing all entries in a convenient way, as a python dictionary for instance, can be done with the `.to_dict(orient='records')` method:"
   ]
  },
  {
   "cell_type": "code",
   "execution_count": 24,
   "id": "b8f4f53b",
   "metadata": {
    "id": "T6dq7r6wWjo0"
   },
   "outputs": [
    {
     "data": {
      "text/html": [
       "<div>\n",
       "<style scoped>\n",
       "    .dataframe tbody tr th:only-of-type {\n",
       "        vertical-align: middle;\n",
       "    }\n",
       "\n",
       "    .dataframe tbody tr th {\n",
       "        vertical-align: top;\n",
       "    }\n",
       "\n",
       "    .dataframe thead th {\n",
       "        text-align: right;\n",
       "    }\n",
       "</style>\n",
       "<table border=\"1\" class=\"dataframe\">\n",
       "  <thead>\n",
       "    <tr style=\"text-align: right;\">\n",
       "      <th></th>\n",
       "      <th>movie</th>\n",
       "      <th>imdb</th>\n",
       "      <th>year</th>\n",
       "      <th>award_year</th>\n",
       "      <th>directors</th>\n",
       "      <th>companies</th>\n",
       "      <th>male_cast</th>\n",
       "      <th>female_cast</th>\n",
       "    </tr>\n",
       "  </thead>\n",
       "  <tbody>\n",
       "    <tr>\n",
       "      <th>0</th>\n",
       "      <td>Wings</td>\n",
       "      <td>tt0018578</td>\n",
       "      <td>1927</td>\n",
       "      <td>1929</td>\n",
       "      <td>William A. Wellman, Harry d’Abbadie d’Arrast</td>\n",
       "      <td>Paramount Pictures</td>\n",
       "      <td>12</td>\n",
       "      <td>5</td>\n",
       "    </tr>\n",
       "  </tbody>\n",
       "</table>\n",
       "</div>"
      ],
      "text/plain": [
       "   movie       imdb  year  award_year  \\\n",
       "0  Wings  tt0018578  1927        1929   \n",
       "\n",
       "                                      directors           companies  \\\n",
       "0  William A. Wellman, Harry d’Abbadie d’Arrast  Paramount Pictures   \n",
       "\n",
       "   male_cast  female_cast  \n",
       "0         12            5  "
      ]
     },
     "execution_count": 24,
     "metadata": {},
     "output_type": "execute_result"
    }
   ],
   "source": [
    "df.head(1)"
   ]
  },
  {
   "cell_type": "code",
   "execution_count": 25,
   "id": "370ef1e3",
   "metadata": {
    "id": "oaeltbGNWjo0"
   },
   "outputs": [
    {
     "name": "stdout",
     "output_type": "stream",
     "text": [
      "{'movie': 'Wings', 'imdb': 'tt0018578', 'year': 1927, 'award_year': 1929, 'directors': 'William A. Wellman, Harry d’Abbadie d’Arrast', 'companies': 'Paramount Pictures', 'male_cast': 12, 'female_cast': 5}\n",
      "\n",
      "The movie Wings was produced in 1927 and won in 1929.\n",
      "\n"
     ]
    }
   ],
   "source": [
    "for r in df.to_dict(orient='records'):\n",
    "    \n",
    "    print(r)\n",
    "    print()\n",
    "    \n",
    "    name = r['movie']\n",
    "    year = r['year']\n",
    "    won = r['award_year']\n",
    "    \n",
    "    print(\"The movie \" + name + \" was produced in \" + str(year) + \" and won in \" + str(won) + \".\")\n",
    "    \n",
    "    print()\n",
    "    \n",
    "    break  # To not flood the notebook, only print the first"
   ]
  },
  {
   "cell_type": "markdown",
   "id": "7388b118",
   "metadata": {
    "id": "0NieFABdWjo1"
   },
   "source": [
    "#### `.iterrows()`\n",
    "Or you can use the `.iterrows()` method, which gives you tuples of the index of the row, and the row itself as `Series` object:"
   ]
  },
  {
   "cell_type": "code",
   "execution_count": 26,
   "id": "8a2f3925",
   "metadata": {
    "id": "r0hAAQxIWjo1"
   },
   "outputs": [
    {
     "name": "stdout",
     "output_type": "stream",
     "text": [
      "The movie Wings was produced in 1927 and won in 1929.\n",
      "\n"
     ]
    }
   ],
   "source": [
    "for n, r in df.iterrows():\n",
    "    \n",
    "    name = r.movie  # You can use a dot notation here\n",
    "    year = r.year\n",
    "    won = r.award_year\n",
    "    \n",
    "    print(f\"The movie {name} was produced in {year} and won in {won}.\")\n",
    "    \n",
    "    print()\n",
    "    \n",
    "    break  # To not flood the notebook, only print the first"
   ]
  },
  {
   "cell_type": "code",
   "execution_count": null,
   "id": "3f3da212",
   "metadata": {
    "id": "8yStX5fpWjo1"
   },
   "outputs": [],
   "source": []
  },
  {
   "cell_type": "markdown",
   "id": "5a0e9a62",
   "metadata": {
    "id": "uABpa0I8Wjo1"
   },
   "source": [
    "---"
   ]
  },
  {
   "cell_type": "markdown",
   "id": "545b1151",
   "metadata": {
    "id": "X1e4rchVWjo1"
   },
   "source": [
    "### Analysis"
   ]
  },
  {
   "cell_type": "code",
   "execution_count": 27,
   "id": "0de85725",
   "metadata": {
    "id": "cuUKTCx7Wjo1"
   },
   "outputs": [
    {
     "data": {
      "text/html": [
       "<div>\n",
       "<style scoped>\n",
       "    .dataframe tbody tr th:only-of-type {\n",
       "        vertical-align: middle;\n",
       "    }\n",
       "\n",
       "    .dataframe tbody tr th {\n",
       "        vertical-align: top;\n",
       "    }\n",
       "\n",
       "    .dataframe thead th {\n",
       "        text-align: right;\n",
       "    }\n",
       "</style>\n",
       "<table border=\"1\" class=\"dataframe\">\n",
       "  <thead>\n",
       "    <tr style=\"text-align: right;\">\n",
       "      <th></th>\n",
       "      <th>movie</th>\n",
       "      <th>imdb</th>\n",
       "      <th>year</th>\n",
       "      <th>award_year</th>\n",
       "      <th>directors</th>\n",
       "      <th>companies</th>\n",
       "      <th>male_cast</th>\n",
       "      <th>female_cast</th>\n",
       "    </tr>\n",
       "  </thead>\n",
       "  <tbody>\n",
       "    <tr>\n",
       "      <th>0</th>\n",
       "      <td>Wings</td>\n",
       "      <td>tt0018578</td>\n",
       "      <td>1927</td>\n",
       "      <td>1929</td>\n",
       "      <td>William A. Wellman, Harry d’Abbadie d’Arrast</td>\n",
       "      <td>Paramount Pictures</td>\n",
       "      <td>12</td>\n",
       "      <td>5</td>\n",
       "    </tr>\n",
       "    <tr>\n",
       "      <th>1</th>\n",
       "      <td>The Broadway Melody</td>\n",
       "      <td>tt0019729</td>\n",
       "      <td>1929</td>\n",
       "      <td>1930</td>\n",
       "      <td>Harry Beaumont</td>\n",
       "      <td>Metro-Goldwyn-Mayer</td>\n",
       "      <td>4</td>\n",
       "      <td>3</td>\n",
       "    </tr>\n",
       "    <tr>\n",
       "      <th>2</th>\n",
       "      <td>All Quiet on the Western Front</td>\n",
       "      <td>tt0020629</td>\n",
       "      <td>1930</td>\n",
       "      <td>1930</td>\n",
       "      <td>Lewis Milestone, Nate Watt</td>\n",
       "      <td>Universal Pictures</td>\n",
       "      <td>22</td>\n",
       "      <td>6</td>\n",
       "    </tr>\n",
       "    <tr>\n",
       "      <th>3</th>\n",
       "      <td>Cimarron</td>\n",
       "      <td>tt0021746</td>\n",
       "      <td>1931</td>\n",
       "      <td>1931</td>\n",
       "      <td>Wesley Ruggles</td>\n",
       "      <td>RKO Pictures</td>\n",
       "      <td>13</td>\n",
       "      <td>6</td>\n",
       "    </tr>\n",
       "    <tr>\n",
       "      <th>4</th>\n",
       "      <td>Grand Hotel</td>\n",
       "      <td>tt0022958</td>\n",
       "      <td>1932</td>\n",
       "      <td>1932</td>\n",
       "      <td>Edmund Goulding</td>\n",
       "      <td>Metro-Goldwyn-Mayer</td>\n",
       "      <td>19</td>\n",
       "      <td>8</td>\n",
       "    </tr>\n",
       "    <tr>\n",
       "      <th>...</th>\n",
       "      <td>...</td>\n",
       "      <td>...</td>\n",
       "      <td>...</td>\n",
       "      <td>...</td>\n",
       "      <td>...</td>\n",
       "      <td>...</td>\n",
       "      <td>...</td>\n",
       "      <td>...</td>\n",
       "    </tr>\n",
       "    <tr>\n",
       "      <th>80</th>\n",
       "      <td>Spotlight</td>\n",
       "      <td>tt1895587</td>\n",
       "      <td>2015</td>\n",
       "      <td>2016</td>\n",
       "      <td>Tom McCarthy</td>\n",
       "      <td>Anonymous Content, Participant</td>\n",
       "      <td>15</td>\n",
       "      <td>2</td>\n",
       "    </tr>\n",
       "    <tr>\n",
       "      <th>81</th>\n",
       "      <td>Moonlight</td>\n",
       "      <td>tt4975722</td>\n",
       "      <td>2016</td>\n",
       "      <td>2017</td>\n",
       "      <td>Barry Jenkins</td>\n",
       "      <td>Plan B Entertainment, A24</td>\n",
       "      <td>6</td>\n",
       "      <td>2</td>\n",
       "    </tr>\n",
       "    <tr>\n",
       "      <th>82</th>\n",
       "      <td>The Shape of Water</td>\n",
       "      <td>tt5580390</td>\n",
       "      <td>2017</td>\n",
       "      <td>2018</td>\n",
       "      <td>Guillermo del Toro</td>\n",
       "      <td>Searchlight Pictures, TSG Entertainment</td>\n",
       "      <td>8</td>\n",
       "      <td>3</td>\n",
       "    </tr>\n",
       "    <tr>\n",
       "      <th>83</th>\n",
       "      <td>Green Book</td>\n",
       "      <td>tt6966692</td>\n",
       "      <td>2018</td>\n",
       "      <td>2019</td>\n",
       "      <td>Peter Farrelly</td>\n",
       "      <td>Universal Pictures, DreamWorks, Participant, A...</td>\n",
       "      <td>7</td>\n",
       "      <td>1</td>\n",
       "    </tr>\n",
       "    <tr>\n",
       "      <th>84</th>\n",
       "      <td>Parasite</td>\n",
       "      <td>tt6751668</td>\n",
       "      <td>2019</td>\n",
       "      <td>2020</td>\n",
       "      <td>Bong Joon-ho</td>\n",
       "      <td>CJ Entertainment, Barunson E&amp;A</td>\n",
       "      <td>5</td>\n",
       "      <td>5</td>\n",
       "    </tr>\n",
       "  </tbody>\n",
       "</table>\n",
       "<p>85 rows × 8 columns</p>\n",
       "</div>"
      ],
      "text/plain": [
       "                             movie       imdb  year  award_year  \\\n",
       "0                            Wings  tt0018578  1927        1929   \n",
       "1              The Broadway Melody  tt0019729  1929        1930   \n",
       "2   All Quiet on the Western Front  tt0020629  1930        1930   \n",
       "3                         Cimarron  tt0021746  1931        1931   \n",
       "4                      Grand Hotel  tt0022958  1932        1932   \n",
       "..                             ...        ...   ...         ...   \n",
       "80                       Spotlight  tt1895587  2015        2016   \n",
       "81                       Moonlight  tt4975722  2016        2017   \n",
       "82              The Shape of Water  tt5580390  2017        2018   \n",
       "83                      Green Book  tt6966692  2018        2019   \n",
       "84                        Parasite  tt6751668  2019        2020   \n",
       "\n",
       "                                       directors  \\\n",
       "0   William A. Wellman, Harry d’Abbadie d’Arrast   \n",
       "1                                 Harry Beaumont   \n",
       "2                     Lewis Milestone, Nate Watt   \n",
       "3                                 Wesley Ruggles   \n",
       "4                                Edmund Goulding   \n",
       "..                                           ...   \n",
       "80                                  Tom McCarthy   \n",
       "81                                 Barry Jenkins   \n",
       "82                            Guillermo del Toro   \n",
       "83                                Peter Farrelly   \n",
       "84                                  Bong Joon-ho   \n",
       "\n",
       "                                            companies  male_cast  female_cast  \n",
       "0                                  Paramount Pictures         12            5  \n",
       "1                                 Metro-Goldwyn-Mayer          4            3  \n",
       "2                                  Universal Pictures         22            6  \n",
       "3                                        RKO Pictures         13            6  \n",
       "4                                 Metro-Goldwyn-Mayer         19            8  \n",
       "..                                                ...        ...          ...  \n",
       "80                     Anonymous Content, Participant         15            2  \n",
       "81                          Plan B Entertainment, A24          6            2  \n",
       "82            Searchlight Pictures, TSG Entertainment          8            3  \n",
       "83  Universal Pictures, DreamWorks, Participant, A...          7            1  \n",
       "84                     CJ Entertainment, Barunson E&A          5            5  \n",
       "\n",
       "[85 rows x 8 columns]"
      ]
     },
     "execution_count": 27,
     "metadata": {},
     "output_type": "execute_result"
    }
   ],
   "source": [
    "df"
   ]
  },
  {
   "cell_type": "code",
   "execution_count": 28,
   "id": "60b2411e",
   "metadata": {
    "id": "8FKHCM7OWjo1"
   },
   "outputs": [
    {
     "name": "stderr",
     "output_type": "stream",
     "text": [
      "/tmp/ipykernel_25172/3698961737.py:1: FutureWarning: Dropping of nuisance columns in DataFrame reductions (with 'numeric_only=None') is deprecated; in a future version this will raise TypeError.  Select only valid columns before calling the reduction.\n",
      "  df.mean()\n"
     ]
    },
    {
     "data": {
      "text/plain": [
       "year           1974.164706\n",
       "award_year     1975.164706\n",
       "male_cast        16.858824\n",
       "female_cast       5.835294\n",
       "dtype: float64"
      ]
     },
     "execution_count": 28,
     "metadata": {},
     "output_type": "execute_result"
    }
   ],
   "source": [
    "df.mean()"
   ]
  },
  {
   "cell_type": "markdown",
   "id": "9317bf75",
   "metadata": {
    "id": "1a0kPAJ7Wjo2"
   },
   "source": [
    "You already saw above that you could get statistics by calling `.describe()` on a DataFrame. You can also get these metrics for individual columns. Let's ask the maximum number of male and female actors in the cast of a movie:"
   ]
  },
  {
   "cell_type": "code",
   "execution_count": 29,
   "id": "71e7d752",
   "metadata": {
    "id": "NRjrTge4Wjo2"
   },
   "outputs": [
    {
     "data": {
      "text/plain": [
       "29"
      ]
     },
     "execution_count": 29,
     "metadata": {},
     "output_type": "execute_result"
    }
   ],
   "source": [
    "df['female_cast'].max()"
   ]
  },
  {
   "cell_type": "code",
   "execution_count": 30,
   "id": "a23b6b79",
   "metadata": {
    "id": "fzcZp6p7Wjo2"
   },
   "outputs": [
    {
     "data": {
      "text/plain": [
       "89"
      ]
     },
     "execution_count": 30,
     "metadata": {},
     "output_type": "execute_result"
    }
   ],
   "source": [
    "df['male_cast'].max()"
   ]
  },
  {
   "cell_type": "markdown",
   "id": "4f85732d",
   "metadata": {
    "id": "ouz_x1srWjo2"
   },
   "source": [
    "You can also apply these operations to multiple columns at once. You get a `Series` object back."
   ]
  },
  {
   "cell_type": "code",
   "execution_count": 31,
   "id": "e3163826",
   "metadata": {
    "id": "HDttAFhqWjo2"
   },
   "outputs": [
    {
     "data": {
      "text/plain": [
       "movie          You Can't Take It With You\n",
       "imdb                            tt6966692\n",
       "year                                 2019\n",
       "award_year                           2020\n",
       "directors                   William Wyler\n",
       "companies       Woodfall Film Productions\n",
       "male_cast                              89\n",
       "female_cast                            29\n",
       "dtype: object"
      ]
     },
     "execution_count": 31,
     "metadata": {},
     "output_type": "execute_result"
    }
   ],
   "source": [
    "df.max()"
   ]
  },
  {
   "cell_type": "code",
   "execution_count": 32,
   "id": "7758c97f",
   "metadata": {
    "id": "T0A80PIaWjo2"
   },
   "outputs": [
    {
     "data": {
      "text/html": [
       "<div>\n",
       "<style scoped>\n",
       "    .dataframe tbody tr th:only-of-type {\n",
       "        vertical-align: middle;\n",
       "    }\n",
       "\n",
       "    .dataframe tbody tr th {\n",
       "        vertical-align: top;\n",
       "    }\n",
       "\n",
       "    .dataframe thead th {\n",
       "        text-align: right;\n",
       "    }\n",
       "</style>\n",
       "<table border=\"1\" class=\"dataframe\">\n",
       "  <thead>\n",
       "    <tr style=\"text-align: right;\">\n",
       "      <th></th>\n",
       "      <th>male_cast</th>\n",
       "      <th>female_cast</th>\n",
       "    </tr>\n",
       "  </thead>\n",
       "  <tbody>\n",
       "    <tr>\n",
       "      <th>0</th>\n",
       "      <td>12</td>\n",
       "      <td>5</td>\n",
       "    </tr>\n",
       "    <tr>\n",
       "      <th>1</th>\n",
       "      <td>4</td>\n",
       "      <td>3</td>\n",
       "    </tr>\n",
       "    <tr>\n",
       "      <th>2</th>\n",
       "      <td>22</td>\n",
       "      <td>6</td>\n",
       "    </tr>\n",
       "    <tr>\n",
       "      <th>3</th>\n",
       "      <td>13</td>\n",
       "      <td>6</td>\n",
       "    </tr>\n",
       "    <tr>\n",
       "      <th>4</th>\n",
       "      <td>19</td>\n",
       "      <td>8</td>\n",
       "    </tr>\n",
       "    <tr>\n",
       "      <th>...</th>\n",
       "      <td>...</td>\n",
       "      <td>...</td>\n",
       "    </tr>\n",
       "    <tr>\n",
       "      <th>80</th>\n",
       "      <td>15</td>\n",
       "      <td>2</td>\n",
       "    </tr>\n",
       "    <tr>\n",
       "      <th>81</th>\n",
       "      <td>6</td>\n",
       "      <td>2</td>\n",
       "    </tr>\n",
       "    <tr>\n",
       "      <th>82</th>\n",
       "      <td>8</td>\n",
       "      <td>3</td>\n",
       "    </tr>\n",
       "    <tr>\n",
       "      <th>83</th>\n",
       "      <td>7</td>\n",
       "      <td>1</td>\n",
       "    </tr>\n",
       "    <tr>\n",
       "      <th>84</th>\n",
       "      <td>5</td>\n",
       "      <td>5</td>\n",
       "    </tr>\n",
       "  </tbody>\n",
       "</table>\n",
       "<p>85 rows × 2 columns</p>\n",
       "</div>"
      ],
      "text/plain": [
       "    male_cast  female_cast\n",
       "0          12            5\n",
       "1           4            3\n",
       "2          22            6\n",
       "3          13            6\n",
       "4          19            8\n",
       "..        ...          ...\n",
       "80         15            2\n",
       "81          6            2\n",
       "82          8            3\n",
       "83          7            1\n",
       "84          5            5\n",
       "\n",
       "[85 rows x 2 columns]"
      ]
     },
     "execution_count": 32,
     "metadata": {},
     "output_type": "execute_result"
    }
   ],
   "source": [
    "df[['male_cast', 'female_cast']]"
   ]
  },
  {
   "cell_type": "code",
   "execution_count": 33,
   "id": "bba50d10",
   "metadata": {
    "id": "DUhUsvZgWjo2"
   },
   "outputs": [
    {
     "data": {
      "text/plain": [
       "male_cast      89\n",
       "female_cast    29\n",
       "dtype: int64"
      ]
     },
     "execution_count": 33,
     "metadata": {},
     "output_type": "execute_result"
    }
   ],
   "source": [
    "slice_df = df[['male_cast', 'female_cast']]\n",
    "\n",
    "slice_df.max()"
   ]
  },
  {
   "cell_type": "markdown",
   "id": "3e401203",
   "metadata": {
    "id": "V78YM6E_Wjo2"
   },
   "source": [
    "To find the corresponding movie title, we can ask Pandas to give us the record in which these maxima occur. This is done through `df.loc`. This works by asking: \"Give me all the locations (=rows) for which a value in a specified column is equal to this value\"."
   ]
  },
  {
   "cell_type": "code",
   "execution_count": 34,
   "id": "169a3ba2",
   "metadata": {
    "id": "0VQhT1pSWjo3"
   },
   "outputs": [
    {
     "data": {
      "text/html": [
       "<div>\n",
       "<style scoped>\n",
       "    .dataframe tbody tr th:only-of-type {\n",
       "        vertical-align: middle;\n",
       "    }\n",
       "\n",
       "    .dataframe tbody tr th {\n",
       "        vertical-align: top;\n",
       "    }\n",
       "\n",
       "    .dataframe thead th {\n",
       "        text-align: right;\n",
       "    }\n",
       "</style>\n",
       "<table border=\"1\" class=\"dataframe\">\n",
       "  <thead>\n",
       "    <tr style=\"text-align: right;\">\n",
       "      <th></th>\n",
       "      <th>movie</th>\n",
       "      <th>imdb</th>\n",
       "      <th>year</th>\n",
       "      <th>award_year</th>\n",
       "      <th>directors</th>\n",
       "      <th>companies</th>\n",
       "      <th>male_cast</th>\n",
       "      <th>female_cast</th>\n",
       "    </tr>\n",
       "  </thead>\n",
       "  <tbody>\n",
       "    <tr>\n",
       "      <th>0</th>\n",
       "      <td>Wings</td>\n",
       "      <td>tt0018578</td>\n",
       "      <td>1927</td>\n",
       "      <td>1929</td>\n",
       "      <td>William A. Wellman, Harry d’Abbadie d’Arrast</td>\n",
       "      <td>Paramount Pictures</td>\n",
       "      <td>12</td>\n",
       "      <td>5</td>\n",
       "    </tr>\n",
       "    <tr>\n",
       "      <th>1</th>\n",
       "      <td>The Broadway Melody</td>\n",
       "      <td>tt0019729</td>\n",
       "      <td>1929</td>\n",
       "      <td>1930</td>\n",
       "      <td>Harry Beaumont</td>\n",
       "      <td>Metro-Goldwyn-Mayer</td>\n",
       "      <td>4</td>\n",
       "      <td>3</td>\n",
       "    </tr>\n",
       "    <tr>\n",
       "      <th>2</th>\n",
       "      <td>All Quiet on the Western Front</td>\n",
       "      <td>tt0020629</td>\n",
       "      <td>1930</td>\n",
       "      <td>1930</td>\n",
       "      <td>Lewis Milestone, Nate Watt</td>\n",
       "      <td>Universal Pictures</td>\n",
       "      <td>22</td>\n",
       "      <td>6</td>\n",
       "    </tr>\n",
       "    <tr>\n",
       "      <th>3</th>\n",
       "      <td>Cimarron</td>\n",
       "      <td>tt0021746</td>\n",
       "      <td>1931</td>\n",
       "      <td>1931</td>\n",
       "      <td>Wesley Ruggles</td>\n",
       "      <td>RKO Pictures</td>\n",
       "      <td>13</td>\n",
       "      <td>6</td>\n",
       "    </tr>\n",
       "    <tr>\n",
       "      <th>4</th>\n",
       "      <td>Grand Hotel</td>\n",
       "      <td>tt0022958</td>\n",
       "      <td>1932</td>\n",
       "      <td>1932</td>\n",
       "      <td>Edmund Goulding</td>\n",
       "      <td>Metro-Goldwyn-Mayer</td>\n",
       "      <td>19</td>\n",
       "      <td>8</td>\n",
       "    </tr>\n",
       "    <tr>\n",
       "      <th>...</th>\n",
       "      <td>...</td>\n",
       "      <td>...</td>\n",
       "      <td>...</td>\n",
       "      <td>...</td>\n",
       "      <td>...</td>\n",
       "      <td>...</td>\n",
       "      <td>...</td>\n",
       "      <td>...</td>\n",
       "    </tr>\n",
       "    <tr>\n",
       "      <th>80</th>\n",
       "      <td>Spotlight</td>\n",
       "      <td>tt1895587</td>\n",
       "      <td>2015</td>\n",
       "      <td>2016</td>\n",
       "      <td>Tom McCarthy</td>\n",
       "      <td>Anonymous Content, Participant</td>\n",
       "      <td>15</td>\n",
       "      <td>2</td>\n",
       "    </tr>\n",
       "    <tr>\n",
       "      <th>81</th>\n",
       "      <td>Moonlight</td>\n",
       "      <td>tt4975722</td>\n",
       "      <td>2016</td>\n",
       "      <td>2017</td>\n",
       "      <td>Barry Jenkins</td>\n",
       "      <td>Plan B Entertainment, A24</td>\n",
       "      <td>6</td>\n",
       "      <td>2</td>\n",
       "    </tr>\n",
       "    <tr>\n",
       "      <th>82</th>\n",
       "      <td>The Shape of Water</td>\n",
       "      <td>tt5580390</td>\n",
       "      <td>2017</td>\n",
       "      <td>2018</td>\n",
       "      <td>Guillermo del Toro</td>\n",
       "      <td>Searchlight Pictures, TSG Entertainment</td>\n",
       "      <td>8</td>\n",
       "      <td>3</td>\n",
       "    </tr>\n",
       "    <tr>\n",
       "      <th>83</th>\n",
       "      <td>Green Book</td>\n",
       "      <td>tt6966692</td>\n",
       "      <td>2018</td>\n",
       "      <td>2019</td>\n",
       "      <td>Peter Farrelly</td>\n",
       "      <td>Universal Pictures, DreamWorks, Participant, A...</td>\n",
       "      <td>7</td>\n",
       "      <td>1</td>\n",
       "    </tr>\n",
       "    <tr>\n",
       "      <th>84</th>\n",
       "      <td>Parasite</td>\n",
       "      <td>tt6751668</td>\n",
       "      <td>2019</td>\n",
       "      <td>2020</td>\n",
       "      <td>Bong Joon-ho</td>\n",
       "      <td>CJ Entertainment, Barunson E&amp;A</td>\n",
       "      <td>5</td>\n",
       "      <td>5</td>\n",
       "    </tr>\n",
       "  </tbody>\n",
       "</table>\n",
       "<p>85 rows × 8 columns</p>\n",
       "</div>"
      ],
      "text/plain": [
       "                             movie       imdb  year  award_year  \\\n",
       "0                            Wings  tt0018578  1927        1929   \n",
       "1              The Broadway Melody  tt0019729  1929        1930   \n",
       "2   All Quiet on the Western Front  tt0020629  1930        1930   \n",
       "3                         Cimarron  tt0021746  1931        1931   \n",
       "4                      Grand Hotel  tt0022958  1932        1932   \n",
       "..                             ...        ...   ...         ...   \n",
       "80                       Spotlight  tt1895587  2015        2016   \n",
       "81                       Moonlight  tt4975722  2016        2017   \n",
       "82              The Shape of Water  tt5580390  2017        2018   \n",
       "83                      Green Book  tt6966692  2018        2019   \n",
       "84                        Parasite  tt6751668  2019        2020   \n",
       "\n",
       "                                       directors  \\\n",
       "0   William A. Wellman, Harry d’Abbadie d’Arrast   \n",
       "1                                 Harry Beaumont   \n",
       "2                     Lewis Milestone, Nate Watt   \n",
       "3                                 Wesley Ruggles   \n",
       "4                                Edmund Goulding   \n",
       "..                                           ...   \n",
       "80                                  Tom McCarthy   \n",
       "81                                 Barry Jenkins   \n",
       "82                            Guillermo del Toro   \n",
       "83                                Peter Farrelly   \n",
       "84                                  Bong Joon-ho   \n",
       "\n",
       "                                            companies  male_cast  female_cast  \n",
       "0                                  Paramount Pictures         12            5  \n",
       "1                                 Metro-Goldwyn-Mayer          4            3  \n",
       "2                                  Universal Pictures         22            6  \n",
       "3                                        RKO Pictures         13            6  \n",
       "4                                 Metro-Goldwyn-Mayer         19            8  \n",
       "..                                                ...        ...          ...  \n",
       "80                     Anonymous Content, Participant         15            2  \n",
       "81                          Plan B Entertainment, A24          6            2  \n",
       "82            Searchlight Pictures, TSG Entertainment          8            3  \n",
       "83  Universal Pictures, DreamWorks, Participant, A...          7            1  \n",
       "84                     CJ Entertainment, Barunson E&A          5            5  \n",
       "\n",
       "[85 rows x 8 columns]"
      ]
     },
     "execution_count": 34,
     "metadata": {},
     "output_type": "execute_result"
    }
   ],
   "source": [
    "df"
   ]
  },
  {
   "cell_type": "code",
   "execution_count": 35,
   "id": "65fafeba",
   "metadata": {
    "id": "rkpB8cUnWjo3"
   },
   "outputs": [
    {
     "data": {
      "text/plain": [
       "male_cast      89\n",
       "female_cast    29\n",
       "dtype: int64"
      ]
     },
     "execution_count": 35,
     "metadata": {},
     "output_type": "execute_result"
    }
   ],
   "source": [
    "df[['male_cast', 'female_cast']].max()"
   ]
  },
  {
   "cell_type": "code",
   "execution_count": 36,
   "id": "e97740d0",
   "metadata": {
    "id": "CMg5pvGXWjo3"
   },
   "outputs": [
    {
     "data": {
      "text/html": [
       "<div>\n",
       "<style scoped>\n",
       "    .dataframe tbody tr th:only-of-type {\n",
       "        vertical-align: middle;\n",
       "    }\n",
       "\n",
       "    .dataframe tbody tr th {\n",
       "        vertical-align: top;\n",
       "    }\n",
       "\n",
       "    .dataframe thead th {\n",
       "        text-align: right;\n",
       "    }\n",
       "</style>\n",
       "<table border=\"1\" class=\"dataframe\">\n",
       "  <thead>\n",
       "    <tr style=\"text-align: right;\">\n",
       "      <th></th>\n",
       "      <th>movie</th>\n",
       "      <th>imdb</th>\n",
       "      <th>year</th>\n",
       "      <th>award_year</th>\n",
       "      <th>directors</th>\n",
       "      <th>companies</th>\n",
       "      <th>male_cast</th>\n",
       "      <th>female_cast</th>\n",
       "    </tr>\n",
       "  </thead>\n",
       "  <tbody>\n",
       "    <tr>\n",
       "      <th>7</th>\n",
       "      <td>The Great Ziegfeld</td>\n",
       "      <td>tt0027698</td>\n",
       "      <td>1936</td>\n",
       "      <td>1937</td>\n",
       "      <td>Robert Zigler Leonard</td>\n",
       "      <td>Metro-Goldwyn-Mayer</td>\n",
       "      <td>22</td>\n",
       "      <td>17</td>\n",
       "    </tr>\n",
       "    <tr>\n",
       "      <th>10</th>\n",
       "      <td>Gone with the Wind</td>\n",
       "      <td>tt0031381</td>\n",
       "      <td>1939</td>\n",
       "      <td>1940</td>\n",
       "      <td>George Cukor, Victor Fleming, Sam Wood</td>\n",
       "      <td>Metro-Goldwyn-Mayer, Selznick International Pi...</td>\n",
       "      <td>52</td>\n",
       "      <td>20</td>\n",
       "    </tr>\n",
       "    <tr>\n",
       "      <th>34</th>\n",
       "      <td>The Sound of Music</td>\n",
       "      <td>tt0059742</td>\n",
       "      <td>1965</td>\n",
       "      <td>1966</td>\n",
       "      <td>Robert Wise</td>\n",
       "      <td>20th Century Studios</td>\n",
       "      <td>7</td>\n",
       "      <td>14</td>\n",
       "    </tr>\n",
       "    <tr>\n",
       "      <th>41</th>\n",
       "      <td>The Godfather Part II</td>\n",
       "      <td>tt0071562</td>\n",
       "      <td>1974</td>\n",
       "      <td>1975</td>\n",
       "      <td>Francis Ford Coppola</td>\n",
       "      <td>Paramount Pictures</td>\n",
       "      <td>33</td>\n",
       "      <td>12</td>\n",
       "    </tr>\n",
       "    <tr>\n",
       "      <th>58</th>\n",
       "      <td>Schindler's List</td>\n",
       "      <td>tt0108052</td>\n",
       "      <td>1993</td>\n",
       "      <td>1994</td>\n",
       "      <td>Steven Spielberg, Marek Brodzki</td>\n",
       "      <td>Amblin Entertainment</td>\n",
       "      <td>35</td>\n",
       "      <td>11</td>\n",
       "    </tr>\n",
       "    <tr>\n",
       "      <th>59</th>\n",
       "      <td>Forrest Gump</td>\n",
       "      <td>tt0109830</td>\n",
       "      <td>1994</td>\n",
       "      <td>1995</td>\n",
       "      <td>Robert Zemeckis</td>\n",
       "      <td>Paramount Pictures</td>\n",
       "      <td>89</td>\n",
       "      <td>29</td>\n",
       "    </tr>\n",
       "    <tr>\n",
       "      <th>70</th>\n",
       "      <td>Crash</td>\n",
       "      <td>tt0375679</td>\n",
       "      <td>2004</td>\n",
       "      <td>2006</td>\n",
       "      <td>Paul Haggis</td>\n",
       "      <td>Lionsgate, DEJ Productions, Yari Film Group</td>\n",
       "      <td>16</td>\n",
       "      <td>12</td>\n",
       "    </tr>\n",
       "    <tr>\n",
       "      <th>76</th>\n",
       "      <td>The Artist</td>\n",
       "      <td>tt1655442</td>\n",
       "      <td>2011</td>\n",
       "      <td>2012</td>\n",
       "      <td>Michel Hazanavicius</td>\n",
       "      <td>France 3, Wild Bunch</td>\n",
       "      <td>19</td>\n",
       "      <td>11</td>\n",
       "    </tr>\n",
       "    <tr>\n",
       "      <th>79</th>\n",
       "      <td>Birdman</td>\n",
       "      <td>tt2562232</td>\n",
       "      <td>2014</td>\n",
       "      <td>2015</td>\n",
       "      <td>Alejandro González Iñárritu</td>\n",
       "      <td>Searchlight Pictures, Worldview Entertainment</td>\n",
       "      <td>13</td>\n",
       "      <td>11</td>\n",
       "    </tr>\n",
       "  </tbody>\n",
       "</table>\n",
       "</div>"
      ],
      "text/plain": [
       "                    movie       imdb  year  award_year  \\\n",
       "7      The Great Ziegfeld  tt0027698  1936        1937   \n",
       "10     Gone with the Wind  tt0031381  1939        1940   \n",
       "34     The Sound of Music  tt0059742  1965        1966   \n",
       "41  The Godfather Part II  tt0071562  1974        1975   \n",
       "58       Schindler's List  tt0108052  1993        1994   \n",
       "59           Forrest Gump  tt0109830  1994        1995   \n",
       "70                  Crash  tt0375679  2004        2006   \n",
       "76             The Artist  tt1655442  2011        2012   \n",
       "79                Birdman  tt2562232  2014        2015   \n",
       "\n",
       "                                 directors  \\\n",
       "7                    Robert Zigler Leonard   \n",
       "10  George Cukor, Victor Fleming, Sam Wood   \n",
       "34                             Robert Wise   \n",
       "41                    Francis Ford Coppola   \n",
       "58         Steven Spielberg, Marek Brodzki   \n",
       "59                         Robert Zemeckis   \n",
       "70                             Paul Haggis   \n",
       "76                     Michel Hazanavicius   \n",
       "79             Alejandro González Iñárritu   \n",
       "\n",
       "                                            companies  male_cast  female_cast  \n",
       "7                                 Metro-Goldwyn-Mayer         22           17  \n",
       "10  Metro-Goldwyn-Mayer, Selznick International Pi...         52           20  \n",
       "34                               20th Century Studios          7           14  \n",
       "41                                 Paramount Pictures         33           12  \n",
       "58                               Amblin Entertainment         35           11  \n",
       "59                                 Paramount Pictures         89           29  \n",
       "70        Lionsgate, DEJ Productions, Yari Film Group         16           12  \n",
       "76                               France 3, Wild Bunch         19           11  \n",
       "79      Searchlight Pictures, Worldview Entertainment         13           11  "
      ]
     },
     "execution_count": 36,
     "metadata": {},
     "output_type": "execute_result"
    }
   ],
   "source": [
    "df[df['female_cast'] > 10]"
   ]
  },
  {
   "cell_type": "code",
   "execution_count": 37,
   "id": "65305e6f",
   "metadata": {
    "id": "yD04bSNMWjo3"
   },
   "outputs": [
    {
     "name": "stdout",
     "output_type": "stream",
     "text": [
      "Movie with maximum for male_cast 89\n",
      "59    Forrest Gump\n",
      "Name: movie, dtype: object\n",
      "\n",
      "Movie with maximum for female_cast 29\n",
      "59    Forrest Gump\n",
      "Name: movie, dtype: object\n",
      "\n"
     ]
    }
   ],
   "source": [
    "for column_name, value in df[['male_cast', 'female_cast']].max().items():\n",
    "    \n",
    "    print(\"Movie with maximum for\", column_name, value)\n",
    "    \n",
    "    row = df.loc[df[column_name] == value]\n",
    "    \n",
    "    print(row.movie)\n",
    "    \n",
    "    print()"
   ]
  },
  {
   "cell_type": "markdown",
   "id": "6d2fe539",
   "metadata": {
    "id": "_AXzYkRKWjo3"
   },
   "source": [
    "Other functions that can be used are for instance `.mean()`, `.median()`, `.std()` and `.sum()`."
   ]
  },
  {
   "cell_type": "code",
   "execution_count": 38,
   "id": "ecadd167",
   "metadata": {
    "id": "QUkVzbSxWjo3"
   },
   "outputs": [
    {
     "data": {
      "text/plain": [
       "5.8352941176470585"
      ]
     },
     "execution_count": 38,
     "metadata": {},
     "output_type": "execute_result"
    }
   ],
   "source": [
    "df['female_cast'].mean()"
   ]
  },
  {
   "cell_type": "code",
   "execution_count": 39,
   "id": "95905fea",
   "metadata": {
    "id": "L9CJ1tH-Wjo3"
   },
   "outputs": [
    {
     "data": {
      "text/plain": [
       "16.858823529411765"
      ]
     },
     "execution_count": 39,
     "metadata": {},
     "output_type": "execute_result"
    }
   ],
   "source": [
    "df['male_cast'].mean()"
   ]
  },
  {
   "cell_type": "code",
   "execution_count": 40,
   "id": "f689d9b3",
   "metadata": {
    "id": "Q_zuwCwOWjo4"
   },
   "outputs": [
    {
     "data": {
      "text/plain": [
       "496"
      ]
     },
     "execution_count": 40,
     "metadata": {},
     "output_type": "execute_result"
    }
   ],
   "source": [
    "df['female_cast'].sum()"
   ]
  },
  {
   "cell_type": "code",
   "execution_count": 41,
   "id": "66642e47",
   "metadata": {
    "id": "QUpm-WCSWjo4"
   },
   "outputs": [
    {
     "data": {
      "text/plain": [
       "1433"
      ]
     },
     "execution_count": 41,
     "metadata": {},
     "output_type": "execute_result"
    }
   ],
   "source": [
    "df['male_cast'].sum()"
   ]
  },
  {
   "cell_type": "code",
   "execution_count": 42,
   "id": "46e3bf79",
   "metadata": {
    "id": "VMzPbSj3Wjo4"
   },
   "outputs": [
    {
     "data": {
      "text/html": [
       "<div>\n",
       "<style scoped>\n",
       "    .dataframe tbody tr th:only-of-type {\n",
       "        vertical-align: middle;\n",
       "    }\n",
       "\n",
       "    .dataframe tbody tr th {\n",
       "        vertical-align: top;\n",
       "    }\n",
       "\n",
       "    .dataframe thead th {\n",
       "        text-align: right;\n",
       "    }\n",
       "</style>\n",
       "<table border=\"1\" class=\"dataframe\">\n",
       "  <thead>\n",
       "    <tr style=\"text-align: right;\">\n",
       "      <th></th>\n",
       "      <th>movie</th>\n",
       "      <th>imdb</th>\n",
       "      <th>year</th>\n",
       "      <th>award_year</th>\n",
       "      <th>directors</th>\n",
       "      <th>companies</th>\n",
       "      <th>male_cast</th>\n",
       "      <th>female_cast</th>\n",
       "    </tr>\n",
       "  </thead>\n",
       "  <tbody>\n",
       "    <tr>\n",
       "      <th>0</th>\n",
       "      <td>Wings</td>\n",
       "      <td>tt0018578</td>\n",
       "      <td>1927</td>\n",
       "      <td>1929</td>\n",
       "      <td>William A. Wellman, Harry d’Abbadie d’Arrast</td>\n",
       "      <td>Paramount Pictures</td>\n",
       "      <td>12</td>\n",
       "      <td>5</td>\n",
       "    </tr>\n",
       "    <tr>\n",
       "      <th>1</th>\n",
       "      <td>The Broadway Melody</td>\n",
       "      <td>tt0019729</td>\n",
       "      <td>1929</td>\n",
       "      <td>1930</td>\n",
       "      <td>Harry Beaumont</td>\n",
       "      <td>Metro-Goldwyn-Mayer</td>\n",
       "      <td>4</td>\n",
       "      <td>3</td>\n",
       "    </tr>\n",
       "    <tr>\n",
       "      <th>2</th>\n",
       "      <td>All Quiet on the Western Front</td>\n",
       "      <td>tt0020629</td>\n",
       "      <td>1930</td>\n",
       "      <td>1930</td>\n",
       "      <td>Lewis Milestone, Nate Watt</td>\n",
       "      <td>Universal Pictures</td>\n",
       "      <td>22</td>\n",
       "      <td>6</td>\n",
       "    </tr>\n",
       "    <tr>\n",
       "      <th>3</th>\n",
       "      <td>Cimarron</td>\n",
       "      <td>tt0021746</td>\n",
       "      <td>1931</td>\n",
       "      <td>1931</td>\n",
       "      <td>Wesley Ruggles</td>\n",
       "      <td>RKO Pictures</td>\n",
       "      <td>13</td>\n",
       "      <td>6</td>\n",
       "    </tr>\n",
       "    <tr>\n",
       "      <th>4</th>\n",
       "      <td>Grand Hotel</td>\n",
       "      <td>tt0022958</td>\n",
       "      <td>1932</td>\n",
       "      <td>1932</td>\n",
       "      <td>Edmund Goulding</td>\n",
       "      <td>Metro-Goldwyn-Mayer</td>\n",
       "      <td>19</td>\n",
       "      <td>8</td>\n",
       "    </tr>\n",
       "    <tr>\n",
       "      <th>...</th>\n",
       "      <td>...</td>\n",
       "      <td>...</td>\n",
       "      <td>...</td>\n",
       "      <td>...</td>\n",
       "      <td>...</td>\n",
       "      <td>...</td>\n",
       "      <td>...</td>\n",
       "      <td>...</td>\n",
       "    </tr>\n",
       "    <tr>\n",
       "      <th>80</th>\n",
       "      <td>Spotlight</td>\n",
       "      <td>tt1895587</td>\n",
       "      <td>2015</td>\n",
       "      <td>2016</td>\n",
       "      <td>Tom McCarthy</td>\n",
       "      <td>Anonymous Content, Participant</td>\n",
       "      <td>15</td>\n",
       "      <td>2</td>\n",
       "    </tr>\n",
       "    <tr>\n",
       "      <th>81</th>\n",
       "      <td>Moonlight</td>\n",
       "      <td>tt4975722</td>\n",
       "      <td>2016</td>\n",
       "      <td>2017</td>\n",
       "      <td>Barry Jenkins</td>\n",
       "      <td>Plan B Entertainment, A24</td>\n",
       "      <td>6</td>\n",
       "      <td>2</td>\n",
       "    </tr>\n",
       "    <tr>\n",
       "      <th>82</th>\n",
       "      <td>The Shape of Water</td>\n",
       "      <td>tt5580390</td>\n",
       "      <td>2017</td>\n",
       "      <td>2018</td>\n",
       "      <td>Guillermo del Toro</td>\n",
       "      <td>Searchlight Pictures, TSG Entertainment</td>\n",
       "      <td>8</td>\n",
       "      <td>3</td>\n",
       "    </tr>\n",
       "    <tr>\n",
       "      <th>83</th>\n",
       "      <td>Green Book</td>\n",
       "      <td>tt6966692</td>\n",
       "      <td>2018</td>\n",
       "      <td>2019</td>\n",
       "      <td>Peter Farrelly</td>\n",
       "      <td>Universal Pictures, DreamWorks, Participant, A...</td>\n",
       "      <td>7</td>\n",
       "      <td>1</td>\n",
       "    </tr>\n",
       "    <tr>\n",
       "      <th>84</th>\n",
       "      <td>Parasite</td>\n",
       "      <td>tt6751668</td>\n",
       "      <td>2019</td>\n",
       "      <td>2020</td>\n",
       "      <td>Bong Joon-ho</td>\n",
       "      <td>CJ Entertainment, Barunson E&amp;A</td>\n",
       "      <td>5</td>\n",
       "      <td>5</td>\n",
       "    </tr>\n",
       "  </tbody>\n",
       "</table>\n",
       "<p>85 rows × 8 columns</p>\n",
       "</div>"
      ],
      "text/plain": [
       "                             movie       imdb  year  award_year  \\\n",
       "0                            Wings  tt0018578  1927        1929   \n",
       "1              The Broadway Melody  tt0019729  1929        1930   \n",
       "2   All Quiet on the Western Front  tt0020629  1930        1930   \n",
       "3                         Cimarron  tt0021746  1931        1931   \n",
       "4                      Grand Hotel  tt0022958  1932        1932   \n",
       "..                             ...        ...   ...         ...   \n",
       "80                       Spotlight  tt1895587  2015        2016   \n",
       "81                       Moonlight  tt4975722  2016        2017   \n",
       "82              The Shape of Water  tt5580390  2017        2018   \n",
       "83                      Green Book  tt6966692  2018        2019   \n",
       "84                        Parasite  tt6751668  2019        2020   \n",
       "\n",
       "                                       directors  \\\n",
       "0   William A. Wellman, Harry d’Abbadie d’Arrast   \n",
       "1                                 Harry Beaumont   \n",
       "2                     Lewis Milestone, Nate Watt   \n",
       "3                                 Wesley Ruggles   \n",
       "4                                Edmund Goulding   \n",
       "..                                           ...   \n",
       "80                                  Tom McCarthy   \n",
       "81                                 Barry Jenkins   \n",
       "82                            Guillermo del Toro   \n",
       "83                                Peter Farrelly   \n",
       "84                                  Bong Joon-ho   \n",
       "\n",
       "                                            companies  male_cast  female_cast  \n",
       "0                                  Paramount Pictures         12            5  \n",
       "1                                 Metro-Goldwyn-Mayer          4            3  \n",
       "2                                  Universal Pictures         22            6  \n",
       "3                                        RKO Pictures         13            6  \n",
       "4                                 Metro-Goldwyn-Mayer         19            8  \n",
       "..                                                ...        ...          ...  \n",
       "80                     Anonymous Content, Participant         15            2  \n",
       "81                          Plan B Entertainment, A24          6            2  \n",
       "82            Searchlight Pictures, TSG Entertainment          8            3  \n",
       "83  Universal Pictures, DreamWorks, Participant, A...          7            1  \n",
       "84                     CJ Entertainment, Barunson E&A          5            5  \n",
       "\n",
       "[85 rows x 8 columns]"
      ]
     },
     "execution_count": 42,
     "metadata": {},
     "output_type": "execute_result"
    }
   ],
   "source": [
    "df"
   ]
  },
  {
   "cell_type": "markdown",
   "id": "04efbc56",
   "metadata": {
    "id": "lQvUj6q-Wjo4"
   },
   "source": [
    "Pandas also understands dates, but you have to tell it to interpret a column as such. We can change the `year` column in-place so that it is not interpreted as integer, but as a date object. \n",
    "\n",
    "In this case, since we only have the year available, and not a full date such as `2021-02-22` (YYYY-mm-dd), we have to specify the format. Typing `%Y` as string is shorthand for `YYYY`. It returns a full date, so every month and day are set to January first."
   ]
  },
  {
   "cell_type": "code",
   "execution_count": 43,
   "id": "f9f910be",
   "metadata": {
    "id": "-WRqzRSHWjo4"
   },
   "outputs": [
    {
     "data": {
      "text/plain": [
       "0    1927-01-01\n",
       "1    1929-01-01\n",
       "2    1930-01-01\n",
       "3    1931-01-01\n",
       "4    1932-01-01\n",
       "        ...    \n",
       "80   2015-01-01\n",
       "81   2016-01-01\n",
       "82   2017-01-01\n",
       "83   2018-01-01\n",
       "84   2019-01-01\n",
       "Name: year, Length: 85, dtype: datetime64[ns]"
      ]
     },
     "execution_count": 43,
     "metadata": {},
     "output_type": "execute_result"
    }
   ],
   "source": [
    "df['year'] = pd.to_datetime(df['year'], format='%Y')\n",
    "\n",
    "df['award_year'] = pd.to_datetime(df['award_year'], format='%Y')\n",
    "\n",
    "df['year']"
   ]
  },
  {
   "cell_type": "code",
   "execution_count": 44,
   "id": "b92510c1",
   "metadata": {
    "id": "kItgHCU7Wjo5"
   },
   "outputs": [
    {
     "data": {
      "text/html": [
       "<div>\n",
       "<style scoped>\n",
       "    .dataframe tbody tr th:only-of-type {\n",
       "        vertical-align: middle;\n",
       "    }\n",
       "\n",
       "    .dataframe tbody tr th {\n",
       "        vertical-align: top;\n",
       "    }\n",
       "\n",
       "    .dataframe thead th {\n",
       "        text-align: right;\n",
       "    }\n",
       "</style>\n",
       "<table border=\"1\" class=\"dataframe\">\n",
       "  <thead>\n",
       "    <tr style=\"text-align: right;\">\n",
       "      <th></th>\n",
       "      <th>movie</th>\n",
       "      <th>imdb</th>\n",
       "      <th>year</th>\n",
       "      <th>award_year</th>\n",
       "      <th>directors</th>\n",
       "      <th>companies</th>\n",
       "      <th>male_cast</th>\n",
       "      <th>female_cast</th>\n",
       "    </tr>\n",
       "  </thead>\n",
       "  <tbody>\n",
       "    <tr>\n",
       "      <th>0</th>\n",
       "      <td>Wings</td>\n",
       "      <td>tt0018578</td>\n",
       "      <td>1927-01-01</td>\n",
       "      <td>1929-01-01</td>\n",
       "      <td>William A. Wellman, Harry d’Abbadie d’Arrast</td>\n",
       "      <td>Paramount Pictures</td>\n",
       "      <td>12</td>\n",
       "      <td>5</td>\n",
       "    </tr>\n",
       "    <tr>\n",
       "      <th>1</th>\n",
       "      <td>The Broadway Melody</td>\n",
       "      <td>tt0019729</td>\n",
       "      <td>1929-01-01</td>\n",
       "      <td>1930-01-01</td>\n",
       "      <td>Harry Beaumont</td>\n",
       "      <td>Metro-Goldwyn-Mayer</td>\n",
       "      <td>4</td>\n",
       "      <td>3</td>\n",
       "    </tr>\n",
       "    <tr>\n",
       "      <th>2</th>\n",
       "      <td>All Quiet on the Western Front</td>\n",
       "      <td>tt0020629</td>\n",
       "      <td>1930-01-01</td>\n",
       "      <td>1930-01-01</td>\n",
       "      <td>Lewis Milestone, Nate Watt</td>\n",
       "      <td>Universal Pictures</td>\n",
       "      <td>22</td>\n",
       "      <td>6</td>\n",
       "    </tr>\n",
       "    <tr>\n",
       "      <th>3</th>\n",
       "      <td>Cimarron</td>\n",
       "      <td>tt0021746</td>\n",
       "      <td>1931-01-01</td>\n",
       "      <td>1931-01-01</td>\n",
       "      <td>Wesley Ruggles</td>\n",
       "      <td>RKO Pictures</td>\n",
       "      <td>13</td>\n",
       "      <td>6</td>\n",
       "    </tr>\n",
       "    <tr>\n",
       "      <th>4</th>\n",
       "      <td>Grand Hotel</td>\n",
       "      <td>tt0022958</td>\n",
       "      <td>1932-01-01</td>\n",
       "      <td>1932-01-01</td>\n",
       "      <td>Edmund Goulding</td>\n",
       "      <td>Metro-Goldwyn-Mayer</td>\n",
       "      <td>19</td>\n",
       "      <td>8</td>\n",
       "    </tr>\n",
       "    <tr>\n",
       "      <th>...</th>\n",
       "      <td>...</td>\n",
       "      <td>...</td>\n",
       "      <td>...</td>\n",
       "      <td>...</td>\n",
       "      <td>...</td>\n",
       "      <td>...</td>\n",
       "      <td>...</td>\n",
       "      <td>...</td>\n",
       "    </tr>\n",
       "    <tr>\n",
       "      <th>80</th>\n",
       "      <td>Spotlight</td>\n",
       "      <td>tt1895587</td>\n",
       "      <td>2015-01-01</td>\n",
       "      <td>2016-01-01</td>\n",
       "      <td>Tom McCarthy</td>\n",
       "      <td>Anonymous Content, Participant</td>\n",
       "      <td>15</td>\n",
       "      <td>2</td>\n",
       "    </tr>\n",
       "    <tr>\n",
       "      <th>81</th>\n",
       "      <td>Moonlight</td>\n",
       "      <td>tt4975722</td>\n",
       "      <td>2016-01-01</td>\n",
       "      <td>2017-01-01</td>\n",
       "      <td>Barry Jenkins</td>\n",
       "      <td>Plan B Entertainment, A24</td>\n",
       "      <td>6</td>\n",
       "      <td>2</td>\n",
       "    </tr>\n",
       "    <tr>\n",
       "      <th>82</th>\n",
       "      <td>The Shape of Water</td>\n",
       "      <td>tt5580390</td>\n",
       "      <td>2017-01-01</td>\n",
       "      <td>2018-01-01</td>\n",
       "      <td>Guillermo del Toro</td>\n",
       "      <td>Searchlight Pictures, TSG Entertainment</td>\n",
       "      <td>8</td>\n",
       "      <td>3</td>\n",
       "    </tr>\n",
       "    <tr>\n",
       "      <th>83</th>\n",
       "      <td>Green Book</td>\n",
       "      <td>tt6966692</td>\n",
       "      <td>2018-01-01</td>\n",
       "      <td>2019-01-01</td>\n",
       "      <td>Peter Farrelly</td>\n",
       "      <td>Universal Pictures, DreamWorks, Participant, A...</td>\n",
       "      <td>7</td>\n",
       "      <td>1</td>\n",
       "    </tr>\n",
       "    <tr>\n",
       "      <th>84</th>\n",
       "      <td>Parasite</td>\n",
       "      <td>tt6751668</td>\n",
       "      <td>2019-01-01</td>\n",
       "      <td>2020-01-01</td>\n",
       "      <td>Bong Joon-ho</td>\n",
       "      <td>CJ Entertainment, Barunson E&amp;A</td>\n",
       "      <td>5</td>\n",
       "      <td>5</td>\n",
       "    </tr>\n",
       "  </tbody>\n",
       "</table>\n",
       "<p>85 rows × 8 columns</p>\n",
       "</div>"
      ],
      "text/plain": [
       "                             movie       imdb       year award_year  \\\n",
       "0                            Wings  tt0018578 1927-01-01 1929-01-01   \n",
       "1              The Broadway Melody  tt0019729 1929-01-01 1930-01-01   \n",
       "2   All Quiet on the Western Front  tt0020629 1930-01-01 1930-01-01   \n",
       "3                         Cimarron  tt0021746 1931-01-01 1931-01-01   \n",
       "4                      Grand Hotel  tt0022958 1932-01-01 1932-01-01   \n",
       "..                             ...        ...        ...        ...   \n",
       "80                       Spotlight  tt1895587 2015-01-01 2016-01-01   \n",
       "81                       Moonlight  tt4975722 2016-01-01 2017-01-01   \n",
       "82              The Shape of Water  tt5580390 2017-01-01 2018-01-01   \n",
       "83                      Green Book  tt6966692 2018-01-01 2019-01-01   \n",
       "84                        Parasite  tt6751668 2019-01-01 2020-01-01   \n",
       "\n",
       "                                       directors  \\\n",
       "0   William A. Wellman, Harry d’Abbadie d’Arrast   \n",
       "1                                 Harry Beaumont   \n",
       "2                     Lewis Milestone, Nate Watt   \n",
       "3                                 Wesley Ruggles   \n",
       "4                                Edmund Goulding   \n",
       "..                                           ...   \n",
       "80                                  Tom McCarthy   \n",
       "81                                 Barry Jenkins   \n",
       "82                            Guillermo del Toro   \n",
       "83                                Peter Farrelly   \n",
       "84                                  Bong Joon-ho   \n",
       "\n",
       "                                            companies  male_cast  female_cast  \n",
       "0                                  Paramount Pictures         12            5  \n",
       "1                                 Metro-Goldwyn-Mayer          4            3  \n",
       "2                                  Universal Pictures         22            6  \n",
       "3                                        RKO Pictures         13            6  \n",
       "4                                 Metro-Goldwyn-Mayer         19            8  \n",
       "..                                                ...        ...          ...  \n",
       "80                     Anonymous Content, Participant         15            2  \n",
       "81                          Plan B Entertainment, A24          6            2  \n",
       "82            Searchlight Pictures, TSG Entertainment          8            3  \n",
       "83  Universal Pictures, DreamWorks, Participant, A...          7            1  \n",
       "84                     CJ Entertainment, Barunson E&A          5            5  \n",
       "\n",
       "[85 rows x 8 columns]"
      ]
     },
     "execution_count": 44,
     "metadata": {},
     "output_type": "execute_result"
    }
   ],
   "source": [
    "df"
   ]
  },
  {
   "cell_type": "markdown",
   "id": "caf2b12a",
   "metadata": {
    "id": "hXWb2goUWjo5"
   },
   "source": [
    "### Plotting\n",
    "\n",
    "Let's try to make some graphs from our data, for instance the number of male/female actors over time. \n",
    "\n",
    "We now have a year column that is interpreted as time by Pandas. These values can figure as values on a x-axis in a graph. The y-axis would then give info on the number of male and female actors in the movie."
   ]
  },
  {
   "cell_type": "markdown",
   "id": "8627111b",
   "metadata": {
    "id": "x0j1CQZOWjo5"
   },
   "source": [
    "First, we set an **index** for the DataFrame. This determines how the data can be accessed. Normally, this is a range of 0 untill the number of rows. But, you can change this, so that we can analyse the dataframe on a time index."
   ]
  },
  {
   "cell_type": "code",
   "execution_count": 45,
   "id": "e17586d2",
   "metadata": {
    "id": "CX6uGkiKWjo5"
   },
   "outputs": [
    {
     "data": {
      "text/html": [
       "<div>\n",
       "<style scoped>\n",
       "    .dataframe tbody tr th:only-of-type {\n",
       "        vertical-align: middle;\n",
       "    }\n",
       "\n",
       "    .dataframe tbody tr th {\n",
       "        vertical-align: top;\n",
       "    }\n",
       "\n",
       "    .dataframe thead th {\n",
       "        text-align: right;\n",
       "    }\n",
       "</style>\n",
       "<table border=\"1\" class=\"dataframe\">\n",
       "  <thead>\n",
       "    <tr style=\"text-align: right;\">\n",
       "      <th></th>\n",
       "      <th>award_year</th>\n",
       "      <th>male_cast</th>\n",
       "      <th>female_cast</th>\n",
       "    </tr>\n",
       "  </thead>\n",
       "  <tbody>\n",
       "    <tr>\n",
       "      <th>0</th>\n",
       "      <td>1929-01-01</td>\n",
       "      <td>12</td>\n",
       "      <td>5</td>\n",
       "    </tr>\n",
       "    <tr>\n",
       "      <th>1</th>\n",
       "      <td>1930-01-01</td>\n",
       "      <td>4</td>\n",
       "      <td>3</td>\n",
       "    </tr>\n",
       "    <tr>\n",
       "      <th>2</th>\n",
       "      <td>1930-01-01</td>\n",
       "      <td>22</td>\n",
       "      <td>6</td>\n",
       "    </tr>\n",
       "    <tr>\n",
       "      <th>3</th>\n",
       "      <td>1931-01-01</td>\n",
       "      <td>13</td>\n",
       "      <td>6</td>\n",
       "    </tr>\n",
       "    <tr>\n",
       "      <th>4</th>\n",
       "      <td>1932-01-01</td>\n",
       "      <td>19</td>\n",
       "      <td>8</td>\n",
       "    </tr>\n",
       "    <tr>\n",
       "      <th>...</th>\n",
       "      <td>...</td>\n",
       "      <td>...</td>\n",
       "      <td>...</td>\n",
       "    </tr>\n",
       "    <tr>\n",
       "      <th>80</th>\n",
       "      <td>2016-01-01</td>\n",
       "      <td>15</td>\n",
       "      <td>2</td>\n",
       "    </tr>\n",
       "    <tr>\n",
       "      <th>81</th>\n",
       "      <td>2017-01-01</td>\n",
       "      <td>6</td>\n",
       "      <td>2</td>\n",
       "    </tr>\n",
       "    <tr>\n",
       "      <th>82</th>\n",
       "      <td>2018-01-01</td>\n",
       "      <td>8</td>\n",
       "      <td>3</td>\n",
       "    </tr>\n",
       "    <tr>\n",
       "      <th>83</th>\n",
       "      <td>2019-01-01</td>\n",
       "      <td>7</td>\n",
       "      <td>1</td>\n",
       "    </tr>\n",
       "    <tr>\n",
       "      <th>84</th>\n",
       "      <td>2020-01-01</td>\n",
       "      <td>5</td>\n",
       "      <td>5</td>\n",
       "    </tr>\n",
       "  </tbody>\n",
       "</table>\n",
       "<p>85 rows × 3 columns</p>\n",
       "</div>"
      ],
      "text/plain": [
       "   award_year  male_cast  female_cast\n",
       "0  1929-01-01         12            5\n",
       "1  1930-01-01          4            3\n",
       "2  1930-01-01         22            6\n",
       "3  1931-01-01         13            6\n",
       "4  1932-01-01         19            8\n",
       "..        ...        ...          ...\n",
       "80 2016-01-01         15            2\n",
       "81 2017-01-01          6            2\n",
       "82 2018-01-01          8            3\n",
       "83 2019-01-01          7            1\n",
       "84 2020-01-01          5            5\n",
       "\n",
       "[85 rows x 3 columns]"
      ]
     },
     "execution_count": 45,
     "metadata": {},
     "output_type": "execute_result"
    }
   ],
   "source": [
    "# Select only what we need\n",
    "df_actors = df[['award_year', 'male_cast', 'female_cast']]\n",
    "df_actors"
   ]
  },
  {
   "cell_type": "code",
   "execution_count": 46,
   "id": "5dd60ced",
   "metadata": {
    "id": "svmSERhbWjo5"
   },
   "outputs": [
    {
     "data": {
      "text/html": [
       "<div>\n",
       "<style scoped>\n",
       "    .dataframe tbody tr th:only-of-type {\n",
       "        vertical-align: middle;\n",
       "    }\n",
       "\n",
       "    .dataframe tbody tr th {\n",
       "        vertical-align: top;\n",
       "    }\n",
       "\n",
       "    .dataframe thead th {\n",
       "        text-align: right;\n",
       "    }\n",
       "</style>\n",
       "<table border=\"1\" class=\"dataframe\">\n",
       "  <thead>\n",
       "    <tr style=\"text-align: right;\">\n",
       "      <th></th>\n",
       "      <th>male_cast</th>\n",
       "      <th>female_cast</th>\n",
       "    </tr>\n",
       "    <tr>\n",
       "      <th>award_year</th>\n",
       "      <th></th>\n",
       "      <th></th>\n",
       "    </tr>\n",
       "  </thead>\n",
       "  <tbody>\n",
       "    <tr>\n",
       "      <th>1929-01-01</th>\n",
       "      <td>12</td>\n",
       "      <td>5</td>\n",
       "    </tr>\n",
       "    <tr>\n",
       "      <th>1930-01-01</th>\n",
       "      <td>4</td>\n",
       "      <td>3</td>\n",
       "    </tr>\n",
       "    <tr>\n",
       "      <th>1930-01-01</th>\n",
       "      <td>22</td>\n",
       "      <td>6</td>\n",
       "    </tr>\n",
       "    <tr>\n",
       "      <th>1931-01-01</th>\n",
       "      <td>13</td>\n",
       "      <td>6</td>\n",
       "    </tr>\n",
       "    <tr>\n",
       "      <th>1932-01-01</th>\n",
       "      <td>19</td>\n",
       "      <td>8</td>\n",
       "    </tr>\n",
       "    <tr>\n",
       "      <th>...</th>\n",
       "      <td>...</td>\n",
       "      <td>...</td>\n",
       "    </tr>\n",
       "    <tr>\n",
       "      <th>2016-01-01</th>\n",
       "      <td>15</td>\n",
       "      <td>2</td>\n",
       "    </tr>\n",
       "    <tr>\n",
       "      <th>2017-01-01</th>\n",
       "      <td>6</td>\n",
       "      <td>2</td>\n",
       "    </tr>\n",
       "    <tr>\n",
       "      <th>2018-01-01</th>\n",
       "      <td>8</td>\n",
       "      <td>3</td>\n",
       "    </tr>\n",
       "    <tr>\n",
       "      <th>2019-01-01</th>\n",
       "      <td>7</td>\n",
       "      <td>1</td>\n",
       "    </tr>\n",
       "    <tr>\n",
       "      <th>2020-01-01</th>\n",
       "      <td>5</td>\n",
       "      <td>5</td>\n",
       "    </tr>\n",
       "  </tbody>\n",
       "</table>\n",
       "<p>85 rows × 2 columns</p>\n",
       "</div>"
      ],
      "text/plain": [
       "            male_cast  female_cast\n",
       "award_year                        \n",
       "1929-01-01         12            5\n",
       "1930-01-01          4            3\n",
       "1930-01-01         22            6\n",
       "1931-01-01         13            6\n",
       "1932-01-01         19            8\n",
       "...               ...          ...\n",
       "2016-01-01         15            2\n",
       "2017-01-01          6            2\n",
       "2018-01-01          8            3\n",
       "2019-01-01          7            1\n",
       "2020-01-01          5            5\n",
       "\n",
       "[85 rows x 2 columns]"
      ]
     },
     "execution_count": 46,
     "metadata": {},
     "output_type": "execute_result"
    }
   ],
   "source": [
    "df_actors = df_actors.set_index('award_year')\n",
    "df_actors"
   ]
  },
  {
   "cell_type": "markdown",
   "id": "61412e2b",
   "metadata": {
    "id": "NUEZBlGVWjo5"
   },
   "source": [
    "Then simply call `.plot()` on your newly created DataFrame!"
   ]
  },
  {
   "cell_type": "code",
   "execution_count": 47,
   "id": "04acbba7",
   "metadata": {
    "id": "RRotJMOQWjo5"
   },
   "outputs": [
    {
     "data": {
      "text/plain": [
       "<AxesSubplot:xlabel='award_year'>"
      ]
     },
     "execution_count": 47,
     "metadata": {},
     "output_type": "execute_result"
    },
    {
     "data": {
      "image/png": "[encoded data removed]",
      "text/plain": [
       "<Figure size 1080x720 with 1 Axes>"
      ]
     },
     "metadata": {
      "needs_background": "light"
     },
     "output_type": "display_data"
    }
   ],
   "source": [
    "df_actors.plot(figsize=(15,10))"
   ]
  },
  {
   "cell_type": "markdown",
   "id": "13f050bf",
   "metadata": {
    "id": "oP7plsOsWjo6"
   },
   "source": [
    "There are tons of parameters, functions, methods, transformations you can use on DataFrames and also on this plotting function. Luckily, plenty of guides and examples can be found on the internet."
   ]
  },
  {
   "cell_type": "markdown",
   "id": "ea96982c",
   "metadata": {
    "id": "nR5U4KjaWjo6"
   },
   "source": [
    "### Grouping"
   ]
  },
  {
   "cell_type": "code",
   "execution_count": 48,
   "id": "5bffb34d",
   "metadata": {
    "id": "zLuRmVx1Wjo6"
   },
   "outputs": [
    {
     "data": {
      "text/html": [
       "<div>\n",
       "<style scoped>\n",
       "    .dataframe tbody tr th:only-of-type {\n",
       "        vertical-align: middle;\n",
       "    }\n",
       "\n",
       "    .dataframe tbody tr th {\n",
       "        vertical-align: top;\n",
       "    }\n",
       "\n",
       "    .dataframe thead th {\n",
       "        text-align: right;\n",
       "    }\n",
       "</style>\n",
       "<table border=\"1\" class=\"dataframe\">\n",
       "  <thead>\n",
       "    <tr style=\"text-align: right;\">\n",
       "      <th></th>\n",
       "      <th>movie</th>\n",
       "      <th>imdb</th>\n",
       "      <th>year</th>\n",
       "      <th>award_year</th>\n",
       "      <th>directors</th>\n",
       "      <th>companies</th>\n",
       "      <th>male_cast</th>\n",
       "      <th>female_cast</th>\n",
       "    </tr>\n",
       "  </thead>\n",
       "  <tbody>\n",
       "    <tr>\n",
       "      <th>0</th>\n",
       "      <td>Wings</td>\n",
       "      <td>tt0018578</td>\n",
       "      <td>1927-01-01</td>\n",
       "      <td>1929-01-01</td>\n",
       "      <td>William A. Wellman, Harry d’Abbadie d’Arrast</td>\n",
       "      <td>Paramount Pictures</td>\n",
       "      <td>12</td>\n",
       "      <td>5</td>\n",
       "    </tr>\n",
       "    <tr>\n",
       "      <th>1</th>\n",
       "      <td>The Broadway Melody</td>\n",
       "      <td>tt0019729</td>\n",
       "      <td>1929-01-01</td>\n",
       "      <td>1930-01-01</td>\n",
       "      <td>Harry Beaumont</td>\n",
       "      <td>Metro-Goldwyn-Mayer</td>\n",
       "      <td>4</td>\n",
       "      <td>3</td>\n",
       "    </tr>\n",
       "    <tr>\n",
       "      <th>2</th>\n",
       "      <td>All Quiet on the Western Front</td>\n",
       "      <td>tt0020629</td>\n",
       "      <td>1930-01-01</td>\n",
       "      <td>1930-01-01</td>\n",
       "      <td>Lewis Milestone, Nate Watt</td>\n",
       "      <td>Universal Pictures</td>\n",
       "      <td>22</td>\n",
       "      <td>6</td>\n",
       "    </tr>\n",
       "    <tr>\n",
       "      <th>3</th>\n",
       "      <td>Cimarron</td>\n",
       "      <td>tt0021746</td>\n",
       "      <td>1931-01-01</td>\n",
       "      <td>1931-01-01</td>\n",
       "      <td>Wesley Ruggles</td>\n",
       "      <td>RKO Pictures</td>\n",
       "      <td>13</td>\n",
       "      <td>6</td>\n",
       "    </tr>\n",
       "    <tr>\n",
       "      <th>4</th>\n",
       "      <td>Grand Hotel</td>\n",
       "      <td>tt0022958</td>\n",
       "      <td>1932-01-01</td>\n",
       "      <td>1932-01-01</td>\n",
       "      <td>Edmund Goulding</td>\n",
       "      <td>Metro-Goldwyn-Mayer</td>\n",
       "      <td>19</td>\n",
       "      <td>8</td>\n",
       "    </tr>\n",
       "    <tr>\n",
       "      <th>...</th>\n",
       "      <td>...</td>\n",
       "      <td>...</td>\n",
       "      <td>...</td>\n",
       "      <td>...</td>\n",
       "      <td>...</td>\n",
       "      <td>...</td>\n",
       "      <td>...</td>\n",
       "      <td>...</td>\n",
       "    </tr>\n",
       "    <tr>\n",
       "      <th>80</th>\n",
       "      <td>Spotlight</td>\n",
       "      <td>tt1895587</td>\n",
       "      <td>2015-01-01</td>\n",
       "      <td>2016-01-01</td>\n",
       "      <td>Tom McCarthy</td>\n",
       "      <td>Anonymous Content, Participant</td>\n",
       "      <td>15</td>\n",
       "      <td>2</td>\n",
       "    </tr>\n",
       "    <tr>\n",
       "      <th>81</th>\n",
       "      <td>Moonlight</td>\n",
       "      <td>tt4975722</td>\n",
       "      <td>2016-01-01</td>\n",
       "      <td>2017-01-01</td>\n",
       "      <td>Barry Jenkins</td>\n",
       "      <td>Plan B Entertainment, A24</td>\n",
       "      <td>6</td>\n",
       "      <td>2</td>\n",
       "    </tr>\n",
       "    <tr>\n",
       "      <th>82</th>\n",
       "      <td>The Shape of Water</td>\n",
       "      <td>tt5580390</td>\n",
       "      <td>2017-01-01</td>\n",
       "      <td>2018-01-01</td>\n",
       "      <td>Guillermo del Toro</td>\n",
       "      <td>Searchlight Pictures, TSG Entertainment</td>\n",
       "      <td>8</td>\n",
       "      <td>3</td>\n",
       "    </tr>\n",
       "    <tr>\n",
       "      <th>83</th>\n",
       "      <td>Green Book</td>\n",
       "      <td>tt6966692</td>\n",
       "      <td>2018-01-01</td>\n",
       "      <td>2019-01-01</td>\n",
       "      <td>Peter Farrelly</td>\n",
       "      <td>Universal Pictures, DreamWorks, Participant, A...</td>\n",
       "      <td>7</td>\n",
       "      <td>1</td>\n",
       "    </tr>\n",
       "    <tr>\n",
       "      <th>84</th>\n",
       "      <td>Parasite</td>\n",
       "      <td>tt6751668</td>\n",
       "      <td>2019-01-01</td>\n",
       "      <td>2020-01-01</td>\n",
       "      <td>Bong Joon-ho</td>\n",
       "      <td>CJ Entertainment, Barunson E&amp;A</td>\n",
       "      <td>5</td>\n",
       "      <td>5</td>\n",
       "    </tr>\n",
       "  </tbody>\n",
       "</table>\n",
       "<p>85 rows × 8 columns</p>\n",
       "</div>"
      ],
      "text/plain": [
       "                             movie       imdb       year award_year  \\\n",
       "0                            Wings  tt0018578 1927-01-01 1929-01-01   \n",
       "1              The Broadway Melody  tt0019729 1929-01-01 1930-01-01   \n",
       "2   All Quiet on the Western Front  tt0020629 1930-01-01 1930-01-01   \n",
       "3                         Cimarron  tt0021746 1931-01-01 1931-01-01   \n",
       "4                      Grand Hotel  tt0022958 1932-01-01 1932-01-01   \n",
       "..                             ...        ...        ...        ...   \n",
       "80                       Spotlight  tt1895587 2015-01-01 2016-01-01   \n",
       "81                       Moonlight  tt4975722 2016-01-01 2017-01-01   \n",
       "82              The Shape of Water  tt5580390 2017-01-01 2018-01-01   \n",
       "83                      Green Book  tt6966692 2018-01-01 2019-01-01   \n",
       "84                        Parasite  tt6751668 2019-01-01 2020-01-01   \n",
       "\n",
       "                                       directors  \\\n",
       "0   William A. Wellman, Harry d’Abbadie d’Arrast   \n",
       "1                                 Harry Beaumont   \n",
       "2                     Lewis Milestone, Nate Watt   \n",
       "3                                 Wesley Ruggles   \n",
       "4                                Edmund Goulding   \n",
       "..                                           ...   \n",
       "80                                  Tom McCarthy   \n",
       "81                                 Barry Jenkins   \n",
       "82                            Guillermo del Toro   \n",
       "83                                Peter Farrelly   \n",
       "84                                  Bong Joon-ho   \n",
       "\n",
       "                                            companies  male_cast  female_cast  \n",
       "0                                  Paramount Pictures         12            5  \n",
       "1                                 Metro-Goldwyn-Mayer          4            3  \n",
       "2                                  Universal Pictures         22            6  \n",
       "3                                        RKO Pictures         13            6  \n",
       "4                                 Metro-Goldwyn-Mayer         19            8  \n",
       "..                                                ...        ...          ...  \n",
       "80                     Anonymous Content, Participant         15            2  \n",
       "81                          Plan B Entertainment, A24          6            2  \n",
       "82            Searchlight Pictures, TSG Entertainment          8            3  \n",
       "83  Universal Pictures, DreamWorks, Participant, A...          7            1  \n",
       "84                     CJ Entertainment, Barunson E&A          5            5  \n",
       "\n",
       "[85 rows x 8 columns]"
      ]
     },
     "execution_count": 48,
     "metadata": {},
     "output_type": "execute_result"
    }
   ],
   "source": [
    "df"
   ]
  },
  {
   "cell_type": "markdown",
   "id": "d071afa9",
   "metadata": {
    "id": "EygkWZGPWjo6"
   },
   "source": [
    "Some directors have won multiple Oscars. To find out which, we have to count the number of rows in the DataFrame that include the same director. There is a Pandas function for this: `.count()`. Calling this on the DataFrame itself would give us the total number of rows only, per column. Therefore, we have to tell Pandas that we want to group by a particular column, say 'directors'."
   ]
  },
  {
   "cell_type": "code",
   "execution_count": 49,
   "id": "1842c61f",
   "metadata": {
    "id": "hH0vYKNiWjo6"
   },
   "outputs": [
    {
     "data": {
      "text/plain": [
       "<pandas.core.groupby.generic.DataFrameGroupBy object at 0x7f1a8bc929a0>"
      ]
     },
     "execution_count": 49,
     "metadata": {},
     "output_type": "execute_result"
    }
   ],
   "source": [
    "df.groupby('directors')"
   ]
  },
  {
   "cell_type": "markdown",
   "id": "135e3493",
   "metadata": {
    "id": "4Dz-4n6gWjo6"
   },
   "source": [
    "It does not give back something nicely formatted or interpretable. It's just another Python object. The object returned by `groupby` is a `DataFrameGroupBy` **not** a normal `DataFrame`.\n",
    "\n",
    "However, some methods of the latter work also on the former, e.g. `.head()` and `.tail()`. Let's call the `.count()` on this object:"
   ]
  },
  {
   "cell_type": "code",
   "execution_count": 50,
   "id": "45d080b9",
   "metadata": {
    "id": "cI99agV2Wjo6"
   },
   "outputs": [
    {
     "data": {
      "text/html": [
       "<div>\n",
       "<style scoped>\n",
       "    .dataframe tbody tr th:only-of-type {\n",
       "        vertical-align: middle;\n",
       "    }\n",
       "\n",
       "    .dataframe tbody tr th {\n",
       "        vertical-align: top;\n",
       "    }\n",
       "\n",
       "    .dataframe thead th {\n",
       "        text-align: right;\n",
       "    }\n",
       "</style>\n",
       "<table border=\"1\" class=\"dataframe\">\n",
       "  <thead>\n",
       "    <tr style=\"text-align: right;\">\n",
       "      <th></th>\n",
       "      <th>movie</th>\n",
       "      <th>imdb</th>\n",
       "      <th>year</th>\n",
       "      <th>award_year</th>\n",
       "      <th>companies</th>\n",
       "      <th>male_cast</th>\n",
       "      <th>female_cast</th>\n",
       "    </tr>\n",
       "    <tr>\n",
       "      <th>directors</th>\n",
       "      <th></th>\n",
       "      <th></th>\n",
       "      <th></th>\n",
       "      <th></th>\n",
       "      <th></th>\n",
       "      <th></th>\n",
       "      <th></th>\n",
       "    </tr>\n",
       "  </thead>\n",
       "  <tbody>\n",
       "    <tr>\n",
       "      <th>Alejandro González Iñárritu</th>\n",
       "      <td>1</td>\n",
       "      <td>1</td>\n",
       "      <td>1</td>\n",
       "      <td>1</td>\n",
       "      <td>1</td>\n",
       "      <td>1</td>\n",
       "      <td>1</td>\n",
       "    </tr>\n",
       "    <tr>\n",
       "      <th>Alfred Hitchcock</th>\n",
       "      <td>1</td>\n",
       "      <td>1</td>\n",
       "      <td>1</td>\n",
       "      <td>1</td>\n",
       "      <td>1</td>\n",
       "      <td>1</td>\n",
       "      <td>1</td>\n",
       "    </tr>\n",
       "    <tr>\n",
       "      <th>Anthony Minghella</th>\n",
       "      <td>1</td>\n",
       "      <td>1</td>\n",
       "      <td>1</td>\n",
       "      <td>1</td>\n",
       "      <td>1</td>\n",
       "      <td>1</td>\n",
       "      <td>1</td>\n",
       "    </tr>\n",
       "    <tr>\n",
       "      <th>Barry Jenkins</th>\n",
       "      <td>1</td>\n",
       "      <td>1</td>\n",
       "      <td>1</td>\n",
       "      <td>1</td>\n",
       "      <td>1</td>\n",
       "      <td>1</td>\n",
       "      <td>1</td>\n",
       "    </tr>\n",
       "    <tr>\n",
       "      <th>Barry Levinson</th>\n",
       "      <td>1</td>\n",
       "      <td>1</td>\n",
       "      <td>1</td>\n",
       "      <td>1</td>\n",
       "      <td>1</td>\n",
       "      <td>1</td>\n",
       "      <td>1</td>\n",
       "    </tr>\n",
       "    <tr>\n",
       "      <th>...</th>\n",
       "      <td>...</td>\n",
       "      <td>...</td>\n",
       "      <td>...</td>\n",
       "      <td>...</td>\n",
       "      <td>...</td>\n",
       "      <td>...</td>\n",
       "      <td>...</td>\n",
       "    </tr>\n",
       "    <tr>\n",
       "      <th>Vincente Minnelli, Charles Walters</th>\n",
       "      <td>1</td>\n",
       "      <td>1</td>\n",
       "      <td>1</td>\n",
       "      <td>1</td>\n",
       "      <td>1</td>\n",
       "      <td>1</td>\n",
       "      <td>1</td>\n",
       "    </tr>\n",
       "    <tr>\n",
       "      <th>Wesley Ruggles</th>\n",
       "      <td>1</td>\n",
       "      <td>1</td>\n",
       "      <td>1</td>\n",
       "      <td>1</td>\n",
       "      <td>1</td>\n",
       "      <td>1</td>\n",
       "      <td>1</td>\n",
       "    </tr>\n",
       "    <tr>\n",
       "      <th>William A. Wellman, Harry d’Abbadie d’Arrast</th>\n",
       "      <td>1</td>\n",
       "      <td>1</td>\n",
       "      <td>1</td>\n",
       "      <td>1</td>\n",
       "      <td>1</td>\n",
       "      <td>1</td>\n",
       "      <td>1</td>\n",
       "    </tr>\n",
       "    <tr>\n",
       "      <th>William Dieterle</th>\n",
       "      <td>1</td>\n",
       "      <td>1</td>\n",
       "      <td>1</td>\n",
       "      <td>1</td>\n",
       "      <td>1</td>\n",
       "      <td>1</td>\n",
       "      <td>1</td>\n",
       "    </tr>\n",
       "    <tr>\n",
       "      <th>William Wyler</th>\n",
       "      <td>3</td>\n",
       "      <td>3</td>\n",
       "      <td>3</td>\n",
       "      <td>3</td>\n",
       "      <td>3</td>\n",
       "      <td>3</td>\n",
       "      <td>3</td>\n",
       "    </tr>\n",
       "  </tbody>\n",
       "</table>\n",
       "<p>76 rows × 7 columns</p>\n",
       "</div>"
      ],
      "text/plain": [
       "                                              movie  imdb  year  award_year  \\\n",
       "directors                                                                     \n",
       "Alejandro González Iñárritu                       1     1     1           1   \n",
       "Alfred Hitchcock                                  1     1     1           1   \n",
       "Anthony Minghella                                 1     1     1           1   \n",
       "Barry Jenkins                                     1     1     1           1   \n",
       "Barry Levinson                                    1     1     1           1   \n",
       "...                                             ...   ...   ...         ...   \n",
       "Vincente Minnelli, Charles Walters                1     1     1           1   \n",
       "Wesley Ruggles                                    1     1     1           1   \n",
       "William A. Wellman, Harry d’Abbadie d’Arrast      1     1     1           1   \n",
       "William Dieterle                                  1     1     1           1   \n",
       "William Wyler                                     3     3     3           3   \n",
       "\n",
       "                                              companies  male_cast  \\\n",
       "directors                                                            \n",
       "Alejandro González Iñárritu                           1          1   \n",
       "Alfred Hitchcock                                      1          1   \n",
       "Anthony Minghella                                     1          1   \n",
       "Barry Jenkins                                         1          1   \n",
       "Barry Levinson                                        1          1   \n",
       "...                                                 ...        ...   \n",
       "Vincente Minnelli, Charles Walters                    1          1   \n",
       "Wesley Ruggles                                        1          1   \n",
       "William A. Wellman, Harry d’Abbadie d’Arrast          1          1   \n",
       "William Dieterle                                      1          1   \n",
       "William Wyler                                         3          3   \n",
       "\n",
       "                                              female_cast  \n",
       "directors                                                  \n",
       "Alejandro González Iñárritu                             1  \n",
       "Alfred Hitchcock                                        1  \n",
       "Anthony Minghella                                       1  \n",
       "Barry Jenkins                                           1  \n",
       "Barry Levinson                                          1  \n",
       "...                                                   ...  \n",
       "Vincente Minnelli, Charles Walters                      1  \n",
       "Wesley Ruggles                                          1  \n",
       "William A. Wellman, Harry d’Abbadie d’Arrast            1  \n",
       "William Dieterle                                        1  \n",
       "William Wyler                                           3  \n",
       "\n",
       "[76 rows x 7 columns]"
      ]
     },
     "execution_count": 50,
     "metadata": {},
     "output_type": "execute_result"
    }
   ],
   "source": [
    "df.groupby('directors').count()"
   ]
  },
  {
   "cell_type": "markdown",
   "id": "cab4f010",
   "metadata": {
    "id": "qJkhj3qEWjo6"
   },
   "source": [
    "Remember that this counts the numer of rows. As we know that each row is one movie, we can trim this down to:"
   ]
  },
  {
   "cell_type": "code",
   "execution_count": 51,
   "id": "6328d286",
   "metadata": {
    "id": "nUtawB2sWjo6"
   },
   "outputs": [
    {
     "data": {
      "text/plain": [
       "directors\n",
       "Alejandro González Iñárritu                     1\n",
       "Alfred Hitchcock                                1\n",
       "Anthony Minghella                               1\n",
       "Barry Jenkins                                   1\n",
       "Barry Levinson                                  1\n",
       "                                               ..\n",
       "Vincente Minnelli, Charles Walters              1\n",
       "Wesley Ruggles                                  1\n",
       "William A. Wellman, Harry d’Abbadie d’Arrast    1\n",
       "William Dieterle                                1\n",
       "William Wyler                                   3\n",
       "Name: movie, Length: 76, dtype: int64"
      ]
     },
     "execution_count": 51,
     "metadata": {},
     "output_type": "execute_result"
    }
   ],
   "source": [
    "director_counts = df.groupby('directors').count()['movie']\n",
    "director_counts"
   ]
  },
  {
   "cell_type": "markdown",
   "id": "102e505d",
   "metadata": {
    "id": "KjZpua8TWjo7"
   },
   "source": [
    "Now, get all directors that have won an Oscar more than once by specifying a conditional operator:"
   ]
  },
  {
   "cell_type": "code",
   "execution_count": 52,
   "id": "aad7f43d",
   "metadata": {
    "id": "SXHox2feWjo7"
   },
   "outputs": [
    {
     "data": {
      "text/plain": [
       "directors\n",
       "Billy Wilder            2\n",
       "Clint Eastwood          2\n",
       "Elia Kazan              2\n",
       "Francis Ford Coppola    2\n",
       "Frank Capra             2\n",
       "Fred Zinnemann          2\n",
       "Miloš Forman            2\n",
       "William Wyler           3\n",
       "Name: movie, dtype: int64"
      ]
     },
     "execution_count": 52,
     "metadata": {},
     "output_type": "execute_result"
    }
   ],
   "source": [
    "director_counts[director_counts > 1]"
   ]
  },
  {
   "cell_type": "code",
   "execution_count": 53,
   "id": "e1a6e750",
   "metadata": {
    "id": "HlxIajX3Wjo7"
   },
   "outputs": [
    {
     "data": {
      "text/plain": [
       "[('Alejandro González Iñárritu', 1),\n",
       " ('Alfred Hitchcock', 1),\n",
       " ('Anthony Minghella', 1),\n",
       " ('Barry Jenkins', 1),\n",
       " ('Barry Levinson', 1),\n",
       " ('Ben Affleck', 1),\n",
       " ('Bernardo Bertolucci', 1),\n",
       " ('Billy Wilder', 2),\n",
       " ('Bong Joon-ho', 1),\n",
       " ('Bruce Beresford', 1),\n",
       " ('Carol Reed', 1),\n",
       " ('Cecil B. DeMille', 1),\n",
       " ('Clint Eastwood', 2),\n",
       " ('Danny Boyle, Loveleen Tandan', 1),\n",
       " ('David Lean', 1),\n",
       " ('Delbert Mann, Paul Helmick', 1),\n",
       " ('Edmund Goulding', 1),\n",
       " ('Elia Kazan', 2),\n",
       " ('Francis Ford Coppola', 2),\n",
       " ('Frank Capra', 2),\n",
       " ('Frank Lloyd', 1),\n",
       " ('Fred Zinnemann', 2),\n",
       " ('George Cukor', 1),\n",
       " ('George Cukor, Victor Fleming, Sam Wood', 1),\n",
       " ('George Roy Hill', 1),\n",
       " ('Guillermo del Toro', 1),\n",
       " ('Harry Beaumont', 1),\n",
       " ('Hugh Hudson', 1),\n",
       " ('James Cameron', 1),\n",
       " ('James L. Brooks', 1),\n",
       " ('Joel Coen, Ethan Coen', 1),\n",
       " ('John Ford', 1),\n",
       " ('John G. Avildsen', 1),\n",
       " ('John Madden', 1),\n",
       " ('John Schlesinger', 1),\n",
       " ('Jonathan Demme', 1),\n",
       " ('Joseph L. Mankiewicz', 1),\n",
       " ('Kathryn Bigelow', 1),\n",
       " ('Kevin Costner', 1),\n",
       " ('Laurence Olivier', 1),\n",
       " ('Leo McCarey', 1),\n",
       " ('Lewis Milestone, Nate Watt', 1),\n",
       " ('Martin Scorsese', 1),\n",
       " ('Mel Gibson', 1),\n",
       " ('Michael Cimino', 1),\n",
       " ('Michael Curtiz', 1),\n",
       " ('Michel Hazanavicius', 1),\n",
       " ('Miloš Forman', 2),\n",
       " ('Norman Jewison', 1),\n",
       " ('Paul Haggis', 1),\n",
       " ('Peter Farrelly', 1),\n",
       " ('Peter Jackson', 1),\n",
       " ('Richard Attenborough', 1),\n",
       " ('Ridley Scott', 1),\n",
       " ('Rob Marshall', 1),\n",
       " ('Robert Benton', 1),\n",
       " ('Robert Redford', 1),\n",
       " ('Robert Rossen', 1),\n",
       " ('Robert Wise', 1),\n",
       " ('Robert Wise, Jerome Robbins', 1),\n",
       " ('Robert Zemeckis', 1),\n",
       " ('Robert Zigler Leonard', 1),\n",
       " ('Ron Howard', 1),\n",
       " ('Sam Mendes', 1),\n",
       " ('Steve McQueen', 1),\n",
       " ('Steven Spielberg, Marek Brodzki', 1),\n",
       " ('Sydney Pollack', 1),\n",
       " ('Tom Hooper', 1),\n",
       " ('Tom McCarthy', 1),\n",
       " ('Tony Richardson', 1),\n",
       " ('Vincente Minnelli', 1),\n",
       " ('Vincente Minnelli, Charles Walters', 1),\n",
       " ('Wesley Ruggles', 1),\n",
       " ('William A. Wellman, Harry d’Abbadie d’Arrast', 1),\n",
       " ('William Dieterle', 1),\n",
       " ('William Wyler', 3)]"
      ]
     },
     "execution_count": 53,
     "metadata": {},
     "output_type": "execute_result"
    }
   ],
   "source": [
    "list(director_counts.items())"
   ]
  },
  {
   "cell_type": "code",
   "execution_count": 54,
   "id": "c116df1b",
   "metadata": {
    "id": "QPhqAJSsWjo7"
   },
   "outputs": [
    {
     "name": "stdout",
     "output_type": "stream",
     "text": [
      "Alejandro González Iñárritu 1\n",
      "Alfred Hitchcock 1\n",
      "Anthony Minghella 1\n",
      "Barry Jenkins 1\n",
      "Barry Levinson 1\n",
      "Ben Affleck 1\n",
      "Bernardo Bertolucci 1\n",
      "Billy Wilder 2\n",
      "Bong Joon-ho 1\n",
      "Bruce Beresford 1\n",
      "Carol Reed 1\n",
      "Cecil B. DeMille 1\n",
      "Clint Eastwood 2\n",
      "Danny Boyle, Loveleen Tandan 1\n",
      "David Lean 1\n",
      "Delbert Mann, Paul Helmick 1\n",
      "Edmund Goulding 1\n",
      "Elia Kazan 2\n",
      "Francis Ford Coppola 2\n",
      "Frank Capra 2\n",
      "Frank Lloyd 1\n",
      "Fred Zinnemann 2\n",
      "George Cukor 1\n",
      "George Cukor, Victor Fleming, Sam Wood 1\n",
      "George Roy Hill 1\n",
      "Guillermo del Toro 1\n",
      "Harry Beaumont 1\n",
      "Hugh Hudson 1\n",
      "James Cameron 1\n",
      "James L. Brooks 1\n",
      "Joel Coen, Ethan Coen 1\n",
      "John Ford 1\n",
      "John G. Avildsen 1\n",
      "John Madden 1\n",
      "John Schlesinger 1\n",
      "Jonathan Demme 1\n",
      "Joseph L. Mankiewicz 1\n",
      "Kathryn Bigelow 1\n",
      "Kevin Costner 1\n",
      "Laurence Olivier 1\n",
      "Leo McCarey 1\n",
      "Lewis Milestone, Nate Watt 1\n",
      "Martin Scorsese 1\n",
      "Mel Gibson 1\n",
      "Michael Cimino 1\n",
      "Michael Curtiz 1\n",
      "Michel Hazanavicius 1\n",
      "Miloš Forman 2\n",
      "Norman Jewison 1\n",
      "Paul Haggis 1\n",
      "Peter Farrelly 1\n",
      "Peter Jackson 1\n",
      "Richard Attenborough 1\n",
      "Ridley Scott 1\n",
      "Rob Marshall 1\n",
      "Robert Benton 1\n",
      "Robert Redford 1\n",
      "Robert Rossen 1\n",
      "Robert Wise 1\n",
      "Robert Wise, Jerome Robbins 1\n",
      "Robert Zemeckis 1\n",
      "Robert Zigler Leonard 1\n",
      "Ron Howard 1\n",
      "Sam Mendes 1\n",
      "Steve McQueen 1\n",
      "Steven Spielberg, Marek Brodzki 1\n",
      "Sydney Pollack 1\n",
      "Tom Hooper 1\n",
      "Tom McCarthy 1\n",
      "Tony Richardson 1\n",
      "Vincente Minnelli 1\n",
      "Vincente Minnelli, Charles Walters 1\n",
      "Wesley Ruggles 1\n",
      "William A. Wellman, Harry d’Abbadie d’Arrast 1\n",
      "William Dieterle 1\n",
      "William Wyler 3\n"
     ]
    }
   ],
   "source": [
    "for i, value in director_counts.items():\n",
    "    print(i, value)"
   ]
  },
  {
   "cell_type": "markdown",
   "id": "c21ed926",
   "metadata": {
    "id": "Wrkro7EtWjo7"
   },
   "source": [
    "### Adding a column"
   ]
  },
  {
   "cell_type": "markdown",
   "id": "bff4caa1",
   "metadata": {
    "id": "PVihLONeWjo8"
   },
   "source": [
    "If we want to get the total number of actors per movie, we have to sum the values from the `male_cast` and `female_cast` columns. \n",
    "\n",
    "You can do this in a for loop, by going over every row (like we saw above), but you can also sum the individual columns. Pandas will then add up the values with the same index and will return a new Series of the same length with the values summed."
   ]
  },
  {
   "cell_type": "code",
   "execution_count": 55,
   "id": "0bd62935",
   "metadata": {
    "id": "7CGYHLtdWjo8"
   },
   "outputs": [
    {
     "data": {
      "text/html": [
       "<div>\n",
       "<style scoped>\n",
       "    .dataframe tbody tr th:only-of-type {\n",
       "        vertical-align: middle;\n",
       "    }\n",
       "\n",
       "    .dataframe tbody tr th {\n",
       "        vertical-align: top;\n",
       "    }\n",
       "\n",
       "    .dataframe thead th {\n",
       "        text-align: right;\n",
       "    }\n",
       "</style>\n",
       "<table border=\"1\" class=\"dataframe\">\n",
       "  <thead>\n",
       "    <tr style=\"text-align: right;\">\n",
       "      <th></th>\n",
       "      <th>movie</th>\n",
       "      <th>imdb</th>\n",
       "      <th>year</th>\n",
       "      <th>award_year</th>\n",
       "      <th>directors</th>\n",
       "      <th>companies</th>\n",
       "      <th>male_cast</th>\n",
       "      <th>female_cast</th>\n",
       "    </tr>\n",
       "  </thead>\n",
       "  <tbody>\n",
       "    <tr>\n",
       "      <th>0</th>\n",
       "      <td>Wings</td>\n",
       "      <td>tt0018578</td>\n",
       "      <td>1927-01-01</td>\n",
       "      <td>1929-01-01</td>\n",
       "      <td>William A. Wellman, Harry d’Abbadie d’Arrast</td>\n",
       "      <td>Paramount Pictures</td>\n",
       "      <td>12</td>\n",
       "      <td>5</td>\n",
       "    </tr>\n",
       "    <tr>\n",
       "      <th>1</th>\n",
       "      <td>The Broadway Melody</td>\n",
       "      <td>tt0019729</td>\n",
       "      <td>1929-01-01</td>\n",
       "      <td>1930-01-01</td>\n",
       "      <td>Harry Beaumont</td>\n",
       "      <td>Metro-Goldwyn-Mayer</td>\n",
       "      <td>4</td>\n",
       "      <td>3</td>\n",
       "    </tr>\n",
       "    <tr>\n",
       "      <th>2</th>\n",
       "      <td>All Quiet on the Western Front</td>\n",
       "      <td>tt0020629</td>\n",
       "      <td>1930-01-01</td>\n",
       "      <td>1930-01-01</td>\n",
       "      <td>Lewis Milestone, Nate Watt</td>\n",
       "      <td>Universal Pictures</td>\n",
       "      <td>22</td>\n",
       "      <td>6</td>\n",
       "    </tr>\n",
       "    <tr>\n",
       "      <th>3</th>\n",
       "      <td>Cimarron</td>\n",
       "      <td>tt0021746</td>\n",
       "      <td>1931-01-01</td>\n",
       "      <td>1931-01-01</td>\n",
       "      <td>Wesley Ruggles</td>\n",
       "      <td>RKO Pictures</td>\n",
       "      <td>13</td>\n",
       "      <td>6</td>\n",
       "    </tr>\n",
       "    <tr>\n",
       "      <th>4</th>\n",
       "      <td>Grand Hotel</td>\n",
       "      <td>tt0022958</td>\n",
       "      <td>1932-01-01</td>\n",
       "      <td>1932-01-01</td>\n",
       "      <td>Edmund Goulding</td>\n",
       "      <td>Metro-Goldwyn-Mayer</td>\n",
       "      <td>19</td>\n",
       "      <td>8</td>\n",
       "    </tr>\n",
       "    <tr>\n",
       "      <th>...</th>\n",
       "      <td>...</td>\n",
       "      <td>...</td>\n",
       "      <td>...</td>\n",
       "      <td>...</td>\n",
       "      <td>...</td>\n",
       "      <td>...</td>\n",
       "      <td>...</td>\n",
       "      <td>...</td>\n",
       "    </tr>\n",
       "    <tr>\n",
       "      <th>80</th>\n",
       "      <td>Spotlight</td>\n",
       "      <td>tt1895587</td>\n",
       "      <td>2015-01-01</td>\n",
       "      <td>2016-01-01</td>\n",
       "      <td>Tom McCarthy</td>\n",
       "      <td>Anonymous Content, Participant</td>\n",
       "      <td>15</td>\n",
       "      <td>2</td>\n",
       "    </tr>\n",
       "    <tr>\n",
       "      <th>81</th>\n",
       "      <td>Moonlight</td>\n",
       "      <td>tt4975722</td>\n",
       "      <td>2016-01-01</td>\n",
       "      <td>2017-01-01</td>\n",
       "      <td>Barry Jenkins</td>\n",
       "      <td>Plan B Entertainment, A24</td>\n",
       "      <td>6</td>\n",
       "      <td>2</td>\n",
       "    </tr>\n",
       "    <tr>\n",
       "      <th>82</th>\n",
       "      <td>The Shape of Water</td>\n",
       "      <td>tt5580390</td>\n",
       "      <td>2017-01-01</td>\n",
       "      <td>2018-01-01</td>\n",
       "      <td>Guillermo del Toro</td>\n",
       "      <td>Searchlight Pictures, TSG Entertainment</td>\n",
       "      <td>8</td>\n",
       "      <td>3</td>\n",
       "    </tr>\n",
       "    <tr>\n",
       "      <th>83</th>\n",
       "      <td>Green Book</td>\n",
       "      <td>tt6966692</td>\n",
       "      <td>2018-01-01</td>\n",
       "      <td>2019-01-01</td>\n",
       "      <td>Peter Farrelly</td>\n",
       "      <td>Universal Pictures, DreamWorks, Participant, A...</td>\n",
       "      <td>7</td>\n",
       "      <td>1</td>\n",
       "    </tr>\n",
       "    <tr>\n",
       "      <th>84</th>\n",
       "      <td>Parasite</td>\n",
       "      <td>tt6751668</td>\n",
       "      <td>2019-01-01</td>\n",
       "      <td>2020-01-01</td>\n",
       "      <td>Bong Joon-ho</td>\n",
       "      <td>CJ Entertainment, Barunson E&amp;A</td>\n",
       "      <td>5</td>\n",
       "      <td>5</td>\n",
       "    </tr>\n",
       "  </tbody>\n",
       "</table>\n",
       "<p>85 rows × 8 columns</p>\n",
       "</div>"
      ],
      "text/plain": [
       "                             movie       imdb       year award_year  \\\n",
       "0                            Wings  tt0018578 1927-01-01 1929-01-01   \n",
       "1              The Broadway Melody  tt0019729 1929-01-01 1930-01-01   \n",
       "2   All Quiet on the Western Front  tt0020629 1930-01-01 1930-01-01   \n",
       "3                         Cimarron  tt0021746 1931-01-01 1931-01-01   \n",
       "4                      Grand Hotel  tt0022958 1932-01-01 1932-01-01   \n",
       "..                             ...        ...        ...        ...   \n",
       "80                       Spotlight  tt1895587 2015-01-01 2016-01-01   \n",
       "81                       Moonlight  tt4975722 2016-01-01 2017-01-01   \n",
       "82              The Shape of Water  tt5580390 2017-01-01 2018-01-01   \n",
       "83                      Green Book  tt6966692 2018-01-01 2019-01-01   \n",
       "84                        Parasite  tt6751668 2019-01-01 2020-01-01   \n",
       "\n",
       "                                       directors  \\\n",
       "0   William A. Wellman, Harry d’Abbadie d’Arrast   \n",
       "1                                 Harry Beaumont   \n",
       "2                     Lewis Milestone, Nate Watt   \n",
       "3                                 Wesley Ruggles   \n",
       "4                                Edmund Goulding   \n",
       "..                                           ...   \n",
       "80                                  Tom McCarthy   \n",
       "81                                 Barry Jenkins   \n",
       "82                            Guillermo del Toro   \n",
       "83                                Peter Farrelly   \n",
       "84                                  Bong Joon-ho   \n",
       "\n",
       "                                            companies  male_cast  female_cast  \n",
       "0                                  Paramount Pictures         12            5  \n",
       "1                                 Metro-Goldwyn-Mayer          4            3  \n",
       "2                                  Universal Pictures         22            6  \n",
       "3                                        RKO Pictures         13            6  \n",
       "4                                 Metro-Goldwyn-Mayer         19            8  \n",
       "..                                                ...        ...          ...  \n",
       "80                     Anonymous Content, Participant         15            2  \n",
       "81                          Plan B Entertainment, A24          6            2  \n",
       "82            Searchlight Pictures, TSG Entertainment          8            3  \n",
       "83  Universal Pictures, DreamWorks, Participant, A...          7            1  \n",
       "84                     CJ Entertainment, Barunson E&A          5            5  \n",
       "\n",
       "[85 rows x 8 columns]"
      ]
     },
     "execution_count": 55,
     "metadata": {},
     "output_type": "execute_result"
    }
   ],
   "source": [
    "df"
   ]
  },
  {
   "cell_type": "code",
   "execution_count": 56,
   "id": "1861beb7",
   "metadata": {
    "id": "kgdYTcMkWjo8"
   },
   "outputs": [
    {
     "data": {
      "text/plain": [
       "0     17\n",
       "1      7\n",
       "2     28\n",
       "3     19\n",
       "4     27\n",
       "      ..\n",
       "80    17\n",
       "81     8\n",
       "82    11\n",
       "83     8\n",
       "84    10\n",
       "Length: 85, dtype: int64"
      ]
     },
     "execution_count": 56,
     "metadata": {},
     "output_type": "execute_result"
    }
   ],
   "source": [
    "df['male_cast'] + df['female_cast']"
   ]
  },
  {
   "cell_type": "code",
   "execution_count": 57,
   "id": "c41c93ef",
   "metadata": {
    "id": "iZu8HM80Wjo8"
   },
   "outputs": [
    {
     "data": {
      "text/plain": [
       "0     17\n",
       "1      7\n",
       "2     28\n",
       "3     19\n",
       "4     27\n",
       "      ..\n",
       "80    17\n",
       "81     8\n",
       "82    11\n",
       "83     8\n",
       "84    10\n",
       "Length: 85, dtype: int64"
      ]
     },
     "execution_count": 57,
     "metadata": {},
     "output_type": "execute_result"
    }
   ],
   "source": [
    "total_cast = df['male_cast'] + df['female_cast']\n",
    "total_cast"
   ]
  },
  {
   "cell_type": "markdown",
   "id": "e0eb5061",
   "metadata": {
    "id": "LHBoYnnJWjo8"
   },
   "source": [
    "Then, we add it as a column in our original dataframe. The only requirement for adding a column to a DataFrame is that the length of the Series or list is the same as that of the DataFrame."
   ]
  },
  {
   "cell_type": "code",
   "execution_count": 58,
   "id": "cf841c97",
   "metadata": {
    "id": "6to7wyDKWjo8"
   },
   "outputs": [
    {
     "data": {
      "text/html": [
       "<div>\n",
       "<style scoped>\n",
       "    .dataframe tbody tr th:only-of-type {\n",
       "        vertical-align: middle;\n",
       "    }\n",
       "\n",
       "    .dataframe tbody tr th {\n",
       "        vertical-align: top;\n",
       "    }\n",
       "\n",
       "    .dataframe thead th {\n",
       "        text-align: right;\n",
       "    }\n",
       "</style>\n",
       "<table border=\"1\" class=\"dataframe\">\n",
       "  <thead>\n",
       "    <tr style=\"text-align: right;\">\n",
       "      <th></th>\n",
       "      <th>movie</th>\n",
       "      <th>imdb</th>\n",
       "      <th>year</th>\n",
       "      <th>award_year</th>\n",
       "      <th>directors</th>\n",
       "      <th>companies</th>\n",
       "      <th>male_cast</th>\n",
       "      <th>female_cast</th>\n",
       "      <th>total_cast</th>\n",
       "    </tr>\n",
       "  </thead>\n",
       "  <tbody>\n",
       "    <tr>\n",
       "      <th>0</th>\n",
       "      <td>Wings</td>\n",
       "      <td>tt0018578</td>\n",
       "      <td>1927-01-01</td>\n",
       "      <td>1929-01-01</td>\n",
       "      <td>William A. Wellman, Harry d’Abbadie d’Arrast</td>\n",
       "      <td>Paramount Pictures</td>\n",
       "      <td>12</td>\n",
       "      <td>5</td>\n",
       "      <td>17</td>\n",
       "    </tr>\n",
       "    <tr>\n",
       "      <th>1</th>\n",
       "      <td>The Broadway Melody</td>\n",
       "      <td>tt0019729</td>\n",
       "      <td>1929-01-01</td>\n",
       "      <td>1930-01-01</td>\n",
       "      <td>Harry Beaumont</td>\n",
       "      <td>Metro-Goldwyn-Mayer</td>\n",
       "      <td>4</td>\n",
       "      <td>3</td>\n",
       "      <td>7</td>\n",
       "    </tr>\n",
       "    <tr>\n",
       "      <th>2</th>\n",
       "      <td>All Quiet on the Western Front</td>\n",
       "      <td>tt0020629</td>\n",
       "      <td>1930-01-01</td>\n",
       "      <td>1930-01-01</td>\n",
       "      <td>Lewis Milestone, Nate Watt</td>\n",
       "      <td>Universal Pictures</td>\n",
       "      <td>22</td>\n",
       "      <td>6</td>\n",
       "      <td>28</td>\n",
       "    </tr>\n",
       "    <tr>\n",
       "      <th>3</th>\n",
       "      <td>Cimarron</td>\n",
       "      <td>tt0021746</td>\n",
       "      <td>1931-01-01</td>\n",
       "      <td>1931-01-01</td>\n",
       "      <td>Wesley Ruggles</td>\n",
       "      <td>RKO Pictures</td>\n",
       "      <td>13</td>\n",
       "      <td>6</td>\n",
       "      <td>19</td>\n",
       "    </tr>\n",
       "    <tr>\n",
       "      <th>4</th>\n",
       "      <td>Grand Hotel</td>\n",
       "      <td>tt0022958</td>\n",
       "      <td>1932-01-01</td>\n",
       "      <td>1932-01-01</td>\n",
       "      <td>Edmund Goulding</td>\n",
       "      <td>Metro-Goldwyn-Mayer</td>\n",
       "      <td>19</td>\n",
       "      <td>8</td>\n",
       "      <td>27</td>\n",
       "    </tr>\n",
       "    <tr>\n",
       "      <th>...</th>\n",
       "      <td>...</td>\n",
       "      <td>...</td>\n",
       "      <td>...</td>\n",
       "      <td>...</td>\n",
       "      <td>...</td>\n",
       "      <td>...</td>\n",
       "      <td>...</td>\n",
       "      <td>...</td>\n",
       "      <td>...</td>\n",
       "    </tr>\n",
       "    <tr>\n",
       "      <th>80</th>\n",
       "      <td>Spotlight</td>\n",
       "      <td>tt1895587</td>\n",
       "      <td>2015-01-01</td>\n",
       "      <td>2016-01-01</td>\n",
       "      <td>Tom McCarthy</td>\n",
       "      <td>Anonymous Content, Participant</td>\n",
       "      <td>15</td>\n",
       "      <td>2</td>\n",
       "      <td>17</td>\n",
       "    </tr>\n",
       "    <tr>\n",
       "      <th>81</th>\n",
       "      <td>Moonlight</td>\n",
       "      <td>tt4975722</td>\n",
       "      <td>2016-01-01</td>\n",
       "      <td>2017-01-01</td>\n",
       "      <td>Barry Jenkins</td>\n",
       "      <td>Plan B Entertainment, A24</td>\n",
       "      <td>6</td>\n",
       "      <td>2</td>\n",
       "      <td>8</td>\n",
       "    </tr>\n",
       "    <tr>\n",
       "      <th>82</th>\n",
       "      <td>The Shape of Water</td>\n",
       "      <td>tt5580390</td>\n",
       "      <td>2017-01-01</td>\n",
       "      <td>2018-01-01</td>\n",
       "      <td>Guillermo del Toro</td>\n",
       "      <td>Searchlight Pictures, TSG Entertainment</td>\n",
       "      <td>8</td>\n",
       "      <td>3</td>\n",
       "      <td>11</td>\n",
       "    </tr>\n",
       "    <tr>\n",
       "      <th>83</th>\n",
       "      <td>Green Book</td>\n",
       "      <td>tt6966692</td>\n",
       "      <td>2018-01-01</td>\n",
       "      <td>2019-01-01</td>\n",
       "      <td>Peter Farrelly</td>\n",
       "      <td>Universal Pictures, DreamWorks, Participant, A...</td>\n",
       "      <td>7</td>\n",
       "      <td>1</td>\n",
       "      <td>8</td>\n",
       "    </tr>\n",
       "    <tr>\n",
       "      <th>84</th>\n",
       "      <td>Parasite</td>\n",
       "      <td>tt6751668</td>\n",
       "      <td>2019-01-01</td>\n",
       "      <td>2020-01-01</td>\n",
       "      <td>Bong Joon-ho</td>\n",
       "      <td>CJ Entertainment, Barunson E&amp;A</td>\n",
       "      <td>5</td>\n",
       "      <td>5</td>\n",
       "      <td>10</td>\n",
       "    </tr>\n",
       "  </tbody>\n",
       "</table>\n",
       "<p>85 rows × 9 columns</p>\n",
       "</div>"
      ],
      "text/plain": [
       "                             movie       imdb       year award_year  \\\n",
       "0                            Wings  tt0018578 1927-01-01 1929-01-01   \n",
       "1              The Broadway Melody  tt0019729 1929-01-01 1930-01-01   \n",
       "2   All Quiet on the Western Front  tt0020629 1930-01-01 1930-01-01   \n",
       "3                         Cimarron  tt0021746 1931-01-01 1931-01-01   \n",
       "4                      Grand Hotel  tt0022958 1932-01-01 1932-01-01   \n",
       "..                             ...        ...        ...        ...   \n",
       "80                       Spotlight  tt1895587 2015-01-01 2016-01-01   \n",
       "81                       Moonlight  tt4975722 2016-01-01 2017-01-01   \n",
       "82              The Shape of Water  tt5580390 2017-01-01 2018-01-01   \n",
       "83                      Green Book  tt6966692 2018-01-01 2019-01-01   \n",
       "84                        Parasite  tt6751668 2019-01-01 2020-01-01   \n",
       "\n",
       "                                       directors  \\\n",
       "0   William A. Wellman, Harry d’Abbadie d’Arrast   \n",
       "1                                 Harry Beaumont   \n",
       "2                     Lewis Milestone, Nate Watt   \n",
       "3                                 Wesley Ruggles   \n",
       "4                                Edmund Goulding   \n",
       "..                                           ...   \n",
       "80                                  Tom McCarthy   \n",
       "81                                 Barry Jenkins   \n",
       "82                            Guillermo del Toro   \n",
       "83                                Peter Farrelly   \n",
       "84                                  Bong Joon-ho   \n",
       "\n",
       "                                            companies  male_cast  female_cast  \\\n",
       "0                                  Paramount Pictures         12            5   \n",
       "1                                 Metro-Goldwyn-Mayer          4            3   \n",
       "2                                  Universal Pictures         22            6   \n",
       "3                                        RKO Pictures         13            6   \n",
       "4                                 Metro-Goldwyn-Mayer         19            8   \n",
       "..                                                ...        ...          ...   \n",
       "80                     Anonymous Content, Participant         15            2   \n",
       "81                          Plan B Entertainment, A24          6            2   \n",
       "82            Searchlight Pictures, TSG Entertainment          8            3   \n",
       "83  Universal Pictures, DreamWorks, Participant, A...          7            1   \n",
       "84                     CJ Entertainment, Barunson E&A          5            5   \n",
       "\n",
       "    total_cast  \n",
       "0           17  \n",
       "1            7  \n",
       "2           28  \n",
       "3           19  \n",
       "4           27  \n",
       "..         ...  \n",
       "80          17  \n",
       "81           8  \n",
       "82          11  \n",
       "83           8  \n",
       "84          10  \n",
       "\n",
       "[85 rows x 9 columns]"
      ]
     },
     "execution_count": 58,
     "metadata": {},
     "output_type": "execute_result"
    }
   ],
   "source": [
    "df['total_cast'] = total_cast\n",
    "df"
   ]
  },
  {
   "cell_type": "markdown",
   "id": "dfababa6",
   "metadata": {
    "id": "vH981_n7Wjo9"
   },
   "source": [
    "Optionally, we can sort the DataFrame by column. For instance, from high to low (`ascending=False`) for the newly created `total_cast` column."
   ]
  },
  {
   "cell_type": "code",
   "execution_count": 59,
   "id": "a3e51a39",
   "metadata": {
    "id": "3hS0W5q5Wjo9"
   },
   "outputs": [
    {
     "data": {
      "text/html": [
       "<div>\n",
       "<style scoped>\n",
       "    .dataframe tbody tr th:only-of-type {\n",
       "        vertical-align: middle;\n",
       "    }\n",
       "\n",
       "    .dataframe tbody tr th {\n",
       "        vertical-align: top;\n",
       "    }\n",
       "\n",
       "    .dataframe thead th {\n",
       "        text-align: right;\n",
       "    }\n",
       "</style>\n",
       "<table border=\"1\" class=\"dataframe\">\n",
       "  <thead>\n",
       "    <tr style=\"text-align: right;\">\n",
       "      <th></th>\n",
       "      <th>movie</th>\n",
       "      <th>imdb</th>\n",
       "      <th>year</th>\n",
       "      <th>award_year</th>\n",
       "      <th>directors</th>\n",
       "      <th>companies</th>\n",
       "      <th>male_cast</th>\n",
       "      <th>female_cast</th>\n",
       "      <th>total_cast</th>\n",
       "    </tr>\n",
       "  </thead>\n",
       "  <tbody>\n",
       "    <tr>\n",
       "      <th>59</th>\n",
       "      <td>Forrest Gump</td>\n",
       "      <td>tt0109830</td>\n",
       "      <td>1994-01-01</td>\n",
       "      <td>1995-01-01</td>\n",
       "      <td>Robert Zemeckis</td>\n",
       "      <td>Paramount Pictures</td>\n",
       "      <td>89</td>\n",
       "      <td>29</td>\n",
       "      <td>118</td>\n",
       "    </tr>\n",
       "    <tr>\n",
       "      <th>10</th>\n",
       "      <td>Gone with the Wind</td>\n",
       "      <td>tt0031381</td>\n",
       "      <td>1939-01-01</td>\n",
       "      <td>1940-01-01</td>\n",
       "      <td>George Cukor, Victor Fleming, Sam Wood</td>\n",
       "      <td>Metro-Goldwyn-Mayer, Selznick International Pi...</td>\n",
       "      <td>52</td>\n",
       "      <td>20</td>\n",
       "      <td>72</td>\n",
       "    </tr>\n",
       "    <tr>\n",
       "      <th>13</th>\n",
       "      <td>Casablanca</td>\n",
       "      <td>tt0034583</td>\n",
       "      <td>1942-01-01</td>\n",
       "      <td>1944-01-01</td>\n",
       "      <td>Michael Curtiz</td>\n",
       "      <td>Warner Bros.</td>\n",
       "      <td>40</td>\n",
       "      <td>8</td>\n",
       "      <td>48</td>\n",
       "    </tr>\n",
       "    <tr>\n",
       "      <th>58</th>\n",
       "      <td>Schindler's List</td>\n",
       "      <td>tt0108052</td>\n",
       "      <td>1993-01-01</td>\n",
       "      <td>1994-01-01</td>\n",
       "      <td>Steven Spielberg, Marek Brodzki</td>\n",
       "      <td>Amblin Entertainment</td>\n",
       "      <td>35</td>\n",
       "      <td>11</td>\n",
       "      <td>46</td>\n",
       "    </tr>\n",
       "    <tr>\n",
       "      <th>41</th>\n",
       "      <td>The Godfather Part II</td>\n",
       "      <td>tt0071562</td>\n",
       "      <td>1974-01-01</td>\n",
       "      <td>1975-01-01</td>\n",
       "      <td>Francis Ford Coppola</td>\n",
       "      <td>Paramount Pictures</td>\n",
       "      <td>33</td>\n",
       "      <td>12</td>\n",
       "      <td>45</td>\n",
       "    </tr>\n",
       "    <tr>\n",
       "      <th>...</th>\n",
       "      <td>...</td>\n",
       "      <td>...</td>\n",
       "      <td>...</td>\n",
       "      <td>...</td>\n",
       "      <td>...</td>\n",
       "      <td>...</td>\n",
       "      <td>...</td>\n",
       "      <td>...</td>\n",
       "      <td>...</td>\n",
       "    </tr>\n",
       "    <tr>\n",
       "      <th>54</th>\n",
       "      <td>Driving Miss Daisy</td>\n",
       "      <td>tt0097239</td>\n",
       "      <td>1989-01-01</td>\n",
       "      <td>1990-01-01</td>\n",
       "      <td>Bruce Beresford</td>\n",
       "      <td>Warner Bros.</td>\n",
       "      <td>4</td>\n",
       "      <td>4</td>\n",
       "      <td>8</td>\n",
       "    </tr>\n",
       "    <tr>\n",
       "      <th>81</th>\n",
       "      <td>Moonlight</td>\n",
       "      <td>tt4975722</td>\n",
       "      <td>2016-01-01</td>\n",
       "      <td>2017-01-01</td>\n",
       "      <td>Barry Jenkins</td>\n",
       "      <td>Plan B Entertainment, A24</td>\n",
       "      <td>6</td>\n",
       "      <td>2</td>\n",
       "      <td>8</td>\n",
       "    </tr>\n",
       "    <tr>\n",
       "      <th>83</th>\n",
       "      <td>Green Book</td>\n",
       "      <td>tt6966692</td>\n",
       "      <td>2018-01-01</td>\n",
       "      <td>2019-01-01</td>\n",
       "      <td>Peter Farrelly</td>\n",
       "      <td>Universal Pictures, DreamWorks, Participant, A...</td>\n",
       "      <td>7</td>\n",
       "      <td>1</td>\n",
       "      <td>8</td>\n",
       "    </tr>\n",
       "    <tr>\n",
       "      <th>50</th>\n",
       "      <td>Amadeus</td>\n",
       "      <td>tt0086879</td>\n",
       "      <td>1984-01-01</td>\n",
       "      <td>1985-01-01</td>\n",
       "      <td>Miloš Forman</td>\n",
       "      <td>Orion Pictures</td>\n",
       "      <td>5</td>\n",
       "      <td>2</td>\n",
       "      <td>7</td>\n",
       "    </tr>\n",
       "    <tr>\n",
       "      <th>1</th>\n",
       "      <td>The Broadway Melody</td>\n",
       "      <td>tt0019729</td>\n",
       "      <td>1929-01-01</td>\n",
       "      <td>1930-01-01</td>\n",
       "      <td>Harry Beaumont</td>\n",
       "      <td>Metro-Goldwyn-Mayer</td>\n",
       "      <td>4</td>\n",
       "      <td>3</td>\n",
       "      <td>7</td>\n",
       "    </tr>\n",
       "  </tbody>\n",
       "</table>\n",
       "<p>85 rows × 9 columns</p>\n",
       "</div>"
      ],
      "text/plain": [
       "                    movie       imdb       year award_year  \\\n",
       "59           Forrest Gump  tt0109830 1994-01-01 1995-01-01   \n",
       "10     Gone with the Wind  tt0031381 1939-01-01 1940-01-01   \n",
       "13             Casablanca  tt0034583 1942-01-01 1944-01-01   \n",
       "58       Schindler's List  tt0108052 1993-01-01 1994-01-01   \n",
       "41  The Godfather Part II  tt0071562 1974-01-01 1975-01-01   \n",
       "..                    ...        ...        ...        ...   \n",
       "54     Driving Miss Daisy  tt0097239 1989-01-01 1990-01-01   \n",
       "81              Moonlight  tt4975722 2016-01-01 2017-01-01   \n",
       "83             Green Book  tt6966692 2018-01-01 2019-01-01   \n",
       "50                Amadeus  tt0086879 1984-01-01 1985-01-01   \n",
       "1     The Broadway Melody  tt0019729 1929-01-01 1930-01-01   \n",
       "\n",
       "                                 directors  \\\n",
       "59                         Robert Zemeckis   \n",
       "10  George Cukor, Victor Fleming, Sam Wood   \n",
       "13                          Michael Curtiz   \n",
       "58         Steven Spielberg, Marek Brodzki   \n",
       "41                    Francis Ford Coppola   \n",
       "..                                     ...   \n",
       "54                         Bruce Beresford   \n",
       "81                           Barry Jenkins   \n",
       "83                          Peter Farrelly   \n",
       "50                            Miloš Forman   \n",
       "1                           Harry Beaumont   \n",
       "\n",
       "                                            companies  male_cast  female_cast  \\\n",
       "59                                 Paramount Pictures         89           29   \n",
       "10  Metro-Goldwyn-Mayer, Selznick International Pi...         52           20   \n",
       "13                                       Warner Bros.         40            8   \n",
       "58                               Amblin Entertainment         35           11   \n",
       "41                                 Paramount Pictures         33           12   \n",
       "..                                                ...        ...          ...   \n",
       "54                                       Warner Bros.          4            4   \n",
       "81                          Plan B Entertainment, A24          6            2   \n",
       "83  Universal Pictures, DreamWorks, Participant, A...          7            1   \n",
       "50                                     Orion Pictures          5            2   \n",
       "1                                 Metro-Goldwyn-Mayer          4            3   \n",
       "\n",
       "    total_cast  \n",
       "59         118  \n",
       "10          72  \n",
       "13          48  \n",
       "58          46  \n",
       "41          45  \n",
       "..         ...  \n",
       "54           8  \n",
       "81           8  \n",
       "83           8  \n",
       "50           7  \n",
       "1            7  \n",
       "\n",
       "[85 rows x 9 columns]"
      ]
     },
     "execution_count": 59,
     "metadata": {},
     "output_type": "execute_result"
    }
   ],
   "source": [
    "df_sorted = df.sort_values('total_cast', ascending=False)\n",
    "df_sorted"
   ]
  },
  {
   "cell_type": "markdown",
   "id": "b7e85d4f",
   "metadata": {
    "id": "NBkSgHX4Wjo9"
   },
   "source": [
    "### Saving back the file"
   ]
  },
  {
   "cell_type": "markdown",
   "id": "0ed74112",
   "metadata": {
    "id": "zhuYIfQOWjo9"
   },
   "source": [
    "Use one of the `.to_csv()` or `.to_excel` functions to save the DataFrame. Again, no `with` statement needed, just a file path (and an encoding)."
   ]
  },
  {
   "cell_type": "code",
   "execution_count": 60,
   "id": "b4796fdc",
   "metadata": {
    "id": "XhUVyeZnWjo9"
   },
   "outputs": [],
   "source": [
    "df_sorted.to_csv('stuff/academyawards_sum.csv', encoding='utf-8')"
   ]
  },
  {
   "cell_type": "code",
   "execution_count": 61,
   "id": "269cae1f",
   "metadata": {
    "id": "IAXnSFHkWjo9"
   },
   "outputs": [
    {
     "ename": "ModuleNotFoundError",
     "evalue": "No module named 'openpyxl'",
     "output_type": "error",
     "traceback": [
      "\u001b[0;31m---------------------------------------------------------------------------\u001b[0m",
      "\u001b[0;31mModuleNotFoundError\u001b[0m                       Traceback (most recent call last)",
      "Input \u001b[0;32mIn [61]\u001b[0m, in \u001b[0;36m<cell line: 1>\u001b[0;34m()\u001b[0m\n\u001b[0;32m----> 1\u001b[0m \u001b[43mdf_sorted\u001b[49m\u001b[38;5;241;43m.\u001b[39;49m\u001b[43mto_excel\u001b[49m\u001b[43m(\u001b[49m\u001b[38;5;124;43m'\u001b[39;49m\u001b[38;5;124;43mstuff/academyawards_sum.xlsx\u001b[39;49m\u001b[38;5;124;43m'\u001b[39;49m\u001b[43m)\u001b[49m\n",
      "File \u001b[0;32m~/.local/lib/python3.8/site-packages/pandas/core/generic.py:2345\u001b[0m, in \u001b[0;36mNDFrame.to_excel\u001b[0;34m(self, excel_writer, sheet_name, na_rep, float_format, columns, header, index, index_label, startrow, startcol, engine, merge_cells, encoding, inf_rep, verbose, freeze_panes, storage_options)\u001b[0m\n\u001b[1;32m   2332\u001b[0m \u001b[38;5;28;01mfrom\u001b[39;00m \u001b[38;5;21;01mpandas\u001b[39;00m\u001b[38;5;21;01m.\u001b[39;00m\u001b[38;5;21;01mio\u001b[39;00m\u001b[38;5;21;01m.\u001b[39;00m\u001b[38;5;21;01mformats\u001b[39;00m\u001b[38;5;21;01m.\u001b[39;00m\u001b[38;5;21;01mexcel\u001b[39;00m \u001b[38;5;28;01mimport\u001b[39;00m ExcelFormatter\n\u001b[1;32m   2334\u001b[0m formatter \u001b[38;5;241m=\u001b[39m ExcelFormatter(\n\u001b[1;32m   2335\u001b[0m     df,\n\u001b[1;32m   2336\u001b[0m     na_rep\u001b[38;5;241m=\u001b[39mna_rep,\n\u001b[0;32m   (...)\u001b[0m\n\u001b[1;32m   2343\u001b[0m     inf_rep\u001b[38;5;241m=\u001b[39minf_rep,\n\u001b[1;32m   2344\u001b[0m )\n\u001b[0;32m-> 2345\u001b[0m \u001b[43mformatter\u001b[49m\u001b[38;5;241;43m.\u001b[39;49m\u001b[43mwrite\u001b[49m\u001b[43m(\u001b[49m\n\u001b[1;32m   2346\u001b[0m \u001b[43m    \u001b[49m\u001b[43mexcel_writer\u001b[49m\u001b[43m,\u001b[49m\n\u001b[1;32m   2347\u001b[0m \u001b[43m    \u001b[49m\u001b[43msheet_name\u001b[49m\u001b[38;5;241;43m=\u001b[39;49m\u001b[43msheet_name\u001b[49m\u001b[43m,\u001b[49m\n\u001b[1;32m   2348\u001b[0m \u001b[43m    \u001b[49m\u001b[43mstartrow\u001b[49m\u001b[38;5;241;43m=\u001b[39;49m\u001b[43mstartrow\u001b[49m\u001b[43m,\u001b[49m\n\u001b[1;32m   2349\u001b[0m \u001b[43m    \u001b[49m\u001b[43mstartcol\u001b[49m\u001b[38;5;241;43m=\u001b[39;49m\u001b[43mstartcol\u001b[49m\u001b[43m,\u001b[49m\n\u001b[1;32m   2350\u001b[0m \u001b[43m    \u001b[49m\u001b[43mfreeze_panes\u001b[49m\u001b[38;5;241;43m=\u001b[39;49m\u001b[43mfreeze_panes\u001b[49m\u001b[43m,\u001b[49m\n\u001b[1;32m   2351\u001b[0m \u001b[43m    \u001b[49m\u001b[43mengine\u001b[49m\u001b[38;5;241;43m=\u001b[39;49m\u001b[43mengine\u001b[49m\u001b[43m,\u001b[49m\n\u001b[1;32m   2352\u001b[0m \u001b[43m    \u001b[49m\u001b[43mstorage_options\u001b[49m\u001b[38;5;241;43m=\u001b[39;49m\u001b[43mstorage_options\u001b[49m\u001b[43m,\u001b[49m\n\u001b[1;32m   2353\u001b[0m \u001b[43m\u001b[49m\u001b[43m)\u001b[49m\n",
      "File \u001b[0;32m~/.local/lib/python3.8/site-packages/pandas/io/formats/excel.py:888\u001b[0m, in \u001b[0;36mExcelFormatter.write\u001b[0;34m(self, writer, sheet_name, startrow, startcol, freeze_panes, engine, storage_options)\u001b[0m\n\u001b[1;32m    884\u001b[0m     need_save \u001b[38;5;241m=\u001b[39m \u001b[38;5;28;01mFalse\u001b[39;00m\n\u001b[1;32m    885\u001b[0m \u001b[38;5;28;01melse\u001b[39;00m:\n\u001b[1;32m    886\u001b[0m     \u001b[38;5;66;03m# error: Cannot instantiate abstract class 'ExcelWriter' with abstract\u001b[39;00m\n\u001b[1;32m    887\u001b[0m     \u001b[38;5;66;03m# attributes 'engine', 'save', 'supported_extensions' and 'write_cells'\u001b[39;00m\n\u001b[0;32m--> 888\u001b[0m     writer \u001b[38;5;241m=\u001b[39m \u001b[43mExcelWriter\u001b[49m\u001b[43m(\u001b[49m\u001b[43m  \u001b[49m\u001b[38;5;66;43;03m# type: ignore[abstract]\u001b[39;49;00m\n\u001b[1;32m    889\u001b[0m \u001b[43m        \u001b[49m\u001b[43mwriter\u001b[49m\u001b[43m,\u001b[49m\u001b[43m \u001b[49m\u001b[43mengine\u001b[49m\u001b[38;5;241;43m=\u001b[39;49m\u001b[43mengine\u001b[49m\u001b[43m,\u001b[49m\u001b[43m \u001b[49m\u001b[43mstorage_options\u001b[49m\u001b[38;5;241;43m=\u001b[39;49m\u001b[43mstorage_options\u001b[49m\n\u001b[1;32m    890\u001b[0m \u001b[43m    \u001b[49m\u001b[43m)\u001b[49m\n\u001b[1;32m    891\u001b[0m     need_save \u001b[38;5;241m=\u001b[39m \u001b[38;5;28;01mTrue\u001b[39;00m\n\u001b[1;32m    893\u001b[0m \u001b[38;5;28;01mtry\u001b[39;00m:\n",
      "File \u001b[0;32m~/.local/lib/python3.8/site-packages/pandas/io/excel/_openpyxl.py:49\u001b[0m, in \u001b[0;36mOpenpyxlWriter.__init__\u001b[0;34m(self, path, engine, date_format, datetime_format, mode, storage_options, if_sheet_exists, engine_kwargs, **kwargs)\u001b[0m\n\u001b[1;32m     36\u001b[0m \u001b[38;5;28;01mdef\u001b[39;00m \u001b[38;5;21m__init__\u001b[39m(\n\u001b[1;32m     37\u001b[0m     \u001b[38;5;28mself\u001b[39m,\n\u001b[1;32m     38\u001b[0m     path,\n\u001b[0;32m   (...)\u001b[0m\n\u001b[1;32m     47\u001b[0m ):\n\u001b[1;32m     48\u001b[0m     \u001b[38;5;66;03m# Use the openpyxl module as the Excel writer.\u001b[39;00m\n\u001b[0;32m---> 49\u001b[0m     \u001b[38;5;28;01mfrom\u001b[39;00m \u001b[38;5;21;01mopenpyxl\u001b[39;00m\u001b[38;5;21;01m.\u001b[39;00m\u001b[38;5;21;01mworkbook\u001b[39;00m \u001b[38;5;28;01mimport\u001b[39;00m Workbook\n\u001b[1;32m     51\u001b[0m     engine_kwargs \u001b[38;5;241m=\u001b[39m combine_kwargs(engine_kwargs, kwargs)\n\u001b[1;32m     53\u001b[0m     \u001b[38;5;28msuper\u001b[39m()\u001b[38;5;241m.\u001b[39m\u001b[38;5;21m__init__\u001b[39m(\n\u001b[1;32m     54\u001b[0m         path,\n\u001b[1;32m     55\u001b[0m         mode\u001b[38;5;241m=\u001b[39mmode,\n\u001b[0;32m   (...)\u001b[0m\n\u001b[1;32m     58\u001b[0m         engine_kwargs\u001b[38;5;241m=\u001b[39mengine_kwargs,\n\u001b[1;32m     59\u001b[0m     )\n",
      "\u001b[0;31mModuleNotFoundError\u001b[0m: No module named 'openpyxl'"
     ]
    }
   ],
   "source": [
    "df_sorted.to_excel('stuff/academyawards_sum.xlsx')"
   ]
  },
  {
   "cell_type": "markdown",
   "id": "d38143c1",
   "metadata": {
    "id": "FP13dqU7Wjo-"
   },
   "source": [
    "You need to specify `index=False` if you want to prevent a standard index (0,1,2,3...) to be saved in the file as well."
   ]
  },
  {
   "cell_type": "code",
   "execution_count": 62,
   "id": "d6de120f",
   "metadata": {
    "id": "-eZWRlh7Wjo-"
   },
   "outputs": [],
   "source": [
    "df_sorted.to_csv('stuff/academyawards_sum.csv', encoding='utf-8', index=False)"
   ]
  },
  {
   "cell_type": "markdown",
   "id": "4c5e8a96",
   "metadata": {
    "id": "IR914S1_Wjo-"
   },
   "source": [
    "Open the contents in Excel, LibreOffice Calc, or another program to read spreadsheets!"
   ]
  },
  {
   "cell_type": "markdown",
   "id": "e6ca09e4",
   "metadata": {
    "id": "QoyJmpb3Wjo-"
   },
   "source": [
    "---"
   ]
  },
  {
   "cell_type": "markdown",
   "id": "8954afa2",
   "metadata": {
    "id": "rOUj79AmWjo-"
   },
   "source": [
    "# Data wrangling (example)\n",
    "\n",
    "We can take a look at another example. We consider a dataset of tweets from Elon Musk, SpaceX and Tesla founder, and ask the following questions:\n",
    "* When is Elon most actively tweeting?\n",
    "\n",
    "While this question is a bit trivial, it will allow us to learn how to wrangle data."
   ]
  },
  {
   "cell_type": "code",
   "execution_count": 63,
   "id": "a93fea35",
   "metadata": {
    "id": "jnR8cCCuWjo-"
   },
   "outputs": [],
   "source": [
    "import pandas as pd"
   ]
  },
  {
   "cell_type": "markdown",
   "id": "3d6efa8c",
   "metadata": {
    "id": "anjFRsrJWjo-"
   },
   "source": [
    "### Load dataset"
   ]
  },
  {
   "cell_type": "markdown",
   "id": "0aef0de6",
   "metadata": {
    "id": "AEkE4d1OWjo_"
   },
   "source": [
    "Let's read in a CSV file containing an export of [Elon Musk's tweets](https://twitter.com/elonmusk), exported from Twitter's API."
   ]
  },
  {
   "cell_type": "code",
   "execution_count": 64,
   "id": "c0c5a199",
   "metadata": {
    "id": "zRnIjOf3Wjo_"
   },
   "outputs": [],
   "source": [
    "dataset_path = 'data/elonmusk_tweets.csv'\n",
    "df = pd.read_csv(dataset_path, encoding='utf-8')"
   ]
  },
  {
   "cell_type": "code",
   "execution_count": 65,
   "id": "8b65edcc",
   "metadata": {
    "id": "yFVsux4FWjo_"
   },
   "outputs": [
    {
     "data": {
      "text/html": [
       "<div>\n",
       "<style scoped>\n",
       "    .dataframe tbody tr th:only-of-type {\n",
       "        vertical-align: middle;\n",
       "    }\n",
       "\n",
       "    .dataframe tbody tr th {\n",
       "        vertical-align: top;\n",
       "    }\n",
       "\n",
       "    .dataframe thead th {\n",
       "        text-align: right;\n",
       "    }\n",
       "</style>\n",
       "<table border=\"1\" class=\"dataframe\">\n",
       "  <thead>\n",
       "    <tr style=\"text-align: right;\">\n",
       "      <th></th>\n",
       "      <th>id</th>\n",
       "      <th>created_at</th>\n",
       "      <th>text</th>\n",
       "    </tr>\n",
       "  </thead>\n",
       "  <tbody>\n",
       "    <tr>\n",
       "      <th>0</th>\n",
       "      <td>849636868052275200</td>\n",
       "      <td>2017-04-05 14:56:29</td>\n",
       "      <td>And so the robots spared humanity ... https://...</td>\n",
       "    </tr>\n",
       "    <tr>\n",
       "      <th>1</th>\n",
       "      <td>848988730585096192</td>\n",
       "      <td>2017-04-03 20:01:01</td>\n",
       "      <td>@ForIn2020 @waltmossberg @mims @defcon_5 Exact...</td>\n",
       "    </tr>\n",
       "    <tr>\n",
       "      <th>2</th>\n",
       "      <td>848943072423497728</td>\n",
       "      <td>2017-04-03 16:59:35</td>\n",
       "      <td>@waltmossberg @mims @defcon_5 Et tu, Walt?</td>\n",
       "    </tr>\n",
       "    <tr>\n",
       "      <th>3</th>\n",
       "      <td>848935705057280001</td>\n",
       "      <td>2017-04-03 16:30:19</td>\n",
       "      <td>Stormy weather in Shortville ...</td>\n",
       "    </tr>\n",
       "    <tr>\n",
       "      <th>4</th>\n",
       "      <td>848416049573658624</td>\n",
       "      <td>2017-04-02 06:05:23</td>\n",
       "      <td>@DaveLeeBBC @verge Coal is dying due to nat ga...</td>\n",
       "    </tr>\n",
       "    <tr>\n",
       "      <th>...</th>\n",
       "      <td>...</td>\n",
       "      <td>...</td>\n",
       "      <td>...</td>\n",
       "    </tr>\n",
       "    <tr>\n",
       "      <th>2814</th>\n",
       "      <td>142881284019060736</td>\n",
       "      <td>2011-12-03 08:22:07</td>\n",
       "      <td>That was a total non sequitur btw</td>\n",
       "    </tr>\n",
       "    <tr>\n",
       "      <th>2815</th>\n",
       "      <td>142880871391838208</td>\n",
       "      <td>2011-12-03 08:20:28</td>\n",
       "      <td>Great Voltaire quote, arguably better than Twa...</td>\n",
       "    </tr>\n",
       "    <tr>\n",
       "      <th>2816</th>\n",
       "      <td>142188458125963264</td>\n",
       "      <td>2011-12-01 10:29:04</td>\n",
       "      <td>I made the volume on the Model S http://t.co/w...</td>\n",
       "    </tr>\n",
       "    <tr>\n",
       "      <th>2817</th>\n",
       "      <td>142179928203460608</td>\n",
       "      <td>2011-12-01 09:55:11</td>\n",
       "      <td>Went to Iceland on Sat to ride bumper cars on ...</td>\n",
       "    </tr>\n",
       "    <tr>\n",
       "      <th>2818</th>\n",
       "      <td>15434727182</td>\n",
       "      <td>2010-06-04 18:31:57</td>\n",
       "      <td>Please ignore prior tweets, as that was someon...</td>\n",
       "    </tr>\n",
       "  </tbody>\n",
       "</table>\n",
       "<p>2819 rows × 3 columns</p>\n",
       "</div>"
      ],
      "text/plain": [
       "                      id           created_at  \\\n",
       "0     849636868052275200  2017-04-05 14:56:29   \n",
       "1     848988730585096192  2017-04-03 20:01:01   \n",
       "2     848943072423497728  2017-04-03 16:59:35   \n",
       "3     848935705057280001  2017-04-03 16:30:19   \n",
       "4     848416049573658624  2017-04-02 06:05:23   \n",
       "...                  ...                  ...   \n",
       "2814  142881284019060736  2011-12-03 08:22:07   \n",
       "2815  142880871391838208  2011-12-03 08:20:28   \n",
       "2816  142188458125963264  2011-12-01 10:29:04   \n",
       "2817  142179928203460608  2011-12-01 09:55:11   \n",
       "2818         15434727182  2010-06-04 18:31:57   \n",
       "\n",
       "                                                   text  \n",
       "0     And so the robots spared humanity ... https://...  \n",
       "1     @ForIn2020 @waltmossberg @mims @defcon_5 Exact...  \n",
       "2            @waltmossberg @mims @defcon_5 Et tu, Walt?  \n",
       "3                      Stormy weather in Shortville ...  \n",
       "4     @DaveLeeBBC @verge Coal is dying due to nat ga...  \n",
       "...                                                 ...  \n",
       "2814                  That was a total non sequitur btw  \n",
       "2815  Great Voltaire quote, arguably better than Twa...  \n",
       "2816  I made the volume on the Model S http://t.co/w...  \n",
       "2817  Went to Iceland on Sat to ride bumper cars on ...  \n",
       "2818  Please ignore prior tweets, as that was someon...  \n",
       "\n",
       "[2819 rows x 3 columns]"
      ]
     },
     "execution_count": 65,
     "metadata": {},
     "output_type": "execute_result"
    }
   ],
   "source": [
    "df"
   ]
  },
  {
   "cell_type": "code",
   "execution_count": 66,
   "id": "0a4ebd1d",
   "metadata": {
    "id": "fqXEcft-WjpA"
   },
   "outputs": [
    {
     "name": "stdout",
     "output_type": "stream",
     "text": [
      "<class 'pandas.core.frame.DataFrame'>\n",
      "RangeIndex: 2819 entries, 0 to 2818\n",
      "Data columns (total 3 columns):\n",
      " #   Column      Non-Null Count  Dtype \n",
      "---  ------      --------------  ----- \n",
      " 0   id          2819 non-null   int64 \n",
      " 1   created_at  2819 non-null   object\n",
      " 2   text        2819 non-null   object\n",
      "dtypes: int64(1), object(2)\n",
      "memory usage: 66.2+ KB\n"
     ]
    }
   ],
   "source": [
    "df.info()"
   ]
  },
  {
   "cell_type": "markdown",
   "id": "fe30ce71",
   "metadata": {
    "id": "phSczVrXWjpA"
   },
   "source": [
    "Let's give this dataset a bit more structure:\n",
    "- The `id` column can be transformed into the dataframe's index, thus enabling us e.g. to select a tweet by id;\n",
    "- The column `created_at` contains a timestamp, thus it can easily be converted into a `datetime` value"
   ]
  },
  {
   "cell_type": "code",
   "execution_count": 67,
   "id": "d7fda283",
   "metadata": {
    "id": "EQgtlrIVWjpA"
   },
   "outputs": [],
   "source": [
    "df.set_index('id', drop=True, inplace=True)"
   ]
  },
  {
   "cell_type": "code",
   "execution_count": 68,
   "id": "ad4ceac7",
   "metadata": {
    "id": "ItrFglkNWjpB"
   },
   "outputs": [
    {
     "data": {
      "text/html": [
       "<div>\n",
       "<style scoped>\n",
       "    .dataframe tbody tr th:only-of-type {\n",
       "        vertical-align: middle;\n",
       "    }\n",
       "\n",
       "    .dataframe tbody tr th {\n",
       "        vertical-align: top;\n",
       "    }\n",
       "\n",
       "    .dataframe thead th {\n",
       "        text-align: right;\n",
       "    }\n",
       "</style>\n",
       "<table border=\"1\" class=\"dataframe\">\n",
       "  <thead>\n",
       "    <tr style=\"text-align: right;\">\n",
       "      <th></th>\n",
       "      <th>created_at</th>\n",
       "      <th>text</th>\n",
       "    </tr>\n",
       "    <tr>\n",
       "      <th>id</th>\n",
       "      <th></th>\n",
       "      <th></th>\n",
       "    </tr>\n",
       "  </thead>\n",
       "  <tbody>\n",
       "    <tr>\n",
       "      <th>849636868052275200</th>\n",
       "      <td>2017-04-05 14:56:29</td>\n",
       "      <td>And so the robots spared humanity ... https://...</td>\n",
       "    </tr>\n",
       "    <tr>\n",
       "      <th>848988730585096192</th>\n",
       "      <td>2017-04-03 20:01:01</td>\n",
       "      <td>@ForIn2020 @waltmossberg @mims @defcon_5 Exact...</td>\n",
       "    </tr>\n",
       "    <tr>\n",
       "      <th>848943072423497728</th>\n",
       "      <td>2017-04-03 16:59:35</td>\n",
       "      <td>@waltmossberg @mims @defcon_5 Et tu, Walt?</td>\n",
       "    </tr>\n",
       "    <tr>\n",
       "      <th>848935705057280001</th>\n",
       "      <td>2017-04-03 16:30:19</td>\n",
       "      <td>Stormy weather in Shortville ...</td>\n",
       "    </tr>\n",
       "    <tr>\n",
       "      <th>848416049573658624</th>\n",
       "      <td>2017-04-02 06:05:23</td>\n",
       "      <td>@DaveLeeBBC @verge Coal is dying due to nat ga...</td>\n",
       "    </tr>\n",
       "    <tr>\n",
       "      <th>...</th>\n",
       "      <td>...</td>\n",
       "      <td>...</td>\n",
       "    </tr>\n",
       "    <tr>\n",
       "      <th>142881284019060736</th>\n",
       "      <td>2011-12-03 08:22:07</td>\n",
       "      <td>That was a total non sequitur btw</td>\n",
       "    </tr>\n",
       "    <tr>\n",
       "      <th>142880871391838208</th>\n",
       "      <td>2011-12-03 08:20:28</td>\n",
       "      <td>Great Voltaire quote, arguably better than Twa...</td>\n",
       "    </tr>\n",
       "    <tr>\n",
       "      <th>142188458125963264</th>\n",
       "      <td>2011-12-01 10:29:04</td>\n",
       "      <td>I made the volume on the Model S http://t.co/w...</td>\n",
       "    </tr>\n",
       "    <tr>\n",
       "      <th>142179928203460608</th>\n",
       "      <td>2011-12-01 09:55:11</td>\n",
       "      <td>Went to Iceland on Sat to ride bumper cars on ...</td>\n",
       "    </tr>\n",
       "    <tr>\n",
       "      <th>15434727182</th>\n",
       "      <td>2010-06-04 18:31:57</td>\n",
       "      <td>Please ignore prior tweets, as that was someon...</td>\n",
       "    </tr>\n",
       "  </tbody>\n",
       "</table>\n",
       "<p>2819 rows × 2 columns</p>\n",
       "</div>"
      ],
      "text/plain": [
       "                             created_at  \\\n",
       "id                                        \n",
       "849636868052275200  2017-04-05 14:56:29   \n",
       "848988730585096192  2017-04-03 20:01:01   \n",
       "848943072423497728  2017-04-03 16:59:35   \n",
       "848935705057280001  2017-04-03 16:30:19   \n",
       "848416049573658624  2017-04-02 06:05:23   \n",
       "...                                 ...   \n",
       "142881284019060736  2011-12-03 08:22:07   \n",
       "142880871391838208  2011-12-03 08:20:28   \n",
       "142188458125963264  2011-12-01 10:29:04   \n",
       "142179928203460608  2011-12-01 09:55:11   \n",
       "15434727182         2010-06-04 18:31:57   \n",
       "\n",
       "                                                                 text  \n",
       "id                                                                     \n",
       "849636868052275200  And so the robots spared humanity ... https://...  \n",
       "848988730585096192  @ForIn2020 @waltmossberg @mims @defcon_5 Exact...  \n",
       "848943072423497728         @waltmossberg @mims @defcon_5 Et tu, Walt?  \n",
       "848935705057280001                   Stormy weather in Shortville ...  \n",
       "848416049573658624  @DaveLeeBBC @verge Coal is dying due to nat ga...  \n",
       "...                                                               ...  \n",
       "142881284019060736                  That was a total non sequitur btw  \n",
       "142880871391838208  Great Voltaire quote, arguably better than Twa...  \n",
       "142188458125963264  I made the volume on the Model S http://t.co/w...  \n",
       "142179928203460608  Went to Iceland on Sat to ride bumper cars on ...  \n",
       "15434727182         Please ignore prior tweets, as that was someon...  \n",
       "\n",
       "[2819 rows x 2 columns]"
      ]
     },
     "execution_count": 68,
     "metadata": {},
     "output_type": "execute_result"
    }
   ],
   "source": [
    "df"
   ]
  },
  {
   "cell_type": "code",
   "execution_count": 69,
   "id": "285913b5",
   "metadata": {
    "id": "oUmUplYpWjpB"
   },
   "outputs": [],
   "source": [
    "df.created_at = pd.to_datetime(df.created_at)"
   ]
  },
  {
   "cell_type": "code",
   "execution_count": 70,
   "id": "c632cf61",
   "metadata": {
    "id": "DjlGsSCKWjpB"
   },
   "outputs": [
    {
     "name": "stdout",
     "output_type": "stream",
     "text": [
      "<class 'pandas.core.frame.DataFrame'>\n",
      "Int64Index: 2819 entries, 849636868052275200 to 15434727182\n",
      "Data columns (total 2 columns):\n",
      " #   Column      Non-Null Count  Dtype         \n",
      "---  ------      --------------  -----         \n",
      " 0   created_at  2819 non-null   datetime64[ns]\n",
      " 1   text        2819 non-null   object        \n",
      "dtypes: datetime64[ns](1), object(1)\n",
      "memory usage: 66.1+ KB\n"
     ]
    }
   ],
   "source": [
    "df.info()"
   ]
  },
  {
   "cell_type": "code",
   "execution_count": 71,
   "id": "7e16e111",
   "metadata": {
    "id": "0DATHvnUWjpB"
   },
   "outputs": [
    {
     "data": {
      "text/html": [
       "<div>\n",
       "<style scoped>\n",
       "    .dataframe tbody tr th:only-of-type {\n",
       "        vertical-align: middle;\n",
       "    }\n",
       "\n",
       "    .dataframe tbody tr th {\n",
       "        vertical-align: top;\n",
       "    }\n",
       "\n",
       "    .dataframe thead th {\n",
       "        text-align: right;\n",
       "    }\n",
       "</style>\n",
       "<table border=\"1\" class=\"dataframe\">\n",
       "  <thead>\n",
       "    <tr style=\"text-align: right;\">\n",
       "      <th></th>\n",
       "      <th>created_at</th>\n",
       "      <th>text</th>\n",
       "    </tr>\n",
       "    <tr>\n",
       "      <th>id</th>\n",
       "      <th></th>\n",
       "      <th></th>\n",
       "    </tr>\n",
       "  </thead>\n",
       "  <tbody>\n",
       "    <tr>\n",
       "      <th>849636868052275200</th>\n",
       "      <td>2017-04-05 14:56:29</td>\n",
       "      <td>And so the robots spared humanity ... https://...</td>\n",
       "    </tr>\n",
       "    <tr>\n",
       "      <th>848988730585096192</th>\n",
       "      <td>2017-04-03 20:01:01</td>\n",
       "      <td>@ForIn2020 @waltmossberg @mims @defcon_5 Exact...</td>\n",
       "    </tr>\n",
       "    <tr>\n",
       "      <th>848943072423497728</th>\n",
       "      <td>2017-04-03 16:59:35</td>\n",
       "      <td>@waltmossberg @mims @defcon_5 Et tu, Walt?</td>\n",
       "    </tr>\n",
       "    <tr>\n",
       "      <th>848935705057280001</th>\n",
       "      <td>2017-04-03 16:30:19</td>\n",
       "      <td>Stormy weather in Shortville ...</td>\n",
       "    </tr>\n",
       "    <tr>\n",
       "      <th>848416049573658624</th>\n",
       "      <td>2017-04-02 06:05:23</td>\n",
       "      <td>@DaveLeeBBC @verge Coal is dying due to nat ga...</td>\n",
       "    </tr>\n",
       "    <tr>\n",
       "      <th>...</th>\n",
       "      <td>...</td>\n",
       "      <td>...</td>\n",
       "    </tr>\n",
       "    <tr>\n",
       "      <th>142881284019060736</th>\n",
       "      <td>2011-12-03 08:22:07</td>\n",
       "      <td>That was a total non sequitur btw</td>\n",
       "    </tr>\n",
       "    <tr>\n",
       "      <th>142880871391838208</th>\n",
       "      <td>2011-12-03 08:20:28</td>\n",
       "      <td>Great Voltaire quote, arguably better than Twa...</td>\n",
       "    </tr>\n",
       "    <tr>\n",
       "      <th>142188458125963264</th>\n",
       "      <td>2011-12-01 10:29:04</td>\n",
       "      <td>I made the volume on the Model S http://t.co/w...</td>\n",
       "    </tr>\n",
       "    <tr>\n",
       "      <th>142179928203460608</th>\n",
       "      <td>2011-12-01 09:55:11</td>\n",
       "      <td>Went to Iceland on Sat to ride bumper cars on ...</td>\n",
       "    </tr>\n",
       "    <tr>\n",
       "      <th>15434727182</th>\n",
       "      <td>2010-06-04 18:31:57</td>\n",
       "      <td>Please ignore prior tweets, as that was someon...</td>\n",
       "    </tr>\n",
       "  </tbody>\n",
       "</table>\n",
       "<p>2819 rows × 2 columns</p>\n",
       "</div>"
      ],
      "text/plain": [
       "                            created_at  \\\n",
       "id                                       \n",
       "849636868052275200 2017-04-05 14:56:29   \n",
       "848988730585096192 2017-04-03 20:01:01   \n",
       "848943072423497728 2017-04-03 16:59:35   \n",
       "848935705057280001 2017-04-03 16:30:19   \n",
       "848416049573658624 2017-04-02 06:05:23   \n",
       "...                                ...   \n",
       "142881284019060736 2011-12-03 08:22:07   \n",
       "142880871391838208 2011-12-03 08:20:28   \n",
       "142188458125963264 2011-12-01 10:29:04   \n",
       "142179928203460608 2011-12-01 09:55:11   \n",
       "15434727182        2010-06-04 18:31:57   \n",
       "\n",
       "                                                                 text  \n",
       "id                                                                     \n",
       "849636868052275200  And so the robots spared humanity ... https://...  \n",
       "848988730585096192  @ForIn2020 @waltmossberg @mims @defcon_5 Exact...  \n",
       "848943072423497728         @waltmossberg @mims @defcon_5 Et tu, Walt?  \n",
       "848935705057280001                   Stormy weather in Shortville ...  \n",
       "848416049573658624  @DaveLeeBBC @verge Coal is dying due to nat ga...  \n",
       "...                                                               ...  \n",
       "142881284019060736                  That was a total non sequitur btw  \n",
       "142880871391838208  Great Voltaire quote, arguably better than Twa...  \n",
       "142188458125963264  I made the volume on the Model S http://t.co/w...  \n",
       "142179928203460608  Went to Iceland on Sat to ride bumper cars on ...  \n",
       "15434727182         Please ignore prior tweets, as that was someon...  \n",
       "\n",
       "[2819 rows x 2 columns]"
      ]
     },
     "execution_count": 71,
     "metadata": {},
     "output_type": "execute_result"
    }
   ],
   "source": [
    "df"
   ]
  },
  {
   "cell_type": "markdown",
   "id": "fa68e2d0",
   "metadata": {
    "id": "95sY7ZPfWjpB"
   },
   "source": [
    "---"
   ]
  },
  {
   "cell_type": "markdown",
   "id": "c4fd7e57",
   "metadata": {
    "id": "fmw2eKvzWjpB"
   },
   "source": [
    "### Selection"
   ]
  },
  {
   "cell_type": "markdown",
   "id": "0abb2a64",
   "metadata": {
    "id": "8UfnizmJWjpC"
   },
   "source": [
    "#### Renaming columns"
   ]
  },
  {
   "cell_type": "markdown",
   "id": "ee282c51",
   "metadata": {
    "id": "EZBwFCwuWjpC"
   },
   "source": [
    "An operation on dataframes that you'll find yourself doing very often is to rename the columns. The first way of renaming columns is by manipulating directly the dataframe's index via the `columns` property."
   ]
  },
  {
   "cell_type": "code",
   "execution_count": 72,
   "id": "fcbefe33",
   "metadata": {
    "id": "WNyjLCyWWjpC"
   },
   "outputs": [
    {
     "data": {
      "text/plain": [
       "Index(['created_at', 'text'], dtype='object')"
      ]
     },
     "execution_count": 72,
     "metadata": {},
     "output_type": "execute_result"
    }
   ],
   "source": [
    "df.columns"
   ]
  },
  {
   "cell_type": "markdown",
   "id": "35ca4a2a",
   "metadata": {
    "id": "difr2WuLWjpC"
   },
   "source": [
    "We can change the column names by assigning to `columns` a list having as values the new column names.\n",
    "\n",
    "```{note}\n",
    "The size of the list and new number of colums must match!\n",
    "```"
   ]
  },
  {
   "cell_type": "code",
   "execution_count": 73,
   "id": "c333a4e7",
   "metadata": {
    "id": "U9rk9GMAWjpC"
   },
   "outputs": [],
   "source": [
    "# here we renamed the column `text` => `tweet`\n",
    "df.columns = ['created_at', 'tweet']"
   ]
  },
  {
   "cell_type": "code",
   "execution_count": 74,
   "id": "21320030",
   "metadata": {
    "id": "0N8Tp9lVWjpC"
   },
   "outputs": [
    {
     "data": {
      "text/html": [
       "<div>\n",
       "<style scoped>\n",
       "    .dataframe tbody tr th:only-of-type {\n",
       "        vertical-align: middle;\n",
       "    }\n",
       "\n",
       "    .dataframe tbody tr th {\n",
       "        vertical-align: top;\n",
       "    }\n",
       "\n",
       "    .dataframe thead th {\n",
       "        text-align: right;\n",
       "    }\n",
       "</style>\n",
       "<table border=\"1\" class=\"dataframe\">\n",
       "  <thead>\n",
       "    <tr style=\"text-align: right;\">\n",
       "      <th></th>\n",
       "      <th>created_at</th>\n",
       "      <th>tweet</th>\n",
       "    </tr>\n",
       "    <tr>\n",
       "      <th>id</th>\n",
       "      <th></th>\n",
       "      <th></th>\n",
       "    </tr>\n",
       "  </thead>\n",
       "  <tbody>\n",
       "    <tr>\n",
       "      <th>849636868052275200</th>\n",
       "      <td>2017-04-05 14:56:29</td>\n",
       "      <td>And so the robots spared humanity ... https://...</td>\n",
       "    </tr>\n",
       "    <tr>\n",
       "      <th>848988730585096192</th>\n",
       "      <td>2017-04-03 20:01:01</td>\n",
       "      <td>@ForIn2020 @waltmossberg @mims @defcon_5 Exact...</td>\n",
       "    </tr>\n",
       "    <tr>\n",
       "      <th>848943072423497728</th>\n",
       "      <td>2017-04-03 16:59:35</td>\n",
       "      <td>@waltmossberg @mims @defcon_5 Et tu, Walt?</td>\n",
       "    </tr>\n",
       "    <tr>\n",
       "      <th>848935705057280001</th>\n",
       "      <td>2017-04-03 16:30:19</td>\n",
       "      <td>Stormy weather in Shortville ...</td>\n",
       "    </tr>\n",
       "    <tr>\n",
       "      <th>848416049573658624</th>\n",
       "      <td>2017-04-02 06:05:23</td>\n",
       "      <td>@DaveLeeBBC @verge Coal is dying due to nat ga...</td>\n",
       "    </tr>\n",
       "  </tbody>\n",
       "</table>\n",
       "</div>"
      ],
      "text/plain": [
       "                            created_at  \\\n",
       "id                                       \n",
       "849636868052275200 2017-04-05 14:56:29   \n",
       "848988730585096192 2017-04-03 20:01:01   \n",
       "848943072423497728 2017-04-03 16:59:35   \n",
       "848935705057280001 2017-04-03 16:30:19   \n",
       "848416049573658624 2017-04-02 06:05:23   \n",
       "\n",
       "                                                                tweet  \n",
       "id                                                                     \n",
       "849636868052275200  And so the robots spared humanity ... https://...  \n",
       "848988730585096192  @ForIn2020 @waltmossberg @mims @defcon_5 Exact...  \n",
       "848943072423497728         @waltmossberg @mims @defcon_5 Et tu, Walt?  \n",
       "848935705057280001                   Stormy weather in Shortville ...  \n",
       "848416049573658624  @DaveLeeBBC @verge Coal is dying due to nat ga...  "
      ]
     },
     "execution_count": 74,
     "metadata": {},
     "output_type": "execute_result"
    }
   ],
   "source": [
    "# let's check that the change did take place\n",
    "df.head()"
   ]
  },
  {
   "cell_type": "markdown",
   "id": "49ce11fa",
   "metadata": {
    "id": "bvo42ui6WjpC"
   },
   "source": [
    "The second way of renaming colums is to use the method `rename()` of a dataframe. The `columns` parameter takes a dictionary of mappings between old and new column names.\n",
    "\n",
    "```python\n",
    "mapping_dict = {\n",
    "    \"old_column_name\": \"new_column_name\"\n",
    "}\n",
    "```"
   ]
  },
  {
   "cell_type": "code",
   "execution_count": 75,
   "id": "39d6f2b7",
   "metadata": {
    "id": "uWwroMmuWjpD"
   },
   "outputs": [],
   "source": [
    "# let's change column `tweet` => `text`\n",
    "df = df.rename(columns={\"tweet\": \"text\"})"
   ]
  },
  {
   "cell_type": "code",
   "execution_count": 76,
   "id": "de917889",
   "metadata": {
    "id": "V9du3B6LWjpD"
   },
   "outputs": [
    {
     "data": {
      "text/html": [
       "<div>\n",
       "<style scoped>\n",
       "    .dataframe tbody tr th:only-of-type {\n",
       "        vertical-align: middle;\n",
       "    }\n",
       "\n",
       "    .dataframe tbody tr th {\n",
       "        vertical-align: top;\n",
       "    }\n",
       "\n",
       "    .dataframe thead th {\n",
       "        text-align: right;\n",
       "    }\n",
       "</style>\n",
       "<table border=\"1\" class=\"dataframe\">\n",
       "  <thead>\n",
       "    <tr style=\"text-align: right;\">\n",
       "      <th></th>\n",
       "      <th>created_at</th>\n",
       "      <th>text</th>\n",
       "    </tr>\n",
       "    <tr>\n",
       "      <th>id</th>\n",
       "      <th></th>\n",
       "      <th></th>\n",
       "    </tr>\n",
       "  </thead>\n",
       "  <tbody>\n",
       "    <tr>\n",
       "      <th>849636868052275200</th>\n",
       "      <td>2017-04-05 14:56:29</td>\n",
       "      <td>And so the robots spared humanity ... https://...</td>\n",
       "    </tr>\n",
       "    <tr>\n",
       "      <th>848988730585096192</th>\n",
       "      <td>2017-04-03 20:01:01</td>\n",
       "      <td>@ForIn2020 @waltmossberg @mims @defcon_5 Exact...</td>\n",
       "    </tr>\n",
       "    <tr>\n",
       "      <th>848943072423497728</th>\n",
       "      <td>2017-04-03 16:59:35</td>\n",
       "      <td>@waltmossberg @mims @defcon_5 Et tu, Walt?</td>\n",
       "    </tr>\n",
       "    <tr>\n",
       "      <th>848935705057280001</th>\n",
       "      <td>2017-04-03 16:30:19</td>\n",
       "      <td>Stormy weather in Shortville ...</td>\n",
       "    </tr>\n",
       "    <tr>\n",
       "      <th>848416049573658624</th>\n",
       "      <td>2017-04-02 06:05:23</td>\n",
       "      <td>@DaveLeeBBC @verge Coal is dying due to nat ga...</td>\n",
       "    </tr>\n",
       "  </tbody>\n",
       "</table>\n",
       "</div>"
      ],
      "text/plain": [
       "                            created_at  \\\n",
       "id                                       \n",
       "849636868052275200 2017-04-05 14:56:29   \n",
       "848988730585096192 2017-04-03 20:01:01   \n",
       "848943072423497728 2017-04-03 16:59:35   \n",
       "848935705057280001 2017-04-03 16:30:19   \n",
       "848416049573658624 2017-04-02 06:05:23   \n",
       "\n",
       "                                                                 text  \n",
       "id                                                                     \n",
       "849636868052275200  And so the robots spared humanity ... https://...  \n",
       "848988730585096192  @ForIn2020 @waltmossberg @mims @defcon_5 Exact...  \n",
       "848943072423497728         @waltmossberg @mims @defcon_5 Et tu, Walt?  \n",
       "848935705057280001                   Stormy weather in Shortville ...  \n",
       "848416049573658624  @DaveLeeBBC @verge Coal is dying due to nat ga...  "
      ]
     },
     "execution_count": 76,
     "metadata": {},
     "output_type": "execute_result"
    }
   ],
   "source": [
    "df.head()"
   ]
  },
  {
   "cell_type": "markdown",
   "id": "7e7ca43e",
   "metadata": {
    "id": "kX1Clp-LWjpD"
   },
   "source": [
    "**Question**: in which cases is it more convenient to use the second method over the first?"
   ]
  },
  {
   "cell_type": "markdown",
   "id": "8fa38e38",
   "metadata": {
    "id": "SSyzgI-KWjpD"
   },
   "source": [
    "#### Selecting columns"
   ]
  },
  {
   "cell_type": "code",
   "execution_count": 77,
   "id": "97e8c842",
   "metadata": {
    "id": "xgADy6B_WjpD"
   },
   "outputs": [
    {
     "data": {
      "text/plain": [
       "id\n",
       "849636868052275200   2017-04-05 14:56:29\n",
       "848988730585096192   2017-04-03 20:01:01\n",
       "848943072423497728   2017-04-03 16:59:35\n",
       "848935705057280001   2017-04-03 16:30:19\n",
       "848416049573658624   2017-04-02 06:05:23\n",
       "Name: created_at, dtype: datetime64[ns]"
      ]
     },
     "execution_count": 77,
     "metadata": {},
     "output_type": "execute_result"
    }
   ],
   "source": [
    "# this selects one single column and returns as a Series\n",
    "df[\"created_at\"].head()"
   ]
  },
  {
   "cell_type": "code",
   "execution_count": 78,
   "id": "09486b47",
   "metadata": {
    "id": "2Ts8-demWjpD"
   },
   "outputs": [
    {
     "data": {
      "text/plain": [
       "pandas.core.series.Series"
      ]
     },
     "execution_count": 78,
     "metadata": {},
     "output_type": "execute_result"
    }
   ],
   "source": [
    "type(df[\"created_at\"])"
   ]
  },
  {
   "cell_type": "code",
   "execution_count": 79,
   "id": "27f0c287",
   "metadata": {
    "id": "HA8veWZYWjpD"
   },
   "outputs": [
    {
     "data": {
      "text/html": [
       "<div>\n",
       "<style scoped>\n",
       "    .dataframe tbody tr th:only-of-type {\n",
       "        vertical-align: middle;\n",
       "    }\n",
       "\n",
       "    .dataframe tbody tr th {\n",
       "        vertical-align: top;\n",
       "    }\n",
       "\n",
       "    .dataframe thead th {\n",
       "        text-align: right;\n",
       "    }\n",
       "</style>\n",
       "<table border=\"1\" class=\"dataframe\">\n",
       "  <thead>\n",
       "    <tr style=\"text-align: right;\">\n",
       "      <th></th>\n",
       "      <th>created_at</th>\n",
       "    </tr>\n",
       "    <tr>\n",
       "      <th>id</th>\n",
       "      <th></th>\n",
       "    </tr>\n",
       "  </thead>\n",
       "  <tbody>\n",
       "    <tr>\n",
       "      <th>849636868052275200</th>\n",
       "      <td>2017-04-05 14:56:29</td>\n",
       "    </tr>\n",
       "    <tr>\n",
       "      <th>848988730585096192</th>\n",
       "      <td>2017-04-03 20:01:01</td>\n",
       "    </tr>\n",
       "    <tr>\n",
       "      <th>848943072423497728</th>\n",
       "      <td>2017-04-03 16:59:35</td>\n",
       "    </tr>\n",
       "    <tr>\n",
       "      <th>848935705057280001</th>\n",
       "      <td>2017-04-03 16:30:19</td>\n",
       "    </tr>\n",
       "    <tr>\n",
       "      <th>848416049573658624</th>\n",
       "      <td>2017-04-02 06:05:23</td>\n",
       "    </tr>\n",
       "  </tbody>\n",
       "</table>\n",
       "</div>"
      ],
      "text/plain": [
       "                            created_at\n",
       "id                                    \n",
       "849636868052275200 2017-04-05 14:56:29\n",
       "848988730585096192 2017-04-03 20:01:01\n",
       "848943072423497728 2017-04-03 16:59:35\n",
       "848935705057280001 2017-04-03 16:30:19\n",
       "848416049573658624 2017-04-02 06:05:23"
      ]
     },
     "execution_count": 79,
     "metadata": {},
     "output_type": "execute_result"
    }
   ],
   "source": [
    "# whereas this syntax selects one single column\n",
    "# but returns a Dataframe\n",
    "df[[\"created_at\"]].head()"
   ]
  },
  {
   "cell_type": "code",
   "execution_count": 80,
   "id": "3bfe2854",
   "metadata": {
    "id": "VPanFWGVWjpE"
   },
   "outputs": [
    {
     "data": {
      "text/plain": [
       "pandas.core.frame.DataFrame"
      ]
     },
     "execution_count": 80,
     "metadata": {},
     "output_type": "execute_result"
    }
   ],
   "source": [
    "type(df[[\"created_at\"]])"
   ]
  },
  {
   "cell_type": "markdown",
   "id": "955a28be",
   "metadata": {
    "id": "5JVkvqrMWjpF"
   },
   "source": [
    "####  Selecting rows\n",
    "\n",
    "Filtering rows in `pandas` is done by means of `[ ]`, which can contain the row number as well as a condition for the selection."
   ]
  },
  {
   "cell_type": "code",
   "execution_count": 81,
   "id": "17a6ecfa",
   "metadata": {
    "id": "kHmk-0MNWjpF"
   },
   "outputs": [
    {
     "data": {
      "text/html": [
       "<div>\n",
       "<style scoped>\n",
       "    .dataframe tbody tr th:only-of-type {\n",
       "        vertical-align: middle;\n",
       "    }\n",
       "\n",
       "    .dataframe tbody tr th {\n",
       "        vertical-align: top;\n",
       "    }\n",
       "\n",
       "    .dataframe thead th {\n",
       "        text-align: right;\n",
       "    }\n",
       "</style>\n",
       "<table border=\"1\" class=\"dataframe\">\n",
       "  <thead>\n",
       "    <tr style=\"text-align: right;\">\n",
       "      <th></th>\n",
       "      <th>created_at</th>\n",
       "      <th>text</th>\n",
       "    </tr>\n",
       "    <tr>\n",
       "      <th>id</th>\n",
       "      <th></th>\n",
       "      <th></th>\n",
       "    </tr>\n",
       "  </thead>\n",
       "  <tbody>\n",
       "    <tr>\n",
       "      <th>849636868052275200</th>\n",
       "      <td>2017-04-05 14:56:29</td>\n",
       "      <td>And so the robots spared humanity ... https://...</td>\n",
       "    </tr>\n",
       "    <tr>\n",
       "      <th>848988730585096192</th>\n",
       "      <td>2017-04-03 20:01:01</td>\n",
       "      <td>@ForIn2020 @waltmossberg @mims @defcon_5 Exact...</td>\n",
       "    </tr>\n",
       "  </tbody>\n",
       "</table>\n",
       "</div>"
      ],
      "text/plain": [
       "                            created_at  \\\n",
       "id                                       \n",
       "849636868052275200 2017-04-05 14:56:29   \n",
       "848988730585096192 2017-04-03 20:01:01   \n",
       "\n",
       "                                                                 text  \n",
       "id                                                                     \n",
       "849636868052275200  And so the robots spared humanity ... https://...  \n",
       "848988730585096192  @ForIn2020 @waltmossberg @mims @defcon_5 Exact...  "
      ]
     },
     "execution_count": 81,
     "metadata": {},
     "output_type": "execute_result"
    }
   ],
   "source": [
    "df[0:2]"
   ]
  },
  {
   "cell_type": "markdown",
   "id": "8c843a8a",
   "metadata": {
    "id": "y5WF65O6WjpF"
   },
   "source": [
    "### Transformation\n",
    "\n",
    "\n",
    "The two main functions used to manipulate and transform values in a dataframe are:\n",
    "- `.map()` (on Series only!)\n",
    "- `.apply()`\n",
    "\n",
    "In this section we'll be using both to enrich our datasets with useful information (useful for exploration, for later visualizations, etc.)."
   ]
  },
  {
   "cell_type": "markdown",
   "id": "62b852f3",
   "metadata": {
    "id": "S0vPCd_IWjpF"
   },
   "source": [
    "#### Add link to original tweet"
   ]
  },
  {
   "cell_type": "markdown",
   "id": "ad3df039",
   "metadata": {
    "id": "BOeYNz3uWjpF"
   },
   "source": [
    "The `map()` method can be called on a column, as well as on the dataframe's index.\n",
    "\n",
    "When passed as a parameter to `map`, an 'anonymous' lambda function `lambda` can be used to transform any value from that column into another one."
   ]
  },
  {
   "cell_type": "code",
   "execution_count": 82,
   "id": "3fcd88f3",
   "metadata": {
    "id": "WUNAxlZ3WjpF"
   },
   "outputs": [],
   "source": [
    "df['tweet_link'] = df.index.map(lambda x: f'https://twitter.com/i/web/status/{x}')"
   ]
  },
  {
   "cell_type": "markdown",
   "id": "851829c1",
   "metadata": {
    "id": "DMWT4GB3WjpF"
   },
   "source": [
    "Or, maybe it is easier with a list comprehension:"
   ]
  },
  {
   "cell_type": "code",
   "execution_count": 83,
   "id": "a1641f32",
   "metadata": {
    "id": "dFZtLGXPWjpF"
   },
   "outputs": [],
   "source": [
    "df['tweet_link'] = [f'https://twitter.com/i/web/status/{x}' for x in df.index]"
   ]
  },
  {
   "cell_type": "code",
   "execution_count": 84,
   "id": "f357527a",
   "metadata": {
    "id": "qzr3BfiZWjpG"
   },
   "outputs": [
    {
     "data": {
      "text/html": [
       "<div>\n",
       "<style scoped>\n",
       "    .dataframe tbody tr th:only-of-type {\n",
       "        vertical-align: middle;\n",
       "    }\n",
       "\n",
       "    .dataframe tbody tr th {\n",
       "        vertical-align: top;\n",
       "    }\n",
       "\n",
       "    .dataframe thead th {\n",
       "        text-align: right;\n",
       "    }\n",
       "</style>\n",
       "<table border=\"1\" class=\"dataframe\">\n",
       "  <thead>\n",
       "    <tr style=\"text-align: right;\">\n",
       "      <th></th>\n",
       "      <th>created_at</th>\n",
       "      <th>text</th>\n",
       "      <th>tweet_link</th>\n",
       "    </tr>\n",
       "    <tr>\n",
       "      <th>id</th>\n",
       "      <th></th>\n",
       "      <th></th>\n",
       "      <th></th>\n",
       "    </tr>\n",
       "  </thead>\n",
       "  <tbody>\n",
       "    <tr>\n",
       "      <th>849636868052275200</th>\n",
       "      <td>2017-04-05 14:56:29</td>\n",
       "      <td>And so the robots spared humanity ... https://...</td>\n",
       "      <td>https://twitter.com/i/web/status/8496368680522...</td>\n",
       "    </tr>\n",
       "    <tr>\n",
       "      <th>848988730585096192</th>\n",
       "      <td>2017-04-03 20:01:01</td>\n",
       "      <td>@ForIn2020 @waltmossberg @mims @defcon_5 Exact...</td>\n",
       "      <td>https://twitter.com/i/web/status/8489887305850...</td>\n",
       "    </tr>\n",
       "    <tr>\n",
       "      <th>848943072423497728</th>\n",
       "      <td>2017-04-03 16:59:35</td>\n",
       "      <td>@waltmossberg @mims @defcon_5 Et tu, Walt?</td>\n",
       "      <td>https://twitter.com/i/web/status/8489430724234...</td>\n",
       "    </tr>\n",
       "    <tr>\n",
       "      <th>848935705057280001</th>\n",
       "      <td>2017-04-03 16:30:19</td>\n",
       "      <td>Stormy weather in Shortville ...</td>\n",
       "      <td>https://twitter.com/i/web/status/8489357050572...</td>\n",
       "    </tr>\n",
       "    <tr>\n",
       "      <th>848416049573658624</th>\n",
       "      <td>2017-04-02 06:05:23</td>\n",
       "      <td>@DaveLeeBBC @verge Coal is dying due to nat ga...</td>\n",
       "      <td>https://twitter.com/i/web/status/8484160495736...</td>\n",
       "    </tr>\n",
       "    <tr>\n",
       "      <th>...</th>\n",
       "      <td>...</td>\n",
       "      <td>...</td>\n",
       "      <td>...</td>\n",
       "    </tr>\n",
       "    <tr>\n",
       "      <th>142881284019060736</th>\n",
       "      <td>2011-12-03 08:22:07</td>\n",
       "      <td>That was a total non sequitur btw</td>\n",
       "      <td>https://twitter.com/i/web/status/1428812840190...</td>\n",
       "    </tr>\n",
       "    <tr>\n",
       "      <th>142880871391838208</th>\n",
       "      <td>2011-12-03 08:20:28</td>\n",
       "      <td>Great Voltaire quote, arguably better than Twa...</td>\n",
       "      <td>https://twitter.com/i/web/status/1428808713918...</td>\n",
       "    </tr>\n",
       "    <tr>\n",
       "      <th>142188458125963264</th>\n",
       "      <td>2011-12-01 10:29:04</td>\n",
       "      <td>I made the volume on the Model S http://t.co/w...</td>\n",
       "      <td>https://twitter.com/i/web/status/1421884581259...</td>\n",
       "    </tr>\n",
       "    <tr>\n",
       "      <th>142179928203460608</th>\n",
       "      <td>2011-12-01 09:55:11</td>\n",
       "      <td>Went to Iceland on Sat to ride bumper cars on ...</td>\n",
       "      <td>https://twitter.com/i/web/status/1421799282034...</td>\n",
       "    </tr>\n",
       "    <tr>\n",
       "      <th>15434727182</th>\n",
       "      <td>2010-06-04 18:31:57</td>\n",
       "      <td>Please ignore prior tweets, as that was someon...</td>\n",
       "      <td>https://twitter.com/i/web/status/15434727182</td>\n",
       "    </tr>\n",
       "  </tbody>\n",
       "</table>\n",
       "<p>2819 rows × 3 columns</p>\n",
       "</div>"
      ],
      "text/plain": [
       "                            created_at  \\\n",
       "id                                       \n",
       "849636868052275200 2017-04-05 14:56:29   \n",
       "848988730585096192 2017-04-03 20:01:01   \n",
       "848943072423497728 2017-04-03 16:59:35   \n",
       "848935705057280001 2017-04-03 16:30:19   \n",
       "848416049573658624 2017-04-02 06:05:23   \n",
       "...                                ...   \n",
       "142881284019060736 2011-12-03 08:22:07   \n",
       "142880871391838208 2011-12-03 08:20:28   \n",
       "142188458125963264 2011-12-01 10:29:04   \n",
       "142179928203460608 2011-12-01 09:55:11   \n",
       "15434727182        2010-06-04 18:31:57   \n",
       "\n",
       "                                                                 text  \\\n",
       "id                                                                      \n",
       "849636868052275200  And so the robots spared humanity ... https://...   \n",
       "848988730585096192  @ForIn2020 @waltmossberg @mims @defcon_5 Exact...   \n",
       "848943072423497728         @waltmossberg @mims @defcon_5 Et tu, Walt?   \n",
       "848935705057280001                   Stormy weather in Shortville ...   \n",
       "848416049573658624  @DaveLeeBBC @verge Coal is dying due to nat ga...   \n",
       "...                                                               ...   \n",
       "142881284019060736                  That was a total non sequitur btw   \n",
       "142880871391838208  Great Voltaire quote, arguably better than Twa...   \n",
       "142188458125963264  I made the volume on the Model S http://t.co/w...   \n",
       "142179928203460608  Went to Iceland on Sat to ride bumper cars on ...   \n",
       "15434727182         Please ignore prior tweets, as that was someon...   \n",
       "\n",
       "                                                           tweet_link  \n",
       "id                                                                     \n",
       "849636868052275200  https://twitter.com/i/web/status/8496368680522...  \n",
       "848988730585096192  https://twitter.com/i/web/status/8489887305850...  \n",
       "848943072423497728  https://twitter.com/i/web/status/8489430724234...  \n",
       "848935705057280001  https://twitter.com/i/web/status/8489357050572...  \n",
       "848416049573658624  https://twitter.com/i/web/status/8484160495736...  \n",
       "...                                                               ...  \n",
       "142881284019060736  https://twitter.com/i/web/status/1428812840190...  \n",
       "142880871391838208  https://twitter.com/i/web/status/1428808713918...  \n",
       "142188458125963264  https://twitter.com/i/web/status/1421884581259...  \n",
       "142179928203460608  https://twitter.com/i/web/status/1421799282034...  \n",
       "15434727182              https://twitter.com/i/web/status/15434727182  \n",
       "\n",
       "[2819 rows x 3 columns]"
      ]
     },
     "execution_count": 84,
     "metadata": {},
     "output_type": "execute_result"
    }
   ],
   "source": [
    "df"
   ]
  },
  {
   "cell_type": "markdown",
   "id": "0cfaeb29",
   "metadata": {
    "id": "4DGRRkkGWjpG"
   },
   "source": [
    "#### Add colums with mentions"
   ]
  },
  {
   "cell_type": "code",
   "execution_count": 85,
   "id": "21d15e29",
   "metadata": {
    "id": "Cn4Hwl_dWjpG"
   },
   "outputs": [],
   "source": [
    "import re\n",
    "\n",
    "def find_mentions(tweet_text):\n",
    "    \"\"\"\n",
    "    Find all @ mentions in a tweet and \n",
    "    return them as a list.\n",
    "    \"\"\"\n",
    "    \n",
    "    regex = r'@[a-zA-Z0-9_]{1,15}'\n",
    "    mentions = re.findall(regex, tweet_text)\n",
    "    \n",
    "    return mentions"
   ]
  },
  {
   "cell_type": "code",
   "execution_count": 86,
   "id": "afe2ba46",
   "metadata": {
    "id": "i7zFdmncWjpG"
   },
   "outputs": [],
   "source": [
    "df['tweet_mentions'] = df.text.apply(find_mentions)"
   ]
  },
  {
   "cell_type": "code",
   "execution_count": 87,
   "id": "cc8dd027",
   "metadata": {
    "id": "6S0dTdeCWjpG"
   },
   "outputs": [],
   "source": [
    "df['n_mentions'] = df.tweet_mentions.apply(len)"
   ]
  },
  {
   "cell_type": "code",
   "execution_count": 88,
   "id": "b1265236",
   "metadata": {
    "id": "1n8B7SbfWjpG"
   },
   "outputs": [
    {
     "data": {
      "text/html": [
       "<div>\n",
       "<style scoped>\n",
       "    .dataframe tbody tr th:only-of-type {\n",
       "        vertical-align: middle;\n",
       "    }\n",
       "\n",
       "    .dataframe tbody tr th {\n",
       "        vertical-align: top;\n",
       "    }\n",
       "\n",
       "    .dataframe thead th {\n",
       "        text-align: right;\n",
       "    }\n",
       "</style>\n",
       "<table border=\"1\" class=\"dataframe\">\n",
       "  <thead>\n",
       "    <tr style=\"text-align: right;\">\n",
       "      <th></th>\n",
       "      <th>created_at</th>\n",
       "      <th>text</th>\n",
       "      <th>tweet_link</th>\n",
       "      <th>tweet_mentions</th>\n",
       "      <th>n_mentions</th>\n",
       "    </tr>\n",
       "    <tr>\n",
       "      <th>id</th>\n",
       "      <th></th>\n",
       "      <th></th>\n",
       "      <th></th>\n",
       "      <th></th>\n",
       "      <th></th>\n",
       "    </tr>\n",
       "  </thead>\n",
       "  <tbody>\n",
       "    <tr>\n",
       "      <th>849636868052275200</th>\n",
       "      <td>2017-04-05 14:56:29</td>\n",
       "      <td>And so the robots spared humanity ... https://...</td>\n",
       "      <td>https://twitter.com/i/web/status/8496368680522...</td>\n",
       "      <td>[]</td>\n",
       "      <td>0</td>\n",
       "    </tr>\n",
       "    <tr>\n",
       "      <th>848988730585096192</th>\n",
       "      <td>2017-04-03 20:01:01</td>\n",
       "      <td>@ForIn2020 @waltmossberg @mims @defcon_5 Exact...</td>\n",
       "      <td>https://twitter.com/i/web/status/8489887305850...</td>\n",
       "      <td>[@ForIn2020, @waltmossberg, @mims, @defcon_5]</td>\n",
       "      <td>4</td>\n",
       "    </tr>\n",
       "    <tr>\n",
       "      <th>848943072423497728</th>\n",
       "      <td>2017-04-03 16:59:35</td>\n",
       "      <td>@waltmossberg @mims @defcon_5 Et tu, Walt?</td>\n",
       "      <td>https://twitter.com/i/web/status/8489430724234...</td>\n",
       "      <td>[@waltmossberg, @mims, @defcon_5]</td>\n",
       "      <td>3</td>\n",
       "    </tr>\n",
       "    <tr>\n",
       "      <th>848935705057280001</th>\n",
       "      <td>2017-04-03 16:30:19</td>\n",
       "      <td>Stormy weather in Shortville ...</td>\n",
       "      <td>https://twitter.com/i/web/status/8489357050572...</td>\n",
       "      <td>[]</td>\n",
       "      <td>0</td>\n",
       "    </tr>\n",
       "    <tr>\n",
       "      <th>848416049573658624</th>\n",
       "      <td>2017-04-02 06:05:23</td>\n",
       "      <td>@DaveLeeBBC @verge Coal is dying due to nat ga...</td>\n",
       "      <td>https://twitter.com/i/web/status/8484160495736...</td>\n",
       "      <td>[@DaveLeeBBC, @verge]</td>\n",
       "      <td>2</td>\n",
       "    </tr>\n",
       "  </tbody>\n",
       "</table>\n",
       "</div>"
      ],
      "text/plain": [
       "                            created_at  \\\n",
       "id                                       \n",
       "849636868052275200 2017-04-05 14:56:29   \n",
       "848988730585096192 2017-04-03 20:01:01   \n",
       "848943072423497728 2017-04-03 16:59:35   \n",
       "848935705057280001 2017-04-03 16:30:19   \n",
       "848416049573658624 2017-04-02 06:05:23   \n",
       "\n",
       "                                                                 text  \\\n",
       "id                                                                      \n",
       "849636868052275200  And so the robots spared humanity ... https://...   \n",
       "848988730585096192  @ForIn2020 @waltmossberg @mims @defcon_5 Exact...   \n",
       "848943072423497728         @waltmossberg @mims @defcon_5 Et tu, Walt?   \n",
       "848935705057280001                   Stormy weather in Shortville ...   \n",
       "848416049573658624  @DaveLeeBBC @verge Coal is dying due to nat ga...   \n",
       "\n",
       "                                                           tweet_link  \\\n",
       "id                                                                      \n",
       "849636868052275200  https://twitter.com/i/web/status/8496368680522...   \n",
       "848988730585096192  https://twitter.com/i/web/status/8489887305850...   \n",
       "848943072423497728  https://twitter.com/i/web/status/8489430724234...   \n",
       "848935705057280001  https://twitter.com/i/web/status/8489357050572...   \n",
       "848416049573658624  https://twitter.com/i/web/status/8484160495736...   \n",
       "\n",
       "                                                   tweet_mentions  n_mentions  \n",
       "id                                                                             \n",
       "849636868052275200                                             []           0  \n",
       "848988730585096192  [@ForIn2020, @waltmossberg, @mims, @defcon_5]           4  \n",
       "848943072423497728              [@waltmossberg, @mims, @defcon_5]           3  \n",
       "848935705057280001                                             []           0  \n",
       "848416049573658624                          [@DaveLeeBBC, @verge]           2  "
      ]
     },
     "execution_count": 88,
     "metadata": {},
     "output_type": "execute_result"
    }
   ],
   "source": [
    "df.head()"
   ]
  },
  {
   "cell_type": "markdown",
   "id": "f1e31508",
   "metadata": {
    "id": "SxVP2smVWjpG"
   },
   "source": [
    "#### Add column with week day and hour"
   ]
  },
  {
   "cell_type": "code",
   "execution_count": 89,
   "id": "96a0d50e",
   "metadata": {
    "id": "YkzyAnI7WjpH"
   },
   "outputs": [],
   "source": [
    "def day_of_week(t):\n",
    "    \"\"\"\n",
    "    Get the week day name from a week day integer.\n",
    "    \"\"\"\n",
    "    \n",
    "    if t == 0:\n",
    "        return \"Monday\"\n",
    "    elif t == 1:\n",
    "        return \"Tuesday\"\n",
    "    elif t == 2:\n",
    "        return \"Wednesday\"\n",
    "    elif t == 3:\n",
    "        return \"Thursday\"\n",
    "    elif t == 4:\n",
    "        return \"Friday\"\n",
    "    elif t == 5:\n",
    "        return \"Saturday\"\n",
    "    elif t == 6:\n",
    "        return \"Sunday\""
   ]
  },
  {
   "cell_type": "code",
   "execution_count": 90,
   "id": "441e1a94",
   "metadata": {
    "id": "sWoQi-cTWjpH"
   },
   "outputs": [],
   "source": [
    "df[\"week_day\"] = df.created_at.dt.weekday"
   ]
  },
  {
   "cell_type": "code",
   "execution_count": 91,
   "id": "1a17b39f",
   "metadata": {
    "id": "zuaqzrMMWjpH"
   },
   "outputs": [],
   "source": [
    "df[\"week_day_name\"] = df[\"week_day\"].apply(day_of_week)"
   ]
  },
  {
   "cell_type": "markdown",
   "id": "ed399e0d",
   "metadata": {
    "id": "69U8rYV9WjpH"
   },
   "source": [
    "Or, there is a built-in function in Pandas that gives back the day name:"
   ]
  },
  {
   "cell_type": "code",
   "execution_count": 92,
   "id": "e45ba359",
   "metadata": {
    "id": "atR-yXkJWjpH"
   },
   "outputs": [],
   "source": [
    "df[\"week_day_name\"] = df.created_at.dt.day_name()"
   ]
  },
  {
   "cell_type": "code",
   "execution_count": 93,
   "id": "7334e541",
   "metadata": {
    "id": "wEpNKfF_WjpH"
   },
   "outputs": [
    {
     "data": {
      "text/html": [
       "<div>\n",
       "<style scoped>\n",
       "    .dataframe tbody tr th:only-of-type {\n",
       "        vertical-align: middle;\n",
       "    }\n",
       "\n",
       "    .dataframe tbody tr th {\n",
       "        vertical-align: top;\n",
       "    }\n",
       "\n",
       "    .dataframe thead th {\n",
       "        text-align: right;\n",
       "    }\n",
       "</style>\n",
       "<table border=\"1\" class=\"dataframe\">\n",
       "  <thead>\n",
       "    <tr style=\"text-align: right;\">\n",
       "      <th></th>\n",
       "      <th>created_at</th>\n",
       "      <th>text</th>\n",
       "      <th>tweet_link</th>\n",
       "      <th>tweet_mentions</th>\n",
       "      <th>n_mentions</th>\n",
       "      <th>week_day</th>\n",
       "      <th>week_day_name</th>\n",
       "    </tr>\n",
       "    <tr>\n",
       "      <th>id</th>\n",
       "      <th></th>\n",
       "      <th></th>\n",
       "      <th></th>\n",
       "      <th></th>\n",
       "      <th></th>\n",
       "      <th></th>\n",
       "      <th></th>\n",
       "    </tr>\n",
       "  </thead>\n",
       "  <tbody>\n",
       "    <tr>\n",
       "      <th>849636868052275200</th>\n",
       "      <td>2017-04-05 14:56:29</td>\n",
       "      <td>And so the robots spared humanity ... https://...</td>\n",
       "      <td>https://twitter.com/i/web/status/8496368680522...</td>\n",
       "      <td>[]</td>\n",
       "      <td>0</td>\n",
       "      <td>2</td>\n",
       "      <td>Wednesday</td>\n",
       "    </tr>\n",
       "    <tr>\n",
       "      <th>848988730585096192</th>\n",
       "      <td>2017-04-03 20:01:01</td>\n",
       "      <td>@ForIn2020 @waltmossberg @mims @defcon_5 Exact...</td>\n",
       "      <td>https://twitter.com/i/web/status/8489887305850...</td>\n",
       "      <td>[@ForIn2020, @waltmossberg, @mims, @defcon_5]</td>\n",
       "      <td>4</td>\n",
       "      <td>0</td>\n",
       "      <td>Monday</td>\n",
       "    </tr>\n",
       "    <tr>\n",
       "      <th>848943072423497728</th>\n",
       "      <td>2017-04-03 16:59:35</td>\n",
       "      <td>@waltmossberg @mims @defcon_5 Et tu, Walt?</td>\n",
       "      <td>https://twitter.com/i/web/status/8489430724234...</td>\n",
       "      <td>[@waltmossberg, @mims, @defcon_5]</td>\n",
       "      <td>3</td>\n",
       "      <td>0</td>\n",
       "      <td>Monday</td>\n",
       "    </tr>\n",
       "  </tbody>\n",
       "</table>\n",
       "</div>"
      ],
      "text/plain": [
       "                            created_at  \\\n",
       "id                                       \n",
       "849636868052275200 2017-04-05 14:56:29   \n",
       "848988730585096192 2017-04-03 20:01:01   \n",
       "848943072423497728 2017-04-03 16:59:35   \n",
       "\n",
       "                                                                 text  \\\n",
       "id                                                                      \n",
       "849636868052275200  And so the robots spared humanity ... https://...   \n",
       "848988730585096192  @ForIn2020 @waltmossberg @mims @defcon_5 Exact...   \n",
       "848943072423497728         @waltmossberg @mims @defcon_5 Et tu, Walt?   \n",
       "\n",
       "                                                           tweet_link  \\\n",
       "id                                                                      \n",
       "849636868052275200  https://twitter.com/i/web/status/8496368680522...   \n",
       "848988730585096192  https://twitter.com/i/web/status/8489887305850...   \n",
       "848943072423497728  https://twitter.com/i/web/status/8489430724234...   \n",
       "\n",
       "                                                   tweet_mentions  n_mentions  \\\n",
       "id                                                                              \n",
       "849636868052275200                                             []           0   \n",
       "848988730585096192  [@ForIn2020, @waltmossberg, @mims, @defcon_5]           4   \n",
       "848943072423497728              [@waltmossberg, @mims, @defcon_5]           3   \n",
       "\n",
       "                    week_day week_day_name  \n",
       "id                                          \n",
       "849636868052275200         2     Wednesday  \n",
       "848988730585096192         0        Monday  \n",
       "848943072423497728         0        Monday  "
      ]
     },
     "execution_count": 93,
     "metadata": {},
     "output_type": "execute_result"
    }
   ],
   "source": [
    "df.head(3)"
   ]
  },
  {
   "cell_type": "markdown",
   "id": "aed3c4d5",
   "metadata": {
    "id": "dNyL9_17WjpH"
   },
   "source": [
    "#### Add column with day hour"
   ]
  },
  {
   "cell_type": "code",
   "execution_count": 94,
   "id": "e3ddc7aa",
   "metadata": {
    "id": "9-5fndLAWjpI"
   },
   "outputs": [],
   "source": [
    "df.created_at.dt?"
   ]
  },
  {
   "cell_type": "code",
   "execution_count": 95,
   "id": "132fd442",
   "metadata": {
    "id": "du8-hTt5WjpI"
   },
   "outputs": [
    {
     "data": {
      "text/plain": [
       "id\n",
       "849636868052275200    14\n",
       "848988730585096192    20\n",
       "848943072423497728    16\n",
       "848935705057280001    16\n",
       "848416049573658624     6\n",
       "Name: created_at, dtype: int64"
      ]
     },
     "execution_count": 95,
     "metadata": {},
     "output_type": "execute_result"
    }
   ],
   "source": [
    "df.created_at.dt.hour.head()"
   ]
  },
  {
   "cell_type": "code",
   "execution_count": 96,
   "id": "c90a3c8d",
   "metadata": {
    "id": "SEa9CxUZWjpI"
   },
   "outputs": [],
   "source": [
    "df[\"day_hour\"] = df.created_at.dt.hour"
   ]
  },
  {
   "cell_type": "code",
   "execution_count": 97,
   "id": "97bc1d58",
   "metadata": {
    "id": "_d43pcy7WjpI"
   },
   "outputs": [
    {
     "data": {
      "text/html": [
       "<div>\n",
       "<style scoped>\n",
       "    .dataframe tbody tr th:only-of-type {\n",
       "        vertical-align: middle;\n",
       "    }\n",
       "\n",
       "    .dataframe tbody tr th {\n",
       "        vertical-align: top;\n",
       "    }\n",
       "\n",
       "    .dataframe thead th {\n",
       "        text-align: right;\n",
       "    }\n",
       "</style>\n",
       "<table border=\"1\" class=\"dataframe\">\n",
       "  <thead>\n",
       "    <tr style=\"text-align: right;\">\n",
       "      <th></th>\n",
       "      <th>created_at</th>\n",
       "      <th>week_day</th>\n",
       "      <th>day_hour</th>\n",
       "    </tr>\n",
       "    <tr>\n",
       "      <th>id</th>\n",
       "      <th></th>\n",
       "      <th></th>\n",
       "      <th></th>\n",
       "    </tr>\n",
       "  </thead>\n",
       "  <tbody>\n",
       "    <tr>\n",
       "      <th>849636868052275200</th>\n",
       "      <td>2017-04-05 14:56:29</td>\n",
       "      <td>2</td>\n",
       "      <td>14</td>\n",
       "    </tr>\n",
       "    <tr>\n",
       "      <th>848988730585096192</th>\n",
       "      <td>2017-04-03 20:01:01</td>\n",
       "      <td>0</td>\n",
       "      <td>20</td>\n",
       "    </tr>\n",
       "    <tr>\n",
       "      <th>848943072423497728</th>\n",
       "      <td>2017-04-03 16:59:35</td>\n",
       "      <td>0</td>\n",
       "      <td>16</td>\n",
       "    </tr>\n",
       "    <tr>\n",
       "      <th>848935705057280001</th>\n",
       "      <td>2017-04-03 16:30:19</td>\n",
       "      <td>0</td>\n",
       "      <td>16</td>\n",
       "    </tr>\n",
       "  </tbody>\n",
       "</table>\n",
       "</div>"
      ],
      "text/plain": [
       "                            created_at  week_day  day_hour\n",
       "id                                                        \n",
       "849636868052275200 2017-04-05 14:56:29         2        14\n",
       "848988730585096192 2017-04-03 20:01:01         0        20\n",
       "848943072423497728 2017-04-03 16:59:35         0        16\n",
       "848935705057280001 2017-04-03 16:30:19         0        16"
      ]
     },
     "execution_count": 97,
     "metadata": {},
     "output_type": "execute_result"
    }
   ],
   "source": [
    "display_cols = ['created_at', 'week_day', 'day_hour']\n",
    "df[display_cols].head(4)"
   ]
  },
  {
   "cell_type": "markdown",
   "id": "91074077",
   "metadata": {
    "id": "TkyG8sbsWjpI"
   },
   "source": [
    "##### Multiple conditions"
   ]
  },
  {
   "cell_type": "code",
   "execution_count": 98,
   "id": "78c85b55",
   "metadata": {
    "id": "tVNBk98-WjpJ"
   },
   "outputs": [
    {
     "data": {
      "text/plain": [
       "(187, 8)"
      ]
     },
     "execution_count": 98,
     "metadata": {},
     "output_type": "execute_result"
    }
   ],
   "source": [
    "# AND condition with `&`\n",
    "\n",
    "df[\n",
    "    (df.week_day_name == 'Saturday') & (df.n_mentions == 0)\n",
    "].shape"
   ]
  },
  {
   "cell_type": "code",
   "execution_count": 99,
   "id": "b24615e9",
   "metadata": {
    "id": "P0zJi5oEWjpJ"
   },
   "outputs": [
    {
     "data": {
      "text/plain": [
       "(187, 8)"
      ]
     },
     "execution_count": 99,
     "metadata": {},
     "output_type": "execute_result"
    }
   ],
   "source": [
    "# Equivalent expression with `query()`\n",
    "\n",
    "df.query(\"week_day_name == 'Saturday' and n_mentions == 0\").shape"
   ]
  },
  {
   "cell_type": "code",
   "execution_count": 100,
   "id": "d64b937a",
   "metadata": {
    "id": "CTO1hlNhWjpJ"
   },
   "outputs": [
    {
     "data": {
      "text/plain": [
       "(1384, 8)"
      ]
     },
     "execution_count": 100,
     "metadata": {},
     "output_type": "execute_result"
    }
   ],
   "source": [
    "# OR condition with `|`\n",
    "\n",
    "df[\n",
    "    (df.week_day_name == 'Saturday') | (df.n_mentions == 0)\n",
    "].shape"
   ]
  },
  {
   "cell_type": "markdown",
   "id": "76467354",
   "metadata": {
    "id": "kGqH23K5WjpJ"
   },
   "source": [
    "### Aggregation"
   ]
  },
  {
   "cell_type": "code",
   "execution_count": 101,
   "id": "aafb6180",
   "metadata": {
    "id": "2JoiqWqnWjpJ"
   },
   "outputs": [
    {
     "data": {
      "text/html": [
       "<div>\n",
       "<style scoped>\n",
       "    .dataframe tbody tr th:only-of-type {\n",
       "        vertical-align: middle;\n",
       "    }\n",
       "\n",
       "    .dataframe tbody tr th {\n",
       "        vertical-align: top;\n",
       "    }\n",
       "\n",
       "    .dataframe thead th {\n",
       "        text-align: right;\n",
       "    }\n",
       "</style>\n",
       "<table border=\"1\" class=\"dataframe\">\n",
       "  <thead>\n",
       "    <tr style=\"text-align: right;\">\n",
       "      <th></th>\n",
       "      <th>n_mentions</th>\n",
       "    </tr>\n",
       "  </thead>\n",
       "  <tbody>\n",
       "    <tr>\n",
       "      <th>min</th>\n",
       "      <td>0</td>\n",
       "    </tr>\n",
       "    <tr>\n",
       "      <th>max</th>\n",
       "      <td>6</td>\n",
       "    </tr>\n",
       "    <tr>\n",
       "      <th>sum</th>\n",
       "      <td>2277</td>\n",
       "    </tr>\n",
       "  </tbody>\n",
       "</table>\n",
       "</div>"
      ],
      "text/plain": [
       "     n_mentions\n",
       "min           0\n",
       "max           6\n",
       "sum        2277"
      ]
     },
     "execution_count": 101,
     "metadata": {},
     "output_type": "execute_result"
    }
   ],
   "source": [
    "df.agg({'n_mentions': ['min', 'max', 'sum']})"
   ]
  },
  {
   "cell_type": "markdown",
   "id": "9edb03fd",
   "metadata": {
    "id": "247FXVzhWjpJ"
   },
   "source": [
    "#### Grouping"
   ]
  },
  {
   "cell_type": "code",
   "execution_count": 102,
   "id": "6a1a4dee",
   "metadata": {
    "id": "qf8jfF1mWjpJ"
   },
   "outputs": [],
   "source": [
    "group_by_day = df.groupby('week_day')"
   ]
  },
  {
   "cell_type": "code",
   "execution_count": 103,
   "id": "1f8b0be8",
   "metadata": {
    "id": "sVDAv-D5WjpK"
   },
   "outputs": [
    {
     "data": {
      "text/html": [
       "<div>\n",
       "<style scoped>\n",
       "    .dataframe tbody tr th:only-of-type {\n",
       "        vertical-align: middle;\n",
       "    }\n",
       "\n",
       "    .dataframe tbody tr th {\n",
       "        vertical-align: top;\n",
       "    }\n",
       "\n",
       "    .dataframe thead th {\n",
       "        text-align: right;\n",
       "    }\n",
       "</style>\n",
       "<table border=\"1\" class=\"dataframe\">\n",
       "  <thead>\n",
       "    <tr style=\"text-align: right;\">\n",
       "      <th></th>\n",
       "      <th>created_at</th>\n",
       "      <th>text</th>\n",
       "      <th>tweet_link</th>\n",
       "      <th>tweet_mentions</th>\n",
       "      <th>n_mentions</th>\n",
       "      <th>week_day</th>\n",
       "      <th>week_day_name</th>\n",
       "      <th>day_hour</th>\n",
       "    </tr>\n",
       "    <tr>\n",
       "      <th>id</th>\n",
       "      <th></th>\n",
       "      <th></th>\n",
       "      <th></th>\n",
       "      <th></th>\n",
       "      <th></th>\n",
       "      <th></th>\n",
       "      <th></th>\n",
       "      <th></th>\n",
       "    </tr>\n",
       "  </thead>\n",
       "  <tbody>\n",
       "    <tr>\n",
       "      <th>849636868052275200</th>\n",
       "      <td>2017-04-05 14:56:29</td>\n",
       "      <td>And so the robots spared humanity ... https://...</td>\n",
       "      <td>https://twitter.com/i/web/status/8496368680522...</td>\n",
       "      <td>[]</td>\n",
       "      <td>0</td>\n",
       "      <td>2</td>\n",
       "      <td>Wednesday</td>\n",
       "      <td>14</td>\n",
       "    </tr>\n",
       "    <tr>\n",
       "      <th>848988730585096192</th>\n",
       "      <td>2017-04-03 20:01:01</td>\n",
       "      <td>@ForIn2020 @waltmossberg @mims @defcon_5 Exact...</td>\n",
       "      <td>https://twitter.com/i/web/status/8489887305850...</td>\n",
       "      <td>[@ForIn2020, @waltmossberg, @mims, @defcon_5]</td>\n",
       "      <td>4</td>\n",
       "      <td>0</td>\n",
       "      <td>Monday</td>\n",
       "      <td>20</td>\n",
       "    </tr>\n",
       "    <tr>\n",
       "      <th>848416049573658624</th>\n",
       "      <td>2017-04-02 06:05:23</td>\n",
       "      <td>@DaveLeeBBC @verge Coal is dying due to nat ga...</td>\n",
       "      <td>https://twitter.com/i/web/status/8484160495736...</td>\n",
       "      <td>[@DaveLeeBBC, @verge]</td>\n",
       "      <td>2</td>\n",
       "      <td>6</td>\n",
       "      <td>Sunday</td>\n",
       "      <td>6</td>\n",
       "    </tr>\n",
       "    <tr>\n",
       "      <th>848244577521647616</th>\n",
       "      <td>2017-04-01 18:44:01</td>\n",
       "      <td>Why did we waste so much time developing silly...</td>\n",
       "      <td>https://twitter.com/i/web/status/8482445775216...</td>\n",
       "      <td>[]</td>\n",
       "      <td>0</td>\n",
       "      <td>5</td>\n",
       "      <td>Saturday</td>\n",
       "      <td>18</td>\n",
       "    </tr>\n",
       "    <tr>\n",
       "      <th>847958571895619584</th>\n",
       "      <td>2017-03-31 23:47:32</td>\n",
       "      <td>@BadAstronomer We can def bring it back like D...</td>\n",
       "      <td>https://twitter.com/i/web/status/8479585718956...</td>\n",
       "      <td>[@BadAstronomer]</td>\n",
       "      <td>1</td>\n",
       "      <td>4</td>\n",
       "      <td>Friday</td>\n",
       "      <td>23</td>\n",
       "    </tr>\n",
       "    <tr>\n",
       "      <th>847594208219336705</th>\n",
       "      <td>2017-03-30 23:39:41</td>\n",
       "      <td>Incredibly proud of the SpaceX team for achiev...</td>\n",
       "      <td>https://twitter.com/i/web/status/8475942082193...</td>\n",
       "      <td>[]</td>\n",
       "      <td>0</td>\n",
       "      <td>3</td>\n",
       "      <td>Thursday</td>\n",
       "      <td>23</td>\n",
       "    </tr>\n",
       "    <tr>\n",
       "      <th>846772378067648513</th>\n",
       "      <td>2017-03-28 17:14:01</td>\n",
       "      <td>@danahull Very few. We have yet to do a China ...</td>\n",
       "      <td>https://twitter.com/i/web/status/8467723780676...</td>\n",
       "      <td>[@danahull]</td>\n",
       "      <td>1</td>\n",
       "      <td>1</td>\n",
       "      <td>Tuesday</td>\n",
       "      <td>17</td>\n",
       "    </tr>\n",
       "  </tbody>\n",
       "</table>\n",
       "</div>"
      ],
      "text/plain": [
       "                            created_at  \\\n",
       "id                                       \n",
       "849636868052275200 2017-04-05 14:56:29   \n",
       "848988730585096192 2017-04-03 20:01:01   \n",
       "848416049573658624 2017-04-02 06:05:23   \n",
       "848244577521647616 2017-04-01 18:44:01   \n",
       "847958571895619584 2017-03-31 23:47:32   \n",
       "847594208219336705 2017-03-30 23:39:41   \n",
       "846772378067648513 2017-03-28 17:14:01   \n",
       "\n",
       "                                                                 text  \\\n",
       "id                                                                      \n",
       "849636868052275200  And so the robots spared humanity ... https://...   \n",
       "848988730585096192  @ForIn2020 @waltmossberg @mims @defcon_5 Exact...   \n",
       "848416049573658624  @DaveLeeBBC @verge Coal is dying due to nat ga...   \n",
       "848244577521647616  Why did we waste so much time developing silly...   \n",
       "847958571895619584  @BadAstronomer We can def bring it back like D...   \n",
       "847594208219336705  Incredibly proud of the SpaceX team for achiev...   \n",
       "846772378067648513  @danahull Very few. We have yet to do a China ...   \n",
       "\n",
       "                                                           tweet_link  \\\n",
       "id                                                                      \n",
       "849636868052275200  https://twitter.com/i/web/status/8496368680522...   \n",
       "848988730585096192  https://twitter.com/i/web/status/8489887305850...   \n",
       "848416049573658624  https://twitter.com/i/web/status/8484160495736...   \n",
       "848244577521647616  https://twitter.com/i/web/status/8482445775216...   \n",
       "847958571895619584  https://twitter.com/i/web/status/8479585718956...   \n",
       "847594208219336705  https://twitter.com/i/web/status/8475942082193...   \n",
       "846772378067648513  https://twitter.com/i/web/status/8467723780676...   \n",
       "\n",
       "                                                   tweet_mentions  n_mentions  \\\n",
       "id                                                                              \n",
       "849636868052275200                                             []           0   \n",
       "848988730585096192  [@ForIn2020, @waltmossberg, @mims, @defcon_5]           4   \n",
       "848416049573658624                          [@DaveLeeBBC, @verge]           2   \n",
       "848244577521647616                                             []           0   \n",
       "847958571895619584                               [@BadAstronomer]           1   \n",
       "847594208219336705                                             []           0   \n",
       "846772378067648513                                    [@danahull]           1   \n",
       "\n",
       "                    week_day week_day_name  day_hour  \n",
       "id                                                    \n",
       "849636868052275200         2     Wednesday        14  \n",
       "848988730585096192         0        Monday        20  \n",
       "848416049573658624         6        Sunday         6  \n",
       "848244577521647616         5      Saturday        18  \n",
       "847958571895619584         4        Friday        23  \n",
       "847594208219336705         3      Thursday        23  \n",
       "846772378067648513         1       Tuesday        17  "
      ]
     },
     "execution_count": 103,
     "metadata": {},
     "output_type": "execute_result"
    }
   ],
   "source": [
    "# The head of a DataFrameGroupBy consists of the first\n",
    "# n records for each group (see `help(grp_by_day.head)`)\n",
    "\n",
    "group_by_day.head(1)"
   ]
  },
  {
   "cell_type": "markdown",
   "id": "2cc1b086",
   "metadata": {
    "id": "tWNCOjXtWjpK"
   },
   "source": [
    "`agg` is used to pass an aggregation function to be applied to each group resulting from `groupby`.\n",
    "\n",
    "Here we are interested in how many tweets there are for each group, so we pass `len()` to an 'aggregate'. This is similar to the `.count()` method."
   ]
  },
  {
   "cell_type": "code",
   "execution_count": 104,
   "id": "75cf89d0",
   "metadata": {
    "id": "P1ATt8AiWjpK"
   },
   "outputs": [
    {
     "data": {
      "text/html": [
       "<div>\n",
       "<style scoped>\n",
       "    .dataframe tbody tr th:only-of-type {\n",
       "        vertical-align: middle;\n",
       "    }\n",
       "\n",
       "    .dataframe tbody tr th {\n",
       "        vertical-align: top;\n",
       "    }\n",
       "\n",
       "    .dataframe thead th {\n",
       "        text-align: right;\n",
       "    }\n",
       "</style>\n",
       "<table border=\"1\" class=\"dataframe\">\n",
       "  <thead>\n",
       "    <tr style=\"text-align: right;\">\n",
       "      <th></th>\n",
       "      <th>created_at</th>\n",
       "      <th>text</th>\n",
       "      <th>tweet_link</th>\n",
       "      <th>tweet_mentions</th>\n",
       "      <th>n_mentions</th>\n",
       "      <th>week_day_name</th>\n",
       "      <th>day_hour</th>\n",
       "    </tr>\n",
       "    <tr>\n",
       "      <th>week_day</th>\n",
       "      <th></th>\n",
       "      <th></th>\n",
       "      <th></th>\n",
       "      <th></th>\n",
       "      <th></th>\n",
       "      <th></th>\n",
       "      <th></th>\n",
       "    </tr>\n",
       "  </thead>\n",
       "  <tbody>\n",
       "    <tr>\n",
       "      <th>0</th>\n",
       "      <td>315</td>\n",
       "      <td>315</td>\n",
       "      <td>315</td>\n",
       "      <td>315</td>\n",
       "      <td>315</td>\n",
       "      <td>315</td>\n",
       "      <td>315</td>\n",
       "    </tr>\n",
       "    <tr>\n",
       "      <th>1</th>\n",
       "      <td>385</td>\n",
       "      <td>385</td>\n",
       "      <td>385</td>\n",
       "      <td>385</td>\n",
       "      <td>385</td>\n",
       "      <td>385</td>\n",
       "      <td>385</td>\n",
       "    </tr>\n",
       "    <tr>\n",
       "      <th>2</th>\n",
       "      <td>380</td>\n",
       "      <td>380</td>\n",
       "      <td>380</td>\n",
       "      <td>380</td>\n",
       "      <td>380</td>\n",
       "      <td>380</td>\n",
       "      <td>380</td>\n",
       "    </tr>\n",
       "    <tr>\n",
       "      <th>3</th>\n",
       "      <td>361</td>\n",
       "      <td>361</td>\n",
       "      <td>361</td>\n",
       "      <td>361</td>\n",
       "      <td>361</td>\n",
       "      <td>361</td>\n",
       "      <td>361</td>\n",
       "    </tr>\n",
       "    <tr>\n",
       "      <th>4</th>\n",
       "      <td>530</td>\n",
       "      <td>530</td>\n",
       "      <td>530</td>\n",
       "      <td>530</td>\n",
       "      <td>530</td>\n",
       "      <td>530</td>\n",
       "      <td>530</td>\n",
       "    </tr>\n",
       "    <tr>\n",
       "      <th>5</th>\n",
       "      <td>426</td>\n",
       "      <td>426</td>\n",
       "      <td>426</td>\n",
       "      <td>426</td>\n",
       "      <td>426</td>\n",
       "      <td>426</td>\n",
       "      <td>426</td>\n",
       "    </tr>\n",
       "    <tr>\n",
       "      <th>6</th>\n",
       "      <td>422</td>\n",
       "      <td>422</td>\n",
       "      <td>422</td>\n",
       "      <td>422</td>\n",
       "      <td>422</td>\n",
       "      <td>422</td>\n",
       "      <td>422</td>\n",
       "    </tr>\n",
       "  </tbody>\n",
       "</table>\n",
       "</div>"
      ],
      "text/plain": [
       "          created_at  text  tweet_link  tweet_mentions  n_mentions  \\\n",
       "week_day                                                             \n",
       "0                315   315         315             315         315   \n",
       "1                385   385         385             385         385   \n",
       "2                380   380         380             380         380   \n",
       "3                361   361         361             361         361   \n",
       "4                530   530         530             530         530   \n",
       "5                426   426         426             426         426   \n",
       "6                422   422         422             422         422   \n",
       "\n",
       "          week_day_name  day_hour  \n",
       "week_day                           \n",
       "0                   315       315  \n",
       "1                   385       385  \n",
       "2                   380       380  \n",
       "3                   361       361  \n",
       "4                   530       530  \n",
       "5                   426       426  \n",
       "6                   422       422  "
      ]
     },
     "execution_count": 104,
     "metadata": {},
     "output_type": "execute_result"
    }
   ],
   "source": [
    "group_by_day.agg(len)"
   ]
  },
  {
   "cell_type": "markdown",
   "id": "50f0205f",
   "metadata": {
    "id": "wOiN3zPuWjpK"
   },
   "source": [
    "However, we are not interested in having the count for all columns. Rather we want to create a new dataframe with renamed column names."
   ]
  },
  {
   "cell_type": "code",
   "execution_count": 105,
   "id": "64e64926",
   "metadata": {
    "id": "t3avzNHOWjpK"
   },
   "outputs": [
    {
     "data": {
      "text/html": [
       "<div>\n",
       "<style scoped>\n",
       "    .dataframe tbody tr th:only-of-type {\n",
       "        vertical-align: middle;\n",
       "    }\n",
       "\n",
       "    .dataframe tbody tr th {\n",
       "        vertical-align: top;\n",
       "    }\n",
       "\n",
       "    .dataframe thead th {\n",
       "        text-align: right;\n",
       "    }\n",
       "</style>\n",
       "<table border=\"1\" class=\"dataframe\">\n",
       "  <thead>\n",
       "    <tr style=\"text-align: right;\">\n",
       "      <th></th>\n",
       "      <th>tweet_count</th>\n",
       "    </tr>\n",
       "    <tr>\n",
       "      <th>week_day</th>\n",
       "      <th></th>\n",
       "    </tr>\n",
       "  </thead>\n",
       "  <tbody>\n",
       "    <tr>\n",
       "      <th>0</th>\n",
       "      <td>315</td>\n",
       "    </tr>\n",
       "    <tr>\n",
       "      <th>1</th>\n",
       "      <td>385</td>\n",
       "    </tr>\n",
       "    <tr>\n",
       "      <th>2</th>\n",
       "      <td>380</td>\n",
       "    </tr>\n",
       "    <tr>\n",
       "      <th>3</th>\n",
       "      <td>361</td>\n",
       "    </tr>\n",
       "    <tr>\n",
       "      <th>4</th>\n",
       "      <td>530</td>\n",
       "    </tr>\n",
       "    <tr>\n",
       "      <th>5</th>\n",
       "      <td>426</td>\n",
       "    </tr>\n",
       "    <tr>\n",
       "      <th>6</th>\n",
       "      <td>422</td>\n",
       "    </tr>\n",
       "  </tbody>\n",
       "</table>\n",
       "</div>"
      ],
      "text/plain": [
       "          tweet_count\n",
       "week_day             \n",
       "0                 315\n",
       "1                 385\n",
       "2                 380\n",
       "3                 361\n",
       "4                 530\n",
       "5                 426\n",
       "6                 422"
      ]
     },
     "execution_count": 105,
     "metadata": {},
     "output_type": "execute_result"
    }
   ],
   "source": [
    "group_by_day.agg({'text': len}).rename({'text': 'tweet_count'}, axis='columns')"
   ]
  },
  {
   "cell_type": "markdown",
   "id": "f8d0d376",
   "metadata": {
    "id": "VGArxHedWjpK"
   },
   "source": [
    "##### By label (column)"
   ]
  },
  {
   "cell_type": "markdown",
   "id": "6d1cb30e",
   "metadata": {
    "id": "HHa_A2Q2WjpK"
   },
   "source": [
    "Previously we've added a column indicating on which day of the week a given tweet appeared."
   ]
  },
  {
   "cell_type": "code",
   "execution_count": 106,
   "id": "cd1e9f5f",
   "metadata": {
    "id": "8jZ__JQSWjpL"
   },
   "outputs": [],
   "source": [
    "groupby_result_as_series = df.groupby('day_hour')['text'].count()"
   ]
  },
  {
   "cell_type": "code",
   "execution_count": 107,
   "id": "2c25704e",
   "metadata": {
    "id": "BHogxsKsWjpL"
   },
   "outputs": [
    {
     "data": {
      "text/plain": [
       "day_hour\n",
       "0     144\n",
       "1     183\n",
       "2     119\n",
       "3     104\n",
       "4      98\n",
       "5      81\n",
       "6      85\n",
       "7      94\n",
       "8      82\n",
       "9      55\n",
       "10     34\n",
       "11     15\n",
       "12     17\n",
       "13     23\n",
       "14    114\n",
       "15    190\n",
       "16    198\n",
       "17    190\n",
       "18    162\n",
       "19    154\n",
       "20    176\n",
       "21    192\n",
       "22    168\n",
       "23    141\n",
       "Name: text, dtype: int64"
      ]
     },
     "execution_count": 107,
     "metadata": {},
     "output_type": "execute_result"
    }
   ],
   "source": [
    "groupby_result_as_series"
   ]
  },
  {
   "cell_type": "code",
   "execution_count": 108,
   "id": "ccc9f93b",
   "metadata": {
    "id": "PurAA8tWWjpL"
   },
   "outputs": [],
   "source": [
    "groupby_result_as_df = df.groupby('day_hour')[['text']]\\\n",
    "    .count()\\\n",
    "    .rename({'text': 'count'}, axis='columns')"
   ]
  },
  {
   "cell_type": "code",
   "execution_count": 109,
   "id": "1aea11bd",
   "metadata": {
    "id": "hHmsRRGrWjpL"
   },
   "outputs": [
    {
     "data": {
      "text/html": [
       "<div>\n",
       "<style scoped>\n",
       "    .dataframe tbody tr th:only-of-type {\n",
       "        vertical-align: middle;\n",
       "    }\n",
       "\n",
       "    .dataframe tbody tr th {\n",
       "        vertical-align: top;\n",
       "    }\n",
       "\n",
       "    .dataframe thead th {\n",
       "        text-align: right;\n",
       "    }\n",
       "</style>\n",
       "<table border=\"1\" class=\"dataframe\">\n",
       "  <thead>\n",
       "    <tr style=\"text-align: right;\">\n",
       "      <th></th>\n",
       "      <th>count</th>\n",
       "    </tr>\n",
       "    <tr>\n",
       "      <th>day_hour</th>\n",
       "      <th></th>\n",
       "    </tr>\n",
       "  </thead>\n",
       "  <tbody>\n",
       "    <tr>\n",
       "      <th>0</th>\n",
       "      <td>144</td>\n",
       "    </tr>\n",
       "    <tr>\n",
       "      <th>1</th>\n",
       "      <td>183</td>\n",
       "    </tr>\n",
       "    <tr>\n",
       "      <th>2</th>\n",
       "      <td>119</td>\n",
       "    </tr>\n",
       "    <tr>\n",
       "      <th>3</th>\n",
       "      <td>104</td>\n",
       "    </tr>\n",
       "    <tr>\n",
       "      <th>4</th>\n",
       "      <td>98</td>\n",
       "    </tr>\n",
       "  </tbody>\n",
       "</table>\n",
       "</div>"
      ],
      "text/plain": [
       "          count\n",
       "day_hour       \n",
       "0           144\n",
       "1           183\n",
       "2           119\n",
       "3           104\n",
       "4            98"
      ]
     },
     "execution_count": 109,
     "metadata": {},
     "output_type": "execute_result"
    }
   ],
   "source": [
    "groupby_result_as_df.head()"
   ]
  },
  {
   "cell_type": "markdown",
   "id": "756d5472",
   "metadata": {
    "id": "UUiyZfLJWjpL"
   },
   "source": [
    "##### By series or dict"
   ]
  },
  {
   "cell_type": "code",
   "execution_count": 110,
   "id": "aec54dd2",
   "metadata": {
    "id": "nl9sj2AHWjpL"
   },
   "outputs": [],
   "source": [
    "df.groupby?"
   ]
  },
  {
   "cell_type": "code",
   "execution_count": 111,
   "id": "b8209f51",
   "metadata": {
    "id": "6qh4CJlxWjpL"
   },
   "outputs": [
    {
     "data": {
      "text/html": [
       "<div>\n",
       "<style scoped>\n",
       "    .dataframe tbody tr th:only-of-type {\n",
       "        vertical-align: middle;\n",
       "    }\n",
       "\n",
       "    .dataframe tbody tr th {\n",
       "        vertical-align: top;\n",
       "    }\n",
       "\n",
       "    .dataframe thead th {\n",
       "        text-align: right;\n",
       "    }\n",
       "</style>\n",
       "<table border=\"1\" class=\"dataframe\">\n",
       "  <thead>\n",
       "    <tr style=\"text-align: right;\">\n",
       "      <th></th>\n",
       "      <th>text</th>\n",
       "    </tr>\n",
       "    <tr>\n",
       "      <th>created_at</th>\n",
       "      <th></th>\n",
       "    </tr>\n",
       "  </thead>\n",
       "  <tbody>\n",
       "    <tr>\n",
       "      <th>1</th>\n",
       "      <td>107</td>\n",
       "    </tr>\n",
       "    <tr>\n",
       "      <th>2</th>\n",
       "      <td>107</td>\n",
       "    </tr>\n",
       "    <tr>\n",
       "      <th>3</th>\n",
       "      <td>114</td>\n",
       "    </tr>\n",
       "    <tr>\n",
       "      <th>4</th>\n",
       "      <td>97</td>\n",
       "    </tr>\n",
       "    <tr>\n",
       "      <th>5</th>\n",
       "      <td>117</td>\n",
       "    </tr>\n",
       "  </tbody>\n",
       "</table>\n",
       "</div>"
      ],
      "text/plain": [
       "            text\n",
       "created_at      \n",
       "1            107\n",
       "2            107\n",
       "3            114\n",
       "4             97\n",
       "5            117"
      ]
     },
     "execution_count": 111,
     "metadata": {},
     "output_type": "execute_result"
    }
   ],
   "source": [
    "# here we pass the groups as a series\n",
    "df.groupby(df.created_at.dt.day).agg({'text':len}).head()"
   ]
  },
  {
   "cell_type": "code",
   "execution_count": 112,
   "id": "e00aa0b7",
   "metadata": {
    "id": "_A4snuKTWjpM"
   },
   "outputs": [
    {
     "data": {
      "text/html": [
       "<div>\n",
       "<style scoped>\n",
       "    .dataframe tbody tr th:only-of-type {\n",
       "        vertical-align: middle;\n",
       "    }\n",
       "\n",
       "    .dataframe tbody tr th {\n",
       "        vertical-align: top;\n",
       "    }\n",
       "\n",
       "    .dataframe thead th {\n",
       "        text-align: right;\n",
       "    }\n",
       "</style>\n",
       "<table border=\"1\" class=\"dataframe\">\n",
       "  <thead>\n",
       "    <tr style=\"text-align: right;\">\n",
       "      <th></th>\n",
       "      <th>text</th>\n",
       "    </tr>\n",
       "    <tr>\n",
       "      <th>created_at</th>\n",
       "      <th></th>\n",
       "    </tr>\n",
       "  </thead>\n",
       "  <tbody>\n",
       "    <tr>\n",
       "      <th>1</th>\n",
       "      <td>107</td>\n",
       "    </tr>\n",
       "    <tr>\n",
       "      <th>2</th>\n",
       "      <td>107</td>\n",
       "    </tr>\n",
       "    <tr>\n",
       "      <th>3</th>\n",
       "      <td>114</td>\n",
       "    </tr>\n",
       "    <tr>\n",
       "      <th>4</th>\n",
       "      <td>97</td>\n",
       "    </tr>\n",
       "    <tr>\n",
       "      <th>5</th>\n",
       "      <td>117</td>\n",
       "    </tr>\n",
       "  </tbody>\n",
       "</table>\n",
       "</div>"
      ],
      "text/plain": [
       "            text\n",
       "created_at      \n",
       "1            107\n",
       "2            107\n",
       "3            114\n",
       "4             97\n",
       "5            117"
      ]
     },
     "execution_count": 112,
     "metadata": {},
     "output_type": "execute_result"
    }
   ],
   "source": [
    "# here we pass the groups as a series\n",
    "df.groupby(df.created_at.dt.day)[['text']].count().head()"
   ]
  },
  {
   "cell_type": "code",
   "execution_count": 113,
   "id": "db692601",
   "metadata": {
    "id": "-0znvZrHWjpM"
   },
   "outputs": [
    {
     "data": {
      "text/html": [
       "<div>\n",
       "<style scoped>\n",
       "    .dataframe tbody tr th:only-of-type {\n",
       "        vertical-align: middle;\n",
       "    }\n",
       "\n",
       "    .dataframe tbody tr th {\n",
       "        vertical-align: top;\n",
       "    }\n",
       "\n",
       "    .dataframe thead th {\n",
       "        text-align: right;\n",
       "    }\n",
       "</style>\n",
       "<table border=\"1\" class=\"dataframe\">\n",
       "  <thead>\n",
       "    <tr style=\"text-align: right;\">\n",
       "      <th></th>\n",
       "      <th>text</th>\n",
       "    </tr>\n",
       "    <tr>\n",
       "      <th>created_at</th>\n",
       "      <th></th>\n",
       "    </tr>\n",
       "  </thead>\n",
       "  <tbody>\n",
       "    <tr>\n",
       "      <th>0</th>\n",
       "      <td>144</td>\n",
       "    </tr>\n",
       "    <tr>\n",
       "      <th>1</th>\n",
       "      <td>183</td>\n",
       "    </tr>\n",
       "    <tr>\n",
       "      <th>2</th>\n",
       "      <td>119</td>\n",
       "    </tr>\n",
       "    <tr>\n",
       "      <th>3</th>\n",
       "      <td>104</td>\n",
       "    </tr>\n",
       "    <tr>\n",
       "      <th>4</th>\n",
       "      <td>98</td>\n",
       "    </tr>\n",
       "  </tbody>\n",
       "</table>\n",
       "</div>"
      ],
      "text/plain": [
       "            text\n",
       "created_at      \n",
       "0            144\n",
       "1            183\n",
       "2            119\n",
       "3            104\n",
       "4             98"
      ]
     },
     "execution_count": 113,
     "metadata": {},
     "output_type": "execute_result"
    }
   ],
   "source": [
    "df.groupby(df.created_at.dt.hour)[['text']].count().head()"
   ]
  },
  {
   "cell_type": "markdown",
   "id": "23ea48ec",
   "metadata": {
    "id": "AAeD5HadWjpM"
   },
   "source": [
    "##### By multiple labels (columns)"
   ]
  },
  {
   "cell_type": "code",
   "execution_count": 114,
   "id": "6c334280",
   "metadata": {
    "id": "fT3UrwA3WjpM"
   },
   "outputs": [],
   "source": [
    "# Here we group based on the values of two columns\n",
    "# instead of one\n",
    "\n",
    "x = df.groupby(['week_day', 'day_hour'])[['text']].count()"
   ]
  },
  {
   "cell_type": "code",
   "execution_count": 115,
   "id": "b47df463",
   "metadata": {
    "id": "KpHvHWgWWjpM"
   },
   "outputs": [
    {
     "data": {
      "text/html": [
       "<div>\n",
       "<style scoped>\n",
       "    .dataframe tbody tr th:only-of-type {\n",
       "        vertical-align: middle;\n",
       "    }\n",
       "\n",
       "    .dataframe tbody tr th {\n",
       "        vertical-align: top;\n",
       "    }\n",
       "\n",
       "    .dataframe thead th {\n",
       "        text-align: right;\n",
       "    }\n",
       "</style>\n",
       "<table border=\"1\" class=\"dataframe\">\n",
       "  <thead>\n",
       "    <tr style=\"text-align: right;\">\n",
       "      <th></th>\n",
       "      <th></th>\n",
       "      <th>text</th>\n",
       "    </tr>\n",
       "    <tr>\n",
       "      <th>week_day</th>\n",
       "      <th>day_hour</th>\n",
       "      <th></th>\n",
       "    </tr>\n",
       "  </thead>\n",
       "  <tbody>\n",
       "    <tr>\n",
       "      <th rowspan=\"5\" valign=\"top\">0</th>\n",
       "      <th>0</th>\n",
       "      <td>11</td>\n",
       "    </tr>\n",
       "    <tr>\n",
       "      <th>1</th>\n",
       "      <td>23</td>\n",
       "    </tr>\n",
       "    <tr>\n",
       "      <th>2</th>\n",
       "      <td>17</td>\n",
       "    </tr>\n",
       "    <tr>\n",
       "      <th>3</th>\n",
       "      <td>7</td>\n",
       "    </tr>\n",
       "    <tr>\n",
       "      <th>4</th>\n",
       "      <td>12</td>\n",
       "    </tr>\n",
       "  </tbody>\n",
       "</table>\n",
       "</div>"
      ],
      "text/plain": [
       "                   text\n",
       "week_day day_hour      \n",
       "0        0           11\n",
       "         1           23\n",
       "         2           17\n",
       "         3            7\n",
       "         4           12"
      ]
     },
     "execution_count": 115,
     "metadata": {},
     "output_type": "execute_result"
    }
   ],
   "source": [
    "x.head()"
   ]
  },
  {
   "cell_type": "markdown",
   "id": "27289a0f",
   "metadata": {
    "id": "z5zgvSBMWjpN"
   },
   "source": [
    "#### Aggregation methods\n",
    "\n",
    "**Summary**:\n",
    "\n",
    "- `count`: Number of non-NA values\n",
    "- `sum`: Sum of non-NA values\n",
    "- `mean`: Mean of non-NA values\n",
    "- `median`: Arithmetic median of non-NA values\n",
    "- `std`, `var`: standard deviation and variance\n",
    "- `min`, `max`: Minimum and maximum of non-NA values"
   ]
  },
  {
   "cell_type": "markdown",
   "id": "02c716f6",
   "metadata": {
    "id": "McaM09oBWjpN"
   },
   "source": [
    "You can also use these in an aggregation functions within a groupby:"
   ]
  },
  {
   "cell_type": "code",
   "execution_count": 116,
   "id": "5c21b4cb",
   "metadata": {
    "id": "Av4JTDaGWjpN"
   },
   "outputs": [
    {
     "data": {
      "text/html": [
       "<div>\n",
       "<style scoped>\n",
       "    .dataframe tbody tr th:only-of-type {\n",
       "        vertical-align: middle;\n",
       "    }\n",
       "\n",
       "    .dataframe tbody tr th {\n",
       "        vertical-align: top;\n",
       "    }\n",
       "\n",
       "    .dataframe thead tr th {\n",
       "        text-align: left;\n",
       "    }\n",
       "\n",
       "    .dataframe thead tr:last-of-type th {\n",
       "        text-align: right;\n",
       "    }\n",
       "</style>\n",
       "<table border=\"1\" class=\"dataframe\">\n",
       "  <thead>\n",
       "    <tr>\n",
       "      <th></th>\n",
       "      <th colspan=\"6\" halign=\"left\">n_mentions</th>\n",
       "    </tr>\n",
       "    <tr>\n",
       "      <th></th>\n",
       "      <th>count</th>\n",
       "      <th>mean</th>\n",
       "      <th>min</th>\n",
       "      <th>max</th>\n",
       "      <th>std</th>\n",
       "      <th>var</th>\n",
       "    </tr>\n",
       "    <tr>\n",
       "      <th>week_day</th>\n",
       "      <th></th>\n",
       "      <th></th>\n",
       "      <th></th>\n",
       "      <th></th>\n",
       "      <th></th>\n",
       "      <th></th>\n",
       "    </tr>\n",
       "  </thead>\n",
       "  <tbody>\n",
       "    <tr>\n",
       "      <th>0</th>\n",
       "      <td>315</td>\n",
       "      <td>0.812698</td>\n",
       "      <td>0</td>\n",
       "      <td>5</td>\n",
       "      <td>0.964248</td>\n",
       "      <td>0.929775</td>\n",
       "    </tr>\n",
       "    <tr>\n",
       "      <th>1</th>\n",
       "      <td>385</td>\n",
       "      <td>0.729870</td>\n",
       "      <td>0</td>\n",
       "      <td>6</td>\n",
       "      <td>0.874861</td>\n",
       "      <td>0.765381</td>\n",
       "    </tr>\n",
       "    <tr>\n",
       "      <th>2</th>\n",
       "      <td>380</td>\n",
       "      <td>0.786842</td>\n",
       "      <td>0</td>\n",
       "      <td>4</td>\n",
       "      <td>0.768328</td>\n",
       "      <td>0.590328</td>\n",
       "    </tr>\n",
       "    <tr>\n",
       "      <th>3</th>\n",
       "      <td>361</td>\n",
       "      <td>0.781163</td>\n",
       "      <td>0</td>\n",
       "      <td>4</td>\n",
       "      <td>0.832853</td>\n",
       "      <td>0.693644</td>\n",
       "    </tr>\n",
       "    <tr>\n",
       "      <th>4</th>\n",
       "      <td>530</td>\n",
       "      <td>0.879245</td>\n",
       "      <td>0</td>\n",
       "      <td>5</td>\n",
       "      <td>0.901869</td>\n",
       "      <td>0.813368</td>\n",
       "    </tr>\n",
       "    <tr>\n",
       "      <th>5</th>\n",
       "      <td>426</td>\n",
       "      <td>0.727700</td>\n",
       "      <td>0</td>\n",
       "      <td>5</td>\n",
       "      <td>0.800607</td>\n",
       "      <td>0.640972</td>\n",
       "    </tr>\n",
       "    <tr>\n",
       "      <th>6</th>\n",
       "      <td>422</td>\n",
       "      <td>0.907583</td>\n",
       "      <td>0</td>\n",
       "      <td>6</td>\n",
       "      <td>0.851707</td>\n",
       "      <td>0.725406</td>\n",
       "    </tr>\n",
       "  </tbody>\n",
       "</table>\n",
       "</div>"
      ],
      "text/plain": [
       "         n_mentions                                      \n",
       "              count      mean min max       std       var\n",
       "week_day                                                 \n",
       "0               315  0.812698   0   5  0.964248  0.929775\n",
       "1               385  0.729870   0   6  0.874861  0.765381\n",
       "2               380  0.786842   0   4  0.768328  0.590328\n",
       "3               361  0.781163   0   4  0.832853  0.693644\n",
       "4               530  0.879245   0   5  0.901869  0.813368\n",
       "5               426  0.727700   0   5  0.800607  0.640972\n",
       "6               422  0.907583   0   6  0.851707  0.725406"
      ]
     },
     "execution_count": 116,
     "metadata": {},
     "output_type": "execute_result"
    }
   ],
   "source": [
    "df.groupby('week_day').agg(\n",
    "    {\n",
    "        # each key in this dict specifies\n",
    "        # a given column\n",
    "        'n_mentions':[\n",
    "            # the list contains aggregation functions\n",
    "            # to be applied to this column\n",
    "            'count',\n",
    "            'mean',\n",
    "            'min',\n",
    "            'max',\n",
    "            'std',\n",
    "            'var'\n",
    "        ]\n",
    "    }\n",
    ")"
   ]
  },
  {
   "cell_type": "markdown",
   "id": "6e189082",
   "metadata": {
    "id": "S03JNmiMWjpN"
   },
   "source": [
    "#### Sorting"
   ]
  },
  {
   "cell_type": "markdown",
   "id": "d0285e35",
   "metadata": {
    "id": "9DS3Y1I_WjpN"
   },
   "source": [
    "To sort the values of  a dataframe we use its `sort_values` method:\n",
    "- `by`: specifies the name of the column to be used for sorting\n",
    "- `ascending` (default = `True`): specifies whether the sorting should be *ascending* (A-Z, 0-9) or `descending` (Z-A, 9-0)"
   ]
  },
  {
   "cell_type": "code",
   "execution_count": 117,
   "id": "4ee159fd",
   "metadata": {
    "id": "W2xx3qjhWjpN"
   },
   "outputs": [
    {
     "data": {
      "text/html": [
       "<div>\n",
       "<style scoped>\n",
       "    .dataframe tbody tr th:only-of-type {\n",
       "        vertical-align: middle;\n",
       "    }\n",
       "\n",
       "    .dataframe tbody tr th {\n",
       "        vertical-align: top;\n",
       "    }\n",
       "\n",
       "    .dataframe thead th {\n",
       "        text-align: right;\n",
       "    }\n",
       "</style>\n",
       "<table border=\"1\" class=\"dataframe\">\n",
       "  <thead>\n",
       "    <tr style=\"text-align: right;\">\n",
       "      <th></th>\n",
       "      <th>created_at</th>\n",
       "      <th>text</th>\n",
       "      <th>tweet_link</th>\n",
       "      <th>tweet_mentions</th>\n",
       "      <th>n_mentions</th>\n",
       "      <th>week_day</th>\n",
       "      <th>week_day_name</th>\n",
       "      <th>day_hour</th>\n",
       "    </tr>\n",
       "    <tr>\n",
       "      <th>id</th>\n",
       "      <th></th>\n",
       "      <th></th>\n",
       "      <th></th>\n",
       "      <th></th>\n",
       "      <th></th>\n",
       "      <th></th>\n",
       "      <th></th>\n",
       "      <th></th>\n",
       "    </tr>\n",
       "  </thead>\n",
       "  <tbody>\n",
       "    <tr>\n",
       "      <th>15434727182</th>\n",
       "      <td>2010-06-04 18:31:57</td>\n",
       "      <td>Please ignore prior tweets, as that was someon...</td>\n",
       "      <td>https://twitter.com/i/web/status/15434727182</td>\n",
       "      <td>[]</td>\n",
       "      <td>0</td>\n",
       "      <td>4</td>\n",
       "      <td>Friday</td>\n",
       "      <td>18</td>\n",
       "    </tr>\n",
       "    <tr>\n",
       "      <th>142179928203460608</th>\n",
       "      <td>2011-12-01 09:55:11</td>\n",
       "      <td>Went to Iceland on Sat to ride bumper cars on ...</td>\n",
       "      <td>https://twitter.com/i/web/status/1421799282034...</td>\n",
       "      <td>[]</td>\n",
       "      <td>0</td>\n",
       "      <td>3</td>\n",
       "      <td>Thursday</td>\n",
       "      <td>9</td>\n",
       "    </tr>\n",
       "    <tr>\n",
       "      <th>142188458125963264</th>\n",
       "      <td>2011-12-01 10:29:04</td>\n",
       "      <td>I made the volume on the Model S http://t.co/w...</td>\n",
       "      <td>https://twitter.com/i/web/status/1421884581259...</td>\n",
       "      <td>[]</td>\n",
       "      <td>0</td>\n",
       "      <td>3</td>\n",
       "      <td>Thursday</td>\n",
       "      <td>10</td>\n",
       "    </tr>\n",
       "    <tr>\n",
       "      <th>142880871391838208</th>\n",
       "      <td>2011-12-03 08:20:28</td>\n",
       "      <td>Great Voltaire quote, arguably better than Twa...</td>\n",
       "      <td>https://twitter.com/i/web/status/1428808713918...</td>\n",
       "      <td>[]</td>\n",
       "      <td>0</td>\n",
       "      <td>5</td>\n",
       "      <td>Saturday</td>\n",
       "      <td>8</td>\n",
       "    </tr>\n",
       "    <tr>\n",
       "      <th>142881284019060736</th>\n",
       "      <td>2011-12-03 08:22:07</td>\n",
       "      <td>That was a total non sequitur btw</td>\n",
       "      <td>https://twitter.com/i/web/status/1428812840190...</td>\n",
       "      <td>[]</td>\n",
       "      <td>0</td>\n",
       "      <td>5</td>\n",
       "      <td>Saturday</td>\n",
       "      <td>8</td>\n",
       "    </tr>\n",
       "  </tbody>\n",
       "</table>\n",
       "</div>"
      ],
      "text/plain": [
       "                            created_at  \\\n",
       "id                                       \n",
       "15434727182        2010-06-04 18:31:57   \n",
       "142179928203460608 2011-12-01 09:55:11   \n",
       "142188458125963264 2011-12-01 10:29:04   \n",
       "142880871391838208 2011-12-03 08:20:28   \n",
       "142881284019060736 2011-12-03 08:22:07   \n",
       "\n",
       "                                                                 text  \\\n",
       "id                                                                      \n",
       "15434727182         Please ignore prior tweets, as that was someon...   \n",
       "142179928203460608  Went to Iceland on Sat to ride bumper cars on ...   \n",
       "142188458125963264  I made the volume on the Model S http://t.co/w...   \n",
       "142880871391838208  Great Voltaire quote, arguably better than Twa...   \n",
       "142881284019060736                  That was a total non sequitur btw   \n",
       "\n",
       "                                                           tweet_link  \\\n",
       "id                                                                      \n",
       "15434727182              https://twitter.com/i/web/status/15434727182   \n",
       "142179928203460608  https://twitter.com/i/web/status/1421799282034...   \n",
       "142188458125963264  https://twitter.com/i/web/status/1421884581259...   \n",
       "142880871391838208  https://twitter.com/i/web/status/1428808713918...   \n",
       "142881284019060736  https://twitter.com/i/web/status/1428812840190...   \n",
       "\n",
       "                   tweet_mentions  n_mentions  week_day week_day_name  \\\n",
       "id                                                                      \n",
       "15434727182                    []           0         4        Friday   \n",
       "142179928203460608             []           0         3      Thursday   \n",
       "142188458125963264             []           0         3      Thursday   \n",
       "142880871391838208             []           0         5      Saturday   \n",
       "142881284019060736             []           0         5      Saturday   \n",
       "\n",
       "                    day_hour  \n",
       "id                            \n",
       "15434727182               18  \n",
       "142179928203460608         9  \n",
       "142188458125963264        10  \n",
       "142880871391838208         8  \n",
       "142881284019060736         8  "
      ]
     },
     "execution_count": 117,
     "metadata": {},
     "output_type": "execute_result"
    }
   ],
   "source": [
    "df.sort_values(by='created_at', ascending=True).head()"
   ]
  },
  {
   "cell_type": "code",
   "execution_count": 118,
   "id": "1840fb42",
   "metadata": {
    "id": "Kv9H2D6bWjpO"
   },
   "outputs": [
    {
     "data": {
      "text/html": [
       "<div>\n",
       "<style scoped>\n",
       "    .dataframe tbody tr th:only-of-type {\n",
       "        vertical-align: middle;\n",
       "    }\n",
       "\n",
       "    .dataframe tbody tr th {\n",
       "        vertical-align: top;\n",
       "    }\n",
       "\n",
       "    .dataframe thead th {\n",
       "        text-align: right;\n",
       "    }\n",
       "</style>\n",
       "<table border=\"1\" class=\"dataframe\">\n",
       "  <thead>\n",
       "    <tr style=\"text-align: right;\">\n",
       "      <th></th>\n",
       "      <th>created_at</th>\n",
       "      <th>text</th>\n",
       "      <th>tweet_link</th>\n",
       "      <th>tweet_mentions</th>\n",
       "      <th>n_mentions</th>\n",
       "      <th>week_day</th>\n",
       "      <th>week_day_name</th>\n",
       "      <th>day_hour</th>\n",
       "    </tr>\n",
       "    <tr>\n",
       "      <th>id</th>\n",
       "      <th></th>\n",
       "      <th></th>\n",
       "      <th></th>\n",
       "      <th></th>\n",
       "      <th></th>\n",
       "      <th></th>\n",
       "      <th></th>\n",
       "      <th></th>\n",
       "    </tr>\n",
       "  </thead>\n",
       "  <tbody>\n",
       "    <tr>\n",
       "      <th>752721031735812096</th>\n",
       "      <td>2016-07-12 04:27:33</td>\n",
       "      <td>@kumailn @RealDaveBarton @JuddApatow @SiliconH...</td>\n",
       "      <td>https://twitter.com/i/web/status/7527210317358...</td>\n",
       "      <td>[@kumailn, @RealDaveBarton, @JuddApatow, @Sili...</td>\n",
       "      <td>6</td>\n",
       "      <td>1</td>\n",
       "      <td>Tuesday</td>\n",
       "      <td>4</td>\n",
       "    </tr>\n",
       "    <tr>\n",
       "      <th>303244501957365760</th>\n",
       "      <td>2013-02-17 20:48:17</td>\n",
       "      <td>RT @LawrenceChanin: @TeslaRoadTrip @avantgame ...</td>\n",
       "      <td>https://twitter.com/i/web/status/3032445019573...</td>\n",
       "      <td>[@LawrenceChanin, @TeslaRoadTrip, @avantgame, ...</td>\n",
       "      <td>6</td>\n",
       "      <td>6</td>\n",
       "      <td>Sunday</td>\n",
       "      <td>20</td>\n",
       "    </tr>\n",
       "    <tr>\n",
       "      <th>845289977051148289</th>\n",
       "      <td>2017-03-24 15:03:29</td>\n",
       "      <td>@faultywarrior @matt_trulli @FredericLambert @...</td>\n",
       "      <td>https://twitter.com/i/web/status/8452899770511...</td>\n",
       "      <td>[@faultywarrior, @matt_trulli, @FredericLamber...</td>\n",
       "      <td>5</td>\n",
       "      <td>4</td>\n",
       "      <td>Friday</td>\n",
       "      <td>15</td>\n",
       "    </tr>\n",
       "    <tr>\n",
       "      <th>672792504895434753</th>\n",
       "      <td>2015-12-04 15:00:07</td>\n",
       "      <td>RT @WSJLife: Supermodel @KarlieKloss blasts of...</td>\n",
       "      <td>https://twitter.com/i/web/status/6727925048954...</td>\n",
       "      <td>[@WSJLife, @KarlieKloss, @elonmusk, @spacex, @...</td>\n",
       "      <td>5</td>\n",
       "      <td>4</td>\n",
       "      <td>Friday</td>\n",
       "      <td>15</td>\n",
       "    </tr>\n",
       "    <tr>\n",
       "      <th>191005784862236672</th>\n",
       "      <td>2012-04-14 03:31:42</td>\n",
       "      <td>RT @SethGreen: My love @ClareGrant &amp; @elonmusk...</td>\n",
       "      <td>https://twitter.com/i/web/status/1910057848622...</td>\n",
       "      <td>[@SethGreen, @ClareGrant, @elonmusk, @SpaceX, ...</td>\n",
       "      <td>5</td>\n",
       "      <td>5</td>\n",
       "      <td>Saturday</td>\n",
       "      <td>3</td>\n",
       "    </tr>\n",
       "  </tbody>\n",
       "</table>\n",
       "</div>"
      ],
      "text/plain": [
       "                            created_at  \\\n",
       "id                                       \n",
       "752721031735812096 2016-07-12 04:27:33   \n",
       "303244501957365760 2013-02-17 20:48:17   \n",
       "845289977051148289 2017-03-24 15:03:29   \n",
       "672792504895434753 2015-12-04 15:00:07   \n",
       "191005784862236672 2012-04-14 03:31:42   \n",
       "\n",
       "                                                                 text  \\\n",
       "id                                                                      \n",
       "752721031735812096  @kumailn @RealDaveBarton @JuddApatow @SiliconH...   \n",
       "303244501957365760  RT @LawrenceChanin: @TeslaRoadTrip @avantgame ...   \n",
       "845289977051148289  @faultywarrior @matt_trulli @FredericLambert @...   \n",
       "672792504895434753  RT @WSJLife: Supermodel @KarlieKloss blasts of...   \n",
       "191005784862236672  RT @SethGreen: My love @ClareGrant & @elonmusk...   \n",
       "\n",
       "                                                           tweet_link  \\\n",
       "id                                                                      \n",
       "752721031735812096  https://twitter.com/i/web/status/7527210317358...   \n",
       "303244501957365760  https://twitter.com/i/web/status/3032445019573...   \n",
       "845289977051148289  https://twitter.com/i/web/status/8452899770511...   \n",
       "672792504895434753  https://twitter.com/i/web/status/6727925048954...   \n",
       "191005784862236672  https://twitter.com/i/web/status/1910057848622...   \n",
       "\n",
       "                                                       tweet_mentions  \\\n",
       "id                                                                      \n",
       "752721031735812096  [@kumailn, @RealDaveBarton, @JuddApatow, @Sili...   \n",
       "303244501957365760  [@LawrenceChanin, @TeslaRoadTrip, @avantgame, ...   \n",
       "845289977051148289  [@faultywarrior, @matt_trulli, @FredericLamber...   \n",
       "672792504895434753  [@WSJLife, @KarlieKloss, @elonmusk, @spacex, @...   \n",
       "191005784862236672  [@SethGreen, @ClareGrant, @elonmusk, @SpaceX, ...   \n",
       "\n",
       "                    n_mentions  week_day week_day_name  day_hour  \n",
       "id                                                                \n",
       "752721031735812096           6         1       Tuesday         4  \n",
       "303244501957365760           6         6        Sunday        20  \n",
       "845289977051148289           5         4        Friday        15  \n",
       "672792504895434753           5         4        Friday        15  \n",
       "191005784862236672           5         5      Saturday         3  "
      ]
     },
     "execution_count": 118,
     "metadata": {},
     "output_type": "execute_result"
    }
   ],
   "source": [
    "df.sort_values(by='n_mentions', ascending=False).head()"
   ]
  },
  {
   "cell_type": "markdown",
   "id": "20957fe1",
   "metadata": {
    "id": "kF2g6hKRWjpO"
   },
   "source": [
    "### Save\n",
    "\n",
    "Before continuing with the plotting, let's save our enhanced dataframe, so that we can come back to it without having to redo the same manipulations on it.\n",
    "\n",
    "`pandas` provides a number of handy functions to export dataframes in a variety of formats."
   ]
  },
  {
   "cell_type": "markdown",
   "id": "2523cf1a",
   "metadata": {
    "id": "CAXx_eFQWjpO"
   },
   "source": [
    "Here we use `.to_pickle()` to serialize the dataframe into a binary format, by using behind the scenes Python's `pickle` library."
   ]
  },
  {
   "cell_type": "code",
   "execution_count": 119,
   "id": "dea6127f",
   "metadata": {
    "id": "DJcFasz0WjpO"
   },
   "outputs": [],
   "source": [
    "df.to_pickle(\"stuff/musk_tweets_enhanced.pickle\")"
   ]
  },
  {
   "cell_type": "markdown",
   "id": "db13d941",
   "metadata": {
    "id": "XP15yKiGWjpO"
   },
   "source": [
    "## Part 2"
   ]
  },
  {
   "cell_type": "code",
   "execution_count": 120,
   "id": "c657995c",
   "metadata": {
    "id": "InFDIq1aWjpO"
   },
   "outputs": [],
   "source": [
    "df = pd.read_pickle(\"stuff/musk_tweets_enhanced.pickle\")"
   ]
  },
  {
   "cell_type": "markdown",
   "id": "36e1804a",
   "metadata": {
    "id": "_NV235sBWjpO"
   },
   "source": [
    "### `describe()`"
   ]
  },
  {
   "cell_type": "markdown",
   "id": "5f1a2211",
   "metadata": {
    "id": "W8GCeXlrWjpO"
   },
   "source": [
    "The default behavior is to include only column with numerical values"
   ]
  },
  {
   "cell_type": "code",
   "execution_count": 121,
   "id": "4585e1b1",
   "metadata": {
    "id": "do_rgIRFWjpP"
   },
   "outputs": [
    {
     "data": {
      "text/html": [
       "<div>\n",
       "<style scoped>\n",
       "    .dataframe tbody tr th:only-of-type {\n",
       "        vertical-align: middle;\n",
       "    }\n",
       "\n",
       "    .dataframe tbody tr th {\n",
       "        vertical-align: top;\n",
       "    }\n",
       "\n",
       "    .dataframe thead th {\n",
       "        text-align: right;\n",
       "    }\n",
       "</style>\n",
       "<table border=\"1\" class=\"dataframe\">\n",
       "  <thead>\n",
       "    <tr style=\"text-align: right;\">\n",
       "      <th></th>\n",
       "      <th>n_mentions</th>\n",
       "      <th>week_day</th>\n",
       "      <th>day_hour</th>\n",
       "    </tr>\n",
       "  </thead>\n",
       "  <tbody>\n",
       "    <tr>\n",
       "      <th>count</th>\n",
       "      <td>2819.000000</td>\n",
       "      <td>2819.000000</td>\n",
       "      <td>2819.000000</td>\n",
       "    </tr>\n",
       "    <tr>\n",
       "      <th>mean</th>\n",
       "      <td>0.807733</td>\n",
       "      <td>3.196169</td>\n",
       "      <td>12.782547</td>\n",
       "    </tr>\n",
       "    <tr>\n",
       "      <th>std</th>\n",
       "      <td>0.859091</td>\n",
       "      <td>1.946637</td>\n",
       "      <td>7.611198</td>\n",
       "    </tr>\n",
       "    <tr>\n",
       "      <th>min</th>\n",
       "      <td>0.000000</td>\n",
       "      <td>0.000000</td>\n",
       "      <td>0.000000</td>\n",
       "    </tr>\n",
       "    <tr>\n",
       "      <th>25%</th>\n",
       "      <td>0.000000</td>\n",
       "      <td>2.000000</td>\n",
       "      <td>5.000000</td>\n",
       "    </tr>\n",
       "    <tr>\n",
       "      <th>50%</th>\n",
       "      <td>1.000000</td>\n",
       "      <td>3.000000</td>\n",
       "      <td>15.000000</td>\n",
       "    </tr>\n",
       "    <tr>\n",
       "      <th>75%</th>\n",
       "      <td>1.000000</td>\n",
       "      <td>5.000000</td>\n",
       "      <td>19.000000</td>\n",
       "    </tr>\n",
       "    <tr>\n",
       "      <th>max</th>\n",
       "      <td>6.000000</td>\n",
       "      <td>6.000000</td>\n",
       "      <td>23.000000</td>\n",
       "    </tr>\n",
       "  </tbody>\n",
       "</table>\n",
       "</div>"
      ],
      "text/plain": [
       "        n_mentions     week_day     day_hour\n",
       "count  2819.000000  2819.000000  2819.000000\n",
       "mean      0.807733     3.196169    12.782547\n",
       "std       0.859091     1.946637     7.611198\n",
       "min       0.000000     0.000000     0.000000\n",
       "25%       0.000000     2.000000     5.000000\n",
       "50%       1.000000     3.000000    15.000000\n",
       "75%       1.000000     5.000000    19.000000\n",
       "max       6.000000     6.000000    23.000000"
      ]
     },
     "execution_count": 121,
     "metadata": {},
     "output_type": "execute_result"
    }
   ],
   "source": [
    "df.describe()"
   ]
  },
  {
   "cell_type": "markdown",
   "id": "5b1044eb",
   "metadata": {
    "id": "imeVXNXEWjpP"
   },
   "source": [
    "A trick to include more values is to exclude the datatype on which it breaks, which in our case is `list`."
   ]
  },
  {
   "cell_type": "code",
   "execution_count": 122,
   "id": "48dc8a8e",
   "metadata": {
    "id": "lWJ-qEuuWjpP"
   },
   "outputs": [
    {
     "name": "stderr",
     "output_type": "stream",
     "text": [
      "/tmp/ipykernel_25172/4047585927.py:1: FutureWarning: Treating datetime data as categorical rather than numeric in `.describe` is deprecated and will be removed in a future version of pandas. Specify `datetime_is_numeric=True` to silence this warning and adopt the future behavior now.\n",
      "  df.describe(exclude=[list])\n"
     ]
    },
    {
     "data": {
      "text/html": [
       "<div>\n",
       "<style scoped>\n",
       "    .dataframe tbody tr th:only-of-type {\n",
       "        vertical-align: middle;\n",
       "    }\n",
       "\n",
       "    .dataframe tbody tr th {\n",
       "        vertical-align: top;\n",
       "    }\n",
       "\n",
       "    .dataframe thead th {\n",
       "        text-align: right;\n",
       "    }\n",
       "</style>\n",
       "<table border=\"1\" class=\"dataframe\">\n",
       "  <thead>\n",
       "    <tr style=\"text-align: right;\">\n",
       "      <th></th>\n",
       "      <th>created_at</th>\n",
       "      <th>n_mentions</th>\n",
       "      <th>week_day</th>\n",
       "      <th>day_hour</th>\n",
       "    </tr>\n",
       "  </thead>\n",
       "  <tbody>\n",
       "    <tr>\n",
       "      <th>count</th>\n",
       "      <td>2819</td>\n",
       "      <td>2819.000000</td>\n",
       "      <td>2819.000000</td>\n",
       "      <td>2819.000000</td>\n",
       "    </tr>\n",
       "    <tr>\n",
       "      <th>unique</th>\n",
       "      <td>2819</td>\n",
       "      <td>NaN</td>\n",
       "      <td>NaN</td>\n",
       "      <td>NaN</td>\n",
       "    </tr>\n",
       "    <tr>\n",
       "      <th>top</th>\n",
       "      <td>2017-04-05 14:56:29</td>\n",
       "      <td>NaN</td>\n",
       "      <td>NaN</td>\n",
       "      <td>NaN</td>\n",
       "    </tr>\n",
       "    <tr>\n",
       "      <th>freq</th>\n",
       "      <td>1</td>\n",
       "      <td>NaN</td>\n",
       "      <td>NaN</td>\n",
       "      <td>NaN</td>\n",
       "    </tr>\n",
       "    <tr>\n",
       "      <th>first</th>\n",
       "      <td>2010-06-04 18:31:57</td>\n",
       "      <td>NaN</td>\n",
       "      <td>NaN</td>\n",
       "      <td>NaN</td>\n",
       "    </tr>\n",
       "    <tr>\n",
       "      <th>last</th>\n",
       "      <td>2017-04-05 14:56:29</td>\n",
       "      <td>NaN</td>\n",
       "      <td>NaN</td>\n",
       "      <td>NaN</td>\n",
       "    </tr>\n",
       "    <tr>\n",
       "      <th>mean</th>\n",
       "      <td>NaN</td>\n",
       "      <td>0.807733</td>\n",
       "      <td>3.196169</td>\n",
       "      <td>12.782547</td>\n",
       "    </tr>\n",
       "    <tr>\n",
       "      <th>std</th>\n",
       "      <td>NaN</td>\n",
       "      <td>0.859091</td>\n",
       "      <td>1.946637</td>\n",
       "      <td>7.611198</td>\n",
       "    </tr>\n",
       "    <tr>\n",
       "      <th>min</th>\n",
       "      <td>NaN</td>\n",
       "      <td>0.000000</td>\n",
       "      <td>0.000000</td>\n",
       "      <td>0.000000</td>\n",
       "    </tr>\n",
       "    <tr>\n",
       "      <th>25%</th>\n",
       "      <td>NaN</td>\n",
       "      <td>0.000000</td>\n",
       "      <td>2.000000</td>\n",
       "      <td>5.000000</td>\n",
       "    </tr>\n",
       "    <tr>\n",
       "      <th>50%</th>\n",
       "      <td>NaN</td>\n",
       "      <td>1.000000</td>\n",
       "      <td>3.000000</td>\n",
       "      <td>15.000000</td>\n",
       "    </tr>\n",
       "    <tr>\n",
       "      <th>75%</th>\n",
       "      <td>NaN</td>\n",
       "      <td>1.000000</td>\n",
       "      <td>5.000000</td>\n",
       "      <td>19.000000</td>\n",
       "    </tr>\n",
       "    <tr>\n",
       "      <th>max</th>\n",
       "      <td>NaN</td>\n",
       "      <td>6.000000</td>\n",
       "      <td>6.000000</td>\n",
       "      <td>23.000000</td>\n",
       "    </tr>\n",
       "  </tbody>\n",
       "</table>\n",
       "</div>"
      ],
      "text/plain": [
       "                 created_at   n_mentions     week_day     day_hour\n",
       "count                  2819  2819.000000  2819.000000  2819.000000\n",
       "unique                 2819          NaN          NaN          NaN\n",
       "top     2017-04-05 14:56:29          NaN          NaN          NaN\n",
       "freq                      1          NaN          NaN          NaN\n",
       "first   2010-06-04 18:31:57          NaN          NaN          NaN\n",
       "last    2017-04-05 14:56:29          NaN          NaN          NaN\n",
       "mean                    NaN     0.807733     3.196169    12.782547\n",
       "std                     NaN     0.859091     1.946637     7.611198\n",
       "min                     NaN     0.000000     0.000000     0.000000\n",
       "25%                     NaN     0.000000     2.000000     5.000000\n",
       "50%                     NaN     1.000000     3.000000    15.000000\n",
       "75%                     NaN     1.000000     5.000000    19.000000\n",
       "max                     NaN     6.000000     6.000000    23.000000"
      ]
     },
     "execution_count": 122,
     "metadata": {},
     "output_type": "execute_result"
    }
   ],
   "source": [
    "df.describe(exclude=[list])"
   ]
  },
  {
   "cell_type": "code",
   "execution_count": 123,
   "id": "e82a2e76",
   "metadata": {
    "id": "HVmtrWgAWjpP"
   },
   "outputs": [
    {
     "data": {
      "text/plain": [
       "count                             2819\n",
       "mean     2015-03-24 20:24:24.578928896\n",
       "min                2010-06-04 18:31:57\n",
       "25%                2013-06-28 18:27:19\n",
       "50%                2015-10-21 23:14:33\n",
       "75%                2016-08-30 04:08:30\n",
       "max                2017-04-05 14:56:29\n",
       "Name: created_at, dtype: object"
      ]
     },
     "execution_count": 123,
     "metadata": {},
     "output_type": "execute_result"
    }
   ],
   "source": [
    "df.created_at.describe(datetime_is_numeric=True)"
   ]
  },
  {
   "cell_type": "code",
   "execution_count": 124,
   "id": "fca438c7",
   "metadata": {
    "id": "kf56VOrmWjpP"
   },
   "outputs": [],
   "source": [
    "df['week_day_name'] = df['week_day_name'].astype('category')"
   ]
  },
  {
   "cell_type": "code",
   "execution_count": 125,
   "id": "d3754f11",
   "metadata": {
    "id": "q9C-ZeKYWjpP"
   },
   "outputs": [
    {
     "name": "stderr",
     "output_type": "stream",
     "text": [
      "/tmp/ipykernel_25172/1424112182.py:1: FutureWarning: Treating datetime data as categorical rather than numeric in `.describe` is deprecated and will be removed in a future version of pandas. Specify `datetime_is_numeric=True` to silence this warning and adopt the future behavior now.\n",
      "  df.describe(exclude=['object'])\n"
     ]
    },
    {
     "data": {
      "text/html": [
       "<div>\n",
       "<style scoped>\n",
       "    .dataframe tbody tr th:only-of-type {\n",
       "        vertical-align: middle;\n",
       "    }\n",
       "\n",
       "    .dataframe tbody tr th {\n",
       "        vertical-align: top;\n",
       "    }\n",
       "\n",
       "    .dataframe thead th {\n",
       "        text-align: right;\n",
       "    }\n",
       "</style>\n",
       "<table border=\"1\" class=\"dataframe\">\n",
       "  <thead>\n",
       "    <tr style=\"text-align: right;\">\n",
       "      <th></th>\n",
       "      <th>created_at</th>\n",
       "      <th>n_mentions</th>\n",
       "      <th>week_day</th>\n",
       "      <th>week_day_name</th>\n",
       "      <th>day_hour</th>\n",
       "    </tr>\n",
       "  </thead>\n",
       "  <tbody>\n",
       "    <tr>\n",
       "      <th>count</th>\n",
       "      <td>2819</td>\n",
       "      <td>2819.000000</td>\n",
       "      <td>2819.000000</td>\n",
       "      <td>2819</td>\n",
       "      <td>2819.000000</td>\n",
       "    </tr>\n",
       "    <tr>\n",
       "      <th>unique</th>\n",
       "      <td>2819</td>\n",
       "      <td>NaN</td>\n",
       "      <td>NaN</td>\n",
       "      <td>7</td>\n",
       "      <td>NaN</td>\n",
       "    </tr>\n",
       "    <tr>\n",
       "      <th>top</th>\n",
       "      <td>2017-04-05 14:56:29</td>\n",
       "      <td>NaN</td>\n",
       "      <td>NaN</td>\n",
       "      <td>Friday</td>\n",
       "      <td>NaN</td>\n",
       "    </tr>\n",
       "    <tr>\n",
       "      <th>freq</th>\n",
       "      <td>1</td>\n",
       "      <td>NaN</td>\n",
       "      <td>NaN</td>\n",
       "      <td>530</td>\n",
       "      <td>NaN</td>\n",
       "    </tr>\n",
       "    <tr>\n",
       "      <th>first</th>\n",
       "      <td>2010-06-04 18:31:57</td>\n",
       "      <td>NaN</td>\n",
       "      <td>NaN</td>\n",
       "      <td>NaN</td>\n",
       "      <td>NaN</td>\n",
       "    </tr>\n",
       "    <tr>\n",
       "      <th>last</th>\n",
       "      <td>2017-04-05 14:56:29</td>\n",
       "      <td>NaN</td>\n",
       "      <td>NaN</td>\n",
       "      <td>NaN</td>\n",
       "      <td>NaN</td>\n",
       "    </tr>\n",
       "    <tr>\n",
       "      <th>mean</th>\n",
       "      <td>NaN</td>\n",
       "      <td>0.807733</td>\n",
       "      <td>3.196169</td>\n",
       "      <td>NaN</td>\n",
       "      <td>12.782547</td>\n",
       "    </tr>\n",
       "    <tr>\n",
       "      <th>std</th>\n",
       "      <td>NaN</td>\n",
       "      <td>0.859091</td>\n",
       "      <td>1.946637</td>\n",
       "      <td>NaN</td>\n",
       "      <td>7.611198</td>\n",
       "    </tr>\n",
       "    <tr>\n",
       "      <th>min</th>\n",
       "      <td>NaN</td>\n",
       "      <td>0.000000</td>\n",
       "      <td>0.000000</td>\n",
       "      <td>NaN</td>\n",
       "      <td>0.000000</td>\n",
       "    </tr>\n",
       "    <tr>\n",
       "      <th>25%</th>\n",
       "      <td>NaN</td>\n",
       "      <td>0.000000</td>\n",
       "      <td>2.000000</td>\n",
       "      <td>NaN</td>\n",
       "      <td>5.000000</td>\n",
       "    </tr>\n",
       "    <tr>\n",
       "      <th>50%</th>\n",
       "      <td>NaN</td>\n",
       "      <td>1.000000</td>\n",
       "      <td>3.000000</td>\n",
       "      <td>NaN</td>\n",
       "      <td>15.000000</td>\n",
       "    </tr>\n",
       "    <tr>\n",
       "      <th>75%</th>\n",
       "      <td>NaN</td>\n",
       "      <td>1.000000</td>\n",
       "      <td>5.000000</td>\n",
       "      <td>NaN</td>\n",
       "      <td>19.000000</td>\n",
       "    </tr>\n",
       "    <tr>\n",
       "      <th>max</th>\n",
       "      <td>NaN</td>\n",
       "      <td>6.000000</td>\n",
       "      <td>6.000000</td>\n",
       "      <td>NaN</td>\n",
       "      <td>23.000000</td>\n",
       "    </tr>\n",
       "  </tbody>\n",
       "</table>\n",
       "</div>"
      ],
      "text/plain": [
       "                 created_at   n_mentions     week_day week_day_name  \\\n",
       "count                  2819  2819.000000  2819.000000          2819   \n",
       "unique                 2819          NaN          NaN             7   \n",
       "top     2017-04-05 14:56:29          NaN          NaN        Friday   \n",
       "freq                      1          NaN          NaN           530   \n",
       "first   2010-06-04 18:31:57          NaN          NaN           NaN   \n",
       "last    2017-04-05 14:56:29          NaN          NaN           NaN   \n",
       "mean                    NaN     0.807733     3.196169           NaN   \n",
       "std                     NaN     0.859091     1.946637           NaN   \n",
       "min                     NaN     0.000000     0.000000           NaN   \n",
       "25%                     NaN     0.000000     2.000000           NaN   \n",
       "50%                     NaN     1.000000     3.000000           NaN   \n",
       "75%                     NaN     1.000000     5.000000           NaN   \n",
       "max                     NaN     6.000000     6.000000           NaN   \n",
       "\n",
       "           day_hour  \n",
       "count   2819.000000  \n",
       "unique          NaN  \n",
       "top             NaN  \n",
       "freq            NaN  \n",
       "first           NaN  \n",
       "last            NaN  \n",
       "mean      12.782547  \n",
       "std        7.611198  \n",
       "min        0.000000  \n",
       "25%        5.000000  \n",
       "50%       15.000000  \n",
       "75%       19.000000  \n",
       "max       23.000000  "
      ]
     },
     "execution_count": 125,
     "metadata": {},
     "output_type": "execute_result"
    }
   ],
   "source": [
    "df.describe(exclude=['object'])"
   ]
  },
  {
   "cell_type": "markdown",
   "id": "f615db63",
   "metadata": {
    "id": "qtuFoYDKWjpP"
   },
   "source": [
    "### Plotting"
   ]
  },
  {
   "cell_type": "code",
   "execution_count": 126,
   "id": "3ec09827",
   "metadata": {
    "id": "Ept3KEdqWjpP"
   },
   "outputs": [],
   "source": [
    "# Not needed in newest Pandas version\n",
    "%matplotlib inline \n",
    "\n",
    "import matplotlib.pyplot as plt"
   ]
  },
  {
   "cell_type": "markdown",
   "id": "35f3655b",
   "metadata": {
    "id": "a6a3V4JnWjpQ"
   },
   "source": [
    "#### Histograms\n",
    "\n",
    "They are useful to see the distribution of a certain variable in your dataset."
   ]
  },
  {
   "cell_type": "code",
   "execution_count": 127,
   "id": "55d6e409",
   "metadata": {
    "id": "WSIvsnS2WjpQ"
   },
   "outputs": [
    {
     "data": {
      "text/html": [
       "<div>\n",
       "<style scoped>\n",
       "    .dataframe tbody tr th:only-of-type {\n",
       "        vertical-align: middle;\n",
       "    }\n",
       "\n",
       "    .dataframe tbody tr th {\n",
       "        vertical-align: top;\n",
       "    }\n",
       "\n",
       "    .dataframe thead th {\n",
       "        text-align: right;\n",
       "    }\n",
       "</style>\n",
       "<table border=\"1\" class=\"dataframe\">\n",
       "  <thead>\n",
       "    <tr style=\"text-align: right;\">\n",
       "      <th></th>\n",
       "      <th>text</th>\n",
       "    </tr>\n",
       "    <tr>\n",
       "      <th>n_mentions</th>\n",
       "      <th></th>\n",
       "    </tr>\n",
       "  </thead>\n",
       "  <tbody>\n",
       "    <tr>\n",
       "      <th>0</th>\n",
       "      <td>1145</td>\n",
       "    </tr>\n",
       "    <tr>\n",
       "      <th>1</th>\n",
       "      <td>1231</td>\n",
       "    </tr>\n",
       "    <tr>\n",
       "      <th>2</th>\n",
       "      <td>329</td>\n",
       "    </tr>\n",
       "    <tr>\n",
       "      <th>3</th>\n",
       "      <td>78</td>\n",
       "    </tr>\n",
       "    <tr>\n",
       "      <th>4</th>\n",
       "      <td>28</td>\n",
       "    </tr>\n",
       "    <tr>\n",
       "      <th>5</th>\n",
       "      <td>6</td>\n",
       "    </tr>\n",
       "    <tr>\n",
       "      <th>6</th>\n",
       "      <td>2</td>\n",
       "    </tr>\n",
       "  </tbody>\n",
       "</table>\n",
       "</div>"
      ],
      "text/plain": [
       "            text\n",
       "n_mentions      \n",
       "0           1145\n",
       "1           1231\n",
       "2            329\n",
       "3             78\n",
       "4             28\n",
       "5              6\n",
       "6              2"
      ]
     },
     "execution_count": 127,
     "metadata": {},
     "output_type": "execute_result"
    }
   ],
   "source": [
    "df.groupby(['n_mentions'])[['text']].count()"
   ]
  },
  {
   "cell_type": "code",
   "execution_count": 128,
   "id": "171a4069",
   "metadata": {
    "id": "jf8tZ8zeWjpQ"
   },
   "outputs": [
    {
     "data": {
      "image/png": "[encoded data removed]",
      "text/plain": [
       "<Figure size 720x432 with 1 Axes>"
      ]
     },
     "metadata": {
      "needs_background": "light"
     },
     "output_type": "display_data"
    }
   ],
   "source": [
    "plt.figure(figsize=(10, 6))\n",
    "plt.hist(df.n_mentions, bins='auto', rwidth=1.0)\n",
    "plt.title('Distribution of the number of mentions per tweet')\n",
    "plt.ylabel(\"Tweets\")\n",
    "plt.xlabel(\"Mentions (per tweet)\")\n",
    "plt.show()"
   ]
  },
  {
   "cell_type": "code",
   "execution_count": 129,
   "id": "c7068f68",
   "metadata": {
    "id": "Mw3FT2I1WjpQ"
   },
   "outputs": [
    {
     "data": {
      "image/png": "[encoded data removed]",
      "text/plain": [
       "<Figure size 720x432 with 1 Axes>"
      ]
     },
     "metadata": {
      "needs_background": "light"
     },
     "output_type": "display_data"
    }
   ],
   "source": [
    "plt.figure(figsize=(10, 6))\n",
    "plt.hist(df.day_hour, bins='auto', rwidth=0.6)\n",
    "plt.title('Distribution of the number of mentions per tweet')\n",
    "plt.ylabel(\"Tweets\")\n",
    "plt.xlabel(\"Hour of the day\")\n",
    "plt.show()"
   ]
  },
  {
   "cell_type": "code",
   "execution_count": 130,
   "id": "80d2d8c2",
   "metadata": {
    "id": "1nhigOF3WjpQ"
   },
   "outputs": [],
   "source": [
    "df_2017 = df[df.created_at.dt.year == 2017]"
   ]
  },
  {
   "cell_type": "code",
   "execution_count": 131,
   "id": "93ce83b6",
   "metadata": {
    "id": "DL5IrIngWjpQ"
   },
   "outputs": [
    {
     "data": {
      "image/png": "[encoded data removed]",
      "text/plain": [
       "<Figure size 720x432 with 1 Axes>"
      ]
     },
     "metadata": {
      "needs_background": "light"
     },
     "output_type": "display_data"
    }
   ],
   "source": [
    "plt.figure(figsize=(10, 6))\n",
    "plt.hist(df_2017.day_hour, bins='auto', rwidth=0.6)\n",
    "plt.title('Year 2017')\n",
    "plt.ylabel(\"Tweets\")\n",
    "plt.xlabel(\"Hour of the day\")\n",
    "plt.show()"
   ]
  },
  {
   "cell_type": "markdown",
   "id": "80c802f4",
   "metadata": {
    "id": "lY2JtrzhWjpQ"
   },
   "source": [
    "So far we have used directly `matplotlib` to generate our plots.\n",
    "\n",
    "`pandas`'s dataframes provide some methods that directly call `matplotlib`'s API behind the scenes:\n",
    "- `hist()` for histograms\n",
    "- `boxplot()` for boxplots\n",
    "- `plot()` for other types of plots (specified with e.g. `any='scatter'`)"
   ]
  },
  {
   "cell_type": "markdown",
   "id": "6a085f77",
   "metadata": {
    "id": "p_ctcaYrWjpQ"
   },
   "source": [
    "By passing the `by` parameter to e.g. `hist()` it is possible to produce one histogram plot of a given variable for each value in another column."
   ]
  },
  {
   "cell_type": "markdown",
   "id": "a82a0647",
   "metadata": {
    "id": "h35FvUBrWjpR"
   },
   "source": [
    "Let's see how we can plot the number of mentions by year:"
   ]
  },
  {
   "cell_type": "code",
   "execution_count": 132,
   "id": "439c75b4",
   "metadata": {
    "id": "fwDZHZOyWjpR"
   },
   "outputs": [],
   "source": [
    "df['year'] = df.created_at.dt.year"
   ]
  },
  {
   "cell_type": "code",
   "execution_count": 133,
   "id": "1a92ca3c",
   "metadata": {
    "id": "qabk8SHKWjpR"
   },
   "outputs": [
    {
     "data": {
      "image/png": "[encoded data removed]",
      "text/plain": [
       "<Figure size 720x720 with 9 Axes>"
      ]
     },
     "metadata": {
      "needs_background": "light"
     },
     "output_type": "display_data"
    }
   ],
   "source": [
    "axes = df.hist(column='day_hour', by='year', figsize=(10,10))"
   ]
  },
  {
   "cell_type": "markdown",
   "id": "e3a5980b",
   "metadata": {
    "id": "KxZG0diqWjpR"
   },
   "source": [
    "#### Bar charts\n",
    "\n",
    "They are useful to plot categorical data."
   ]
  },
  {
   "cell_type": "code",
   "execution_count": 134,
   "id": "751a8e58",
   "metadata": {
    "id": "nazqFakwWjpR"
   },
   "outputs": [],
   "source": [
    "plt.bar?"
   ]
  },
  {
   "cell_type": "code",
   "execution_count": 135,
   "id": "8c17a3d3",
   "metadata": {
    "id": "nROj0KQGWjpR"
   },
   "outputs": [],
   "source": [
    "tweets_by_weekday = df.groupby(df.created_at.dt.weekday)[['text']].count()"
   ]
  },
  {
   "cell_type": "code",
   "execution_count": 136,
   "id": "9b5b0d6d",
   "metadata": {
    "id": "pHrTiv6GWjpR"
   },
   "outputs": [],
   "source": [
    "week_days = [\n",
    "    \"Mon\",\n",
    "    \"Tue\",\n",
    "    \"Wed\",\n",
    "    \"Thur\",\n",
    "    \"Fri\",\n",
    "    \"Sat\",\n",
    "    \"Sun\"\n",
    "]"
   ]
  },
  {
   "cell_type": "code",
   "execution_count": 137,
   "id": "018ee481",
   "metadata": {
    "id": "u16bx22pWjpS"
   },
   "outputs": [
    {
     "data": {
      "image/png": "[encoded data removed]",
      "text/plain": [
       "<Figure size 576x432 with 1 Axes>"
      ]
     },
     "metadata": {
      "needs_background": "light"
     },
     "output_type": "display_data"
    }
   ],
   "source": [
    "plt.figure(figsize=(8, 6))\n",
    "\n",
    "# specify the type of plot and the labels\n",
    "# for the y axis (the bars)\n",
    "plt.bar(\n",
    "    tweets_by_weekday.index,\n",
    "    tweets_by_weekday.text,\n",
    "    tick_label=week_days,\n",
    "    width=0.5\n",
    ")\n",
    "\n",
    "# give a title to the plot\n",
    "plt.title('Elon Musk\\'s week on Twitter')\n",
    "\n",
    "# give a label to the axes\n",
    "plt.ylabel(\"Number of tweets\")\n",
    "plt.xlabel(\"Week day\")\n",
    "plt.show()"
   ]
  },
  {
   "cell_type": "markdown",
   "id": "057548c1",
   "metadata": {
    "id": "or-3iZHkWjpS"
   },
   "source": [
    "#### Box plots\n",
    "\n",
    "```{image} images/eda-boxplot.png\n",
    ":alt: edaboxplot\n",
    "```"
   ]
  },
  {
   "cell_type": "markdown",
   "id": "b8e8edbb",
   "metadata": {
    "id": "8diAjB28WjpS"
   },
   "source": [
    "### Outliers, missing values\n",
    "\n",
    "An *outlier* is an observation far from the center of mass of the distribution. It might be an error or a genuine observation: this distinction requires domain knowledge. Outliers infuence the outcomes of several statistics and machine learning methods: it is important to decide how to deal with them.\n",
    "\n",
    "A *missing value* is an observation without a value. There can be many reasons for a missing value: the value might not exist (hence its absence is informative and it should be left empty) or might not be known (hence the value is existing but missing in the dataset and it should be marked as NA).\n",
    "\n",
    "```{admonition} Tip\n",
    ":class: tip\n",
    "One way to think about the difference is with this Zen-like koan: An explicit missing value is the presence of an absence; an implicit missing value is the absence of a presence.\n",
    "```"
   ]
  },
  {
   "cell_type": "code",
   "execution_count": 138,
   "id": "6965d7ce",
   "metadata": {
    "id": "fqQ9M64yWjpS"
   },
   "outputs": [
    {
     "data": {
      "text/html": [
       "<div>\n",
       "<style scoped>\n",
       "    .dataframe tbody tr th:only-of-type {\n",
       "        vertical-align: middle;\n",
       "    }\n",
       "\n",
       "    .dataframe tbody tr th {\n",
       "        vertical-align: top;\n",
       "    }\n",
       "\n",
       "    .dataframe thead th {\n",
       "        text-align: right;\n",
       "    }\n",
       "</style>\n",
       "<table border=\"1\" class=\"dataframe\">\n",
       "  <thead>\n",
       "    <tr style=\"text-align: right;\">\n",
       "      <th></th>\n",
       "      <th>text</th>\n",
       "    </tr>\n",
       "    <tr>\n",
       "      <th>created_at</th>\n",
       "      <th></th>\n",
       "    </tr>\n",
       "  </thead>\n",
       "  <tbody>\n",
       "    <tr>\n",
       "      <th>0</th>\n",
       "      <td>315</td>\n",
       "    </tr>\n",
       "    <tr>\n",
       "      <th>1</th>\n",
       "      <td>385</td>\n",
       "    </tr>\n",
       "    <tr>\n",
       "      <th>2</th>\n",
       "      <td>380</td>\n",
       "    </tr>\n",
       "    <tr>\n",
       "      <th>3</th>\n",
       "      <td>361</td>\n",
       "    </tr>\n",
       "    <tr>\n",
       "      <th>4</th>\n",
       "      <td>530</td>\n",
       "    </tr>\n",
       "    <tr>\n",
       "      <th>5</th>\n",
       "      <td>426</td>\n",
       "    </tr>\n",
       "    <tr>\n",
       "      <th>6</th>\n",
       "      <td>422</td>\n",
       "    </tr>\n",
       "  </tbody>\n",
       "</table>\n",
       "</div>"
      ],
      "text/plain": [
       "            text\n",
       "created_at      \n",
       "0            315\n",
       "1            385\n",
       "2            380\n",
       "3            361\n",
       "4            530\n",
       "5            426\n",
       "6            422"
      ]
     },
     "execution_count": 138,
     "metadata": {},
     "output_type": "execute_result"
    }
   ],
   "source": [
    "tweets_by_weekday"
   ]
  },
  {
   "cell_type": "code",
   "execution_count": 139,
   "id": "119d7d93",
   "metadata": {
    "id": "MxF7BC66WjpS"
   },
   "outputs": [
    {
     "data": {
      "text/html": [
       "<div>\n",
       "<style scoped>\n",
       "    .dataframe tbody tr th:only-of-type {\n",
       "        vertical-align: middle;\n",
       "    }\n",
       "\n",
       "    .dataframe tbody tr th {\n",
       "        vertical-align: top;\n",
       "    }\n",
       "\n",
       "    .dataframe thead th {\n",
       "        text-align: right;\n",
       "    }\n",
       "</style>\n",
       "<table border=\"1\" class=\"dataframe\">\n",
       "  <thead>\n",
       "    <tr style=\"text-align: right;\">\n",
       "      <th></th>\n",
       "      <th>text</th>\n",
       "    </tr>\n",
       "  </thead>\n",
       "  <tbody>\n",
       "    <tr>\n",
       "      <th>count</th>\n",
       "      <td>7.000000</td>\n",
       "    </tr>\n",
       "    <tr>\n",
       "      <th>mean</th>\n",
       "      <td>402.714286</td>\n",
       "    </tr>\n",
       "    <tr>\n",
       "      <th>std</th>\n",
       "      <td>67.551744</td>\n",
       "    </tr>\n",
       "    <tr>\n",
       "      <th>min</th>\n",
       "      <td>315.000000</td>\n",
       "    </tr>\n",
       "    <tr>\n",
       "      <th>25%</th>\n",
       "      <td>370.500000</td>\n",
       "    </tr>\n",
       "    <tr>\n",
       "      <th>50%</th>\n",
       "      <td>385.000000</td>\n",
       "    </tr>\n",
       "    <tr>\n",
       "      <th>75%</th>\n",
       "      <td>424.000000</td>\n",
       "    </tr>\n",
       "    <tr>\n",
       "      <th>max</th>\n",
       "      <td>530.000000</td>\n",
       "    </tr>\n",
       "  </tbody>\n",
       "</table>\n",
       "</div>"
      ],
      "text/plain": [
       "             text\n",
       "count    7.000000\n",
       "mean   402.714286\n",
       "std     67.551744\n",
       "min    315.000000\n",
       "25%    370.500000\n",
       "50%    385.000000\n",
       "75%    424.000000\n",
       "max    530.000000"
      ]
     },
     "execution_count": 139,
     "metadata": {},
     "output_type": "execute_result"
    }
   ],
   "source": [
    "tweets_by_weekday.describe()"
   ]
  },
  {
   "cell_type": "code",
   "execution_count": 140,
   "id": "3af07175",
   "metadata": {
    "id": "TMk9HWgKWjpS"
   },
   "outputs": [
    {
     "data": {
      "text/plain": [
       "<AxesSubplot:>"
      ]
     },
     "execution_count": 140,
     "metadata": {},
     "output_type": "execute_result"
    },
    {
     "data": {
      "image/png": "[encoded data removed]",
      "text/plain": [
       "<Figure size 432x288 with 1 Axes>"
      ]
     },
     "metadata": {
      "needs_background": "light"
     },
     "output_type": "display_data"
    }
   ],
   "source": [
    "tweets_by_weekday.boxplot()"
   ]
  },
  {
   "cell_type": "code",
   "execution_count": 141,
   "id": "ffdfdbf8",
   "metadata": {
    "id": "mQynlW_qWjpS"
   },
   "outputs": [],
   "source": [
    "plt.bar?"
   ]
  },
  {
   "cell_type": "code",
   "execution_count": 142,
   "id": "55ef664f",
   "metadata": {
    "id": "pWog_GvdWjpS"
   },
   "outputs": [
    {
     "data": {
      "text/html": [
       "<div>\n",
       "<style scoped>\n",
       "    .dataframe tbody tr th:only-of-type {\n",
       "        vertical-align: middle;\n",
       "    }\n",
       "\n",
       "    .dataframe tbody tr th {\n",
       "        vertical-align: top;\n",
       "    }\n",
       "\n",
       "    .dataframe thead th {\n",
       "        text-align: right;\n",
       "    }\n",
       "</style>\n",
       "<table border=\"1\" class=\"dataframe\">\n",
       "  <thead>\n",
       "    <tr style=\"text-align: right;\">\n",
       "      <th></th>\n",
       "      <th>created_at</th>\n",
       "      <th>text</th>\n",
       "      <th>tweet_link</th>\n",
       "      <th>tweet_mentions</th>\n",
       "      <th>n_mentions</th>\n",
       "      <th>week_day</th>\n",
       "      <th>week_day_name</th>\n",
       "      <th>day_hour</th>\n",
       "      <th>year</th>\n",
       "    </tr>\n",
       "    <tr>\n",
       "      <th>id</th>\n",
       "      <th></th>\n",
       "      <th></th>\n",
       "      <th></th>\n",
       "      <th></th>\n",
       "      <th></th>\n",
       "      <th></th>\n",
       "      <th></th>\n",
       "      <th></th>\n",
       "      <th></th>\n",
       "    </tr>\n",
       "  </thead>\n",
       "  <tbody>\n",
       "    <tr>\n",
       "      <th>849636868052275200</th>\n",
       "      <td>2017-04-05 14:56:29</td>\n",
       "      <td>And so the robots spared humanity ... https://...</td>\n",
       "      <td>https://twitter.com/i/web/status/8496368680522...</td>\n",
       "      <td>[]</td>\n",
       "      <td>0</td>\n",
       "      <td>2</td>\n",
       "      <td>Wednesday</td>\n",
       "      <td>14</td>\n",
       "      <td>2017</td>\n",
       "    </tr>\n",
       "    <tr>\n",
       "      <th>848988730585096192</th>\n",
       "      <td>2017-04-03 20:01:01</td>\n",
       "      <td>@ForIn2020 @waltmossberg @mims @defcon_5 Exact...</td>\n",
       "      <td>https://twitter.com/i/web/status/8489887305850...</td>\n",
       "      <td>[@ForIn2020, @waltmossberg, @mims, @defcon_5]</td>\n",
       "      <td>4</td>\n",
       "      <td>0</td>\n",
       "      <td>Monday</td>\n",
       "      <td>20</td>\n",
       "      <td>2017</td>\n",
       "    </tr>\n",
       "    <tr>\n",
       "      <th>848943072423497728</th>\n",
       "      <td>2017-04-03 16:59:35</td>\n",
       "      <td>@waltmossberg @mims @defcon_5 Et tu, Walt?</td>\n",
       "      <td>https://twitter.com/i/web/status/8489430724234...</td>\n",
       "      <td>[@waltmossberg, @mims, @defcon_5]</td>\n",
       "      <td>3</td>\n",
       "      <td>0</td>\n",
       "      <td>Monday</td>\n",
       "      <td>16</td>\n",
       "      <td>2017</td>\n",
       "    </tr>\n",
       "  </tbody>\n",
       "</table>\n",
       "</div>"
      ],
      "text/plain": [
       "                            created_at  \\\n",
       "id                                       \n",
       "849636868052275200 2017-04-05 14:56:29   \n",
       "848988730585096192 2017-04-03 20:01:01   \n",
       "848943072423497728 2017-04-03 16:59:35   \n",
       "\n",
       "                                                                 text  \\\n",
       "id                                                                      \n",
       "849636868052275200  And so the robots spared humanity ... https://...   \n",
       "848988730585096192  @ForIn2020 @waltmossberg @mims @defcon_5 Exact...   \n",
       "848943072423497728         @waltmossberg @mims @defcon_5 Et tu, Walt?   \n",
       "\n",
       "                                                           tweet_link  \\\n",
       "id                                                                      \n",
       "849636868052275200  https://twitter.com/i/web/status/8496368680522...   \n",
       "848988730585096192  https://twitter.com/i/web/status/8489887305850...   \n",
       "848943072423497728  https://twitter.com/i/web/status/8489430724234...   \n",
       "\n",
       "                                                   tweet_mentions  n_mentions  \\\n",
       "id                                                                              \n",
       "849636868052275200                                             []           0   \n",
       "848988730585096192  [@ForIn2020, @waltmossberg, @mims, @defcon_5]           4   \n",
       "848943072423497728              [@waltmossberg, @mims, @defcon_5]           3   \n",
       "\n",
       "                    week_day week_day_name  day_hour  year  \n",
       "id                                                          \n",
       "849636868052275200         2     Wednesday        14  2017  \n",
       "848988730585096192         0        Monday        20  2017  \n",
       "848943072423497728         0        Monday        16  2017  "
      ]
     },
     "execution_count": 142,
     "metadata": {},
     "output_type": "execute_result"
    }
   ],
   "source": [
    "df.head(3)"
   ]
  },
  {
   "cell_type": "code",
   "execution_count": 143,
   "id": "56f5b9ce",
   "metadata": {
    "id": "qi9qNbwYWjpS"
   },
   "outputs": [
    {
     "data": {
      "text/html": [
       "<div>\n",
       "<style scoped>\n",
       "    .dataframe tbody tr th:only-of-type {\n",
       "        vertical-align: middle;\n",
       "    }\n",
       "\n",
       "    .dataframe tbody tr th {\n",
       "        vertical-align: top;\n",
       "    }\n",
       "\n",
       "    .dataframe thead th {\n",
       "        text-align: right;\n",
       "    }\n",
       "</style>\n",
       "<table border=\"1\" class=\"dataframe\">\n",
       "  <thead>\n",
       "    <tr style=\"text-align: right;\">\n",
       "      <th></th>\n",
       "      <th>day_hour</th>\n",
       "    </tr>\n",
       "  </thead>\n",
       "  <tbody>\n",
       "    <tr>\n",
       "      <th>count</th>\n",
       "      <td>2819.000000</td>\n",
       "    </tr>\n",
       "    <tr>\n",
       "      <th>mean</th>\n",
       "      <td>12.782547</td>\n",
       "    </tr>\n",
       "    <tr>\n",
       "      <th>std</th>\n",
       "      <td>7.611198</td>\n",
       "    </tr>\n",
       "    <tr>\n",
       "      <th>min</th>\n",
       "      <td>0.000000</td>\n",
       "    </tr>\n",
       "    <tr>\n",
       "      <th>25%</th>\n",
       "      <td>5.000000</td>\n",
       "    </tr>\n",
       "    <tr>\n",
       "      <th>50%</th>\n",
       "      <td>15.000000</td>\n",
       "    </tr>\n",
       "    <tr>\n",
       "      <th>75%</th>\n",
       "      <td>19.000000</td>\n",
       "    </tr>\n",
       "    <tr>\n",
       "      <th>max</th>\n",
       "      <td>23.000000</td>\n",
       "    </tr>\n",
       "  </tbody>\n",
       "</table>\n",
       "</div>"
      ],
      "text/plain": [
       "          day_hour\n",
       "count  2819.000000\n",
       "mean     12.782547\n",
       "std       7.611198\n",
       "min       0.000000\n",
       "25%       5.000000\n",
       "50%      15.000000\n",
       "75%      19.000000\n",
       "max      23.000000"
      ]
     },
     "execution_count": 143,
     "metadata": {},
     "output_type": "execute_result"
    }
   ],
   "source": [
    "df[['day_hour']].describe()"
   ]
  },
  {
   "cell_type": "code",
   "execution_count": 144,
   "id": "dbd6a014",
   "metadata": {
    "id": "Abyiaf0RWjpS"
   },
   "outputs": [
    {
     "data": {
      "text/plain": [
       "day_hour    5.0\n",
       "Name: 0.25, dtype: float64"
      ]
     },
     "execution_count": 144,
     "metadata": {},
     "output_type": "execute_result"
    }
   ],
   "source": [
    "df[['day_hour']].quantile(.25)"
   ]
  },
  {
   "cell_type": "code",
   "execution_count": 145,
   "id": "380e2b97",
   "metadata": {
    "id": "gWT70MgBWjpT"
   },
   "outputs": [],
   "source": [
    "df.boxplot?"
   ]
  },
  {
   "cell_type": "code",
   "execution_count": 146,
   "id": "c7f12982",
   "metadata": {
    "id": "N4DqfJyuWjpT"
   },
   "outputs": [
    {
     "data": {
      "image/png": "[encoded data removed]",
      "text/plain": [
       "<Figure size 576x432 with 1 Axes>"
      ]
     },
     "metadata": {
      "needs_background": "light"
     },
     "output_type": "display_data"
    }
   ],
   "source": [
    "df[['day_hour', 'week_day_name']].boxplot(\n",
    "    by='week_day_name',\n",
    "    grid=False,\n",
    "    figsize=(8,6),\n",
    "    fontsize=10\n",
    ")\n",
    "\n",
    "# give a title to the plot\n",
    "plt.title('')\n",
    "\n",
    "# give a label to the axes\n",
    "plt.xlabel(\"Day of the week\")\n",
    "plt.show()"
   ]
  },
  {
   "cell_type": "code",
   "execution_count": 147,
   "id": "a8d595ab",
   "metadata": {
    "id": "OljB9txHWjpT"
   },
   "outputs": [
    {
     "data": {
      "image/png": "[encoded data removed]",
      "text/plain": [
       "<Figure size 576x432 with 1 Axes>"
      ]
     },
     "metadata": {
      "needs_background": "light"
     },
     "output_type": "display_data"
    }
   ],
   "source": [
    "df[['day_hour', 'week_day']].boxplot(\n",
    "    by='week_day',\n",
    "    grid=True, # just to show the difference with/without\n",
    "    figsize=(8,6),\n",
    "    fontsize=10\n",
    ")\n",
    "\n",
    "# give a title to the plot\n",
    "plt.title('')\n",
    "\n",
    "# give a label to the axes\n",
    "plt.xlabel(\"Day of the week\")\n",
    "plt.show()"
   ]
  },
  {
   "cell_type": "markdown",
   "id": "ab22f3be",
   "metadata": {
    "id": "sybT6sNaWjpT"
   },
   "source": [
    "### Exercise 1.\n",
    "\n",
    "* Create a function that calculates the frequency of hashtags in tweets.\n",
    "* Test it on toy examples, to make sure it works.\n",
    "* Apply it to Elon Musk's tweets.\n",
    "* List the top 10 hashtags in the dataset."
   ]
  },
  {
   "cell_type": "code",
   "execution_count": 148,
   "id": "a37c5f0a",
   "metadata": {
    "id": "mkfqkxeSWjpT"
   },
   "outputs": [],
   "source": [
    "# Your code here."
   ]
  },
  {
   "cell_type": "markdown",
   "id": "faae58da",
   "metadata": {
    "id": "-vE_Pm5rWjpT"
   },
   "source": [
    "### Exercise 2.\n",
    "\n",
    "Read the file `data/adams-hhgttg.txt` and:\n",
    "\n",
    "- Count the number of occurrences per distinct word in the text.\n",
    "\n",
    "- Create a data frame with two columns: word and counts.\n",
    "\n",
    "- Plot the histogram of the word frequencies and think about what is happening."
   ]
  },
  {
   "cell_type": "code",
   "execution_count": 149,
   "id": "0e1f5a59",
   "metadata": {
    "id": "LuDfR5K4WjpT"
   },
   "outputs": [],
   "source": [
    "# Your code here."
   ]
  },
  {
   "cell_type": "markdown",
   "id": "15557f9c",
   "metadata": {
    "id": "XOOk4v2xWjpT"
   },
   "source": [
    "---"
   ]
  }
 ],
 "metadata": {
  "jupytext": {
   "text_representation": {
    "extension": ".md",
    "format_name": "myst",
    "format_version": 0.13,
    "jupytext_version": "1.11.5"
   }
  },
  "kernelspec": {
   "display_name": "Python 3",
   "language": "python",
   "name": "python3"
  },
  "language_info": {
   "codemirror_mode": {
    "name": "ipython",
    "version": 3
   },
   "file_extension": ".py",
   "mimetype": "text/x-python",
   "name": "python",
   "nbconvert_exporter": "python",
   "pygments_lexer": "ipython3",
   "version": "3.8.10"
  },
  "source_map": [
   14,
   18,
   26,
   30,
   34,
   55,
   64,
   89,
   93,
   97,
   124,
   128,
   134,
   138,
   151,
   192,
   197,
   203,
   209,
   213,
   237,
   241,
   245,
   257,
   266,
   270,
   276,
   282,
   288,
   295,
   303,
   308,
   314,
   320,
   326,
   330,
   338,
   344,
   350,
   356,
   360,
   367,
   371,
   376,
   382,
   390,
   394,
   406,
   411,
   417,
   421,
   425,
   432,
   437,
   446,
   459,
   464,
   470,
   489,
   494,
   510,
   516,
   520,
   524,
   530,
   536,
   540,
   546,
   552,
   556,
   562,
   568,
   576,
   580,
   586,
   592,
   598,
   612,
   616,
   622,
   628,
   634,
   640,
   646,
   652,
   663,
   669,
   677,
   681,
   689,
   696,
   700,
   706,
   710,
   714,
   720,
   724,
   730,
   736,
   742,
   746,
   753,
   757,
   763,
   769,
   776,
   780,
   786,
   792,
   798,
   805,
   809,
   816,
   820,
   827,
   831,
   835,
   841,
   847,
   851,
   857,
   861,
   865,
   874,
   880,
   884,
   888,
   895,
   901,
   907,
   913,
   919,
   925,
   931,
   937,
   943,
   947,
   951,
   955,
   959,
   965,
   974,
   981,
   988,
   998,
   1005,
   1011,
   1015,
   1019,
   1026,
   1032,
   1040,
   1046,
   1052,
   1058,
   1069,
   1073,
   1079,
   1085,
   1089,
   1095,
   1101,
   1105,
   1122,
   1128,
   1134,
   1140,
   1144,
   1168,
   1174,
   1180,
   1184,
   1190,
   1196,
   1200,
   1206,
   1212,
   1218,
   1225,
   1229,
   1239,
   1247,
   1257,
   1261,
   1267,
   1271,
   1277,
   1286,
   1292,
   1298,
   1302,
   1308,
   1312,
   1316,
   1322,
   1328,
   1336,
   1342,
   1346,
   1352,
   1359,
   1366,
   1372,
   1376,
   1385,
   1391,
   1404,
   1408,
   1429,
   1433,
   1439,
   1445,
   1451,
   1459,
   1463,
   1469,
   1473,
   1479,
   1483,
   1487,
   1493,
   1497,
   1503,
   1509,
   1515,
   1521,
   1525,
   1534,
   1540,
   1546,
   1557,
   1568,
   1574,
   1585,
   1594,
   1598,
   1602,
   1608,
   1614,
   1620,
   1626,
   1632,
   1646,
   1669,
   1677,
   1690,
   1696,
   1702,
   1708,
   1714,
   1720,
   1726,
   1732,
   1738,
   1756,
   1774,
   1783,
   1789,
   1801,
   1807
  ]
 },
 "nbformat": 4,
 "nbformat_minor": 5
}