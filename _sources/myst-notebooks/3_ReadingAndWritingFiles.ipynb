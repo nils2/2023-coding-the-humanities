{
 "cells": [
  {
   "cell_type": "markdown",
   "id": "b9e290de",
   "metadata": {
    "id": "BbzqtFzELl2Z"
   },
   "source": [
    "# Reading and writing files, JSON"
   ]
  },
  {
   "cell_type": "markdown",
   "id": "e48cdeb3",
   "metadata": {
    "id": "0HoMiC1FLl2d"
   },
   "source": [
    "## Contents:\n",
    "\n",
    "* File Input/Output\n",
    "* Reading and writing JSON"
   ]
  },
  {
   "cell_type": "markdown",
   "id": "c78b8639",
   "metadata": {
    "id": "AMeDEVq1Ll2f"
   },
   "source": [
    "## File Input/Output\n",
    "\n",
    "A huge portion of our input data will come from files that we have stored on our computer (on the file system). A lot of analysis of these files is done in memory in Python, when working with them. We have to save them back to the file system to store the results. So, mastering the art of reading and writing is crucial in programming.\n",
    "\n",
    "Until now, we have run stuff (almost instantly) in our Jupyter Notebooks, but imagine that we write code that takes a couple of ours to run on a large collection of files. Then we want to save the result, either for further analysis, or to make these files available (i.e. sharing) in your research."
   ]
  },
  {
   "cell_type": "markdown",
   "id": "0739b21e",
   "metadata": {
    "id": "jsPrvM_ZbpRz"
   },
   "source": [
    "### Files in Colab (repeated from notebook 2)\n",
    "\n",
    "In these examples, we will work with a file referred to as \"data/adams-hhgttg.txt\". This means there should be a directory called \"Data\" and inside of that there should be the file \"adams-hhgttg.txt\". You will find this in the course repository in the Notebooks directory. Obtain this file either by downloading the course repository and finding it there, or opening it on Github and saving the raw file.\n",
    "\n",
    "```{image} images/git-download.png\n",
    ":alt: gitdownload2\n",
    "```\n",
    "\n",
    "In Colab, you can view and edit the file system by clicking on the \"Files\" icon on the left side. You will see the file system of your Colab session there with a directory called \"sample_data\". You can make directories and upload files here."
   ]
  },
  {
   "cell_type": "markdown",
   "id": "3580e573",
   "metadata": {
    "id": "fFG2OGh3MsBC"
   },
   "source": [
    "Normally, you cannot upload a directory full of files, but there is a trick, which we will use here: you can upload zip files (containing multiple files and directories) and then unzip them.\n",
    "\n",
    "Find the \"data\" directory in the repository that you downloaded, and compress (zip) it. \n",
    "\n",
    "On Windows, this is unintuitively done by sending it to a compressed folder:\n",
    "\n",
    "```{image} images/how-to-zip.png\n",
    ":alt: howtozip2\n",
    "```\n",
    "\n",
    "\n",
    "On Apple, it is done by right-clicking on \"folder name\" and choosing the option 'Compress \"folder name\"'\n",
    "\n",
    "Then, in Colab's Files window, click \"Upload to session storage\" and upload your new zip file. \n",
    "\n",
    "Next, you can unzip it by running this code:"
   ]
  },
  {
   "cell_type": "code",
   "execution_count": 1,
   "id": "9fe4e874",
   "metadata": {
    "id": "IRkqTvIKOGS7"
   },
   "outputs": [
    {
     "name": "stdout",
     "output_type": "stream",
     "text": [
      "unzip:  cannot find or open data.zip, data.zip.zip or data.zip.ZIP.\r\n"
     ]
    }
   ],
   "source": [
    "!unzip data.zip"
   ]
  },
  {
   "cell_type": "markdown",
   "id": "024a1de4",
   "metadata": {
    "id": "iI6V4xvBOIC6"
   },
   "source": [
    "(This assumes your file is named data.zip, change the command if not)\n",
    "\n",
    "Now, you will have the directory with the data files of the course in your Colab session, but Colab doesn't always show the change immediately. **If you do not see it yet, click the \"Refresh\" button** (next to the Upload to session storage button) to show the change you just made. You should now have a directory called \"Data\" in your session and inside of that there should be the file \"adams-hhgttg.txt\", among other files.\n",
    "\n",
    "```{note}\n",
    "Colab sessions are temporary - the next time you load Colab to work on this notebook, you will have to upload your Data zip file and unzip it again.\n",
    "```\n",
    "\n",
    "\n",
    "#### Manually creating folders and files\n",
    "\n",
    "Besides the \"sample_data\" and \"data\" that you now have, you can make another directory by right-clicking somewhere in this file system window and choosing \"New folder\". For example, create a folder called Stuff for your code's output.\n",
    "\n",
    "#### Permanently saving your files: Google Drive\n",
    "\n",
    "There is also a more permanent solution, which is to link your Google Drive to your Colab session. You can do it by clicking the \"Mount Drive\" button in the Files window, or with this code:"
   ]
  },
  {
   "cell_type": "code",
   "execution_count": 2,
   "id": "6382f13b",
   "metadata": {
    "id": "KGZpJXs-BicZ"
   },
   "outputs": [
    {
     "ename": "ModuleNotFoundError",
     "evalue": "No module named 'google.colab'",
     "output_type": "error",
     "traceback": [
      "\u001b[0;31m---------------------------------------------------------------------------\u001b[0m",
      "\u001b[0;31mModuleNotFoundError\u001b[0m                       Traceback (most recent call last)",
      "Input \u001b[0;32mIn [2]\u001b[0m, in \u001b[0;36m<cell line: 1>\u001b[0;34m()\u001b[0m\n\u001b[0;32m----> 1\u001b[0m \u001b[38;5;28;01mfrom\u001b[39;00m \u001b[38;5;21;01mgoogle\u001b[39;00m\u001b[38;5;21;01m.\u001b[39;00m\u001b[38;5;21;01mcolab\u001b[39;00m \u001b[38;5;28;01mimport\u001b[39;00m drive\n\u001b[1;32m      2\u001b[0m drive\u001b[38;5;241m.\u001b[39mmount(\u001b[38;5;124m'\u001b[39m\u001b[38;5;124m/content/drive\u001b[39m\u001b[38;5;124m'\u001b[39m)\n",
      "\u001b[0;31mModuleNotFoundError\u001b[0m: No module named 'google.colab'"
     ]
    }
   ],
   "source": [
    "from google.colab import drive\n",
    "drive.mount('/content/drive')"
   ]
  },
  {
   "cell_type": "markdown",
   "id": "d81b423b",
   "metadata": {
    "id": "j919h41JBlYC"
   },
   "source": [
    "In the Files window, you will now see an additional directory called Drive. In this directory will be the contents of your Google Drive. If you put your data there, for example in a directory called \"data\", you will be able to access this from Colab. It will be located on the path `drive/data/file.txt`. Anything you put on Google Drive will still be there next time you open Colab, as long as you link your session to Google Drive again."
   ]
  },
  {
   "cell_type": "markdown",
   "id": "49d3d903",
   "metadata": {
    "id": "0pS65L62DovC"
   },
   "source": [
    "### Opening a file\n",
    "\n",
    "The following code opens a file in our filesystem, prints the first 10 lines and closes the file. Please note that this file must exist in your Colab session (when running on Colab) on your computer (when running locally).\n",
    "\n",
    "If you are working locally and you have only have downloaded this notebook, go back to the repository and download the file to the appropriate path (or change the path below). \n",
    "\n",
    "```{admonition} Tip\n",
    ":class: tip\n",
    "The code below shows you how the `open()` function works. It's better to use a `with` block (see below), which does this opening and closing for you.\n",
    "```"
   ]
  },
  {
   "cell_type": "code",
   "execution_count": 3,
   "id": "75834b89",
   "metadata": {
    "id": "61D4RcmKbpRz"
   },
   "outputs": [
    {
     "name": "stdout",
     "output_type": "stream",
     "text": [
      "The Hitch Hiker's Guide to the Galaxy \n",
      "\n",
      "\n",
      "\n",
      "for Jonny Brock and Clare Gorst \n",
      "\n",
      "and all other Arlingtoniansfor tea, sympathy, and a sofa\n",
      "\n",
      "\n",
      "\n",
      "\n",
      "\n",
      "\n",
      "\n",
      "Far out in the uncharted backwaters of the unfashionable  end  of\n",
      "\n",
      "the  western  spiral  arm  of  the Galaxy lies a small unregarded\n",
      "\n",
      "yellow sun.\n",
      "\n"
     ]
    }
   ],
   "source": [
    "infile = open('data/adams-hhgttg.txt', 'r', encoding='utf-8')\n",
    "#If you have put the file somewhere else, such as on your Drive, you should modify the path to open.\n",
    "#For example to '/drive/data/adams-hhgttg.txt'. Otherwise, you will get a FileNotFound error when running this code.\n",
    "\n",
    "for i, line in enumerate(infile):\n",
    "    if i == 10:\n",
    "        break\n",
    "    print(line)\n",
    "\n",
    "infile.close()"
   ]
  },
  {
   "cell_type": "markdown",
   "id": "6e608119",
   "metadata": {
    "id": "suRw8-EsLl2l"
   },
   "source": [
    "The key passage here is the one in which the `open()` function opens a file and return a **file object** (hint: try printing the type of `infile`), and it is commonly used with the following three parameters: the **name of the file** that we want to open, the **mode** and the **encoding**. \n",
    "\n",
    "- **filename**: the name of the file to open, this corresponds to the full/relative path to the file from the notebook. \n",
    "\n",
    "- the **mode** in which we want to open a file: the most commonly used values are `r` for **reading** (default, which means that you don't have to put this in explicitly), `w` for **writing** (overwriting existing files), and `a` for **appending**. (Note that [the documentation](https://docs.python.org/3/library/functions.html#open) report mode values that may be necessary in some exceptional case)\n",
    "\n",
    "- **encoding**: which mapping of string to code points (conversion to bytes) to use, more on this later."
   ]
  },
  {
   "cell_type": "markdown",
   "id": "519d6f51",
   "metadata": {
    "id": "EIbQT1KwLl2m"
   },
   "source": [
    "```{warning}\n",
    "Every opened file should be **closed** by using the function `close()` before the end of the program, or the file could be unavailable to successive manipulations or for other programs.\n",
    "```"
   ]
  },
  {
   "cell_type": "markdown",
   "id": "a63ca351",
   "metadata": {
    "id": "MgO2brA2Ll2n"
   },
   "source": [
    "There are other ways to read a text file, among which the use of the methods `read()` and `readlines()`, that would simplify the above function in:\n",
    "\n",
    "```python\n",
    "infile = open('data/adams-hhgttg.txt', 'r', encoding='utf-8')\n",
    "text = infile.readlines()\n",
    "print(text[:10])\n",
    "infile.close()\n",
    "```\n",
    "\n",
    "However, these methods **read the whole file at once**, thus creating capacity/efficiency problems when working with big corpora.\n",
    "\n",
    "In the solution we adopt here the input file is read line by line, so that at any given moment **only one line of text** is loaded into memory."
   ]
  },
  {
   "cell_type": "markdown",
   "id": "a52f9341",
   "metadata": {
    "id": "4JL_i71FLl2o"
   },
   "source": [
    "You can see all file object methods, including examples, on this W3schools page: https://www.w3schools.com/python/python_ref_file.asp"
   ]
  },
  {
   "cell_type": "markdown",
   "id": "e1e078f8",
   "metadata": {
    "id": "iwV3-2r3Ll2s"
   },
   "source": [
    "### The with statement \n",
    "\n",
    "A `with` statement is used to wrap the execution of a block of code.\n",
    "\n",
    "Using this construction to open files has three major advantages:\n",
    "\n",
    "- there is no need to explicitly  close the file (the file is automatically closed as soon as the nested code exits)\n",
    "- the file is closed automatically even when unhandled errors cause the program to crash\n",
    "- the code is way clearer (it is trivial to identify where in the code a file is opened) \n",
    "\n",
    "Thus, you can  make it yourself a bit easier. Forget about the explicit `.close()` method. The code above can be rewritten as follows:"
   ]
  },
  {
   "cell_type": "code",
   "execution_count": 4,
   "id": "8a144fae",
   "metadata": {
    "id": "p-ER3a7PLl2t"
   },
   "outputs": [
    {
     "name": "stdout",
     "output_type": "stream",
     "text": [
      "[\"The Hitch Hiker's Guide to the Galaxy \\n\", '\\n', 'for Jonny Brock and Clare Gorst \\n', 'and all other Arlingtoniansfor tea, sympathy, and a sofa\\n', '\\n', '\\n', '\\n', 'Far out in the uncharted backwaters of the unfashionable  end  of\\n', 'the  western  spiral  arm  of  the Galaxy lies a small unregarded\\n', 'yellow sun.\\n']\n"
     ]
    }
   ],
   "source": [
    "with open('data/adams-hhgttg.txt', encoding='utf-8') as infile:  # The file is opened\n",
    "    \n",
    "    lines = infile.readlines()\n",
    "    \n",
    "# As soon as we exit the indented scope, the file is closed again \n",
    "# (and made available to other programs on your computer)\n",
    "print(lines[:10])"
   ]
  },
  {
   "cell_type": "markdown",
   "id": "a41dc86e",
   "metadata": {
    "id": "veuE7hrzLl2u"
   },
   "source": [
    "The code in the indented with block is executed while the file is opened. It is automatically closed as the block is closed."
   ]
  },
  {
   "cell_type": "markdown",
   "id": "3e6a3166",
   "metadata": {
    "id": "yU0onORYPNPB"
   },
   "source": [
    "### Tokenization: Making sense of text files"
   ]
  },
  {
   "cell_type": "markdown",
   "id": "34dfb7f3",
   "metadata": {
    "id": "4F5sJUEUPRWF"
   },
   "source": [
    "When working in Media Studies or Linguistics, files that you want to process will very often be text files. We will learn more about this in notebook 5, but since we are already reading text files, here are a few basics.\n",
    "\n",
    "Python considers strings similar to a sequence of characters. However, as humans, we usually prefer to think of them as a sequence of words or sentences. The task of transforming a sequence of characters into a list of words (or other larger chunks) is called tokenization.\n",
    "\n",
    "Naively, we can say that words are delimited by spaces, and thus tokenize simply by splitting a string on spaces:"
   ]
  },
  {
   "cell_type": "code",
   "execution_count": 5,
   "id": "b8edb2c8",
   "metadata": {
    "colab": {
     "base_uri": "https://localhost:8080/"
    },
    "id": "YlymOqV3RKUU",
    "outputId": "3f8b3391-a686-45ba-b764-76c7c124036d"
   },
   "outputs": [
    {
     "data": {
      "text/plain": [
       "['A', 'word', 'is', 'what', 'is', 'between', 'spaces.', 'That', 'is', 'all.']"
      ]
     },
     "execution_count": 5,
     "metadata": {},
     "output_type": "execute_result"
    }
   ],
   "source": [
    "mytext = \"A word is what is between spaces. That is all.\"\n",
    "mytokens = mytext.split(\" \")\n",
    "mytokens"
   ]
  },
  {
   "cell_type": "markdown",
   "id": "e3e973db",
   "metadata": {
    "id": "B-ZrRuLRRdD7"
   },
   "source": [
    "However, now we see that our list includes the word `spaces.`, with a period, and `all.` This is not exactly what we want. If you try fancier things involving punctuation, you also get problems with emoticons :-( or acronyms (F.B.I.). What you should know for now is that other people have already tried to solve these problems, and you can use an existing tokenizer from the NLTK (Natural Language Toolkit) module. It works like this:"
   ]
  },
  {
   "cell_type": "code",
   "execution_count": 6,
   "id": "6337355c",
   "metadata": {
    "id": "d1AqJePCSKqV"
   },
   "outputs": [
    {
     "ename": "ModuleNotFoundError",
     "evalue": "No module named 'nltk'",
     "output_type": "error",
     "traceback": [
      "\u001b[0;31m---------------------------------------------------------------------------\u001b[0m",
      "\u001b[0;31mModuleNotFoundError\u001b[0m                       Traceback (most recent call last)",
      "Input \u001b[0;32mIn [6]\u001b[0m, in \u001b[0;36m<cell line: 1>\u001b[0;34m()\u001b[0m\n\u001b[0;32m----> 1\u001b[0m \u001b[38;5;28;01mimport\u001b[39;00m \u001b[38;5;21;01mnltk\u001b[39;00m\n\u001b[1;32m      2\u001b[0m mytext \u001b[38;5;241m=\u001b[39m \u001b[38;5;124m\"\u001b[39m\u001b[38;5;124mA word is what is between spaces. That is all.\u001b[39m\u001b[38;5;124m\"\u001b[39m\n\u001b[1;32m      3\u001b[0m mytokens_nltk \u001b[38;5;241m=\u001b[39m nltk\u001b[38;5;241m.\u001b[39mtokenize\u001b[38;5;241m.\u001b[39mword_tokenize(mytext)\n",
      "\u001b[0;31mModuleNotFoundError\u001b[0m: No module named 'nltk'"
     ]
    }
   ],
   "source": [
    "import nltk\n",
    "mytext = \"A word is what is between spaces. That is all.\"\n",
    "mytokens_nltk = nltk.tokenize.word_tokenize(mytext)\n",
    "mytokens_nltk"
   ]
  },
  {
   "cell_type": "markdown",
   "id": "0038d2fe",
   "metadata": {
    "id": "D3EuAjkvSpdR"
   },
   "source": [
    "If you are using Google Colab and try to run this, you probably get an error saying that some elements of NLTK were not found. Run the code below to download them into your Colab session and try again. You only need to do this once per session.\n",
    "\n",
    "If you are running Python on your laptop, you may have to install NLTK also, or download elements of it in the same way. You only need to do this once."
   ]
  },
  {
   "cell_type": "code",
   "execution_count": 7,
   "id": "b776dcf7",
   "metadata": {
    "id": "8GLg-HIUS7dc"
   },
   "outputs": [
    {
     "ename": "ModuleNotFoundError",
     "evalue": "No module named 'nltk'",
     "output_type": "error",
     "traceback": [
      "\u001b[0;31m---------------------------------------------------------------------------\u001b[0m",
      "\u001b[0;31mModuleNotFoundError\u001b[0m                       Traceback (most recent call last)",
      "Input \u001b[0;32mIn [7]\u001b[0m, in \u001b[0;36m<cell line: 1>\u001b[0;34m()\u001b[0m\n\u001b[0;32m----> 1\u001b[0m \u001b[38;5;28;01mimport\u001b[39;00m \u001b[38;5;21;01mnltk\u001b[39;00m\n\u001b[1;32m      2\u001b[0m nltk\u001b[38;5;241m.\u001b[39mdownload(\u001b[38;5;124m'\u001b[39m\u001b[38;5;124mpunkt\u001b[39m\u001b[38;5;124m'\u001b[39m)\n",
      "\u001b[0;31mModuleNotFoundError\u001b[0m: No module named 'nltk'"
     ]
    }
   ],
   "source": [
    "import nltk\n",
    "nltk.download('punkt')"
   ]
  },
  {
   "cell_type": "markdown",
   "id": "76729f52",
   "metadata": {
    "id": "05s1lvatTkiS"
   },
   "source": [
    "We can also tokenize a text into sentences, as it is often useful to know which words are in the same sentence. This is easily done with NLTK also:"
   ]
  },
  {
   "cell_type": "code",
   "execution_count": 8,
   "id": "a4b7dd34",
   "metadata": {
    "colab": {
     "base_uri": "https://localhost:8080/"
    },
    "id": "K3AK0a7VUCZM",
    "outputId": "50cc0d12-129d-4f5a-89cc-24b9acb94c6c"
   },
   "outputs": [
    {
     "ename": "ModuleNotFoundError",
     "evalue": "No module named 'nltk'",
     "output_type": "error",
     "traceback": [
      "\u001b[0;31m---------------------------------------------------------------------------\u001b[0m",
      "\u001b[0;31mModuleNotFoundError\u001b[0m                       Traceback (most recent call last)",
      "Input \u001b[0;32mIn [8]\u001b[0m, in \u001b[0;36m<cell line: 1>\u001b[0;34m()\u001b[0m\n\u001b[0;32m----> 1\u001b[0m \u001b[38;5;28;01mimport\u001b[39;00m \u001b[38;5;21;01mnltk\u001b[39;00m\n\u001b[1;32m      2\u001b[0m mytext \u001b[38;5;241m=\u001b[39m \u001b[38;5;124m\"\u001b[39m\u001b[38;5;124mA word is what is between spaces. That is all.\u001b[39m\u001b[38;5;124m\"\u001b[39m\n\u001b[1;32m      3\u001b[0m mysenttokens_nltk \u001b[38;5;241m=\u001b[39m nltk\u001b[38;5;241m.\u001b[39mtokenize\u001b[38;5;241m.\u001b[39msent_tokenize(mytext)\n",
      "\u001b[0;31mModuleNotFoundError\u001b[0m: No module named 'nltk'"
     ]
    }
   ],
   "source": [
    "import nltk\n",
    "mytext = \"A word is what is between spaces. That is all.\"\n",
    "mysenttokens_nltk = nltk.tokenize.sent_tokenize(mytext)\n",
    "print(\"Sentences:\")\n",
    "print(mysenttokens_nltk)\n",
    "print(\"Words:\")\n",
    "for sent in mysenttokens_nltk:\n",
    "  mytokens_nltk = nltk.tokenize.word_tokenize(sent)\n",
    "  print(mytokens_nltk)"
   ]
  },
  {
   "cell_type": "markdown",
   "id": "2e582665",
   "metadata": {
    "id": "I-_urct3U2eB"
   },
   "source": [
    "Note that we first tokenize by sentences and then by words here. Sentence tokenization returns a list of sentences (strings). However, the tokenize functions require strings, not lists. So, if we want to tokenize the sentences further into words, we need to loop through the list of sentences to tokenize each sentence separately."
   ]
  },
  {
   "cell_type": "markdown",
   "id": "599721da",
   "metadata": {
    "id": "9aU-JVoFSFHk"
   },
   "source": [
    "In notebook 5, you will see more of what NLTK offers for working with text."
   ]
  },
  {
   "cell_type": "markdown",
   "id": "5b3c6ddc",
   "metadata": {
    "id": "4qU0bNygLl2u"
   },
   "source": [
    "### Quiz\n",
    "\n",
    "```{admonition} Tip\n",
    ":class: tip\n",
    "You can call `.read()` on the file object.\n",
    "```\n",
    "\n",
    "* Write one function that takes a file path as argument and prints statistics about the file, giving:\n",
    "    * The number of words (often called 'tokens')\n",
    "    * The number of unique words (often called 'types')\n",
    "    * The type:token ratio (i.e. unique words / words)\n",
    "    * The 10 most frequent words, including their frequencies\n",
    "* Write a normalization or cleaning function that takes a string as argument, that pre-processes this text and returns a normalized version, by removing/substituting:\n",
    "    * Uppercase characters\n",
    "    * Punctuation\n",
    "* Call the normalization function inside the first function\n",
    "\n",
    "Test the function on the filepath in `file_path` below. Compare the results from running the function with and without normalization."
   ]
  },
  {
   "cell_type": "code",
   "execution_count": 9,
   "id": "0d722881",
   "metadata": {
    "id": "g1iwKrQGLl2x"
   },
   "outputs": [
    {
     "ename": "ModuleNotFoundError",
     "evalue": "No module named 'nltk'",
     "output_type": "error",
     "traceback": [
      "\u001b[0;31m---------------------------------------------------------------------------\u001b[0m",
      "\u001b[0;31mModuleNotFoundError\u001b[0m                       Traceback (most recent call last)",
      "Input \u001b[0;32mIn [9]\u001b[0m, in \u001b[0;36m<cell line: 1>\u001b[0;34m()\u001b[0m\n\u001b[0;32m----> 1\u001b[0m \u001b[38;5;28;01mimport\u001b[39;00m \u001b[38;5;21;01mnltk\u001b[39;00m\n\u001b[1;32m      2\u001b[0m \u001b[38;5;28;01mfrom\u001b[39;00m \u001b[38;5;21;01mcollections\u001b[39;00m \u001b[38;5;28;01mimport\u001b[39;00m Counter\n\u001b[1;32m      4\u001b[0m file_path \u001b[38;5;241m=\u001b[39m \u001b[38;5;124m'\u001b[39m\u001b[38;5;124mdata/adams-hhgttg.txt\u001b[39m\u001b[38;5;124m'\u001b[39m\n",
      "\u001b[0;31mModuleNotFoundError\u001b[0m: No module named 'nltk'"
     ]
    }
   ],
   "source": [
    "import nltk\n",
    "from collections import Counter\n",
    "\n",
    "file_path = 'data/adams-hhgttg.txt'\n",
    "\n",
    "#Your code here\n",
    "#your_function_name(file_path)"
   ]
  },
  {
   "cell_type": "markdown",
   "id": "f2c18a9f",
   "metadata": {
    "id": "Owg_tGPGLl2y"
   },
   "source": [
    "## Writing files (repeated from notebook 2)"
   ]
  },
  {
   "cell_type": "markdown",
   "id": "ef00dec3",
   "metadata": {
    "id": "x07QLJ2PLl2z"
   },
   "source": [
    "Writing an output file in Python has a structure that is close to that we're used in our reading examples above. The main difference are:\n",
    "\n",
    "- the specification of the **mode** `w`\n",
    "- the use of the function `write()` for each line of text"
   ]
  },
  {
   "cell_type": "markdown",
   "id": "27b3cefa",
   "metadata": {
    "id": "WOz5QQtjLl2z"
   },
   "source": [
    "```{warning}\n",
    "Opening an _existing_ file in `w` mode will erase its contents!\n",
    "```"
   ]
  },
  {
   "cell_type": "code",
   "execution_count": 10,
   "id": "11f2d017",
   "metadata": {
    "id": "u-W2k7oKLl2z"
   },
   "outputs": [],
   "source": [
    "# The folder you with to write the file to ('stuff' below) has to exist on the file system\n",
    "\n",
    "with open('stuff/output-test-1.txt', 'w', encoding='utf-8') as outfile:\n",
    "    \n",
    "    outfile.write(\"My name is:\")\n",
    "    outfile.write(\"John\")"
   ]
  },
  {
   "cell_type": "markdown",
   "id": "e737a7c2",
   "metadata": {
    "id": "RdVcXuISIZ7J"
   },
   "source": [
    "Note that this code tries to write a file called \"output-test-1.txt\" to a directory called \"stuff\". If you do not have a directory called \"stuff\", it will give an error. Make a directory (folder) called \"stuff\" in your Colab file system or local file system in the same directory as the notebook, and try again."
   ]
  },
  {
   "cell_type": "markdown",
   "id": "dadf9fa4",
   "metadata": {
    "id": "RtngBZUALl20"
   },
   "source": [
    "When writing line by line, it's up to you to take care of the **newlines** by appending `\\n` to each line. Unlike the `print()` function, the `write()` function has no standard line-end character."
   ]
  },
  {
   "cell_type": "code",
   "execution_count": 11,
   "id": "7ffbd731",
   "metadata": {
    "id": "5wfBdpkPLl20"
   },
   "outputs": [],
   "source": [
    "with open('stuff/output-test-2.txt', 'w', encoding='utf-8') as outfile:\n",
    "    \n",
    "    outfile.write(\"My name is:\\n\")\n",
    "    outfile.write(\"Alexander\")\n",
    "    \n",
    "    \n",
    "    outfile.write(\"ééèèüAæøå\")"
   ]
  },
  {
   "cell_type": "markdown",
   "id": "e94632e7",
   "metadata": {
    "id": "Ic9PMCwVLl20"
   },
   "source": [
    "We can inspect the file we just created with the command line. The following is not Python, but a basic command line tool to print the contents of a file. At least on Mac, Linux and Google Colab, this works. Otherwise, just navigate to the file and open it."
   ]
  },
  {
   "cell_type": "markdown",
   "id": "53866314",
   "metadata": {
    "id": "sI31ZnQ1Ll21"
   },
   "source": [
    "```{note}\n",
    "Prepending a `!` to a command executes a program on your computer. Use it with care and don't run such a cell in a notebook that you do not trust!\n",
    "```"
   ]
  },
  {
   "cell_type": "code",
   "execution_count": 12,
   "id": "8f16f74e",
   "metadata": {
    "id": "-H4-vRHWLl21"
   },
   "outputs": [
    {
     "name": "stdout",
     "output_type": "stream",
     "text": [
      "My name is:\r\n",
      "AlexanderééèèüAæøå"
     ]
    }
   ],
   "source": [
    "!cat stuff/output-test-2.txt"
   ]
  },
  {
   "cell_type": "markdown",
   "id": "20aedf7d",
   "metadata": {
    "id": "wURqumbcLl21"
   },
   "source": [
    "### Quiz\n",
    "\n",
    "Instead of printing the statistics in the previous quiz, write them to a file. For instance, use the file path in `file_path` to write the file to. Copy your function from above, rename it and add the required code to it."
   ]
  },
  {
   "cell_type": "code",
   "execution_count": 13,
   "id": "3aff00cc",
   "metadata": {
    "id": "XewUzwmMLl22"
   },
   "outputs": [],
   "source": [
    "# Your code here\n",
    "\n",
    "file_path = 'stuff/adams-hhgttg-statistics.txt'\n",
    "\n",
    "# your_adapted_function_that_writes_statistics(file_path)"
   ]
  },
  {
   "cell_type": "markdown",
   "id": "75da4821",
   "metadata": {
    "id": "0Gr9B4tRLl3G"
   },
   "source": [
    "## Looping through folders and files (more info)\n",
    "\n",
    "If you want to load in multiple files in a folder, without explicitly providing the file pointers/paths for each file, you can also point to a folder. We can use the built-in `os` module to loop through a folder and load multiple files in memory."
   ]
  },
  {
   "cell_type": "code",
   "execution_count": 14,
   "id": "03f2dc4d",
   "metadata": {
    "id": "_dpLXsr0Ll3G"
   },
   "outputs": [],
   "source": [
    "import os  # You only have to do this once in your code. \n",
    "           # Always put this at the top of your file."
   ]
  },
  {
   "cell_type": "code",
   "execution_count": 15,
   "id": "22a62bea",
   "metadata": {
    "id": "lNqIq2sALl3H"
   },
   "outputs": [
    {
     "data": {
      "text/plain": [
       "[('data/gutenberg-extension',\n",
       "  [],\n",
       "  ['austen-pride.txt',\n",
       "   'doyle-sherlock.txt',\n",
       "   'shelley-frankestein.txt',\n",
       "   'stoker-dracula.txt',\n",
       "   'joyce-dubliners.txt',\n",
       "   'README'])]"
      ]
     },
     "execution_count": 15,
     "metadata": {},
     "output_type": "execute_result"
    }
   ],
   "source": [
    "list(os.walk(\"data/gutenberg-extension\"))"
   ]
  },
  {
   "cell_type": "code",
   "execution_count": 16,
   "id": "139fb7d5",
   "metadata": {
    "id": "49tFNhKDLl3H"
   },
   "outputs": [],
   "source": [
    "gutenberg_books = dict()  # Create an empty dictionary to store our data in\n",
    "\n",
    "for root, dirs, files in os.walk(\"data/gutenberg-extension\"):\n",
    "    for file in files:\n",
    "        \n",
    "        if not file.endswith('.txt'):  # Why this?\n",
    "            continue\n",
    "        \n",
    "        # You have to specify the full (relative) path, not only the file name.\n",
    "        file_path = os.path.join(root, file)  \n",
    "        \n",
    "        with open(file_path, encoding='utf-8') as infile:\n",
    "            gutenberg_books[file] = infile.read()"
   ]
  },
  {
   "cell_type": "code",
   "execution_count": 17,
   "id": "e59b64a1",
   "metadata": {
    "id": "fgcoPn3mLl3I"
   },
   "outputs": [
    {
     "data": {
      "text/plain": [
       "dict_keys(['austen-pride.txt', 'doyle-sherlock.txt', 'shelley-frankestein.txt', 'stoker-dracula.txt', 'joyce-dubliners.txt'])"
      ]
     },
     "execution_count": 17,
     "metadata": {},
     "output_type": "execute_result"
    }
   ],
   "source": [
    "gutenberg_books.keys()"
   ]
  },
  {
   "cell_type": "markdown",
   "id": "5eb3b9c9",
   "metadata": {
    "id": "BE7FSUUJLl3I"
   },
   "source": [
    "The `os.walk()` method is convenient if you are dealing with a combination of files and folders, no matter how deep the hierarchy goes (folders in folders etc.). A simpler function is `os.listdir()`."
   ]
  },
  {
   "cell_type": "code",
   "execution_count": 18,
   "id": "8b9839c7",
   "metadata": {
    "id": "7xBUceuBLl3I"
   },
   "outputs": [
    {
     "data": {
      "text/plain": [
       "['austen-pride.txt',\n",
       " 'doyle-sherlock.txt',\n",
       " 'shelley-frankestein.txt',\n",
       " 'stoker-dracula.txt',\n",
       " 'joyce-dubliners.txt',\n",
       " 'README']"
      ]
     },
     "execution_count": 18,
     "metadata": {},
     "output_type": "execute_result"
    }
   ],
   "source": [
    "os.listdir('data/gutenberg-extension/')"
   ]
  },
  {
   "cell_type": "code",
   "execution_count": 19,
   "id": "78fca90f",
   "metadata": {
    "id": "bJzykZpMLl3J"
   },
   "outputs": [],
   "source": [
    "gutenberg_books = dict()  # Create an empty dictionary to store our data in\n",
    "\n",
    "folder_path = \"data/gutenberg-extension\"\n",
    "\n",
    "for file in os.listdir(folder_path):\n",
    "\n",
    "    if not file.endswith('.txt'):  # Why this?\n",
    "        continue\n",
    "    \n",
    "    file_path = os.path.join(folder_path, file)\n",
    "    \n",
    "    with open(file_path, encoding='utf-8') as infile:\n",
    "        gutenberg_books[file] = infile.read()"
   ]
  },
  {
   "cell_type": "code",
   "execution_count": 20,
   "id": "be6e222a",
   "metadata": {
    "id": "gthOFTUKLl3J"
   },
   "outputs": [
    {
     "data": {
      "text/plain": [
       "dict_keys(['austen-pride.txt', 'doyle-sherlock.txt', 'shelley-frankestein.txt', 'stoker-dracula.txt', 'joyce-dubliners.txt'])"
      ]
     },
     "execution_count": 20,
     "metadata": {},
     "output_type": "execute_result"
    }
   ],
   "source": [
    "gutenberg_books.keys()"
   ]
  },
  {
   "cell_type": "markdown",
   "id": "2ba5fd20",
   "metadata": {
    "id": "XmBnpe8qLl3J"
   },
   "source": [
    "The dictionary object now contains a lot of information: all the contents of all files. There's a chance that your browser/notebook will crash when calling the dictionary here. Instead, let's call a part of one of the books, the first 300 characters:"
   ]
  },
  {
   "cell_type": "code",
   "execution_count": 21,
   "id": "65f68afa",
   "metadata": {
    "id": "gyH9x4VxLl3K"
   },
   "outputs": [
    {
     "name": "stdout",
     "output_type": "stream",
     "text": [
      "﻿[The Adventures of Sherlock Holmes by Arthur Conan Doyle]\n",
      "\n",
      "ADVENTURE I. A SCANDAL IN BOHEMIA\n",
      "\n",
      "I.\n",
      "\n",
      "To Sherlock Holmes she is always THE woman. I have seldom heard\n",
      "him mention her under any other name. In his eyes she eclipses\n",
      "and predominates the whole of her sex. It was not that he felt\n",
      "any emotion\n"
     ]
    }
   ],
   "source": [
    "print(gutenberg_books['doyle-sherlock.txt'][:300])"
   ]
  },
  {
   "cell_type": "markdown",
   "id": "a85ab947",
   "metadata": {
    "id": "mHQ580_690Qj"
   },
   "source": [
    "### Quiz\n",
    "\n",
    "Extend your code from the previous quiz to run on a whole directory of files. Instead of calling your file statistics function for a single file, write code that loops through all text files in the *data* directory and runs your file statistics function on each file in the directory."
   ]
  },
  {
   "cell_type": "code",
   "execution_count": 22,
   "id": "8cf5bf1b",
   "metadata": {
    "id": "ownFZ3cx-hiB"
   },
   "outputs": [
    {
     "ename": "ModuleNotFoundError",
     "evalue": "No module named 'nltk'",
     "output_type": "error",
     "traceback": [
      "\u001b[0;31m---------------------------------------------------------------------------\u001b[0m",
      "\u001b[0;31mModuleNotFoundError\u001b[0m                       Traceback (most recent call last)",
      "Input \u001b[0;32mIn [22]\u001b[0m, in \u001b[0;36m<cell line: 1>\u001b[0;34m()\u001b[0m\n\u001b[0;32m----> 1\u001b[0m \u001b[38;5;28;01mimport\u001b[39;00m \u001b[38;5;21;01mnltk\u001b[39;00m\n\u001b[1;32m      2\u001b[0m \u001b[38;5;28;01mfrom\u001b[39;00m \u001b[38;5;21;01mcollections\u001b[39;00m \u001b[38;5;28;01mimport\u001b[39;00m Counter\n\u001b[1;32m      4\u001b[0m folder_path \u001b[38;5;241m=\u001b[39m \u001b[38;5;124m'\u001b[39m\u001b[38;5;124mdata/gutenberg-extension\u001b[39m\u001b[38;5;124m'\u001b[39m\n",
      "\u001b[0;31mModuleNotFoundError\u001b[0m: No module named 'nltk'"
     ]
    }
   ],
   "source": [
    "import nltk\n",
    "from collections import Counter\n",
    "\n",
    "folder_path = 'data/gutenberg-extension'\n",
    "\n",
    "#Your code here"
   ]
  },
  {
   "cell_type": "markdown",
   "id": "c16f6e53",
   "metadata": {
    "id": "d_baVixPLl3K"
   },
   "source": [
    "---"
   ]
  },
  {
   "cell_type": "markdown",
   "id": "8b407cde",
   "metadata": {
    "id": "bTIzK1agLl3L"
   },
   "source": [
    "# Reading and writing data in JSON and CSV"
   ]
  },
  {
   "cell_type": "markdown",
   "id": "abc01933",
   "metadata": {
    "id": "LGYY8E4NLl3L"
   },
   "source": [
    "We now know how we can read and write textual content to files on our file system. Two more structed and common data formats to store data in are JSON and CSV. If you are not familiar with these, take a look at:\n",
    "\n",
    "* JSON (https://www.w3schools.com/whatis/whatis_json.asp)\n",
    "* CSV (https://www.howtogeek.com/348960/what-is-a-csv-file-and-how-do-i-open-it/)"
   ]
  },
  {
   "cell_type": "markdown",
   "id": "e6cb621a",
   "metadata": {
    "id": "SyPubbN1Ll3L"
   },
   "source": [
    "## JSON"
   ]
  },
  {
   "cell_type": "markdown",
   "id": "8f420476",
   "metadata": {
    "id": "vS_ofld5Ll3L"
   },
   "source": [
    "The syntax of JSON is very similar to the syntax of `int`, `str`, `list` and `dict` data types in Python. \n",
    "\n",
    "The following data (excerpt) is taken from the data that feeds the Instagram page of the UvA (https://www.instagram.com/uva_amsterdam/). The API/service of Instagram returns web data in JSON that is used by your browser to show you a page with content. You can also find this when inspecting the source of the page. \n",
    "\n",
    "A JSON file (named `example.json`) that looks like this:\n",
    "```json\n",
    "{\n",
    "    \"biography\": \"Welcome to the UvA \\u274c\\u274c\\u274c \\nFind out more about our:\\n\\ud83c\\udfdb campuses \\ud83c\\udf93 education \\ud83d\\udd0e research\\nShare your \\ud83d\\udcf8 using: #uva_amsterdam\\nQuestions? Contact us:\",\n",
    "    \"blocked_by_viewer\": false,\n",
    "    \"restricted_by_viewer\": null,\n",
    "    \"country_block\": false,\n",
    "    \"external_url\": \"https://linkin.bio/uva_amsterdam\",\n",
    "    \"external_url_linkshimmed\": \"https://l.instagram.com/?u=https%3A%2F%2Flinkin.bio%2Fuva_amsterdam\\u0026e=ATOBo7L11uPBpsMfd6-pFnoBRaF3T-6ovlD9Blc2q1LGUjnmyuGutPfuK-ib70Bt_YmGu6cDNCX1Y1lC\\u0026s=1\",\n",
    "    \"edge_followed_by\": {\n",
    "        \"count\": 42241\n",
    "    },\n",
    "    \"fbid\": \"17841401222133463\",\n",
    "    \"followed_by_viewer\": false,\n",
    "    \"edge_follow\": {\n",
    "        \"count\": 362\n",
    "    },\n",
    "    \"follows_viewer\": false,\n",
    "    \"full_name\": \"UvA: University of Amsterdam\",\n",
    "    \"id\": \"1501672737\",\n",
    "    \"is_business_account\": true,\n",
    "    \"is_joined_recently\": false,\n",
    "    \"business_category_name\": \"Professional Services\",\n",
    "    \"overall_category_name\": null,\n",
    "    \"category_enum\": \"UNIVERSITY\",\n",
    "    \"category_name\": null,\n",
    "    \"profile_pic_url\": \"https://scontent-amt2-1.cdninstagram.com/v/t51.2885-19/s150x150/117066908_1128864954173821_2797787766361156925_n.jpg?_nc_ht=scontent-amt2-1.cdninstagram.com\\u0026_nc_ohc=PXsEzg-CKaUAX8dEtNL\\u0026tp=1\\u0026oh=86bb46d8006b77db2037955187e69de1\\u0026oe=6056619F\",\n",
    "    \"username\": \"uva_amsterdam\",\n",
    "    \"connected_fb_page\": null\n",
    "}\n",
    "```\n",
    "\n",
    "Can be loaded into Python as a dictionary:\n",
    "```python\n",
    "{\n",
    "    'biography': 'Welcome to the UvA ❌❌❌ \\nFind out more about our:\\n🏛 campuses 🎓 education 🔎 research\\nShare your 📸 using: #uva_amsterdam\\nQuestions? Contact us:',\n",
    "     'blocked_by_viewer': False,\n",
    "     'restricted_by_viewer': None,\n",
    "     'country_block': False,\n",
    "     'external_url': 'https://linkin.bio/uva_amsterdam',\n",
    "     'external_url_linkshimmed': 'https://l.instagram.com/?u=https%3A%2F%2Flinkin.bio%2Fuva_amsterdam&e=ATOBo7L11uPBpsMfd6-pFnoBRaF3T-6ovlD9Blc2q1LGUjnmyuGutPfuK-ib70Bt_YmGu6cDNCX1Y1lC&s=1',\n",
    "     'edge_followed_by': {'count': 42241},\n",
    "     'fbid': '17841401222133463',\n",
    "     'followed_by_viewer': False,\n",
    "     'edge_follow': {'count': 362},\n",
    "     'follows_viewer': False,\n",
    "     'full_name': 'UvA: University of Amsterdam',\n",
    "     'id': '1501672737',\n",
    "     'is_business_account': True,\n",
    "     'is_joined_recently': False,\n",
    "     'business_category_name': 'Professional Services',\n",
    "     'overall_category_name': None,\n",
    "     'category_enum': 'UNIVERSITY',\n",
    "     'category_name': None,\n",
    "     'profile_pic_url': 'https://scontent-amt2-1.cdninstagram.com/v/t51.2885-19/s150x150/117066908_1128864954173821_2797787766361156925_n.jpg?_nc_ht=scontent-amt2-1.cdninstagram.com&_nc_ohc=PXsEzg-CKaUAX8dEtNL&tp=1&oh=86bb46d8006b77db2037955187e69de1&oe=6056619F',\n",
    "     'username': 'uva_amsterdam',\n",
    "     'connected_fb_page': None\n",
    "}\n",
    "```"
   ]
  },
  {
   "cell_type": "markdown",
   "id": "773e5395",
   "metadata": {
    "id": "aHGPI7goLl3M"
   },
   "source": [
    "The main differences between dictionaries in Python and the JSON file notation are:\n",
    "\n",
    "* Python dictionaries exist in memory in Python, they are an abstract datatype. JSON is a data format and can be saved on your computer, or be transmitted as string (e.g. for a website request, sending data).\n",
    "* Keys in JSON can only be of type string. This means that writing a Python dictionary with integers as keys will transform them to string. Reading back the file will therefore give you a Python dictionary with strings as keys.\n",
    "* All non-ascii characters are escape sequences (e.g. `\\u274c`) for ❌. This is the same for letters with diacritics (e.g. é, ê, ç, ñ). If all characters are escaped this way, you don't have to specify an encoding when opening json files.\n",
    "* `True` and `False` are lowercased: `true` and `false`. `None` is `null`. \n",
    "* JSON only allows double quotes for its \"strings\"."
   ]
  },
  {
   "cell_type": "markdown",
   "id": "05aee58a",
   "metadata": {
    "id": "cNpfINLTLl3M"
   },
   "source": [
    "The built-in json module of Python needs to be imported first, to work with json files and notation."
   ]
  },
  {
   "cell_type": "code",
   "execution_count": 23,
   "id": "bdb25c9b",
   "metadata": {
    "id": "514uONFVLl3M"
   },
   "outputs": [],
   "source": [
    "import json"
   ]
  },
  {
   "cell_type": "markdown",
   "id": "571bab9e",
   "metadata": {
    "id": "7MED6fiuLl3N"
   },
   "source": [
    "Let's read a json file from our disk using `json.load()`. The file comes from the public API of the municipality of Amsterdam to look up information on houses by searching on street name and house number. See: https://api.data.amsterdam.nl/atlas/search/adres/. Most often, information from such API's or 'REST-services' is given back in JSON."
   ]
  },
  {
   "cell_type": "code",
   "execution_count": 24,
   "id": "c1f905b8",
   "metadata": {
    "id": "Mfgw5YwdLl3N"
   },
   "outputs": [],
   "source": [
    "with open('data/bg1.json') as jsonfile:\n",
    "    data = json.load(jsonfile)"
   ]
  },
  {
   "cell_type": "markdown",
   "id": "c5033d2e",
   "metadata": {
    "id": "8WFlQfXlLl3O"
   },
   "source": [
    "Then, we can inspect the loaded data as a Python dictionary:"
   ]
  },
  {
   "cell_type": "code",
   "execution_count": 25,
   "id": "3b72d9fe",
   "metadata": {
    "id": "MuoEzLhgLl3O"
   },
   "outputs": [
    {
     "name": "stdout",
     "output_type": "stream",
     "text": [
      "<class 'dict'>\n"
     ]
    },
    {
     "data": {
      "text/plain": [
       "{'_links': {'self': {'href': 'https://api.data.amsterdam.nl/atlas/search/adres/?format=json&q=Turfdraagsterpad%209&page=1'},\n",
       "  'next': {'href': None},\n",
       "  'prev': {'href': None}},\n",
       " 'count_hits': 1,\n",
       " 'count': 1,\n",
       " 'results': [{'_links': {'self': {'href': 'https://api.data.amsterdam.nl/bag/v1.1/verblijfsobject/0363010000927863/?format=json'}},\n",
       "   'type': 'verblijfsobject',\n",
       "   'dataset': 'v11_nummeraanduiding',\n",
       "   'adres': 'Turfdraagsterpad 9',\n",
       "   'postcode': '1012XT',\n",
       "   'straatnaam': 'Turfdraagsterpad',\n",
       "   'straatnaam_no_ws': 'Turfdraagsterpad',\n",
       "   'huisnummer': 9,\n",
       "   'toevoeging': '9',\n",
       "   'bag_huisletter': '',\n",
       "   'bag_toevoeging': '',\n",
       "   'woonplaats': 'Amsterdam',\n",
       "   'type_adres': 'Hoofdadres',\n",
       "   'status': 'Naamgeving uitgegeven',\n",
       "   'landelijk_id': '0363200000385647',\n",
       "   'vbo_status': 'Verblijfsobject in gebruik',\n",
       "   'adresseerbaar_object_id': '0363010000927863',\n",
       "   'subtype': 'verblijfsobject',\n",
       "   'centroid': [4.893589100625236, 52.36899593318145],\n",
       "   'subtype_id': '0363010000927863',\n",
       "   '_display': 'Turfdraagsterpad 9'}]}"
      ]
     },
     "execution_count": 25,
     "metadata": {},
     "output_type": "execute_result"
    }
   ],
   "source": [
    "print(type(data))\n",
    "data"
   ]
  },
  {
   "cell_type": "code",
   "execution_count": 26,
   "id": "5a5c6fd0",
   "metadata": {
    "id": "accN_jr3Ll3O"
   },
   "outputs": [
    {
     "data": {
      "text/plain": [
       "{'_links': {'self': {'href': 'https://api.data.amsterdam.nl/atlas/search/adres/?format=json&q=Turfdraagsterpad%209&page=1'},\n",
       "  'next': {'href': None},\n",
       "  'prev': {'href': None}},\n",
       " 'count_hits': 1,\n",
       " 'count': 1,\n",
       " 'results': [{'_links': {'self': {'href': 'https://api.data.amsterdam.nl/bag/v1.1/verblijfsobject/0363010000927863/?format=json'}},\n",
       "   'type': 'verblijfsobject',\n",
       "   'dataset': 'v11_nummeraanduiding',\n",
       "   'adres': 'Turfdraagsterpad 9',\n",
       "   'postcode': '1012XT',\n",
       "   'straatnaam': 'Turfdraagsterpad',\n",
       "   'straatnaam_no_ws': 'Turfdraagsterpad',\n",
       "   'huisnummer': 9,\n",
       "   'toevoeging': '9',\n",
       "   'bag_huisletter': '',\n",
       "   'bag_toevoeging': '',\n",
       "   'woonplaats': 'Amsterdam',\n",
       "   'type_adres': 'Hoofdadres',\n",
       "   'status': 'Naamgeving uitgegeven',\n",
       "   'landelijk_id': '0363200000385647',\n",
       "   'vbo_status': 'Verblijfsobject in gebruik',\n",
       "   'adresseerbaar_object_id': '0363010000927863',\n",
       "   'subtype': 'verblijfsobject',\n",
       "   'centroid': [4.893589100625236, 52.36899593318145],\n",
       "   'subtype_id': '0363010000927863',\n",
       "   '_display': 'Turfdraagsterpad 9'}]}"
      ]
     },
     "execution_count": 26,
     "metadata": {},
     "output_type": "execute_result"
    }
   ],
   "source": [
    "data"
   ]
  },
  {
   "cell_type": "markdown",
   "id": "98b63d1a",
   "metadata": {
    "id": "a6m41aWvLl3O"
   },
   "source": [
    "When we are only interested in the information on the building, we can take out that part to store it separately. This is the first dictionary element in the list that can be found under key `data['results']`. The rest of the information is feedback from the API, telling us that there is 1 hit."
   ]
  },
  {
   "cell_type": "code",
   "execution_count": 27,
   "id": "18aaccdf",
   "metadata": {
    "id": "HXL6I0n4Ll3P"
   },
   "outputs": [
    {
     "data": {
      "text/plain": [
       "{'type': 'verblijfsobject',\n",
       " 'dataset': 'v11_nummeraanduiding',\n",
       " 'adres': 'Turfdraagsterpad 9',\n",
       " 'postcode': '1012XT',\n",
       " 'straatnaam': 'Turfdraagsterpad',\n",
       " 'straatnaam_no_ws': 'Turfdraagsterpad',\n",
       " 'huisnummer': 9,\n",
       " 'toevoeging': '9',\n",
       " 'bag_huisletter': '',\n",
       " 'bag_toevoeging': '',\n",
       " 'woonplaats': 'Amsterdam',\n",
       " 'type_adres': 'Hoofdadres',\n",
       " 'status': 'Naamgeving uitgegeven',\n",
       " 'landelijk_id': '0363200000385647',\n",
       " 'vbo_status': 'Verblijfsobject in gebruik',\n",
       " 'adresseerbaar_object_id': '0363010000927863',\n",
       " 'subtype': 'verblijfsobject',\n",
       " 'centroid': [4.893589100625236, 52.36899593318145],\n",
       " 'subtype_id': '0363010000927863'}"
      ]
     },
     "execution_count": 27,
     "metadata": {},
     "output_type": "execute_result"
    }
   ],
   "source": [
    "data_selection = data['results'][0]\n",
    "\n",
    "# Delete all keys starting with an _underscore\n",
    "\n",
    "for k in list(data_selection):\n",
    "    if k.startswith('_'):\n",
    "        del data_selection[k]\n",
    "\n",
    "data_selection\n",
    "# print(type(data_selection))"
   ]
  },
  {
   "cell_type": "markdown",
   "id": "8a794136",
   "metadata": {
    "id": "UGaufHPYLl3P"
   },
   "source": [
    "Then, save it back to a json file using `json.dump()`:"
   ]
  },
  {
   "cell_type": "code",
   "execution_count": 28,
   "id": "ca79f14e",
   "metadata": {
    "id": "kW0AFcj7Ll3P"
   },
   "outputs": [],
   "source": [
    "with open('stuff/bg1-selection.json', 'w') as outfile:\n",
    "    json.dump(data_selection, outfile, indent=4)"
   ]
  },
  {
   "cell_type": "markdown",
   "id": "45e3f598",
   "metadata": {
    "id": "73tTKTIOLl3Q"
   },
   "source": [
    "### Quiz"
   ]
  },
  {
   "cell_type": "markdown",
   "id": "ca014b30",
   "metadata": {
    "id": "jBWaUEBJLl3Q"
   },
   "source": [
    "* Modify that function you previously built to generate statistics for a file once more so that it returns a python dictionary with these statistics.\n",
    "* Write a function that uses the `os.walk()` or `os.listdir()` method to run the file statistics function over every file in a folder. Create a dictionary that takes the file name as key, and the returned statistics dictionary as value.\n",
    "* Also add arguments for a `target_file_path`, and a `data` dictionary to that function. Use the `json.dump()` method to write the dictionary to the provided file path using a with statement.\n",
    "* Inspect the file by opening it on your computer with a text editor of some sorts. Find a way to make it 'pretty printed' (e.g. with _indents_)."
   ]
  },
  {
   "cell_type": "code",
   "execution_count": 29,
   "id": "6e44ad21",
   "metadata": {
    "id": "LfKOQi_wLl3Q"
   },
   "outputs": [],
   "source": [
    "# Your code here\n",
    "\n",
    "source_folder = \"data/gutenberg-extension\"\n",
    "target_file_path = \"stuff/gutenberg-statistics.json\"\n",
    "\n",
    "def your_modified_statistics_function(file_path):\n",
    "    # Your code\n",
    "    \n",
    "    return statistics_dict\n",
    "\n",
    "def your_functions_here():\n",
    "    return"
   ]
  },
  {
   "cell_type": "markdown",
   "id": "a61cb097",
   "metadata": {
    "id": "ReEvRvmzLl3S"
   },
   "source": [
    "---"
   ]
  },
  {
   "cell_type": "markdown",
   "id": "500a6b8b",
   "metadata": {
    "id": "jZp65tiDLl3T"
   },
   "source": [
    "# Exercises"
   ]
  },
  {
   "cell_type": "markdown",
   "id": "919e12e9",
   "metadata": {
    "id": "UUhTb7iWLl3T"
   },
   "source": [
    "### Exercise 1 (previously Exercise 6 in Notebook 2)\n",
    "\n",
    "Read the file `data/adams-hhgttg.txt` and:\n",
    "\n",
    "- Count the number of lines in the file\n",
    "\n",
    "- Count the number of non-empty lines\n",
    "\n",
    "- Read each line of the input file, remove its newline character and write it to file `stuff/adams-output.txt`\n",
    "\n",
    "- Compute the average number of alphanumeric characters per line\n",
    "\n",
    "- Identify all the unique words used in the text (no duplicates!) and write them in a text file called `stuff/lexicon.txt` (one word per line)"
   ]
  },
  {
   "cell_type": "code",
   "execution_count": 30,
   "id": "9c278226",
   "metadata": {
    "id": "Db3ht1CpLl3T"
   },
   "outputs": [],
   "source": [
    "# your code here\n",
    "\n",
    "with open(\"stuff/lexicon.txt\", \"w\") as infile:\n",
    "    infile.write(\"something\")"
   ]
  },
  {
   "cell_type": "code",
   "execution_count": null,
   "id": "b27679c0",
   "metadata": {
    "id": "0-GlNregLl3T"
   },
   "outputs": [],
   "source": []
  },
  {
   "cell_type": "markdown",
   "id": "e87ff612",
   "metadata": {
    "id": "3acE-05ALl3U"
   },
   "source": [
    "### Exercise 2"
   ]
  },
  {
   "cell_type": "markdown",
   "id": "dd8e6879",
   "metadata": {
    "id": "FInVpC0HLl3U"
   },
   "source": [
    "TBD"
   ]
  },
  {
   "cell_type": "code",
   "execution_count": null,
   "id": "903e722b",
   "metadata": {
    "id": "HTwb0aTWLl3U"
   },
   "outputs": [],
   "source": []
  }
 ],
 "metadata": {
  "jupytext": {
   "text_representation": {
    "extension": ".md",
    "format_name": "myst",
    "format_version": 0.13,
    "jupytext_version": "1.11.5"
   }
  },
  "kernelspec": {
   "display_name": "Python 3",
   "language": "python",
   "name": "python3"
  },
  "language_info": {
   "codemirror_mode": {
    "name": "ipython",
    "version": 3
   },
   "file_extension": ".py",
   "mimetype": "text/x-python",
   "name": "python",
   "nbconvert_exporter": "python",
   "pygments_lexer": "ipython3",
   "version": "3.8.10"
  },
  "source_map": [
   14,
   18,
   25,
   33,
   45,
   64,
   70,
   89,
   96,
   100,
   114,
   129,
   139,
   145,
   160,
   164,
   178,
   190,
   194,
   198,
   206,
   218,
   222,
   231,
   237,
   244,
   248,
   266,
   270,
   274,
   295,
   307,
   311,
   318,
   324,
   335,
   339,
   343,
   355,
   359,
   365,
   371,
   377,
   387,
   393,
   400,
   406,
   424,
   430,
   434,
   440,
   458,
   464,
   468,
   474,
   480,
   491,
   495,
   499,
   506,
   510,
   576,
   586,
   590,
   596,
   600,
   607,
   611,
   618,
   624,
   628,
   643,
   647,
   654,
   658,
   665,
   682,
   686,
   690,
   706,
   715,
   721,
   725,
   729
  ]
 },
 "nbformat": 4,
 "nbformat_minor": 5
}