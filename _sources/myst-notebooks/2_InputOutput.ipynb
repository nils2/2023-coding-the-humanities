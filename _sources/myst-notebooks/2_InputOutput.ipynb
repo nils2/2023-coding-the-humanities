{
 "cells": [
  {
   "cell_type": "markdown",
   "id": "2b30d626",
   "metadata": {
    "id": "PgEPTsqKbpRd"
   },
   "source": [
    "# Python basics 2 + Input / Output\n",
    "\n",
    "This notebook contains more basics of Python. Use it as a reference whenever needed."
   ]
  },
  {
   "cell_type": "markdown",
   "id": "e25da1a5",
   "metadata": {
    "id": "bPXO4Q-5bpRf"
   },
   "source": [
    "## Python Syntax"
   ]
  },
  {
   "cell_type": "markdown",
   "id": "34e6cb65",
   "metadata": {
    "id": "TwSFTEKlbpRg"
   },
   "source": [
    "### The Significant Whitespace\n",
    "\n",
    "Most program languages use characters (e.g. `{...}`) or keywords (e.g. `begin ... end`) to delimitate blocks of codes. But, when writing Python code, you rely on **indentation** to structure your programs. \n",
    "\n",
    "All programming languages allow you to indent (and you should!), but in Python you **have to.** Otherwise, you'll receive an IndentationError and your code won't work!"
   ]
  },
  {
   "cell_type": "markdown",
   "id": "89e514e1",
   "metadata": {
    "id": "P841qNdsbpRg"
   },
   "source": [
    "#### How Indentation Works\n",
    "\n",
    "- All statements with the same distance from the left border belong of the same block of code. This is related to the _scope_ of your code. \n",
    "- Sub-blocks are more indented, while the block ends at the line less indented.\n",
    "- It is recommended to use **4 spaces** per indentation level. However, a tab character (`\\t`) can also be used. Often, you have a setting in your favorite editor that automatically translates tabs to 4 spaces. \n",
    "- When a statement is too long, it's good practice to avoid lines of code longer than 79 characters, it can be split with `\"\\\"` at the end of the line.\n",
    "- **Never mix** spaces and tabs in a single source file. This will raise an error when you try to execute the code, but is also very hard to spot by hand. To help you, you can set your text editor to display whitespace characters."
   ]
  },
  {
   "cell_type": "markdown",
   "id": "00c48654",
   "metadata": {
    "id": "BIWCuPkqbpRg"
   },
   "source": [
    "#### Recommended Reading on Python syntax and style\n",
    "[PEP 8 - Style Guide for Python Code](https://www.python.org/dev/peps/pep-0008/)"
   ]
  },
  {
   "cell_type": "markdown",
   "id": "ba40fd18",
   "metadata": {
    "id": "t69K9sxSbpRh"
   },
   "source": [
    "##### The code is way more readable:\n",
    "\n",
    "\n",
    "```python\n",
    "# input() reads from standard input (e.g. keyboard)\n",
    "n_string = input('Enter a number, please:')\n",
    "\n",
    "if not n_string.isdigit():\n",
    "    print(\"This isn't a number...\")\n",
    "else:\n",
    "    n = int(n_string)\n",
    "    if n == 0:\n",
    "        print(\"Zero? Why zero?\")\n",
    "    elif n % 2 == 0:\n",
    "        print(\"Even\")\n",
    "    else:\n",
    "        print(\"Odd\")\n",
    "```"
   ]
  },
  {
   "cell_type": "markdown",
   "id": "74b908e7",
   "metadata": {
    "id": "DvV_db_dbpRh"
   },
   "source": [
    "## Conditional statements, loops and functions\n",
    "\n",
    "Up till now, you've used the Python language and syntax as a fancy calculator. Most likely you felt that you needed additional elements to prevent replication in your code, or saw that you needed a conditional statement that only executed your code when a particular variable/statement was True/False. \n",
    "\n",
    "Below are the building blocks for writing such code blocks introduced. Let's take a look at conditional statements first."
   ]
  },
  {
   "cell_type": "markdown",
   "id": "f1025976",
   "metadata": {
    "id": "2nHh7Xi_bpRh"
   },
   "source": [
    "## Conditional Statements\n",
    "\n",
    "A lot of programming has to do with executing a block of code only if a certain condition is verified. \n",
    "\n",
    "In Python, the `if-then-else` construct has the form:\n",
    "\n",
    "```python\n",
    "if condition1:\n",
    "    # statements\n",
    "elif condition2:\n",
    "    # statements\n",
    "elif condition3:\n",
    "    # statements\n",
    "else:\n",
    "    # statements\n",
    "```\n",
    "\n",
    "```{note}\n",
    "The `elif` and `else` clauses are optional. A conditional statement can contain a single `if` block, and nothing else.\n",
    "```\n",
    "\n",
    "All methods from the previous notebook that return a boolean (True/False) can be used after an `if` statement. You can of course combine these with the `and` and `or` operators."
   ]
  },
  {
   "cell_type": "markdown",
   "id": "8ff2f7f7",
   "metadata": {
    "id": "GlKbVnsqbpRi"
   },
   "source": [
    "If you inspect the function below, do you think you can change the `elif` statement into an `if` statement? Would this alter the code? What is the difference? Try playing with the code by adding some `Pear` to the grocerylist. \n",
    "\n",
    "Can you describe what the code is doing?"
   ]
  },
  {
   "cell_type": "code",
   "execution_count": 1,
   "id": "1bc4095a",
   "metadata": {
    "colab": {
     "base_uri": "https://localhost:8080/"
    },
    "id": "vMjIuBNzbpRj",
    "outputId": "0f8d9269-9ad9-4975-f023-fbcab0dd10cb"
   },
   "outputs": [
    {
     "name": "stdout",
     "output_type": "stream",
     "text": [
      "Already on the list!\n"
     ]
    }
   ],
   "source": [
    "fruit = [\"Apple\", \"Pear\", \"Banana\", \"Orange\"]\n",
    "\n",
    "item = \"Pear\"\n",
    "\n",
    "# To remind you that you can check for elements in a list\n",
    "if item in fruit:\n",
    "    print(\"Already on the list!\")\n",
    "    \n",
    "    if fruit.count(item) >= 3:\n",
    "        print(\"It's on the list three times or more!\")\n",
    "    elif fruit.count(item) > 1:\n",
    "        print(\"It's on there twice!\")\n",
    "    # You don't have to finish with an 'else'\n",
    "    \n",
    "else:\n",
    "    print(\"Not on the list yet, adding it!\")\n",
    "    fruit.append(item)"
   ]
  },
  {
   "cell_type": "markdown",
   "id": "d33536c6",
   "metadata": {
    "id": "9Df6_wp_bpRk"
   },
   "source": [
    "### Quiz"
   ]
  },
  {
   "cell_type": "markdown",
   "id": "08f6ba05",
   "metadata": {
    "id": "l4n6gJ4rbpRk"
   },
   "source": [
    "Finish the following code block. The `intput()` function askes the user in the Python interpreter to input some text. Implement the following:\n",
    "\n",
    "    * Print a line with a friendly message, telling the user what their input is\n",
    "    * Check if the input is a digit\n",
    "    * Check if the input meets the > 0 condition \n",
    "    * If the input is a digit and meets the condition, tell the user if it is even or odd\n",
    "    * Otherwise, print another informative message"
   ]
  },
  {
   "cell_type": "code",
   "execution_count": 2,
   "id": "83c707f2",
   "metadata": {
    "id": "RdBF-AX_bpRk"
   },
   "outputs": [
    {
     "ename": "StdinNotImplementedError",
     "evalue": "raw_input was called, but this frontend does not support input requests.",
     "output_type": "error",
     "traceback": [
      "\u001b[0;31m---------------------------------------------------------------------------\u001b[0m",
      "\u001b[0;31mStdinNotImplementedError\u001b[0m                  Traceback (most recent call last)",
      "Input \u001b[0;32mIn [2]\u001b[0m, in \u001b[0;36m<cell line: 1>\u001b[0;34m()\u001b[0m\n\u001b[0;32m----> 1\u001b[0m user_digit \u001b[38;5;241m=\u001b[39m \u001b[38;5;28;43minput\u001b[39;49m\u001b[43m(\u001b[49m\u001b[38;5;124;43m\"\u001b[39;49m\u001b[38;5;124;43mA number > 0 please: \u001b[39;49m\u001b[38;5;124;43m\"\u001b[39;49m\u001b[43m)\u001b[49m\n",
      "File \u001b[0;32m~/.local/lib/python3.8/site-packages/ipykernel/kernelbase.py:1158\u001b[0m, in \u001b[0;36mKernel.raw_input\u001b[0;34m(self, prompt)\u001b[0m\n\u001b[1;32m   1151\u001b[0m \u001b[38;5;124;03m\"\"\"Forward raw_input to frontends\u001b[39;00m\n\u001b[1;32m   1152\u001b[0m \n\u001b[1;32m   1153\u001b[0m \u001b[38;5;124;03mRaises\u001b[39;00m\n\u001b[1;32m   1154\u001b[0m \u001b[38;5;124;03m------\u001b[39;00m\n\u001b[1;32m   1155\u001b[0m \u001b[38;5;124;03mStdinNotImplementedError if active frontend doesn't support stdin.\u001b[39;00m\n\u001b[1;32m   1156\u001b[0m \u001b[38;5;124;03m\"\"\"\u001b[39;00m\n\u001b[1;32m   1157\u001b[0m \u001b[38;5;28;01mif\u001b[39;00m \u001b[38;5;129;01mnot\u001b[39;00m \u001b[38;5;28mself\u001b[39m\u001b[38;5;241m.\u001b[39m_allow_stdin:\n\u001b[0;32m-> 1158\u001b[0m     \u001b[38;5;28;01mraise\u001b[39;00m StdinNotImplementedError(\n\u001b[1;32m   1159\u001b[0m         \u001b[38;5;124m\"\u001b[39m\u001b[38;5;124mraw_input was called, but this frontend does not support input requests.\u001b[39m\u001b[38;5;124m\"\u001b[39m\n\u001b[1;32m   1160\u001b[0m     )\n\u001b[1;32m   1161\u001b[0m \u001b[38;5;28;01mreturn\u001b[39;00m \u001b[38;5;28mself\u001b[39m\u001b[38;5;241m.\u001b[39m_input_request(\n\u001b[1;32m   1162\u001b[0m     \u001b[38;5;28mstr\u001b[39m(prompt),\n\u001b[1;32m   1163\u001b[0m     \u001b[38;5;28mself\u001b[39m\u001b[38;5;241m.\u001b[39m_parent_ident[\u001b[38;5;124m\"\u001b[39m\u001b[38;5;124mshell\u001b[39m\u001b[38;5;124m\"\u001b[39m],\n\u001b[1;32m   1164\u001b[0m     \u001b[38;5;28mself\u001b[39m\u001b[38;5;241m.\u001b[39mget_parent(\u001b[38;5;124m\"\u001b[39m\u001b[38;5;124mshell\u001b[39m\u001b[38;5;124m\"\u001b[39m),\n\u001b[1;32m   1165\u001b[0m     password\u001b[38;5;241m=\u001b[39m\u001b[38;5;28;01mFalse\u001b[39;00m,\n\u001b[1;32m   1166\u001b[0m )\n",
      "\u001b[0;31mStdinNotImplementedError\u001b[0m: raw_input was called, but this frontend does not support input requests."
     ]
    }
   ],
   "source": [
    "user_digit = input(\"A number > 0 please: \")\n",
    "# Your code here"
   ]
  },
  {
   "cell_type": "markdown",
   "id": "99375a57",
   "metadata": {
    "id": "7o3PEJVGbpRl"
   },
   "source": [
    "## Flow control / Looping\n",
    "\n",
    "### For Loops\n",
    "\n",
    "Programming is of little use if we cannot repeat an instruction for an intended number of times. In the previous examples, you had to change the code and re-run in if you wanted to play with, for instance, the value of the `item` variable. \n",
    "\n",
    "The `for` statement allows us to define **iterations** (i.e.taking items from an iterable) by following this template:\n",
    "\n",
    "```python\n",
    "for variable in sequence:\n",
    "\t# statements\n",
    "    print(variable)\n",
    "```\n",
    "\n",
    "Little known fact is that the for-loop also has an `else` clause. It's also rarely used:\n",
    "\n",
    "```python\n",
    "for number in [0, 1, 2, 3, 4, 5]:\n",
    "\t# statement\n",
    "    print(number)\n",
    "    \n",
    "    if number > 4:\n",
    "        break\n",
    "        \n",
    "else:\n",
    "\t# statement\n",
    "    print(\"All done!\")\n",
    "```\n",
    "\n",
    "The code in the optional `else` clause is executed if and only if the loop terminates successfully (i.e. without a **`break`**)."
   ]
  },
  {
   "cell_type": "code",
   "execution_count": 3,
   "id": "149e6dd2",
   "metadata": {
    "id": "hZTL2vkLbpRl"
   },
   "outputs": [
    {
     "name": "stdout",
     "output_type": "stream",
     "text": [
      "Apple\n",
      "Pear\n",
      "Banana\n",
      "Orange\n"
     ]
    }
   ],
   "source": [
    "# Let's iterate over our list of fruit\n",
    "\n",
    "for item in fruit:\n",
    "    print(item)"
   ]
  },
  {
   "cell_type": "code",
   "execution_count": 4,
   "id": "7cece0ad",
   "metadata": {
    "id": "R1B5_xABbpRl"
   },
   "outputs": [
    {
     "name": "stdout",
     "output_type": "stream",
     "text": [
      "Lorem\n",
      "Ipsum\n",
      "Dolor\n",
      "Sit\n",
      "Amet,\n",
      "Consectetur\n",
      "Adipiscing\n",
      "Elit\n"
     ]
    }
   ],
   "source": [
    "# Or from another function we recall\n",
    "\n",
    "text = \"Lorem ipsum dolor sit amet, consectetur adipiscing elit\"\n",
    "words = text.split()\n",
    "\n",
    "for word in words:\n",
    "    print(word.title())"
   ]
  },
  {
   "cell_type": "code",
   "execution_count": 5,
   "id": "61375a0d",
   "metadata": {
    "id": "P2K61iJibpRm"
   },
   "outputs": [
    {
     "name": "stdout",
     "output_type": "stream",
     "text": [
      "L-o-r-e-m-i-p-s-u-m-d-o-l-o-r-s-i-t-a-m-e-t-,-c-o-n-s-e-c-t-e-t-u-r-a-d-i-p-i-s-c-i-n-g-e-l-i-t-"
     ]
    }
   ],
   "source": [
    "# You can also nest for loops:\n",
    "text = \"Lorem ipsum dolor sit amet, consectetur adipiscing elit\"\n",
    "words = text.split()\n",
    "\n",
    "for word in words:\n",
    "    for character in word:\n",
    "        print(character, end='-')  # What is the 'end' argument doing?"
   ]
  },
  {
   "cell_type": "markdown",
   "id": "625a7492",
   "metadata": {
    "id": "ogkfQmutbpRm"
   },
   "source": [
    "#### The enumerate function\n",
    "\n",
    "The `enumerate()` is problably the most used among the functions that supports the iteration of an iterable. This function return the current item plus **its index** in the iteration process.\n",
    "\n",
    "You can see that we assign two variable names, `i` and `word` to the outcome of `enumerate()`. \n",
    "What is the datatype that this function is returning? \n",
    "And what are the datatypes of its elements?"
   ]
  },
  {
   "cell_type": "code",
   "execution_count": 6,
   "id": "352fb173",
   "metadata": {
    "id": "h5F7bDyFbpRm"
   },
   "outputs": [
    {
     "name": "stdout",
     "output_type": "stream",
     "text": [
      "0 --> Lorem\n",
      "1 --> ipsum\n",
      "2 --> dolor\n",
      "3 --> sit\n",
      "4 --> amet,\n",
      "5 --> consectetur\n",
      "6 --> adipiscing\n",
      "7 --> elit.\n"
     ]
    }
   ],
   "source": [
    "# Use enumerate in the iteration over a list of words\n",
    "text = \"Lorem ipsum dolor sit amet, consectetur adipiscing elit.\"\n",
    "words = text.split()\n",
    "\n",
    "for i, word in enumerate(words):\n",
    "    print (i, \"-->\", word)"
   ]
  },
  {
   "cell_type": "code",
   "execution_count": 7,
   "id": "6afdac67",
   "metadata": {
    "id": "rdCbsbIxbpRm"
   },
   "outputs": [
    {
     "data": {
      "text/plain": [
       "[(0, 'Lorem'),\n",
       " (1, 'ipsum'),\n",
       " (2, 'dolor'),\n",
       " (3, 'sit'),\n",
       " (4, 'amet,'),\n",
       " (5, 'consectetur'),\n",
       " (6, 'adipiscing'),\n",
       " (7, 'elit.')]"
      ]
     },
     "execution_count": 7,
     "metadata": {},
     "output_type": "execute_result"
    }
   ],
   "source": [
    "# What is the datatype of the returning value of enumerate(words)?\n",
    "index_words = enumerate(words)\n",
    "index_words = list(index_words)\n",
    "index_words"
   ]
  },
  {
   "cell_type": "markdown",
   "id": "ca75b6a5",
   "metadata": {
    "id": "egCXgKeUbpRn"
   },
   "source": [
    "Optionally, you can make the `enumerate()` function start at another number:"
   ]
  },
  {
   "cell_type": "code",
   "execution_count": 8,
   "id": "6ac8464d",
   "metadata": {
    "id": "lb3xZGRRbpRn"
   },
   "outputs": [
    {
     "name": "stdout",
     "output_type": "stream",
     "text": [
      "98 Lorem\n",
      "99 ipsum\n",
      "100 dolor\n"
     ]
    }
   ],
   "source": [
    "for i, word in enumerate(words, 98):\n",
    "    \n",
    "    if i > 100:\n",
    "        break\n",
    "    # No else here?\n",
    "    \n",
    "    print(i, word)"
   ]
  },
  {
   "cell_type": "markdown",
   "id": "5894a2bc",
   "metadata": {
    "id": "W52stnECbpRn"
   },
   "source": [
    "#### The range construct\n",
    "\n",
    "The  `range()` construct can be used to control the iteration. It generate lists of numbers on the basis of the following three arguments:\n",
    "\n",
    "- `start` : the first integer of the list\n",
    "(default is 0)\n",
    "- `stop` : one larger the last integer of the list (list stop at n - 1)\n",
    "- `step`: the increment of the list (default is 1)"
   ]
  },
  {
   "cell_type": "code",
   "execution_count": 9,
   "id": "f33d3f7c",
   "metadata": {
    "id": "WCiMZKAGbpRn"
   },
   "outputs": [
    {
     "name": "stdout",
     "output_type": "stream",
     "text": [
      "range(0, 10)\n",
      "range(0, 10)\n",
      "range(1, 10, 2)\n"
     ]
    }
   ],
   "source": [
    "# Let's play with range\n",
    "print(range(0,10))\n",
    "print(range(10))\n",
    "print(range(1,10,2))"
   ]
  },
  {
   "cell_type": "markdown",
   "id": "32d5ecad",
   "metadata": {
    "id": "LPdR75mrbpRo"
   },
   "source": [
    "This each prints the function name with its arguments. Not very informative at this point...\n",
    "\n",
    "Similar to the call with the `list()` function above, we first have to transform the outcome of this function to a list to make it printable. This happens for some efficient functions that don't put everything in memory at once, but only during each iteration (when you run the code). So basically, the `range()` function produces a list of numbers."
   ]
  },
  {
   "cell_type": "code",
   "execution_count": 10,
   "id": "2af83a5f",
   "metadata": {
    "id": "T4tOprLfbpRo"
   },
   "outputs": [
    {
     "name": "stdout",
     "output_type": "stream",
     "text": [
      "[100, 90, 80, 70, 60, 50, 40, 30, 20, 10]\n"
     ]
    }
   ],
   "source": [
    "print(list(range(100, 1, -10)))  # You can make it reverse with a negative step!"
   ]
  },
  {
   "cell_type": "code",
   "execution_count": 11,
   "id": "980f42c5",
   "metadata": {
    "id": "HRHD-N3KbpRo"
   },
   "outputs": [
    {
     "name": "stdout",
     "output_type": "stream",
     "text": [
      "1\n",
      "3\n",
      "5\n",
      "7\n",
      "9\n"
     ]
    }
   ],
   "source": [
    "# Let's use range in a for loop\n",
    "\n",
    "for i in range(1, 10, 2):\n",
    "    print(i)"
   ]
  },
  {
   "cell_type": "markdown",
   "id": "c12ed0c1",
   "metadata": {
    "id": "RRKlt5zqbpRo"
   },
   "source": [
    "### While Loops\n",
    "\n",
    "The `while` statement allows us to control a loop on the basis of a condition. \n",
    "\n",
    "A `while` loop runs as long as a condition is verified. \n",
    "\n",
    "It has the following general form:\n",
    "\n",
    "```python\n",
    "while condition:\n",
    "\t# statement\n",
    "else:\n",
    "\t# statement\n",
    "```\n",
    "\n",
    "the code in the optional `else` clause is execute if and only if the loops terminates successfully (i.e., without a **`break`**)"
   ]
  },
  {
   "cell_type": "markdown",
   "id": "551dd6b2",
   "metadata": {
    "id": "VUvZtFIgbpRo"
   },
   "source": [
    "### Quiz\n",
    "\n",
    "_Think before doing._ What do you think happens when you execute?\n",
    "\n",
    "```python\n",
    "\n",
    "n = 1\n",
    "\n",
    "while n:\n",
    "    print(n)\n",
    "    n += 1\n",
    "```\n",
    "\n",
    "If you dare, you can execute this code. **Do this in a terminal window  instead of this notebook!**"
   ]
  },
  {
   "cell_type": "markdown",
   "id": "6db73e3e",
   "metadata": {
    "id": "tvx5SJKvbpRp"
   },
   "source": [
    "More safe is the code below, this does not let you end up in an _infinite loop_. Try executing the code a couple of t imes and see what it does. What is your longest streak of odd numbers?"
   ]
  },
  {
   "cell_type": "code",
   "execution_count": 12,
   "id": "f7525884",
   "metadata": {
    "id": "pGkczLiObpRp"
   },
   "outputs": [
    {
     "name": "stdout",
     "output_type": "stream",
     "text": [
      "59\n",
      "91\n",
      "88\n"
     ]
    }
   ],
   "source": [
    "import random\n",
    "\n",
    "n = 1\n",
    "while n % 2 != 0:\n",
    "    n = random.randrange(99)\n",
    "    print(n)"
   ]
  },
  {
   "cell_type": "markdown",
   "id": "b61969f4",
   "metadata": {
    "id": "_gh7zGGVbpRp"
   },
   "source": [
    "---"
   ]
  },
  {
   "cell_type": "markdown",
   "id": "46901edf",
   "metadata": {
    "id": "2OghnG89bpRp"
   },
   "source": [
    "### Break and Continue\n",
    "\n",
    "The clauses `break` and `continue` are two statements that allow for a more flexible control of a loop. Intuitively:\n",
    "\n",
    "- `continue` is used to pass to the next iteration of the loop\n",
    "- `break` is used to interrupt the loop abruptly"
   ]
  },
  {
   "cell_type": "code",
   "execution_count": 13,
   "id": "1eb05c19",
   "metadata": {
    "id": "8zU8_LIAbpRp"
   },
   "outputs": [
    {
     "name": "stdout",
     "output_type": "stream",
     "text": [
      "1\n",
      "3\n",
      "5\n",
      "9\n"
     ]
    }
   ],
   "source": [
    "# When we encounter 7 we skip to the next step\n",
    "for el in range(1, 10, 2):\n",
    "    if el == 7:\n",
    "        continue\n",
    "    print(el)"
   ]
  },
  {
   "cell_type": "code",
   "execution_count": 14,
   "id": "52dc9f14",
   "metadata": {
    "id": "Q6fbPEWWbpRp"
   },
   "outputs": [
    {
     "name": "stdout",
     "output_type": "stream",
     "text": [
      "1\n",
      "3\n",
      "5\n"
     ]
    }
   ],
   "source": [
    "# When we encounter 7 we stop our loop \n",
    "for el in range(1, 10, 2):\n",
    "    if el == 7:\n",
    "        break\n",
    "    print(el)"
   ]
  },
  {
   "cell_type": "markdown",
   "id": "2e2a32af",
   "metadata": {
    "id": "dYdr-UGlbpRq"
   },
   "source": [
    "The `break` influences the execution of the loop in yet another way: when a loop terminates due to a `break` statement, the code embedded in the option `else` clause is skipped."
   ]
  },
  {
   "cell_type": "code",
   "execution_count": 15,
   "id": "666d205e",
   "metadata": {
    "id": "RyA1KDo0bpRq"
   },
   "outputs": [
    {
     "name": "stdout",
     "output_type": "stream",
     "text": [
      "1\n",
      "3\n",
      "5\n",
      "(let's ignore the 7)\n",
      "9\n",
      ">>> the iteration ended with the number 9\n"
     ]
    }
   ],
   "source": [
    "# The continue statement does not influence the execution of the else block\n",
    "for el in range(1, 10, 2):\n",
    "    if el == 7:\n",
    "        print (\"(let's ignore the \" + str(el) + \")\")\n",
    "        continue\n",
    "    print(el)\n",
    "else:\n",
    "    print (\">>> the iteration ended with the number \" + str(el))"
   ]
  },
  {
   "cell_type": "code",
   "execution_count": 16,
   "id": "1eec26e6",
   "metadata": {
    "id": "V15cF_UobpRq"
   },
   "outputs": [
    {
     "name": "stdout",
     "output_type": "stream",
     "text": [
      "1\n",
      "3\n",
      "5\n",
      "(we encountered the number 7, let's break the loop)\n"
     ]
    }
   ],
   "source": [
    "# What if we replace continue with break\n",
    "for el in range(1, 10, 2):\n",
    "    if el == 7:\n",
    "        print (\"(we encountered the number \" + str(el) + \", let's break the loop)\")\n",
    "        break\n",
    "    print(el)\n",
    "else:\n",
    "    print (\">>> the iteration ended with the number \" + str(el))"
   ]
  },
  {
   "cell_type": "markdown",
   "id": "1f3271e0",
   "metadata": {
    "id": "dfYI-vqpbpRq"
   },
   "source": [
    "### The Pass Statement\n",
    "\n",
    "Given the importance of indentation for Python, sometimes we may need a placeholder that allows us to write down a condition for an `if-then-else` construct or for a `while` loop without writing any statement (maybe just a comment). This is the case in which the `pass` statement comes in handy. \n",
    "\n",
    "In what follows, **nothing happens**:\n",
    "\n",
    "```python\n",
    "if condition1:\n",
    "    pass\n",
    "else:\n",
    "    pass\n",
    "```"
   ]
  },
  {
   "cell_type": "code",
   "execution_count": 17,
   "id": "3917fcd9",
   "metadata": {
    "id": "9enhPMzkbpRq"
   },
   "outputs": [
    {
     "name": "stdout",
     "output_type": "stream",
     "text": [
      "Odd!\n",
      "Odd!\n",
      "Odd!\n",
      "Odd!\n",
      "Odd!\n"
     ]
    }
   ],
   "source": [
    "numbers = range(10)\n",
    "\n",
    "# Handy if you're quickly typing a loop\n",
    "# or function (see further on in this notebook)\n",
    "\n",
    "for n in numbers:\n",
    "    if n % 2 == 0:\n",
    "        pass  # TODO\n",
    "    else:\n",
    "        print(\"Odd!\")"
   ]
  },
  {
   "cell_type": "markdown",
   "id": "6e32f557",
   "metadata": {
    "id": "GbtXtrlMbpRr"
   },
   "source": [
    "---"
   ]
  },
  {
   "cell_type": "markdown",
   "id": "2dc4966b",
   "metadata": {
    "id": "X5_8X-9hbpRr"
   },
   "source": [
    "### List Comprehensions (advanced)\n",
    "\n",
    "A list comprehension is a syntactic construct that allows us to create lists by applying a function on another list, in just **one line** of code. \n",
    "\n",
    "Even if the reverse isn't always true, list comprehensions can always be (inefficiently) expressed as loops. We will exploit this family resemblance for introducing this construct."
   ]
  },
  {
   "cell_type": "markdown",
   "id": "e18db96e",
   "metadata": {
    "id": "T52TEZpTbpRr"
   },
   "source": [
    "In what follows, we start with a list of numbers and we want to square all of its elements and save our final values in a new list."
   ]
  },
  {
   "cell_type": "code",
   "execution_count": 18,
   "id": "2f99ccf1",
   "metadata": {
    "id": "xreE3ubQbpRr"
   },
   "outputs": [],
   "source": [
    "# Our source list\n",
    "source_list = [1,2,3,4,5,6,7,8,9]"
   ]
  },
  {
   "cell_type": "code",
   "execution_count": 19,
   "id": "a01cfc06",
   "metadata": {
    "id": "k-CrBOsEbpRr"
   },
   "outputs": [
    {
     "name": "stdout",
     "output_type": "stream",
     "text": [
      "[1, 4, 9, 16, 25, 36, 49, 64, 81]\n"
     ]
    }
   ],
   "source": [
    "# We can solve this problem with a for loop...\n",
    "final_list = []\n",
    "\n",
    "for el in source_list:\n",
    "    final_list.append(el ** 2)\n",
    "\n",
    "print(final_list)"
   ]
  },
  {
   "cell_type": "code",
   "execution_count": 20,
   "id": "929cfed2",
   "metadata": {
    "id": "eipfML2TbpRr"
   },
   "outputs": [
    {
     "name": "stdout",
     "output_type": "stream",
     "text": [
      "[1, 4, 9, 16, 25, 36, 49, 64, 81]\n"
     ]
    }
   ],
   "source": [
    "# But this can also be done in one line\n",
    "final_list = [el ** 2 for el in source_list]\n",
    "\n",
    "print(final_list)"
   ]
  },
  {
   "cell_type": "markdown",
   "id": "b34ec039",
   "metadata": {
    "id": "Z-2UhsqvbpRr"
   },
   "source": [
    "These list comprehensions cary the form of:\n",
    "    \n",
    "```python\n",
    "[i.method() for i in items]\n",
    "```"
   ]
  },
  {
   "cell_type": "markdown",
   "id": "48d53e99",
   "metadata": {
    "id": "glykXGT9bpRr"
   },
   "source": [
    "**Conditional statements may be implemented**\n",
    "\n",
    "In what follows we want to ignore all the odd numbers"
   ]
  },
  {
   "cell_type": "code",
   "execution_count": 21,
   "id": "53c58f2e",
   "metadata": {
    "id": "_diIdh-vbpRs"
   },
   "outputs": [
    {
     "name": "stdout",
     "output_type": "stream",
     "text": [
      "[4, 16, 36, 64]\n"
     ]
    }
   ],
   "source": [
    "# We can solve this problem with a for loop...\n",
    "final_list = []\n",
    "\n",
    "for el in source_list:\n",
    "    if el % 2 == 0:\n",
    "        final_list.append(el ** 2)\n",
    "\n",
    "print(final_list)"
   ]
  },
  {
   "cell_type": "code",
   "execution_count": 22,
   "id": "45489e3d",
   "metadata": {
    "id": "5xKe9qP7bpRs"
   },
   "outputs": [
    {
     "name": "stdout",
     "output_type": "stream",
     "text": [
      "[4, 16, 36, 64]\n"
     ]
    }
   ],
   "source": [
    "# ... or by using list comprehension\n",
    "final_list = [el ** 2 for el in source_list if el % 2 == 0]\n",
    "\n",
    "print(final_list)"
   ]
  },
  {
   "cell_type": "markdown",
   "id": "e3873d9d",
   "metadata": {
    "id": "g8zffkMybpRs"
   },
   "source": [
    "**If you want to implement an else clause the syntax changes slightly**\n",
    "\n",
    "In what follows we want to leave the odd numbers unchanged"
   ]
  },
  {
   "cell_type": "code",
   "execution_count": 23,
   "id": "b525ce01",
   "metadata": {
    "id": "OXheeO4mbpRs"
   },
   "outputs": [
    {
     "name": "stdout",
     "output_type": "stream",
     "text": [
      "[1, 4, 3, 16, 5, 36, 7, 64, 9]\n"
     ]
    }
   ],
   "source": [
    "# we can solve this problem with a for loop...\n",
    "final_list = []\n",
    "\n",
    "for el in source_list:\n",
    "    if el % 2 == 0:\n",
    "        final_list.append(el ** 2)\n",
    "    else:\n",
    "        final_list.append(el)\n",
    "\n",
    "print(final_list)"
   ]
  },
  {
   "cell_type": "code",
   "execution_count": 24,
   "id": "b6dd38f3",
   "metadata": {
    "id": "RDwqq-yabpRs"
   },
   "outputs": [
    {
     "name": "stdout",
     "output_type": "stream",
     "text": [
      "[1, 4, 3, 16, 5, 36, 7, 64, 9]\n"
     ]
    }
   ],
   "source": [
    "# ... or by using list comprehension\n",
    "final_list = [el ** 2 if el % 2 == 0 else el for el in source_list]\n",
    "\n",
    "print(final_list)"
   ]
  },
  {
   "cell_type": "markdown",
   "id": "9c3e5ad6",
   "metadata": {
    "id": "8E5dOz8KbpRs"
   },
   "source": [
    "### Quiz\n",
    "\n",
    "The following list contains 100 random extractions (with replacement) of numbers between 1 and 15. \n",
    "\n",
    "Find the number that has never been extracted"
   ]
  },
  {
   "cell_type": "code",
   "execution_count": 25,
   "id": "cd1582bf",
   "metadata": {
    "id": "Cv2ZrsaSbpRt"
   },
   "outputs": [],
   "source": [
    "random_numbers = [1, 2, 1, 1, 9, 13, 15, 5, 9, 8, 12, 14, 3, 2, 8, 10, 3, 12, 15, 13, 5, 3, 7, 5, 2, 13, 12, 8, 10, 5, 15, 8, 2, 8, 5, 12, 9, 2, 3, 5, 1, 4, 5, 9, 13, 2, 12, 5, 10, 8, 1, 15, 15, 6, 12, 3, 1, 3, 7, 14, 15, 10, 15, 7, 10, 12, 1, 2, 13, 7, 9, 6, 6, 7, 4, 12, 10, 8, 8, 3, 8, 4, 6, 14, 10, 5, 2, 3, 15, 4, 9, 3, 7, 7, 2, 4, 4, 1, 7, 15]"
   ]
  },
  {
   "cell_type": "code",
   "execution_count": 26,
   "id": "e7789268",
   "metadata": {
    "id": "XPH0Li2CbpRt"
   },
   "outputs": [],
   "source": [
    "# Your code here"
   ]
  },
  {
   "cell_type": "markdown",
   "id": "97d12c8a",
   "metadata": {
    "id": "kPgRBM5fbpRt"
   },
   "source": [
    "---"
   ]
  },
  {
   "cell_type": "markdown",
   "id": "5267b75c",
   "metadata": {
    "id": "PUoIYLuibpRt"
   },
   "source": [
    "# Input / Output\n",
    "\n",
    "We now discussed the art of looping, to automate bits of your code and prevent repetition. If you know that you're going to use parts of your code more than once, you can make a function out of it. Functions are constructs that allows us to organize portions of code more than once in a program. The alternative way to obtain the same results without functions would be to copy the same portion of code every time it is needed. Organizing your code with functions makes it easier to split your problem into smaller subproblems.\n",
    "\n",
    "We have seen plenty of built-in functions so far. If you used them, you could have recognized them by their parenthesesis after their name. The `print()` functions is such an example. \n",
    "\n",
    "A function **takes optional parameters** (inside the parenthesis) and **optionally returns a value** after it has done something."
   ]
  },
  {
   "cell_type": "markdown",
   "id": "f1354b1f",
   "metadata": {
    "id": "KOLObCmNbpRt"
   },
   "source": [
    "## Functions\n",
    "\n",
    "Functions in Python are defined by a `def` statement, following this template:\n",
    "\n",
    "```python\n",
    "\n",
    "def function_name(parameters):\n",
    "    \"\"\"\n",
    "    Documentation on what the function is doing\n",
    "    \"\"\"\n",
    "    \n",
    "    # your statements\n",
    "    result = True\n",
    "    \n",
    "    return result\n",
    "```"
   ]
  },
  {
   "cell_type": "markdown",
   "id": "64f73a54",
   "metadata": {
    "id": "S91lD4C6bpRt"
   },
   "source": [
    "> The list of the parameters required by the function is reported between round brackets right after the name of the function. Each function may have **zero or more** parameters. When a function is called, its parameters are called **arguments**.\n",
    ">\n",
    "> The (optional) documentation string should be placed immediately after the function definition. There are many way to format your **docstring**, [PEP 287](https://www.python.org/dev/peps/pep-0257/) recommends reStructuredText, but more formats are available. See [this tutorial](http://daouzli.com/blog/docstring.html) for an introduction to the topic.\n",
    ">\n",
    "> The **indented** function body contains all the statements that are executed every time the function is called. When a `return` statement is executed, the function exits and its output is the argument of the `return` statement. \n",
    ">\n",
    "> When there is no return statement in the body function, or when a return statement with no arguments is executed, the function  returns `None`"
   ]
  },
  {
   "cell_type": "markdown",
   "id": "641be65f",
   "metadata": {
    "id": "BnGsh3aLbpRu"
   },
   "source": [
    "For instance, the following function calculates the number of characters in a string:"
   ]
  },
  {
   "cell_type": "code",
   "execution_count": 27,
   "id": "7c98f813",
   "metadata": {
    "id": "FUf2PG4TbpRu"
   },
   "outputs": [],
   "source": [
    "def chars(s):\n",
    "    \"\"\"\n",
    "    Calculate the number of characters in a string\n",
    "    \"\"\"\n",
    "    \n",
    "    if type(s) != str:\n",
    "        return \"This is not a string!\"\n",
    "    \n",
    "    r = len(s)\n",
    "    \n",
    "    return r"
   ]
  },
  {
   "cell_type": "markdown",
   "id": "38a070a7",
   "metadata": {
    "id": "T0nrbMhvbpRu"
   },
   "source": [
    "The docstring is saved into a  `__doc__` variable and can be accessed by using the `help()` function or the IPython `?`"
   ]
  },
  {
   "cell_type": "code",
   "execution_count": 28,
   "id": "b7434061",
   "metadata": {
    "id": "S3XRVhhGbpRu"
   },
   "outputs": [
    {
     "name": "stdout",
     "output_type": "stream",
     "text": [
      "\n",
      "    Calculate the number of characters in a string\n",
      "    \n"
     ]
    }
   ],
   "source": [
    "# Don't use this, it is just to make the point\n",
    "print(chars.__doc__)"
   ]
  },
  {
   "cell_type": "code",
   "execution_count": 29,
   "id": "c867357d",
   "metadata": {
    "id": "qJOibB98bpRu"
   },
   "outputs": [
    {
     "name": "stdout",
     "output_type": "stream",
     "text": [
      "Help on function chars in module __main__:\n",
      "\n",
      "chars(s)\n",
      "    Calculate the number of characters in a string\n",
      "\n"
     ]
    }
   ],
   "source": [
    "# Use one of this two\n",
    "help(chars)\n",
    "chars?"
   ]
  },
  {
   "cell_type": "markdown",
   "id": "d14fc558",
   "metadata": {
    "id": "tRyIRIjxbpRu"
   },
   "source": [
    "Or keep using the `shift + tab` ipython magic!"
   ]
  },
  {
   "cell_type": "code",
   "execution_count": 30,
   "id": "b56295da",
   "metadata": {
    "id": "MybHD-nEbpRu"
   },
   "outputs": [
    {
     "data": {
      "text/plain": [
       "4"
      ]
     },
     "execution_count": 30,
     "metadata": {},
     "output_type": "execute_result"
    }
   ],
   "source": [
    "chars('test')"
   ]
  },
  {
   "cell_type": "markdown",
   "id": "27e64854",
   "metadata": {
    "id": "jxVgwUGUbpRv"
   },
   "source": [
    "In order to execute the code included in a function, you have to **call the function**, either in your script or in the interactive shell. For instance:"
   ]
  },
  {
   "cell_type": "code",
   "execution_count": 31,
   "id": "d2139461",
   "metadata": {
    "id": "4PyFCCb2bpRv"
   },
   "outputs": [
    {
     "data": {
      "text/plain": [
       "6"
      ]
     },
     "execution_count": 31,
     "metadata": {},
     "output_type": "execute_result"
    }
   ],
   "source": [
    "chars(\"voodoo\")"
   ]
  },
  {
   "cell_type": "code",
   "execution_count": 32,
   "id": "5870b796",
   "metadata": {
    "id": "eBScujrtbpRv"
   },
   "outputs": [
    {
     "data": {
      "text/plain": [
       "'This is not a string!'"
      ]
     },
     "execution_count": 32,
     "metadata": {},
     "output_type": "execute_result"
    }
   ],
   "source": [
    "chars(1979)"
   ]
  },
  {
   "cell_type": "markdown",
   "id": "034d0c4d",
   "metadata": {
    "id": "_5yKAbrEbpRv"
   },
   "source": [
    "The `return` is also optional. What happens when you assign a variable to a function call that does not have a return statement?"
   ]
  },
  {
   "cell_type": "code",
   "execution_count": 33,
   "id": "401b347b",
   "metadata": {
    "id": "7aEnjds9bpRv"
   },
   "outputs": [
    {
     "name": "stdout",
     "output_type": "stream",
     "text": [
      "['What', 'happens', 'when', 'there', 'is', 'no', 'return', 'keyword?']\n",
      "<class 'NoneType'>\n"
     ]
    }
   ],
   "source": [
    "def tokenize(text):\n",
    "    words = text.split()\n",
    "    \n",
    "    print(words)\n",
    "    \n",
    "    # Forgot something?\n",
    "    \n",
    "words = tokenize(\"What happens when there is no return keyword?\")\n",
    "\n",
    "print(type(words))"
   ]
  },
  {
   "cell_type": "markdown",
   "id": "58141e1a",
   "metadata": {
    "id": "wnJU6BVabpRv"
   },
   "source": [
    "Sometimes, you don't need a return statement, as you're for instance writing a function as some kind of wrapper function, that ties several methods together. Or write the output to a file, instead of to the console. It's best to make clear in the docstring/documentation of the function (using the `\"\"\" \"\"\"` docstring style) what the function takes in, processes, and spits out again."
   ]
  },
  {
   "cell_type": "markdown",
   "id": "2fcf3c61",
   "metadata": {
    "id": "3lRnQLGwbpRv"
   },
   "source": [
    "### Parameters\n",
    "\n",
    "A function can receive any number of parameters:"
   ]
  },
  {
   "cell_type": "code",
   "execution_count": 34,
   "id": "4e12bc9f",
   "metadata": {
    "id": "Xx4DPML_bpRv"
   },
   "outputs": [],
   "source": [
    "def higher(n1, n2, n3):\n",
    "    \"\"\"\n",
    "    Find the higher of three numbers\n",
    "    \"\"\"\n",
    "    \n",
    "    if n1 > n2 and n2 >= n3:\n",
    "        return n1\n",
    "    \n",
    "    if n2 >= n3:\n",
    "        return n2\n",
    "    \n",
    "    else:\n",
    "        return n3"
   ]
  },
  {
   "cell_type": "code",
   "execution_count": 35,
   "id": "ba5bf558",
   "metadata": {
    "id": "2X_5CEpmbpRw"
   },
   "outputs": [
    {
     "data": {
      "text/plain": [
       "8"
      ]
     },
     "execution_count": 35,
     "metadata": {},
     "output_type": "execute_result"
    }
   ],
   "source": [
    "# A parameter can be passed either by position\n",
    "higher(4, 2, 8)"
   ]
  },
  {
   "cell_type": "code",
   "execution_count": 36,
   "id": "73c56b0a",
   "metadata": {
    "id": "MTCHT224bpRw"
   },
   "outputs": [
    {
     "data": {
      "text/plain": [
       "8"
      ]
     },
     "execution_count": 36,
     "metadata": {},
     "output_type": "execute_result"
    }
   ],
   "source": [
    "# Or by name/keyword\n",
    "higher(n3=8, n1=4, n2=2)"
   ]
  },
  {
   "cell_type": "markdown",
   "id": "04409044",
   "metadata": {
    "id": "OUEynmv9bpRw"
   },
   "source": [
    "#### Optional Parameters\n",
    "\n",
    "In some situation it may be useful to have a default parameter value, that is used when a call leaves an arguments **unspecified**."
   ]
  },
  {
   "cell_type": "code",
   "execution_count": 37,
   "id": "ee591d3f",
   "metadata": {
    "id": "V8rYqDIUbpRw"
   },
   "outputs": [],
   "source": [
    "def higher(n1, n2=0, n3=0):\n",
    "    \"\"\"\n",
    "    Find the higher of three numbers\n",
    "    \"\"\"\n",
    "    \n",
    "    if n1 > n2 and n2 >= n3:\n",
    "        return n1\n",
    "    if n2 >= n3:\n",
    "        return n2\n",
    "    else:\n",
    "        return n3"
   ]
  },
  {
   "cell_type": "code",
   "execution_count": 38,
   "id": "2149fe76",
   "metadata": {
    "id": "B6YkicoSbpRw"
   },
   "outputs": [
    {
     "data": {
      "text/plain": [
       "9"
      ]
     },
     "execution_count": 38,
     "metadata": {},
     "output_type": "execute_result"
    }
   ],
   "source": [
    "higher(9,4)"
   ]
  },
  {
   "cell_type": "markdown",
   "id": "b57be016",
   "metadata": {
    "id": "JMWtCzEubpRw"
   },
   "source": [
    "But what happens now:"
   ]
  },
  {
   "cell_type": "code",
   "execution_count": 39,
   "id": "ead57db7",
   "metadata": {
    "id": "NPzn-ZQabpRw"
   },
   "outputs": [
    {
     "data": {
      "text/plain": [
       "0"
      ]
     },
     "execution_count": 39,
     "metadata": {},
     "output_type": "execute_result"
    }
   ],
   "source": [
    "higher(-6, -3)  # How to fix this? "
   ]
  },
  {
   "cell_type": "markdown",
   "id": "824c9c86",
   "metadata": {
    "id": "S3uaHOw-bpRw"
   },
   "source": [
    "#### Arbitrary Number of Parameters\n",
    "\n",
    "A different situation is when we want our function to have an unspecified number of parameters. Python functions admit the so-called \"tuple references\", marked by an asterisk `*` in front of the last parameter  (that becomes a `tuple`)."
   ]
  },
  {
   "cell_type": "code",
   "execution_count": 40,
   "id": "b9a7f82a",
   "metadata": {
    "id": "uonhMjvvbpRx"
   },
   "outputs": [],
   "source": [
    "def print_params(*params):\n",
    "    print (\"your input:\")\n",
    "    print (params)"
   ]
  },
  {
   "cell_type": "code",
   "execution_count": 41,
   "id": "e02d8920",
   "metadata": {
    "id": "I08CDCWHbpRx"
   },
   "outputs": [
    {
     "name": "stdout",
     "output_type": "stream",
     "text": [
      "your input:\n",
      "('Down from my ceiling', 'Drips great noise', 'It drips on my head through a hole in the roof')\n"
     ]
    }
   ],
   "source": [
    "print_params(\"Down from my ceiling\", \"Drips great noise\", \"It drips on my head through a hole in the roof\") "
   ]
  },
  {
   "cell_type": "markdown",
   "id": "7be1250d",
   "metadata": {
    "id": "BJIoWFPebpRx"
   },
   "source": [
    "---"
   ]
  },
  {
   "cell_type": "markdown",
   "id": "f25b3c53",
   "metadata": {
    "id": "7pRQpYJEbpRx"
   },
   "source": [
    "#### Quiz\n",
    "\n",
    "Remember the grocery list. Can you write a function that:\n",
    "* Takes *one or multiple* items as arguments\n",
    "* Takes in an existing dictionary of groceries (keys) and counts (values)\n",
    "* Adds the single (or multiple items) to this dictionary if it is not yet in there and update the count if it is\n",
    "* Returns this (updated) dictionary"
   ]
  },
  {
   "cell_type": "code",
   "execution_count": 42,
   "id": "8dcc48b9",
   "metadata": {
    "id": "8qXossqwbpRx"
   },
   "outputs": [],
   "source": [
    "groceries = {\n",
    "    'kiwi': 8,\n",
    "    'bread': 2,\n",
    "    'banana': 3,\n",
    "    'soy sauce': 1,\n",
    "    'red wine': 1,\n",
    "    'soup': 1\n",
    "}\n",
    "\n",
    "# Your code here\n"
   ]
  },
  {
   "cell_type": "markdown",
   "id": "90254f13",
   "metadata": {
    "id": "RRU3EFW1bpRx"
   },
   "source": [
    "---"
   ]
  },
  {
   "cell_type": "markdown",
   "id": "43304b08",
   "metadata": {
    "id": "2bgjmR-pbpRx"
   },
   "source": [
    "## Modules and Packages\n",
    "\n",
    "Python modules are groupings of related code that are structures as to facilitate its re-use. \n",
    "\n",
    "Physically, modules are `.py` files implementing a set of **functions, classes or variables**, as well as **executable statements**, that can be accessed from other modules by using the `import` command."
   ]
  },
  {
   "cell_type": "markdown",
   "id": "3ae7e3e6",
   "metadata": {
    "id": "Z-uooggqbpRx"
   },
   "source": [
    "The `import` command can be used both to import **the whole code** of a module, using the following syntax:\n",
    "\n",
    "```python\n",
    "import module\n",
    "```\n",
    "\n",
    "or just **specific attributes** (one or more functions, variables, classes or a combination of these) with the following syntax:\n",
    "\n",
    "```python\n",
    "from module import name1, name2, name3\n",
    "```"
   ]
  },
  {
   "cell_type": "markdown",
   "id": "f256e138",
   "metadata": {
    "id": "-QtS4BUhbpRx"
   },
   "source": [
    "For example, if order to know what is our current working directory, we can use the function `getcwd()` available `os` module (see below) in two different ways:"
   ]
  },
  {
   "cell_type": "code",
   "execution_count": 43,
   "id": "ec33eccb",
   "metadata": {
    "id": "pIBtSimRbpRy"
   },
   "outputs": [
    {
     "data": {
      "text/plain": [
       "'/home/nils/NILS/TA/CTH/2023-coding-the-humanities/myst-notebooks'"
      ]
     },
     "execution_count": 43,
     "metadata": {},
     "output_type": "execute_result"
    }
   ],
   "source": [
    "import os\n",
    "os.getcwd()"
   ]
  },
  {
   "cell_type": "code",
   "execution_count": 44,
   "id": "4c500f62",
   "metadata": {
    "id": "M71lbz8hbpRy"
   },
   "outputs": [
    {
     "data": {
      "text/plain": [
       "'/home/nils/NILS/TA/CTH/2023-coding-the-humanities/myst-notebooks'"
      ]
     },
     "execution_count": 44,
     "metadata": {},
     "output_type": "execute_result"
    }
   ],
   "source": [
    "from os import getcwd\n",
    "getcwd()"
   ]
  },
  {
   "cell_type": "markdown",
   "id": "d86f3f37",
   "metadata": {
    "id": "aczqo3M3bpRy"
   },
   "source": [
    "You can think of a **package** as a structured collection of Python modules."
   ]
  },
  {
   "cell_type": "markdown",
   "id": "1be8f2be",
   "metadata": {
    "id": "EfsjVLd-bpRy"
   },
   "source": [
    "There are some modules/libraries available in Python as built-in. Take a closer look at three of them:\n",
    "    \n",
    "- Math ([manual](https://docs.python.org/3/library/math.html))\n",
    "- Collections ([manual](https://docs.python.org/3/library/collections.html))\n",
    "- Itertools ([manual](https://docs.python.org/3/library/itertools.html))"
   ]
  },
  {
   "cell_type": "markdown",
   "id": "f26b0104",
   "metadata": {
    "id": "lpebGWzNbpRy"
   },
   "source": [
    "Can you figure out when to use the `defaultdict` and `Counter` from the Collections library? Can you use them in any of the functions/code you wrote above?"
   ]
  },
  {
   "cell_type": "code",
   "execution_count": 45,
   "id": "31535e63",
   "metadata": {
    "id": "6I1Wzpo8bpRy"
   },
   "outputs": [],
   "source": [
    "# Example\n",
    "\n",
    "from collections import Counter\n",
    "\n",
    "# Your code here"
   ]
  },
  {
   "cell_type": "markdown",
   "id": "2acff861",
   "metadata": {
    "id": "LJnKeC7nbpRy"
   },
   "source": [
    "---"
   ]
  },
  {
   "cell_type": "markdown",
   "id": "fd60e2de",
   "metadata": {
    "id": "LYxAEcb8bpRy"
   },
   "source": [
    "## File Input/Output\n",
    "\n",
    "A huge portion of our input data will come from files on disk, and a lot of our work will be saved in memory. So, mastering the art of reading and writing is crucial even in programming."
   ]
  },
  {
   "cell_type": "markdown",
   "id": "829e7046",
   "metadata": {
    "id": "jsPrvM_ZbpRz"
   },
   "source": [
    "### Files in Colab\n",
    "\n",
    "In these examples, we will work with a file referred to as \"data/adams-hhgttg.txt\". This means there should be a directory called \"Data\" and inside of that there should be the file \"adams-hhgttg.txt\". You will find this in the course repository in the Notebooks directory. Obtain this file either by downloading the course repository and finding it there, or opening it on Github and saving the raw file.\n",
    "\n",
    "```{image} images/git-download.png\n",
    ":alt: gitdownload\n",
    "```\n",
    "\n",
    "In Colab, you can view and edit the file system by clicking on the \"Files\" icon on the left side. You will see the file system of your Colab session there with a directory called \"sample_data\". You can make directories and upload files here."
   ]
  },
  {
   "cell_type": "markdown",
   "id": "2c17eabb",
   "metadata": {
    "id": "fFG2OGh3MsBC"
   },
   "source": [
    "Normally, you cannot upload a directory full of files, but there is a trick, which we will use here: you can upload zip files (containing multiple files and directories) and then unzip them.\n",
    "\n",
    "Find the \"data\" directory in the repository that you downloaded, and compress (zip) it. \n",
    "\n",
    "On Windows, this is unintuitively done by sending it to a compressed folder:\n",
    "\n",
    "```{image} images/how-to-zip.png\n",
    ":alt: howtozip\n",
    "```\n",
    "\n",
    "\n",
    "On Apple, it is done by right-clicking on \"folder name\" and choosing the option 'Compress \"folder name\"'\n",
    "\n",
    "Then, in Colab's Files window, click \"Upload to session storage\" and upload your new zip file. \n",
    "\n",
    "Next, you can unzip it by running this code:"
   ]
  },
  {
   "cell_type": "code",
   "execution_count": 46,
   "id": "547884b1",
   "metadata": {
    "id": "IRkqTvIKOGS7"
   },
   "outputs": [
    {
     "name": "stdout",
     "output_type": "stream",
     "text": [
      "unzip:  cannot find or open data.zip, data.zip.zip or data.zip.ZIP.\r\n"
     ]
    }
   ],
   "source": [
    "!unzip data.zip"
   ]
  },
  {
   "cell_type": "markdown",
   "id": "fc46d973",
   "metadata": {
    "id": "iI6V4xvBOIC6"
   },
   "source": [
    "(This assumes your file is named data.zip, change the command if not)\n",
    "\n",
    "Now, you will have the directory with the data files of the course in your Colab session, but Colab doesn't always show the change immediately. **If you do not see it yet, click the \"Refresh\" button** (next to the Upload to session storage button) to show the change you just made. You should now have a directory called \"Data\" in your session and inside of that there should be the file \"adams-hhgttg.txt\", among other files.\n",
    "\n",
    "```{note}\n",
    "Colab sessions are temporary - the next time you load Colab to work on this notebook, you will have to upload your Data zip file and unzip it again.\n",
    "```\n",
    "\n",
    "#### Manually creating folders and files\n",
    "\n",
    "Besides the \"sample_data\" and \"data\" that you now have, you can make another directory by right-clicking somewhere in this file system window and choosing \"New folder\". For example, create a folder called Stuff for your code's output.\n",
    "\n",
    "#### Permanently saving your files: Google Drive\n",
    "\n",
    "There is also a more permanent solution, which is to link your Google Drive to your Colab session. You can do it by clicking the \"Mount Drive\" button in the Files window, or with this code:"
   ]
  },
  {
   "cell_type": "code",
   "execution_count": 47,
   "id": "f395727b",
   "metadata": {
    "id": "KGZpJXs-BicZ"
   },
   "outputs": [
    {
     "ename": "ModuleNotFoundError",
     "evalue": "No module named 'google.colab'",
     "output_type": "error",
     "traceback": [
      "\u001b[0;31m---------------------------------------------------------------------------\u001b[0m",
      "\u001b[0;31mModuleNotFoundError\u001b[0m                       Traceback (most recent call last)",
      "Input \u001b[0;32mIn [47]\u001b[0m, in \u001b[0;36m<cell line: 1>\u001b[0;34m()\u001b[0m\n\u001b[0;32m----> 1\u001b[0m \u001b[38;5;28;01mfrom\u001b[39;00m \u001b[38;5;21;01mgoogle\u001b[39;00m\u001b[38;5;21;01m.\u001b[39;00m\u001b[38;5;21;01mcolab\u001b[39;00m \u001b[38;5;28;01mimport\u001b[39;00m drive\n\u001b[1;32m      2\u001b[0m drive\u001b[38;5;241m.\u001b[39mmount(\u001b[38;5;124m'\u001b[39m\u001b[38;5;124m/content/drive\u001b[39m\u001b[38;5;124m'\u001b[39m)\n",
      "\u001b[0;31mModuleNotFoundError\u001b[0m: No module named 'google.colab'"
     ]
    }
   ],
   "source": [
    "from google.colab import drive\n",
    "drive.mount('/content/drive')"
   ]
  },
  {
   "cell_type": "markdown",
   "id": "d695180b",
   "metadata": {
    "id": "j919h41JBlYC"
   },
   "source": [
    "In the Files window, you will now see an additional directory called Drive. In this directory will be the contents of your Google Drive. If you put your data there, for example in a directory called \"data\", you will be able to access this from Colab. It will be located on the path `drive/data/file.txt`. Anything you put on Google Drive will still be there next time you open Colab, as long as you link your session to Google Drive again."
   ]
  },
  {
   "cell_type": "markdown",
   "id": "11c5e03c",
   "metadata": {
    "id": "0pS65L62DovC"
   },
   "source": [
    "### Opening a file\n",
    "\n",
    "The following code opens a file in our filesystem, prints the first 10 lines and closes the file. Please note that this file must exist in your Colab session (when running on Colab) on your computer (when running locally).\n",
    "\n",
    "If you are working locally and you have only have downloaded this notebook, go back to the repository and download the file to the appropriate path (or change the path below). \n",
    "\n",
    "```{admonition} Tip\n",
    ":class: tip\n",
    "The code below shows you how the `open()` function works. It's better to use a `with` block (see below), which does this opening and closing for you.\n",
    "```"
   ]
  },
  {
   "cell_type": "code",
   "execution_count": 48,
   "id": "ff577a34",
   "metadata": {
    "id": "61D4RcmKbpRz"
   },
   "outputs": [
    {
     "name": "stdout",
     "output_type": "stream",
     "text": [
      "The Hitch Hiker's Guide to the Galaxy \n",
      "\n",
      "\n",
      "\n",
      "for Jonny Brock and Clare Gorst \n",
      "\n",
      "and all other Arlingtoniansfor tea, sympathy, and a sofa\n",
      "\n",
      "\n",
      "\n",
      "\n",
      "\n",
      "\n",
      "\n",
      "Far out in the uncharted backwaters of the unfashionable  end  of\n",
      "\n",
      "the  western  spiral  arm  of  the Galaxy lies a small unregarded\n",
      "\n",
      "yellow sun.\n",
      "\n"
     ]
    }
   ],
   "source": [
    "infile = open('data/adams-hhgttg.txt', 'r', encoding='utf-8')\n",
    "#If you have put the file somewhere else, such as on your Drive, you should modify the path to open.\n",
    "#For example to '/drive/data/adams-hhgttg.txt'. Otherwise, you will get a FileNotFound error when running this code.\n",
    "\n",
    "for i, line in enumerate(infile):\n",
    "    if i == 10:\n",
    "        break\n",
    "    print(line)\n",
    "\n",
    "infile.close()"
   ]
  },
  {
   "cell_type": "markdown",
   "id": "a367cbbd",
   "metadata": {
    "id": "z3PhyzsUbpRz"
   },
   "source": [
    "The key passage here is the one in which the `open()` function opens a file and return a **file object**, and it is commonly used with the following two parameters: the **name of the file** that we want to open, the **mode** and the **encoding**. \n",
    "\n",
    "- **filename**: the name of the file to open\n",
    "\n",
    "- the **mode** in which we want to open a file: the most commonly used values are `r` for **reading** (default), `w` for **writing** (overwriting existing files), and `a` for **appending**. (Note that [the documentation](https://docs.python.org/3/library/functions.html#open) report mode values that may be necessary in some exceptional case)\n",
    "\n",
    "- **encoding**: which mapping of string to code points (conversion to bytes) to use, more on this later."
   ]
  },
  {
   "cell_type": "markdown",
   "id": "ed178e43",
   "metadata": {
    "id": "FrEfwsWnbpRz"
   },
   "source": [
    "```{warning}\n",
    "Every opened file should be **closed** by using the function `close()` before the end of the program, or the file could be unavailable to successive manipulations or for other programs.\n",
    "```"
   ]
  },
  {
   "cell_type": "markdown",
   "id": "a10edca8",
   "metadata": {
    "id": "aIQb8OT2bpRz"
   },
   "source": [
    "There are other ways to read a text file, among which the use of the methods `read()` and `readlines()`, that would simplify the above function in:\n",
    "\n",
    "```python\n",
    "infile = open('data/adams-hhgttg.txt', 'r', encoding='utf-8')\n",
    "text = infile.readlines()\n",
    "print(text[:10])\n",
    "infile.close()\n",
    "```\n",
    "\n",
    "However, these methods **read the whole file at once**, thus creating huge problems when working with big corpora.\n",
    "\n",
    "In the solution we adopt here the input file is read line by line, so that at any given moment **only one line of text** is loaded into memory."
   ]
  },
  {
   "cell_type": "markdown",
   "id": "66c93f28",
   "metadata": {
    "id": "u1pp4LNJbpRz"
   },
   "source": [
    "### The with statement \n",
    "\n",
    "A `with` statement is used to wrap the execution of a block of code.\n",
    "\n",
    "Using this construction to open files has three major advantages:\n",
    "\n",
    "- there is no need to explicitly  close the file (the file is automatically closed as soon as the nested code exits)\n",
    "- the file is closed automatically even when unhandled errors cause the program to crash\n",
    "- the code is way clearer (it is trivial to identify where in the code a file is opened) \n",
    "\n",
    "Thus, you can  make it yourself a bit easier. Forget about the explicit `.close()` method. The code above can be rewritten as follows:"
   ]
  },
  {
   "cell_type": "code",
   "execution_count": 49,
   "id": "16b12a8b",
   "metadata": {
    "id": "HyQ6fxnZbpRz"
   },
   "outputs": [
    {
     "name": "stdout",
     "output_type": "stream",
     "text": [
      "[\"The Hitch Hiker's Guide to the Galaxy \\n\", '\\n', 'for Jonny Brock and Clare Gorst \\n', 'and all other Arlingtoniansfor tea, sympathy, and a sofa\\n', '\\n', '\\n', '\\n', 'Far out in the uncharted backwaters of the unfashionable  end  of\\n', 'the  western  spiral  arm  of  the Galaxy lies a small unregarded\\n', 'yellow sun.\\n']\n"
     ]
    }
   ],
   "source": [
    "with open('data/adams-hhgttg.txt', encoding='utf-8') as infile:\n",
    "    \n",
    "    lines = infile.readlines()\n",
    "    \n",
    "print(lines[:10])"
   ]
  },
  {
   "cell_type": "markdown",
   "id": "b2580669",
   "metadata": {
    "id": "s-b1IHBDbpRz"
   },
   "source": [
    "The code in the indented with block is executed while the file is opened. It is automatically closed as the block is closed."
   ]
  },
  {
   "cell_type": "markdown",
   "id": "b476d850",
   "metadata": {
    "id": "mExCcDH-bpRz"
   },
   "source": [
    "### Quiz\n",
    "\n",
    "* Write one function that takes a file path as argument and prints statistics about the file, giving:\n",
    "    * The number of tokens\n",
    "    * The number of unique tokens\n",
    "    * The type:token ratio\n",
    "    * The 10 most frequent words\n",
    "* Write a normalization or cleaning function that pre-processes the text, by removing:\n",
    "    * Uppercase\n",
    "    * Punctuation\n",
    "* Call the normalization function inside the main function."
   ]
  },
  {
   "cell_type": "code",
   "execution_count": 50,
   "id": "6ab4ea3a",
   "metadata": {
    "id": "vNUwnaAlbpR0"
   },
   "outputs": [],
   "source": [
    "file_path = 'data/adams-hhgttg.txt'\n",
    "\n",
    "# Your code here"
   ]
  },
  {
   "cell_type": "markdown",
   "id": "8ecb5819",
   "metadata": {
    "id": "_yGMRrDCbpR0"
   },
   "source": [
    "---"
   ]
  },
  {
   "cell_type": "markdown",
   "id": "6e313107",
   "metadata": {
    "id": "GsxBOHkTbpR0"
   },
   "source": [
    "### Writing to files\n",
    "\n",
    "Writing an output file in Python has a structure that is close to that we're ued in our reading examples above. The main difference are \n",
    "\n",
    "- the specification of the **mode** `w`\n",
    "\n",
    "\n",
    "- the use of the function `write()` for each line of text"
   ]
  },
  {
   "cell_type": "code",
   "execution_count": 51,
   "id": "fc687e5f",
   "metadata": {
    "id": "aXGxYrYBbpR0"
   },
   "outputs": [],
   "source": [
    "with open('stuff/output-test-1.txt', 'w', encoding='utf-8') as outfile:\n",
    "    \n",
    "    outfile.write(\"My name is:\")\n",
    "    outfile.write(\"John\")"
   ]
  },
  {
   "cell_type": "markdown",
   "id": "51ee13e2",
   "metadata": {
    "id": "RdVcXuISIZ7J"
   },
   "source": [
    "```{note}\n",
    "This code tries to write a file called \"output-test-1.txt\" to a directory called \"stuff\". If you do not have a directory called \"stuff\", it will give an error. Make a directory (folder) called \"stuff\" in your Colab file system or local file system in the same directory as the notebook, and try again.\n",
    "```"
   ]
  },
  {
   "cell_type": "markdown",
   "id": "566f386f",
   "metadata": {
    "id": "np9NpLqSbpR0"
   },
   "source": [
    "```{admonition} Tip\n",
    ":class: tip\n",
    "When writing line by line, it's up to you to take care of the **newlines** by appending `\\n` to each line.\n",
    "```"
   ]
  },
  {
   "cell_type": "code",
   "execution_count": 52,
   "id": "57195b6f",
   "metadata": {
    "id": "sU8KZqRJbpR0"
   },
   "outputs": [],
   "source": [
    "with open('stuff/output-test-2.txt', 'w', encoding='utf-8') as outfile:\n",
    "    \n",
    "    outfile.write(\"My name is:\\n\")\n",
    "    outfile.write(\"Alexander\")"
   ]
  },
  {
   "cell_type": "markdown",
   "id": "1a4d8ae2",
   "metadata": {
    "id": "A_68n9CHbpR0"
   },
   "source": [
    "We can inspect the file we just created with the command line. The following is not Python, but a basic command line tool to print the contents of a file. At least on Mac, Linux and Google Colab, this works. Otherwise, just navigate to the file and open it."
   ]
  },
  {
   "cell_type": "code",
   "execution_count": 53,
   "id": "6f088c22",
   "metadata": {
    "id": "f3HyUAyubpR0"
   },
   "outputs": [
    {
     "name": "stdout",
     "output_type": "stream",
     "text": [
      "My name is:\r\n",
      "Alexander"
     ]
    }
   ],
   "source": [
    "!cat stuff/output-test-2.txt"
   ]
  },
  {
   "cell_type": "markdown",
   "id": "8d98dba6",
   "metadata": {
    "id": "IvYyyijwbpR1"
   },
   "source": [
    "### Looping through folders and files\n",
    "\n",
    "We can use the `os` module to loop through a folder and load multiple files in memory."
   ]
  },
  {
   "cell_type": "code",
   "execution_count": 54,
   "id": "fa40cbc1",
   "metadata": {
    "id": "KrEs3kNdbpR1"
   },
   "outputs": [],
   "source": [
    "gutenberg_books = dict()\n",
    "\n",
    "for root, dirs, files in os.walk(\"data/gutenberg-extension\"):\n",
    "    for file in files:\n",
    "        \n",
    "        with open(os.path.join(root,file), encoding='utf-8') as infile:\n",
    "            gutenberg_books[file] = infile.read()"
   ]
  },
  {
   "cell_type": "code",
   "execution_count": 55,
   "id": "6473b207",
   "metadata": {
    "id": "vjRzvBCtbpR1"
   },
   "outputs": [
    {
     "data": {
      "text/plain": [
       "dict_keys(['austen-pride.txt', 'doyle-sherlock.txt', 'shelley-frankestein.txt', 'stoker-dracula.txt', 'joyce-dubliners.txt', 'README'])"
      ]
     },
     "execution_count": 55,
     "metadata": {},
     "output_type": "execute_result"
    }
   ],
   "source": [
    "gutenberg_books.keys()"
   ]
  },
  {
   "cell_type": "code",
   "execution_count": 56,
   "id": "1231fa32",
   "metadata": {
    "id": "u59RLGAebpR1"
   },
   "outputs": [
    {
     "name": "stdout",
     "output_type": "stream",
     "text": [
      "﻿[The Adventures of Sherlock Holmes by Arthur Conan Doyle]\n",
      "\n",
      "ADVENTURE I. A SCANDAL IN BOHEMIA\n",
      "\n",
      "I.\n",
      "\n",
      "To Sherlock Holmes she is always THE woman. I have seldom heard\n",
      "him mention her under any other name. In his eyes she eclipses\n",
      "and predominates the whole of her sex. It was not that he felt\n",
      "any emotion\n"
     ]
    }
   ],
   "source": [
    "print(gutenberg_books['doyle-sherlock.txt'][:300])"
   ]
  },
  {
   "cell_type": "markdown",
   "id": "cd572335",
   "metadata": {
    "id": "evlJQFJCJPfj"
   },
   "source": [
    "Again, this requires you to have the folder 'data/gutenberg-extension' from the repository in your file system. Have a look at the \"Files in Colab\" section if you are trying to do this on Colab."
   ]
  },
  {
   "cell_type": "markdown",
   "id": "b66bfb7d",
   "metadata": {
    "id": "fRzAWQQabpR1"
   },
   "source": [
    "---"
   ]
  },
  {
   "cell_type": "markdown",
   "id": "dc8d0321",
   "metadata": {
    "id": "nb6CksgtbpR1"
   },
   "source": [
    "# Exercises\n",
    "\n",
    "## Reading\n",
    "TBD\n",
    "\n",
    "## Tasks"
   ]
  },
  {
   "cell_type": "markdown",
   "id": "a0d8d9b5",
   "metadata": {
    "id": "6TcUHr8ibpR1"
   },
   "source": [
    "### Exercise 1.\n",
    "\n",
    "Find all words starting with a capital letter from the text in `text` below.\n",
    "\n",
    "Make a list of the most frequent words in this text, but without the words 'the' and 'a'."
   ]
  },
  {
   "cell_type": "code",
   "execution_count": 57,
   "id": "b14b4ed1",
   "metadata": {
    "id": "J1yr3i4KbpR1"
   },
   "outputs": [],
   "source": [
    "text = \"Right, okay, so right around 9:00 she's gonna get very angry with me. Silence Earthling. my name is Darth Vader. I'm am an extra-terrestrial from the planet Vulcan. That's for messing up my hair. Um, well it's a delorean, right? You're George McFly.\"\n",
    "\n",
    "# Your code here"
   ]
  },
  {
   "cell_type": "markdown",
   "id": "1e96f586",
   "metadata": {
    "id": "lSMATjLPbpR1"
   },
   "source": [
    "### Exercise 2 \n",
    "\n",
    "Write a function that:\n",
    "* Takes a string as input\n",
    "* Calculates the frequency of every token/word (separated by white space) in the string\n",
    "* Returns a dictionary of tokens as keys and their frequency in the text as values.\n",
    "* Implement an optional function parameter to make the function ignore capital letters\n",
    "\n",
    "You can use everything you think you need and that you've learnt so far. Test it on the `text` variable value from the previous cell."
   ]
  },
  {
   "cell_type": "code",
   "execution_count": 58,
   "id": "bd97aeee",
   "metadata": {
    "id": "e6B73KfEbpR2"
   },
   "outputs": [],
   "source": [
    "# Your code here"
   ]
  },
  {
   "cell_type": "markdown",
   "id": "ef9db80f",
   "metadata": {
    "id": "QNWL7eVtbpR2"
   },
   "source": [
    "### Exercise 3\n",
    "\n",
    "Adapt the function in the previous exercise so that it also ignores punctuation. \n",
    "\n",
    "```{admonition} My title\n",
    ":class: tip\n",
    "You can find all punctuation characters by calling:\n",
    "        \n",
    "```python\n",
    "import string\n",
    "print(string.punctuation)\n",
    "```\n",
    "\n",
    "```\n",
    "\n",
    "```{code-cell} ipython3\n",
    ":id: kraYtk2gbpR2\n",
    "\n",
    "# Your code here\n",
    "```"
   ]
  },
  {
   "cell_type": "markdown",
   "id": "da3134f6",
   "metadata": {
    "id": "wayILRb0bpR4"
   },
   "source": [
    "### Exercise 4\n",
    "Remember the quiz from the previous notebook with the following code:\n",
    "    \n",
    "```python\n",
    "homogeneous_list = [\"1\", \"56\", \"33\", \"8\", \"220\", \"9\"]\n",
    "homogeneous_list.sort()\n",
    "homogeneous_list\n",
    "```\n",
    "\n",
    "Try to fix this so that it sorts the list as if its elements were integers!\n",
    "\n",
    "Can you then do the same for this list, so that Elephant is after canary?\n",
    "\n",
    "```python\n",
    "homogeneous_list = [\"canary\", \"hippo\", \"kangaroo\", \"narwhal\", \"Elephant\", \"raccoon\", \"yak\", \"ant\"]\n",
    "homogeneous_list.sort()\n",
    "homogeneous_list\n",
    "```"
   ]
  },
  {
   "cell_type": "code",
   "execution_count": 59,
   "id": "7b5dbfc8",
   "metadata": {
    "id": "cLbfTPBJbpR5"
   },
   "outputs": [],
   "source": [
    "# Your code here"
   ]
  },
  {
   "cell_type": "markdown",
   "id": "ab5b85dd",
   "metadata": {
    "id": "5DXXl9YhbpR5"
   },
   "source": [
    "### Exercise 5\n",
    "\n",
    "The [factorial](https://en.wikipedia.org/wiki/Factorial) of an integer $n$, defined as:\n",
    "\n",
    "$$\n",
    "n! = \\begin{cases}\n",
    "               1               & n = 1\\\\\n",
    "               n * (n-1)! & \\text{n > 1}\n",
    "           \\end{cases}\n",
    "$$\n",
    "\n",
    "is the product of all positive integers less than or equal to $n$. For example:\n",
    "\n",
    "$$4! = 4 * 3 * 2 * 1$$\n",
    "\n",
    "$$3! = 3 * 2 * 1$$\n",
    "\n",
    "The factorial operation can be implemented in Python both as a recursive function and as an iterative functions. \n",
    "\n",
    "Write one factorial function picking the approach you prefer."
   ]
  },
  {
   "cell_type": "code",
   "execution_count": 60,
   "id": "19e3aa2f",
   "metadata": {
    "id": "zbd5DRz5bpR5"
   },
   "outputs": [],
   "source": [
    "# Your code here"
   ]
  },
  {
   "cell_type": "markdown",
   "id": "f68e5cdc",
   "metadata": {
    "id": "3zooGLGYbpR5"
   },
   "source": [
    "### Exercise 6\n",
    "\n",
    "Read the file `data/adams-hhgttg.txt` and:\n",
    "\n",
    "- Count the number of lines in the file\n",
    "\n",
    "- Count the number of non-empty lines\n",
    "\n",
    "- Read each line of the input file, remove its newline character and write it to file `stuff/adams-output.txt`\n",
    "\n",
    "- Compute the average number of alphanumeric characters per line\n",
    "\n",
    "- Identify all the unique words used in the text (no duplicates!) and write them in a text file called `stuff/lexicon.txt` (one word per line)"
   ]
  },
  {
   "cell_type": "code",
   "execution_count": 61,
   "id": "095d412c",
   "metadata": {
    "id": "69ATdAKWbpR5"
   },
   "outputs": [],
   "source": [
    "# your code here\n",
    "\n",
    "with open(\"stuff/lexicon.txt\", \"w\") as infile:\n",
    "    infile.write(\"something\")"
   ]
  },
  {
   "cell_type": "code",
   "execution_count": 62,
   "id": "8339e479",
   "metadata": {},
   "outputs": [],
   "source": [
    "# Your code here"
   ]
  },
  {
   "cell_type": "markdown",
   "id": "30bf60d7",
   "metadata": {
    "id": "FJIuAyjkbpR6"
   },
   "source": [
    "---"
   ]
  }
 ],
 "metadata": {
  "jupytext": {
   "text_representation": {
    "extension": ".md",
    "format_name": "myst",
    "format_version": 0.13,
    "jupytext_version": "1.11.5"
   }
  },
  "kernelspec": {
   "display_name": "Python 3 (ipykernel)",
   "language": "python",
   "name": "python3"
  },
  "language_info": {
   "codemirror_mode": {
    "name": "ipython",
    "version": 3
   },
   "file_extension": ".py",
   "mimetype": "text/x-python",
   "name": "python",
   "nbconvert_exporter": "python",
   "pygments_lexer": "ipython3",
   "version": "3.8.10"
  },
  "source_map": [
   14,
   20,
   24,
   32,
   42,
   47,
   68,
   76,
   101,
   107,
   133,
   137,
   149,
   156,
   189,
   198,
   210,
   222,
   232,
   243,
   252,
   256,
   268,
   279,
   288,
   294,
   300,
   309,
   328,
   345,
   349,
   360,
   364,
   373,
   383,
   393,
   397,
   410,
   423,
   438,
   453,
   457,
   465,
   469,
   476,
   488,
   497,
   505,
   511,
   524,
   533,
   539,
   554,
   563,
   571,
   577,
   584,
   588,
   598,
   617,
   627,
   631,
   647,
   651,
   658,
   666,
   670,
   676,
   680,
   686,
   692,
   696,
   711,
   715,
   721,
   739,
   746,
   753,
   759,
   775,
   781,
   785,
   791,
   797,
   805,
   811,
   815,
   825,
   842,
   846,
   854,
   868,
   872,
   879,
   886,
   890,
   898,
   902,
   912,
   916,
   922,
   934,
   953,
   959,
   977,
   984,
   988,
   1001,
   1016,
   1026,
   1032,
   1047,
   1061,
   1071,
   1075,
   1089,
   1097,
   1101,
   1112,
   1121,
   1127,
   1134,
   1143,
   1147,
   1153,
   1159,
   1171,
   1177,
   1183,
   1187,
   1191,
   1200,
   1208,
   1216,
   1228,
   1234,
   1257,
   1278,
   1284,
   1307,
   1313,
   1329,
   1338,
   1342
  ]
 },
 "nbformat": 4,
 "nbformat_minor": 5
}