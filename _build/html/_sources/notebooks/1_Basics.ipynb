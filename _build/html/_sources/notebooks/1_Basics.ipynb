{
 "cells": [
  {
   "cell_type": "markdown",
   "metadata": {
    "id": "X8NI2UYxmAxm"
   },
   "source": [
    "# Python basics 1\n",
    "\n",
    "This notebook contains the basics of Python. Use it as a reference whenever needed."
   ]
  },
  {
   "cell_type": "markdown",
   "metadata": {
    "id": "ptTHd2UqmAxo"
   },
   "source": [
    "### The Zen of Python\n",
    "\n",
    "The 20 principles that influences the design of Python. \n",
    "\n",
    "Written in the 1999, they have been included as the 20th entry of the Python Enhancement Proposals (a.k.a. [PEP 20](https://www.python.org/dev/peps/pep-0020/))."
   ]
  },
  {
   "cell_type": "code",
   "execution_count": null,
   "metadata": {
    "id": "EgKhcsNImAxq"
   },
   "outputs": [],
   "source": [
    "# easter egg\n",
    "import this"
   ]
  },
  {
   "cell_type": "markdown",
   "metadata": {
    "id": "K7yP9VRcmAxr"
   },
   "source": [
    "> *In December 1989, Van Rossum had been looking for a 'hobby' programming project that would keep him occupied during the week around Christmas\" as his office was closed when he decided to write an interpreter for a \"new scripting language he had been thinking about lately: a descendant of ABC that would appeal to Unix/C hackers\". He attributes choosing the name \"Python\" to \"being in a slightly irreverent mood (and a big fan of Monty Python's Flying Circus)\".* \n",
    "\n",
    "Taken from: https://en.wikipedia.org/wiki/Guido_van_Rossum"
   ]
  },
  {
   "cell_type": "markdown",
   "metadata": {
    "id": "JxsAcPsGmAxs"
   },
   "source": [
    "## Getting Started\n",
    "_See the previous [0. Hello World notebook](0_HelloWorld.ipynb) to check if your Python installation is up and running_\n",
    "\n",
    "The simplest way is to type commands directly in the **Interactive** IPython shell:"
   ]
  },
  {
   "cell_type": "code",
   "execution_count": null,
   "metadata": {
    "id": "YdFO7KTxmAxt"
   },
   "outputs": [],
   "source": [
    "print(\"Are we having fun yet?\")"
   ]
  },
  {
   "cell_type": "markdown",
   "metadata": {
    "id": "ZuIak2fwmQSP"
   },
   "source": [
    "If you are using **Google Colab**, you can bring up an interactive shell by using !bash and then asking it to run Python 3 (type python3 into the input field once bash loads, and then execute commands):"
   ]
  },
  {
   "cell_type": "code",
   "execution_count": null,
   "metadata": {
    "id": "0VVoKA3YmRda"
   },
   "outputs": [],
   "source": [
    "# !bash"
   ]
  },
  {
   "cell_type": "markdown",
   "metadata": {
    "id": "CIMcx-QHmans"
   },
   "source": [
    "This is great for testing purposes, or for exploratory analysis, but it is very inefficient if you want to reuse the same program multiple times. Instead, what you will do in this course is to write your instructions in a Jupyter Notebook, in which you can also explain your code to the reader using text blocks, and which can be loaded by Google Colab or Jupyter Notebook in Anaconda."
   ]
  },
  {
   "cell_type": "markdown",
   "metadata": {
    "id": "BZxSNCNtmAxt"
   },
   "source": [
    "The basic interface of Jupyter notebooks:"
   ]
  },
  {
   "cell_type": "markdown",
   "metadata": {
    "id": "wY7z_gBUmAxu"
   },
   "source": [
    "![alt text](https://github.com/bloemj/2022-coding-the-humanities/blob/master/notebooks/images/notebook-ui.png?raw=1)"
   ]
  },
  {
   "cell_type": "markdown",
   "metadata": {
    "id": "dnEQeu_9mAxu"
   },
   "source": [
    "Hint: Save your work periodically! All your unsaved code is lost when your browser with Google Colab or your Python interpretor crashes/stalls!"
   ]
  },
  {
   "cell_type": "markdown",
   "metadata": {
    "id": "IVFjzAAimAxw"
   },
   "source": [
    "## Variables\n",
    "\n",
    "Variables are reserved **memory locations** used by a computer program.\n",
    "\n",
    "Each variable is associated with an **identifier** (i.e. a name). Python restricts the naming possibilities of a variable:\n",
    "\n",
    "- identifier characters may be letters, digits or underscores...\n",
    "\n",
    "- ... but the first character cannot be a number\n",
    "\n",
    "- Python keywords (= words that have a special function/meaning in the Python language) cannot be used as identifiers"
   ]
  },
  {
   "cell_type": "markdown",
   "metadata": {
    "id": "qcOmr7rvmAxx"
   },
   "source": [
    "A list of these special keywords can be retrieved by importing the `keywords` module and by printing the `kwlist` attribute. "
   ]
  },
  {
   "cell_type": "code",
   "execution_count": null,
   "metadata": {
    "id": "7zlxy3mHmAxy"
   },
   "outputs": [],
   "source": [
    "# list of Python keywords\n",
    "import keyword\n",
    "print(keyword.kwlist)"
   ]
  },
  {
   "cell_type": "markdown",
   "metadata": {
    "id": "KDRLgtr7mAxz"
   },
   "source": [
    "We're not going to use all these keywords in the code we're writing for this course. You'll get to know the most imortant ones soon enough. Luckily, Jupyter provides some syntax highlighting to let you know that you're typing a Python keyword, and to make you code easier to grasp.\n",
    "\n",
    "If you use one of these keywords as the name for a variable, the Python interpreter, which checks and compiles your code so that the computer can run it, will raise an error. "
   ]
  },
  {
   "cell_type": "code",
   "execution_count": null,
   "metadata": {
    "id": "OOy_sqxKmAxz"
   },
   "outputs": [],
   "source": [
    "# Nope.\n",
    "None = 10"
   ]
  },
  {
   "cell_type": "code",
   "execution_count": null,
   "metadata": {
    "id": "CeYIyT5vmAx0"
   },
   "outputs": [],
   "source": [
    "# This syntax is NOT valid\n",
    "pass = True"
   ]
  },
  {
   "cell_type": "markdown",
   "metadata": {
    "id": "QiRXsrhQmAx0"
   },
   "source": [
    "Warning! The Python interpreter does not always return such an error. It is possible to declare variables with names such as `list` or `id`, even though these are built-in functions of Python. This probably gives unwanted results in the rest of your code. Avoid _hijacking_ them! "
   ]
  },
  {
   "cell_type": "code",
   "execution_count": null,
   "metadata": {
    "id": "vUHU0-d9mAx1"
   },
   "outputs": [],
   "source": [
    "# Valid!\n",
    "oceans11 = \"https://www.imdb.com/title/tt0240772/\""
   ]
  },
  {
   "cell_type": "code",
   "execution_count": null,
   "metadata": {
    "id": "5NG9MpHymAx1"
   },
   "outputs": [],
   "source": [
    "# Not valid\n",
    "101dalmatians = \"https://www.imdb.com/title/tt0115433/\""
   ]
  },
  {
   "cell_type": "code",
   "execution_count": null,
   "metadata": {
    "id": "KwEkFbSCmAx2"
   },
   "outputs": [],
   "source": [
    "# Valid\n",
    "hundred_and_one_dalmatians = \"https://www.imdb.com/title/tt0115433/\""
   ]
  },
  {
   "cell_type": "markdown",
   "metadata": {
    "id": "2zXmXJjJmAx2"
   },
   "source": [
    "Keep in mind that all code you write is case sensitive. Although the following is allowed,\n",
    "\n",
    "```\n",
    "# Very bad coding example\n",
    "true = False  # the keyword True has a capital letter\n",
    "```\n",
    "\n",
    "it is better to stay away from naming your variables this way! What counts is that you give the variable a name that makes sense. But, make sure that they start with a lowercase letter! (= naming convention)"
   ]
  },
  {
   "cell_type": "markdown",
   "metadata": {
    "id": "Pbuw6-3fmAx2"
   },
   "source": [
    "### Declaring variables\n",
    "\n",
    "Python does not require variables to be declared explicitly, unlike what is common in some other programming languages. In Python, variables are created when you first assign a value to them and you can declare them on the go and where needed.\n",
    "\n",
    "The symbol `=` is used to assign values to variables. "
   ]
  },
  {
   "cell_type": "code",
   "execution_count": null,
   "metadata": {
    "id": "HstJJsPamAx3"
   },
   "outputs": [],
   "source": [
    "# Let's associate the value 55 to the variable named \"lucky_number\"\n",
    "lucky_number = 55"
   ]
  },
  {
   "cell_type": "code",
   "execution_count": null,
   "metadata": {
    "id": "_eYFc0G3mAx3"
   },
   "outputs": [],
   "source": [
    "lucky_number"
   ]
  },
  {
   "cell_type": "markdown",
   "metadata": {
    "id": "vriubYbimAx4"
   },
   "source": [
    "This variable is now declared and has been assigned the number 55. When you run the cell in this notebook, the variable is kept in the notebook's memory. This means that we can call it in other cells we run _after_ the cell in which we declared the variable. "
   ]
  },
  {
   "cell_type": "markdown",
   "metadata": {
    "id": "NcX--6p6mAx4"
   },
   "source": [
    "One of the built-in functions of Python is the `type()` function, by which you can inspect the type of value that is assigned to the variable. You can use this function on any Python 'object'. "
   ]
  },
  {
   "cell_type": "code",
   "execution_count": null,
   "metadata": {
    "id": "Pd3xBsXzmAx4"
   },
   "outputs": [],
   "source": [
    "# The type of value of the variable can be inspected with the function type()\n",
    "type(lucky_number)"
   ]
  },
  {
   "cell_type": "markdown",
   "metadata": {
    "id": "eo7LK8rimAx4"
   },
   "source": [
    "### Changing variables\n",
    "You can change the value that is assigned to a variable. In Python, this is NOT restricted to a change within the same datatype. "
   ]
  },
  {
   "cell_type": "code",
   "execution_count": null,
   "metadata": {
    "id": "Xekp7V9GmAx4"
   },
   "outputs": [],
   "source": [
    "# Let's print the initial value of the variable and its type\n",
    "print(lucky_number, type(lucky_number))\n",
    "\n",
    "# Now convert our numerical variable into a digit (i.e. into text)\n",
    "lucky_number = str(lucky_number)\n",
    "\n",
    "# Do the same printing\n",
    "print(lucky_number, type(lucky_number))\n"
   ]
  },
  {
   "cell_type": "code",
   "execution_count": null,
   "metadata": {
    "id": "vm4AOh_FmAx5"
   },
   "outputs": [],
   "source": [
    "lucky_number"
   ]
  },
  {
   "cell_type": "markdown",
   "metadata": {
    "id": "Yp9ZHJXamAx5"
   },
   "source": [
    "As you saw above, converting any datatype to a text (=string) can be done using the `str()` function. This is for instance usefull if you want to dynamically format the messages that are printed. "
   ]
  },
  {
   "cell_type": "code",
   "execution_count": null,
   "metadata": {
    "id": "0nBI5XG6mAx5"
   },
   "outputs": [],
   "source": [
    "message = \"My lucky number is \" + lucky_number  # this only works if lucky_number is of type str()\n",
    "print(message)"
   ]
  },
  {
   "cell_type": "code",
   "execution_count": null,
   "metadata": {
    "id": "827G0uZmmAx5"
   },
   "outputs": [],
   "source": [
    "unlucky_number = 13\n",
    "message = \"My unlucky number is \" + unlucky_number  # what is the datatype of unlucky_number?\n",
    "print(message)"
   ]
  },
  {
   "cell_type": "markdown",
   "metadata": {
    "id": "KtfFGIadmAx7"
   },
   "source": [
    "How can the error above be fixed?"
   ]
  },
  {
   "cell_type": "markdown",
   "metadata": {
    "id": "E3AhPD8amAx7"
   },
   "source": [
    "---"
   ]
  },
  {
   "cell_type": "markdown",
   "metadata": {
    "collapsed": true,
    "id": "k7nyhryYmAx7"
   },
   "source": [
    "## Built-in data types\n",
    "\n",
    "Python natively supports the following basic types:\n",
    "\n",
    "- **Boolean**: *bool*\n",
    "\n",
    "- **None**: *NoneType*\n",
    "\n",
    "- **Numerical**: *int*, *float*, *long*, *complex*\n",
    "\n",
    "- **Sequence**: *string*, *list*, *tuple*\n",
    "\n",
    "- **Set**: *set*, *frozenset*\n",
    "\n",
    "- **Dictionaries**\n"
   ]
  },
  {
   "cell_type": "markdown",
   "metadata": {
    "id": "HkkC6WNsmAx7"
   },
   "source": [
    "#### Mutable vs. Immutable objects\n",
    "\n",
    "Python data types can be organized by distinguishing those types whose objects can change after their creation (**Mutable**) and those that do not admit such possibility (**Immutable**). If a variable is of a mutable datatype, you can _overwrite_ its value, instead of creating a new object. Assigning a new value to an existing variable is always possible. \n",
    "\n",
    "| Immutables|   Mutables|\n",
    "|:---------:|:---------:|\n",
    "|  Numerical|          -|\n",
    "|     String|          -|\n",
    "|      Tuple|       List|\n",
    "|  Frozenset|        Set|\n",
    "|          -| Dictionary|\n"
   ]
  },
  {
   "cell_type": "markdown",
   "metadata": {
    "id": "MInY1pyomAx7"
   },
   "source": [
    "### NoneType\n",
    "\n",
    "It has one sole value: `None`. It is used to represent the absence of a value.\n"
   ]
  },
  {
   "cell_type": "markdown",
   "metadata": {
    "id": "ZhQswr1NmAx8"
   },
   "source": [
    "### bool\n",
    "\n",
    "Boolean logical values, can be `True` or `False`.\n",
    "\n",
    "To be used to represent the truth or falsity of some condition."
   ]
  },
  {
   "cell_type": "markdown",
   "metadata": {
    "id": "KrvKab04mAx8"
   },
   "source": [
    "#### Boolean Operators\n",
    "\n",
    "- **and**: conjunction\n",
    "- **or**: inclusive disjunction\n",
    "- **not**: negation"
   ]
  },
  {
   "cell_type": "code",
   "execution_count": null,
   "metadata": {
    "id": "RgvO2P5DmAx8"
   },
   "outputs": [],
   "source": [
    "True and False or True"
   ]
  },
  {
   "cell_type": "code",
   "execution_count": null,
   "metadata": {
    "id": "L4HP6n01mAx8"
   },
   "outputs": [],
   "source": [
    "not True == False"
   ]
  },
  {
   "cell_type": "code",
   "execution_count": null,
   "metadata": {
    "id": "v3rxqdH4mAx9"
   },
   "outputs": [],
   "source": [
    "# Why does this give an error?\n",
    "True == not False"
   ]
  },
  {
   "cell_type": "code",
   "execution_count": null,
   "metadata": {
    "id": "dQEQea5VmAx9"
   },
   "outputs": [],
   "source": [
    "True == (not False)"
   ]
  },
  {
   "cell_type": "markdown",
   "metadata": {
    "id": "QJfCmr0imAx9"
   },
   "source": [
    "### Numerical Types\n",
    "\n",
    "- **int**: integers, e.g. `42`\n",
    "- **long**: long integers of non-limited length, e.g. `15L`\n",
    "- **float**: floating-point numbers, e.g. `8.75638`\n",
    "- **complex**: complex numbers, e.g. `1.23+4.56j`\n",
    "\n",
    "Most likely, the only two datatypes you'll be using are integer (`int()`) and float (`float()`).\n",
    "\n"
   ]
  },
  {
   "cell_type": "markdown",
   "metadata": {
    "id": "j7SHu6NNmAx9"
   },
   "source": [
    "#### Using Python as a Calculator\n",
    "\n",
    "The simplest way to perform calculations with Python is by using the interactive shell as a fancy calculator. \n",
    "\n",
    "Some of the operations supported by all the numeric types are:"
   ]
  },
  {
   "cell_type": "code",
   "execution_count": null,
   "metadata": {
    "id": "gMMNfzMhmAx-"
   },
   "outputs": [],
   "source": [
    "# addition\n",
    "3 + 5"
   ]
  },
  {
   "cell_type": "code",
   "execution_count": null,
   "metadata": {
    "id": "bYJcbGoomAx-"
   },
   "outputs": [],
   "source": [
    "# difference\n",
    "9 - 5"
   ]
  },
  {
   "cell_type": "code",
   "execution_count": null,
   "metadata": {
    "id": "6I7SRNHHmAx-"
   },
   "outputs": [],
   "source": [
    "# product\n",
    "9 * 50"
   ]
  },
  {
   "cell_type": "code",
   "execution_count": null,
   "metadata": {
    "id": "8BATUPmTmAx-"
   },
   "outputs": [],
   "source": [
    "# quotient\n",
    "9 / 2"
   ]
  },
  {
   "cell_type": "code",
   "execution_count": null,
   "metadata": {
    "id": "vxUBiLgvmAx_"
   },
   "outputs": [],
   "source": [
    "# Floor division\n",
    "9 // 2"
   ]
  },
  {
   "cell_type": "code",
   "execution_count": null,
   "metadata": {
    "id": "k1FBwTUrmAyA"
   },
   "outputs": [],
   "source": [
    "# The remainder of the floored quotient\n",
    "9 % 2"
   ]
  },
  {
   "cell_type": "markdown",
   "metadata": {
    "id": "lrfvNMITmAyA"
   },
   "source": [
    "You can combine the floor division and the remainder by using the built-in function `divmod()` ([manual](https://docs.python.org/3.8/library/functions.html#divmod))"
   ]
  },
  {
   "cell_type": "code",
   "execution_count": null,
   "metadata": {
    "id": "1OEsdXnSmAyA"
   },
   "outputs": [],
   "source": [
    "divmod(9,2)"
   ]
  },
  {
   "cell_type": "code",
   "execution_count": null,
   "metadata": {
    "id": "tO9O0Xa4mAyB"
   },
   "outputs": [],
   "source": [
    "# x to the power of y\n",
    "3 ** 2"
   ]
  },
  {
   "cell_type": "markdown",
   "metadata": {
    "id": "Wd9KcfeamAyB"
   },
   "source": [
    "Alternatively, use the built-in function `pow()` ([manual](https://docs.python.org/3.8/library/functions.html#pow))"
   ]
  },
  {
   "cell_type": "code",
   "execution_count": null,
   "metadata": {
    "id": "9zMIXug6mAyC"
   },
   "outputs": [],
   "source": [
    "pow(3, 2)"
   ]
  },
  {
   "cell_type": "code",
   "execution_count": null,
   "metadata": {
    "id": "HHYV_MUomAyC"
   },
   "outputs": [],
   "source": [
    "# Round a number to a given precision in decimal digits (default 0 digits)\n",
    "round(1.765432, 2)"
   ]
  },
  {
   "cell_type": "markdown",
   "metadata": {
    "id": "DhTlM6CUmAyD"
   },
   "source": [
    "---"
   ]
  },
  {
   "cell_type": "markdown",
   "metadata": {
    "id": "GUCH2yFpmAyD"
   },
   "source": [
    "### Quiz\n",
    "\n",
    "Calculate the number of seconds we're going to spend in this classroom together."
   ]
  },
  {
   "cell_type": "code",
   "execution_count": null,
   "metadata": {
    "id": "YznnllDzmAyD"
   },
   "outputs": [],
   "source": [
    "# your code here\n"
   ]
  },
  {
   "cell_type": "markdown",
   "metadata": {
    "id": "2SxlzhghmAyD"
   },
   "source": [
    "---"
   ]
  },
  {
   "cell_type": "markdown",
   "metadata": {
    "id": "OdGDe0KbmAyE"
   },
   "source": [
    "## Changing variables\n",
    "While the previous operators produce new variables, the following perform the operation **in-place**. \n",
    "\n",
    "That is, the variable itself is changed in the result of the process."
   ]
  },
  {
   "cell_type": "code",
   "execution_count": null,
   "metadata": {
    "id": "cMPYHxWlmAyE"
   },
   "outputs": [],
   "source": [
    "# Our variable\n",
    "magic_number = 8\n",
    "magic_number"
   ]
  },
  {
   "cell_type": "code",
   "execution_count": null,
   "metadata": {
    "id": "h94rfMISmAyE"
   },
   "outputs": [],
   "source": [
    "# In place addition\n",
    "magic_number += 3\n",
    "magic_number"
   ]
  },
  {
   "cell_type": "code",
   "execution_count": null,
   "metadata": {
    "id": "SdRh9HVPmAyF"
   },
   "outputs": [],
   "source": [
    "# Is the same as\n",
    "# In place addition\n",
    "magic_number = magic_number + 3\n",
    "magic_number"
   ]
  },
  {
   "cell_type": "code",
   "execution_count": null,
   "metadata": {
    "id": "m_tcBfN-mAyF"
   },
   "outputs": [],
   "source": [
    "# In place subtraction\n",
    "magic_number -= 3\n",
    "magic_number"
   ]
  },
  {
   "cell_type": "code",
   "execution_count": null,
   "metadata": {
    "id": "xDjozll6mAyF"
   },
   "outputs": [],
   "source": [
    "# In place multiplication\n",
    "magic_number *= 3\n",
    "magic_number"
   ]
  },
  {
   "cell_type": "code",
   "execution_count": null,
   "metadata": {
    "id": "xoG69qPImAyG"
   },
   "outputs": [],
   "source": [
    "# In place division. What's the datatype after this operation?\n",
    "magic_number /= 3\n",
    "magic_number"
   ]
  },
  {
   "cell_type": "code",
   "execution_count": null,
   "metadata": {
    "id": "qGhhbpoTmAyG"
   },
   "outputs": [],
   "source": [
    "# In place modulus\n",
    "magic_number %= 3\n",
    "magic_number"
   ]
  },
  {
   "cell_type": "markdown",
   "metadata": {
    "id": "eY8vfIm-mAyG"
   },
   "source": [
    "### Relational Operators\n",
    "\n",
    "Comparisons are supported by all objects. The main comparison operators are:\n",
    "\n",
    "|   Operator|                Semantics|\n",
    "|:---------:|:-----------------------:|\n",
    "|         ==|                    equal|\n",
    "|         !=|                not equal|\n",
    "|          <|                less-than|\n",
    "|         <=|    less-than or equal to|\n",
    "|          >|             greater-then|\n",
    "|         >=| greater-then or equal to|\n",
    "|         is| object identity|\n",
    "|         is not| negated object identity|\n",
    "\n",
    "Relational operators are used to **test conditions**, and the output is a boolean value"
   ]
  },
  {
   "cell_type": "code",
   "execution_count": null,
   "metadata": {
    "id": "NRWeAtvRmAyG"
   },
   "outputs": [],
   "source": [
    "# Is 7 bigger than 9?\n",
    "7 > 9"
   ]
  },
  {
   "cell_type": "code",
   "execution_count": null,
   "metadata": {
    "id": "P55BfwjOmAyH"
   },
   "outputs": [],
   "source": [
    "# Is 10 smaller than or equal to 10?\n",
    "10 <= 10"
   ]
  },
  {
   "cell_type": "code",
   "execution_count": null,
   "metadata": {
    "id": "9STDLb1LmAyH"
   },
   "outputs": [],
   "source": [
    "10 != \"10\""
   ]
  },
  {
   "cell_type": "markdown",
   "metadata": {
    "id": "y264OyLomAyH"
   },
   "source": [
    "NOTE: `is` checks if two things **are the same object, and have the same identity in memory**, not just if they are equal"
   ]
  },
  {
   "cell_type": "code",
   "execution_count": null,
   "metadata": {
    "id": "l-Dj5xBRmAyH"
   },
   "outputs": [],
   "source": [
    "# The value 0 (of any numerical type) is considered to be False, but 0 is not False\n",
    "print(False == 0)\n",
    "print(False is 0)"
   ]
  },
  {
   "cell_type": "code",
   "execution_count": null,
   "metadata": {
    "id": "0M0LckUPmAyI"
   },
   "outputs": [],
   "source": [
    "print(True == 1)\n",
    "print(True is 1)"
   ]
  },
  {
   "cell_type": "code",
   "execution_count": null,
   "metadata": {
    "id": "PblcQSVjmAyI"
   },
   "outputs": [],
   "source": [
    "unassigned = None\n",
    "print(unassigned is None)"
   ]
  },
  {
   "cell_type": "code",
   "execution_count": null,
   "metadata": {
    "id": "zQRbeEDCmAyI"
   },
   "outputs": [],
   "source": [
    "assigned = 0\n",
    "print(assigned == False)\n",
    "print(assigned is False)"
   ]
  },
  {
   "cell_type": "markdown",
   "metadata": {
    "id": "wIFEfhP9mAyJ"
   },
   "source": [
    "### Quiz\n",
    "\n",
    "When to use the `is` statement? And how does it differ from `==`? Can you illustrate this with an example? How is this related to Python's memory management?\n",
    "\n",
    "Hint: More info on the `id()` function in this ([thread](https://stackoverflow.com/questions/132988/is-there-a-difference-between-and-is))"
   ]
  },
  {
   "cell_type": "code",
   "execution_count": null,
   "metadata": {
    "id": "8CSR-W6zmAyJ"
   },
   "outputs": [],
   "source": [
    "# Test this out. When is the identity of an object changed?\n",
    "# "
   ]
  },
  {
   "cell_type": "markdown",
   "metadata": {
    "id": "E6osLX-MmAyJ"
   },
   "source": [
    "---"
   ]
  },
  {
   "cell_type": "markdown",
   "metadata": {
    "id": "bbse84_WmAyJ"
   },
   "source": [
    "## Iterables / sequences\n",
    "\n",
    "We will focus on three types of sequences: **strings**, **lists** and **tuples** (see the [documentation](https://docs.python.org/3.8/library/stdtypes.html#sequence-types-list-tuple-range) for the full list). \n",
    "\n",
    "Most sequence types support the following operations (where `s` and `t` are sequences, `n`, `i` and `j` integers):\n",
    "\n",
    "|   Operation|                Result|\n",
    "|:----------:|:-----------------------:|\n",
    "|      x in s|  True if an item of s is equal to x|\n",
    "|  x not in s|  False if an item of s is equal to x|\n",
    "|       s + t| Concatenation of s and t|\n",
    "|       s * n|   add s to itself n times (negative n are treated as 0)|\n",
    "|        s\\[i\\]|\tith item of s, origin 0|\n",
    "|      s\\[i:j\\]|   slice of s from i to j|\n",
    "|    s\\[i:j:k\\]| slice of s from i to j with step k|\n",
    "|      len(s)| length of s|\t \n",
    "|      min(s)| smallest item of s|\n",
    "|      max(s)| largest item of s|\n",
    "|  s.index(x)| index of the first occurrence of x in s |\n",
    "|  s.count(x)| total number of occurrences of x in s|"
   ]
  },
  {
   "cell_type": "markdown",
   "metadata": {
    "id": "WzTk_X4rmAyK"
   },
   "source": [
    "### Lists\n",
    "\n",
    "\n",
    "Lists are **ordered** **mutable** sequences of **heterogeneous** elements.\n",
    "\n",
    "In the Python language, lists are defined by square brackets `[]` and their elements are separated by commas."
   ]
  },
  {
   "cell_type": "code",
   "execution_count": null,
   "metadata": {
    "id": "OPHL6EKnmAyK"
   },
   "outputs": [],
   "source": [
    "# Lists can contain different types of objects,\n",
    "# even another list like [1,2,3]\n",
    "\n",
    "demo_list = [\"text\", \"text\", \"text\", 23, \"42\", 92, 'another text', [1,2,3]]\n",
    "\n",
    "print(demo_list)"
   ]
  },
  {
   "cell_type": "code",
   "execution_count": null,
   "metadata": {
    "id": "hl692GQRmAyK"
   },
   "outputs": [],
   "source": [
    "# The len() function returns the length of the list\n",
    "len(demo_list)"
   ]
  },
  {
   "cell_type": "code",
   "execution_count": null,
   "metadata": {
    "id": "Vy9eKYEvmAyK"
   },
   "outputs": [],
   "source": [
    "# Membership verification (return a boolean value)\n",
    "\"text\" in demo_list"
   ]
  },
  {
   "cell_type": "code",
   "execution_count": null,
   "metadata": {
    "id": "6uHL_NC0mAyL"
   },
   "outputs": [],
   "source": [
    "# Count the number of occurences of an element in the list\n",
    "demo_list.count(\"text\")"
   ]
  },
  {
   "cell_type": "code",
   "execution_count": null,
   "metadata": {
    "id": "Jh8SxO7FmAyL"
   },
   "outputs": [],
   "source": [
    "42 in demo_list  # Why?"
   ]
  },
  {
   "cell_type": "code",
   "execution_count": null,
   "metadata": {
    "id": "61GQp85AmAyL"
   },
   "outputs": [],
   "source": []
  },
  {
   "cell_type": "markdown",
   "metadata": {
    "id": "ZyCfKFIFmAyM"
   },
   "source": [
    "#### Strings"
   ]
  },
  {
   "cell_type": "markdown",
   "metadata": {
    "id": "2FlXMgW_mAyM"
   },
   "source": [
    "In some ways, string behave the same as lists. For instance, you can check the length of a string, or check if a character sequence is part of a string:"
   ]
  },
  {
   "cell_type": "code",
   "execution_count": null,
   "metadata": {
    "id": "4nqfjwbvmAyM"
   },
   "outputs": [],
   "source": [
    "demo_text = \"Coding the Humanities\"\n",
    "\n",
    "print(\"The length of the text is:\", len(demo_text))"
   ]
  },
  {
   "cell_type": "code",
   "execution_count": null,
   "metadata": {
    "id": "__LMq0LTmAyM"
   },
   "outputs": [],
   "source": [
    "print(\"The word 'the' is in the string:\", \"the\" in demo_text)"
   ]
  },
  {
   "cell_type": "markdown",
   "metadata": {
    "id": "IhgK3tGHmAyM"
   },
   "source": [
    "#### List concatenation"
   ]
  },
  {
   "cell_type": "code",
   "execution_count": null,
   "metadata": {
    "id": "coeup2rxmAyM"
   },
   "outputs": [],
   "source": [
    "# Concatenation\n",
    "new_demo_list = [\"Example\", \"concatenation\"]\n",
    "\n",
    "new_demo_list += demo_list\n",
    "new_demo_list"
   ]
  },
  {
   "cell_type": "code",
   "execution_count": null,
   "metadata": {
    "id": "JHIqHmhAmAyN"
   },
   "outputs": [],
   "source": [
    "# Repetition\n",
    "new_demo_list = demo_list * 3\n",
    "new_demo_list"
   ]
  },
  {
   "cell_type": "markdown",
   "metadata": {
    "id": "Jz9IMwYXmAyN"
   },
   "source": [
    "#### Lists are ordered"
   ]
  },
  {
   "cell_type": "code",
   "execution_count": null,
   "metadata": {
    "id": "-7xaQAElmAyO"
   },
   "outputs": [],
   "source": [
    "# Lists are ordered, elements can be recalled by using their index\n",
    "# Remember that the index of the first element is 0\n",
    "\n",
    "demo_list[0]"
   ]
  },
  {
   "cell_type": "code",
   "execution_count": null,
   "metadata": {
    "id": "BanYs00ZmAyP"
   },
   "outputs": [],
   "source": [
    "# The index \"-1\" is associated with the last element\n",
    "\n",
    "demo_list[-1]  # As you can see when inspecting the original demo_list, there is a list in a list"
   ]
  },
  {
   "cell_type": "code",
   "execution_count": null,
   "metadata": {
    "id": "NcD0AMSRmAyP"
   },
   "outputs": [],
   "source": [
    "# Check the position of the element \"23\"\n",
    "\n",
    "demo_list.index(23)  # Is this the third or the fourth element?"
   ]
  },
  {
   "cell_type": "markdown",
   "metadata": {
    "id": "0r9LpggwmAyQ"
   },
   "source": [
    "### Quiz"
   ]
  },
  {
   "cell_type": "code",
   "execution_count": null,
   "metadata": {
    "id": "YeKmFSfemAyR"
   },
   "outputs": [],
   "source": [
    "# Make one list out of these two lists:\n",
    "\n",
    "first_list = [1, 2, 3, 4, 5]\n",
    "second_list = [\"One\", \"Two\", \"Three\", \"Four\", \"Five\"]\n",
    "\n",
    "# Your code here\n",
    "# all_elements =\n",
    "\n",
    "# What is the position of element \"Four\" in the new list?\n",
    "#\n",
    "\n",
    "# How many elements does this new list contain? Hint: use len(all_elements). "
   ]
  },
  {
   "cell_type": "code",
   "execution_count": null,
   "metadata": {
    "id": "GvIANk4WmAyR"
   },
   "outputs": [],
   "source": [
    "# This also works for strings (e.g. emojis). Print 200 ants in one paragraph:\n",
    "\n",
    "text = \"🐜\"\n",
    "# paragraph = \n",
    "# print(paragraph)  # TODO: Make it print 200 instead of one\n",
    "\n",
    "# Fill in (and uncomment) by using the .count() method on a string\n",
    "# antcount = \n",
    "# print(\"There are\" + str(antcount) + \"printed here\")"
   ]
  },
  {
   "cell_type": "markdown",
   "metadata": {
    "id": "WTTCR9IBmAyR"
   },
   "source": [
    "---"
   ]
  },
  {
   "cell_type": "markdown",
   "metadata": {
    "id": "b3jv3Jp5mAyS"
   },
   "source": [
    "#### Slicing\n",
    "\n",
    "\n",
    "Slicing is a **computationally fast** way to extract a portion of a sequence in order to create a new sequence. \n",
    "\n",
    "Slicing Notation works in the following way:\n",
    "\n",
    "\n",
    "```\n",
    "sequence[start:stop:step]\n",
    "```"
   ]
  },
  {
   "cell_type": "markdown",
   "metadata": {
    "id": "M7h--pdemAyS"
   },
   "source": [
    "##### Slicing rules\n",
    "\n",
    "- The slice of the sequence `s` from `start` to `stop` is defined as the sequence of items with index `k` such that `start` <= `k` < `stop`. \n",
    "\n",
    "\n",
    "- If `start` or `stop` is greater than len(`s`), use len(`s`). \n",
    "\n",
    "\n",
    "- If `start` is omitted or `None`, use 0. \n",
    "\n",
    "\n",
    "- If `stop` is omitted or `None`, use len(`s`). \n",
    "\n",
    "\n",
    "- If `start` or `stop` is negative, the index is relative to the end of sequence."
   ]
  },
  {
   "cell_type": "markdown",
   "metadata": {
    "id": "ELFBXE9BmAyS"
   },
   "source": [
    "![alt text](https://github.com/bloemj/2022-coding-the-humanities/blob/master/notebooks/images/list-slicing.png?raw=1)"
   ]
  },
  {
   "cell_type": "code",
   "execution_count": null,
   "metadata": {
    "id": "04u2-bChmAyT"
   },
   "outputs": [],
   "source": [
    "print(demo_list)"
   ]
  },
  {
   "cell_type": "code",
   "execution_count": null,
   "metadata": {
    "id": "EGqXF1smmAyT"
   },
   "outputs": [],
   "source": [
    "# Slicing with positive indices \n",
    "demo_list[3:5]"
   ]
  },
  {
   "cell_type": "code",
   "execution_count": null,
   "metadata": {
    "id": "u35EMz_tmAyT"
   },
   "outputs": [],
   "source": [
    "# Slicing works with negative indices as well \n",
    "demo_list[-3:-1]"
   ]
  },
  {
   "cell_type": "code",
   "execution_count": null,
   "metadata": {
    "id": "CxGDcU82mAyU"
   },
   "outputs": [],
   "source": [
    "# Slicing works with a mixture of positive and negative indices\n",
    "demo_list[1:-2]"
   ]
  },
  {
   "cell_type": "code",
   "execution_count": null,
   "metadata": {
    "id": "0-1j3oUymAyU"
   },
   "outputs": [],
   "source": [
    "# If an index is omitted, Python reaches the first or the last element of the list\n",
    "demo_list[2:]"
   ]
  },
  {
   "cell_type": "code",
   "execution_count": null,
   "metadata": {
    "id": "mAUWpnIDmAyU"
   },
   "outputs": [],
   "source": [
    "# The same as above, with the first index omitted\n",
    "demo_list[:3]"
   ]
  },
  {
   "cell_type": "code",
   "execution_count": null,
   "metadata": {
    "id": "VFNFjCRGmAyV"
   },
   "outputs": [],
   "source": [
    "# Slicing with steps\n",
    "demo_list[1::2]"
   ]
  },
  {
   "cell_type": "markdown",
   "metadata": {
    "id": "_sC6jmgFmAyV"
   },
   "source": [
    "---"
   ]
  },
  {
   "cell_type": "markdown",
   "metadata": {
    "id": "ur-eM7jbmAyV"
   },
   "source": [
    "### Quiz\n",
    "\n",
    "The following code creates a list whose length is a-priori unknown. Extract:\n",
    "\n",
    "    1. the last element of the list by using a positive index\n",
    "    2. the first element of the list by using a negative index\n",
    "    3. a new list of every element on an even index\n",
    "    4. this list reversed"
   ]
  },
  {
   "cell_type": "code",
   "execution_count": null,
   "metadata": {
    "id": "278eQ4xamAyV"
   },
   "outputs": [],
   "source": [
    "import random  # built-in package\n",
    "\n",
    "random_number_list = []\n",
    "for i in range(10):\n",
    "    random_number = random.randint(1, 99)\n",
    "    random_number_list.append(random_number)\n",
    "\n",
    "random_number_list\n"
   ]
  },
  {
   "cell_type": "code",
   "execution_count": null,
   "metadata": {
    "id": "EaL9dMz7mAyW"
   },
   "outputs": [],
   "source": [
    "# Your code here for 1.\n"
   ]
  },
  {
   "cell_type": "code",
   "execution_count": null,
   "metadata": {
    "id": "nxw_YyPNmAyW"
   },
   "outputs": [],
   "source": [
    "# Your code here for 2.\n"
   ]
  },
  {
   "cell_type": "code",
   "execution_count": null,
   "metadata": {
    "id": "R2GFp-n6mAyX"
   },
   "outputs": [],
   "source": [
    "# Your code here for 3.\n"
   ]
  },
  {
   "cell_type": "code",
   "execution_count": null,
   "metadata": {
    "id": "2fmnB5JlmAyX"
   },
   "outputs": [],
   "source": [
    "# Your code here for 4.\n"
   ]
  },
  {
   "cell_type": "markdown",
   "metadata": {
    "id": "ekwyqy5YmAyX"
   },
   "source": [
    "---"
   ]
  },
  {
   "cell_type": "markdown",
   "metadata": {
    "id": "40fTej_mmAyX"
   },
   "source": [
    "#### Lists are mutable\n",
    "\n",
    "Lists methods allows you to manipulate the elements stored in the list quickly and effectively. The method `.append()` on the list allows you to add an element at the end of that list. This is a method that you'll be using often!"
   ]
  },
  {
   "cell_type": "code",
   "execution_count": null,
   "metadata": {
    "id": "RdCV6F-RmAyY"
   },
   "outputs": [],
   "source": [
    "empty_list = []\n",
    "empty_list.append(\"appended\")\n",
    "\n",
    "print(empty_list)\n",
    "\n",
    "# Another element\n",
    "empty_list.append(\"second addition\")\n",
    "print(empty_list)"
   ]
  },
  {
   "cell_type": "markdown",
   "metadata": {
    "id": "LsgOruXgmAyY"
   },
   "source": [
    "The `.extend()` method allows you to add all the elements of a second list. It works the same as the `+=` operator we saw before. "
   ]
  },
  {
   "cell_type": "code",
   "execution_count": null,
   "metadata": {
    "id": "TXR82VeamAyY"
   },
   "outputs": [],
   "source": [
    "groceries = [\"Apple\", \"Crisps\", \"Soda\", \"Stroopwafels\"]\n",
    "fruit = [\"Apple\", \"Banana\", \"Orange\"]\n",
    "\n",
    "groceries.extend(fruit)  # similar to +=\n",
    "print(groceries)"
   ]
  },
  {
   "cell_type": "markdown",
   "metadata": {
    "id": "TQoDTzkgmAyZ"
   },
   "source": [
    "The `.remove()` method allows you to remove a given elements from a list. \n",
    "\n",
    "What happens if there are duplicate elements that you want to have removed in a list?"
   ]
  },
  {
   "cell_type": "code",
   "execution_count": null,
   "metadata": {
    "id": "_UUQs6fSmAyZ"
   },
   "outputs": [],
   "source": [
    "groceries.remove(\"Apple\")\n",
    "print(groceries)"
   ]
  },
  {
   "cell_type": "markdown",
   "metadata": {
    "id": "EgOxZU0HmAyZ"
   },
   "source": [
    "The method `.reverse()` reverses a list IN PLACE (i.e. the original list is modified)"
   ]
  },
  {
   "cell_type": "code",
   "execution_count": null,
   "metadata": {
    "id": "DA6I1wqgmAyZ"
   },
   "outputs": [],
   "source": [
    "numbers = [1, 2, 3, 4, 5, 6, 7, 8, 9]\n",
    "print(numbers)\n",
    "\n",
    "numbers.reverse()\n",
    "print(numbers)"
   ]
  },
  {
   "cell_type": "markdown",
   "metadata": {
    "id": "Nq_6AEYRmAyZ"
   },
   "source": [
    "You can replace or delete parts of a list by slicing:"
   ]
  },
  {
   "cell_type": "code",
   "execution_count": null,
   "metadata": {
    "id": "p_HecsA0mAyZ"
   },
   "outputs": [],
   "source": [
    "# Replace elements\n",
    "\n",
    "numbers[-3:] = [10, 11, 12]\n",
    "print(numbers)"
   ]
  },
  {
   "cell_type": "code",
   "execution_count": null,
   "metadata": {
    "id": "NXZb-M-XmAya"
   },
   "outputs": [],
   "source": [
    "# Delete elements\n",
    "\n",
    "numbers[4:6] = []\n",
    "print(numbers)"
   ]
  },
  {
   "cell_type": "markdown",
   "metadata": {
    "id": "bFwtA9DomAya"
   },
   "source": [
    "Sorting a list is as easy as calling `.sort()` on it. This changes the list in place. However, the list elements must be of the same type!"
   ]
  },
  {
   "cell_type": "code",
   "execution_count": null,
   "metadata": {
    "id": "lRu7GpAhmAya"
   },
   "outputs": [],
   "source": [
    "# This renders a TypeError\n",
    "[\"text\", 1, 2, 3].sort()"
   ]
  },
  {
   "cell_type": "code",
   "execution_count": null,
   "metadata": {
    "id": "crrO66-8mAya"
   },
   "outputs": [],
   "source": [
    "homogeneous_list = [1, 56, 33, 8, 220, 9]\n",
    "homogeneous_list.sort()\n",
    "\n",
    "homogeneous_list"
   ]
  },
  {
   "cell_type": "markdown",
   "metadata": {
    "id": "eo0V8ekxmAya"
   },
   "source": [
    "Lists of strings can be sorted as well. Useful if you want to sort from A-Z. \n",
    "\n",
    "Is the sort operation giving the expected result?"
   ]
  },
  {
   "cell_type": "code",
   "execution_count": null,
   "metadata": {
    "id": "MrgBYr0bmAyb"
   },
   "outputs": [],
   "source": [
    "homogeneous_list = [\"canary\", \"hippo\", \"kangaroo\", \"narwhal\", \"Elephant\", \"raccoon\", \"yak\", \"ant\"]\n",
    "homogeneous_list.sort()\n",
    "homogeneous_list"
   ]
  },
  {
   "cell_type": "markdown",
   "metadata": {
    "id": "U1AT9-XnmAyb"
   },
   "source": [
    "---"
   ]
  },
  {
   "cell_type": "markdown",
   "metadata": {
    "id": "tLSqYWKrmAyb"
   },
   "source": [
    "---"
   ]
  },
  {
   "cell_type": "markdown",
   "metadata": {
    "collapsed": true,
    "id": "Ec2GKpW_mAyb"
   },
   "source": [
    "#### Lists of numbers\n",
    "\n",
    "Lists of numbers can be manipulated by additional functions, among which `max()`, `min()` and `sum()`"
   ]
  },
  {
   "cell_type": "code",
   "execution_count": null,
   "metadata": {
    "id": "M8yPjikimAyb"
   },
   "outputs": [],
   "source": [
    "some_numbers = [4, 8, 2, 6, 2, 9]\n",
    "\n",
    "print(max(some_numbers))\n",
    "print(min(some_numbers))\n",
    "print(sum(some_numbers))"
   ]
  },
  {
   "cell_type": "markdown",
   "metadata": {
    "id": "p2coAh49mAyb"
   },
   "source": [
    "### Quiz\n",
    "\n",
    "Get the minimum and maximum number of the list below _without_ using the `max()` and `min()` functions (e.g. by sorting and slicing). "
   ]
  },
  {
   "cell_type": "code",
   "execution_count": null,
   "metadata": {
    "id": "uwmA95uZmAyc"
   },
   "outputs": [],
   "source": [
    "numbers = [21, 1, 56, 33, 8, 220, 9]\n",
    "\n",
    "# Your code here"
   ]
  },
  {
   "cell_type": "markdown",
   "metadata": {
    "collapsed": true,
    "id": "0dQqbtoimAyc"
   },
   "source": [
    "Compute the average of `some_numbers`:"
   ]
  },
  {
   "cell_type": "code",
   "execution_count": null,
   "metadata": {
    "id": "BqSV9TG5mAyc"
   },
   "outputs": [],
   "source": [
    "some_numbers = [4, 8, 2, 6, 2, 9]\n",
    "\n",
    "# Your code here"
   ]
  },
  {
   "cell_type": "markdown",
   "metadata": {
    "id": "JkLOTBNjmAyc"
   },
   "source": [
    "Explain the sorting of the following list:"
   ]
  },
  {
   "cell_type": "code",
   "execution_count": null,
   "metadata": {
    "id": "a_NF8eSOmAyc"
   },
   "outputs": [],
   "source": [
    "homogeneous_list = [\"21\", \"1\", \"56\", \"33\", \"8\", \"220\", \"9\"]\n",
    "homogeneous_list.sort()\n",
    "homogeneous_list"
   ]
  },
  {
   "cell_type": "markdown",
   "metadata": {
    "id": "rsPMBTatmAyc"
   },
   "source": [
    "---"
   ]
  },
  {
   "cell_type": "markdown",
   "metadata": {
    "id": "RgAWy8FemAyc"
   },
   "source": [
    "### Tuples\n",
    "\n",
    "Tuples are the **immutable** counterpart of the lists. \n",
    "\n",
    "They are defined by round brackets `()` and they mainly differ from the list in that they do not accept those methods that tries to manipulate its elements.\n"
   ]
  },
  {
   "cell_type": "code",
   "execution_count": null,
   "metadata": {
    "id": "cWZ2BjyWmAyc"
   },
   "outputs": [],
   "source": [
    "# Tuples can contain different types of objects (even another list like [1,2,3])\n",
    "\n",
    "demo_tuple = (\"text\", 23, 92, \"another_text\", [1,2,3])\n",
    "\n",
    "print(demo_tuple)"
   ]
  },
  {
   "cell_type": "code",
   "execution_count": null,
   "metadata": {
    "id": "7mc_49sSmAyd"
   },
   "outputs": [],
   "source": [
    "# Elements can be accessed on the basis of their index...\n",
    "\n",
    "demo_tuple[1:3]"
   ]
  },
  {
   "cell_type": "code",
   "execution_count": null,
   "metadata": {
    "id": "RezsQC2vmAyd"
   },
   "outputs": [],
   "source": [
    "# But, they cannot be replaced. This raises a TypeError error!\n",
    "\n",
    "demo_tuple[1] = 2"
   ]
  },
  {
   "cell_type": "markdown",
   "metadata": {
    "id": "TqeRPC2hmAyd"
   },
   "source": [
    "For now, just know that tuples are a datatype in Python. You'll know when you need them further on in this course!"
   ]
  },
  {
   "cell_type": "markdown",
   "metadata": {
    "id": "aBD18s9ZmAye"
   },
   "source": [
    "### Strings\n",
    "\n",
    "Strings are **immutable**, sequences of characters (so, they are **homogeneous**)\n",
    "\n",
    "In the Python language, strings are defined by single `'` or double quotes `\"`,  and their elements are contiguous."
   ]
  },
  {
   "cell_type": "code",
   "execution_count": null,
   "metadata": {
    "id": "6OnqjW8KmAye"
   },
   "outputs": [],
   "source": [
    "demo_string = \"Does Cersei have any friends?\"\n",
    "print(demo_string)"
   ]
  },
  {
   "cell_type": "code",
   "execution_count": null,
   "metadata": {
    "id": "qbbbfVKamAye"
   },
   "outputs": [],
   "source": [
    "# Using single or double quotes is indifferent\n",
    "demo_string_single = 'Does Cersei have any friends?'\n",
    "demo_string == demo_string_single"
   ]
  },
  {
   "cell_type": "code",
   "execution_count": null,
   "metadata": {
    "id": "VSGs9ZMfmAyf"
   },
   "outputs": [],
   "source": [
    "# Remember: Digits are not numbers! (frequent source of debugging frustration)\n",
    "\n",
    "print(type(\"1979\") == type(1979))"
   ]
  },
  {
   "cell_type": "code",
   "execution_count": null,
   "metadata": {
    "id": "1UgPCLTYmAyf"
   },
   "outputs": [],
   "source": [
    "print('\"1979\" type is: ' + str(type(\"1979\")))"
   ]
  },
  {
   "cell_type": "code",
   "execution_count": null,
   "metadata": {
    "id": "LmLCmwQTmAyf"
   },
   "outputs": [],
   "source": [
    "print('1979 type is: ' + str(type(1979)))"
   ]
  },
  {
   "cell_type": "markdown",
   "metadata": {
    "id": "Dx3AMRYBmAyf"
   },
   "source": [
    "By being immutable sequences, strings accept all the sequences methods, but they not support item assignment:"
   ]
  },
  {
   "cell_type": "code",
   "execution_count": null,
   "metadata": {
    "id": "ECO7gPhqmAyf"
   },
   "outputs": [],
   "source": [
    "# You can check the length (in characters, whitespaces count!) of a string\n",
    "len(demo_string)"
   ]
  },
  {
   "cell_type": "code",
   "execution_count": null,
   "metadata": {
    "id": "FS-6kKHHmAyg"
   },
   "outputs": [],
   "source": [
    "# Strings can be looked for in other strings\n",
    "\"Cersei\" in demo_string"
   ]
  },
  {
   "cell_type": "code",
   "execution_count": null,
   "metadata": {
    "id": "Yeoqca6FmAyg"
   },
   "outputs": [],
   "source": [
    "# How many 'a's do we have in our string?\n",
    "demo_string.count(\"a\")"
   ]
  },
  {
   "cell_type": "code",
   "execution_count": null,
   "metadata": {
    "id": "J-CqwSOdmAyh"
   },
   "outputs": [],
   "source": [
    "# Concatenation is possible\n",
    "demo_string += \"\\nNoway!\"\n",
    "demo_string"
   ]
  },
  {
   "cell_type": "code",
   "execution_count": null,
   "metadata": {
    "id": "l3jC4e6LmAyh"
   },
   "outputs": [],
   "source": [
    "print(demo_string)"
   ]
  },
  {
   "cell_type": "markdown",
   "metadata": {
    "id": "aijPKDOPmAyh"
   },
   "source": [
    "The escape sequence `\\n` indicates the end of the line. \n",
    "\n",
    "Python escape sequences are introduced by the escape character `\\`, whose goal is to signal the interpreter that the following character has an \"unusual\" interpretation. Here is a partial list:\n",
    "\n",
    "| Escape Sequence|         Meaning|\n",
    "|:--------------:|:---------------:|\n",
    "|              \\\\\\\\|  backslash|\n",
    "|              \\\\'|  single quote|\n",
    "|              \\\\b|  backspace|\n",
    "|              \\\\n|  new line|\n",
    "|              \\\\t|  horizontal tab|\n"
   ]
  },
  {
   "cell_type": "code",
   "execution_count": null,
   "metadata": {
    "id": "AZIW3j81mAyi"
   },
   "outputs": [],
   "source": [
    "# Nicely print our string!\n",
    "print(demo_string)"
   ]
  },
  {
   "cell_type": "code",
   "execution_count": null,
   "metadata": {
    "id": "Gf5Fpn9fmAyi",
    "scrolled": true
   },
   "outputs": [],
   "source": [
    "# What does a backspace do?\n",
    "print(demo_string  +\"\\b\")"
   ]
  },
  {
   "cell_type": "code",
   "execution_count": null,
   "metadata": {
    "id": "-9EFZSEWmAyj"
   },
   "outputs": [],
   "source": [
    "# The escape character may be useful when you need single quotes inside a single quote-marked string...\n",
    "'Can any of you pronounce \\'s-Hertogenbosch?'"
   ]
  },
  {
   "cell_type": "code",
   "execution_count": null,
   "metadata": {
    "id": "a-vwBersmAyk"
   },
   "outputs": [],
   "source": [
    "# but this solution is preferred (when possible)\n",
    "\"Can any of you pronounce 's-Hertogenbosch?\""
   ]
  },
  {
   "cell_type": "markdown",
   "metadata": {
    "id": "QDWZTabamAyk"
   },
   "source": [
    "Strings that span multiple lines can be written in a readable form by using the sequence `\"\"\"` as a delimiter"
   ]
  },
  {
   "cell_type": "code",
   "execution_count": null,
   "metadata": {
    "id": "Kem3RR91mAyk"
   },
   "outputs": [],
   "source": [
    "print(\"\"\"Unsealed, on a porch a letter sat\n",
    "Then you said, \"I wanna leave it again\"\n",
    "Once I saw her on a beach of weathered sand\n",
    "And on the sand I wanna leave her again\"\"\")"
   ]
  },
  {
   "cell_type": "markdown",
   "metadata": {
    "id": "9U8FswPhmAyl"
   },
   "source": [
    "### Quiz"
   ]
  },
  {
   "cell_type": "markdown",
   "metadata": {
    "id": "i82TbsndmAyl"
   },
   "source": [
    "Run the cell below. Where do all the '\\n's come from?"
   ]
  },
  {
   "cell_type": "code",
   "execution_count": null,
   "metadata": {
    "id": "OOj9TxtFmAyl"
   },
   "outputs": [],
   "source": [
    "\"\"\"\"On a weekend I wanna wish it all away, yeah\n",
    "And they called and I said that I'll go\n",
    "And I said that I'll call out again\n",
    "And the reason I ought ta leave her calm, I know\n",
    "I said, \"I don't know whether I'm the boxer or the bag\"\"\"\"\""
   ]
  },
  {
   "cell_type": "code",
   "execution_count": null,
   "metadata": {
    "id": "RdC7o9_fmAyl"
   },
   "outputs": [],
   "source": [
    "# String slicing\n",
    "\"Monty Python\"[-12:-7]"
   ]
  },
  {
   "cell_type": "code",
   "execution_count": null,
   "metadata": {
    "id": "j0IXxGmamAyl"
   },
   "outputs": [],
   "source": [
    "# But single characters cannot be replaced. This raises a TypeError. \n",
    "demo_string[5:11] = \"Melisandre\""
   ]
  },
  {
   "cell_type": "markdown",
   "metadata": {
    "id": "xhimsX8-mAym"
   },
   "source": [
    "#### String Methods\n",
    "\n",
    "Strings have a buch of dedicated methods (see the [documentation](https://docs.python.org/3.8/library/stdtypes.html) for a complete list), that allows them to be both inspected or manipulated (they are not modified, rather a **new object** is returned). \n",
    "\n",
    "The following are commonly used the most:"
   ]
  },
  {
   "cell_type": "code",
   "execution_count": null,
   "metadata": {
    "id": "TWF4n7lbmAym"
   },
   "outputs": [],
   "source": [
    "# Is the string composed solely of 1. digits 2. alphabetic characters 3. both?\n",
    "print('100'.isdigit())\n",
    "print('cat'.isalpha())\n",
    "print('my cat is 100'.isalnum())  # Why False?"
   ]
  },
  {
   "cell_type": "code",
   "execution_count": null,
   "metadata": {
    "id": "SreTtIeYmAym"
   },
   "outputs": [],
   "source": [
    "print(demo_string)"
   ]
  },
  {
   "cell_type": "markdown",
   "metadata": {
    "id": "2RmcIDdcmAym"
   },
   "source": [
    "The `.startswith()` and `.endswith()` methods are useful:"
   ]
  },
  {
   "cell_type": "code",
   "execution_count": null,
   "metadata": {
    "id": "DcphuqOtmAym"
   },
   "outputs": [],
   "source": [
    "# Does the string starts or ends with a given sequence of characters?\n",
    "print(demo_string.startswith(\"d\"))  # it is case sensitive !!!\n",
    "print(demo_string.endswith(\"Noway!\"))"
   ]
  },
  {
   "cell_type": "markdown",
   "metadata": {
    "id": "0431Dh5tmAyn"
   },
   "source": [
    "If you want to compare strings, or want to have them stored in a normalized way, you can use the `.upper()` and `.lower()` methods:"
   ]
  },
  {
   "cell_type": "code",
   "execution_count": null,
   "metadata": {
    "id": "mBGyjgofmAyn"
   },
   "outputs": [],
   "source": [
    "# Change case to all the characters of a string\n",
    "print(demo_string_single.upper())\n",
    "print(demo_string_single.lower())"
   ]
  },
  {
   "cell_type": "markdown",
   "metadata": {
    "id": "6OcrVbU8mAyn"
   },
   "source": [
    "If you want to get rid of unwanted characters at the beginning or at the end of a string, you can use `.strip()`. This is commonly used to remove all whitespace (i.e. spaces, linebreaks, tabs) from the string."
   ]
  },
  {
   "cell_type": "code",
   "execution_count": null,
   "metadata": {
    "id": "pXt1IRAtmAyo"
   },
   "outputs": [],
   "source": [
    "# Remove a given character (default is any whitespace) from the beginning and the end of a string\n",
    "\n",
    "text1 = \"Twice minus: - before and after -\"\n",
    "text2 = \"  \\t  Too much space?\"\n",
    "\n",
    "print(\"Before:\")\n",
    "print(text1)\n",
    "print(text2)\n",
    "print()\n",
    "\n",
    "print(\"After:\")\n",
    "print(text1.strip(\"-\"))\n",
    "print(text2.strip())\n",
    "print()"
   ]
  },
  {
   "cell_type": "markdown",
   "metadata": {
    "id": "hmvBna4zmAyo"
   },
   "source": [
    "You can remove one or multiple elements from a list by using `.replace()`:"
   ]
  },
  {
   "cell_type": "code",
   "execution_count": null,
   "metadata": {
    "id": "CEOid6T3mAyo"
   },
   "outputs": [],
   "source": [
    "# Replace a given sequence of characters with another \n",
    "print(demo_string.replace(\"Cersei\", \"Melisandre\"))"
   ]
  },
  {
   "cell_type": "code",
   "execution_count": null,
   "metadata": {
    "id": "M0RZKf25mAyo"
   },
   "outputs": [],
   "source": [
    "# Or if you want to completely remove a character or series of characters,\n",
    "# simply replace it by an empty string! You can also chain these. \n",
    "print(demo_string.replace(\"?\", \"\").replace(\"!\", \"\"))"
   ]
  },
  {
   "cell_type": "markdown",
   "metadata": {
    "id": "sC2DXTe-mAyp"
   },
   "source": [
    "#### From strings to lists"
   ]
  },
  {
   "cell_type": "markdown",
   "metadata": {
    "id": "WA3OU9Q9mAyp"
   },
   "source": [
    "A string can be transformed into a list of string by splitting it on a given character. This is done through the `.split()` method. "
   ]
  },
  {
   "cell_type": "code",
   "execution_count": null,
   "metadata": {
    "id": "6uE3td6imAyp"
   },
   "outputs": [],
   "source": [
    "# By whitespace\n",
    "demo_string.split(\" \")"
   ]
  },
  {
   "cell_type": "code",
   "execution_count": null,
   "metadata": {
    "id": "krUm1CBimAyp"
   },
   "outputs": [],
   "source": [
    "# However, the default character is any white line (that's convenient!)\n",
    "demo_string.split()"
   ]
  },
  {
   "cell_type": "code",
   "execution_count": null,
   "metadata": {
    "id": "za1Lkg0HmAyq"
   },
   "outputs": [],
   "source": [
    "# the maximun number of splits can be specified\n",
    "demo_string.split(\" \", 2)"
   ]
  },
  {
   "cell_type": "markdown",
   "metadata": {
    "id": "IXtJoYcAmAyq"
   },
   "source": [
    "#### From lists to strings"
   ]
  },
  {
   "cell_type": "markdown",
   "metadata": {
    "id": "rkT8Rn8jmAyq"
   },
   "source": [
    "The inverse operation is possible, a list of strings can be joined by a single character using `join()` on another string. It's argument is the list."
   ]
  },
  {
   "cell_type": "code",
   "execution_count": null,
   "metadata": {
    "id": "jGoHyN0CmAyq"
   },
   "outputs": [],
   "source": [
    "# A whitespace\n",
    "\" \".join([\"One\",\"Two\",\"Three\"])"
   ]
  },
  {
   "cell_type": "code",
   "execution_count": null,
   "metadata": {
    "id": "74BhY6eUmAyq"
   },
   "outputs": [],
   "source": [
    "# An hyphen\n",
    "\"-\".join([\"One\",\"Two\",\"Three\"])"
   ]
  },
  {
   "cell_type": "code",
   "execution_count": null,
   "metadata": {
    "id": "TxLEf1TYmAyq"
   },
   "outputs": [],
   "source": [
    "# Any string basically\n",
    "predifined_joinchar = \"🌞\"\n",
    "predifined_joinchar.join([\"Eins\",\"Zwei\",\"Drei\"])"
   ]
  },
  {
   "cell_type": "code",
   "execution_count": null,
   "metadata": {
    "id": "ysKaOB6amAyr"
   },
   "outputs": [],
   "source": [
    "# Or no characters at all\n",
    "\"\".join([\"Super\", \"cali\", \"fragilistic\", \"expiali\", \"docious\"] )"
   ]
  },
  {
   "cell_type": "markdown",
   "metadata": {
    "id": "7CR5wvyimAyr"
   },
   "source": [
    "Keep in mind that you can only join elements of type string. "
   ]
  },
  {
   "cell_type": "code",
   "execution_count": null,
   "metadata": {
    "id": "prXkMsUjmAyr"
   },
   "outputs": [],
   "source": [
    "# Raises a TypeError\n",
    "\" \".join([\"This\", \"is\", \"notebook\", \"number\", 1])"
   ]
  },
  {
   "cell_type": "markdown",
   "metadata": {
    "id": "hG0TQMzOmAyr"
   },
   "source": [
    "---"
   ]
  },
  {
   "cell_type": "code",
   "execution_count": null,
   "metadata": {
    "id": "pCEdB6H7mAys"
   },
   "outputs": [],
   "source": []
  },
  {
   "cell_type": "markdown",
   "metadata": {
    "id": "JZs8oKTMmAys"
   },
   "source": [
    "### Sets\n",
    "\n",
    "Sets are collections of **unordered** and **distinct/unique** objects.\n",
    "\n",
    "They are commonly used to test membership, to remove duplicates or to compute mathematical operations such as intersection, union, difference, and symmetric difference. Being unordered collections, they do not support indexing, slicing and any other sequence-like behavior. But, this  makes them extremely efficient.\n",
    "\n",
    "In Python, sets can be create beither by using the syntax  `set([])` or by using curly braces `{}`."
   ]
  },
  {
   "cell_type": "markdown",
   "metadata": {
    "id": "95RR_DssmAys"
   },
   "source": [
    "Sets come in handy if you want to count the unique occurences in a list:"
   ]
  },
  {
   "cell_type": "code",
   "execution_count": null,
   "metadata": {
    "id": "6YtsxauLmAys"
   },
   "outputs": [],
   "source": [
    "text = \"\"\"the quick brown fox jumps over the lazy dog\"\"\"\n",
    "words = text.split()  # 'the' is in there twice\n",
    "print(words)\n",
    "\n",
    "unique_words = set(words)\n",
    "unique_words"
   ]
  },
  {
   "cell_type": "markdown",
   "metadata": {
    "id": "Y6k8yc-TmAys"
   },
   "source": [
    "You can add elements by calling `.add()` on the set. Please note: the `.append()` is for lists only! Trying to add an element that's already in a set does not change anything."
   ]
  },
  {
   "cell_type": "code",
   "execution_count": null,
   "metadata": {
    "id": "T8vP7NCamAys"
   },
   "outputs": [],
   "source": [
    "# Elements are added with the function add()\n",
    "unique_words.add(\"sheep\")\n",
    "unique_words"
   ]
  },
  {
   "cell_type": "code",
   "execution_count": null,
   "metadata": {
    "id": "Vjsiqc03mAys"
   },
   "outputs": [],
   "source": [
    "# elements are removed with the function remove()\n",
    "unique_words.remove(\"fox\")\n",
    "unique_words"
   ]
  },
  {
   "cell_type": "code",
   "execution_count": null,
   "metadata": {
    "id": "eBy0YgnSmAyt"
   },
   "outputs": [],
   "source": [
    "# length of a set\n",
    "len(unique_words)"
   ]
  },
  {
   "cell_type": "code",
   "execution_count": null,
   "metadata": {
    "id": "2fRbYGu8mAyt"
   },
   "outputs": [],
   "source": [
    "# membership test\n",
    "\"sheep\" in unique_words"
   ]
  },
  {
   "cell_type": "markdown",
   "metadata": {
    "id": "w0DYyLEdmAyt"
   },
   "source": [
    "You can use `.union()` to get all the elements from both sets."
   ]
  },
  {
   "cell_type": "code",
   "execution_count": null,
   "metadata": {
    "id": "Ii8aw5WPmAyt"
   },
   "outputs": [],
   "source": [
    "# the union of the two sets\n",
    "all_words = unique_words.union(set([\"pack\", \"my\", \"box\", \"with\", \"five\", \"dozen\", \"liquor\", \"jugs\"]))\n",
    "all_words"
   ]
  },
  {
   "cell_type": "code",
   "execution_count": null,
   "metadata": {
    "id": "xbLPSXQjmAyt"
   },
   "outputs": [],
   "source": [
    "# Intersection of the two sets\n",
    "other_set = {\"brown\", \"dog\", \"purple\", \"fox\"}\n",
    "\n",
    "intersection = unique_words.intersection(other_set)\n",
    "intersection"
   ]
  },
  {
   "cell_type": "code",
   "execution_count": null,
   "metadata": {
    "id": "kLniT592mAyt"
   },
   "outputs": [],
   "source": [
    "# Elements that are in the first but not in the second set\n",
    "unique_words.difference(other_set)"
   ]
  },
  {
   "cell_type": "code",
   "execution_count": null,
   "metadata": {
    "id": "WmmZOVVrmAyt"
   },
   "outputs": [],
   "source": [
    "# Variables flipped\n",
    "other_set.difference(unique_words)"
   ]
  },
  {
   "cell_type": "code",
   "execution_count": null,
   "metadata": {
    "id": "9jLMMSl2mAyu"
   },
   "outputs": [],
   "source": [
    "# Every elements of smaller_set are in all_elements?\n",
    "\n",
    "all_elements = {1, 2, 3, 4, 5, 6, 7, 8, 9}\n",
    "smaller_set = {2, 4, 6, 8}\n",
    "\n",
    "print(all_elements.issuperset(smaller_set))\n",
    "print(smaller_set.issubset(all_elements))"
   ]
  },
  {
   "cell_type": "markdown",
   "metadata": {
    "id": "t-h6XDdXmAyu"
   },
   "source": [
    "Go over the other methods that can be used on a set. You can find them including examples here: https://www.w3schools.com/python/python_ref_set.asp. For sure, check out the `.update()` and `.isdisjoint()`. "
   ]
  },
  {
   "cell_type": "markdown",
   "metadata": {
    "id": "76r_UM2omAyu"
   },
   "source": [
    "### Quiz"
   ]
  },
  {
   "cell_type": "code",
   "execution_count": null,
   "metadata": {
    "id": "drW9OQ7smAyu"
   },
   "outputs": [],
   "source": []
  },
  {
   "cell_type": "markdown",
   "metadata": {
    "id": "-eGcr4ERmAyu"
   },
   "source": [
    "---"
   ]
  },
  {
   "cell_type": "markdown",
   "metadata": {
    "id": "hBr4KQzpmAyu"
   },
   "source": [
    "### Dictionaries\n",
    "\n",
    "Dictionaries are **associative arrays** mapping **immutable** types (string, numbers, tuples...) to arbitrary objects of any kind (all datatypes you earlier saw, variables, functions, modules...). Intuitively, they can be thought as collections of objects that we can recall by means of a unique key. \n",
    "\n",
    "To visualize a Python dictionary you can think of a telephone book, in which people names are the unique keys that you use to retrieve difference kinds of information (phone numbers, street address, mail address...). The same telephone number, street address or other information can be present in the entries of more people, but a label cannot be associated with more than one entry. \n",
    "\n",
    "In Python, dictionaries are defined by curly brackets `{}`, in which key-value pairs are separated by commas and joint by colons."
   ]
  },
  {
   "cell_type": "code",
   "execution_count": null,
   "metadata": {
    "id": "lDM2PLycmAyv"
   },
   "outputs": [],
   "source": [
    "# An English-Dutch dictionary of colors\n",
    "\n",
    "color2kleur = {\n",
    "    \"black\": \"zwart\",\n",
    "    \"white\": \"wit\",\n",
    "    \"red\": \"rood\",\n",
    "    \"yellow\": \"geel\"\n",
    "}\n",
    "\n",
    "print(color2kleur)"
   ]
  },
  {
   "cell_type": "code",
   "execution_count": null,
   "metadata": {
    "id": "GrrV1A-gmAyv"
   },
   "outputs": [],
   "source": [
    "# Values can be recalled by their keys\n",
    "color2kleur[\"white\"]"
   ]
  },
  {
   "cell_type": "code",
   "execution_count": null,
   "metadata": {
    "id": "NvGQFsrdmAyv"
   },
   "outputs": [],
   "source": [
    "# We can change a value associated with a key\n",
    "color2kleur[\"white\"] = \"sneeuwwit\"\n",
    "\n",
    "print(color2kleur)"
   ]
  },
  {
   "cell_type": "code",
   "execution_count": null,
   "metadata": {
    "id": "AdxpH3yImAyv"
   },
   "outputs": [],
   "source": [
    "# If the key is missing a new key: value pair is added\n",
    "color2kleur[\"blue\"] = \"blauw\"\n",
    "\n",
    "print(color2kleur)"
   ]
  },
  {
   "cell_type": "code",
   "execution_count": null,
   "metadata": {
    "id": "F9eB0loGmAyv"
   },
   "outputs": [],
   "source": [
    "# {Key: value} can be deleted with the command \"del()\"\n",
    "del(color2kleur[\"blue\"])\n",
    "print(color2kleur)"
   ]
  },
  {
   "cell_type": "code",
   "execution_count": null,
   "metadata": {
    "id": "hXyIkdUSmAyw"
   },
   "outputs": [],
   "source": [
    "# Check if a dictionary has a given key\n",
    "\"blue\" in color2kleur"
   ]
  },
  {
   "cell_type": "code",
   "execution_count": null,
   "metadata": {
    "id": "bWVydw5VmAyw"
   },
   "outputs": [],
   "source": [
    "# Count the number of entries in a dictionary\n",
    "len(color2kleur)"
   ]
  },
  {
   "cell_type": "markdown",
   "metadata": {
    "id": "YRKzzvjQmAyw"
   },
   "source": [
    "### Quiz\n",
    "\n",
    "What you're actually doing by calling the dict that way, is calling the `.keys()` method. Try using the following methods below on the `color2kleur` dictionary:\n",
    "\n",
    "1. `.keys()` vs. just calling the dictionary by `color2kleur`\n",
    "2. `.values()`\n",
    "3. `.items()`\n",
    "    \n",
    "What is the datatype that is returned for each of these methods? And what is de datatype inside these 'iterables'?"
   ]
  },
  {
   "cell_type": "code",
   "execution_count": null,
   "metadata": {
    "id": "icDTmUP-mAyw"
   },
   "outputs": [],
   "source": [
    "# You code here"
   ]
  },
  {
   "cell_type": "markdown",
   "metadata": {
    "id": "FXY9PzofmAyw"
   },
   "source": [
    "#### Iterating over a Dictionary"
   ]
  },
  {
   "cell_type": "code",
   "execution_count": null,
   "metadata": {
    "id": "5rL_YIXgmAyw"
   },
   "outputs": [],
   "source": [
    "# iterate over dictionary keys:\n",
    "print(list(color2kleur))\n",
    "print(list(color2kleur.keys()))"
   ]
  },
  {
   "cell_type": "code",
   "execution_count": null,
   "metadata": {
    "id": "qQGYGuRvmAyx"
   },
   "outputs": [],
   "source": [
    "# iterate over dictionary values:\n",
    "print(list(color2kleur.values()))"
   ]
  },
  {
   "cell_type": "code",
   "execution_count": null,
   "metadata": {
    "id": "-Vn_EOnnmAyx"
   },
   "outputs": [],
   "source": [
    "# iterate over dictionary key-value pairs:\n",
    "print(list(color2kleur.items()))"
   ]
  },
  {
   "cell_type": "markdown",
   "metadata": {
    "id": "B-zxqXotmAyx"
   },
   "source": [
    "---"
   ]
  },
  {
   "cell_type": "markdown",
   "metadata": {
    "id": "5suk_BdYmAyx"
   },
   "source": [
    "###  Type casting\n",
    "\n",
    "Sometimes, we may need to change the type of a variable. \n",
    "\n",
    "For instance, we may want to change a list into a set in order to delete all its repeated elements. A quick way to do so is to transform the list in a set.\n",
    "\n",
    "Other example may involve the `.join()` method that does not accept numbers. Conversion functions can be used to quickly switch numbers to strings. Sometimes, these conversion functions are built-in into a function, which is the case in the `print()` function. It is basically applying the `str()` function on every object that you give as argument.\n",
    "\n",
    "Note that not all types of variables can be switched to other types. In what follows we report some common conversion."
   ]
  },
  {
   "cell_type": "code",
   "execution_count": null,
   "metadata": {
    "id": "edqdGgg4mAyx"
   },
   "outputs": [],
   "source": [
    "# From number to string\n",
    "str(3.123424235454)"
   ]
  },
  {
   "cell_type": "code",
   "execution_count": null,
   "metadata": {
    "id": "mwUDKmWkmAyx"
   },
   "outputs": [],
   "source": [
    "# Sometimes you want to round the number\n",
    "str(round(3.123424235454, 2))"
   ]
  },
  {
   "cell_type": "code",
   "execution_count": null,
   "metadata": {
    "id": "5c8LaAY2mAyy"
   },
   "outputs": [],
   "source": [
    "# From string to integer\n",
    "int(\"3\")"
   ]
  },
  {
   "cell_type": "code",
   "execution_count": null,
   "metadata": {
    "id": "q9_tgwTmmAyy"
   },
   "outputs": [],
   "source": [
    "# From string to floating numer\n",
    "float(\"3\")"
   ]
  },
  {
   "cell_type": "code",
   "execution_count": null,
   "metadata": {
    "id": "ClFTmeO_mAyz"
   },
   "outputs": [],
   "source": [
    "# From list to tuple (list cannot be used as dictionary keys, tuples can)\n",
    "tuple([demo_list])"
   ]
  },
  {
   "cell_type": "code",
   "execution_count": null,
   "metadata": {
    "id": "VQv6E-53mAy0"
   },
   "outputs": [],
   "source": [
    "# From list to set\n",
    "set([1,2,3,1,2,3,3])"
   ]
  },
  {
   "cell_type": "code",
   "execution_count": null,
   "metadata": {
    "id": "kocD8ybAmAy1"
   },
   "outputs": [],
   "source": [
    "# From string to list\n",
    "print(list(\"this is a sentence\"))"
   ]
  },
  {
   "cell_type": "markdown",
   "metadata": {
    "id": "kvsp2sqqmAy1"
   },
   "source": [
    "### Quiz\n",
    "\n",
    "The list `numbers` contains 21 integers, ranging from -10 to 10, unsorted. \n",
    "\n",
    "Create a new list containing only the positive numbers from the list. Use `.sort()`, `len()` and `round()`"
   ]
  },
  {
   "cell_type": "code",
   "execution_count": null,
   "metadata": {
    "id": "d4TvUuy2mAy1"
   },
   "outputs": [],
   "source": [
    "numbers = [-7, 1, 3, 8, 7, -2, 5, 4, -10, -4, -3, -6, 2, 9, 0, -5, -8, 10, -9, 6, -1]"
   ]
  },
  {
   "cell_type": "code",
   "execution_count": null,
   "metadata": {
    "id": "WiGveyLpmAy2"
   },
   "outputs": [],
   "source": [
    "# Your code here\n"
   ]
  },
  {
   "cell_type": "markdown",
   "metadata": {
    "id": "J89IuYlymAy2"
   },
   "source": [
    "---"
   ]
  },
  {
   "cell_type": "markdown",
   "metadata": {
    "id": "yXuBnZe-mAy2"
   },
   "source": [
    "# Exercises\n",
    "\n",
    "## Reading\n",
    "* Check out number 8 of the Python Enhancement Proposals (PEP): https://www.python.org/dev/peps/pep-0008/. Try writing your code with PEP8 in mind. \n",
    "* [Python Cheat Sheet](https://www.cheatography.com/davechild/cheat-sheets/python/), which collects much of the syntax we used today.\n",
    "* Have a look at Python's built-in types: https://docs.python.org/3.8/library/stdtypes.html. Be sure to check out the part on [string methods](https://docs.python.org/3.8/library/stdtypes.html#string-methods). You can skip the other sections. \n",
    "\n",
    "## Tasks"
   ]
  },
  {
   "cell_type": "markdown",
   "metadata": {
    "id": "E5tEL618mAy3"
   },
   "source": [
    "### Excercise 1\n",
    "\n",
    "Italian nobles tends to have an awful lot of names. For instance, \"Vittorio Emanuele di Savoia\" (or \"Vittorio\" for close friends) has the 12 names listed in `full_name`. \n",
    "\n",
    "Can you find a pythonic way to eliminate the less used names from this string?"
   ]
  },
  {
   "cell_type": "code",
   "execution_count": null,
   "metadata": {
    "id": "nwffyJv2mAy3"
   },
   "outputs": [],
   "source": [
    "full_name = \"Vittorio Emanuele Alberto Carlo Teodoro Umberto Bonifacio Amedeo Damiano Bernardino Gennaro Maria di Savoia\""
   ]
  },
  {
   "cell_type": "code",
   "execution_count": null,
   "metadata": {
    "id": "TyqHvGIcmAy3"
   },
   "outputs": [],
   "source": [
    "# Your code here\n"
   ]
  },
  {
   "cell_type": "markdown",
   "metadata": {
    "id": "9DLqwF1NmAy4"
   },
   "source": [
    "### Exercise 2.\n",
    "\n",
    "The code in the next cell creates a variable called `zen_text`, and assigns it a nicely formatted version of the textual elements of the Zen of Python.\n",
    "\n",
    "* Count the number of in this manifesto of:\n",
    "    1. Characters\n",
    "    2. Words\n",
    "    3. Unique words\n",
    "    3. Non-empty lines\n",
    "    "
   ]
  },
  {
   "cell_type": "code",
   "execution_count": null,
   "metadata": {
    "id": "b1x3rx_LmAy4"
   },
   "outputs": [],
   "source": [
    "import this\n",
    "zen_text = ''.join(this.d.get(el, el) for el in this.s)  # forget this complicated pattern for now"
   ]
  },
  {
   "cell_type": "code",
   "execution_count": null,
   "metadata": {
    "id": "ZaykSfG_mAy4"
   },
   "outputs": [],
   "source": [
    "# Your code here\n",
    "\n"
   ]
  },
  {
   "cell_type": "markdown",
   "metadata": {
    "id": "pX5hC93-mAy4"
   },
   "source": [
    "### Exercise 3.\n",
    "\n",
    "The dictionary in the following cell reports, for each Scrubs character, a dictionary mapping is given with the name of the actor, the age of the character and its credentials.\n",
    "\n",
    "Write code to answer the following questions:\n",
    "\n",
    "- What are the **names of the actors** of the cast?\n",
    "\n",
    "- What is the **average age** of the characters?\n",
    "\n",
    "- How **many M.D.s** are there in the main cast?\n",
    "\n",
    "- Which character is not listed in the credentials dictionary?\n",
    "\n",
    "Hint: check the dictionary and set methods"
   ]
  },
  {
   "cell_type": "code",
   "execution_count": null,
   "metadata": {
    "id": "ePZx4vLXmAy5"
   },
   "outputs": [],
   "source": [
    "scrubs2age = {\n",
    "     'Bob Kelso': 70,\n",
    "     'Carla Espinosa-Turk': 36,\n",
    "     'Christopher Turk': 31,\n",
    "     'Elliot Reid': 29,\n",
    "     'J.D.': 31,\n",
    "     'Janitor': 40,\n",
    "     'Perry Cox': 45\n",
    "  }\n",
    "\n",
    "scrubs2cred = {\n",
    "     'Bob Kelso': 'M.D.',\n",
    "     'Carla Espinosa-Turk': 'RN',\n",
    "     'Christopher Turk': 'M.D.',\n",
    "     'Elliot Reid': 'M.D.',\n",
    "     'J.D.': 'M.D.',\n",
    "     'Perry Cox': 'M.D.'\n",
    "  }"
   ]
  },
  {
   "cell_type": "code",
   "execution_count": null,
   "metadata": {
    "id": "XHHCJsVXmAy5"
   },
   "outputs": [],
   "source": [
    "# Your code here"
   ]
  },
  {
   "cell_type": "code",
   "execution_count": null,
   "metadata": {
    "id": "l6hmP2HxmAy5"
   },
   "outputs": [],
   "source": []
  },
  {
   "cell_type": "markdown",
   "metadata": {
    "id": "aYXVFYyPmAy5"
   },
   "source": [
    "### Exercise 4 Assignment Week1!\n",
    "\n",
    "A string is stored in the `coe_books` variable. \n",
    "\n",
    "* How many different books of Jonathan Coe are listed?\n",
    "* Check if the string starts with 'the accidental woman'\n",
    "* Print this text titlecased (every word starts with a capital letter, ignore the prepositions for now). And uppercased. And capitalized.\n",
    "* Convert the string to a list of words. Two of the book titles contain digits: 58 and 11. Find the index in the list and replace the string object for the number as integer. Print the list. "
   ]
  },
  {
   "cell_type": "code",
   "execution_count": null,
   "metadata": {
    "id": "S5b1g7tjmAy5"
   },
   "outputs": [],
   "source": [
    "coe_books = \"\"\"the accidental woman\n",
    "a touch of love\n",
    "the dwarves of death\n",
    "what a carve up! or the winshaw legacy viking\n",
    "the house of sleep\n",
    "the rotters' club\n",
    "the closed circle\n",
    "the rain before it falls\n",
    "the terrible privacy of maxwell sim\n",
    "expo 58\n",
    "number 11\n",
    "\"\"\""
   ]
  },
  {
   "cell_type": "code",
   "execution_count": null,
   "metadata": {
    "id": "dey43Pi0mAy6"
   },
   "outputs": [],
   "source": [
    "# Your code here\n",
    "\n"
   ]
  },
  {
   "cell_type": "markdown",
   "metadata": {
    "id": "oJxlYRSOmAy6"
   },
   "source": [
    "---"
   ]
  }
 ],
 "metadata": {
  "colab": {
   "name": "1_Basics.ipynb",
   "provenance": []
  },
  "kernelspec": {
   "display_name": "Python 3 (ipykernel)",
   "language": "python",
   "name": "python3"
  },
  "language_info": {
   "codemirror_mode": {
    "name": "ipython",
    "version": 3
   },
   "file_extension": ".py",
   "mimetype": "text/x-python",
   "name": "python",
   "nbconvert_exporter": "python",
   "pygments_lexer": "ipython3",
   "version": "3.8.10"
  }
 },
 "nbformat": 4,
 "nbformat_minor": 1
}
