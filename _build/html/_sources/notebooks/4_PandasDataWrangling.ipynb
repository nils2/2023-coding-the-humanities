{
  "cells": [
    {
      "cell_type": "markdown",
      "metadata": {
        "id": "13zUoDymWjoj"
      },
      "source": [
        "# Data Wrangling"
      ]
    },
    {
      "cell_type": "markdown",
      "metadata": {
        "id": "P-GOTpNaWjok"
      },
      "source": [
        "## Contents:\n",
        "\n",
        "* String formatting (f-strings)\n",
        "* Regular expressions (regex)\n",
        "* Pandas (Reading/writing CSV)"
      ]
    },
    {
      "cell_type": "markdown",
      "metadata": {
        "id": "r3kPJNMIWjol"
      },
      "source": [
        "## String formatting"
      ]
    },
    {
      "cell_type": "markdown",
      "metadata": {
        "id": "IlzCXlG5Wjol"
      },
      "source": [
        "Instead of writing a series of `print()` statements with multiple arguments, or concatenating (by `+`) strings, you can also use a Python string formatting method, called `f-strings`. More information can be read in PEP 498: https://www.python.org/dev/peps/pep-0498/"
      ]
    },
    {
      "cell_type": "markdown",
      "metadata": {
        "id": "2WFp8i4pWjom"
      },
      "source": [
        "You can define a string as a template by inserting `{ }` characters with a variable name or expression in between. For this to work, you have to type an `f` in front of the `'`, `\"` or `\"\"\"` start of the string definition. When defined, the string will read with the string value of the variable or the expression filled in. \n",
        "\n",
        "```python\n",
        "name = \"Joe\"\n",
        "text = f\"My name is {name}.\"\n",
        "```\n",
        "\n",
        "Again, if you need a `'` or `\"` in your expression, use the other variant in the Python source code to declare the string. Writing:\n",
        "\n",
        "```python\n",
        "f'This is my {example}.'\n",
        "```\n",
        "\n",
        "is equivalent to:\n",
        "\n",
        "```python\n",
        "f\"This is my {example}.\"\n",
        "```"
      ]
    },
    {
      "cell_type": "code",
      "execution_count": null,
      "metadata": {
        "id": "ZsWlOdzCWjom"
      },
      "outputs": [],
      "source": [
        "name = \"Joe\"\n",
        "text = f\"My name is {name}.\"\n",
        "\n",
        "print(text)"
      ]
    },
    {
      "cell_type": "code",
      "execution_count": null,
      "metadata": {
        "id": "XtKqnCWRWjoo"
      },
      "outputs": [],
      "source": [
        "day = \"Monday\"\n",
        "weather = \"Sunny\"\n",
        "n_messages = 8\n",
        "\n",
        "test_dict = {'test': 'test_value'}\n",
        "\n",
        "text = f\"\"\"\n",
        "Today is {day}. \n",
        "The weather is {weather.lower()} and you have {n_messages} unread messages. \n",
        "The first three letters of the weekday: {day[:3]}\n",
        "An example expression is: {15 ** 2 = }\n",
        "\n",
        "\n",
        "\n",
        "\"\"\"\n",
        "\n",
        "text = f'Test by selecting key: {test_dict[\"test\"]}'\n",
        "\n",
        "\n",
        "print(text)"
      ]
    },
    {
      "cell_type": "markdown",
      "metadata": {
        "id": "rcz2ZzX8Wjoo"
      },
      "source": [
        "---"
      ]
    },
    {
      "cell_type": "markdown",
      "metadata": {
        "id": "6iczszohWjoo"
      },
      "source": [
        "## Regular expressions"
      ]
    },
    {
      "cell_type": "markdown",
      "metadata": {
        "id": "R0KFKUT9Wjoo"
      },
      "source": [
        "Using regular expressions can be very useful when working with texts. It is a powerful search mechanism by which you can search on patterns, instead of 'exact matches'. But, they can be difficult to grasp, at first sight.\n",
        "\n",
        "A **regular expression**, for instance, allows you to substitute all digits in a text, following another text sequence, or to find all urls, phone numbers, or email addresses. Or any text, that meets a particular condition.\n",
        "\n",
        "See the Python manual for the `re` module for more info: https://docs.python.org/3/library/re.html\n",
        "\n",
        "You can/should use a cheatsheet when writing a regular expression. A nice website to write and test them is: https://regex101.com/. \n",
        "\n",
        "Some examples of commonly used expressions:\n",
        "\n",
        "* `\\d` for all digits 0-9\n",
        "* `\\w` for any word character\n",
        "* `[abc]` for a set of characters (here: a, b, c)\n",
        "* `.` any character\n",
        "* `?` the preceding character/pattern 0 or 1 times\n",
        "* `*` the preceding character/pattern 0 or multiple times\n",
        "* `+` the preceding character/pattern 1 or multiple times\n",
        "* `{1,2}` 1 or 2 times\n",
        "* `^` the start of the string\n",
        "* `$` the end of the string\n",
        "* `|` or\n",
        "* `()` capture group (only return this part)\n",
        "\n",
        "In many text editors (e.g. VSCode) there is also an option to search (and replace) with the help of regular expressions. "
      ]
    },
    {
      "cell_type": "markdown",
      "metadata": {
        "id": "UHXRd47uWjop"
      },
      "source": [
        "Python has a regex module built in. When working with a regular expression, you have to import it first:"
      ]
    },
    {
      "cell_type": "code",
      "execution_count": null,
      "metadata": {
        "id": "FySvVyNZWjop"
      },
      "outputs": [],
      "source": [
        "import re"
      ]
    },
    {
      "cell_type": "markdown",
      "metadata": {
        "id": "SVPG0dw8Wjop"
      },
      "source": [
        "You can use a regular expression for **finding** occurences in a text. Let's say we want to filter out all web urls in a text:"
      ]
    },
    {
      "cell_type": "code",
      "execution_count": null,
      "metadata": {
        "id": "E4ETED8GWjoq"
      },
      "outputs": [],
      "source": [
        "text = \"\"\"\n",
        "There are various search engines on the web. \n",
        "There is https://www.google.com/, but also https://www.bing.com/. \n",
        "A more privacy friendly alternative is https://duckduckgo.com/. \n",
        "And who remembers http://www.altavista.com/?\n",
        "\"\"\"\n",
        "\n",
        "re.findall(r'https?://.+?/', text)"
      ]
    },
    {
      "cell_type": "code",
      "execution_count": null,
      "metadata": {
        "id": "nljkoZR6Wjoq"
      },
      "outputs": [],
      "source": [
        "# Copied from https://www.imdb.com/search/title/?groups=top_250&sort=user_rating\n",
        "\n",
        "text = \"\"\"\n",
        "1. The Shawshank Redemption (1994)\n",
        "12 | 142 min | Drama\n",
        "\n",
        " 9,3  Rate this 80 Metascore\n",
        "Two imprisoned men bond over a number of years, finding solace and eventual redemption through acts of common decency.\n",
        "\n",
        "Director: Frank Darabont | Stars: Tim Robbins, Morgan Freeman, Bob Gunton, William Sadler\n",
        "\n",
        "Votes: 2.355.643 | Gross: $28.34M\n",
        "\n",
        "2. The Godfather (1972)\n",
        "16 | 175 min | Crime, Drama\n",
        "\n",
        " 9,2  Rate this 100 Metascore\n",
        "An organized crime dynasty's aging patriarch transfers control of his clandestine empire to his reluctant son.\n",
        "\n",
        "Director: Francis Ford Coppola | Stars: Marlon Brando, Al Pacino, James Caan, Diane Keaton\n",
        "\n",
        "Votes: 1.630.157 | Gross: $134.97M\n",
        "\n",
        "3. The Dark Knight (2008)\n",
        "16 | 152 min | Action, Crime, Drama\n",
        "\n",
        " 9,0  Rate this 84 Metascore\n",
        "When the menace known as the Joker wreaks havoc and chaos on the people of Gotham, Batman must accept one of the greatest psychological and physical tests of his ability to fight injustice.\n",
        "\n",
        "Director: Christopher Nolan | Stars: Christian Bale, Heath Ledger, Aaron Eckhart, Michael Caine\n",
        "\n",
        "Votes: 2.315.134 | Gross: $534.86M\n",
        "\"\"\"\n",
        "\n",
        "titles = re.findall(r'\\d{1,2}\\. (.+)', text)\n",
        "titles"
      ]
    },
    {
      "cell_type": "markdown",
      "metadata": {
        "id": "ojLPhJ-0Wjor"
      },
      "source": [
        "### Quiz\n",
        "Try to get a list of all directors. And the gross income. "
      ]
    },
    {
      "cell_type": "code",
      "execution_count": null,
      "metadata": {
        "id": "wvFlrH_BWjor"
      },
      "outputs": [],
      "source": [
        "# All directors\n"
      ]
    },
    {
      "cell_type": "code",
      "execution_count": null,
      "metadata": {
        "id": "0-uZoKO2Wjos"
      },
      "outputs": [],
      "source": [
        "# Gross income\n"
      ]
    },
    {
      "cell_type": "markdown",
      "metadata": {
        "id": "-x_xCtNQWjos"
      },
      "source": [
        "Or, you can use a regular expression to **replace** a character sequence. This is an equivalent to the `.replace()` function, but allows more variance in the string matching."
      ]
    },
    {
      "cell_type": "code",
      "execution_count": null,
      "metadata": {
        "id": "zsNVQetBWjos"
      },
      "outputs": [],
      "source": [
        "text = \"\"\"\n",
        "Tim Robbins\n",
        "Morgan Freeman\n",
        "Bob Gunton\n",
        "William Sadler\n",
        "Marlon Brando\n",
        "Al Pacino\n",
        "James Caan\n",
        "Diane Keaton\n",
        "Christian Bale\n",
        "Heath Ledger\n",
        "Aaron Eckhart\n",
        "Michael Caine\n",
        "\"\"\"\n",
        "\n",
        "# Hint: test this with https://regex101.com/\n",
        "new_text = re.sub(r\"(?:(\\w)\\w+) (\\w+)\", r\"\\1. \\2\", text)\n",
        "\n",
        "print(new_text)"
      ]
    },
    {
      "cell_type": "markdown",
      "metadata": {
        "id": "ZdYs70QQWjot"
      },
      "source": [
        "---"
      ]
    },
    {
      "cell_type": "markdown",
      "metadata": {
        "id": "-gWLRatDWjot"
      },
      "source": [
        "# Data wrangling with Pandas"
      ]
    },
    {
      "cell_type": "markdown",
      "metadata": {
        "id": "0DIIgvmlWjot"
      },
      "source": [
        "## CSV (in Pandas)\n",
        "\n",
        "The other often used file type is CSV (Comma Separated Values), or variants, such as TSV (Tab Separated Values). Python includes another built-in module to deal with these files: the `csv` module. But, we will be using the `Pandas` module, the go-to package for data analysis, that you already imported and updated in Notebook 0. \n",
        "\n",
        "A CSV file is similar to an Excel or Google Docs spreadsheet, but more limited in markup and functionality (e.g. you cannot store Excel functions). It is just a text file in which individual entries correspond to lines, and columns are separated by a comma. You can always open a CSV file with a text editor, and this also makes it so easy to store and share data with.\n",
        "\n",
        "For the rest of the notebook we will see how to work with the two main data types in `pandas`: the `DataFrame` and a `Series`.\n",
        "\n",
        "Information on functions and modules of Pandas cannot be found in the Python manual online, as it is an external package. Instead, you can refer to https://pandas.pydata.org/pandas-docs/stable/index.html ."
      ]
    },
    {
      "cell_type": "markdown",
      "metadata": {
        "id": "rfESw9J_Wjou"
      },
      "source": [
        "### `DataFrame`\n",
        "\n",
        "\n",
        "What is a `pandas.DataFrame`? \n",
        "\n",
        "A `DataFrame` is a collection of `Series` having the same length and whose indexes are in sync. A *collection* means that each column of a dataframe is a series. You can also see it as a spreadheet in memory, that also allows for inclusion of Python objects."
      ]
    },
    {
      "cell_type": "markdown",
      "metadata": {
        "id": "6OAUHYSaWjou"
      },
      "source": [
        "We first have to import the package. It's a convention to do this like so with Pandas, which makes the elements from this package (classes, functions, methods) available under its abbreviation `pd`:"
      ]
    },
    {
      "cell_type": "code",
      "execution_count": null,
      "metadata": {
        "id": "N8fYArBwWjou"
      },
      "outputs": [],
      "source": [
        "import pandas as pd"
      ]
    },
    {
      "cell_type": "markdown",
      "metadata": {
        "id": "nkT3_k-KWjov"
      },
      "source": [
        "Next is loading the data. The following data comes from Wikipedia and was [automatically](https://query.wikidata.org/#%0ASELECT%20DISTINCT%20%3FmovieLabel%20%3Fimdb%20%28MIN%28%3FpublicationYear%29%20as%20%3Fyear%29%20%28year%28%3Fdate%29%20as%20%3Faward_year%29%20%28group_concat%28DISTINCT%20%3FdirectorLabel%3Bseparator%3D%22%2C%20%22%29%20as%20%3Fdirectors%20%29%20%28group_concat%28DISTINCT%20%3FcompanyLabel%3Bseparator%3D%22%2C%20%22%29%20as%20%3Fcompanies%29%20%3Fmale_cast%20%3Ffemale_cast%20WHERE%20%7B%0A%20%20%0A%20%20%7B%0A%20%20%3Fmovie%20p%3AP166%20%3Fawardstatement%20%3B%0A%20%20%20%20%20%20%20%20%20wdt%3AP345%20%3Fimdb%20%3B%0A%20%20%20%20%20%20%20%20%20wdt%3AP577%20%3Fpublication%20%3B%0A%20%20%20%20%20%20%20%20%20wdt%3AP57%20%3Fdirector%20%3B%0A%20%20%20%20%20%20%20%20%20wdt%3AP272%20%3Fcompany%20%3B%0A%20%20%20%20%20%20%20%20%20wdt%3AP31%20wd%3AQ11424%20.%0A%20%20%0A%20%20%3Fawardstatement%20ps%3AP166%20wd%3AQ102427%20%3B%20%0A%20%20%20%20%20%20%20%20%20%20%20%20%20%20%20%20%20%20pq%3AP585%20%3Fdate%20.%0A%20%20%7D%0A%20%20%0A%20%20BIND%28year%28%3Fpublication%29%20as%20%3FpublicationYear%29%0A%20%20%0A%20%20%7B%0A%20%20%20%20%20SELECT%20%3Fmovie%20%28COUNT%28%3Fcast_member%29%20AS%20%3Fmale_cast%29%20WHERE%20%7B%0A%20%20%20%20%20%20%3Fmovie%20wdt%3AP161%20%3Fcast_member%20.%0A%20%20%20%20%20%20%3Fcast_member%20wdt%3AP21%20wd%3AQ6581097%20.%0A%20%20%20%20%7D%20GROUP%20BY%20%3Fmovie%0A%7D%20%7B%0A%20%20%20%20SELECT%20%3Fmovie%20%28COUNT%28%3Fcast_member%29%20AS%20%3Ffemale_cast%29%20WHERE%20%7B%0A%20%20%20%20%20%20%3Fmovie%20wdt%3AP161%20%3Fcast_member%20.%0A%20%20%20%20%20%20%3Fcast_member%20wdt%3AP21%20wd%3AQ6581072%20.%0A%20%20%20%20%7D%20GROUP%20BY%20%3Fmovie%0A%20%20%7D%0A%20%20%0A%20%20SERVICE%20wikibase%3Alabel%20%7B%20%0A%20%20%20%20bd%3AserviceParam%20wikibase%3Alanguage%20%22en%22%20.%0A%20%20%20%20%3Fmovie%20rdfs%3Alabel%20%3FmovieLabel%20.%0A%20%20%20%20%3Fdirector%20rdfs%3Alabel%20%3FdirectorLabel%20.%0A%20%20%20%20%3Fcompany%20rdfs%3Alabel%20%3FcompanyLabel%20.%20%0A%20%20%7D%0A%7D%20%0A%0AGROUP%20BY%20%3FmovieLabel%20%3Fimdb%20%3Fdate%20%3Fmale_cast%20%3Ffemale_cast%0AORDER%20BY%20%3Fyear%20) retreived. It is an overview of all movies that have won an Academy Award for Best Picture, including some extra data for the movie: a link to the IMDB, the publication and award year, the director(s), production company and the number of male and female actors in the cast. It can be that this data is incorrect, because this information is not entered in Wikipedia. \n",
        "\n",
        "You can find this file in `data/academyawards.csv`. Download it from the repository and save it in the data folder if you don't have it. "
      ]
    },
    {
      "cell_type": "markdown",
      "metadata": {
        "id": "TYq-OoIiWjov"
      },
      "source": [
        "Reading in a csv with pandas is easy. We call the `pd.read_csv()` function with the file path as argument. Pandas takes care of opening and closing the file, so a `with` statement is not needed. The contents of the csv file are then read in a Pandas DataFrame object. We can store this in the variable `df`. \n",
        "\n",
        "Calling this variable in a Jypyter Notebook gives back a nicely formatted table with the first and last 5 rows of the file. "
      ]
    },
    {
      "cell_type": "code",
      "execution_count": null,
      "metadata": {
        "id": "UmPotvtEWjov"
      },
      "outputs": [],
      "source": [
        "df = pd.read_csv('data/academyawards.csv', encoding='utf-8')\n",
        "df"
      ]
    },
    {
      "cell_type": "markdown",
      "metadata": {
        "id": "-HYWyDLjWjov"
      },
      "source": [
        "Think of a `DataFrame` as an in-memory spreadsheet that you can analyse and manipulate programmatically. Or, think of it as a table in which every line is a data entry, and every column holds specific information on this data.\n",
        "\n",
        "These columns can also be seen as lists of values. They are ordered and the index of an element corresponds with the index of the data entry. The collection of all such columns is what makes the DataFrame. One column in a table is represented by a Pandas `Series`, which collects observations about a given variable. Multiple columns are a `DataFrame`. A DataFrame therefore is a collection of lists (=columns), or `Series`.\n",
        "\n",
        "If you look for other methods on `pd` you can call, you'll also see that there is an `pd.read_excel()` option to read spreadsheets in `.xls` or `.xlsx`. You can also  use this, if you have these kind of files."
      ]
    },
    {
      "cell_type": "markdown",
      "metadata": {
        "id": "VYFYCw1IWjow"
      },
      "source": [
        "### Statistics\n",
        "Now that we loaded our DataFrame, we can make pandas print some statistics on the file. "
      ]
    },
    {
      "cell_type": "code",
      "execution_count": null,
      "metadata": {
        "id": "3L5rU-RMWjow"
      },
      "outputs": [],
      "source": [
        "df.head(1)  # First 5 rows"
      ]
    },
    {
      "cell_type": "code",
      "execution_count": null,
      "metadata": {
        "id": "rGg7zsP9Wjow"
      },
      "outputs": [],
      "source": [
        "df.tail()  # Last 5 rows"
      ]
    },
    {
      "cell_type": "code",
      "execution_count": null,
      "metadata": {
        "id": "8DuLyUR9Wjow"
      },
      "outputs": [],
      "source": [
        "df.describe()  # Descriptive statistics"
      ]
    },
    {
      "cell_type": "markdown",
      "metadata": {
        "id": "n-1bGEcMWjox"
      },
      "source": [
        "As you can see by what they return, these methods return another DataFrame with some descriptive statistics on the file, such as the number of entries (count), the mean of the numerical values, the standard deviation, minimum and maximum values, and the 25th, 50th, and 75th percentiles."
      ]
    },
    {
      "cell_type": "markdown",
      "metadata": {
        "id": "8ZYj1kD7Wjox"
      },
      "source": [
        "The `.info()` method can also be informative. It gives you information about a dataframe:\n",
        "- how much space does it take in memory?\n",
        "- what is the datatype of each column?\n",
        "- how many records are there?\n",
        "- how many `null` values does each column contain (!)?"
      ]
    },
    {
      "cell_type": "code",
      "execution_count": null,
      "metadata": {
        "id": "4uRZBDUSWjox"
      },
      "outputs": [],
      "source": [
        "df.info()"
      ]
    },
    {
      "cell_type": "markdown",
      "metadata": {
        "id": "b4KMJ_iRWjox"
      },
      "source": [
        "Pandas automatically interprets which datatypes are used in the file, but this is not always correct. Especially if you have empty fields in the DataFrame, any other integers get interpreted as float. Every column has one datatype. You can check them separately by requesting the `.dtypes` argument on the `df`. \n",
        "\n",
        "The 'object' type is a string in this file, 'int64' is an integer. "
      ]
    },
    {
      "cell_type": "code",
      "execution_count": null,
      "metadata": {
        "id": "zhqOi1OWWjoy"
      },
      "outputs": [],
      "source": [
        "df.dtypes"
      ]
    },
    {
      "cell_type": "markdown",
      "metadata": {
        "id": "-efRk_jcWjoy"
      },
      "source": [
        "We expect different datatypes for the description-dataframe:"
      ]
    },
    {
      "cell_type": "code",
      "execution_count": null,
      "metadata": {
        "id": "saBMJ_S4Wjoy"
      },
      "outputs": [],
      "source": [
        "description_df = df.describe()\n",
        "description_df.dtypes"
      ]
    },
    {
      "cell_type": "markdown",
      "metadata": {
        "id": "7Sxekrz5Wjoy"
      },
      "source": [
        "### Slicing and selecting"
      ]
    },
    {
      "cell_type": "markdown",
      "metadata": {
        "id": "EdvQxN2rWjoy"
      },
      "source": [
        "#### `df['column1']`\n",
        "You can select a single column by calling this column name as if the DataFrame was a dictionary. A single column from a DataFrame returns a `Series` object. "
      ]
    },
    {
      "cell_type": "code",
      "execution_count": null,
      "metadata": {
        "id": "sjl04WKLWjoy"
      },
      "outputs": [],
      "source": [
        "df"
      ]
    },
    {
      "cell_type": "code",
      "execution_count": null,
      "metadata": {
        "id": "gdJ1qooIWjoz"
      },
      "outputs": [],
      "source": [
        "print(type(df['movie']))\n",
        "\n",
        "df['movie']"
      ]
    },
    {
      "cell_type": "markdown",
      "metadata": {
        "id": "86VDt-g1Wjoz"
      },
      "source": [
        "The `Series` object is very similar to a `list`:"
      ]
    },
    {
      "cell_type": "code",
      "execution_count": null,
      "metadata": {
        "id": "PjmysaDdWjoz"
      },
      "outputs": [],
      "source": [
        "movies = df['movie']\n",
        "\n",
        "print(\"Length:\", len(movies))\n",
        "print()\n",
        "\n",
        "for n, movie in enumerate(movies[:10], 1):\n",
        "    print(n, movie, sep='\\t')"
      ]
    },
    {
      "cell_type": "markdown",
      "metadata": {
        "id": "TSSri8hWWjoz"
      },
      "source": [
        "#### `df[['column1', 'column2']]`\n",
        "We can also slice a DataFrame by calling multiple column names as one list:"
      ]
    },
    {
      "cell_type": "code",
      "execution_count": null,
      "metadata": {
        "id": "eX05cSQ_Wjoz"
      },
      "outputs": [],
      "source": [
        "df[['movie', 'imdb']]"
      ]
    },
    {
      "cell_type": "markdown",
      "metadata": {
        "id": "hT-DeTVZWjo0"
      },
      "source": [
        "### Looping over DataFrames"
      ]
    },
    {
      "cell_type": "markdown",
      "source": [
        "You might expect that if you loop through a DataFrame, you get all the rows. Sadly, it is not that simple, because we now have data in two dimensions. We instead get all the column names (or the first row of the dataframe):"
      ],
      "metadata": {
        "id": "zgq83jp3fE1W"
      }
    },
    {
      "cell_type": "code",
      "source": [
        "for r in df:\n",
        "    print(r)"
      ],
      "metadata": {
        "id": "zd_rZaWbekwm"
      },
      "execution_count": null,
      "outputs": []
    },
    {
      "cell_type": "markdown",
      "metadata": {
        "id": "fGKJuYDTWjo0"
      },
      "source": [
        "#### `zip(df['column1', df['column2')`\n",
        "Going over these items in a `for` loop needs a different approach. The built-in `zip()` function ([manual](https://docs.python.org/3/library/functions.html#zip)) takes two iterables of even length and creates a new iterable of tuples. The number of arguments/iterables that you give to `zip()` determines the length of the tuples."
      ]
    },
    {
      "cell_type": "code",
      "execution_count": null,
      "metadata": {
        "id": "9NdOQEuXWjo0"
      },
      "outputs": [],
      "source": [
        "list1 = ['a', 'b', 'c']\n",
        "list2 = [1, 2, 3]\n",
        "\n",
        "list(zip(list1, list2))"
      ]
    },
    {
      "cell_type": "code",
      "execution_count": null,
      "metadata": {
        "id": "QA3u6-_oWjo0"
      },
      "outputs": [],
      "source": [
        "n = 0\n",
        "for movie, imdb in zip(df['movie'], df['imdb']):\n",
        "    \n",
        "    if n > 9:\n",
        "        break  # stop flooding the Notebook\n",
        "    \n",
        "    print(movie, \"http://www.imdb.com/title/\" + imdb, sep='\\t')\n",
        "    n += 1"
      ]
    },
    {
      "cell_type": "markdown",
      "metadata": {
        "id": "25eEafp-Wjo0"
      },
      "source": [
        "#### `.to_dict(orient='record')`\n",
        "Or, accessing all entries in a convenient way, as a python dictionary for instance, can be done with the `.to_dict(orient='records')` method:"
      ]
    },
    {
      "cell_type": "code",
      "execution_count": null,
      "metadata": {
        "id": "T6dq7r6wWjo0"
      },
      "outputs": [],
      "source": [
        "df.head(1)"
      ]
    },
    {
      "cell_type": "code",
      "execution_count": null,
      "metadata": {
        "id": "oaeltbGNWjo0"
      },
      "outputs": [],
      "source": [
        "for r in df.to_dict(orient='records'):\n",
        "    \n",
        "    print(r)\n",
        "    print()\n",
        "    \n",
        "    name = r['movie']\n",
        "    year = r['year']\n",
        "    won = r['award_year']\n",
        "    \n",
        "    print(\"The movie \" + name + \" was produced in \" + str(year) + \" and won in \" + str(won) + \".\")\n",
        "    \n",
        "    print()\n",
        "    \n",
        "    break  # To not flood the notebook, only print the first"
      ]
    },
    {
      "cell_type": "markdown",
      "metadata": {
        "id": "0NieFABdWjo1"
      },
      "source": [
        "#### `.iterrows()`\n",
        "Or you can use the `.iterrows()` method, which gives you tuples of the index of the row, and the row itself as `Series` object:"
      ]
    },
    {
      "cell_type": "code",
      "execution_count": null,
      "metadata": {
        "id": "r0hAAQxIWjo1"
      },
      "outputs": [],
      "source": [
        "for n, r in df.iterrows():\n",
        "    \n",
        "    name = r.movie  # You can use a dot notation here\n",
        "    year = r.year\n",
        "    won = r.award_year\n",
        "    \n",
        "    print(f\"The movie {name} was produced in {year} and won in {won}.\")\n",
        "    \n",
        "    print()\n",
        "    \n",
        "    break  # To not flood the notebook, only print the first"
      ]
    },
    {
      "cell_type": "code",
      "execution_count": null,
      "metadata": {
        "id": "8yStX5fpWjo1"
      },
      "outputs": [],
      "source": [
        ""
      ]
    },
    {
      "cell_type": "markdown",
      "metadata": {
        "id": "uABpa0I8Wjo1"
      },
      "source": [
        "---"
      ]
    },
    {
      "cell_type": "markdown",
      "metadata": {
        "id": "X1e4rchVWjo1"
      },
      "source": [
        "### Analysis"
      ]
    },
    {
      "cell_type": "code",
      "execution_count": null,
      "metadata": {
        "id": "cuUKTCx7Wjo1"
      },
      "outputs": [],
      "source": [
        "df"
      ]
    },
    {
      "cell_type": "code",
      "execution_count": null,
      "metadata": {
        "id": "8FKHCM7OWjo1"
      },
      "outputs": [],
      "source": [
        "df.mean()"
      ]
    },
    {
      "cell_type": "markdown",
      "metadata": {
        "id": "1a0kPAJ7Wjo2"
      },
      "source": [
        "You already saw above that you could get statistics by calling `.describe()` on a DataFrame. You can also get these metrics for individual columns. Let's ask the maximum number of male and female actors in the cast of a movie:"
      ]
    },
    {
      "cell_type": "code",
      "execution_count": null,
      "metadata": {
        "id": "NRjrTge4Wjo2"
      },
      "outputs": [],
      "source": [
        "df['female_cast'].max()"
      ]
    },
    {
      "cell_type": "code",
      "execution_count": null,
      "metadata": {
        "id": "fzcZp6p7Wjo2"
      },
      "outputs": [],
      "source": [
        "df['male_cast'].max()"
      ]
    },
    {
      "cell_type": "markdown",
      "metadata": {
        "id": "ouz_x1srWjo2"
      },
      "source": [
        "You can also apply these operations to multiple columns at once. You get a `Series` object back. "
      ]
    },
    {
      "cell_type": "code",
      "execution_count": null,
      "metadata": {
        "id": "HDttAFhqWjo2"
      },
      "outputs": [],
      "source": [
        "df.max()"
      ]
    },
    {
      "cell_type": "code",
      "execution_count": null,
      "metadata": {
        "id": "T0A80PIaWjo2"
      },
      "outputs": [],
      "source": [
        "df[['male_cast', 'female_cast']]"
      ]
    },
    {
      "cell_type": "code",
      "execution_count": null,
      "metadata": {
        "id": "DUhUsvZgWjo2"
      },
      "outputs": [],
      "source": [
        "slice_df = df[['male_cast', 'female_cast']]\n",
        "\n",
        "slice_df.max()"
      ]
    },
    {
      "cell_type": "markdown",
      "metadata": {
        "id": "V78YM6E_Wjo2"
      },
      "source": [
        "To find the corresponding movie title, we can ask Pandas to give us the record in which these maxima occur. This is done through `df.loc`. This works by asking: \"Give me all the locations (=rows) for which a value in a specified column is equal to this value\". "
      ]
    },
    {
      "cell_type": "code",
      "execution_count": null,
      "metadata": {
        "id": "0VQhT1pSWjo3"
      },
      "outputs": [],
      "source": [
        "df"
      ]
    },
    {
      "cell_type": "code",
      "execution_count": null,
      "metadata": {
        "id": "rkpB8cUnWjo3"
      },
      "outputs": [],
      "source": [
        "df[['male_cast', 'female_cast']].max()"
      ]
    },
    {
      "cell_type": "code",
      "execution_count": null,
      "metadata": {
        "id": "CMg5pvGXWjo3"
      },
      "outputs": [],
      "source": [
        "df[df['female_cast'] > 10]"
      ]
    },
    {
      "cell_type": "code",
      "execution_count": null,
      "metadata": {
        "id": "yD04bSNMWjo3"
      },
      "outputs": [],
      "source": [
        "for column_name, value in df[['male_cast', 'female_cast']].max().items():\n",
        "    \n",
        "    print(\"Movie with maximum for\", column_name, value)\n",
        "    \n",
        "    row = df.loc[df[column_name] == value]\n",
        "    \n",
        "    print(row.movie)\n",
        "    \n",
        "    print()"
      ]
    },
    {
      "cell_type": "markdown",
      "metadata": {
        "id": "_AXzYkRKWjo3"
      },
      "source": [
        "Other functions that can be used are for instance `.mean()`, `.median()`, `.std()` and `.sum()`."
      ]
    },
    {
      "cell_type": "code",
      "execution_count": null,
      "metadata": {
        "id": "QUkVzbSxWjo3"
      },
      "outputs": [],
      "source": [
        "df['female_cast'].mean()"
      ]
    },
    {
      "cell_type": "code",
      "execution_count": null,
      "metadata": {
        "id": "L9CJ1tH-Wjo3"
      },
      "outputs": [],
      "source": [
        "df['male_cast'].mean()"
      ]
    },
    {
      "cell_type": "code",
      "execution_count": null,
      "metadata": {
        "id": "Q_zuwCwOWjo4"
      },
      "outputs": [],
      "source": [
        "df['female_cast'].sum()"
      ]
    },
    {
      "cell_type": "code",
      "execution_count": null,
      "metadata": {
        "id": "QUpm-WCSWjo4"
      },
      "outputs": [],
      "source": [
        "df['male_cast'].sum()"
      ]
    },
    {
      "cell_type": "code",
      "execution_count": null,
      "metadata": {
        "id": "VMzPbSj3Wjo4"
      },
      "outputs": [],
      "source": [
        "df"
      ]
    },
    {
      "cell_type": "markdown",
      "metadata": {
        "id": "lQvUj6q-Wjo4"
      },
      "source": [
        "Pandas also understands dates, but you have to tell it to interpret a column as such. We can change the `year` column in-place so that it is not interpreted as integer, but as a date object. \n",
        "\n",
        "In this case, since we only have the year available, and not a full date such as `2021-02-22` (YYYY-mm-dd), we have to specify the format. Typing `%Y` as string is shorthand for `YYYY`. It returns a full date, so every month and day are set to January first. "
      ]
    },
    {
      "cell_type": "code",
      "execution_count": null,
      "metadata": {
        "id": "-WRqzRSHWjo4"
      },
      "outputs": [],
      "source": [
        "df['year'] = pd.to_datetime(df['year'], format='%Y')\n",
        "\n",
        "df['award_year'] = pd.to_datetime(df['award_year'], format='%Y')\n",
        "\n",
        "df['year']\n",
        "\n"
      ]
    },
    {
      "cell_type": "code",
      "execution_count": null,
      "metadata": {
        "id": "kItgHCU7Wjo5"
      },
      "outputs": [],
      "source": [
        "df"
      ]
    },
    {
      "cell_type": "markdown",
      "metadata": {
        "id": "hXWb2goUWjo5"
      },
      "source": [
        "### Plotting\n",
        "\n",
        "Let's try to make some graphs from our data, for instance the number of male/female actors over time. \n",
        "\n",
        "We now have a year column that is interpreted as time by Pandas. These values can figure as values on a x-axis in a graph. The y-axis would then give info on the number of male and female actors in the movie. "
      ]
    },
    {
      "cell_type": "markdown",
      "metadata": {
        "id": "x0j1CQZOWjo5"
      },
      "source": [
        "First, we set an **index** for the DataFrame. This determines how the data can be accessed. Normally, this is a range of 0 untill the number of rows. But, you can change this, so that we can analyse the dataframe on a time index. "
      ]
    },
    {
      "cell_type": "code",
      "execution_count": null,
      "metadata": {
        "id": "CX6uGkiKWjo5"
      },
      "outputs": [],
      "source": [
        "# Select only what we need\n",
        "df_actors = df[['award_year', 'male_cast', 'female_cast']]\n",
        "df_actors"
      ]
    },
    {
      "cell_type": "code",
      "execution_count": null,
      "metadata": {
        "id": "svmSERhbWjo5"
      },
      "outputs": [],
      "source": [
        "df_actors = df_actors.set_index('award_year')\n",
        "df_actors"
      ]
    },
    {
      "cell_type": "markdown",
      "metadata": {
        "id": "NUEZBlGVWjo5"
      },
      "source": [
        "Then simply call `.plot()` on your newly created DataFrame!"
      ]
    },
    {
      "cell_type": "code",
      "execution_count": null,
      "metadata": {
        "id": "RRotJMOQWjo5"
      },
      "outputs": [],
      "source": [
        "df_actors.plot(figsize=(15,10))"
      ]
    },
    {
      "cell_type": "markdown",
      "metadata": {
        "id": "oP7plsOsWjo6"
      },
      "source": [
        "There are tons of parameters, functions, methods, transformations you can use on DataFrames and also on this plotting function. Luckily, plenty of guides and examples can be found on the internet."
      ]
    },
    {
      "cell_type": "markdown",
      "metadata": {
        "id": "nR5U4KjaWjo6"
      },
      "source": [
        "### Grouping"
      ]
    },
    {
      "cell_type": "code",
      "execution_count": null,
      "metadata": {
        "id": "zLuRmVx1Wjo6"
      },
      "outputs": [],
      "source": [
        "df"
      ]
    },
    {
      "cell_type": "markdown",
      "metadata": {
        "id": "EygkWZGPWjo6"
      },
      "source": [
        "Some directors have won multiple Oscars. To find out which, we have to count the number of rows in the DataFrame that include the same director. There is a Pandas function for this: `.count()`. Calling this on the DataFrame itself would give us the total number of rows only, per column. Therefore, we have to tell Pandas that we want to group by a particular column, say 'directors'."
      ]
    },
    {
      "cell_type": "code",
      "execution_count": null,
      "metadata": {
        "id": "hH0vYKNiWjo6"
      },
      "outputs": [],
      "source": [
        "df.groupby('directors')"
      ]
    },
    {
      "cell_type": "markdown",
      "metadata": {
        "id": "4Dz-4n6gWjo6"
      },
      "source": [
        "It does not give back something nicely formatted or interpretable. It's just another Python object. The object returned by `groupby` is a `DataFrameGroupBy` **not** a normal `DataFrame`.\n",
        "\n",
        "However, some methods of the latter work also on the former, e.g. `.head()` and `.tail()`. Let's call the `.count()` on this object:"
      ]
    },
    {
      "cell_type": "code",
      "execution_count": null,
      "metadata": {
        "id": "cI99agV2Wjo6"
      },
      "outputs": [],
      "source": [
        "df.groupby('directors').count()"
      ]
    },
    {
      "cell_type": "markdown",
      "metadata": {
        "id": "qJkhj3qEWjo6"
      },
      "source": [
        "Remember that this counts the numer of rows. As we know that each row is one movie, we can trim this down to:"
      ]
    },
    {
      "cell_type": "code",
      "execution_count": null,
      "metadata": {
        "id": "nUtawB2sWjo6"
      },
      "outputs": [],
      "source": [
        "director_counts = df.groupby('directors').count()['movie']\n",
        "director_counts"
      ]
    },
    {
      "cell_type": "markdown",
      "metadata": {
        "id": "KjZpua8TWjo7"
      },
      "source": [
        "Now, get all directors that have won an Oscar more than once by specifying a conditional operator:"
      ]
    },
    {
      "cell_type": "code",
      "execution_count": null,
      "metadata": {
        "id": "SXHox2feWjo7"
      },
      "outputs": [],
      "source": [
        "director_counts[director_counts > 1]"
      ]
    },
    {
      "cell_type": "code",
      "execution_count": null,
      "metadata": {
        "id": "HlxIajX3Wjo7"
      },
      "outputs": [],
      "source": [
        "list(director_counts.items())"
      ]
    },
    {
      "cell_type": "code",
      "execution_count": null,
      "metadata": {
        "id": "QPhqAJSsWjo7"
      },
      "outputs": [],
      "source": [
        "for i, value in director_counts.items():\n",
        "    print(i, value)"
      ]
    },
    {
      "cell_type": "markdown",
      "metadata": {
        "id": "Wrkro7EtWjo7"
      },
      "source": [
        "### Adding a column"
      ]
    },
    {
      "cell_type": "markdown",
      "metadata": {
        "id": "PVihLONeWjo8"
      },
      "source": [
        "If we want to get the total number of actors per movie, we have to sum the values from the `male_cast` and `female_cast` columns. \n",
        "\n",
        "You can do this in a for loop, by going over every row (like we saw above), but you can also sum the individual columns. Pandas will then add up the values with the same index and will return a new Series of the same length with the values summed. "
      ]
    },
    {
      "cell_type": "code",
      "execution_count": null,
      "metadata": {
        "id": "7CGYHLtdWjo8"
      },
      "outputs": [],
      "source": [
        "df"
      ]
    },
    {
      "cell_type": "code",
      "execution_count": null,
      "metadata": {
        "id": "kgdYTcMkWjo8"
      },
      "outputs": [],
      "source": [
        "df['male_cast'] + df['female_cast']"
      ]
    },
    {
      "cell_type": "code",
      "execution_count": null,
      "metadata": {
        "id": "iZu8HM80Wjo8"
      },
      "outputs": [],
      "source": [
        "total_cast = df['male_cast'] + df['female_cast']\n",
        "total_cast"
      ]
    },
    {
      "cell_type": "markdown",
      "metadata": {
        "id": "LHBoYnnJWjo8"
      },
      "source": [
        "Then, we add it as a column in our original dataframe. The only requirement for adding a column to a DataFrame is that the length of the Series or list is the same as that of the DataFrame. "
      ]
    },
    {
      "cell_type": "code",
      "execution_count": null,
      "metadata": {
        "id": "6to7wyDKWjo8"
      },
      "outputs": [],
      "source": [
        "df['total_cast'] = total_cast\n",
        "df"
      ]
    },
    {
      "cell_type": "markdown",
      "metadata": {
        "id": "vH981_n7Wjo9"
      },
      "source": [
        "Optionally, we can sort the DataFrame by column. For instance, from high to low (`ascending=False`) for the newly created `total_cast` column."
      ]
    },
    {
      "cell_type": "code",
      "execution_count": null,
      "metadata": {
        "id": "3hS0W5q5Wjo9"
      },
      "outputs": [],
      "source": [
        "df_sorted = df.sort_values('total_cast', ascending=False)\n",
        "df_sorted"
      ]
    },
    {
      "cell_type": "markdown",
      "metadata": {
        "id": "NBkSgHX4Wjo9"
      },
      "source": [
        "### Saving back the file"
      ]
    },
    {
      "cell_type": "markdown",
      "metadata": {
        "id": "zhuYIfQOWjo9"
      },
      "source": [
        "Use one of the `.to_csv()` or `.to_excel` functions to save the DataFrame. Again, no `with` statement needed, just a file path (and an encoding)."
      ]
    },
    {
      "cell_type": "code",
      "execution_count": null,
      "metadata": {
        "id": "XhUVyeZnWjo9"
      },
      "outputs": [],
      "source": [
        "df_sorted.to_csv('stuff/academyawards_sum.csv', encoding='utf-8')"
      ]
    },
    {
      "cell_type": "code",
      "execution_count": null,
      "metadata": {
        "id": "IAXnSFHkWjo9"
      },
      "outputs": [],
      "source": [
        "df_sorted.to_excel('stuff/academyawards_sum.xlsx')"
      ]
    },
    {
      "cell_type": "markdown",
      "metadata": {
        "id": "FP13dqU7Wjo-"
      },
      "source": [
        "You need to specify `index=False` if you want to prevent a standard index (0,1,2,3...) to be saved in the file as well. "
      ]
    },
    {
      "cell_type": "code",
      "execution_count": null,
      "metadata": {
        "id": "-eZWRlh7Wjo-"
      },
      "outputs": [],
      "source": [
        "df_sorted.to_csv('stuff/academyawards_sum.csv', encoding='utf-8', index=False)"
      ]
    },
    {
      "cell_type": "markdown",
      "metadata": {
        "id": "IR914S1_Wjo-"
      },
      "source": [
        "Open the contents in Excel, LibreOffice Calc, or another program to read spreadsheets!"
      ]
    },
    {
      "cell_type": "markdown",
      "metadata": {
        "id": "QoyJmpb3Wjo-"
      },
      "source": [
        "---"
      ]
    },
    {
      "cell_type": "markdown",
      "metadata": {
        "id": "rOUj79AmWjo-"
      },
      "source": [
        "# Data wrangling (example)\n",
        "\n",
        "We can take a look at another example. We consider a dataset of tweets from Elon Musk, SpaceX and Tesla founder, and ask the following questions:\n",
        "* When is Elon most actively tweeting?\n",
        "\n",
        "While this question is a bit trivial, it will allow us to learn how to wrangle data."
      ]
    },
    {
      "cell_type": "code",
      "execution_count": null,
      "metadata": {
        "id": "jnR8cCCuWjo-"
      },
      "outputs": [],
      "source": [
        "import pandas as pd"
      ]
    },
    {
      "cell_type": "markdown",
      "metadata": {
        "id": "anjFRsrJWjo-"
      },
      "source": [
        "### Load dataset"
      ]
    },
    {
      "cell_type": "markdown",
      "metadata": {
        "id": "AEkE4d1OWjo_"
      },
      "source": [
        "Let's read in a CSV file containing an export of [Elon Musk's tweets](https://twitter.com/elonmusk), exported from Twitter's API. "
      ]
    },
    {
      "cell_type": "code",
      "execution_count": null,
      "metadata": {
        "id": "zRnIjOf3Wjo_"
      },
      "outputs": [],
      "source": [
        "dataset_path = 'data/elonmusk_tweets.csv'\n",
        "df = pd.read_csv(dataset_path, encoding='utf-8')"
      ]
    },
    {
      "cell_type": "code",
      "execution_count": null,
      "metadata": {
        "id": "yFVsux4FWjo_"
      },
      "outputs": [],
      "source": [
        "df"
      ]
    },
    {
      "cell_type": "code",
      "execution_count": null,
      "metadata": {
        "id": "fqXEcft-WjpA"
      },
      "outputs": [],
      "source": [
        "df.info()"
      ]
    },
    {
      "cell_type": "markdown",
      "metadata": {
        "id": "phSczVrXWjpA"
      },
      "source": [
        "Let's give this dataset a bit more structure:\n",
        "- The `id` column can be transformed into the dataframe's index, thus enabling us e.g. to select a tweet by id;\n",
        "- The column `created_at` contains a timestamp, thus it can easily be converted into a `datetime` value"
      ]
    },
    {
      "cell_type": "code",
      "execution_count": null,
      "metadata": {
        "id": "EQgtlrIVWjpA"
      },
      "outputs": [],
      "source": [
        "df.set_index('id', drop=True, inplace=True)"
      ]
    },
    {
      "cell_type": "code",
      "execution_count": null,
      "metadata": {
        "id": "ItrFglkNWjpB"
      },
      "outputs": [],
      "source": [
        "df"
      ]
    },
    {
      "cell_type": "code",
      "execution_count": null,
      "metadata": {
        "id": "oUmUplYpWjpB"
      },
      "outputs": [],
      "source": [
        "df.created_at = pd.to_datetime(df.created_at)"
      ]
    },
    {
      "cell_type": "code",
      "execution_count": null,
      "metadata": {
        "id": "DjlGsSCKWjpB"
      },
      "outputs": [],
      "source": [
        "df.info()"
      ]
    },
    {
      "cell_type": "code",
      "execution_count": null,
      "metadata": {
        "id": "0DATHvnUWjpB"
      },
      "outputs": [],
      "source": [
        "df"
      ]
    },
    {
      "cell_type": "markdown",
      "metadata": {
        "id": "95sY7ZPfWjpB"
      },
      "source": [
        "---"
      ]
    },
    {
      "cell_type": "markdown",
      "metadata": {
        "id": "fmw2eKvzWjpB"
      },
      "source": [
        "### Selection"
      ]
    },
    {
      "cell_type": "markdown",
      "metadata": {
        "id": "8UfnizmJWjpC"
      },
      "source": [
        "#### Renaming columns"
      ]
    },
    {
      "cell_type": "markdown",
      "metadata": {
        "id": "EZBwFCwuWjpC"
      },
      "source": [
        "An operation on dataframes that you'll find yourself doing very often is to rename the columns. The first way of renaming columns is by manipulating directly the dataframe's index via the `columns` property."
      ]
    },
    {
      "cell_type": "code",
      "execution_count": null,
      "metadata": {
        "id": "WNyjLCyWWjpC"
      },
      "outputs": [],
      "source": [
        "df.columns"
      ]
    },
    {
      "cell_type": "markdown",
      "metadata": {
        "id": "difr2WuLWjpC"
      },
      "source": [
        "We can change the column names by assigning to `columns` a list having as values the new column names.\n",
        "\n",
        "**NB**: the size of the list and new number of colums must match!"
      ]
    },
    {
      "cell_type": "code",
      "execution_count": null,
      "metadata": {
        "id": "U9rk9GMAWjpC"
      },
      "outputs": [],
      "source": [
        "# here we renamed the column `text` => `tweet`\n",
        "df.columns = ['created_at', 'tweet']"
      ]
    },
    {
      "cell_type": "code",
      "execution_count": null,
      "metadata": {
        "id": "0N8Tp9lVWjpC"
      },
      "outputs": [],
      "source": [
        "# let's check that the change did take place\n",
        "df.head()"
      ]
    },
    {
      "cell_type": "markdown",
      "metadata": {
        "id": "bvo42ui6WjpC"
      },
      "source": [
        "The second way of renaming colums is to use the method `rename()` of a dataframe. The `columns` parameter takes a dictionary of mappings between old and new column names.\n",
        "\n",
        "```python\n",
        "mapping_dict = {\n",
        "    \"old_column_name\": \"new_column_name\"\n",
        "}\n",
        "```"
      ]
    },
    {
      "cell_type": "code",
      "execution_count": null,
      "metadata": {
        "id": "uWwroMmuWjpD"
      },
      "outputs": [],
      "source": [
        "# let's change column `tweet` => `text`\n",
        "df = df.rename(columns={\"tweet\": \"text\"})"
      ]
    },
    {
      "cell_type": "code",
      "execution_count": null,
      "metadata": {
        "id": "V9du3B6LWjpD"
      },
      "outputs": [],
      "source": [
        "df.head()"
      ]
    },
    {
      "cell_type": "markdown",
      "metadata": {
        "id": "kX1Clp-LWjpD"
      },
      "source": [
        "**Question**: in which cases is it more convenient to use the second method over the first?"
      ]
    },
    {
      "cell_type": "markdown",
      "metadata": {
        "id": "SSyzgI-KWjpD"
      },
      "source": [
        "#### Selecting columns"
      ]
    },
    {
      "cell_type": "code",
      "execution_count": null,
      "metadata": {
        "id": "xgADy6B_WjpD"
      },
      "outputs": [],
      "source": [
        "# this selects one single column and returns as a Series\n",
        "df[\"created_at\"].head()"
      ]
    },
    {
      "cell_type": "code",
      "execution_count": null,
      "metadata": {
        "id": "2Ts8-demWjpD"
      },
      "outputs": [],
      "source": [
        "type(df[\"created_at\"])"
      ]
    },
    {
      "cell_type": "code",
      "execution_count": null,
      "metadata": {
        "id": "HA8veWZYWjpD"
      },
      "outputs": [],
      "source": [
        "# whereas this syntax selects one single column\n",
        "# but returns a Dataframe\n",
        "df[[\"created_at\"]].head()"
      ]
    },
    {
      "cell_type": "code",
      "execution_count": null,
      "metadata": {
        "id": "VPanFWGVWjpE"
      },
      "outputs": [],
      "source": [
        "type(df[[\"created_at\"]])"
      ]
    },
    {
      "cell_type": "markdown",
      "metadata": {
        "id": "5JVkvqrMWjpF"
      },
      "source": [
        "####  Selecting rows\n",
        "\n",
        "Filtering rows in `pandas` is done by means of `[ ]`, which can contain the row number as well as a condition for the selection."
      ]
    },
    {
      "cell_type": "code",
      "execution_count": null,
      "metadata": {
        "id": "kHmk-0MNWjpF"
      },
      "outputs": [],
      "source": [
        "df[0:2]"
      ]
    },
    {
      "cell_type": "markdown",
      "metadata": {
        "id": "y5WF65O6WjpF"
      },
      "source": [
        "### Transformation\n",
        "\n",
        "\n",
        "The two main functions used to manipulate and transform values in a dataframe are:\n",
        "- `.map()` (on Series only!)\n",
        "- `.apply()`\n",
        "\n",
        "In this section we'll be using both to enrich our datasets with useful information (useful for exploration, for later visualizations, etc.)."
      ]
    },
    {
      "cell_type": "markdown",
      "metadata": {
        "id": "S0vPCd_IWjpF"
      },
      "source": [
        "#### Add link to original tweet"
      ]
    },
    {
      "cell_type": "markdown",
      "metadata": {
        "id": "BOeYNz3uWjpF"
      },
      "source": [
        "The `map()` method can be called on a column, as well as on the dataframe's index.\n",
        "\n",
        "When passed as a parameter to `map`, an 'anonymous' lambda function `lambda` can be used to transform any value from that column into another one.   "
      ]
    },
    {
      "cell_type": "code",
      "execution_count": null,
      "metadata": {
        "id": "WUNAxlZ3WjpF"
      },
      "outputs": [],
      "source": [
        "df['tweet_link'] = df.index.map(lambda x: f'https://twitter.com/i/web/status/{x}')"
      ]
    },
    {
      "cell_type": "markdown",
      "metadata": {
        "id": "DMWT4GB3WjpF"
      },
      "source": [
        "Or, maybe it is easier with a list comprehension:"
      ]
    },
    {
      "cell_type": "code",
      "execution_count": null,
      "metadata": {
        "id": "dFZtLGXPWjpF"
      },
      "outputs": [],
      "source": [
        "df['tweet_link'] = [f'https://twitter.com/i/web/status/{x}' for x in df.index]"
      ]
    },
    {
      "cell_type": "code",
      "execution_count": null,
      "metadata": {
        "id": "qzr3BfiZWjpG"
      },
      "outputs": [],
      "source": [
        "df"
      ]
    },
    {
      "cell_type": "markdown",
      "metadata": {
        "id": "4DGRRkkGWjpG"
      },
      "source": [
        "#### Add colums with mentions"
      ]
    },
    {
      "cell_type": "code",
      "execution_count": null,
      "metadata": {
        "id": "Cn4Hwl_dWjpG"
      },
      "outputs": [],
      "source": [
        "import re\n",
        "\n",
        "def find_mentions(tweet_text):\n",
        "    \"\"\"\n",
        "    Find all @ mentions in a tweet and \n",
        "    return them as a list.\n",
        "    \"\"\"\n",
        "    \n",
        "    regex = r'@[a-zA-Z0-9_]{1,15}'\n",
        "    mentions = re.findall(regex, tweet_text)\n",
        "    \n",
        "    return mentions"
      ]
    },
    {
      "cell_type": "code",
      "execution_count": null,
      "metadata": {
        "id": "i7zFdmncWjpG"
      },
      "outputs": [],
      "source": [
        "df['tweet_mentions'] = df.text.apply(find_mentions)"
      ]
    },
    {
      "cell_type": "code",
      "execution_count": null,
      "metadata": {
        "id": "6S0dTdeCWjpG"
      },
      "outputs": [],
      "source": [
        "df['n_mentions'] = df.tweet_mentions.apply(len)"
      ]
    },
    {
      "cell_type": "code",
      "execution_count": null,
      "metadata": {
        "id": "1n8B7SbfWjpG"
      },
      "outputs": [],
      "source": [
        "df.head()"
      ]
    },
    {
      "cell_type": "markdown",
      "metadata": {
        "id": "SxVP2smVWjpG"
      },
      "source": [
        "#### Add column with week day and hour"
      ]
    },
    {
      "cell_type": "code",
      "execution_count": null,
      "metadata": {
        "id": "YkzyAnI7WjpH"
      },
      "outputs": [],
      "source": [
        "def day_of_week(t):\n",
        "    \"\"\"\n",
        "    Get the week day name from a week day integer.\n",
        "    \"\"\"\n",
        "    \n",
        "    if t == 0:\n",
        "        return \"Monday\"\n",
        "    elif t == 1:\n",
        "        return \"Tuesday\"\n",
        "    elif t == 2:\n",
        "        return \"Wednesday\"\n",
        "    elif t == 3:\n",
        "        return \"Thursday\"\n",
        "    elif t == 4:\n",
        "        return \"Friday\"\n",
        "    elif t == 5:\n",
        "        return \"Saturday\"\n",
        "    elif t == 6:\n",
        "        return \"Sunday\""
      ]
    },
    {
      "cell_type": "code",
      "execution_count": null,
      "metadata": {
        "id": "sWoQi-cTWjpH"
      },
      "outputs": [],
      "source": [
        "df[\"week_day\"] = df.created_at.dt.weekday"
      ]
    },
    {
      "cell_type": "code",
      "execution_count": null,
      "metadata": {
        "id": "zuaqzrMMWjpH"
      },
      "outputs": [],
      "source": [
        "df[\"week_day_name\"] = df[\"week_day\"].apply(day_of_week)"
      ]
    },
    {
      "cell_type": "markdown",
      "metadata": {
        "id": "69U8rYV9WjpH"
      },
      "source": [
        "Or, there is a built-in function in Pandas that gives back the day name:"
      ]
    },
    {
      "cell_type": "code",
      "execution_count": null,
      "metadata": {
        "id": "atR-yXkJWjpH"
      },
      "outputs": [],
      "source": [
        "df[\"week_day_name\"] = df.created_at.dt.day_name()"
      ]
    },
    {
      "cell_type": "code",
      "execution_count": null,
      "metadata": {
        "id": "wEpNKfF_WjpH"
      },
      "outputs": [],
      "source": [
        "df.head(3)"
      ]
    },
    {
      "cell_type": "markdown",
      "metadata": {
        "id": "dNyL9_17WjpH"
      },
      "source": [
        "#### Add column with day hour"
      ]
    },
    {
      "cell_type": "code",
      "execution_count": null,
      "metadata": {
        "id": "9-5fndLAWjpI"
      },
      "outputs": [],
      "source": [
        "df.created_at.dt?"
      ]
    },
    {
      "cell_type": "code",
      "execution_count": null,
      "metadata": {
        "id": "du8-hTt5WjpI"
      },
      "outputs": [],
      "source": [
        "df.created_at.dt.hour.head()"
      ]
    },
    {
      "cell_type": "code",
      "execution_count": null,
      "metadata": {
        "id": "SEa9CxUZWjpI"
      },
      "outputs": [],
      "source": [
        "df[\"day_hour\"] = df.created_at.dt.hour"
      ]
    },
    {
      "cell_type": "code",
      "execution_count": null,
      "metadata": {
        "id": "_d43pcy7WjpI"
      },
      "outputs": [],
      "source": [
        "display_cols = ['created_at', 'week_day', 'day_hour']\n",
        "df[display_cols].head(4)"
      ]
    },
    {
      "cell_type": "markdown",
      "metadata": {
        "id": "TkyG8sbsWjpI"
      },
      "source": [
        "##### Multiple conditions"
      ]
    },
    {
      "cell_type": "code",
      "execution_count": null,
      "metadata": {
        "id": "tVNBk98-WjpJ"
      },
      "outputs": [],
      "source": [
        "# AND condition with `&`\n",
        "\n",
        "df[\n",
        "    (df.week_day_name == 'Saturday') & (df.n_mentions == 0)\n",
        "].shape"
      ]
    },
    {
      "cell_type": "code",
      "execution_count": null,
      "metadata": {
        "id": "P0zJi5oEWjpJ"
      },
      "outputs": [],
      "source": [
        "# Equivalent expression with `query()`\n",
        "\n",
        "df.query(\"week_day_name == 'Saturday' and n_mentions == 0\").shape"
      ]
    },
    {
      "cell_type": "code",
      "execution_count": null,
      "metadata": {
        "id": "CTO1hlNhWjpJ"
      },
      "outputs": [],
      "source": [
        "# OR condition with `|`\n",
        "\n",
        "df[\n",
        "    (df.week_day_name == 'Saturday') | (df.n_mentions == 0)\n",
        "].shape"
      ]
    },
    {
      "cell_type": "markdown",
      "metadata": {
        "id": "kGqH23K5WjpJ"
      },
      "source": [
        "### Aggregation"
      ]
    },
    {
      "cell_type": "code",
      "execution_count": null,
      "metadata": {
        "id": "2JoiqWqnWjpJ"
      },
      "outputs": [],
      "source": [
        "df.agg({'n_mentions': ['min', 'max', 'sum']})"
      ]
    },
    {
      "cell_type": "markdown",
      "metadata": {
        "id": "247FXVzhWjpJ"
      },
      "source": [
        "#### Grouping"
      ]
    },
    {
      "cell_type": "code",
      "execution_count": null,
      "metadata": {
        "id": "qf8jfF1mWjpJ"
      },
      "outputs": [],
      "source": [
        "group_by_day = df.groupby('week_day')"
      ]
    },
    {
      "cell_type": "code",
      "execution_count": null,
      "metadata": {
        "id": "sVDAv-D5WjpK"
      },
      "outputs": [],
      "source": [
        "# The head of a DataFrameGroupBy consists of the first\n",
        "# n records for each group (see `help(grp_by_day.head)`)\n",
        "\n",
        "group_by_day.head(1)"
      ]
    },
    {
      "cell_type": "markdown",
      "metadata": {
        "id": "tWNCOjXtWjpK"
      },
      "source": [
        "`agg` is used to pass an aggregation function to be applied to each group resulting from `groupby`.\n",
        "\n",
        "Here we are interested in how many tweets there are for each group, so we pass `len()` to an 'aggregate'. This is similar to the `.count()` method. "
      ]
    },
    {
      "cell_type": "code",
      "execution_count": null,
      "metadata": {
        "id": "P1ATt8AiWjpK"
      },
      "outputs": [],
      "source": [
        "group_by_day.agg(len)"
      ]
    },
    {
      "cell_type": "markdown",
      "metadata": {
        "id": "wOiN3zPuWjpK"
      },
      "source": [
        "However, we are not interested in having the count for all columns. Rather we want to create a new dataframe with renamed column names."
      ]
    },
    {
      "cell_type": "code",
      "execution_count": null,
      "metadata": {
        "id": "t3avzNHOWjpK"
      },
      "outputs": [],
      "source": [
        "group_by_day.agg({'text': len}).rename({'text': 'tweet_count'}, axis='columns')"
      ]
    },
    {
      "cell_type": "markdown",
      "metadata": {
        "id": "VGArxHedWjpK"
      },
      "source": [
        "##### By label (column)"
      ]
    },
    {
      "cell_type": "markdown",
      "metadata": {
        "id": "HHa_A2Q2WjpK"
      },
      "source": [
        "Previously we've added a column indicating on which day of the week a given tweet appeared."
      ]
    },
    {
      "cell_type": "code",
      "execution_count": null,
      "metadata": {
        "id": "8jZ__JQSWjpL"
      },
      "outputs": [],
      "source": [
        "groupby_result_as_series = df.groupby('day_hour')['text'].count()"
      ]
    },
    {
      "cell_type": "code",
      "execution_count": null,
      "metadata": {
        "id": "BHogxsKsWjpL"
      },
      "outputs": [],
      "source": [
        "groupby_result_as_series"
      ]
    },
    {
      "cell_type": "code",
      "execution_count": null,
      "metadata": {
        "id": "PurAA8tWWjpL"
      },
      "outputs": [],
      "source": [
        "groupby_result_as_df = df.groupby('day_hour')[['text']]\\\n",
        "    .count()\\\n",
        "    .rename({'text': 'count'}, axis='columns')"
      ]
    },
    {
      "cell_type": "code",
      "execution_count": null,
      "metadata": {
        "id": "hHmsRRGrWjpL"
      },
      "outputs": [],
      "source": [
        "groupby_result_as_df.head()"
      ]
    },
    {
      "cell_type": "markdown",
      "metadata": {
        "id": "UUiyZfLJWjpL"
      },
      "source": [
        "##### By series or dict"
      ]
    },
    {
      "cell_type": "code",
      "execution_count": null,
      "metadata": {
        "id": "nl9sj2AHWjpL"
      },
      "outputs": [],
      "source": [
        "df.groupby?"
      ]
    },
    {
      "cell_type": "code",
      "execution_count": null,
      "metadata": {
        "id": "6qh4CJlxWjpL"
      },
      "outputs": [],
      "source": [
        "# here we pass the groups as a series\n",
        "df.groupby(df.created_at.dt.day).agg({'text':len}).head()"
      ]
    },
    {
      "cell_type": "code",
      "execution_count": null,
      "metadata": {
        "id": "_A4snuKTWjpM"
      },
      "outputs": [],
      "source": [
        "# here we pass the groups as a series\n",
        "df.groupby(df.created_at.dt.day)[['text']].count().head()"
      ]
    },
    {
      "cell_type": "code",
      "execution_count": null,
      "metadata": {
        "id": "-0znvZrHWjpM"
      },
      "outputs": [],
      "source": [
        "df.groupby(df.created_at.dt.hour)[['text']].count().head()"
      ]
    },
    {
      "cell_type": "markdown",
      "metadata": {
        "id": "AAeD5HadWjpM"
      },
      "source": [
        "##### By multiple labels (columns)"
      ]
    },
    {
      "cell_type": "code",
      "execution_count": null,
      "metadata": {
        "id": "fT3UrwA3WjpM"
      },
      "outputs": [],
      "source": [
        "# Here we group based on the values of two columns\n",
        "# instead of one\n",
        "\n",
        "x = df.groupby(['week_day', 'day_hour'])[['text']].count()"
      ]
    },
    {
      "cell_type": "code",
      "execution_count": null,
      "metadata": {
        "id": "KpHvHWgWWjpM"
      },
      "outputs": [],
      "source": [
        "x.head()"
      ]
    },
    {
      "cell_type": "markdown",
      "metadata": {
        "id": "z5zgvSBMWjpN"
      },
      "source": [
        "#### Aggregation methods\n",
        "\n",
        "**Summary**:\n",
        "\n",
        "- `count`: Number of non-NA values\n",
        "- `sum`: Sum of non-NA values\n",
        "- `mean`: Mean of non-NA values\n",
        "- `median`: Arithmetic median of non-NA values\n",
        "- `std`, `var`: standard deviation and variance\n",
        "- `min`, `max`: Minimum and maximum of non-NA values"
      ]
    },
    {
      "cell_type": "markdown",
      "metadata": {
        "id": "McaM09oBWjpN"
      },
      "source": [
        "You can also use these in an aggregation functions within a groupby:"
      ]
    },
    {
      "cell_type": "code",
      "execution_count": null,
      "metadata": {
        "id": "Av4JTDaGWjpN"
      },
      "outputs": [],
      "source": [
        "df.groupby('week_day').agg(\n",
        "    {\n",
        "        # each key in this dict specifies\n",
        "        # a given column\n",
        "        'n_mentions':[\n",
        "            # the list contains aggregation functions\n",
        "            # to be applied to this column\n",
        "            'count',\n",
        "            'mean',\n",
        "            'min',\n",
        "            'max',\n",
        "            'std',\n",
        "            'var'\n",
        "        ]\n",
        "    }\n",
        ")"
      ]
    },
    {
      "cell_type": "markdown",
      "metadata": {
        "id": "S03JNmiMWjpN"
      },
      "source": [
        "#### Sorting"
      ]
    },
    {
      "cell_type": "markdown",
      "metadata": {
        "id": "9DS3Y1I_WjpN"
      },
      "source": [
        "To sort the values of  a dataframe we use its `sort_values` method:\n",
        "- `by`: specifies the name of the column to be used for sorting\n",
        "- `ascending` (default = `True`): specifies whether the sorting should be *ascending* (A-Z, 0-9) or `descending` (Z-A, 9-0) "
      ]
    },
    {
      "cell_type": "code",
      "execution_count": null,
      "metadata": {
        "id": "W2xx3qjhWjpN"
      },
      "outputs": [],
      "source": [
        "df.sort_values(by='created_at', ascending=True).head()"
      ]
    },
    {
      "cell_type": "code",
      "execution_count": null,
      "metadata": {
        "id": "Kv9H2D6bWjpO"
      },
      "outputs": [],
      "source": [
        "df.sort_values(by='n_mentions', ascending=False).head()"
      ]
    },
    {
      "cell_type": "markdown",
      "metadata": {
        "id": "kF2g6hKRWjpO"
      },
      "source": [
        "### Save\n",
        "\n",
        "Before continuing with the plotting, let's save our enhanced dataframe, so that we can come back to it without having to redo the same manipulations on it.\n",
        "\n",
        "`pandas` provides a number of handy functions to export dataframes in a variety of formats."
      ]
    },
    {
      "cell_type": "markdown",
      "metadata": {
        "id": "CAXx_eFQWjpO"
      },
      "source": [
        "Here we use `.to_pickle()` to serialize the dataframe into a binary format, by using behind the scenes Python's `pickle` library. "
      ]
    },
    {
      "cell_type": "code",
      "execution_count": null,
      "metadata": {
        "id": "DJcFasz0WjpO"
      },
      "outputs": [],
      "source": [
        "df.to_pickle(\"stuff/musk_tweets_enhanced.pickle\")"
      ]
    },
    {
      "cell_type": "markdown",
      "metadata": {
        "id": "XP15yKiGWjpO"
      },
      "source": [
        "## Part 2"
      ]
    },
    {
      "cell_type": "code",
      "execution_count": null,
      "metadata": {
        "id": "InFDIq1aWjpO"
      },
      "outputs": [],
      "source": [
        "df = pd.read_pickle(\"stuff/musk_tweets_enhanced.pickle\")"
      ]
    },
    {
      "cell_type": "markdown",
      "metadata": {
        "id": "_NV235sBWjpO"
      },
      "source": [
        "### `describe()`"
      ]
    },
    {
      "cell_type": "markdown",
      "metadata": {
        "id": "W8GCeXlrWjpO"
      },
      "source": [
        "The default behavior is to include only column with numerical values"
      ]
    },
    {
      "cell_type": "code",
      "execution_count": null,
      "metadata": {
        "id": "do_rgIRFWjpP"
      },
      "outputs": [],
      "source": [
        "df.describe()"
      ]
    },
    {
      "cell_type": "markdown",
      "metadata": {
        "id": "imeVXNXEWjpP"
      },
      "source": [
        "A trick to include more values is to exclude the datatype on which it breaks, which in our case is `list`. "
      ]
    },
    {
      "cell_type": "code",
      "execution_count": null,
      "metadata": {
        "id": "lWJ-qEuuWjpP"
      },
      "outputs": [],
      "source": [
        "df.describe(exclude=[list])"
      ]
    },
    {
      "cell_type": "code",
      "execution_count": null,
      "metadata": {
        "id": "HVmtrWgAWjpP"
      },
      "outputs": [],
      "source": [
        "df.created_at.describe(datetime_is_numeric=True)"
      ]
    },
    {
      "cell_type": "code",
      "execution_count": null,
      "metadata": {
        "id": "kf56VOrmWjpP"
      },
      "outputs": [],
      "source": [
        "df['week_day_name'] = df['week_day_name'].astype('category')"
      ]
    },
    {
      "cell_type": "code",
      "execution_count": null,
      "metadata": {
        "id": "q9C-ZeKYWjpP"
      },
      "outputs": [],
      "source": [
        "df.describe(exclude=['object'])"
      ]
    },
    {
      "cell_type": "markdown",
      "metadata": {
        "id": "qtuFoYDKWjpP"
      },
      "source": [
        "### Plotting"
      ]
    },
    {
      "cell_type": "code",
      "execution_count": null,
      "metadata": {
        "id": "Ept3KEdqWjpP"
      },
      "outputs": [],
      "source": [
        "# Not needed in newest Pandas version\n",
        "%matplotlib inline \n",
        "\n",
        "import matplotlib.pyplot as plt"
      ]
    },
    {
      "cell_type": "markdown",
      "metadata": {
        "id": "a6a3V4JnWjpQ"
      },
      "source": [
        "#### Histograms\n",
        "\n",
        "They are useful to see the distribution of a certain variable in your dataset."
      ]
    },
    {
      "cell_type": "code",
      "execution_count": null,
      "metadata": {
        "id": "WSIvsnS2WjpQ"
      },
      "outputs": [],
      "source": [
        "df.groupby(['n_mentions'])[['text']].count()"
      ]
    },
    {
      "cell_type": "code",
      "execution_count": null,
      "metadata": {
        "id": "jf8tZ8zeWjpQ"
      },
      "outputs": [],
      "source": [
        "plt.figure(figsize=(10, 6))\n",
        "plt.hist(df.n_mentions, bins='auto', rwidth=1.0)\n",
        "plt.title('Distribution of the number of mentions per tweet')\n",
        "plt.ylabel(\"Tweets\")\n",
        "plt.xlabel(\"Mentions (per tweet)\")\n",
        "plt.show()"
      ]
    },
    {
      "cell_type": "code",
      "execution_count": null,
      "metadata": {
        "id": "Mw3FT2I1WjpQ"
      },
      "outputs": [],
      "source": [
        "plt.figure(figsize=(10, 6))\n",
        "plt.hist(df.day_hour, bins='auto', rwidth=0.6)\n",
        "plt.title('Distribution of the number of mentions per tweet')\n",
        "plt.ylabel(\"Tweets\")\n",
        "plt.xlabel(\"Hour of the day\")\n",
        "plt.show()"
      ]
    },
    {
      "cell_type": "code",
      "execution_count": null,
      "metadata": {
        "id": "1nhigOF3WjpQ"
      },
      "outputs": [],
      "source": [
        "df_2017 = df[df.created_at.dt.year == 2017]"
      ]
    },
    {
      "cell_type": "code",
      "execution_count": null,
      "metadata": {
        "id": "DL5IrIngWjpQ"
      },
      "outputs": [],
      "source": [
        "plt.figure(figsize=(10, 6))\n",
        "plt.hist(df_2017.day_hour, bins='auto', rwidth=0.6)\n",
        "plt.title('Year 2017')\n",
        "plt.ylabel(\"Tweets\")\n",
        "plt.xlabel(\"Hour of the day\")\n",
        "plt.show()"
      ]
    },
    {
      "cell_type": "markdown",
      "metadata": {
        "id": "lY2JtrzhWjpQ"
      },
      "source": [
        "So far we have used directly `matplotlib` to generate our plots.\n",
        "\n",
        "`pandas`'s dataframes provide some methods that directly call `matplotlib`'s API behind the scenes:\n",
        "- `hist()` for histograms\n",
        "- `boxplot()` for boxplots\n",
        "- `plot()` for other types of plots (specified with e.g. `any='scatter'`)"
      ]
    },
    {
      "cell_type": "markdown",
      "metadata": {
        "id": "p_ctcaYrWjpQ"
      },
      "source": [
        "By passing the `by` parameter to e.g. `hist()` it is possible to produce one histogram plot of a given variable for each value in another column."
      ]
    },
    {
      "cell_type": "markdown",
      "metadata": {
        "id": "h35FvUBrWjpR"
      },
      "source": [
        "Let's see how we can plot the number of mentions by year:"
      ]
    },
    {
      "cell_type": "code",
      "execution_count": null,
      "metadata": {
        "id": "fwDZHZOyWjpR"
      },
      "outputs": [],
      "source": [
        "df['year'] = df.created_at.dt.year"
      ]
    },
    {
      "cell_type": "code",
      "execution_count": null,
      "metadata": {
        "id": "qabk8SHKWjpR"
      },
      "outputs": [],
      "source": [
        "axes = df.hist(column='day_hour', by='year', figsize=(10,10))"
      ]
    },
    {
      "cell_type": "markdown",
      "metadata": {
        "id": "KxZG0diqWjpR"
      },
      "source": [
        "#### Bar charts\n",
        "\n",
        "They are useful to plot categorical data."
      ]
    },
    {
      "cell_type": "code",
      "execution_count": null,
      "metadata": {
        "id": "nazqFakwWjpR"
      },
      "outputs": [],
      "source": [
        "plt.bar?"
      ]
    },
    {
      "cell_type": "code",
      "execution_count": null,
      "metadata": {
        "id": "nROj0KQGWjpR"
      },
      "outputs": [],
      "source": [
        "tweets_by_weekday = df.groupby(df.created_at.dt.weekday)[['text']].count()"
      ]
    },
    {
      "cell_type": "code",
      "execution_count": null,
      "metadata": {
        "id": "pHrTiv6GWjpR"
      },
      "outputs": [],
      "source": [
        "week_days = [\n",
        "    \"Mon\",\n",
        "    \"Tue\",\n",
        "    \"Wed\",\n",
        "    \"Thur\",\n",
        "    \"Fri\",\n",
        "    \"Sat\",\n",
        "    \"Sun\"\n",
        "]"
      ]
    },
    {
      "cell_type": "code",
      "execution_count": null,
      "metadata": {
        "id": "u16bx22pWjpS"
      },
      "outputs": [],
      "source": [
        "plt.figure(figsize=(8, 6))\n",
        "\n",
        "# specify the type of plot and the labels\n",
        "# for the y axis (the bars)\n",
        "plt.bar(\n",
        "    tweets_by_weekday.index,\n",
        "    tweets_by_weekday.text,\n",
        "    tick_label=week_days,\n",
        "    width=0.5\n",
        ")\n",
        "\n",
        "# give a title to the plot\n",
        "plt.title('Elon Musk\\'s week on Twitter')\n",
        "\n",
        "# give a label to the axes\n",
        "plt.ylabel(\"Number of tweets\")\n",
        "plt.xlabel(\"Week day\")\n",
        "plt.show()"
      ]
    },
    {
      "cell_type": "markdown",
      "metadata": {
        "id": "or-3iZHkWjpS"
      },
      "source": [
        "#### Box plots\n",
        "\n",
        "![box plot explained](https://github.com/bloemj/2022-coding-the-humanities/blob/master/notebooks/images/eda-boxplot.png?raw=1)"
      ]
    },
    {
      "cell_type": "markdown",
      "metadata": {
        "id": "8diAjB28WjpS"
      },
      "source": [
        "### Outliers, missing values\n",
        "\n",
        "An *outlier* is an observation far from the center of mass of the distribution. It might be an error or a genuine observation: this distinction requires domain knowledge. Outliers infuence the outcomes of several statistics and machine learning methods: it is important to decide how to deal with them.\n",
        "\n",
        "A *missing value* is an observation without a value. There can be many reasons for a missing value: the value might not exist (hence its absence is informative and it should be left empty) or might not be known (hence the value is existing but missing in the dataset and it should be marked as NA).\n",
        "\n",
        "*One way to think about the difference is with this Zen-like koan: An explicit missing value is the presence of an absence; an implicit missing value is the absence of a presence.*"
      ]
    },
    {
      "cell_type": "code",
      "execution_count": null,
      "metadata": {
        "id": "fqQ9M64yWjpS"
      },
      "outputs": [],
      "source": [
        "tweets_by_weekday"
      ]
    },
    {
      "cell_type": "code",
      "execution_count": null,
      "metadata": {
        "id": "MxF7BC66WjpS"
      },
      "outputs": [],
      "source": [
        "tweets_by_weekday.describe()"
      ]
    },
    {
      "cell_type": "code",
      "execution_count": null,
      "metadata": {
        "id": "TMk9HWgKWjpS"
      },
      "outputs": [],
      "source": [
        "tweets_by_weekday.boxplot()"
      ]
    },
    {
      "cell_type": "code",
      "execution_count": null,
      "metadata": {
        "id": "mQynlW_qWjpS"
      },
      "outputs": [],
      "source": [
        "plt.bar?"
      ]
    },
    {
      "cell_type": "code",
      "execution_count": null,
      "metadata": {
        "id": "pWog_GvdWjpS"
      },
      "outputs": [],
      "source": [
        "df.head(3)"
      ]
    },
    {
      "cell_type": "code",
      "execution_count": null,
      "metadata": {
        "id": "qi9qNbwYWjpS"
      },
      "outputs": [],
      "source": [
        "df[['day_hour']].describe()"
      ]
    },
    {
      "cell_type": "code",
      "execution_count": null,
      "metadata": {
        "id": "Abyiaf0RWjpS"
      },
      "outputs": [],
      "source": [
        "df[['day_hour']].quantile(.25)"
      ]
    },
    {
      "cell_type": "code",
      "execution_count": null,
      "metadata": {
        "id": "gWT70MgBWjpT"
      },
      "outputs": [],
      "source": [
        "df.boxplot?"
      ]
    },
    {
      "cell_type": "code",
      "execution_count": null,
      "metadata": {
        "id": "N4DqfJyuWjpT"
      },
      "outputs": [],
      "source": [
        "df[['day_hour', 'week_day_name']].boxplot(\n",
        "    by='week_day_name',\n",
        "    grid=False,\n",
        "    figsize=(8,6),\n",
        "    fontsize=10\n",
        ")\n",
        "\n",
        "# give a title to the plot\n",
        "plt.title('')\n",
        "\n",
        "# give a label to the axes\n",
        "plt.xlabel(\"Day of the week\")\n",
        "plt.show()"
      ]
    },
    {
      "cell_type": "code",
      "execution_count": null,
      "metadata": {
        "id": "OljB9txHWjpT"
      },
      "outputs": [],
      "source": [
        "df[['day_hour', 'week_day']].boxplot(\n",
        "    by='week_day',\n",
        "    grid=True, # just to show the difference with/without\n",
        "    figsize=(8,6),\n",
        "    fontsize=10\n",
        ")\n",
        "\n",
        "# give a title to the plot\n",
        "plt.title('')\n",
        "\n",
        "# give a label to the axes\n",
        "plt.xlabel(\"Day of the week\")\n",
        "plt.show()"
      ]
    },
    {
      "cell_type": "markdown",
      "metadata": {
        "id": "sybT6sNaWjpT"
      },
      "source": [
        "### Exercise 1.\n",
        "\n",
        "* Create a function that calculates the frequency of hashtags in tweets.\n",
        "* Test it on toy examples, to make sure it works.\n",
        "* Apply it to Elon Musk's tweets.\n",
        "* List the top 10 hashtags in the dataset."
      ]
    },
    {
      "cell_type": "code",
      "execution_count": null,
      "metadata": {
        "id": "mkfqkxeSWjpT"
      },
      "outputs": [],
      "source": [
        "# Your code here."
      ]
    },
    {
      "cell_type": "markdown",
      "metadata": {
        "id": "-vE_Pm5rWjpT"
      },
      "source": [
        "### Exercise 2.\n",
        "\n",
        "Read the file `data/adams-hhgttg.txt` and:\n",
        "\n",
        "- Count the number of occurrences per distinct word in the text.\n",
        "\n",
        "- Create a data frame with two columns: word and counts.\n",
        "\n",
        "- Plot the histogram of the word frequencies and think about what is happening."
      ]
    },
    {
      "cell_type": "code",
      "execution_count": null,
      "metadata": {
        "id": "LuDfR5K4WjpT"
      },
      "outputs": [],
      "source": [
        "# Your code here."
      ]
    },
    {
      "cell_type": "markdown",
      "metadata": {
        "id": "XOOk4v2xWjpT"
      },
      "source": [
        "---"
      ]
    }
  ],
  "metadata": {
    "kernelspec": {
      "display_name": "Python 3",
      "language": "python",
      "name": "python3"
    },
    "language_info": {
      "codemirror_mode": {
        "name": "ipython",
        "version": 3
      },
      "file_extension": ".py",
      "mimetype": "text/x-python",
      "name": "python",
      "nbconvert_exporter": "python",
      "pygments_lexer": "ipython3",
      "version": "3.8.8"
    },
    "toc": {
      "base_numbering": 1,
      "nav_menu": {},
      "number_sections": false,
      "sideBar": true,
      "skip_h1_title": false,
      "title_cell": "Table of Contents",
      "title_sidebar": "Contents",
      "toc_cell": false,
      "toc_position": {
        "height": "calc(100% - 180px)",
        "left": "10px",
        "top": "150px",
        "width": "384px"
      },
      "toc_section_display": true,
      "toc_window_display": true
    },
    "colab": {
      "name": "4_PandasDataWrangling.ipynb",
      "provenance": []
    }
  },
  "nbformat": 4,
  "nbformat_minor": 0
}
